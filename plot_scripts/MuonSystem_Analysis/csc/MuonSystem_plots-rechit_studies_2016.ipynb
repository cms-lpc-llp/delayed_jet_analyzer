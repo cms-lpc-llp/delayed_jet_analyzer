{
 "cells": [
  {
   "cell_type": "code",
   "execution_count": 1,
   "metadata": {},
   "outputs": [
    {
     "name": "stdout",
     "output_type": "stream",
     "text": [
      "Welcome to JupyROOT 6.18/02\n",
      "3.6.8 (default, Aug  7 2019, 17:28:10) \n",
      "[GCC 4.8.5 20150623 (Red Hat 4.8.5-39)]\n"
     ]
    }
   ],
   "source": [
    "import ROOT as rt\n",
    "# import root_numpy as rtnp\n",
    "import csv\n",
    "import re\n",
    "import sys\n",
    "import collections\n",
    "\n",
    "from collections import OrderedDict\n",
    "import uproot\n",
    "import awkward\n",
    "import numpy as np\n",
    "import time\n",
    "import numba\n",
    "from numba import jit\n",
    "from matplotlib import pyplot as plt\n",
    "sys.path.append('/nfshome/christiw/llp/delayed_jet_analyzer/lib/')\n",
    "from histo_utilities import create_TH1D, create_TH2D, std_color_list, create_TGraph\n",
    "\n",
    "import CMS_lumi, tdrstyle\n",
    "tdrstyle.setTDRStyle()\n",
    "CMS_lumi.writeExtraText = 0\n",
    "\n",
    "Z_MASS = 91.2\n",
    "\n",
    "\n",
    "# donotdelete = []\n",
    "print(sys.version)"
   ]
  },
  {
   "cell_type": "markdown",
   "metadata": {},
   "source": [
    "# Load ntuples"
   ]
  },
  {
   "cell_type": "code",
   "execution_count": 2,
   "metadata": {},
   "outputs": [
    {
     "name": "stdout",
     "output_type": "stream",
     "text": [
      "bbbb10m /storage/user/christiw/login-1/christiw/LLP/CMSSW_8_0_21/src/cms_lpc_llp/llp_ntupler/displacedJetMuon_ntupler_RunIISummer16_v8.root\n",
      "203427\n",
      "CPU times: user 19.8 s, sys: 4.39 s, total: 24.2 s\n",
      "Wall time: 19.7 s\n"
     ]
    }
   ],
   "source": [
    "%%time\n",
    "\n",
    "fpath_bkg =OrderedDict()\n",
    "tree_bkg = OrderedDict()\n",
    "tree_sig = OrderedDict()\n",
    "fpath_sig =OrderedDict()\n",
    "year = 2016\n",
    "cat = 2\n",
    "if year == 2016:\n",
    "    path = '/storage/user/christiw/login-1/christiw/LLP/CMSSW_8_0_21/src/cms_lpc_llp/llp_ntupler/'\n",
    "    file_name = 'displacedJetMuon_ntupler_RunIISummer16'\n",
    "else:\n",
    "    path = '/storage/user/christiw/login-1/christiw/LLP/CMSSW_9_4_7/src/cms_lpc_llp/llp_ntupler/'\n",
    "    file_name = 'displacedJetMuon_ntupler_RunIIFall17'\n",
    "\n",
    "fpath_bkg['bbbb10m'] = path + file_name+ '_v8.root'\n",
    "\n",
    "\n",
    "\n",
    "# fpath_bkg['bbbb0.1m'] = sig_path + 'WH_HToSSTobbbb_WToLNu_MH-125_MS-40_ctauS-100_TuneCUETP8M1_13TeV-powheg-pythia8_1pb_weighted.root'\n",
    "\n",
    "if year == 2016:lumi = 35.92*1000 #in pb-1\n",
    "elif year == 2017:lumi = 41.53 * 1000\n",
    "else: lumi = 59.74 * 1000\n",
    "    \n",
    "\n",
    "NEvents = {}\n",
    "\n",
    "\n",
    "for k,v in fpath_bkg.items():\n",
    "    print (k, v)\n",
    "#     tree[k] = rtnp.root2array(v)\n",
    "    root_dir = uproot.open(v) \n",
    "\n",
    "    tree_bkg[k] = root_dir['ntuples']['llp']\n",
    "    NEvents[k] = root_dir['ntuples']['NEvents'][1]\n",
    "#     tree[k] = root_dir['ntuples']\n",
    "    a = tree_bkg[k][\"gLLP_csc\"].array()\n",
    "    print(len(a))"
   ]
  },
  {
   "cell_type": "markdown",
   "metadata": {},
   "source": [
    "# legend"
   ]
  },
  {
   "cell_type": "code",
   "execution_count": 3,
   "metadata": {},
   "outputs": [],
   "source": [
    "\n",
    "pdgId = 13\n",
    "\n",
    "trigger_names_file = '/nfshome/christiw/llp/delayed_jet_analyzer/data/trigger_names_llp_v1.dat'\n",
    "trigger_names = []\n",
    "with open(trigger_names_file) as f:\n",
    "    reader = csv.reader(f, delimiter=\" \")\n",
    "    for line in reader:\n",
    "        trigger_names.append(line[2])\n",
    "\n",
    "trigger_paths = [177,362,87,135] #PFMET120\n",
    "\n",
    "\n",
    "# 177 HLT_Mu17_TrkIsoVVL_Mu8_TrkIsoVVL_DZ\n",
    "# 362 HLT_Ele23_Ele12_CaloIdL_TrackIdL_IsoVL_DZ\n",
    "# 310 HLT_PFMET120_PFMHT120_IDTight\n",
    "# 87 HLT_Ele32_WPTight_Gsf\n",
    "# 135 HLT_IsoMu24\n",
    "# 310 PFMET\n",
    "# xsec = {}\n",
    "# xsec['bbbb10m'] = (5.328E-01 + 8.4E-01) *0.324\n",
    "# xsec['bbbb1m'] = (5.328E-01 + 8.4E-01) *0.324\n",
    "# xsec['bbbb0.1m'] = (5.328E-01 + 8.4E-01) *0.324\n",
    "\n",
    "\n",
    "# xsec['WJetsToLNu'] = 61526.7\n",
    "\n",
    "\n",
    "legend = {}\n",
    "legend['bbbb10m'] = 'signal c#tau = 10 m'\n",
    "legend['bbbb1m'] = 'signal c#tau = 1 m'\n",
    "legend['bbbb0.1m'] = 'signal c#tau = 0.1 m'\n",
    "\n",
    "legend['DYJetsToLL'] = 'DYJetsToLL'\n",
    "legend['WJetsToLNu'] = 'WJetsToLNu'"
   ]
  },
  {
   "cell_type": "markdown",
   "metadata": {},
   "source": [
    "# Helper Functions"
   ]
  },
  {
   "cell_type": "code",
   "execution_count": 4,
   "metadata": {},
   "outputs": [],
   "source": [
    "import math\n",
    "def deltaPhi( phi1,  phi2):\n",
    "\n",
    "    dphi = phi1-phi2\n",
    "    while (dphi > math.pi):\n",
    "        dphi -= 2*math.pi\n",
    "  \n",
    "    while (dphi <= -math.pi):\n",
    "        dphi += 2*math.pi\n",
    "    return dphi\n",
    "def deltaR(eta1, phi1, eta2, phi2):\n",
    "    dphi = deltaPhi(phi1,phi2)\n",
    "    deta = eta1 - eta2\n",
    "    return (dphi*dphi + deta*deta)**0.5"
   ]
  },
  {
   "cell_type": "markdown",
   "metadata": {},
   "source": [
    "# Load variables"
   ]
  },
  {
   "cell_type": "code",
   "execution_count": 3,
   "metadata": {
    "slideshow": {
     "slide_type": "notes"
    }
   },
   "outputs": [
    {
     "name": "stdout",
     "output_type": "stream",
     "text": [
      "33567\n",
      "rechits\n",
      "oot-2 0\n",
      "oot-1 0\n",
      "signal 12324\n",
      "oot1 3274\n",
      "oot2 0\n",
      "oot3 0\n",
      "segments\n",
      "oot-2 0\n",
      "oot-1 0\n",
      "signal 11389\n",
      "oot1 2287\n",
      "oot2 0\n",
      "oot3 0\n",
      "33567 33567\n",
      "148537 148537\n",
      "CPU times: user 1min 46s, sys: 2.84 s, total: 1min 48s\n",
      "Wall time: 1min 45s\n"
     ]
    }
   ],
   "source": [
    "%%time\n",
    "\n",
    "JET_PT_CUT = 10\n",
    "MUON_PT_CUT = 20\n",
    "gLLP_csc = {}\n",
    "\n",
    "cscSegClusterSize = {}\n",
    "cscSegClusterTime = {}\n",
    "\n",
    "cscRechitClusterSize = {}\n",
    "cscRechitClusterTime = {}\n",
    "\n",
    "nCscRechitCluster_JetMuonVetoCluster0p4_Me1112Veto = {}\n",
    "nCscSegCluster_JetMuonVetoCluster0p4_Me1112Veto = {}\n",
    "\n",
    "selections_segcluster = {}\n",
    "selections_rechitcluster = {}\n",
    "keys = ['sig','bkg']\n",
    "T = tree_bkg['bbbb10m']\n",
    "for k in keys:\n",
    "    ########### SELECTION: CLUSTERS ############\n",
    "\n",
    "    sel_segcluster = T.array('cscSegClusterMaxStationRatio') > 0.1\n",
    "    sel_segcluster = np.logical_and( sel_segcluster, T.array('cscSegClusterJetVetoPt') < JET_PT_CUT)\n",
    "    sel_segcluster = np.logical_and( sel_segcluster, T.array('cscSegClusterMuonVetoPt') < MUON_PT_CUT)\n",
    "#     sel_segcluster = np.logical_and( sel_segcluster, T.array('cscSegClusterMe11Ratio') < 0.001)\n",
    "#     sel_segcluster = np.logical_and( sel_segcluster, T.array('cscSegClusterMe12Ratio') < 0.001)\n",
    "    sel_segcluster = np.logical_and(sel_segcluster, np.abs(T.array('cscSegClusterMaxChamber')) > 12)\n",
    "    if k == 'bkg':\n",
    "        sel_segcluster = np.logical_and(sel_segcluster, np.logical_not(np.abs(T.array('cscSegCluster_match_gParticle_id')) == 9000006))\n",
    "\n",
    "\n",
    "\n",
    "    sel_segcluster = np.logical_and( sel_segcluster, T.array('cscSegClusterTime') < 22)\n",
    "    sel_segcluster = np.logical_and( sel_segcluster, T.array('cscSegClusterTime') > -12.5)\n",
    "\n",
    "    selections_segcluster['oot-2'] = np.logical_and(sel_segcluster, T.array('cscSegClusterTime') < -28)\n",
    "    selections_segcluster['oot-2'] = np.logical_and(selections_segcluster['oot-2'], T.array('cscSegClusterTime') > -62.5)\n",
    "    \n",
    "    selections_segcluster['oot-1'] = np.logical_and(sel_segcluster, T.array('cscSegClusterTime') < -12.5)\n",
    "    selections_segcluster['oot-1'] = np.logical_and(selections_segcluster['oot-1'], T.array('cscSegClusterTime') > -37.5)\n",
    "    \n",
    "    selections_segcluster['signal'] = np.logical_and( sel_segcluster, T.array('cscSegClusterTime') < 22)\n",
    "    selections_segcluster['signal'] = np.logical_and( selections_segcluster['signal'], T.array('cscSegClusterTime') > -12.5)\n",
    "    \n",
    "    selections_segcluster['oot1'] = np.logical_and( sel_segcluster, T.array('cscSegClusterTime') < 47)\n",
    "    selections_segcluster['oot1'] = np.logical_and( selections_segcluster['oot1'], T.array('cscSegClusterTime') > 12.5)\n",
    "\n",
    "    selections_segcluster['oot2'] = np.logical_and(sel_segcluster, T.array('cscSegClusterTime') < 72)\n",
    "    selections_segcluster['oot2'] = np.logical_and(selections_segcluster['oot2'], T.array('cscSegClusterTime') > 37.5)\n",
    "    \n",
    "    selections_segcluster['oot3'] = np.logical_and(sel_segcluster, T.array('cscSegClusterTime') < 97)\n",
    "    selections_segcluster['oot3'] = np.logical_and(selections_segcluster['oot3'], T.array('cscSegClusterTime') > 62.5)\n",
    "    \n",
    "    sel_rechitcluster = T.array('cscRechitClusterMaxStationRatio') > 0.1\n",
    "    sel_rechitcluster = np.logical_and( sel_rechitcluster, T.array('cscRechitClusterJetVetoPt') < JET_PT_CUT)\n",
    "    sel_rechitcluster = np.logical_and( sel_rechitcluster, T.array('cscRechitClusterMuonVetoPt') < MUON_PT_CUT)\n",
    "#     sel_rechitcluster = np.logical_and( sel_rechitcluster, T.array('cscRechitClusterMe11Ratio') < 0.01)\n",
    "#     sel_rechitcluster = np.logical_and( sel_rechitcluster, T.array('cscRechitClusterMe12Ratio') < 0.01)\n",
    "    sel_rechitcluster = np.logical_and(sel_rechitcluster, np.abs(T.array('cscRechitClusterMaxChamber')) > 12)\n",
    "    sel_rechitcluster = np.logical_and( sel_rechitcluster, T.array('cscRechitClusterTime') < 22)\n",
    "    sel_rechitcluster = np.logical_and( sel_rechitcluster, T.array('cscRechitClusterTime') > -12.5)\n",
    "    if k == 'bkg':\n",
    "        sel_rechitcluster = np.logical_and(sel_rechitcluster, np.logical_not(np.abs(T.array('cscRechitCluster_match_gParticle_id')) == 9000006))\n",
    "    \n",
    "    selections_rechitcluster['oot-2'] = np.logical_and(sel_rechitcluster, T.array('cscRechitClusterTime') < -28)\n",
    "    selections_rechitcluster['oot-2'] = np.logical_and(selections_rechitcluster['oot-2'], T.array('cscRechitClusterTime') > -62.5)\n",
    "    \n",
    "    selections_rechitcluster['oot-1'] = np.logical_and(sel_rechitcluster, T.array('cscRechitClusterTime') < -12.5)\n",
    "    selections_rechitcluster['oot-1'] = np.logical_and(selections_rechitcluster['oot-1'], T.array('cscRechitClusterTime') > -37.5)\n",
    "    \n",
    "    selections_rechitcluster['signal'] = np.logical_and( sel_rechitcluster, T.array('cscRechitClusterTime') < 22)\n",
    "    selections_rechitcluster['signal'] = np.logical_and( selections_rechitcluster['signal'], T.array('cscRechitClusterTime') > -12.5)\n",
    "    \n",
    "    selections_rechitcluster['oot1'] = np.logical_and( sel_rechitcluster, T.array('cscRechitClusterTime') < 47)\n",
    "    selections_rechitcluster['oot1'] = np.logical_and( selections_rechitcluster['oot1'], T.array('cscRechitClusterTime') > 12.5)\n",
    "\n",
    "    selections_rechitcluster['oot2'] = np.logical_and(sel_rechitcluster, T.array('cscRechitClusterTime') < 72)\n",
    "    selections_rechitcluster['oot2'] = np.logical_and(selections_rechitcluster['oot2'], T.array('cscRechitClusterTime') > 37.5)\n",
    "    \n",
    "    selections_rechitcluster['oot3'] = np.logical_and(sel_rechitcluster, T.array('cscRechitClusterTime') < 97)\n",
    "    selections_rechitcluster['oot3'] = np.logical_and(selections_rechitcluster['oot3'], T.array('cscRechitClusterTime') > 62.5)\n",
    "\n",
    "########### SELECTION: EVENTS ############\n",
    "    hlt = T['HLTDecision'].array()\n",
    "    # select only triggered events\n",
    "    sel_ev= np.ones(hlt[:,0].shape, dtype=bool)\n",
    "#     sel_ev= np.zeros(hlt[:,0].shape)\n",
    "#     for tr in trigger_paths:\n",
    "#         sel_ev  = np.logical_or(sel_ev,hlt[:,tr])\n",
    "#     print(np.count_nonzero(sel_ev))\n",
    "    if k == 'sig':\n",
    "        sel_ev = np.logical_and(sel_ev, np.sum(T.array('gLLP_csc'),axis = 1) >= 1)\n",
    "        print(np.count_nonzero(sel_ev))\n",
    "        print(\"rechits\")\n",
    "        for kk, v in selections_rechitcluster.items():\n",
    "            print(kk, np.count_nonzero(np.logical_and(sel_ev, (v.sum()) >= 1)))\n",
    "        print(\"segments\")\n",
    "        for kk, v in selections_segcluster.items():\n",
    "            print(kk, np.count_nonzero(np.logical_and(sel_ev, (v.sum()) >= 1)))\n",
    "    else:\n",
    "        sel_ev = np.logical_and(sel_ev, np.sum(T.array('gLLP_csc'),axis = 1) == 0)\n",
    "        decay_distance0 = np.sqrt(T.array('gLLP_decay_vertex_x')[:,0]**2 + T.array('gLLP_decay_vertex_y')[:,0]**2 + T.array('gLLP_decay_vertex_z')[:,0]**2)\n",
    "        decay_distance1 = np.sqrt(T.array('gLLP_decay_vertex_x')[:,1]**2 + T.array('gLLP_decay_vertex_y')[:,1]**2 + T.array('gLLP_decay_vertex_z')[:,1]**2)\n",
    "        cond1 = np.logical_and(decay_distance0 < 200, decay_distance1 < 200)\n",
    "        cond2 = np.logical_and(np.abs(T.array('gLLP_decay_vertex_z')[:,0]) > 1200, np.abs(T.array('gLLP_decay_vertex_z')[:,1]) > 1200)\n",
    "        sel_ev = np.logical_and(sel_ev, np.logical_or(cond1, cond2))\n",
    "\n",
    "\n",
    "    sel_segev = np.logical_and(sel_ev, (sel_segcluster.sum()) >= 1)\n",
    "    sel_rechitev = np.logical_and(sel_ev, (sel_rechitcluster.sum()) >= 1)\n",
    "\n",
    "\n",
    "    \n",
    "    cscSegClusterSize[k] = T.array('cscSegClusterSize')[sel_segcluster][sel_ev]\n",
    "    cscSegClusterTime[k] = T.array('cscSegClusterTime')[sel_segcluster][sel_ev]\n",
    "    \n",
    "    cscRechitClusterSize[k] = T.array('cscRechitClusterSize')[sel_rechitcluster][sel_ev]\n",
    "    cscRechitClusterTime[k] = T.array('cscRechitClusterTime')[sel_rechitcluster][sel_ev]\n",
    "    \n",
    "    nCscRechitCluster_JetMuonVetoCluster0p4_Me1112Veto[k] = cscRechitClusterSize[k].sum()\n",
    "    nCscSegCluster_JetMuonVetoCluster0p4_Me1112Veto[k] = cscSegClusterSize[k].sum()\n",
    "    \n",
    "    print(len(nCscRechitCluster_JetMuonVetoCluster0p4_Me1112Veto[k]),len(nCscSegCluster_JetMuonVetoCluster0p4_Me1112Veto[k]))"
   ]
  },
  {
   "cell_type": "markdown",
   "metadata": {},
   "source": [
    "# 1D histogram"
   ]
  },
  {
   "cell_type": "code",
   "execution_count": 4,
   "metadata": {},
   "outputs": [
    {
     "name": "stdout",
     "output_type": "stream",
     "text": [
      "33567\n",
      "148537\n",
      "0.12378311157226562\n"
     ]
    },
    {
     "data": {
      "image/png": "[encoded data removed]",
      "text/plain": [
       "<IPython.core.display.Image object>"
      ]
     },
     "metadata": {},
     "output_type": "display_data"
    }
   ],
   "source": [
    "# Plotting ncsc\n",
    "start_t = time.time()\n",
    "c = rt.TCanvas('c','c', 800, 800)\n",
    "h = {}\n",
    "# leg = rt.TLegend(0.50,0.75,0.97,0.93)\n",
    "leg = rt.TLegend(0.75,0.80,0.90,0.90)\n",
    "leg.SetTextSize(0.022)\n",
    "leg.SetBorderSize(0)\n",
    "# leg.SetTextFont(42)\n",
    "leg.SetEntrySeparation(0.01)\n",
    "maximum = 0\n",
    "\n",
    "for i, k in enumerate(keys):\n",
    "\n",
    "    bins = [100,-100,150]\n",
    "#     h[k] = create_TH1D( cscRechitClusterTime[k].flatten(), axis_title=['rechit cluster time [ns]', 'Events'], name=k, binning=bins)\n",
    "    bins = [100,0,2000]\n",
    "#     if k == 'sig': continue\n",
    "    h[k] = create_TH1D( nCscRechitCluster_JetMuonVetoCluster0p4_Me1112Veto[k].flatten(), axis_title=['Number of Rechits', 'Events'], name=k, binning=bins)\n",
    "#     h[k] = create_TH1D( nCscSegCluster_JetMuonVetoCluster0p4_Me1112Veto[k].flatten(), axis_title=['Number of Segments', 'Events'], name=k, binning=[80,0,300])\n",
    "\n",
    "    print(len(nCscRechitCluster_JetMuonVetoCluster0p4_Me1112Veto[k].flatten()))\n",
    "\n",
    "#     h[k] = create_TH1D( cscSegClusterTime[k].flatten(), axis_title=['rechit cluster time [ns]', 'Events'], name=k, binning=bins)\n",
    "    h[k].SetLineColor(std_color_list[i])\n",
    "\n",
    "\n",
    "    leg.AddEntry(h[k], k)\n",
    "    h[k].SetMinimum(0.1)\n",
    "    maximum = max(maximum, h[k].GetMaximum() )\n",
    "    h[k].SetMaximum(maximum * 20)\n",
    "    h[k].GetXaxis().SetLabelSize(0.04)\n",
    "    h[k].DrawNormalized('same hist')\n",
    "#     h['seg'].DrawNormalized('same hist')\n",
    "\n",
    "\n",
    "\n",
    "\n",
    "#     h[k].GetXaxis()\n",
    "\n",
    "\n",
    "leg.Draw()\n",
    "\n",
    "\n",
    "# if setlog: \n",
    "c.SetLogy()\n",
    "c.Draw()\n",
    "print(time.time()-start_t)"
   ]
  },
  {
   "cell_type": "markdown",
   "metadata": {},
   "source": [
    "# compare different bunch crossing"
   ]
  },
  {
   "cell_type": "code",
   "execution_count": 42,
   "metadata": {},
   "outputs": [
    {
     "name": "stdout",
     "output_type": "stream",
     "text": [
      "2.448399066925049\n"
     ]
    },
    {
     "name": "stderr",
     "output_type": "stream",
     "text": [
      "Warning in <TCanvas::Constructor>: Deleting canvas with same name: c\n"
     ]
    },
    {
     "data": {
      "image/png": "[encoded data removed]",
      "text/plain": [
       "<IPython.core.display.Image object>"
      ]
     },
     "metadata": {},
     "output_type": "display_data"
    }
   ],
   "source": [
    "# Plotting ncsc\n",
    "start_t = time.time()\n",
    "c = rt.TCanvas('c','c', 800, 800)\n",
    "h = {}\n",
    "# leg = rt.TLegend(0.50,0.75,0.97,0.93)\n",
    "leg = rt.TLegend(0.75,0.80,0.90,0.90)\n",
    "leg.SetTextSize(0.022)\n",
    "leg.SetBorderSize(0)\n",
    "# leg.SetTextFont(42)\n",
    "leg.SetEntrySeparation(0.01)\n",
    "maximum = 0\n",
    "i = 0\n",
    "for k, v in selections_rechitcluster.items():\n",
    "    if k == 'signal' or k == 'oot1': continue\n",
    "    sel_ev = np.sum(T.array('gLLP_csc'),axis = 1) == 0\n",
    "    decay_distance0 = np.sqrt(T.array('gLLP_decay_vertex_x')[:,0]**2 + T.array('gLLP_decay_vertex_y')[:,0]**2 + T.array('gLLP_decay_vertex_z')[:,0]**2)\n",
    "    decay_distance1 = np.sqrt(T.array('gLLP_decay_vertex_x')[:,1]**2 + T.array('gLLP_decay_vertex_y')[:,1]**2 + T.array('gLLP_decay_vertex_z')[:,1]**2)\n",
    "    cond1 = np.logical_and(decay_distance0 < 100, decay_distance1 < 100)\n",
    "    cond2 = np.logical_and(np.abs(T.array('gLLP_decay_vertex_z')[:,0]) > 1200, np.abs(T.array('gLLP_decay_vertex_z')[:,1]) > 1200)\n",
    "    sel_ev = np.logical_and(sel_ev, np.logical_or(cond1, cond2))\n",
    "    sel_ev = np.logical_and(sel_ev, (v.sum()) >= 1)\n",
    "#     cscRechitClusterSize[k] = T.array('cscSegClusterSize')[v][sel_ev]\n",
    "\n",
    "\n",
    "    cscRechitClusterSize[k] = T.array('cscRechitClusterSize')[v][sel_ev]\n",
    "    bins = [100,-100,150]\n",
    "#     print(cscRechitClusterTime[k].flatten())\n",
    "#     h[k] = create_TH1D( cscRechitClusterTime[k].flatten(), axis_title=['rechit cluster time [ns]', 'Events'], name=k, binning=bins)\n",
    "    bins = [50,0,500]\n",
    "    if k == 'sig': continue\n",
    "    h[k] = create_TH1D( cscRechitClusterSize[k].sum(), axis_title=['nCsc rechits', 'Events'], name=k, binning=bins)\n",
    "#     h[k] = create_TH1D( nCscSegCluster_JetMuonVetoCluster0p4_Me1112Veto[k].flatten(), axis_title=['nCsc rechits', 'Events'], name=k, binning=bins)\n",
    "\n",
    "\n",
    "\n",
    "#     h[k] = create_TH1D( cscSegClusterTime[k].flatten(), axis_title=['rechit cluster time [ns]', 'Events'], name=k, binning=bins)\n",
    "    h[k].SetLineColor(std_color_list[i])\n",
    "\n",
    "\n",
    "    leg.AddEntry(h[k], k)\n",
    "    h[k].SetMinimum(0.1)\n",
    "    maximum = max(maximum, h[k].GetMaximum() )\n",
    "    h[k].SetMaximum(maximum * 2)\n",
    "    h[k].GetXaxis().SetLabelSize(0.04)\n",
    "    h[k].DrawNormalized('same hist')\n",
    "#     h['seg'].DrawNormalized('same hist')\n",
    "\n",
    "    i += 1\n",
    "\n",
    "\n",
    "#     h[k].GetXaxis()\n",
    "\n",
    "\n",
    "leg.Draw()\n",
    "\n",
    "\n",
    "# if setlog: \n",
    "c.SetLogy()\n",
    "c.Draw()\n",
    "print(time.time()-start_t)"
   ]
  },
  {
   "cell_type": "markdown",
   "metadata": {},
   "source": [
    "# ROC Curve"
   ]
  },
  {
   "cell_type": "code",
   "execution_count": 5,
   "metadata": {},
   "outputs": [
    {
     "name": "stdout",
     "output_type": "stream",
     "text": [
      "(180,) (180,)\n",
      "sig RecHits 5121.9655172413795\n",
      "129\n",
      "(74,) (74,)\n",
      "sig Segments 843.9602272727273\n",
      "14\n"
     ]
    },
    {
     "name": "stderr",
     "output_type": "stream",
     "text": [
      "Warning in <TCanvas::Constructor>: Deleting canvas with same name: c\n"
     ]
    },
    {
     "data": {
      "image/png": "[encoded data removed]",
      "text/plain": [
       "<IPython.core.display.Image object>"
      ]
     },
     "metadata": {},
     "output_type": "display_data"
    }
   ],
   "source": [
    "#ROC curve\n",
    "c = rt.TCanvas('c','c', 850, 800)\n",
    "leg = rt.TLegend(0.5,0.80,0.85,0.90)\n",
    "# leg = rt.TLegend(0.3,0.80,0.55,0.90)\n",
    "\n",
    "\n",
    "leg.SetTextSize(0.022)\n",
    "leg.SetBorderSize(0)\n",
    "\n",
    "leg.SetEntrySeparation(0.01)\n",
    "gr = {}\n",
    "\n",
    "var = [nCscRechitCluster_JetMuonVetoCluster0p4_Me1112Veto, nCscSegCluster_JetMuonVetoCluster0p4_Me1112Veto,]\n",
    "name =['RecHits', 'Segments', ]\n",
    "label = ['RecHits', 'Segments',]\n",
    "\n",
    "qcd_key = 'DYJetsToLL'\n",
    "thre = np.array(range(20))*10\n",
    "for i in range(len(var)):\n",
    "    if i == 0:\n",
    "        thre = np.array(range(180))\n",
    "    else:\n",
    "        thre = np.array(range(200))\n",
    "    eff = {}\n",
    "    for k in var[i].keys():\n",
    "        eff[k] = []\n",
    "        for th in thre:\n",
    "            eff[k].append(1.0*np.count_nonzero(var[i][k].flatten()>th)/len(var[i][k].flatten()))\n",
    "        eff[k] = np.array(eff[k])\n",
    "    #Plotting ROC curve\n",
    "    eff['sig'] = eff['sig'][np.logical_not(eff['bkg'] <= 0)]\n",
    "    eff['bkg'] = eff['bkg'][np.logical_not(eff['bkg'] <= 0)]\n",
    "    print(eff['bkg'].shape, eff['sig'].shape)\n",
    "    #         gr[name[i]+sig_k] = create_TGraph(eff[sig_k],eff[qcd_key],axis_title = ['#epsilon_{sig}','background efficiency'])\n",
    "\n",
    "\n",
    "    gr[name[i]] = create_TGraph(np.reciprocal(eff['bkg']),eff['sig'],axis_title = ['background rejection','#epsilon_{sig}'])\n",
    "    gr[name[i]].SetLineColor(std_color_list[i])\n",
    "    gr[name[i]].SetLineWidth(2)\n",
    "    gr[name[i]].GetYaxis().SetTitleOffset(1.5)\n",
    "#     gr[name[i]].GetXaxis().SetRangeUser(1,200)\n",
    "\n",
    "#     gr[name[i]].GetYaxis().SetRangeUser(0.0, 1.0)\n",
    "#         gr[name[i]].GetYaxis().SetRangeUser(1.0/np.max(eff['QCD']), 10000)\n",
    "\n",
    "\n",
    "    leg.AddEntry(gr[name[i]],label[i])\n",
    "\n",
    "    gr[name[i]].Draw('ac' if i==0 else 'c')\n",
    "    gr[name[i]].SetMinimum(0.0)\n",
    "    gr[name[i]].SetMaximum(0.6)\n",
    "    \n",
    "    c.SetLeftMargin(0.2)\n",
    "    leg.Draw()\n",
    "    value = 0.3 #target signal efficiency\n",
    "    ind = np.abs(eff['sig']-value).argmin()\n",
    "#     ind = 110\n",
    "    print('sig',name[i],1.0/eff['bkg'][ind])\n",
    "#         print(name[i],eff[sig_k][ind])\n",
    "    print(thre[ind])\n",
    "\n",
    "c.SetLogx()\n",
    "c.Draw()\n",
    "# c.SaveAs('../plots/timing_studies/compare_timing_definition_ROC.png')"
   ]
  },
  {
   "cell_type": "markdown",
   "metadata": {},
   "source": [
    "# 2D plots per event"
   ]
  },
  {
   "cell_type": "code",
   "execution_count": 75,
   "metadata": {},
   "outputs": [
    {
     "name": "stdout",
     "output_type": "stream",
     "text": [
      "0.004029750823974609\n"
     ]
    },
    {
     "name": "stderr",
     "output_type": "stream",
     "text": [
      "Warning in <TCanvas::Constructor>: Deleting canvas with same name: c\n"
     ]
    },
    {
     "data": {
      "image/png": "[encoded data removed]",
      "text/plain": [
       "<IPython.core.display.Image object>"
      ]
     },
     "metadata": {},
     "output_type": "display_data"
    }
   ],
   "source": [
    "# Plotting ncsc\n",
    "start_t = time.time()\n",
    "c = rt.TCanvas('c','c', 1000, 800)\n",
    "h = {}\n",
    "# leg = rt.TLegend(0.50,0.75,0.97,0.93)\n",
    "leg = rt.TLegend(0.58,0.70,0.94,0.85)\n",
    "leg.SetTextSize(0.022)\n",
    "# leg.SetTextFont(42)\n",
    "leg.SetEntrySeparation(0.01)\n",
    "\n",
    "i = 0\n",
    "k = 'bbbb10m'\n",
    "cond = gLLP_csc[k]\n",
    "# cond = cscDetLayer_nCscSimHits[k]*0+cond\n",
    "# cond = cond.flatten()\n",
    "# h[k] = create_TH2D(np.column_stack((nCscWireDigis[k][cond],nCscRecHits[k][cond])), axis_title = ['nWireDigis','nCscRecHits','Events'], binning=[100,0,800,200,0,3000])\n",
    "# h[k] = create_TH2D(np.column_stack((nCscStripDigis[k][cond],nCscRecHits[k][cond])), axis_title = ['nStripDigis','nCscRecHits','Events'], binning=[100,0,5000,200,0,3000])\n",
    "\n",
    "# h[k] = create_TH2D(np.column_stack((nCscWireDigis[k][cond],nCscSimHits[k][cond])), axis_title = ['nWireDigis','nCscSimHits','Events'], binning=[100,0,800,250,0,3000])\n",
    "h[k] = create_TH2D(np.column_stack((nCscSimHits[k][cond >= 1],nCscStripDigis[k][cond >= 1])), axis_title = ['nCscSimHits','nStripDigis','Events'], binning=[100,0,5000,200,0,3000])\n",
    "\n",
    "# h[k] = create_TH2D(np.column_stack((nCscSimHits[k][cond],nCscRecHits[k][cond])), axis_title = ['nCscSimHits','nCscRecHits','Events'], binning=[150,0,2000,150,0,2000])\n",
    "# h[k] = create_TH2D(np.column_stack((cscDetLayer_nCscSimHits[k].flatten()[cond==0 ], cscDetLayer_nCscRecHits[k].flatten()[cond ==0 ])), axis_title = ['nCscSimHits','nCscRecHits','Events'], binning=[150,0,1000,150,0,600])\n",
    "\n",
    "# h[k] = create_TH2D(np.column_stack((cscDetLayer_nCscSimHits[k].flatten()[cond >= 1 ], cscDetLayer_nWireDigis[k].flatten()[cond >= 1 ])), axis_title = ['nCscSimHits','nCscWireDigis','Events'], binning=[150,0,1000,100,0,100])\n",
    "# h[k] = create_TH2D(np.column_stack((cscDetLayer_nCscSimHits[k].flatten()[cond >= 1 ], cscDetLayer_nStripDigis[k].flatten()[cond >= 1 ])), axis_title = ['nCscSimHits','nCscStripDigis','Events'], binning=[150,0,1000,100,0,100])\n",
    "\n",
    "\n",
    "\n",
    "# h[k] = create_TH2D(np.column_stack((nCscRecHits[k][cond],nCscSimHits[k][cond])), axis_title = ['nCscRecHits','nCscSimHits','Events'], binning=[150,0,2000,150,0,2000])\n",
    "\n",
    "\n",
    "\n",
    "# h[k] = create_TH2D(np.column_stack((nCscStripDigis[k][cond],nCscWireDigis[k][cond])), axis_title = ['nStripDigis','nWireDigis','Events'], binning=[150,0,5000,150,0,800])\n",
    "h[k] = h[k].ProfileX()\n",
    "\n",
    "\n",
    "# r = h[k].Fit('pol1', 'LRSQ+', '', 100,400)\n",
    "# print(r.Get())\n",
    "# print(r.Prob())\n",
    "# h[k].GetFunction(\"pol1\").SetLineColor(std_color_list[2])\n",
    "# h[k].GetFunction(\"pol1\").SetLineWidth(2)\n",
    "\n",
    "h[k].GetXaxis().SetLabelSize(0.04)\n",
    "h[k].GetYaxis().SetTitle('Avg nStripDigi')\n",
    "\n",
    "\n",
    "\n",
    "\n",
    "h[k].SetLineColor(std_color_list[i])\n",
    "# leg.AddEntry(h[k], k)\n",
    "#     h[k].SetMaximum(10E5)\n",
    "#     h[k].SetMinimum(1)\n",
    "h[k].Draw('colz')\n",
    "c.SetRightMargin(0.2)\n",
    "\n",
    "\n",
    "\n",
    "# if setlog: \n",
    "c.SetLogz()\n",
    "c.Draw()\n",
    "print(time.time()-start_t)"
   ]
  },
  {
   "cell_type": "markdown",
   "metadata": {},
   "source": [
    "# 2D plots per layer"
   ]
  },
  {
   "cell_type": "code",
   "execution_count": null,
   "metadata": {},
   "outputs": [],
   "source": [
    "# Plotting ncsc\n",
    "start_t = time.time()\n",
    "c = rt.TCanvas('c','c', 1000, 800)\n",
    "h = {}\n",
    "# leg = rt.TLegend(0.50,0.75,0.97,0.93)\n",
    "leg = rt.TLegend(0.58,0.70,0.94,0.85)\n",
    "leg.SetTextSize(0.022)\n",
    "# leg.SetTextFont(42)\n",
    "leg.SetEntrySeparation(0.01)\n",
    "\n",
    "i = 0\n",
    "k = 'bbbb10m'\n",
    "\n",
    "\n",
    "cond = gLLP_csc[k]\n",
    "cond = cscDetLayer_nCscRecHits[k]*0+cond\n",
    "cond = cond.flatten()\n",
    "cond = (cond == 1)\n",
    "# print(len(cond),np.count_nonzero(cond))\n",
    "# print(len(cscDetLayer_nWireDigis[k].flatten()))\n",
    "# h[k] = create_TH2D(np.column_stack((cscDetLayer_nWireDigis[k].flatten()[cond],cscDetLayer_nCscRecHits[k].flatten()[cond])), axis_title = ['nWireDigis','nCscRecHits','Events'], binning=[100,0,100,100,0,500])\n",
    "\n",
    "# h[k] = create_TH2D(np.column_stack((cscDetLayer_nStripDigis[k].flatten()[cond],cscDetLayer_nCscRecHits[k].flatten()[cond])), axis_title = ['nStripDigis','nCscRecHits','Events'], binning=[50,0,100,50,0,100])\n",
    "\n",
    "\n",
    "# h[k] = create_TH2D(np.column_stack((cscDetLayer_nWireDigis[k].flatten()[cond],cscDetLayer_nCscSimHits[k].flatten()[cond])), axis_title = ['nWireDigis','nCscSimHits','Events'], binning=[100,0,100,250,0,1000])\n",
    "# h[k] = create_TH2D(np.column_stack((nCscStripDigis[k][cond],nCscSimHits[k][cond])), axis_title = ['nStripDigis','nCscSimHits','Events'], binning=[100,0,5000,200,0,3000])\n",
    "\n",
    "h[k] = create_TH2D(np.column_stack((cscDetLayer_nCscRecHits[k].flatten()[cond],cscDetLayer_nCscSimHits[k].flatten()[cond])), axis_title = ['nCscRecHits','nCscSimHits','Events'], binning=[150,0,200,150,0,800])\n",
    "\n",
    "print(np.unique(cscDetLayer_nStripDigis[k].flatten()[cond]))\n",
    "print(np.unique(cscDetLayer_nWireDigis[k].flatten()[cond]))\n",
    "\n",
    "\n",
    "# h[k] = create_TH2D(np.column_stack((nCscStripDigis[k][cond],nCscWireDigis[k][cond])), axis_title = ['nStripDigis','nWireDigis','Events'], binning=[150,0,5000,150,0,800])\n",
    "\n",
    "h[k].GetXaxis().SetLabelSize(0.04)\n",
    "\n",
    "\n",
    "\n",
    "\n",
    "h[k].SetLineColor(std_color_list[i])\n",
    "# leg.AddEntry(h[k], k)\n",
    "#     h[k].SetMaximum(10E5)\n",
    "#     h[k].SetMinimum(1)\n",
    "h[k].Draw('colz')\n",
    "c.SetRightMargin(0.2)\n",
    "\n",
    "\n",
    "\n",
    "# if setlog: \n",
    "c.SetLogz()\n",
    "c.Draw()\n",
    "print(time.time()-start_t)"
   ]
  },
  {
   "cell_type": "markdown",
   "metadata": {},
   "source": [
    "# SimHit distribution per Layer"
   ]
  },
  {
   "cell_type": "code",
   "execution_count": 58,
   "metadata": {},
   "outputs": [
    {
     "name": "stdout",
     "output_type": "stream",
     "text": [
      "20\n",
      "21\n",
      "15\n",
      "19\n",
      "0\n",
      "0\n",
      "[139.24751 137.23349 137.27115 138.99098 138.90771 137.15454 142.48595\n",
      " 143.86221 149.5309  146.94652 147.00357 148.71863 147.03104 146.97783\n",
      " 146.92065 133.37749 140.882   141.11513 134.65558 134.87656]\n",
      "[-530.8045  -531.1113  -530.9534  -528.7419  -528.76105 -526.53644\n",
      " -548.13464 -545.5549  -556.1927  -558.4537  -558.67346 -568.353\n",
      " -559.07477 -557.6948  -557.789   -522.0904  -546.69196 -546.5215\n",
      " -518.37134 -518.3311 ]\n",
      "[490, -13.0, 11.5, 251, -40.0, 35.5]\n",
      "141.65947 -541.9418 -922.9681\n",
      "[[ 2.6142578 13.337219 ]] [[ 39.060913 405.22748 ]] [[ 47.24768 425.5171 ]]\n",
      "20.0 20 [1.0, 1.0, 1.0, 1.0, 1.0, 1.0, 1.0, 1.0, 1.0, 1.0, 1.0, 1.0, 1.0, 1.0, 1.0, 1.0, 1.0, 1.0, 1.0, 1.0]\n",
      "CPU times: user 3.57 s, sys: 2.68 s, total: 6.25 s\n",
      "Wall time: 6.23 s\n"
     ]
    },
    {
     "name": "stderr",
     "output_type": "stream",
     "text": [
      "Warning in <TCanvas::Constructor>: Deleting canvas with same name: c\n",
      "Warning in <TROOT::Append>: Replacing existing TH1: bbbb10m (Potential memory leak).\n"
     ]
    },
    {
     "data": {
      "image/png": "[encoded data removed]",
      "text/plain": [
       "<IPython.core.display.Image object>"
      ]
     },
     "metadata": {},
     "output_type": "display_data"
    }
   ],
   "source": [
    "%%time\n",
    "c = rt.TCanvas('c','c', 1000, 800)\n",
    "h = {}\n",
    "# leg = rt.TLegend(0.50,0.75,0.97,0.93)\n",
    "leg = rt.TLegend(0.58,0.70,0.94,0.85)\n",
    "leg.SetTextSize(0.022)\n",
    "# leg.SetTextFont(42)\n",
    "leg.SetEntrySeparation(0.01)\n",
    "\n",
    "ev = 88785\n",
    "detid = 604058214\n",
    "ev = 134356  \n",
    "detid = 604058858\n",
    "#   22 12 403 647 1\n",
    "\n",
    "#   26 20 177 125 1\n",
    "#   17 0 64 70 1\n",
    "\n",
    "ev_cond = eventNum[k] == ev\n",
    "cond = cscSimHitsDetId[k][ev_cond] == detid+1\n",
    "print(len(cscSimHitsX[k][ev_cond][cscSimHitsDetId[k][ev_cond] == detid+1][0]))\n",
    "print(len(cscSimHitsX[k][ev_cond][cscSimHitsDetId[k][ev_cond] == detid+2][0]))\n",
    "print(len(cscSimHitsX[k][ev_cond][cscSimHitsDetId[k][ev_cond] == detid+3][0]))\n",
    "print(len(cscSimHitsX[k][ev_cond][cscSimHitsDetId[k][ev_cond] == detid-1][0]))\n",
    "print(len(cscSimHitsX[k][ev_cond][cscSimHitsDetId[k][ev_cond] == detid-2][0]))\n",
    "print(len(cscSimHitsX[k][ev_cond][cscSimHitsDetId[k][ev_cond] == detid-3][0]))\n",
    "\n",
    "\n",
    "\n",
    "meanx = np.mean(cscSimHitsX[k][ev_cond][cond][0])\n",
    "meany = np.mean(cscSimHitsY[k][ev_cond][cond][0])\n",
    "meanz = np.mean(cscSimHitsZ[k][ev_cond][cond][0])\n",
    "\n",
    "print(cscSimHitsX[k][ev_cond][cond][0])\n",
    "print(cscSimHitsY[k][ev_cond][cond][0])\n",
    "# print(cscSimHitsParticleType[k][ev_cond][cond][0])\n",
    "# print(cscSimHitsX[k][ev_cond][cond][0][0]-meanx,cscSimHitsY[k][ev_cond][cond][0][0]-meany)\n",
    "xmax = int(np.max(cscSimHitsX[k][ev_cond][cond][0])-meanx) * 1.5 +1\n",
    "xmin = int(np.min(cscSimHitsX[k][ev_cond][cond][0])-meanx) * 1.5 -1\n",
    "ymax = int(np.max(cscSimHitsY[k][ev_cond][cond][0])-meany) * 1.5 +1\n",
    "ymin = int(np.min(cscSimHitsY[k][ev_cond][cond][0])-meany) * 1.5 -1\n",
    "# xmax,xmin,ymax,ymin = 30,-30,20,-20\n",
    "\n",
    "xnbin = (xmax-xmin)/0.05\n",
    "ynbin = (ymax-ymin)/0.3\n",
    "bins = [int(xnbin),xmin,xmax,int(ynbin),ymin,ymax]\n",
    "print(bins)\n",
    "print(meanx,meany,meanz)\n",
    "print(gLLP_decay_vertex_x[k][ev_cond]-meanx, gLLP_decay_vertex_y[k][ev_cond]-meany, gLLP_decay_vertex_z[k][ev_cond]-meanz)\n",
    "h[k] = create_TH2D(np.column_stack((cscSimHitsX[k][ev_cond][cond][0]-meanx,cscSimHitsY[k][ev_cond][cond][0]-meany)), axis_title = ['X[cm]','Y[cm]','Events'], binning=bins)\n",
    "\n",
    "h[k].SetMinimum(.1)\n",
    "h[k].SetMaximum(10)\n",
    "\n",
    "\n",
    "h[k].Draw('colz')\n",
    "c.SetLogz()\n",
    "c.SetRightMargin(0.2)\n",
    "c.Draw()\n",
    "\n",
    "ll = []\n",
    "for i in range(1,h[k].GetNbinsX() + 1):\n",
    "    for j in range(1,h[k].GetNbinsY() + 1):\n",
    "        temp = h[k].GetBinContent(i,j)\n",
    "        if temp > 0:\n",
    "            ll.append(temp)\n",
    "print(sum(ll),len(ll),ll)\n",
    "histo = create_TH1D( ll, axis_title=['nSimHits', 'Events'], name=k, binning=[int(max(ll)),0,int(max(ll))])"
   ]
  },
  {
   "cell_type": "code",
   "execution_count": 59,
   "metadata": {},
   "outputs": [
    {
     "name": "stdout",
     "output_type": "stream",
     "text": [
      "[490, -13.0, 11.5, 251, -40.0, 35.5]\n",
      "141.65947 -541.9418 -922.9681\n",
      "[[ 2.6142578 13.337219 ]] [[ 39.060913 405.22748 ]] [[ 47.24768 425.5171 ]]\n",
      "[-78.8824    -76.30316   -74.19941    -7.184723   -1.6389618   2.8841248\n",
      "  -4.611862    1.0366974   5.6436768  -1.5316925   4.2421417   8.950912 ]\n",
      "9.0 9 [1.0, 1.0, 1.0, 1.0, 1.0, 1.0, 1.0, 1.0, 1.0]\n",
      "CPU times: user 1.3 s, sys: 1.11 s, total: 2.41 s\n",
      "Wall time: 2.4 s\n"
     ]
    },
    {
     "name": "stderr",
     "output_type": "stream",
     "text": [
      "Warning in <TCanvas::Constructor>: Deleting canvas with same name: c\n",
      "Warning in <TROOT::Append>: Replacing existing TH1: bbbb10m (Potential memory leak).\n"
     ]
    },
    {
     "data": {
      "image/png": "[encoded data removed]",
      "text/plain": [
       "<IPython.core.display.Image object>"
      ]
     },
     "metadata": {},
     "output_type": "display_data"
    }
   ],
   "source": [
    "%%time\n",
    "c = rt.TCanvas('c','c', 1000, 800)\n",
    "h = {}\n",
    "# leg = rt.TLegend(0.50,0.75,0.97,0.93)\n",
    "leg = rt.TLegend(0.58,0.70,0.94,0.85)\n",
    "leg.SetTextSize(0.022)\n",
    "# leg.SetTextFont(42)\n",
    "leg.SetEntrySeparation(0.01)\n",
    "\n",
    "# ev = 17344  \n",
    "# detid = 604021398\n",
    "\n",
    "ev_cond = eventNum[k] == ev\n",
    "\n",
    "cond = cscRecHitsDetId[k][ev_cond] == detid\n",
    "\n",
    "\n",
    "# meanx = np.mean(cscRecHitsX[k][ev_cond][cond][0])\n",
    "# meany = np.mean(cscRecHitsY[k][ev_cond][cond][0])\n",
    "# meanz = np.mean(cscRecHitsZ[k][ev_cond][cond][0])\n",
    "\n",
    "\n",
    "# print(cscSimHitsParticleType[k][ev_cond][cond][0])\n",
    "# print(cscSimHitsX[k][ev_cond][cond][0][0]-meanx,cscSimHitsY[k][ev_cond][cond][0][0]-meany)\n",
    "# xmax = int(np.max(cscRecHitsX[k][ev_cond][cond][0])-meanx) * 1.1\n",
    "# xmin = int(np.min(cscRecHitsX[k][ev_cond][cond][0])-meanx) * 1.1\n",
    "# ymax = int(np.max(cscRecHitsY[k][ev_cond][cond][0])-meany) * 1.5 +1\n",
    "# ymin = int(np.min(cscRecHitsY[k][ev_cond][cond][0])-meany) * 1.5 -1\n",
    "# xmax,xmin,ymax,ymin = 40,-40,40,-40\n",
    "\n",
    "# xnbin = (xmax-xmin)\n",
    "# ynbin = (ymax-ymin)\n",
    "# bins = [int(xnbin),xmin,xmax,int(ynbin),ymin,ymax]\n",
    "print(bins)\n",
    "print(meanx,meany,meanz)\n",
    "print(gLLP_decay_vertex_x[k][ev_cond]-meanx, gLLP_decay_vertex_y[k][ev_cond]-meany, gLLP_decay_vertex_z[k][ev_cond]-meanz)\n",
    "h[k] = create_TH2D(np.column_stack((cscRecHitsX[k][ev_cond][cond][0]-meanx,cscRecHitsY[k][ev_cond][cond][0]-meany)), axis_title = ['X[cm]','Y[cm]','Events'], binning=bins)\n",
    "print(cscRecHitsX[k][ev_cond][cond][0]-meanx)\n",
    "h[k].SetMinimum(.1)\n",
    "h[k].SetMaximum(10)\n",
    "\n",
    "\n",
    "h[k].Draw('colz')\n",
    "c.SetLogz()\n",
    "c.SetRightMargin(0.2)\n",
    "# rt.enableJSVis()\n",
    "c.Draw()\n",
    "\n",
    "ll = []\n",
    "for i in range(1,h[k].GetNbinsX() + 1):\n",
    "    for j in range(1,h[k].GetNbinsY() + 1):\n",
    "        temp = h[k].GetBinContent(i,j)\n",
    "        if temp > 0:\n",
    "            ll.append(temp)\n",
    "print(sum(ll),len(ll),ll)\n",
    "histo = create_TH1D( ll, axis_title=['nSimHits', 'Events'], name=k, binning=[int(max(ll)),0,int(max(ll))])"
   ]
  },
  {
   "cell_type": "markdown",
   "metadata": {},
   "source": [
    "# Occupancy plot"
   ]
  },
  {
   "cell_type": "code",
   "execution_count": 53,
   "metadata": {},
   "outputs": [
    {
     "name": "stdout",
     "output_type": "stream",
     "text": [
      "CPU times: user 470 µs, sys: 0 ns, total: 470 µs\n",
      "Wall time: 479 µs\n"
     ]
    },
    {
     "name": "stderr",
     "output_type": "stream",
     "text": [
      "Warning in <TCanvas::Constructor>: Deleting canvas with same name: c\n"
     ]
    },
    {
     "data": {
      "image/png": "[encoded data removed]",
      "text/plain": [
       "<IPython.core.display.Image object>"
      ]
     },
     "metadata": {},
     "output_type": "display_data"
    }
   ],
   "source": [
    "%%time\n",
    "c = rt.TCanvas('c','c', 1000, 800)\n",
    "h = {}\n",
    "# leg = rt.TLegend(0.50,0.75,0.97,0.93)\n",
    "leg = rt.TLegend(0.58,0.70,0.94,0.85)\n",
    "leg.SetTextSize(0.022)\n",
    "# leg.SetTextFont(42)\n",
    "leg.SetEntrySeparation(0.01)\n",
    "\n",
    "\n",
    "\n",
    "\n",
    "histo.DrawNormalized('')\n",
    "c.SetLogy()\n",
    "c.SetRightMargin(0.2)\n",
    "# rt.enableJSVis()\n",
    "c.Draw()\n",
    "\n"
   ]
  },
  {
   "cell_type": "code",
   "execution_count": null,
   "metadata": {},
   "outputs": [],
   "source": []
  },
  {
   "cell_type": "code",
   "execution_count": null,
   "metadata": {},
   "outputs": [],
   "source": []
  },
  {
   "cell_type": "markdown",
   "metadata": {
    "heading_collapsed": true
   },
   "source": [
    "# Occupancy per event"
   ]
  },
  {
   "cell_type": "code",
   "execution_count": null,
   "metadata": {},
   "outputs": [],
   "source": [
    "avg_occupancy = []\n",
    "max_occupancy = []\n",
    "for i in range(len(eventNum[k])):\n",
    "    if len(cscDetLayer_nCscSimHits[k][i]) == 0: continue\n",
    "    max_index = np.argmax(cscDetLayer_nCscSimHits[k][i])\n",
    "\n",
    "#     if cscDetLayer_nCscSimHits[k][i][max_index]>750 and gLLP_csc[k][i] == 1:\n",
    "#         print(ev,cscDetLayer[k][i][max_index],cscDetLayer_nCscSimHits[k][i][max_index], nCscSimHits[k][i], gLLP_csc[k][i])\n",
    "\n",
    "    cond = cscSimHitsDetId[k][ev_cond] == detid\n",
    "    meanx = np.mean(cscSimHitsX[k][ev_cond][cond][0])\n",
    "    meany = np.mean(cscSimHitsY[k][ev_cond][cond][0])\n",
    "    meanz = np.mean(cscSimHitsZ[k][ev_cond][cond][0])\n",
    "\n",
    "    xmax = int(np.max(cscSimHitsX[k][ev_cond][cond][0])-meanx) * 1.1\n",
    "    xmin = int(np.min(cscSimHitsX[k][ev_cond][cond][0])-meanx) * 1.1\n",
    "    ymax = int(np.max(cscSimHitsY[k][ev_cond][cond][0])-meany) * 1.5 +1\n",
    "    ymin = int(np.min(cscSimHitsY[k][ev_cond][cond][0])-meany) * 1.5 -1\n",
    "    # xmax,xmin,ymax,ymin = 20,-20,20,-20\n",
    "\n",
    "    xnbin = (xmax-xmin)/0.05\n",
    "    ynbin = (ymax-ymin)/0.3\n",
    "    bins = [int(xnbin),xmin,xmax,int(ynbin),ymin,ymax]\n",
    "#     print(bins)\n",
    "#     print(meanx,meany,meanz)\n",
    "#     print(gLLP_decay_vertex_x[k][ev_cond]-meanx, gLLP_decay_vertex_y[k][ev_cond]-meany, gLLP_decay_vertex_z[k][ev_cond]-meanz)\n",
    "    h[k] = create_TH2D(np.column_stack((cscSimHitsX[k][ev_cond][cond][0]-meanx,cscSimHitsY[k][ev_cond][cond][0]-meany)), axis_title = ['X[cm]','Y[cm]','Events'], binning=bins)\n",
    "    # print(cscSimHitsY[k][ev_cond][cond][0])\n",
    "\n",
    "\n",
    "    ll = []\n",
    "    for i in range(1,h[k].GetNbinsX() + 1):\n",
    "        for j in range(1,h[k].GetNbinsY() + 1):\n",
    "            temp = h[k].GetBinContent(i,j)\n",
    "            if temp > 0:\n",
    "                ll.append(temp)\n",
    "    print(sum(ll),ll)\n",
    "    histo = create_TH1D( ll, axis_title=['nSimHits', 'Events'], name=k, binning=[int(max(ll)),0,int(max(ll))])"
   ]
  }
 ],
 "metadata": {
  "kernelspec": {
   "display_name": "Python 3",
   "language": "python",
   "name": "python3"
  },
  "language_info": {
   "codemirror_mode": {
    "name": "ipython",
    "version": 3
   },
   "file_extension": ".py",
   "mimetype": "text/x-python",
   "name": "python",
   "nbconvert_exporter": "python",
   "pygments_lexer": "ipython3",
   "version": "3.6.8"
  }
 },
 "nbformat": 4,
 "nbformat_minor": 4
}
