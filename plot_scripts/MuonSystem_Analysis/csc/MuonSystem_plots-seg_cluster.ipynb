{
 "cells": [
  {
   "cell_type": "code",
   "execution_count": 1,
   "metadata": {},
   "outputs": [
    {
     "name": "stdout",
     "output_type": "stream",
     "text": [
      "Welcome to JupyROOT 6.22/02\n",
      "3.6.8 (default, Apr  2 2020, 13:34:55) \n",
      "[GCC 4.8.5 20150623 (Red Hat 4.8.5-39)]\n"
     ]
    }
   ],
   "source": [
    "# use segment cluster to optimize for jet/muon veto PT cuts\n",
    "\n",
    "import ROOT as rt\n",
    "# import root_numpy as rtnp\n",
    "import csv\n",
    "import re\n",
    "import sys\n",
    "import collections\n",
    "\n",
    "from collections import OrderedDict\n",
    "import uproot\n",
    "import pandas as pd\n",
    "\n",
    "import scipy\n",
    "import awkward\n",
    "import numpy as np\n",
    "import time\n",
    "import numba\n",
    "from numba import jit\n",
    "from matplotlib import pyplot as plt\n",
    "sys.path.append('/storage/user/christiw/gpu/christiw/llp/delayed_jet_analyzer/lib/')\n",
    "from histo_utilities import create_TH1D, create_TH2D, std_color_list, create_TGraph, make_ratio_plot\n",
    "\n",
    "import CMS_lumi, tdrstyle\n",
    "tdrstyle.setTDRStyle()\n",
    "CMS_lumi.writeExtraText = 0\n",
    "\n",
    "wH = 1\n",
    "Z_MASS = 91.2\n",
    "\n",
    "\n",
    "# donotdelete = []\n",
    "print(sys.version)"
   ]
  },
  {
   "cell_type": "markdown",
   "metadata": {},
   "source": [
    "# Load ntuples"
   ]
  },
  {
   "cell_type": "code",
   "execution_count": 2,
   "metadata": {},
   "outputs": [
    {
     "name": "stdout",
     "output_type": "stream",
     "text": [
      "full 137.0\n",
      "bkg /mnt/hadoop/store/group/phys_exotica/delayedjets/displacedJetMuonAnalyzer/csc/V1p17//MC_Summer16/v1/v6//normalized/WJetsToLNu_HT-70ToInf_TuneCUETP8M1_13TeV-madgraphMLM-pythia8_1pb_weighted.root\n",
      "NEvents 171636960.0\n",
      "weights [2.08722918e-03 3.20567849e-02 1.12514733e-01 1.16454453e-01\n",
      " 1.09996940e+00 1.50384537e+00 2.80531441e+00]\n",
      "8300.06380006671\n",
      "50735\n",
      "signal /storage/user/christiw/login-1/christiw/LLP/CMSSW_9_4_4/src/llp_analyzer/scripts/signal.root\n"
     ]
    },
    {
     "ename": "FileNotFoundError",
     "evalue": "[Errno 2] No such file or directory: '/storage/user/christiw/login-1/christiw/LLP/CMSSW_9_4_4/src/llp_analyzer/scripts/signal.root'",
     "output_type": "error",
     "traceback": [
      "\u001b[0;31m---------------------------------------------------------------------------\u001b[0m",
      "\u001b[0;31mFileNotFoundError\u001b[0m                         Traceback (most recent call last)",
      "\u001b[0;32m<ipython-input-2-8ed2fb50d56f>\u001b[0m in \u001b[0;36m<module>\u001b[0;34m\u001b[0m\n\u001b[1;32m     27\u001b[0m     \u001b[0mprint\u001b[0m \u001b[0;34m(\u001b[0m\u001b[0mk\u001b[0m\u001b[0;34m,\u001b[0m \u001b[0mv\u001b[0m\u001b[0;34m)\u001b[0m\u001b[0;34m\u001b[0m\u001b[0;34m\u001b[0m\u001b[0m\n\u001b[1;32m     28\u001b[0m \u001b[0;34m\u001b[0m\u001b[0m\n\u001b[0;32m---> 29\u001b[0;31m     \u001b[0mroot_dir\u001b[0m \u001b[0;34m=\u001b[0m \u001b[0muproot\u001b[0m\u001b[0;34m.\u001b[0m\u001b[0mopen\u001b[0m\u001b[0;34m(\u001b[0m\u001b[0mv\u001b[0m\u001b[0;34m)\u001b[0m\u001b[0;34m\u001b[0m\u001b[0;34m\u001b[0m\u001b[0m\n\u001b[0m\u001b[1;32m     30\u001b[0m \u001b[0;34m\u001b[0m\u001b[0m\n\u001b[1;32m     31\u001b[0m     \u001b[0mtree_bkg\u001b[0m\u001b[0;34m[\u001b[0m\u001b[0mk\u001b[0m\u001b[0;34m]\u001b[0m \u001b[0;34m=\u001b[0m \u001b[0mroot_dir\u001b[0m\u001b[0;34m[\u001b[0m\u001b[0;34m'MuonSystem'\u001b[0m\u001b[0;34m]\u001b[0m\u001b[0;34m\u001b[0m\u001b[0;34m\u001b[0m\u001b[0m\n",
      "\u001b[0;32m/usr/local/lib/python3.6/site-packages/uproot/rootio.py\u001b[0m in \u001b[0;36mopen\u001b[0;34m(path, localsource, xrootdsource, httpsource, **options)\u001b[0m\n\u001b[1;32m     52\u001b[0m         \u001b[0;32melse\u001b[0m\u001b[0;34m:\u001b[0m\u001b[0;34m\u001b[0m\u001b[0;34m\u001b[0m\u001b[0m\n\u001b[1;32m     53\u001b[0m             \u001b[0mopenfcn\u001b[0m \u001b[0;34m=\u001b[0m \u001b[0mlocalsource\u001b[0m\u001b[0;34m\u001b[0m\u001b[0;34m\u001b[0m\u001b[0m\n\u001b[0;32m---> 54\u001b[0;31m         \u001b[0;32mreturn\u001b[0m \u001b[0mROOTDirectory\u001b[0m\u001b[0;34m.\u001b[0m\u001b[0mread\u001b[0m\u001b[0;34m(\u001b[0m\u001b[0mopenfcn\u001b[0m\u001b[0;34m(\u001b[0m\u001b[0mpath\u001b[0m\u001b[0;34m)\u001b[0m\u001b[0;34m,\u001b[0m \u001b[0;34m**\u001b[0m\u001b[0moptions\u001b[0m\u001b[0;34m)\u001b[0m\u001b[0;34m\u001b[0m\u001b[0;34m\u001b[0m\u001b[0m\n\u001b[0m\u001b[1;32m     55\u001b[0m \u001b[0;34m\u001b[0m\u001b[0m\n\u001b[1;32m     56\u001b[0m     \u001b[0;32melif\u001b[0m \u001b[0m_bytesid\u001b[0m\u001b[0;34m(\u001b[0m\u001b[0mparsed\u001b[0m\u001b[0;34m.\u001b[0m\u001b[0mscheme\u001b[0m\u001b[0;34m)\u001b[0m \u001b[0;34m==\u001b[0m \u001b[0;34mb\"root\"\u001b[0m\u001b[0;34m:\u001b[0m\u001b[0;34m\u001b[0m\u001b[0;34m\u001b[0m\u001b[0m\n",
      "\u001b[0;32m/usr/local/lib/python3.6/site-packages/uproot/rootio.py\u001b[0m in \u001b[0;36m<lambda>\u001b[0;34m(path)\u001b[0m\n\u001b[1;32m     49\u001b[0m                 \u001b[0;32mif\u001b[0m \u001b[0mn\u001b[0m \u001b[0;32min\u001b[0m \u001b[0moptions\u001b[0m\u001b[0;34m:\u001b[0m\u001b[0;34m\u001b[0m\u001b[0;34m\u001b[0m\u001b[0m\n\u001b[1;32m     50\u001b[0m                     \u001b[0mkwargs\u001b[0m\u001b[0;34m[\u001b[0m\u001b[0mn\u001b[0m\u001b[0;34m]\u001b[0m \u001b[0;34m=\u001b[0m \u001b[0moptions\u001b[0m\u001b[0;34m.\u001b[0m\u001b[0mpop\u001b[0m\u001b[0;34m(\u001b[0m\u001b[0mn\u001b[0m\u001b[0;34m)\u001b[0m\u001b[0;34m\u001b[0m\u001b[0;34m\u001b[0m\u001b[0m\n\u001b[0;32m---> 51\u001b[0;31m             \u001b[0mopenfcn\u001b[0m \u001b[0;34m=\u001b[0m \u001b[0;32mlambda\u001b[0m \u001b[0mpath\u001b[0m\u001b[0;34m:\u001b[0m \u001b[0mMemmapSource\u001b[0m\u001b[0;34m(\u001b[0m\u001b[0mpath\u001b[0m\u001b[0;34m,\u001b[0m \u001b[0;34m**\u001b[0m\u001b[0mkwargs\u001b[0m\u001b[0;34m)\u001b[0m\u001b[0;34m\u001b[0m\u001b[0;34m\u001b[0m\u001b[0m\n\u001b[0m\u001b[1;32m     52\u001b[0m         \u001b[0;32melse\u001b[0m\u001b[0;34m:\u001b[0m\u001b[0;34m\u001b[0m\u001b[0;34m\u001b[0m\u001b[0m\n\u001b[1;32m     53\u001b[0m             \u001b[0mopenfcn\u001b[0m \u001b[0;34m=\u001b[0m \u001b[0mlocalsource\u001b[0m\u001b[0;34m\u001b[0m\u001b[0;34m\u001b[0m\u001b[0m\n",
      "\u001b[0;32m/usr/local/lib/python3.6/site-packages/uproot/source/memmap.py\u001b[0m in \u001b[0;36m__init__\u001b[0;34m(self, path)\u001b[0m\n\u001b[1;32m     19\u001b[0m     \u001b[0;32mdef\u001b[0m \u001b[0m__init__\u001b[0m\u001b[0;34m(\u001b[0m\u001b[0mself\u001b[0m\u001b[0;34m,\u001b[0m \u001b[0mpath\u001b[0m\u001b[0;34m)\u001b[0m\u001b[0;34m:\u001b[0m\u001b[0;34m\u001b[0m\u001b[0;34m\u001b[0m\u001b[0m\n\u001b[1;32m     20\u001b[0m         \u001b[0mself\u001b[0m\u001b[0;34m.\u001b[0m\u001b[0mpath\u001b[0m \u001b[0;34m=\u001b[0m \u001b[0mos\u001b[0m\u001b[0;34m.\u001b[0m\u001b[0mpath\u001b[0m\u001b[0;34m.\u001b[0m\u001b[0mexpanduser\u001b[0m\u001b[0;34m(\u001b[0m\u001b[0mpath\u001b[0m\u001b[0;34m)\u001b[0m\u001b[0;34m\u001b[0m\u001b[0;34m\u001b[0m\u001b[0m\n\u001b[0;32m---> 21\u001b[0;31m         \u001b[0mself\u001b[0m\u001b[0;34m.\u001b[0m\u001b[0m_source\u001b[0m \u001b[0;34m=\u001b[0m \u001b[0mnumpy\u001b[0m\u001b[0;34m.\u001b[0m\u001b[0mmemmap\u001b[0m\u001b[0;34m(\u001b[0m\u001b[0mself\u001b[0m\u001b[0;34m.\u001b[0m\u001b[0mpath\u001b[0m\u001b[0;34m,\u001b[0m \u001b[0mdtype\u001b[0m\u001b[0;34m=\u001b[0m\u001b[0mnumpy\u001b[0m\u001b[0;34m.\u001b[0m\u001b[0muint8\u001b[0m\u001b[0;34m,\u001b[0m \u001b[0mmode\u001b[0m\u001b[0;34m=\u001b[0m\u001b[0;34m\"r\"\u001b[0m\u001b[0;34m)\u001b[0m\u001b[0;34m\u001b[0m\u001b[0;34m\u001b[0m\u001b[0m\n\u001b[0m\u001b[1;32m     22\u001b[0m         \u001b[0mself\u001b[0m\u001b[0;34m.\u001b[0m\u001b[0mclosed\u001b[0m \u001b[0;34m=\u001b[0m \u001b[0;32mFalse\u001b[0m\u001b[0;34m\u001b[0m\u001b[0;34m\u001b[0m\u001b[0m\n\u001b[1;32m     23\u001b[0m \u001b[0;34m\u001b[0m\u001b[0m\n",
      "\u001b[0;32m/usr/local/lib64/python3.6/site-packages/numpy/core/memmap.py\u001b[0m in \u001b[0;36m__new__\u001b[0;34m(subtype, filename, dtype, mode, offset, shape, order)\u001b[0m\n\u001b[1;32m    223\u001b[0m             \u001b[0mf_ctx\u001b[0m \u001b[0;34m=\u001b[0m \u001b[0mcontextlib_nullcontext\u001b[0m\u001b[0;34m(\u001b[0m\u001b[0mfilename\u001b[0m\u001b[0;34m)\u001b[0m\u001b[0;34m\u001b[0m\u001b[0;34m\u001b[0m\u001b[0m\n\u001b[1;32m    224\u001b[0m         \u001b[0;32melse\u001b[0m\u001b[0;34m:\u001b[0m\u001b[0;34m\u001b[0m\u001b[0;34m\u001b[0m\u001b[0m\n\u001b[0;32m--> 225\u001b[0;31m             \u001b[0mf_ctx\u001b[0m \u001b[0;34m=\u001b[0m \u001b[0mopen\u001b[0m\u001b[0;34m(\u001b[0m\u001b[0mos_fspath\u001b[0m\u001b[0;34m(\u001b[0m\u001b[0mfilename\u001b[0m\u001b[0;34m)\u001b[0m\u001b[0;34m,\u001b[0m \u001b[0;34m(\u001b[0m\u001b[0;34m'r'\u001b[0m \u001b[0;32mif\u001b[0m \u001b[0mmode\u001b[0m \u001b[0;34m==\u001b[0m \u001b[0;34m'c'\u001b[0m \u001b[0;32melse\u001b[0m \u001b[0mmode\u001b[0m\u001b[0;34m)\u001b[0m\u001b[0;34m+\u001b[0m\u001b[0;34m'b'\u001b[0m\u001b[0;34m)\u001b[0m\u001b[0;34m\u001b[0m\u001b[0;34m\u001b[0m\u001b[0m\n\u001b[0m\u001b[1;32m    226\u001b[0m \u001b[0;34m\u001b[0m\u001b[0m\n\u001b[1;32m    227\u001b[0m         \u001b[0;32mwith\u001b[0m \u001b[0mf_ctx\u001b[0m \u001b[0;32mas\u001b[0m \u001b[0mfid\u001b[0m\u001b[0;34m:\u001b[0m\u001b[0;34m\u001b[0m\u001b[0;34m\u001b[0m\u001b[0m\n",
      "\u001b[0;31mFileNotFoundError\u001b[0m: [Errno 2] No such file or directory: '/storage/user/christiw/login-1/christiw/LLP/CMSSW_9_4_4/src/llp_analyzer/scripts/signal.root'"
     ]
    }
   ],
   "source": [
    "fpath_bkg =OrderedDict()\n",
    "tree_bkg = OrderedDict()\n",
    "tree_sig = OrderedDict()\n",
    "fpath_sig =OrderedDict()\n",
    "\n",
    "\n",
    "start_t = time.time()\n",
    "data_year = 'full'\n",
    "pdgId = 13\n",
    "category = 0\n",
    "OLD_CTAU = 100 #cm\n",
    "\n",
    "\n",
    "\n",
    "ntupler_version = 'V1p17/'\n",
    "analyzer_version = 'v1/v6/' \n",
    "mc_path = '/mnt/hadoop/store/group/phys_exotica/delayedjets/displacedJetMuonAnalyzer/csc/'+ntupler_version+'/MC_Summer16/'+analyzer_version+'/normalized/'\n",
    "fpath_bkg['bkg'] = mc_path + 'WJetsToLNu_HT-70ToInf_TuneCUETP8M1_13TeV-madgraphMLM-pythia8_1pb_weighted.root'\n",
    "fpath_bkg['signal'] = '/storage/user/christiw/login-1/christiw/LLP/CMSSW_9_4_4/src/llp_analyzer/scripts/signal.root' #hadd of all signal ggh->bb v1/v6\n",
    "lumi = 137000\n",
    "\n",
    "\n",
    "NEvents = {}\n",
    "print(data_year, lumi/1000)\n",
    "NEvents_genweight = {}\n",
    "for k,v in fpath_bkg.items():\n",
    "    print (k, v)\n",
    "   \n",
    "    root_dir = uproot.open(v) \n",
    "\n",
    "    tree_bkg[k] = root_dir['MuonSystem']\n",
    "    NEvents[k] = root_dir['NEvents'][1]\n",
    "#     tree[k] = root_dir['ntuples']\n",
    "    a = tree_bkg[k][\"weight\"].array()\n",
    "    print(\"NEvents\",NEvents[k])\n",
    "\n",
    "\n",
    "    print ('weights',np.unique(a)*lumi)\n",
    "    print(np.sum(a)*lumi)\n",
    "    print(len(a))\n",
    "\n"
   ]
  },
  {
   "cell_type": "markdown",
   "metadata": {},
   "source": [
    "# Load trigger"
   ]
  },
  {
   "cell_type": "code",
   "execution_count": 3,
   "metadata": {},
   "outputs": [],
   "source": [
    "trigger_names_file = '/storage/user/christiw/login-1/christiw/LLP/CMSSW_9_4_4/src/llp_analyzer/data/trigger_names_llp_v1.dat'\n",
    "trigger_names = []\n",
    "with open(trigger_names_file) as f:\n",
    "    reader = csv.reader(f, delimiter=\" \")\n",
    "    for line in reader:\n",
    "        trigger_names.append(line[2])\n",
    "# if wH:\n",
    "#     trigger_paths = [87,135,136] #PFMET120\n",
    "# #     elif data_year == 2017: trigger_paths = [87,136] #PFMET120\n",
    "# else:\n",
    "trigger_paths = [177,362,87,135,136] #PFMET120\n",
    "trigger_paths += [84,91]\n",
    "if category == 0:\n",
    "    trigger_paths = [310]\n"
   ]
  },
  {
   "cell_type": "markdown",
   "metadata": {},
   "source": [
    "# load bdt"
   ]
  },
  {
   "cell_type": "code",
   "execution_count": 4,
   "metadata": {},
   "outputs": [
    {
     "name": "stdout",
     "output_type": "stream",
     "text": [
      "[0.00388803]\n"
     ]
    }
   ],
   "source": [
    "# make predictions for test data\n",
    "\n",
    "import pickle\n",
    "# model = pickle.load(open( 'bdt_flatten_noEvtSelection.pickle.dat', \"rb\" ))\n",
    "bdt_name = 'bdt_flatten_metfilter_me1112nohits_eta2p1_testsize0p2_abs_XYspread_v12'\n",
    "model = pickle.load(open( bdt_name+'.pickle', \"rb\" ))\n",
    "y_pred = model.predict_proba([1,2,3,4,4,5,6])[:, 1]\n",
    "print (y_pred)\n",
    "BDT_CUT = 0.50882477 "
   ]
  },
  {
   "cell_type": "code",
   "execution_count": 5,
   "metadata": {},
   "outputs": [],
   "source": [
    "import math\n",
    "def deltaPhi( phi1,  phi2):\n",
    "    dphi = phi1-phi2\n",
    "    while (dphi > math.pi):\n",
    "        dphi -= 2*math.pi\n",
    "    while (dphi <= -math.pi):\n",
    "        dphi += 2*math.pi\n",
    "    return dphi\n",
    "def deltaR(eta1, phi1, eta2, phi2):\n",
    "    dphi = deltaPhi(phi1,phi2)\n",
    "    deta = eta1 - eta2\n",
    "    return (dphi*dphi + deta*deta)**0.5"
   ]
  },
  {
   "cell_type": "code",
   "execution_count": null,
   "metadata": {},
   "outputs": [],
   "source": []
  },
  {
   "cell_type": "markdown",
   "metadata": {},
   "source": [
    "# nCsc with different hit vetoing"
   ]
  },
  {
   "cell_type": "code",
   "execution_count": 6,
   "metadata": {},
   "outputs": [
    {
     "name": "stdout",
     "output_type": "stream",
     "text": [
      "bkg\n",
      "bkg 44425\n",
      "bkg 29468\n",
      "signal\n",
      "signal 7549\n",
      "signal 5319\n"
     ]
    }
   ],
   "source": [
    "JET_PT_CUT = 10.0\n",
    "MUON_PT_CUT = 20.0\n",
    "N_RECHIT_CUT = 90\n",
    "jetPt_cut = 50\n",
    "tightid = False\n",
    "\n",
    "\n",
    "# BDT_CUT = 0.467 #90% wp vBDT/v1, bdt_flatten_noEvtSelection\n",
    "# bdtBkgEff =  0.0661076084960519\n",
    "\n",
    "# BDT_CUT = 0.9227871 #90% wp vBDT/v2, bdt_flatten_metfilter_me1112nohits_eta2p1\n",
    "# bdtBkgEff =  0.10278372591006424\n",
    "if bdt_name == 'bdt_flatten_metfilter_me1112nohits_eta2p1_testsize0p2_abs':\n",
    "    BDT_CUT = 0.92245656 #bdt_flatten_metfilter_me1112nohits_eta2p1_testsize0p2_abs\n",
    "    bdtBkgEff = 0.09957173447537473\n",
    "elif bdt_name == 'bdt_flatten_metfilter_me1112nohits_eta2p1_testsize0p2_abs_EtaPhi':\n",
    "    BDT_CUT = 0.9608465 #bdt_flatten_metfilter_me1112nohits_eta2p1_testsize0p2_abs_EtaPhi\n",
    "    bdtBkgEff = 0.06745182012847965\n",
    "elif bdt_name == 'bdt_flatten_metfilter_me1112nohits_eta2p1_testsize0p2_abs_EtaPhi_v2':\n",
    "    BDT_CUT = 0.7802247 #bdt_flatten_metfilter_me1112nohits_eta2p1_testsize0p2_abs_EtaPhi\n",
    "    bdtBkgEff = 0.061027837259100645\n",
    "elif bdt_name == 'bdt_flatten_metfilter_me1112nohits_eta2p1_testsize0p2_abs_EtaPhi_v5':\n",
    "    BDT_CUT = 0.76344216 #bdt_flatten_metfilter_me1112nohits_eta2p1_testsize0p2_abs_EtaPhi\n",
    "    bdtBkgEff = 0.051208285385500575\n",
    "elif bdt_name == 'bdt_flatten_metfilter_me1112nohits_eta2p1_testsize0p2_abs_XYspread_v12':\n",
    "    BDT_CUT = 0.50882477 \n",
    "    bdtBkgEff = 0.18136439267886856\n",
    "    BDT_BINS = [0.0, BDT_CUT]\n",
    "    BDT_BINS = [0.0, 0.1]\n",
    "#     BDT_BINS = [0.0, 0.1, 0.2, BDT_CUT]\n",
    "    \n",
    "else:\n",
    "    print('BDT NAME NOT FOUND')\n",
    "\n",
    "intime = True\n",
    "DPHI_CUT = 1\n",
    "weight = {}\n",
    "weight_event = {}\n",
    "weight_ctau = {}\n",
    "lumiSec = {}\n",
    "evtNum = {}\n",
    "nCsc = {}\n",
    "npv = {}\n",
    "npu = {}\n",
    "runNum = {}\n",
    "nCsc_JetMuonVetoCluster0p4_Me1112Veto = {}\n",
    "gLLP_csc = {}\n",
    "cscClusterSize = {}\n",
    "cscClusterTime = {}\n",
    "nCscClusters = {}\n",
    "selections_cluster = {}\n",
    "sel_cluster = {}\n",
    "sel_jetveto = {}\n",
    "met_trigger = {}\n",
    "met = {}\n",
    "gLLP_beta = {}\n",
    "jetPt = {}\n",
    "jetPhi = {}\n",
    "metPhi = {}\n",
    "angle ={}\n",
    "nLeptons = {}\n",
    "genJetPt = {}\n",
    "genJetPhi = {}\n",
    "genMet = {}\n",
    "genMetPhi = {}\n",
    "pileupWeight = {}\n",
    "gLLP_ctau = {}\n",
    "npv = {}\n",
    "nRechitClusters = {}\n",
    "nJets = {}\n",
    "nJets_50gev = {}\n",
    "cscRechitClusterTimeDiff = {}\n",
    "cscRechitCluster_match_gLLP = {}\n",
    "cscRechitClusterXYSpread = {}\n",
    "cscRechitClusterXSpread = {}\n",
    "cscRechitClusterYSpread = {}\n",
    "cscRechitClusterNStation = {}\n",
    "cscRechitClusterEtaPhiSpread = {}\n",
    "cscRechitClusterPhiSpread = {}\n",
    "cscRechitClusterEtaSpread = {}\n",
    "cscRechitClusterX = {}\n",
    "cscRechitClusterY = {}\n",
    "cscRechitClusterZ = {}\n",
    "cscRechitClusterPhi = {}\n",
    "cscClusterJetVetoPt = {}\n",
    "cscRechitClusterEta = {}\n",
    "cscRechitCluster_match_gLLP_index = {}\n",
    "cscRechitClusterMaxStationRatio = {}\n",
    "cscRechitClusterNStation = {}\n",
    "cscRechitClusterNChamber = {}\n",
    "cscRechitClusterAvgStation = {}\n",
    "cscRechitClusterMet_dPhi = {}\n",
    "cscRechitCluster2_match_Me1112_0p8 = {}\n",
    "jetMet_dPhiMin30 = {}\n",
    "jetMet_dPhiMin = {}\n",
    "dphiMet_cluster = {}\n",
    "nRechits_sr = {}\n",
    "jetMet_dPhiMin30_sr = {}\n",
    "gLLP_decay_vertex_z = {}\n",
    "gLLP_decay_vertex_x = {}\n",
    "gLLP_decay_vertex_y = {}\n",
    "gLLP_decay_vertex_r = {}\n",
    "ctau = {}\n",
    "bdt_score = {}\n",
    "a = {}\n",
    "b = {}\n",
    "c = {}\n",
    "d = {}\n",
    "sel_ev = {}\n",
    "bdt_sel = {}\n",
    "gHiggsPt = {}\n",
    "gLLP_pt = {}\n",
    "gLLP2_pt = {}\n",
    "gLLP2_decay_vertex_r = {}\n",
    "gLLP2_decay_vertex_z = {}\n",
    "cscRechitCluster2_match_gLLP_decay_z = {}\n",
    "cscRechitCluster2_match_gLLP_decay_r = {}\n",
    "gParticleId = {}\n",
    "gParticlePt = {}\n",
    "cscRechitCluster_match_gLLP_decay_r = {}\n",
    "cscRechitCluster_match_gLLP_decay_z = {}\n",
    "# keys = ['mc_sr']\n",
    "jetVeto = {}\n",
    "muonVeto = {}\n",
    "ncluster = 1\n",
    "\n",
    "cluster_index = ''\n",
    "for k, T in tree_bkg.items():\n",
    "    print(k)\n",
    "########### SELECTION: JETS ############\n",
    "    \n",
    "    sel_jet = np.logical_and(T.array('jetPt') > jetPt_cut, np.abs(T.array('jetEta')) < 2.4 )\n",
    "\n",
    "########### SELECTION: EVENTS ############\n",
    "    hlt = T['HLTDecision'].array()\n",
    "    \n",
    "\n",
    "\n",
    "    sel_ev[k]   = hlt[:,310]\n",
    "    sel_ev[k] = np.logical_and(sel_ev[k] ,T.array('met') > 200)\n",
    "    print(k, np.count_nonzero(sel_ev[k]))\n",
    "    sel_ev[k] = np.logical_and(sel_ev[k] ,T.array('Flag2_all') == 1)\n",
    "    sel_ev[k]  = np.logical_and(sel_ev[k], np.logical_and(T.array('category') == category, T.array('nLeptons') == 0)) \n",
    "    sel_ev[k] = np.logical_and(sel_ev[k] , sel_jet.sum()>=1)\n",
    "#     sel_ev[k] = np.logical_and(sel_ev[k] , T.array(\"nDtRings\")+T.array(\"nCscRings\") < 10)\n",
    "    if k == 'signal': sel_ev[k] = np.logical_and(sel_ev[k], np.sum(T.array('gLLP_csc'),axis = 1) >= 1)\n",
    "\n",
    "\n",
    "\n",
    "    \n",
    "    ########### SELECTION: CLUSTERS ############\n",
    "\n",
    "    \n",
    "    sel_rechitcluster = np.logical_and(T.array('cscSegCluster' + cluster_index + 'TimeTotal') < 12.5, T.array('cscSegCluster' + cluster_index + 'TimeTotal') > -5.0)\n",
    "   \n",
    "    sel_rechitcluster = np.logical_and( sel_rechitcluster, T.array('cscSegCluster' + cluster_index + 'TimeSpread') < 20)\n",
    "    if k == 'signal':sel_rechitcluster = np.logical_and(sel_rechitcluster, T.array('cscSegCluster' + cluster_index + '_match_gLLP_csc'))\n",
    "#     sel_rechitcluster = np.logical_and( sel_rechitcluster, T.array('cscRechitCluster' + cluster_index + 'MuonVetoPt') < MUON_PT_CUT)\n",
    "    \n",
    "\n",
    "#     sel_rechitcluster = np.logical_and( sel_rechitcluster, T.array('cscRechitCluster' + cluster_index + 'JetVetoPt') < JET_PT_CUT)\n",
    "   \n",
    "#     sel_rechitcluster = np.logical_and(sel_rechitcluster, T.array('cscRechitCluster' + cluster_index + 'NRechitChamberPlus11') <= me1112_veto)\n",
    "#     sel_rechitcluster = np.logical_and(sel_rechitcluster, T.array('cscRechitCluster' + cluster_index + 'NRechitChamberMinus11') <= me1112_veto)\n",
    "#     sel_rechitcluster = np.logical_and(sel_rechitcluster, T.array('cscRechitCluster' + cluster_index + 'NRechitChamberPlus12') <= me1112_veto)\n",
    "#     sel_rechitcluster = np.logical_and(sel_rechitcluster, T.array('cscRechitCluster' + cluster_index + 'NRechitChamberMinus12') <= me1112_veto)\n",
    "   \n",
    "\n",
    "#     sel_rechitcluster = np.logical_and(sel_rechitcluster, T.array('cscRechitCluster' + cluster_index + '_match_RB1_0p4') <= me1112_veto)\n",
    "#     sel_rechitcluster = np.logical_and(sel_rechitcluster, T.array('cscRechitCluster' + cluster_index + '_match_RE12_0p4') <= me1112_veto)\n",
    "#     sel_rechitcluster = np.logical_and(sel_rechitcluster, T.array('cscRechitCluster' + cluster_index + '_match_MB1Seg_0p4') <= me1112_veto)\n",
    "#     sel_rechitcluster = np.logical_and(sel_rechitcluster, np.abs(T.array('cscRechitCluster' + cluster_index + 'Eta')) < 2.0)\n",
    "   \n",
    "    \n",
    "\n",
    "########### BRANCHES ############\n",
    "\n",
    "   ##### event variables ##### \n",
    "    \n",
    "    sel_ev[k] = np.logical_and(sel_ev[k], sel_rechitcluster.sum()>0)\n",
    "    print(k, np.count_nonzero(sel_ev[k]))\n",
    "\n",
    "\n",
    "\n",
    "#     ##### bdt variables ####\n",
    "\n",
    "#     cscRechitClusterEta[k] = T.array('cscRechitCluster' + cluster_index + 'Eta')[sel_rechitcluster][sel_ev[k]][:,0].flatten()\n",
    "#     cscRechitClusterPhi[k] = T.array('cscRechitCluster' + cluster_index + 'Phi')[sel_rechitcluster][sel_ev[k]][:,0].flatten()\n",
    "#     cscRechitClusterNStation[k] = T.array('cscRechitCluster' + cluster_index + 'NStation5')[sel_rechitcluster][sel_ev[k]][:,0].flatten()\n",
    "#     cscRechitClusterAvgStation[k] = T.array('cscRechitCluster' + cluster_index + 'AvgStation5')[sel_rechitcluster][sel_ev[k]][:,0].flatten()\n",
    "#     cscRechitClusterXSpread[k] = T.array('cscRechitCluster' + cluster_index + 'XSpread_corr2')[sel_rechitcluster][sel_ev[k]][:,0].flatten()\n",
    "#     cscRechitClusterYSpread[k] = T.array('cscRechitCluster' + cluster_index + 'YSpread_corr2')[sel_rechitcluster][sel_ev[k]][:,0].flatten()\n",
    "#     cscRechitClusterXYSpread[k] = T.array('cscRechitCluster' + cluster_index + 'XYSpread_corr2')[sel_rechitcluster][sel_ev[k]][:,0].flatten()\n",
    "#     cscRechitClusterEtaSpread[k] = T.array('cscRechitCluster' + cluster_index + 'EtaSpread_corr2')[sel_rechitcluster][sel_ev[k]][:,0].flatten()\n",
    "#     cscRechitClusterPhiSpread[k] = T.array('cscRechitCluster' + cluster_index + 'PhiSpread_corr2')[sel_rechitcluster][sel_ev[k]][:,0].flatten()\n",
    "#     cscRechitClusterEtaPhiSpread[k] = T.array('cscRechitCluster' + cluster_index + 'EtaPhiSpread_corr2')[sel_rechitcluster][sel_ev[k]][:,0].flatten()\n",
    "    \n",
    "#     if bdt_name == 'bdt_flatten_metfilter_me1112nohits_eta2p1_testsize0p2_abs':\n",
    "        \n",
    "#         bdt_var = {'cscRechitClusterXSpread': cscRechitClusterXSpread[k],\n",
    "#          'cscRechitClusterYSpread': cscRechitClusterYSpread[k],\n",
    "#          'cscRechitClusterNStation':cscRechitClusterNStation[k],\n",
    "#          'cscRechitClusterEtaPhiSpread':cscRechitClusterEtaPhiSpread[k],\n",
    "#          'cscRechitClusterX':cscRechitClusterX[k],\n",
    "#          'cscRechitClusterY':cscRechitClusterY[k],\n",
    "#          'cscRechitClusterZ':cscRechitClusterZ[k],\n",
    "#         }\n",
    "#     elif bdt_name == 'bdt_flatten_metfilter_me1112nohits_eta2p1_testsize0p2_abs_XYspread_v12':\n",
    "#         bdt_var = {'cscRechitClusterNStation': cscRechitClusterNStation[k],\n",
    "#         'cscRechitClusterXSpread': cscRechitClusterXSpread[k],\n",
    "#         'cscRechitClusterYSpread':cscRechitClusterYSpread[k],\n",
    "#         'cscRechitClusterXYSpread':cscRechitClusterXYSpread[k],\n",
    "#         'cscRechitClusterPhi':np.abs(cscRechitClusterPhi[k]),\n",
    "#         'cscRechitClusterEta':np.abs(cscRechitClusterEta[k]),\n",
    "#         'cscRechitClusterAvgStation5':np.abs(cscRechitClusterAvgStation[k]),\n",
    "#         }\n",
    "#     elif 'bdt_flatten_metfilter_me1112nohits_eta2p1_testsize0p2_abs_EtaPhi' in bdt_name:\n",
    "#         bdt_var = {'cscRechitClusterNStation': cscRechitClusterNStation[k],\n",
    "#          'cscRechitClusterEtaSpread': cscRechitClusterEtaSpread[k],\n",
    "#          'cscRechitClusterPhiSpread':cscRechitClusterPhiSpread[k],\n",
    "#          'cscRechitClusterEtaPhiSpread':cscRechitClusterEtaPhiSpread[k],\n",
    "#          'cscRechitClusterPhi':cscRechitClusterPhi[k],\n",
    "#          'cscRechitClusterEta':np.abs(cscRechitClusterEta[k]),\n",
    "#          'cscRechitClusterZ':np.abs(cscRechitClusterZ[k]),\n",
    "#         }\n",
    "#     else:\n",
    "#         print('BDT NAME NOT FOUND')\n",
    "\n",
    "#     dataset = pd.DataFrame(bdt_var)\n",
    "#     bdt_score[k] = model.predict_proba(dataset.values)[:, 1]\n",
    "#     bdt_sel[k] = bdt_score[k] >= BDT_CUT \n",
    "#     print(\"bdt\", np.sum(T.array('weight')[sel_ev[k]][bdt_sel[k]])/acc_met, np.sum(T.array('weight')[sel_ev[k]][bdt_sel[k]])/sel_temp)\n",
    "#     table[\"bdt\"] += \" & {0:6.2f} & {1:6.2f}\".format(100*np.sum(T.array('weight')[sel_ev[k]][bdt_sel[k]])/sel_temp, 100*np.sum(T.array('weight')[sel_ev[k]][bdt_sel[k]])/acc_met)\n",
    "\n",
    "#     sel_temp =  sel_ev[k]\n",
    "\n",
    "    jetVeto[k]  =  T.array('cscSegCluster' + cluster_index + 'JetVetoPt')[sel_ev[k]]\n",
    "    muonVeto[k]  =  T.array('cscSegCluster' + cluster_index + 'MuonVetoPt')[sel_ev[k]]\n",
    "  \n",
    "    weight[k] = muonVeto[k]*0.0+T.array('weight')[sel_ev[k]]\n",
    "\n",
    "    jetVeto[k]  =  jetVeto[k].flatten()\n",
    "    muonVeto[k]  =  muonVeto[k].flatten()\n",
    "    weight[k]  =  weight[k].flatten()\n",
    "\n"
   ]
  },
  {
   "cell_type": "code",
   "execution_count": 44,
   "metadata": {},
   "outputs": [
    {
     "data": {
      "text/plain": [
       "array([ 0, 10, 20, 30, 40])"
      ]
     },
     "execution_count": 44,
     "metadata": {},
     "output_type": "execute_result"
    }
   ],
   "source": [
    "np.arange(0,50,10)"
   ]
  },
  {
   "cell_type": "markdown",
   "metadata": {},
   "source": [
    "# ROC curve"
   ]
  },
  {
   "cell_type": "code",
   "execution_count": 52,
   "metadata": {},
   "outputs": [
    {
     "name": "stdout",
     "output_type": "stream",
     "text": [
      "(99,) (99,)\n",
      "jetVeto cut 10 0.9080366283906185\n",
      "36.3174261045919\n",
      "(99,) (99,)\n",
      "muonVeto cut 10 0.8924634564331186\n",
      "8.974399539265836\n"
     ]
    },
    {
     "name": "stderr",
     "output_type": "stream",
     "text": [
      "Warning in <TCanvas::Constructor>: Deleting canvas with same name: c\n"
     ]
    },
    {
     "data": {
      "image/png": "[encoded data removed]",
      "text/plain": [
       "<IPython.core.display.Image object>"
      ]
     },
     "metadata": {},
     "output_type": "display_data"
    }
   ],
   "source": [
    "#ROC curve\n",
    "c = rt.TCanvas('c','c', 850, 800)\n",
    "leg = rt.TLegend(0.5,0.70,0.85,0.85)\n",
    "leg.SetTextSize(0.022)\n",
    "leg.SetBorderSize(0)\n",
    "\n",
    "leg.SetEntrySeparation(0.01)\n",
    "gr = {}\n",
    "\n",
    "\n",
    "var = [jetVeto, muonVeto]\n",
    "name = ['jetVeto', 'muonVeto']\n",
    "legend = ['jetVeto', 'muonVeto']\n",
    "\n",
    "thre = list(np.arange(0,500,5))\n",
    "for j in range(len(var)):\n",
    "    qcd_key = 'bkg'\n",
    "    sig_k = 'signal'\n",
    "    eff = {}\n",
    "    keys = [qcd_key,sig_k]\n",
    "    for k in keys:\n",
    "        v = var[j][k]\n",
    "        eff[k] = []\n",
    "        for th in thre:\n",
    "            eff[k].append(1.0*np.sum(weight[k][v<th])/np.sum(weight[k]))\n",
    "        eff[k] = np.array(eff[k])\n",
    "#     Plotting ROC curve\n",
    "    eff[sig_k] = eff[sig_k][eff[qcd_key] > 0]\n",
    "    eff[qcd_key] = eff[qcd_key][eff[qcd_key] > 0]\n",
    "#     print(eff[qcd_key])\n",
    "    print(eff[qcd_key].shape, eff[sig_k].shape)\n",
    "    gr[name[j]] = create_TGraph(np.reciprocal(eff[qcd_key]),eff[sig_k],axis_title = ['background rejection','#epsilon_{sig}'])\n",
    "#     gr[name[i]].SetLineColor(std_color_list[int(i/2)])\n",
    "#     gr[name[i]].SetLineStyle(std_color_list[i%2])\n",
    "    gr[name[j]].SetLineColor(std_color_list[j])\n",
    "    gr[name[j]].SetLineStyle(std_color_list[0])\n",
    "    gr[name[j]].SetLineWidth(2)\n",
    "    gr[name[j]].GetYaxis().SetTitleOffset(1.5)\n",
    "\n",
    "    gr[name[j]].GetYaxis().SetRangeUser(0,0.001)\n",
    "#     gr[name[i]].GetYaxis().SetRangeUser(0.0, 1.0)\n",
    "#         gr[name[i]].GetYaxis().SetRangeUser(1.0/np.max(eff['QCD']), 10000)\n",
    "\n",
    "\n",
    "    leg.AddEntry(gr[name[j]],legend[j])\n",
    "\n",
    "    gr[name[j]].Draw('ac' if j==0 else 'c')\n",
    "    c.SetLeftMargin(0.2)\n",
    "    leg.Draw()\n",
    "    value = 0.90 #target signal efficiency\n",
    "    ind = np.abs(eff[sig_k]-value).argmin()\n",
    "    print(name[j]+\" cut\", thre[ind], eff[sig_k][ind])\n",
    "    print(1.0/eff[qcd_key][ind])\n",
    "#         print(name[i],eff[sig_k][ind])\n",
    "#         print(thre[ind])\n",
    "\n",
    "c.SetLogx()\n",
    "c.Draw()\n",
    "# c.SaveAs('../plots/timing_studies/compare_timing_definition_ROC.png')\n",
    "\n",
    "\n",
    "\n"
   ]
  },
  {
   "cell_type": "code",
   "execution_count": 85,
   "metadata": {},
   "outputs": [
    {
     "name": "stdout",
     "output_type": "stream",
     "text": [
      "29530\n",
      "5413\n",
      "muon signal_efficiency 0.9155628\n",
      "jet signal_efficiency 0.87772655\n"
     ]
    },
    {
     "name": "stderr",
     "output_type": "stream",
     "text": [
      "Warning in <TCanvas::Constructor>: Deleting canvas with same name: c\n",
      "Info in <TCanvas::Print>: png file /storage/user/christiw/gpu/christiw/llp/delayed_jet_analyzer/plots/MuonSystem_Analysis/signal_roc/jetVeto.png has been created\n",
      "Info in <TCanvas::SaveSource>: C++ Macro file: /storage/user/christiw/gpu/christiw/llp/delayed_jet_analyzer/plots/MuonSystem_Analysis/signal_roc/jetVeto.C has been generated\n"
     ]
    },
    {
     "data": {
      "image/png": "[encoded data removed]",
      "text/plain": [
       "<IPython.core.display.Image object>"
      ]
     },
     "metadata": {},
     "output_type": "display_data"
    }
   ],
   "source": [
    "import importlib\n",
    "importlib.reload(sys.modules['histo_utilities'])\n",
    "from histo_utilities import create_TH1D, create_TH2D, std_color_list, create_TGraph, make_ratio_plot\n",
    "leg = rt.TLegend(0.6,0.80,0.90,0.90)\n",
    "\n",
    "leg.SetTextSize(0.03)\n",
    "leg.SetBorderSize(0)\n",
    "\n",
    "leg.SetEntrySeparation(0.01)\n",
    "c = rt.TCanvas('c','c', 800, 800)\n",
    "# Plotting ncsc\n",
    "start_t = time.time()\n",
    "\n",
    "legend = {}\n",
    "legend['signal'] = 'Signal Clusters'\n",
    "legend['bkg'] = 'Background Clusters'\n",
    "legend['mc_signal'] = 'signal MC in time'\n",
    "legend['mc_intime'] = 'MC in-time background'\n",
    "legend['mc_oot'] = 'MC OOT background'\n",
    "\n",
    "name = 'jetVeto'\n",
    "# name = 'muonVeto'\n",
    "h = {}\n",
    "rt.gStyle.SetOptFit(1011)\n",
    "# for i,k in enumerate(tree_bkg.keys()):\n",
    "br = 1\n",
    "for i,k in enumerate(jetVeto.keys()):\n",
    "    cond = jetVeto[k]<100000000\n",
    "    print(np.count_nonzero(cond))\n",
    "    if name == 'jetVeto':\n",
    "        h[k] = create_TH1D( jetVeto[k], axis_title=['jet Veto pT [GeV]', 'Events'], name=k, binning=[50,0,500],weights = weight[k])\n",
    "    else:\n",
    "        h[k] = create_TH1D( muonVeto[k][cond], axis_title=['muon Veto pT [GeV]', 'Events'], name=k, binning=[40,0,100],weights = weight[k][cond])\n",
    "\n",
    "\n",
    "    h[k].SetLineColor(std_color_list[i])\n",
    "\n",
    "\n",
    "    h[k].GetXaxis().SetLabelSize(0.04)\n",
    "#     h[k].SetMinimum(0.001)\n",
    "    h[k].SetMaximum(0.1)\n",
    "\n",
    "    h[k].DrawNormalized('hist same')\n",
    "    leg.AddEntry(h[k],legend[k])\n",
    "\n",
    "    if k == 'signal':\n",
    "        print('muon signal_efficiency', np.sum(weight[k][muonVeto[k]<20])/np.sum(weight[k]))\n",
    "        print('jet signal_efficiency', np.sum(weight[k][jetVeto[k]<10])/np.sum(weight[k]))\n",
    "\n",
    "\n",
    "c.SetRightMargin(0)\n",
    "c.SetLogy()\n",
    "leg.Draw()\n",
    "\n",
    "c.Draw()\n",
    "# print(time.time()-start_t)\n",
    "c.SaveAs('/storage/user/christiw/gpu/christiw/llp/delayed_jet_analyzer/plots/MuonSystem_Analysis/signal_roc/'+name+'.png')\n",
    "c.SaveAs('/storage/user/christiw/gpu/christiw/llp/delayed_jet_analyzer/plots/MuonSystem_Analysis/signal_roc/'+name+'.C')\n",
    "\n"
   ]
  },
  {
   "cell_type": "code",
   "execution_count": null,
   "metadata": {
    "hidden": true
   },
   "outputs": [],
   "source": []
  },
  {
   "cell_type": "code",
   "execution_count": null,
   "metadata": {
    "hidden": true
   },
   "outputs": [],
   "source": []
  },
  {
   "cell_type": "code",
   "execution_count": null,
   "metadata": {
    "hidden": true
   },
   "outputs": [],
   "source": []
  },
  {
   "cell_type": "code",
   "execution_count": null,
   "metadata": {},
   "outputs": [],
   "source": []
  },
  {
   "cell_type": "code",
   "execution_count": null,
   "metadata": {
    "hidden": true
   },
   "outputs": [],
   "source": []
  },
  {
   "cell_type": "code",
   "execution_count": null,
   "metadata": {},
   "outputs": [],
   "source": []
  },
  {
   "cell_type": "code",
   "execution_count": null,
   "metadata": {},
   "outputs": [],
   "source": []
  },
  {
   "cell_type": "code",
   "execution_count": null,
   "metadata": {},
   "outputs": [],
   "source": []
  },
  {
   "cell_type": "code",
   "execution_count": null,
   "metadata": {},
   "outputs": [],
   "source": []
  },
  {
   "cell_type": "code",
   "execution_count": null,
   "metadata": {},
   "outputs": [],
   "source": []
  },
  {
   "cell_type": "code",
   "execution_count": null,
   "metadata": {},
   "outputs": [],
   "source": [
    "\n"
   ]
  },
  {
   "cell_type": "code",
   "execution_count": null,
   "metadata": {},
   "outputs": [],
   "source": []
  },
  {
   "cell_type": "code",
   "execution_count": null,
   "metadata": {},
   "outputs": [],
   "source": []
  },
  {
   "cell_type": "code",
   "execution_count": null,
   "metadata": {},
   "outputs": [],
   "source": []
  },
  {
   "cell_type": "code",
   "execution_count": null,
   "metadata": {},
   "outputs": [],
   "source": []
  },
  {
   "cell_type": "code",
   "execution_count": null,
   "metadata": {},
   "outputs": [],
   "source": []
  },
  {
   "cell_type": "code",
   "execution_count": null,
   "metadata": {},
   "outputs": [],
   "source": []
  },
  {
   "cell_type": "code",
   "execution_count": null,
   "metadata": {},
   "outputs": [],
   "source": []
  },
  {
   "cell_type": "code",
   "execution_count": null,
   "metadata": {},
   "outputs": [],
   "source": []
  },
  {
   "cell_type": "code",
   "execution_count": null,
   "metadata": {},
   "outputs": [],
   "source": []
  },
  {
   "cell_type": "code",
   "execution_count": null,
   "metadata": {},
   "outputs": [],
   "source": []
  },
  {
   "cell_type": "code",
   "execution_count": null,
   "metadata": {},
   "outputs": [],
   "source": []
  }
 ],
 "metadata": {
  "kernelspec": {
   "display_name": "Python 3",
   "language": "python",
   "name": "python3"
  },
  "language_info": {
   "codemirror_mode": {
    "name": "ipython",
    "version": 3
   },
   "file_extension": ".py",
   "mimetype": "text/x-python",
   "name": "python",
   "nbconvert_exporter": "python",
   "pygments_lexer": "ipython3",
   "version": "3.6.8"
  }
 },
 "nbformat": 4,
 "nbformat_minor": 4
}
