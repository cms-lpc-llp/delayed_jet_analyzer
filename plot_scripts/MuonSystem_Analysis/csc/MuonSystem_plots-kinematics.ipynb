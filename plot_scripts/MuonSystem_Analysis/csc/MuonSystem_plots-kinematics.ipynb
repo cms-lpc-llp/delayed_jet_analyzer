{
 "cells": [
  {
   "cell_type": "code",
   "execution_count": 1,
   "metadata": {},
   "outputs": [
    {
     "name": "stdout",
     "output_type": "stream",
     "text": [
      "Welcome to JupyROOT 6.18/02\n",
      "3.6.8 (default, Aug  7 2019, 17:28:10) \n",
      "[GCC 4.8.5 20150623 (Red Hat 4.8.5-39)]\n"
     ]
    }
   ],
   "source": [
    "import ROOT as rt\n",
    "# import root_numpy as rtnp\n",
    "import csv\n",
    "import re\n",
    "import sys\n",
    "import collections\n",
    "\n",
    "from collections import OrderedDict\n",
    "import uproot\n",
    "import awkward\n",
    "import numpy as np\n",
    "import time\n",
    "import numba\n",
    "from numba import jit\n",
    "from matplotlib import pyplot as plt\n",
    "sys.path.append('/storage/user/christiw/gpu/christiw/llp/delayed_jet_analyzer/lib/')\n",
    "from histo_utilities import create_TH1D, create_TH2D, std_color_list, create_TGraph, make_ratio_plot\n",
    "\n",
    "import CMS_lumi, tdrstyle\n",
    "tdrstyle.setTDRStyle()\n",
    "CMS_lumi.writeExtraText = 0\n",
    "\n",
    "wH = 1\n",
    "Z_MASS = 91.2\n",
    "\n",
    "\n",
    "# donotdelete = []\n",
    "print(sys.version)"
   ]
  },
  {
   "cell_type": "markdown",
   "metadata": {},
   "source": [
    "# Load ntuples"
   ]
  },
  {
   "cell_type": "code",
   "execution_count": 46,
   "metadata": {},
   "outputs": [
    {
     "name": "stdout",
     "output_type": "stream",
     "text": [
      "QCDHT50toInf /mnt/hadoop/store/group/phys_exotica/delayedjets/displacedJetMuonAnalyzer/csc/V1p9/MC_Summer16/v1/v2/normalized/QCD_HT50toInf_TuneCUETP8M1_13TeV-madgraphMLM-pythia8_1pb_weighted.root\n",
      "NEvents 281872260.0\n",
      "NEvents_genweight 281872260.0\n",
      "weights [4.3033729e+00 5.0527730e+00 1.6620358e+01 2.1944231e+01 3.0658689e+01\n",
      " 2.5574841e+02 9.0908154e+02 1.0500615e+04 1.7840104e+06]\n",
      "3437084.0\n",
      "7458885\n",
      "signal /mnt/hadoop/store/group/phys_exotica/delayedjets/displacedJetMuonAnalyzer/csc/V1p12/MC_RunIIFall18/v2/v3/signals/normalized/ggH_HToSSTobbbb_ms55_pl1000_RunIIFall18_1pb_weighted.root\n",
      "NEvents 520800.0\n",
      "NEvents_genweight 11184433.0\n",
      "weights [-2.8270695 -2.7987986  2.7708106  2.7987986  2.8270695]\n",
      "10.023412\n",
      "107395\n",
      "3.269080638885498\n"
     ]
    }
   ],
   "source": [
    "fpath_bkg =OrderedDict()\n",
    "tree_bkg = OrderedDict()\n",
    "tree_sig = OrderedDict()\n",
    "fpath_sig =OrderedDict()\n",
    "\n",
    "\n",
    "start_t = time.time()\n",
    "data_year = 2018\n",
    "pdgId = 13\n",
    "category = 0\n",
    "\n",
    "if data_year == 2016:lumi = 35.92*1000 #in pb-1\n",
    "elif data_year == 2017:lumi = 41.53 * 1000\n",
    "else: lumi = 59.74 * 1000\n",
    "lumi = 30000\n",
    "bkg_path = '/mnt/hadoop/store/group/phys_exotica/delayedjets/displacedJetMuonAnalyzer/csc/V1p9/MC_Summer16/v1/v2/normalized/'\n",
    "mc_path = '/mnt/hadoop/store/group/phys_exotica/delayedjets/displacedJetMuonAnalyzer/csc/V1p12/MC_RunIIFall18/v2/v3/signals/normalized/'\n",
    "\n",
    "\n",
    "\n",
    "\n",
    "fpath_bkg['QCDHT50toInf'] = bkg_path + 'QCD_HT50toInf_TuneCUETP8M1_13TeV-madgraphMLM-pythia8_1pb_weighted.root'\n",
    "\n",
    "\n",
    "# fpath_bkg['DYJetsToLL'] = bkg_path + 'DYJetsToLL_M-50_TuneCUETP8M1_13TeV-amcatnloFXFX-pythia8_1pb_weighted.root'\n",
    "# fpath_bkg['QCD_HT1000to1500'] = bkg_path + 'QCD_HT1000to1500_TuneCUETP8M1_13TeV-madgraphMLM-pythia8_1pb_weighted.root'\n",
    "# fpath_bkg['QCD_HT100to200'] = bkg_path + 'QCD_HT100to200_TuneCUETP8M1_13TeV-madgraphMLM-pythia8_1pb_weighted.root'\n",
    "# fpath_bkg['QCD_HT1500to2000'] = bkg_path + 'QCD_HT1500to2000_TuneCUETP8M1_13TeV-madgraphMLM-pythia8_1pb_weighted.root'\n",
    "# fpath_bkg['QCD_HT2000toInf'] = bkg_path + 'QCD_HT2000toInf_TuneCUETP8M1_13TeV-madgraphMLM-pythia8_1pb_weighted.root'\n",
    "# fpath_bkg['QCD_HT200to300'] = bkg_path + 'QCD_HT200to300_TuneCUETP8M1_13TeV-madgraphMLM-pythia8_1pb_weighted.root'\n",
    "# fpath_bkg['QCD_HT300to500'] = bkg_path + 'QCD_HT300to500_TuneCUETP8M1_13TeV-madgraphMLM-pythia8_1pb_weighted.root'\n",
    "# fpath_bkg['QCD_HT500to700'] = bkg_path + 'QCD_HT500to700_TuneCUETP8M1_13TeV-madgraphMLM-pythia8_1pb_weighted.root'\n",
    "# # fpath_bkg['QCD_HT50to100'] = bkg_path + 'QCD_HT50to100_TuneCUETP8M1_13TeV-madgraphMLM-pythia8_1pb_weighted.root'\n",
    "# fpath_bkg['QCD_HT700to1000'] = bkg_path + 'QCD_HT700to1000_TuneCUETP8M1_13TeV-madgraphMLM-pythia8_1pb_weighted.root'\n",
    "# # fpath_bkg['WJetsToLNu'] = bkg_path + 'WJetsToLNu_TuneCUETP8M1_13TeV-amcatnloFXFX-pythia8_1pb_weighted.root'\n",
    "\n",
    "fpath_bkg['signal'] = mc_path + 'ggH_HToSSTobbbb_ms55_pl1000_RunIIFall18_1pb_weighted.root'\n",
    "    \n",
    "    \n",
    "\n",
    "\n",
    "\n",
    "NEvents = {}\n",
    "\n",
    "NEvents_genweight = {}\n",
    "for k,v in fpath_bkg.items():\n",
    "    print (k, v)\n",
    "#     tree[k] = rtnp.root2array(v)\n",
    "    root_dir = uproot.open(v) \n",
    "#     if k[:7] == 'ntuples':\n",
    "#         tree_bkg[k] = root_dir['ntuples']['llp']\n",
    "#         NEvents[k] = root_dir['ntuples']['NEvents'][1]\n",
    "#     else:\n",
    "    tree_bkg[k] = root_dir['MuonSystem']\n",
    "    NEvents[k] = root_dir['NEvents'][1]\n",
    "    NEvents_genweight[k] = root_dir['NEvents_genweight'][1]\n",
    "#     tree[k] = root_dir['ntuples']\n",
    "    a = tree_bkg[k][\"weight\"].array()\n",
    "    print(\"NEvents\",NEvents[k])\n",
    "    print(\"NEvents_genweight\",NEvents_genweight[k])\n",
    "\n",
    "\n",
    "    print ('weights',np.unique(a)*lumi)\n",
    "    print(np.sum(a))\n",
    "    print(len(a))\n",
    "#     print(len(a)/ NEvents[k])\n",
    "#     print(a.shape)\n",
    "print(time.time()-start_t)"
   ]
  },
  {
   "cell_type": "markdown",
   "metadata": {},
   "source": [
    "# Load trigger"
   ]
  },
  {
   "cell_type": "code",
   "execution_count": 47,
   "metadata": {},
   "outputs": [],
   "source": [
    "trigger_names_file = '/nfshome/christiw/llp/delayed_jet_analyzer/data/trigger_names_llp_v1.dat'\n",
    "trigger_names = []\n",
    "with open(trigger_names_file) as f:\n",
    "    reader = csv.reader(f, delimiter=\" \")\n",
    "    for line in reader:\n",
    "        trigger_names.append(line[2])\n",
    "# if wH:\n",
    "#     trigger_paths = [87,135,136] #PFMET120\n",
    "# #     elif data_year == 2017: trigger_paths = [87,136] #PFMET120\n",
    "# else:\n",
    "# trigger_paths = [177,362,87,135,136] #PFMET120\n",
    "# trigger_paths += [84,91]\n",
    "\n",
    "trigger_paths = [310]\n",
    "xsec = {}\n",
    "xsec['bbbb10m'] = (5.328E-01 + 8.4E-01) *0.324\n",
    "xsec['bbbb1m'] = (5.328E-01 + 8.4E-01) *0.324\n",
    "xsec['bbbb0.1m'] = (5.328E-01 + 8.4E-01) *0.324\n",
    "\n",
    "\n",
    "xsec['WJetsToLNu'] = 61526.7\n",
    "\n",
    "legend = {}\n",
    "legend['bbbb10m'] = 'signal c#tau = 10 m'\n",
    "legend['bbbb1m'] = 'signal c#tau = 1 m'\n",
    "legend['bbbb0.1m'] = 'signal c#tau = 0.1 m'\n",
    "\n",
    "legend['SingleElectron'] = 'SingleElectron'\n",
    "legend['SingleMuon'] = 'SingleMuon'\n",
    "legend['WJetsToLNu'] = 'WJetsToLNu'"
   ]
  },
  {
   "cell_type": "markdown",
   "metadata": {},
   "source": [
    "# Helper Functions"
   ]
  },
  {
   "cell_type": "code",
   "execution_count": 48,
   "metadata": {},
   "outputs": [],
   "source": [
    "import math\n",
    "def deltaPhi( phi1,  phi2):\n",
    "    dphi = phi1-phi2\n",
    "    while (dphi > math.pi):\n",
    "        dphi -= 2*math.pi\n",
    "    while (dphi <= -math.pi):\n",
    "        dphi += 2*math.pi\n",
    "    return dphi\n",
    "def deltaR(eta1, phi1, eta2, phi2):\n",
    "    dphi = deltaPhi(phi1,phi2)\n",
    "    deta = eta1 - eta2\n",
    "    return (dphi*dphi + deta*deta)**0.5"
   ]
  },
  {
   "cell_type": "code",
   "execution_count": null,
   "metadata": {},
   "outputs": [],
   "source": []
  },
  {
   "cell_type": "markdown",
   "metadata": {},
   "source": [
    "# nCsc with different hit vetoing"
   ]
  },
  {
   "cell_type": "code",
   "execution_count": 69,
   "metadata": {},
   "outputs": [
    {
     "name": "stdout",
     "output_type": "stream",
     "text": [
      "here\n",
      "324692\n",
      "trigger 310 0.0023132143745345315\n",
      "2083 7458885\n",
      "QCDHT50toInf\n",
      "trigger 310 0.02162111830159691\n",
      "698 107395\n",
      "signal\n",
      "CPU times: user 48 s, sys: 5.4 s, total: 53.4 s\n",
      "Wall time: 52.1 s\n"
     ]
    }
   ],
   "source": [
    "%%time\n",
    "\n",
    "start_t = time.time()\n",
    "JET_PT_CUT = 10\n",
    "MUON_PT_CUT = 20\n",
    "\n",
    "\n",
    "weight = {}\n",
    "weight_event = {}\n",
    "lumiSec = {}\n",
    "evtNum = {}\n",
    "nCsc = {}\n",
    "npv = {}\n",
    "npu = {}\n",
    "runNum = {}\n",
    "nCsc_JetMuonVetoCluster0p4_Me1112Veto = {}\n",
    "gLLP_csc = {}\n",
    "cscClusterSize = {}\n",
    "cscClusterTime = {}\n",
    "selections_cluster = {}\n",
    "sel_cluster = {}\n",
    "sel_jetveto = {}\n",
    "met_trigger = {}\n",
    "met = {}\n",
    "gLLP_beta = {}\n",
    "jetPt = {}\n",
    "jetPhi = {}\n",
    "metPhi = {}\n",
    "angle ={}\n",
    "nLeptons = {}\n",
    "ZPhi = {}\n",
    "for k,T in tree_bkg.items():\n",
    "\n",
    "        \n",
    "########### SELECTION: CLUSTERS ############\n",
    "\n",
    "    ###### OOT control region #####\n",
    "#     sel_rechitcluster = T.array('cscRechitClusterMaxStationRatio') > 0.1\n",
    "#     sel_rechitcluster = np.logical_and( sel_rechitcluster, T.array('cscRechitClusterJetVetoPt') < JET_PT_CUT)\n",
    "#     sel_rechitcluster = np.logical_and( sel_rechitcluster, T.array('cscRechitClusterMuonVetoPt') < MUON_PT_CUT)\n",
    "# #     sel_rechitcluster = np.logical_and( sel_rechitcluster, T.array('cscRechitClusterMe11Ratio') < 0.01)\n",
    "# #     sel_rechitcluster = np.logical_and( sel_rechitcluster, T.array('cscRechitClusterMe12Ratio') < 0.01)\n",
    "#     sel_rechitcluster = np.logical_and(sel_rechitcluster, np.abs(T.array('cscRechitClusterMaxChamber')) > 12)\n",
    "# #     sel_rechitcluster = np.logical_and(sel_rechitcluster, np.logical_and(T.array('cscRechitClusterTime') < 22, T.array('cscRechitClusterTime') > -12.5))\n",
    "\n",
    "#     if k == 'mc_signal' or k == 'mc_background' or k == 'mc_intime_bkg' or k == 'data_intime':\n",
    "#         sel_rechitcluster = np.logical_and(sel_rechitcluster, np.logical_and(T.array('cscRechitClusterTime') < 22, T.array('cscRechitClusterTime') > -12.5))\n",
    "#     else:\n",
    "#         sel_rechitcluster = np.logical_and(sel_rechitcluster, np.logical_or(T.array('cscRechitClusterTime') < -12.5, T.array('cscRechitClusterTime') > 22))\n",
    "\n",
    "#     print(\"sel_rechit\",np.count_nonzero(sel_rechitcluster.flatten()))\n",
    "# #     selections_cluster['oot-3'] = np.logical_and(sel_rechitcluster, T.array('cscRechitClusterTime') < -53)\n",
    "# #     selections_cluster['oot-3'] = np.logical_and(selections_cluster['oot-3'], T.array('cscRechitClusterTime') > -87.5)\n",
    "    \n",
    "# #     selections_cluster['oot-2'] = np.logical_and(sel_rechitcluster, T.array('cscRechitClusterTime') < -28)\n",
    "# #     selections_cluster['oot-2'] = np.logical_and(selections_cluster['oot-2'], T.array('cscRechitClusterTime') > -62.5)\n",
    "    \n",
    "# #     selections_cluster['oot-1'] = np.logical_and(sel_rechitcluster, T.array('cscRechitClusterTime') < -12.5)\n",
    "# #     selections_cluster['oot-1'] = np.logical_and(selections_cluster['oot-1'], T.array('cscRechitClusterTime') > -37.5)\n",
    "\n",
    "# #     selections_cluster['oot2'] = np.logical_and(sel_rechitcluster, T.array('cscRechitClusterTime') < 72)\n",
    "# #     selections_cluster['oot2'] = np.logical_and(selections_cluster['oot2'], T.array('cscRechitClusterTime') > 37.5)\n",
    "    \n",
    "# #     selections_cluster['oot3'] = np.logical_and(sel_rechitcluster, T.array('cscRechitClusterTime') < 97)\n",
    "# #     selections_cluster['oot3'] = np.logical_and(selections_cluster['oot3'], T.array('cscRechitClusterTime') > 62.5)\n",
    "    if k == 'QCDHT50toInf':\n",
    "        print(\"here\")\n",
    "        sel_rechitcluster = T.array('cscClusterMaxStationRatio') > 0.1\n",
    "        sel_rechitcluster = np.logical_and( sel_rechitcluster, T.array('cscClusterJetVetoPt') < JET_PT_CUT)\n",
    "        sel_rechitcluster = np.logical_and( sel_rechitcluster, T.array('cscClusterMuonVetoPt') < MUON_PT_CUT)\n",
    "        sel_rechitcluster = np.logical_and(sel_rechitcluster, np.abs(T.array('cscClusterMaxChamber')) > 12)\n",
    "        sel_rechitcluster = np.logical_and(sel_rechitcluster, np.logical_and(T.array('cscClusterTime') < 22, T.array('cscClusterTime') > -12.5))\n",
    "\n",
    "        print(np.count_nonzero(sel_rechitcluster.flatten()))\n",
    "    \n",
    "########### SELECTION: EVENTS ############\n",
    "    hlt = T['HLTDecision'].array()\n",
    "    # select only triggered events\n",
    "    sel_ev= np.ones(hlt[:,0].shape, dtype=bool)\n",
    "    sel_ev= np.zeros(hlt[:,0].shape)\n",
    "    for tr in trigger_paths:            \n",
    "        sel_ev  = np.logical_or(sel_ev,hlt[:,tr])\n",
    "        print(\"trigger\",tr,1.0*np.count_nonzero(hlt[:,tr])/len(hlt[:,tr]))\n",
    "    if not k == 'DYJetsToLL':\n",
    "        sel_ev = np.logical_and(sel_ev, T.array('category') == category)\n",
    "    else:\n",
    "        sel_ev = np.logical_and(sel_ev, T.array('category') == 2)\n",
    "    if category == 0:\n",
    "        sel_ev = np.logical_and(sel_ev,T.array('met') > 200)\n",
    "        sel_ev = np.logical_and(sel_ev, T.array('nLeptons') == 0)\n",
    "#         print(\"met cut\",np.count_nonzero(sel_ev))\n",
    "  \n",
    "    if category == 2:\n",
    "        sel_ev = np.logical_and(sel_ev,np.abs(T.array('lepPdgId')).sum() == 2*pdgId)\n",
    "    gLLP_csc[k] = T.array('gLLP_csc')\n",
    "    if k == 'mc_signal':\n",
    "        sel_ev = np.logical_and(sel_ev, np.sum(T.array('gLLP_csc'),axis = 1) > 0)\n",
    "#         print(np.count_nonzero(sel_ev)/NEvents['mc'])\n",
    "    if k == 'mc_intime' or k =='mc_background':\n",
    "        sel_ev = np.logical_and(sel_ev, np.sum(T.array('gLLP_csc'),axis = 1) == 0)\n",
    "        decay_distance0 = np.sqrt(T.array('gLLP_decay_vertex_x')[:,0]**2 + T.array('gLLP_decay_vertex_y')[:,0]**2 + T.array('gLLP_decay_vertex_z')[:,0]**2)\n",
    "        decay_distance1 = np.sqrt(T.array('gLLP_decay_vertex_x')[:,1]**2 + T.array('gLLP_decay_vertex_y')[:,1]**2 + T.array('gLLP_decay_vertex_z')[:,1]**2)\n",
    "        cond1 = np.logical_and(decay_distance0 < 200, decay_distance1 < 200)\n",
    "        cond2 = np.logical_and(np.abs(T.array('gLLP_decay_vertex_z')[:,0]) > 1200, np.abs(T.array('gLLP_decay_vertex_z')[:,1]) > 1200)\n",
    "        sel_ev = np.logical_and(sel_ev, np.logical_or(cond1, cond2))\n",
    "    \n",
    "#     if k == 'data':\n",
    "#         print(\"selev\",1.0*np.count_nonzero(sel_ev)/NEvents[k])\n",
    "#     else:\n",
    "#         print(\"selev\",1.0*np.count_nonzero(np.logical_and(sel_ev,np.sum(T.array('gLLP_csc'),axis = 1)>0))/NEvents[k])\n",
    "#     print(\"sel_rechitcluster\",np.count_nonzero(sel_rechitcluster.flatten()))\n",
    "#     sel_ev = np.logical_and(sel_ev, (sel_rechitcluster.sum()) >= 1)\n",
    "\n",
    "########### BRANCHES ############\n",
    "\n",
    "   \n",
    "    ##### clusters #####\n",
    "    gLLP_beta[k] = T.array('gLLP_beta')[sel_ev]\n",
    "    jetPt[k] = T.array('jetPt')[sel_ev]\n",
    "    jetPhi[k] = T.array('jetPhi')[sel_ev]\n",
    "    metPhi[k] = T.array('metPhi')[sel_ev]\n",
    "    ZPhi[k] = T.array('ZPhi')[sel_ev]\n",
    "    angle[k] = []\n",
    "    if k == 'DYJetsToLL':\n",
    "        for i in range(len(jetPhi[k])):\n",
    "            angle[k].append(deltaPhi(ZPhi[k][i],metPhi[k][i]))\n",
    "    else:\n",
    "        for i in range(len(jetPhi[k])):\n",
    "            if len(jetPhi[k][i]) == 0: \n",
    "                angle[k].append(666.)\n",
    "            else:\n",
    "                angle[k].append(deltaPhi(jetPhi[k][i][0],metPhi[k][i]))\n",
    "    angle[k] = np.array(angle[k])\n",
    "    met_trigger[k] = hlt[:,310][sel_ev]\n",
    "    met[k] = T.array('met')[sel_ev]\n",
    "    weight[k] = T.array('weight')[sel_ev]\n",
    "    if k[:2] == 'mc':\n",
    "        weight[k] = weight[k]*lumi\n",
    "    ##### event variables #####\n",
    "    nLeptons[k] = T.array('nLeptons')[sel_ev]\n",
    "    \n",
    "    if k == 'QCDHT50toInf':\n",
    "        cscClusterTime[k] = T.array('cscClusterTime')[sel_rechitcluster][sel_ev]\n",
    "        cscClusterSize[k] =  T.array('cscClusterSize')[sel_rechitcluster][sel_ev]\n",
    "        nCsc_JetMuonVetoCluster0p4_Me1112Veto[k] = cscClusterSize[k].sum()\n",
    "    print(np.count_nonzero(sel_ev),len(sel_ev))\n",
    "    \n",
    "#     print(np.count_nonzero(sel_ev))\n",
    "#     print(nCsc_JetMuonVetoCluster0p4_Me1112Veto[k].sum(),len(nCsc_JetMuonVetoCluster0p4_Me1112Veto[k]))\n",
    "    print(k)\n"
   ]
  },
  {
   "cell_type": "markdown",
   "metadata": {},
   "source": [
    "## trigger efficiency"
   ]
  },
  {
   "cell_type": "code",
   "execution_count": 51,
   "metadata": {},
   "outputs": [
    {
     "name": "stdout",
     "output_type": "stream",
     "text": [
      "CPU times: user 3.09 ms, sys: 0 ns, total: 3.09 ms\n",
      "Wall time: 2.31 ms\n"
     ]
    },
    {
     "name": "stderr",
     "output_type": "stream",
     "text": [
      "Warning in <TCanvas::Constructor>: Deleting canvas with same name: c\n",
      "Warning in <TROOT::Append>: Replacing existing TH1: mc_signal (Potential memory leak).\n",
      "Warning in <TROOT::Append>: Replacing existing TH1: mc_signal (Potential memory leak).\n"
     ]
    },
    {
     "data": {
      "image/png": "[encoded data removed]",
      "text/plain": [
       "<IPython.core.display.Image object>"
      ]
     },
     "metadata": {},
     "output_type": "display_data"
    }
   ],
   "source": [
    "%%time \n",
    "\n",
    "c = rt.TCanvas('c','c', 800, 600)\n",
    "h = {}\n",
    "leg = rt.TLegend(0.4,0.20,0.9,0.4)\n",
    "leg.SetTextSize(0.03)\n",
    "\n",
    "leg.SetBorderSize(0)\n",
    "# leg.SetTextFont(42)\n",
    "leg.SetEntrySeparation(0.01)\n",
    "k = 'mc_signal'\n",
    "# print(nCsc_JetMuonVetoCluster0p4_Me1112Veto[k])\n",
    "xaxis = met[k]\n",
    "xaxis_title = 'MET'\n",
    "bins = [50,0,500]\n",
    "\n",
    "\n",
    "# xaxis = nCsc_JetMuonVetoCluster0p4_Me1112Veto[k]\n",
    "# xaxis_title = 'N_{rechit}'\n",
    "# bins = [50,0,3000]\n",
    "# print(xaxis)\n",
    "hm = create_TH1D( xaxis[met_trigger[k]], axis_title=[xaxis_title, 'Signal Efficiency'], name=k, binning=bins)\n",
    "hb = create_TH1D( xaxis, axis_title=[xaxis_title, 'Signal Efficiency'], name=k, binning=bins)\n",
    "pEff1= rt.TEfficiency(hm,hb)\n",
    "pEff1.SetLineColor(std_color_list[0])\n",
    "pEff1.SetLineWidth(2)\n",
    "pEff1.Draw()\n",
    "# leg.AddEntry(pEff1[str(th_wire)], name+' cut = '+str(th_wire)+\", bkg rejection = \"+str(round(bkg_rej[i],2)))\n",
    "# leg.Draw()\n",
    "c.Draw()\n",
    "\n",
    "\n",
    "    "
   ]
  },
  {
   "cell_type": "code",
   "execution_count": 18,
   "metadata": {},
   "outputs": [],
   "source": [
    "# 2D histogram"
   ]
  },
  {
   "cell_type": "code",
   "execution_count": 88,
   "metadata": {},
   "outputs": [
    {
     "name": "stdout",
     "output_type": "stream",
     "text": [
      "46\n",
      "0.006344795227050781\n"
     ]
    },
    {
     "name": "stderr",
     "output_type": "stream",
     "text": [
      "Warning in <TCanvas::Constructor>: Deleting canvas with same name: c\n"
     ]
    },
    {
     "data": {
      "image/png": "[encoded data removed]",
      "text/plain": [
       "<IPython.core.display.Image object>"
      ]
     },
     "metadata": {},
     "output_type": "display_data"
    }
   ],
   "source": [
    "# Plotting ncsc\n",
    "start_t = time.time()\n",
    "c = rt.TCanvas('c','c', 1000, 800)\n",
    "h = {}\n",
    "# leg = rt.TLegend(0.50,0.75,0.97,0.93)\n",
    "leg = rt.TLegend(0.58,0.70,0.94,0.85)\n",
    "leg.SetTextSize(0.022)\n",
    "# leg.SetTextFont(42)\n",
    "leg.SetEntrySeparation(0.01)\n",
    "\n",
    "i = 0\n",
    "k = 'QCDHT50toInf'\n",
    "print(np.count_nonzero(nCsc_JetMuonVetoCluster0p4_Me1112Veto[k]))\n",
    "\n",
    "# h[k] = create_TH2D(np.column_stack((met[k],nCsc_JetMuonVetoCluster0p4_Me1112Veto[k])), axis_title = ['met[GeV]','N_{rechits}','Events'], binning=[50,0,500,50,0,3000])\n",
    "# h[k] = create_TH2D(np.column_stack((met[k],jetPt[k].count())), axis_title = ['met[GeV]','N_{jets}','Events'], binning=[50,0,500,10,0,10])\n",
    "h[k] = create_TH2D(np.column_stack((nCsc_JetMuonVetoCluster0p4_Me1112Veto[k][jetPt[k].count()>0],jetPt[k][jetPt[k].count()>0][:,0])), axis_title = ['N_{segments}','leading jet p_{T} [GeV]','Events'], binning=[50,0,50,50,0,2000],weights = weight[k]*lumi)\n",
    "\n",
    "\n",
    "\n",
    "# h[k] = h[k].ProfileY()\n",
    "h[k].GetXaxis().SetLabelSize(0.04)\n",
    "\n",
    "\n",
    "\n",
    "\n",
    "h[k].SetLineColor(std_color_list[i])\n",
    "# leg.AddEntry(h[k], k)\n",
    "#     h[k].SetMaximum(10E5)\n",
    "#     h[k].SetMinimum(1)\n",
    "h[k].Draw('colz')\n",
    "c.SetRightMargin(0.2)\n",
    "\n",
    "\n",
    "\n",
    "# if setlog: \n",
    "c.SetLogz()\n",
    "c.Draw()\n",
    "print(time.time()-start_t)"
   ]
  },
  {
   "cell_type": "markdown",
   "metadata": {},
   "source": [
    "# Data plot"
   ]
  },
  {
   "cell_type": "code",
   "execution_count": 86,
   "metadata": {},
   "outputs": [
    {
     "name": "stdout",
     "output_type": "stream",
     "text": [
      "448505\n",
      "1.0\n",
      "data_intime events after 200:  448505.0\n",
      "448505\n",
      "1.0\n",
      "data_oot events after 200:  448505.0\n",
      "385\n",
      "2.9533453\n",
      "mc_signal events after 200:  1130.9541015625\n"
     ]
    },
    {
     "name": "stderr",
     "output_type": "stream",
     "text": [
      "Warning in <TCanvas::Constructor>: Deleting canvas with same name: c\n"
     ]
    },
    {
     "data": {
      "image/png": "[encoded data removed]",
      "text/plain": [
       "<IPython.core.display.Image object>"
      ]
     },
     "metadata": {},
     "output_type": "display_data"
    }
   ],
   "source": [
    "import importlib\n",
    "importlib.reload(sys.modules['histo_utilities'])\n",
    "from histo_utilities import create_TH1D, create_TH2D, std_color_list, create_TGraph, make_ratio_plot\n",
    "leg = rt.TLegend(0.5,0.80,0.90,0.90)\n",
    "\n",
    "leg.SetTextSize(0.03)\n",
    "leg.SetBorderSize(0)\n",
    "\n",
    "leg.SetEntrySeparation(0.01)\n",
    "c = rt.TCanvas('c','c', 800, 800)\n",
    "# Plotting ncsc\n",
    "start_t = time.time()\n",
    "\n",
    "legend = {}\n",
    "legend['data_oot'] = 'Data OOT region'\n",
    "legend['data_intime'] = 'Data in-time region'\n",
    "legend['mc_signal'] = 'signal MC in time'\n",
    "legend['mc_intime'] = 'MC in-time background'\n",
    "legend['mc_oot'] = 'MC OOT background'\n",
    "\n",
    "\n",
    "h = {}\n",
    "rt.gStyle.SetOptFit(1011)\n",
    "# for i,k in enumerate(tree_bkg.keys()):\n",
    "br = 1\n",
    "for i,k in enumerate(keys):\n",
    "#     w = cscClusterNLayer[k]*0.0 + weight[k]\n",
    "#     print(len(w.flatten()))\n",
    "#     print(len(cscClusterNLayer[k].flatten()))\n",
    "#     if not k == 'mc_signal':continue\n",
    "    if k == 'data_intime':\n",
    "        cond = nCsc_JetMuonVetoCluster0p4_Me1112Veto[k] < 150\n",
    "    else:\n",
    "        cond = nCsc_JetMuonVetoCluster0p4_Me1112Veto[k] >= 0\n",
    "    if k == 'mc_signal':\n",
    "        br = 1\n",
    "    else: br = 1\n",
    "#     if k == 'mc_background':br = 1\n",
    "    bins = [50,0,1000]\n",
    "    metcut = 200\n",
    "    h[k] = create_TH1D( nCsc_JetMuonVetoCluster0p4_Me1112Veto[k][cond], axis_title=['N_{rechits}', 'Events'], name=k, binning=bins,weights = br*weight[k][cond])\n",
    "#     h[k+'met'] = create_TH1D( nCsc_JetMuonVetoCluster0p4_Me1112Veto[k][met[k]>metcut], axis_title=['N_{rechits}', 'Events'], name=k, binning=bins,weights = weight[k][met[k]>metcut])\n",
    "\n",
    "#     h[k] = create_TH1D( cscClusterTime[k][:,0], axis_title=['csc cluster time [ns]', 'Events'], name=k, binning=[30,-100,-12.5],weights = weight[k])\n",
    "    print(len(nCsc_JetMuonVetoCluster0p4_Me1112Veto[k]))\n",
    "    h[k].SetLineColor(std_color_list[i])\n",
    "#     h[k+'met'].SetLineColor(std_color_list[i+1])\n",
    "#     h[k+'met'].SetLineStyle(2)\n",
    "    print(weight[k][0])\n",
    "\n",
    "#     leg.AddEntry(h[k+'met'], \"OOT \"+k+' with met trigger')\n",
    "    leg.AddEntry(h[k], legend[k]+\" (scaled)\" if k == 'data_oot' else legend[k])\n",
    "    print(k,\"events after 200: \",np.sum(weight[k][nCsc_JetMuonVetoCluster0p4_Me1112Veto[k]>=0])*br)\n",
    "#     h[k].SetMinimum(1)\n",
    "\n",
    "#     r = h[k].Fit('expo', 'LRSQ+', '', 50,400)\n",
    "#     print(r.Get())\n",
    "#     print(r.Prob())\n",
    "#     h[k].GetFunction(\"expo\").SetLineColor(std_color_list[2])\n",
    "#     h[k].GetFunction(\"expo\").SetLineWidth(2)\n",
    "    h[k].GetXaxis().SetLabelSize(0.04)\n",
    "    h[k].SetMinimum(0.1)\n",
    "    h[k].SetMaximum(10E6/2)\n",
    "#     h[k+'met'].GetXaxis().SetLabelSize(0.02)\n",
    "    if k == 'data_oot':\n",
    "        scale = 1.0*h['data_intime'].GetBinContent(4)/h['data_oot'].GetBinContent(4)\n",
    "#         for i in range(10):\n",
    "#             print(1.0*h['data_intime'].GetBinContent(i+1)/h['data_oot'].GetBinContent(i+1))\n",
    "        h[k].Scale(scale)\n",
    "    h[k].Draw('same')\n",
    "#     h[k+'met'].DrawNormalized('same')\n",
    "    \n",
    "\n",
    "# c = make_ratio_plot([h['mc'],h['data']], fit = False, logy=True, in_tags = [\"MC\",\"Data\"], ratio_bounds = [0,3])\n",
    "c.SetRightMargin(0)\n",
    "c.SetLogy()\n",
    "leg.Draw()\n",
    "\n",
    "c.Draw()\n",
    "# print(time.time()-start_t)"
   ]
  },
  {
   "cell_type": "markdown",
   "metadata": {},
   "source": [
    "## significance"
   ]
  },
  {
   "cell_type": "code",
   "execution_count": 91,
   "metadata": {
    "collapsed": true,
    "jupyter": {
     "outputs_hidden": true
    }
   },
   "outputs": [
    {
     "name": "stdout",
     "output_type": "stream",
     "text": [
      "0.7629737854003906\n"
     ]
    },
    {
     "name": "stderr",
     "output_type": "stream",
     "text": [
      "Warning in <TCanvas::Constructor>: Deleting canvas with same name: c\n"
     ]
    },
    {
     "data": {
      "image/png": "[encoded data removed]",
      "text/plain": [
       "<IPython.core.display.Image object>"
      ]
     },
     "metadata": {},
     "output_type": "display_data"
    }
   ],
   "source": [
    "start_t = time.time()\n",
    "#ROC curve\n",
    "c = rt.TCanvas('c','c', 800, 800)\n",
    "leg = rt.TLegend(0.35,0.80,0.85,0.92)\n",
    "leg.SetTextSize(0.022)\n",
    "leg.SetBorderSize(0)\n",
    "\n",
    "leg.SetEntrySeparation(0.01)\n",
    "\n",
    "var = [nCsc_JetMuonVetoCluster0p4_Me1112Veto,]\n",
    "name = ['nCsc_JetMuonVetoCluster0p4_Me1112Veto',]\n",
    "legend = [ 'jet & muon veto + ME11/12 veto',]\n",
    "\n",
    "bkg_k = 'data_oot'\n",
    "sig_k = 'mc_signal'\n",
    "br = 0.02\n",
    "\n",
    "threshold = list(range(300))\n",
    "threshold = np.array(list(range(2000)))\n",
    "# print(threshold)\n",
    "for i in range(len(var)):\n",
    "    event_count = {}\n",
    "    \n",
    "    for k in ['data_oot','mc_signal']:\n",
    "        event_count[k] = []\n",
    "        for th in threshold:\n",
    "            event_count[k].append(np.sum(weight[k][var[i][k]>th]))\n",
    "        event_count[k] = np.array(event_count[k])\n",
    "        if k == sig_k:\n",
    "            event_count[k] = event_count[k]*br\n",
    "    sig = event_count[sig_k]/np.sqrt(event_count[sig_k]+event_count[bkg_k])\n",
    "    cond = event_count[sig_k]>0\n",
    "    sig = sig[cond]\n",
    "    ncsc = threshold[cond]\n",
    "#     gr['bbbb'] = create_TGraph(eff_bkg,eff_sig,axis_title = ['#epsilon_{bkg}','#epsilon_{signal}'])\n",
    "    h[sig_k+str(i)] = create_TGraph(ncsc, sig,  axis_title=['N_{rechits}', 'Significnace'])\n",
    "#     h[sig_k+str(i)] = create_TGraph(ncsc, event_count[sig_k],  axis_title=['N_{rechits}', 'Event Yield'])\n",
    "\n",
    "    h[sig_k+str(i)].SetLineWidth(2)\n",
    "    h[sig_k+str(i)].SetMarkerColor(std_color_list[i])\n",
    "    h[sig_k+str(i)].SetLineColor(std_color_list[i])\n",
    "    h[sig_k+str(i)].GetXaxis().SetRangeUser(0, 3000)\n",
    "    h[sig_k+str(i)].GetXaxis().SetLabelSize(0.04)\n",
    "\n",
    "#     h[sig_k+str(i)].GetYaxis().SetRangeUser(0, 3)\n",
    "\n",
    "\n",
    "    leg.AddEntry(h[sig_k+str(i)],sig_k+\" \"+legend[i])\n",
    "    h[sig_k+str(i)].Draw('ac' if i == 0 else 'c')\n",
    "\n",
    "#     h[sig_k+str(i)].Draw('ac' if i==0 else 'c')\n",
    "#     gr['bbbb'].Draw('')\n",
    "\n",
    "\n",
    "\n",
    "\n",
    "# c.SetLogy()\n",
    "c.Draw()\n",
    "# c.SaveAs('../plots/timing_studies/compare_timing_definition_ROC.png')\n",
    "\n",
    "print(time.time()-start_t)\n"
   ]
  },
  {
   "cell_type": "markdown",
   "metadata": {},
   "source": [
    "# Other quantities"
   ]
  },
  {
   "cell_type": "code",
   "execution_count": 67,
   "metadata": {},
   "outputs": [
    {
     "name": "stdout",
     "output_type": "stream",
     "text": [
      "0\n",
      "QCDHT50toInf angle 2083\n"
     ]
    },
    {
     "name": "stderr",
     "output_type": "stream",
     "text": [
      "Warning in <TCanvas::Constructor>: Deleting canvas with same name: c\n",
      "Warning in <TROOT::Append>: Replacing existing TH1: QCDHT50toInf (Potential memory leak).\n",
      "Warning in <TROOT::Append>: Replacing existing TH1: QCDHT50toInf (Potential memory leak).\n"
     ]
    },
    {
     "data": {
      "image/png": "[encoded data removed]",
      "text/plain": [
       "<IPython.core.display.Image object>"
      ]
     },
     "metadata": {},
     "output_type": "display_data"
    }
   ],
   "source": [
    "import importlib\n",
    "importlib.reload(sys.modules['histo_utilities'])\n",
    "from histo_utilities import create_TH1D, create_TH2D, std_color_list, create_TGraph, make_ratio_plot\n",
    "leg = rt.TLegend(0.55,0.75,0.85,0.90)\n",
    "\n",
    "leg.SetTextSize(0.03)\n",
    "leg.SetBorderSize(0)\n",
    "\n",
    "leg.SetEntrySeparation(0.01)\n",
    "c = rt.TCanvas('c','c', 800, 800)\n",
    "# Plotting ncsc\n",
    "start_t = time.time()\n",
    "\n",
    "legend = {}\n",
    "legend['data_oot'] = 'Data OOT region'\n",
    "legend['data_intime'] = 'Data in-time region'\n",
    "legend['mc_signal'] = 'signal MC in time'\n",
    "legend['mc_intime'] = 'MC in-time background'\n",
    "legend['mc_oot'] = 'MC OOT background'\n",
    "\n",
    "\n",
    "h = {}\n",
    "rt.gStyle.SetOptFit(1011)\n",
    "# for i,k in enumerate(tree_bkg.keys()):\n",
    "br = 1\n",
    "for i,k in enumerate(tree_bkg.keys()):\n",
    "#     w = cscClusterNLayer[k]*0.0 + weight[k]\n",
    "#     print(len(w.flatten()))\n",
    "#     print(len(cscClusterNLayer[k].flatten()))\n",
    "#     if not k == 'mc_signal':continue\n",
    "#     if not k == 'mc_signal': continue\n",
    "#     if not i == 0:continue\n",
    "#     if k == 'mc_background':br = 1\n",
    "    if not k == 'QCDHT50toInf':continue\n",
    "    bins = [10,0,10]\n",
    "    metcut = 200\n",
    "#     if not k == 'QCDHT700to1000':continue\n",
    "    h[k] = create_TH1D( nLeptons[k], axis_title=['N_{lep}', 'Events'], name=k, binning=[5,0,5],weights = weight[k])\n",
    "    print(np.count_nonzero(nLeptons[k]>0))\n",
    "#     h[k] = create_TH1D( jetPt[k][jetPt[k].count()>0][:,0], axis_title=['jet P_{T} [GeV]', 'Events'], name=k, binning=[50,0,2500],weights = weight[k][jetPt[k].count()>0]*lumi)\n",
    "\n",
    "\n",
    "#     h[k] = create_TH1D( jetPt[k].count(), axis_title=['N_{jets}', 'Events'], name=k, binning=bins,weights = weight[k]*lumi)\n",
    "    h[k] = create_TH1D( angle[k], axis_title=['\\Delta \\phi(MET,jet)', 'Events'], name=k, binning=[50,-4,4],weights = weight[k]*lumi)\n",
    "#     h[k] = create_TH1D(met[k], axis_title=['N_{jets}', 'Events'], name=k, binning=[50,0,500])\n",
    "\n",
    "    print(k,\"angle\",len(angle[k]))\n",
    "    h[k] = create_TH1D( nCsc_JetMuonVetoCluster0p4_Me1112Veto[k], axis_title=['N_{rechits}', 'Events'], name=k, binning=bins,weights = weight[k])\n",
    "\n",
    "    h[k].SetLineColor(std_color_list[i])\n",
    "#     h[k+'met'].SetLineColor(std_color_list[i+1])\n",
    "#     h[k+'met'].SetLineStyle(2)\n",
    "\n",
    "#     leg.AddEntry(h[k+'met'], \"OOT \"+k+' with met trigger')\n",
    "    leg.AddEntry(h[k], k)\n",
    "#     h[k].SetMinimum(1)\n",
    "\n",
    "#     r = h[k].Fit('expo', 'LRSQ+', '', 50,400)\n",
    "#     print(r.Get())\n",
    "#     print(r.Prob())\n",
    "#     h[k].GetFunction(\"expo\").SetLineColor(std_color_list[2])\n",
    "#     h[k].GetFunction(\"expo\").SetLineWidth(2)\n",
    "    h[k].SetMaximum(5*10000)\n",
    "    h[k].GetXaxis().SetLabelSize(0.04)\n",
    "    h[k].DrawNormalized('same hist')\n",
    "    \n",
    "\n",
    "c.SetRightMargin(0)\n",
    "c.SetLogy()\n",
    "leg.Draw()\n",
    "\n",
    "c.Draw()\n",
    "# print(time.time()-start_t)"
   ]
  },
  {
   "cell_type": "code",
   "execution_count": 91,
   "metadata": {},
   "outputs": [
    {
     "name": "stderr",
     "output_type": "stream",
     "text": [
      "Warning in <TCanvas::Constructor>: Deleting canvas with same name: c\n",
      "Warning in <TROOT::Append>: Replacing existing TH1: QCDHT50toInf (Potential memory leak).\n"
     ]
    },
    {
     "data": {
      "image/png": "[encoded data removed]",
      "text/plain": [
       "<IPython.core.display.Image object>"
      ]
     },
     "metadata": {},
     "output_type": "display_data"
    }
   ],
   "source": [
    "import importlib\n",
    "importlib.reload(sys.modules['histo_utilities'])\n",
    "from histo_utilities import create_TH1D, create_TH2D, std_color_list, create_TGraph, make_ratio_plot\n",
    "leg = rt.TLegend(0.55,0.75,0.85,0.90)\n",
    "\n",
    "leg.SetTextSize(0.03)\n",
    "leg.SetBorderSize(0)\n",
    "\n",
    "leg.SetEntrySeparation(0.01)\n",
    "c = rt.TCanvas('c','c', 800, 800)\n",
    "# Plotting ncsc\n",
    "start_t = time.time()\n",
    "\n",
    "legend = {}\n",
    "legend['data_oot'] = 'Data OOT region'\n",
    "legend['data_intime'] = 'Data in-time region'\n",
    "legend['mc_signal'] = 'signal MC in time'\n",
    "legend['mc_intime'] = 'MC in-time background'\n",
    "legend['mc_oot'] = 'MC OOT background'\n",
    "\n",
    "\n",
    "h = {}\n",
    "rt.gStyle.SetOptFit(1011)\n",
    "# for i,k in enumerate(tree_bkg.keys()):\n",
    "br = 1\n",
    "k == 'QCDHT50toInf'\n",
    "bins = [50,0,2000]\n",
    "h[k] = create_TH1D( jetPt[k][jetPt[k].count()>0][:,0], axis_title=['jet p_{T} [GeV]', 'Events'], name=k, binning=bins,weights = weight[k][jetPt[k].count()>0])\n",
    "cond = nCsc_JetMuonVetoCluster0p4_Me1112Veto[k]>10\n",
    "h[k+'1'] = create_TH1D( jetPt[k][np.logical_and(jetPt[k].count()>0,cond)][:,0], axis_title=['jet p_{T} [GeV]', 'Events'], name=k, binning=bins,weights = weight[k][np.logical_and(jetPt[k].count()>0,cond)])\n",
    "\n",
    "h[k+'1'].SetLineColor(1)\n",
    "\n",
    "\n",
    "h[k].SetLineColor(2)\n",
    "#     h[k+'met'].SetLineColor(std_color_list[i+1])\n",
    "#     h[k+'met'].SetLineStyle(2)\n",
    "\n",
    "#     leg.AddEntry(h[k+'met'], \"OOT \"+k+' with met trigger')\n",
    "leg.AddEntry(h[k], k+ '(inclusive)')\n",
    "leg.AddEntry(h[k+'1'], k+'(N_{segment}>0)')\n",
    "\n",
    "\n",
    "#     h[k].SetMinimum(1)\n",
    "\n",
    "#     r = h[k].Fit('expo', 'LRSQ+', '', 50,400)\n",
    "#     print(r.Get())\n",
    "#     print(r.Prob())\n",
    "#     h[k].GetFunction(\"expo\").SetLineColor(std_color_list[2])\n",
    "#     h[k].GetFunction(\"expo\").SetLineWidth(2)\n",
    "h[k].SetMaximum(5)\n",
    "h[k].GetXaxis().SetLabelSize(0.04)\n",
    "h[k].DrawNormalized('same hist')\n",
    "h[k+'1'].DrawNormalized('same hist')\n",
    "\n",
    "\n",
    "c.SetRightMargin(0)\n",
    "c.SetLogy()\n",
    "leg.Draw()\n",
    "\n",
    "c.Draw()\n",
    "# print(time.time()-start_t)"
   ]
  },
  {
   "cell_type": "markdown",
   "metadata": {},
   "source": [
    "# third"
   ]
  },
  {
   "cell_type": "code",
   "execution_count": null,
   "metadata": {},
   "outputs": [],
   "source": [
    "start_t = time.time()\n",
    "pdgId = 13\n",
    "JET_PT_CUT = 10\n",
    "MUON_PT_CUT = 20\n",
    "\n",
    "\n",
    "weight = {}\n",
    "weight_event = {}\n",
    "lumiSec = {}\n",
    "evtNum = {}\n",
    "nCsc = {}\n",
    "npv = {}\n",
    "npu = {}\n",
    "runNum = {}\n",
    "nCsc_JetMuonVetoCluster0p4_Me1112Veto = {}\n",
    "\n",
    "cscClusterSize = {}\n",
    "\n",
    "selections_cluster = {}\n",
    "sel_cluster = {}\n",
    "sel_jetveto = {}\n",
    "for k,T in tree_bkg.items():\n",
    "    if pdgId == 13 and k == 'SingleElectron': continue\n",
    "    if pdgId == 11 and k == 'SingleMuon': continue\n",
    "########### SELECTION: CLUSTERS ############\n",
    "\n",
    "    ###### OOT control region #####\n",
    "#     sel_cluster_temp = T.array('cscClusterMaxLayerRatio')*T.array('cscClusterSize') > 5.01\n",
    "    sel_cluster_temp = T.array('cscClusterMaxStationRatio')*T.array('cscClusterSize') > 5.01\n",
    "\n",
    "\n",
    "\n",
    "#     sel_cluster_temp = T.array('cscClusterJetVeto') < JET_PT_CUT\n",
    "# #     sel_cluster_temp = np.logical_and( sel_cluster_temp, T.array('cscClusterMuonVeto') < MUON_PT_CUT)\n",
    "    sel_cluster_temp = np.logical_and( sel_cluster_temp, T.array('cscClusterMe11Ratio') < 0.01)\n",
    "    sel_cluster_temp = np.logical_and( sel_cluster_temp, T.array('cscClusterMe12Ratio') < 0.01)\n",
    "\n",
    "\n",
    "\n",
    "#     sel_cluster_temp = np.logical_and( sel_cluster_temp, T.array('cscClusterMe1112Ratio') < 0.01)\n",
    "#     sel_cluster_temp = np.logical_and(sel_cluster_temp, T.array('cscClusterMaxLayerRatio')*T.array('cscClusterSize') > 5.01)\n",
    "    print(\"here\")\n",
    "    print(time.time()-start_t)\n",
    "    \n",
    "#     selections_cluster['test'] = np.logical_and(sel_cluster_temp, T.array('cscClusterTime') < -53)\n",
    "#     selections_cluster['test'] = np.logical_and(selections_cluster['test'], T.array('cscClusterTime') > -87.5)\n",
    "    \n",
    "#     selections_cluster['oot1'] = np.logical_and(sel_cluster_temp, T.array('cscClusterTime') < -28)\n",
    "#     selections_cluster['oot1'] = np.logical_and(selections_cluster['oot1'], T.array('cscClusterTime') > -62.5)\n",
    "    \n",
    "#     selections_cluster['oot2'] = np.logical_and(sel_cluster_temp, T.array('cscClusterTime') < -12.5)\n",
    "#     selections_cluster['oot2'] = np.logical_and(selections_cluster['oot2'], T.array('cscClusterTime') > -37.5)\n",
    "\n",
    "    selections_cluster['oot3'] = np.logical_and(sel_cluster_temp, T.array('cscClusterTime') < 72)\n",
    "    selections_cluster['oot3'] = np.logical_and(selections_cluster['oot3'], T.array('cscClusterTime') > 37.5)\n",
    "    \n",
    "#     selections_cluster['oot4'] = np.logical_and(sel_cluster_temp, T.array('cscClusterTime') < 97)\n",
    "#     selections_cluster['oot4'] = np.logical_and(selections_cluster['oot4'], T.array('cscClusterTime') > 62.5)\n",
    "    \n",
    "\n",
    "\n",
    "    sel_cluster = selections_cluster['oot3'] \n",
    "#     sel_cluster = sel_cluster_temp\n",
    "\n",
    "    print(\"here\")\n",
    "    print(time.time()-start_t)\n",
    "\n",
    "    hlt = T['HLTDecision'].array()\n",
    "    # select only triggered events\n",
    "    sel_ev= np.ones(hlt[:,0].shape, dtype=bool)\n",
    "    sel_ev= np.zeros(hlt[:,0].shape)\n",
    "    for tr in trigger_paths:            \n",
    "        sel_ev  = np.logical_or(sel_ev,hlt[:,tr])\n",
    "    sel_muon = np.logical_and(T.array('lepPassId'), T.array('lepPt')>=25)\n",
    "    sel_muon = np.logical_and(sel_muon, np.abs(T.array('lepEta'))<2.4)\n",
    "    sel_muon = np.logical_and(sel_muon, np.abs(T.array('lepPdgId')) == 13)\n",
    "\n",
    "    sel_ele = np.logical_and(T.array('lepPassId'), T.array('lepPt')>=35)\n",
    "    sel_ele = np.logical_and(sel_ele, np.abs(T.array('lepEta'))<2.4)\n",
    "    sel_ele = np.logical_and(sel_ele, np.abs(T.array('lepPdgId')) == 11)\n",
    "    \n",
    "#     sel_lep = np.logical_or(sel_ele, sel_muon)\n",
    "    if pdgId == 13:\n",
    "        sel_lep = sel_muon\n",
    "    else: \n",
    "        sel_lep = sel_ele\n",
    "    sel_ev = np.logical_and(sel_ev, sel_lep.sum() == 1)\n",
    "    ##### jet veto #####\n",
    "    sel_jetveto = np.logical_and(sel_ev, (sel_cluster.sum()) >= 1)\n",
    "    \n",
    "    print(\"here\")\n",
    "    print(time.time()-start_t)\n",
    "\n",
    "    cscClusterSize[k] =   T.array('cscClusterSize')[sel_cluster][sel_jetveto]\n",
    "    if k[:6] == 'Single' or k == 'EGamma':\n",
    "        weight[k] = T.array('weight')[sel_jetveto]\n",
    "    else:\n",
    "        weight[k] = T.array('weight')[sel_jetveto]*lumi\n",
    "\n",
    "\n",
    "    nCsc_JetMuonVetoCluster0p4_Me1112Veto[k] = cscClusterSize[k].sum()\n",
    "    print(k)\n",
    "print(time.time()-start_t)"
   ]
  },
  {
   "cell_type": "markdown",
   "metadata": {},
   "source": [
    "# ROC Curve"
   ]
  },
  {
   "cell_type": "code",
   "execution_count": null,
   "metadata": {},
   "outputs": [],
   "source": [
    "import importlib\n",
    "importlib.reload(sys.modules['histo_utilities'])\n",
    "from histo_utilities import create_TH1D, create_TH2D, std_color_list, create_TGraph, make_ratio_plot\n",
    "\n",
    "c = rt.TCanvas('c','c', 800, 800)\n",
    "# Plotting ncsc\n",
    "start_t = time.time()\n",
    "\n",
    "h = {}\n",
    "rt.gStyle.SetOptFit(1011)\n",
    "if pdgId == 13: data = 'SingleMuon'\n",
    "else: data = 'SingleElectron'\n",
    "mc = 'WJetsToLNu'\n",
    "keys = [data]\n",
    "for i,k in enumerate(keys):\n",
    "#     w = cscClusterNLayer[k]*0.0 + weight[k]\n",
    "#     print(len(w.flatten()))\n",
    "#     print(len(cscClusterNLayer[k].flatten()))\n",
    "#     h[k] = create_TH1D( cscClusterNLayer[k].flatten(), axis_title=['cluster station', 'Events'], name=k, binning=[10,0,10],weights = w.flatten())\n",
    "#     h[k] = create_TH1D( nCscClusters[k], axis_title=['Number of Clusters', 'Events'], name=k, binning=[10,0,10],weights = weight[k])\n",
    "\n",
    "#     h[k] = create_TH1D( cscClusterNLayer[k].sum(), axis_title=['Number of Stations per Event', 'Events'], name=k, binning=[10,0,10],weights = weight[k])\n",
    "    print(np.sum(weight[k]))\n",
    "\n",
    "#     print(len(nCsc_JetMuonVetoCluster0p4_Me1112Veto[k]))\n",
    "    h[k] = create_TH1D( nCsc_JetMuonVetoCluster0p4_Me1112Veto[k], axis_title=['nCSCSegments', 'Events'], name=k, binning=[20,0,100],weights = weight[k])\n",
    "#     h[k] = create_TH1D( cscClusterTime[k][:,0], axis_title=['csc cluster time [ns]', 'Events'], name=k, binning=[30,-100,-12.5],weights = weight[k])\n",
    "\n",
    "    h[k].SetLineColor(std_color_list[i])\n",
    "#     leg.AddEntry(h[k], legend[k])\n",
    "#     h[k].SetMinimum(1)\n",
    "\n",
    "    if k == data:\n",
    "        r = h[k].Fit('expo', 'LRSQ+', '', 15,60)\n",
    "        print(r.Get())\n",
    "        print(r.Prob())\n",
    "        h[k].GetFunction(\"expo\").SetLineColor(std_color_list[2])\n",
    "        h[k].GetFunction(\"expo\").SetLineWidth(2)\n",
    "    h[k].Draw('E1')\n",
    "# c = make_ratio_plot([h[mc],h[data]], fit = True, logy=True, in_tags = [\"MC\",\"Data\"], ratio_bounds = [0,3])\n",
    "# c.SetRightMargin(0)\n",
    "c.SetLogy()\n",
    "\n",
    "\n",
    "c.Draw()\n",
    "# print(time.time()-start_t)"
   ]
  },
  {
   "cell_type": "markdown",
   "metadata": {},
   "source": [
    "# 4th"
   ]
  },
  {
   "cell_type": "code",
   "execution_count": null,
   "metadata": {},
   "outputs": [],
   "source": [
    "start_t = time.time()\n",
    "pdgId = 13\n",
    "JET_PT_CUT = 10\n",
    "MUON_PT_CUT = 20\n",
    "\n",
    "\n",
    "weight = {}\n",
    "weight_event = {}\n",
    "lumiSec = {}\n",
    "evtNum = {}\n",
    "nCsc = {}\n",
    "npv = {}\n",
    "npu = {}\n",
    "runNum = {}\n",
    "nCsc_JetMuonVetoCluster0p4_Me1112Veto = {}\n",
    "\n",
    "cscClusterSize = {}\n",
    "\n",
    "selections_cluster = {}\n",
    "sel_cluster = {}\n",
    "sel_jetveto = {}\n",
    "for k,T in tree_bkg.items():\n",
    "    if pdgId == 13 and k == 'SingleElectron': continue\n",
    "    if pdgId == 11 and k == 'SingleMuon': continue\n",
    "########### SELECTION: CLUSTERS ############\n",
    "\n",
    "    ###### OOT control region #####\n",
    "#     sel_cluster_temp = T.array('cscClusterMaxLayerRatio')*T.array('cscClusterSize') > 5.01\n",
    "    sel_cluster_temp = T.array('cscClusterMaxStationRatio')*T.array('cscClusterSize') > 5.01\n",
    "\n",
    "\n",
    "\n",
    "#     sel_cluster_temp = T.array('cscClusterJetVeto') < JET_PT_CUT\n",
    "# #     sel_cluster_temp = np.logical_and( sel_cluster_temp, T.array('cscClusterMuonVeto') < MUON_PT_CUT)\n",
    "    sel_cluster_temp = np.logical_and( sel_cluster_temp, T.array('cscClusterMe11Ratio') < 0.01)\n",
    "    sel_cluster_temp = np.logical_and( sel_cluster_temp, T.array('cscClusterMe12Ratio') < 0.01)\n",
    "\n",
    "\n",
    "\n",
    "#     sel_cluster_temp = np.logical_and( sel_cluster_temp, T.array('cscClusterMe1112Ratio') < 0.01)\n",
    "#     sel_cluster_temp = np.logical_and(sel_cluster_temp, T.array('cscClusterMaxLayerRatio')*T.array('cscClusterSize') > 5.01)\n",
    "    print(\"here\")\n",
    "    print(time.time()-start_t)\n",
    "    \n",
    "#     selections_cluster['test'] = np.logical_and(sel_cluster_temp, T.array('cscClusterTime') < -53)\n",
    "#     selections_cluster['test'] = np.logical_and(selections_cluster['test'], T.array('cscClusterTime') > -87.5)\n",
    "    \n",
    "#     selections_cluster['oot1'] = np.logical_and(sel_cluster_temp, T.array('cscClusterTime') < -28)\n",
    "#     selections_cluster['oot1'] = np.logical_and(selections_cluster['oot1'], T.array('cscClusterTime') > -62.5)\n",
    "    \n",
    "#     selections_cluster['oot2'] = np.logical_and(sel_cluster_temp, T.array('cscClusterTime') < -12.5)\n",
    "#     selections_cluster['oot2'] = np.logical_and(selections_cluster['oot2'], T.array('cscClusterTime') > -37.5)\n",
    "\n",
    "    selections_cluster['oot3'] = np.logical_and(sel_cluster_temp, T.array('cscClusterTime') < 72)\n",
    "    selections_cluster['oot3'] = np.logical_and(selections_cluster['oot3'], T.array('cscClusterTime') > 37.5)\n",
    "    \n",
    "    selections_cluster['oot4'] = np.logical_and(sel_cluster_temp, T.array('cscClusterTime') < 97)\n",
    "    selections_cluster['oot4'] = np.logical_and(selections_cluster['oot4'], T.array('cscClusterTime') > 62.5)\n",
    "    \n",
    "\n",
    "\n",
    "    sel_cluster = selections_cluster['oot4'] \n",
    "#     sel_cluster = sel_cluster_temp\n",
    "\n",
    "    print(\"here\")\n",
    "    print(time.time()-start_t)\n",
    "\n",
    "    hlt = T['HLTDecision'].array()\n",
    "    # select only triggered events\n",
    "    sel_ev= np.ones(hlt[:,0].shape, dtype=bool)\n",
    "    sel_ev= np.zeros(hlt[:,0].shape)\n",
    "    for tr in trigger_paths:            \n",
    "        sel_ev  = np.logical_or(sel_ev,hlt[:,tr])\n",
    "    sel_muon = np.logical_and(T.array('lepPassId'), T.array('lepPt')>=25)\n",
    "    sel_muon = np.logical_and(sel_muon, np.abs(T.array('lepEta'))<2.4)\n",
    "    sel_muon = np.logical_and(sel_muon, np.abs(T.array('lepPdgId')) == 13)\n",
    "\n",
    "    sel_ele = np.logical_and(T.array('lepPassId'), T.array('lepPt')>=35)\n",
    "    sel_ele = np.logical_and(sel_ele, np.abs(T.array('lepEta'))<2.4)\n",
    "    sel_ele = np.logical_and(sel_ele, np.abs(T.array('lepPdgId')) == 11)\n",
    "    \n",
    "#     sel_lep = np.logical_or(sel_ele, sel_muon)\n",
    "    if pdgId == 13:\n",
    "        sel_lep = sel_muon\n",
    "    else: \n",
    "        sel_lep = sel_ele\n",
    "    sel_ev = np.logical_and(sel_ev, sel_lep.sum() == 1)\n",
    "    ##### jet veto #####\n",
    "    sel_jetveto = np.logical_and(sel_ev, (sel_cluster.sum()) >= 1)\n",
    "    \n",
    "    print(\"here\")\n",
    "    print(time.time()-start_t)\n",
    "\n",
    "    cscClusterSize[k] =   T.array('cscClusterSize')[sel_cluster][sel_jetveto]\n",
    "    if k[:6] == 'Single' or k == 'EGamma':\n",
    "        weight[k] = T.array('weight')[sel_jetveto]\n",
    "    else:\n",
    "        weight[k] = T.array('weight')[sel_jetveto]*lumi\n",
    "\n",
    "\n",
    "    nCsc_JetMuonVetoCluster0p4_Me1112Veto[k] = cscClusterSize[k].sum()\n",
    "    print(k)\n",
    "print(time.time()-start_t)"
   ]
  },
  {
   "cell_type": "markdown",
   "metadata": {},
   "source": [
    "# nCsc histogram"
   ]
  },
  {
   "cell_type": "code",
   "execution_count": null,
   "metadata": {},
   "outputs": [],
   "source": [
    "import importlib\n",
    "importlib.reload(sys.modules['histo_utilities'])\n",
    "from histo_utilities import create_TH1D, create_TH2D, std_color_list, create_TGraph, make_ratio_plot\n",
    "\n",
    "c = rt.TCanvas('c','c', 800, 800)\n",
    "# Plotting ncsc\n",
    "start_t = time.time()\n",
    "\n",
    "h = {}\n",
    "rt.gStyle.SetOptFit(1011)\n",
    "if pdgId == 13: data = 'SingleMuon'\n",
    "else: data = 'SingleElectron'\n",
    "mc = 'WJetsToLNu'\n",
    "keys = [data]\n",
    "for i,k in enumerate(keys):\n",
    "#     w = cscClusterNLayer[k]*0.0 + weight[k]\n",
    "#     print(len(w.flatten()))\n",
    "#     print(len(cscClusterNLayer[k].flatten()))\n",
    "#     h[k] = create_TH1D( cscClusterNLayer[k].flatten(), axis_title=['cluster station', 'Events'], name=k, binning=[10,0,10],weights = w.flatten())\n",
    "#     h[k] = create_TH1D( nCscClusters[k], axis_title=['Number of Clusters', 'Events'], name=k, binning=[10,0,10],weights = weight[k])\n",
    "\n",
    "#     h[k] = create_TH1D( cscClusterNLayer[k].sum(), axis_title=['Number of Stations per Event', 'Events'], name=k, binning=[10,0,10],weights = weight[k])\n",
    "    print(np.sum(weight[k]))\n",
    "\n",
    "#     print(len(nCsc_JetMuonVetoCluster0p4_Me1112Veto[k]))\n",
    "    h[k] = create_TH1D( nCsc_JetMuonVetoCluster0p4_Me1112Veto[k], axis_title=['nCSCSegments', 'Events'], name=k, binning=[20,0,100],weights = weight[k])\n",
    "#     h[k] = create_TH1D( cscClusterTime[k][:,0], axis_title=['csc cluster time [ns]', 'Events'], name=k, binning=[30,-100,-12.5],weights = weight[k])\n",
    "\n",
    "    h[k].SetLineColor(std_color_list[i])\n",
    "#     leg.AddEntry(h[k], legend[k])\n",
    "#     h[k].SetMinimum(1)\n",
    "\n",
    "    if k == data:\n",
    "        r = h[k].Fit('expo', 'LRSQ+', '', 15,60)\n",
    "        print(r.Get())\n",
    "        print(r.Prob())\n",
    "        h[k].GetFunction(\"expo\").SetLineColor(std_color_list[2])\n",
    "        h[k].GetFunction(\"expo\").SetLineWidth(2)\n",
    "    h[k].Draw('E1')\n",
    "# c = make_ratio_plot([h[mc],h[data]], fit = True, logy=True, in_tags = [\"MC\",\"Data\"], ratio_bounds = [0,3])\n",
    "# c.SetRightMargin(0)\n",
    "c.SetLogy()\n",
    "\n",
    "\n",
    "c.Draw()\n",
    "# print(time.time()-start_t)"
   ]
  },
  {
   "cell_type": "code",
   "execution_count": null,
   "metadata": {},
   "outputs": [],
   "source": []
  },
  {
   "cell_type": "code",
   "execution_count": null,
   "metadata": {},
   "outputs": [],
   "source": []
  },
  {
   "cell_type": "markdown",
   "metadata": {
    "heading_collapsed": true
   },
   "source": [
    "# event yield vs. ncsc"
   ]
  },
  {
   "cell_type": "code",
   "execution_count": null,
   "metadata": {},
   "outputs": [],
   "source": []
  },
  {
   "cell_type": "code",
   "execution_count": null,
   "metadata": {
    "hidden": true
   },
   "outputs": [],
   "source": []
  },
  {
   "cell_type": "code",
   "execution_count": null,
   "metadata": {
    "hidden": true
   },
   "outputs": [],
   "source": []
  },
  {
   "cell_type": "markdown",
   "metadata": {},
   "source": [
    "# significance"
   ]
  },
  {
   "cell_type": "code",
   "execution_count": null,
   "metadata": {},
   "outputs": [],
   "source": []
  },
  {
   "cell_type": "code",
   "execution_count": null,
   "metadata": {},
   "outputs": [],
   "source": [
    "\n"
   ]
  },
  {
   "cell_type": "code",
   "execution_count": null,
   "metadata": {
    "hidden": true
   },
   "outputs": [],
   "source": []
  },
  {
   "cell_type": "code",
   "execution_count": null,
   "metadata": {
    "hidden": true
   },
   "outputs": [],
   "source": []
  },
  {
   "cell_type": "code",
   "execution_count": null,
   "metadata": {
    "hidden": true
   },
   "outputs": [],
   "source": []
  },
  {
   "cell_type": "code",
   "execution_count": null,
   "metadata": {},
   "outputs": [],
   "source": []
  },
  {
   "cell_type": "code",
   "execution_count": null,
   "metadata": {
    "hidden": true
   },
   "outputs": [],
   "source": []
  },
  {
   "cell_type": "code",
   "execution_count": null,
   "metadata": {},
   "outputs": [],
   "source": []
  },
  {
   "cell_type": "code",
   "execution_count": null,
   "metadata": {},
   "outputs": [],
   "source": []
  },
  {
   "cell_type": "code",
   "execution_count": null,
   "metadata": {},
   "outputs": [],
   "source": []
  },
  {
   "cell_type": "code",
   "execution_count": null,
   "metadata": {},
   "outputs": [],
   "source": []
  },
  {
   "cell_type": "code",
   "execution_count": null,
   "metadata": {},
   "outputs": [],
   "source": []
  },
  {
   "cell_type": "code",
   "execution_count": null,
   "metadata": {},
   "outputs": [],
   "source": [
    "\n"
   ]
  },
  {
   "cell_type": "code",
   "execution_count": null,
   "metadata": {},
   "outputs": [],
   "source": []
  },
  {
   "cell_type": "code",
   "execution_count": null,
   "metadata": {},
   "outputs": [],
   "source": []
  },
  {
   "cell_type": "code",
   "execution_count": null,
   "metadata": {},
   "outputs": [],
   "source": []
  },
  {
   "cell_type": "code",
   "execution_count": null,
   "metadata": {},
   "outputs": [],
   "source": []
  },
  {
   "cell_type": "code",
   "execution_count": null,
   "metadata": {},
   "outputs": [],
   "source": []
  },
  {
   "cell_type": "code",
   "execution_count": null,
   "metadata": {},
   "outputs": [],
   "source": []
  },
  {
   "cell_type": "code",
   "execution_count": null,
   "metadata": {},
   "outputs": [],
   "source": []
  },
  {
   "cell_type": "code",
   "execution_count": null,
   "metadata": {},
   "outputs": [],
   "source": []
  },
  {
   "cell_type": "code",
   "execution_count": null,
   "metadata": {},
   "outputs": [],
   "source": []
  },
  {
   "cell_type": "code",
   "execution_count": null,
   "metadata": {},
   "outputs": [],
   "source": []
  },
  {
   "cell_type": "code",
   "execution_count": null,
   "metadata": {},
   "outputs": [],
   "source": []
  }
 ],
 "metadata": {
  "kernelspec": {
   "display_name": "Python 3",
   "language": "python",
   "name": "python3"
  },
  "language_info": {
   "codemirror_mode": {
    "name": "ipython",
    "version": 3
   },
   "file_extension": ".py",
   "mimetype": "text/x-python",
   "name": "python",
   "nbconvert_exporter": "python",
   "pygments_lexer": "ipython3",
   "version": "3.6.8"
  }
 },
 "nbformat": 4,
 "nbformat_minor": 4
}
