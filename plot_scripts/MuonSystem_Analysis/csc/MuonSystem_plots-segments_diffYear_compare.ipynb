{
 "cells": [
  {
   "cell_type": "code",
   "execution_count": 2,
   "metadata": {},
   "outputs": [
    {
     "name": "stdout",
     "output_type": "stream",
     "text": [
      "Welcome to JupyROOT 6.18/02\n",
      "3.6.8 (default, Aug  7 2019, 17:28:10) \n",
      "[GCC 4.8.5 20150623 (Red Hat 4.8.5-39)]\n"
     ]
    }
   ],
   "source": [
    "# compare the Nsegment distribution for MC in different years\n",
    "import ROOT as rt\n",
    "# import root_numpy as rtnp\n",
    "import csv\n",
    "import re\n",
    "import sys\n",
    "import collections\n",
    "\n",
    "from collections import OrderedDict\n",
    "import uproot\n",
    "import awkward\n",
    "import numpy as np\n",
    "import time\n",
    "import numba\n",
    "from numba import jit\n",
    "from matplotlib import pyplot as plt\n",
    "sys.path.append('/nfshome/christiw/llp/delayed_jet_analyzer/lib/')\n",
    "from histo_utilities import create_TH1D, create_TH2D, std_color_list, create_TGraph, make_ratio_plot\n",
    "\n",
    "import CMS_lumi, tdrstyle\n",
    "tdrstyle.setTDRStyle()\n",
    "CMS_lumi.writeExtraText = 0\n",
    "\n",
    "wH = 1\n",
    "Z_MASS = 91.2\n",
    "\n",
    "\n",
    "# donotdelete = []\n",
    "print(sys.version)"
   ]
  },
  {
   "cell_type": "markdown",
   "metadata": {},
   "source": [
    "# Load ntuples"
   ]
  },
  {
   "cell_type": "code",
   "execution_count": 5,
   "metadata": {},
   "outputs": [
    {
     "name": "stdout",
     "output_type": "stream",
     "text": [
      "WJetsToLNu2016 /mnt/hadoop/store/group/phys_exotica/delayedjets/displacedJetMuonAnalyzer/V1p7/MC_Summer16/v11/v7//bkg/wH/normalized/WJetsToLNu_TuneCUETP8M1_13TeV-amcatnloFXFX-pythia8_1pb_weighted.root\n",
      "NEvents 256029660.0\n",
      "weights [-0.00034951  0.00034951]\n",
      "1805.3765\n",
      "7710545\n",
      "WJetsToLNu2017 /mnt/hadoop/store/group/phys_exotica/delayedjets/displacedJetMuonAnalyzer/V1p7/MC_Fall17/v12/v7//bkg/wH/normalized/WJetsToLNu_TuneCP5_13TeV-madgraphMLM-pythia8_1pb_weighted.root\n",
      "NEvents 21803684.0\n",
      "weights [-0.00257067  0.00257067]\n",
      "349.82654\n",
      "136086\n",
      "5.5193939208984375\n"
     ]
    }
   ],
   "source": [
    "start_t = time.time()\n",
    "fpath_bkg =OrderedDict()\n",
    "tree_bkg = OrderedDict()\n",
    "tree_sig = OrderedDict()\n",
    "fpath_sig =OrderedDict()\n",
    "path = '/mnt/hadoop/store/group/phys_exotica/delayedjets/displacedJetMuonAnalyzer/V1p7/MC_Summer16/v11/v7/'\n",
    "bkg_path = path+\"/bkg/wH/normalized/\"\n",
    "# fpath_bkg['QCD'] = bkg_path+\"QCD_HT50toInf_TuneCUETP8M1_13TeV-madgraphMLM-pythia8_1pb_weighted.root\"\n",
    "# fpath_bkg['DYJetsToLL'] = bkg_path+\"DYJetsToLL_M-50_TuneCUETP8M1_13TeV-amcatnloFXFX-pythia8_1pb_weighted.root\"\n",
    "# fpath_bkg['TTJets_DiLept'] = bkg_path+\"TTJets_DiLept_TuneCUETP8M1_13TeV-madgraphMLM-pythia8_1pb_weighted.root\"\n",
    "# fpath_bkg['TTJets_SingleLeptFromTbar'] = bkg_path+\"TTJets_SingleLeptFromTbar_TuneCUETP8M1_13TeV-madgraphMLM-pythia8_1pb_weighted.root\"\n",
    "# fpath_bkg['TTJets_SingleLeptFromT'] = bkg_path+\"TTJets_SingleLeptFromT_TuneCUETP8M1_13TeV-madgraphMLM-pythia8_1pb_weighted.root\"\n",
    "# fpath_bkg['ZJetsToNuNu'] = bkg_path+\"ZJetsToNuNu_Zpt-100toInf_TuneCUETP8M1_13TeV-madgraphMLM-pythia8_1pb_weighted.root\"\n",
    "fpath_bkg['WJetsToLNu2016'] = bkg_path+\"WJetsToLNu_TuneCUETP8M1_13TeV-amcatnloFXFX-pythia8_1pb_weighted.root\"\n",
    "\n",
    "path = '/mnt/hadoop/store/group/phys_exotica/delayedjets/displacedJetMuonAnalyzer/V1p7/MC_Fall17/v12/v7/'\n",
    "bkg_path = path+\"/bkg/wH/normalized/\"\n",
    "fpath_bkg['WJetsToLNu2017'] = bkg_path+\"WJetsToLNu_TuneCP5_13TeV-madgraphMLM-pythia8_1pb_weighted.root\"\n",
    "# fpath_bkg['WJetsToLNu'] = bkg_path+\"WJetsToLNu_TuneCP5_13TeV-amcatnloFXFX-pythia8_1pb_weighted.root\"\n",
    "lumi = 1\n",
    "\n",
    "# if year == 2016:lumi = 35.92*1000 #in pb-1\n",
    "# elif year == 2017:lumi = 41.53 * 1000\n",
    "# else: lumi = 59.74 * 1000\n",
    "\n",
    "# start_t = time.time()\n",
    "# data_year = 2016\n",
    "# if data_year == 2016:lumi = 35.92*1000 #in pb-1\n",
    "# elif data_year == 2017:lumi = 41.53 * 1000\n",
    "# else: lumi = 59.74 * 1000\n",
    "    \n",
    "# data_path = '/mnt/hadoop/store/group/phys_exotica/delayedjets/displacedJetMuonAnalyzer/V1p7/Data'+str(data_year)+'/v12/v5/wH/normalized/'\n",
    "# fpath_bkg['SingleElectron2016'] = data_path + 'SingleElectron.root'\n",
    "# # if data_year == 2018:\n",
    "# #     fpath_bkg['SingleElectron'] = data_path + 'EGamma.root'\n",
    "# # else:\n",
    "# #     fpath_bkg['SingleElectron'] = data_path + 'SingleElectron.root'\n",
    "\n",
    "# data_year = 2017\n",
    "# data_path = '/mnt/hadoop/store/group/phys_exotica/delayedjets/displacedJetMuonAnalyzer/V1p7/Data'+str(data_year)+'/v12/v5/wH/normalized/'\n",
    "# fpath_bkg['SingleElectron2017'] = data_path + 'SingleElectron.root'\n",
    "\n",
    "\n",
    "NEvents = {}\n",
    "\n",
    "\n",
    "for k,v in fpath_bkg.items():\n",
    "    print (k, v)\n",
    "#     tree[k] = rtnp.root2array(v)\n",
    "    root_dir = uproot.open(v) \n",
    "#     if k[:7] == 'ntuples':\n",
    "#         tree_bkg[k] = root_dir['ntuples']['llp']\n",
    "#         NEvents[k] = root_dir['ntuples']['NEvents'][1]\n",
    "#     else:\n",
    "    tree_bkg[k] = root_dir['MuonSystem']\n",
    "    NEvents[k] = root_dir['NEvents'][1]\n",
    "#     tree[k] = root_dir['ntuples']\n",
    "    a = tree_bkg[k][\"weight\"].array()\n",
    "    print(\"NEvents\",NEvents[k])\n",
    "    print ('weights',np.unique(a)*lumi)\n",
    "    print(np.sum(a))\n",
    "    print(len(a))\n",
    "#     print(len(a)/ NEvents[k])\n",
    "#     print(a.shape)\n",
    "print(time.time()-start_t)"
   ]
  },
  {
   "cell_type": "markdown",
   "metadata": {},
   "source": [
    "# Load trigger"
   ]
  },
  {
   "cell_type": "code",
   "execution_count": 7,
   "metadata": {},
   "outputs": [],
   "source": [
    "trigger_names_file = '/nfshome/christiw/llp/delayed_jet_analyzer/data/trigger_names_llp_v1.dat'\n",
    "trigger_names = []\n",
    "with open(trigger_names_file) as f:\n",
    "    reader = csv.reader(f, delimiter=\" \")\n",
    "    for line in reader:\n",
    "        trigger_names.append(line[2])\n",
    "if wH:\n",
    "    trigger_paths = [87,135] #PFMET120\n",
    "#     elif data_year == 2017: trigger_paths = [87,136] #PFMET120\n",
    "else:\n",
    "    trigger_paths = [177,362,87,135] #PFMET120\n",
    "\n",
    "xsec = {}\n",
    "xsec['bbbb10m'] = (5.328E-01 + 8.4E-01) *0.324\n",
    "xsec['bbbb1m'] = (5.328E-01 + 8.4E-01) *0.324\n",
    "xsec['bbbb0.1m'] = (5.328E-01 + 8.4E-01) *0.324\n",
    "\n",
    "\n",
    "xsec['WJetsToLNu'] = 61526.7\n",
    "\n",
    "legend = {}\n",
    "legend['bbbb10m'] = 'signal c#tau = 10 m'\n",
    "legend['bbbb1m'] = 'signal c#tau = 1 m'\n",
    "legend['bbbb0.1m'] = 'signal c#tau = 0.1 m'\n",
    "\n",
    "legend['SingleElectron'] = 'SingleElectron'\n",
    "legend['SingleMuon'] = 'SingleMuon'\n",
    "legend['WJetsToLNu'] = 'WJetsToLNu'"
   ]
  },
  {
   "cell_type": "markdown",
   "metadata": {},
   "source": [
    "# Helper Functions"
   ]
  },
  {
   "cell_type": "code",
   "execution_count": null,
   "metadata": {},
   "outputs": [],
   "source": [
    "import math\n",
    "def deltaPhi( phi1,  phi2):\n",
    "\n",
    "    dphi = phi1-phi2\n",
    "    while (dphi > math.pi):\n",
    "        dphi -= 2*math.pi\n",
    "  \n",
    "    while (dphi <= -math.pi):\n",
    "        dphi += 2*math.pi\n",
    "    return dphi\n",
    "def deltaR(eta1, phi1, eta2, phi2):\n",
    "    dphi = deltaPhi(phi1,phi2)\n",
    "    deta = eta1 - eta2\n",
    "    return (dphi*dphi + deta*deta)**0.5"
   ]
  },
  {
   "cell_type": "code",
   "execution_count": null,
   "metadata": {},
   "outputs": [],
   "source": []
  },
  {
   "cell_type": "markdown",
   "metadata": {},
   "source": [
    "# nCsc with different hit vetoing"
   ]
  },
  {
   "cell_type": "code",
   "execution_count": 10,
   "metadata": {},
   "outputs": [
    {
     "name": "stdout",
     "output_type": "stream",
     "text": [
      "WJetsToLNu2016\n",
      "WJetsToLNu2017\n",
      "75.04844117164612\n"
     ]
    }
   ],
   "source": [
    "start_t = time.time()\n",
    "pdgId = 13\n",
    "JET_PT_CUT = 10\n",
    "MUON_PT_CUT = 20\n",
    "\n",
    "\n",
    "weight = {}\n",
    "nCsc = {}\n",
    "nCsc_JetMuonVetoCluster0p4_Me1112Veto = {}\n",
    "cscClusterSize = {}\n",
    "\n",
    "\n",
    "selections_cluster = {}\n",
    "sel_cluster = {}\n",
    "sel_jetveto = {}\n",
    "for k,T in tree_bkg.items():\n",
    "    if pdgId == 13 and k == 'SingleElectron': continue\n",
    "    if pdgId == 11 and k == 'SingleMuon': continue\n",
    "########### SELECTION: CLUSTERS ############\n",
    "\n",
    "    ###### OOT control region #####\n",
    "\n",
    "    sel_cluster_temp = T.array('cscClusterMaxStationRatio')*T.array('cscClusterSize') > 5.01\n",
    "    sel_cluster_temp = np.logical_and( sel_cluster_temp, T.array('cscClusterJetVeto') < JET_PT_CUT)\n",
    "    sel_cluster_temp = np.logical_and( sel_cluster_temp, T.array('cscClusterMuonVeto') < MUON_PT_CUT)\n",
    "\n",
    "#     selections_cluster['test'] = np.logical_and(sel_cluster_temp, T.array('cscClusterTime') < -53)\n",
    "#     selections_cluster['test'] = np.logical_and(selections_cluster['test'], T.array('cscClusterTime') > -87.5)\n",
    "    \n",
    "#     selections_cluster['oot1'] = np.logical_and(sel_cluster_temp, T.array('cscT') > -62.5)\n",
    "#     selections_cluster['oot1'] = np.logical_and(sel_cluster_temp, T.array('cscT') < -28)\n",
    "#     selections_cluster['oot2'] = np.logical_and(sel_cluster_temp, T.array('cscClusterTime') < -12.5)\n",
    "#     selections_cluster['oot2'] = np.logical_and(selections_cluster['oot2'], T.array('cscClusterTime') > -37.5)\n",
    "\n",
    "#     selections_cluster['oot3'] = np.logical_and(sel_cluster_temp, T.array('cscClusterTime') < 72)\n",
    "#     selections_cluster['oot3'] = np.logical_and(selections_cluster['oot3'], T.array('cscClusterTime') > 37.5)\n",
    "    \n",
    "#     selections_cluster['oot4'] = np.logical_and(sel_cluster_temp, T.array('cscClusterTime') < 97)\n",
    "#     selections_cluster['oot4'] = np.logical_and(selections_cluster['oot4'], T.array('cscClusterTime') > 62.5)\n",
    "    \n",
    "#     selections_cluster['oot_total'] = np.logical_or(selections_cluster['oot1'], selections_cluster['oot2'])\n",
    "#     selections_cluster['oot_total'] = np.logical_or(selections_cluster['oot_total'], selections_cluster['oot3'])\n",
    "#     selections_cluster['oot_total'] = np.logical_or(selections_cluster['oot_total'], selections_cluster['oot4'])\n",
    "\n",
    "#     print(\"-3 bunch crossing\", np.count_nonzero(selections_cluster['test'].flatten()))\n",
    "#     print(\"-2 bunch crossing\",np.count_nonzero(selections_cluster['oot1'].flatten()))\n",
    "#     print(\"-1 bunch crossing\",np.count_nonzero(selections_cluster['oot2'].flatten()))\n",
    "#     print(\"+2 bunch crossing\",np.count_nonzero(selections_cluster['oot3'].flatten()))\n",
    "#     print(\"+3 bunch crossing\",np.count_nonzero(selections_cluster['oot4'].flatten()))\n",
    "\n",
    "\n",
    "    sel_cluster = sel_cluster_temp\n",
    "\n",
    "\n",
    "    ###### in time control region #####\n",
    "    \n",
    "#     sel_cluster = T.array('cscClusterJetVeto') > JET_PT_CUT\n",
    "#     sel_cluster = np.logical_or( sel_cluster, T.array('cscClusterMuonVeto') > MUON_PT_CUT)\n",
    "#     sel_cluster = np.logical_and( sel_cluster, T.array('cscClusterMe1112Ratio') > 0.01)\n",
    "#     sel_cluster = np.logical_and( sel_cluster, T.array('cscClusterTime') > -12.5)\n",
    "#     sel_cluster = np.logical_and( sel_cluster, T.array('cscClusterTime') < 22) \n",
    "            \n",
    "########### SELECTION: EVENTS ############\n",
    "    hlt = T['HLTDecision'].array()\n",
    "    # select only triggered events\n",
    "    sel_ev= np.ones(hlt[:,0].shape, dtype=bool)\n",
    "    sel_ev= np.zeros(hlt[:,0].shape)\n",
    "    for tr in trigger_paths:            \n",
    "        sel_ev  = np.logical_or(sel_ev,hlt[:,tr])\n",
    "    sel_muon = np.logical_and(T.array('lepPassId'), T.array('lepPt')>=25)\n",
    "    sel_muon = np.logical_and(sel_muon, np.abs(T.array('lepEta'))<2.4)\n",
    "    sel_muon = np.logical_and(sel_muon, np.abs(T.array('lepPdgId')) == 13)\n",
    "\n",
    "    sel_ele = np.logical_and(T.array('lepPassId'), T.array('lepPt')>=35)\n",
    "    sel_ele = np.logical_and(sel_ele, np.abs(T.array('lepEta'))<2.4)\n",
    "    sel_ele = np.logical_and(sel_ele, np.abs(T.array('lepPdgId')) == 11)\n",
    "    \n",
    "#     sel_lep = np.logical_or(sel_ele, sel_muon)\n",
    "    if pdgId == 13:\n",
    "        sel_lep = sel_muon\n",
    "    else: \n",
    "        sel_lep = sel_ele\n",
    "    sel_ev = np.logical_and(sel_ev, sel_lep.sum() == 1)\n",
    "    ##### jet veto #####\n",
    "#     sel_jetveto = np.logical_and(sel_ev, (sel_cluster.sum()) >= 1)\n",
    "\n",
    "    nCsc[k] = T.array('nCsc')[sel_ev]\n",
    "    cscClusterSize[k] =  T.array('cscClusterSize')[sel_cluster][sel_ev]\n",
    "\n",
    "    if k[:6] == 'Single' or k == 'EGamma':\n",
    "        weight[k] = T.array('weight')[sel_ev]\n",
    "    else:\n",
    "        weight[k] = T.array('weight')[sel_ev]*lumi\n",
    "\n",
    "    nCsc_JetMuonVetoCluster0p4_Me1112Veto[k] = cscClusterSize[k].count()\n",
    "    print(k)\n",
    "print(time.time()-start_t)"
   ]
  },
  {
   "cell_type": "code",
   "execution_count": 23,
   "metadata": {},
   "outputs": [
    {
     "name": "stderr",
     "output_type": "stream",
     "text": [
      "Warning in <TCanvas::Constructor>: Deleting canvas with same name: c\n"
     ]
    },
    {
     "data": {
      "image/png": "[encoded data removed]",
      "text/plain": [
       "<IPython.core.display.Image object>"
      ]
     },
     "metadata": {},
     "output_type": "display_data"
    }
   ],
   "source": [
    "c = rt.TCanvas('c','c', 800, 800)\n",
    "leg = rt.TLegend(0.65,0.70,0.85,0.80)\n",
    "leg.SetTextSize(0.022)\n",
    "leg.SetBorderSize(0)\n",
    "leg.SetEntrySeparation(0.01)\n",
    "h = {}\n",
    "\n",
    "\n",
    "i = 0\n",
    "for k,v in nCsc.items():\n",
    "    h[k] = create_TH1D( nCsc[k], axis_title=['Number of CSC Segments', 'Fraction of Events'], name=k, binning=[30,0,300],weights = weight[k])\n",
    "#     h[k] = create_TH1D( nCsc_JetMuonVetoCluster0p4_Me1112Veto[k], axis_title=['Number of CSC Segments', 'Fraction of Events'], name=k, binning=[30,0,300],weights = weight[k])\n",
    "\n",
    "    h[k].SetLineColor(std_color_list[i])\n",
    "    leg.AddEntry(h[k],k)\n",
    "    h[k].DrawNormalized('same')\n",
    "    i+=1\n",
    "c.SetLogy()\n",
    "leg.Draw()\n",
    "c.Draw()"
   ]
  },
  {
   "cell_type": "markdown",
   "metadata": {},
   "source": [
    "# Data/MC Ratio plot"
   ]
  },
  {
   "cell_type": "code",
   "execution_count": 25,
   "metadata": {},
   "outputs": [
    {
     "name": "stdout",
     "output_type": "stream",
     "text": [
      "82481.0\n",
      "\n",
      "****************************************\n",
      "Minimizer is Minuit / Migrad\n",
      "MinFCN                    =      1.60063\n",
      "Chi2                      =      2.79639\n",
      "NDf                       =           14\n",
      "Edm                       =  1.77929e-11\n",
      "NCalls                    =           92\n",
      "Constant                  =      14.0168   +/-   0.43072     \n",
      "Slope                     =    -0.355359   +/-   0.0182138   \n",
      "\n",
      "0.9993823241264835\n",
      "68163.0\n"
     ]
    },
    {
     "name": "stderr",
     "output_type": "stream",
     "text": [
      "Warning in <TCanvas::Constructor>: Deleting canvas with same name: c\n"
     ]
    },
    {
     "data": {
      "image/png": "[encoded data removed]",
      "text/plain": [
       "<IPython.core.display.Image object>"
      ]
     },
     "metadata": {},
     "output_type": "display_data"
    }
   ],
   "source": [
    "import importlib\n",
    "importlib.reload(sys.modules['histo_utilities'])\n",
    "from histo_utilities import create_TH1D, create_TH2D, std_color_list, create_TGraph, make_ratio_plot\n",
    "\n",
    "c = rt.TCanvas('c','c', 800, 800)\n",
    "# Plotting ncsc\n",
    "start_t = time.time()\n",
    "leg = rt.TLegend(0.65,0.70,0.85,0.80)\n",
    "leg.SetTextSize(0.022)\n",
    "leg.SetBorderSize(0)\n",
    "\n",
    "leg.SetEntrySeparation(0.01)\n",
    "\n",
    "\n",
    "h = {}\n",
    "rt.gStyle.SetOptFit(1011)\n",
    "if pdgId == 13: data = 'SingleMuon'\n",
    "else: data = 'SingleElectron'\n",
    "mc = 'WJetsToLNu'\n",
    "keys = ['SingleElectron2017', 'SingleElectron2016']\n",
    "for i,k in enumerate(keys):\n",
    "#     w = cscClusterNLayer[k]*0.0 + weight[k]\n",
    "#     print(len(w.flatten()))\n",
    "#     print(len(cscClusterNLayer[k].flatten()))\n",
    "#     h[k] = create_TH1D( cscClusterNLayer[k].flatten(), axis_title=['cluster station', 'Events'], name=k, binning=[10,0,10],weights = w.flatten())\n",
    "#     h[k] = create_TH1D( nCscClusters[k], axis_title=['Number of Clusters', 'Events'], name=k, binning=[10,0,10],weights = weight[k])\n",
    "\n",
    "#     h[k] = create_TH1D( cscClusterNLayer[k].sum(), axis_title=['Number of Stations per Event', 'Events'], name=k, binning=[10,0,10],weights = weight[k])\n",
    "    print(np.sum(weight[k]))\n",
    "\n",
    "#     print(len(nCsc_JetMuonVetoCluster0p4_Me1112Veto[k]))\n",
    "    h[k] = create_TH1D( nCsc_JetMuonVetoCluster0p4_Me1112Veto[k], axis_title=['nCsc', 'Events'], name=k, binning=[20,0,100],weights = weight[k])\n",
    "#     h[k] = create_TH1D( cscClusterTime[k][:,0], axis_title=['csc cluster time [ns]', 'Events'], name=k, binning=[30,-100,-12.5],weights = weight[k])\n",
    "\n",
    "    h[k].SetLineColor(std_color_list[i])\n",
    "    leg.AddEntry(h[k], k)\n",
    "#     h[k].SetMinimum(1)\n",
    "\n",
    "    if k == 'SingleElectron2017':\n",
    "        r = h[k].Fit('expo', 'LRSQ+', '', 19,120)\n",
    "        print(r.Get())\n",
    "        print(r.Prob())\n",
    "        h[k].GetFunction(\"expo\").SetLineColor(std_color_list[2])\n",
    "        h[k].GetFunction(\"expo\").SetLineWidth(2)\n",
    "\n",
    "\n",
    "    h[k].Draw('E1 same hist')\n",
    "#     h[k].Draw('E1' if i == 0 else '')\n",
    "\n",
    "# c = make_ratio_plot([h[mc],h[data]], fit = False, logy=True, in_tags = [\"MC\",\"Data\"], ratio_bounds = [0,3])\n",
    "# c.SetRightMargin(0)\n",
    "c.SetLogy()\n",
    "leg.Draw()\n",
    "\n",
    "c.Draw()\n",
    "\n",
    "    \n",
    "    \n",
    "\n",
    "\n",
    "# c.Draw()\n",
    "# print(time.time()-start_t)"
   ]
  }
 ],
 "metadata": {
  "kernelspec": {
   "display_name": "Python 3",
   "language": "python",
   "name": "python3"
  },
  "language_info": {
   "codemirror_mode": {
    "name": "ipython",
    "version": 3
   },
   "file_extension": ".py",
   "mimetype": "text/x-python",
   "name": "python",
   "nbconvert_exporter": "python",
   "pygments_lexer": "ipython3",
   "version": "3.6.8"
  }
 },
 "nbformat": 4,
 "nbformat_minor": 4
}
