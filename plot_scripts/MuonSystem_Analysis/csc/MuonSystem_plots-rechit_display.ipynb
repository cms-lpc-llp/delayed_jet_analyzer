{
 "cells": [
  {
   "cell_type": "code",
   "execution_count": 1,
   "metadata": {},
   "outputs": [
    {
     "name": "stdout",
     "output_type": "stream",
     "text": [
      "Welcome to JupyROOT 6.22/02\n",
      "3.6.8 (default, Apr  2 2020, 13:34:55) \n",
      "[GCC 4.8.5 20150623 (Red Hat 4.8.5-39)]\n"
     ]
    }
   ],
   "source": [
    "# plot distribution of rechits in a cluster, for paper draft\n",
    "\n",
    "import ROOT as rt\n",
    "# import root_numpy as rtnp\n",
    "import csv\n",
    "import re\n",
    "import sys\n",
    "import collections\n",
    "\n",
    "from collections import OrderedDict\n",
    "import uproot\n",
    "import awkward\n",
    "import numpy as np\n",
    "import time\n",
    "import numba\n",
    "from numba import jit\n",
    "from matplotlib import pyplot as plt\n",
    "sys.path.append('/storage/user/christiw/gpu/christiw/llp/delayed_jet_analyzer/lib/')\n",
    "\n",
    "from histo_utilities import create_TH1D, create_TH2D, std_color_list, create_TGraph\n",
    "\n",
    "import CMS_lumi, tdrstyle\n",
    "a = tdrstyle.setTDRStyle()\n",
    "CMS_lumi.writeExtraText = 0\n",
    "\n",
    "Z_MASS = 91.2\n",
    "\n",
    "\n",
    "# donotdelete = []\n",
    "print(sys.version)"
   ]
  },
  {
   "cell_type": "markdown",
   "metadata": {},
   "source": [
    "# Load ntuples"
   ]
  },
  {
   "cell_type": "code",
   "execution_count": 2,
   "metadata": {},
   "outputs": [
    {
     "name": "stdout",
     "output_type": "stream",
     "text": [
      "signal /mnt/hadoop/store/group/phys_exotica/delayedjets/displacedJetMuonNtuple/V1p17/MC_Fall18/v1/sixie/ggH_HToSSTobbbb_MH-125_TuneCP5_13TeV-powheg-pythia8/Run2_Run2_displacedJetMuonNtupler_V1p17_MC_Fall18_RunIIAutumn18DRPremix-rp_102X_upgrade2018_realistic_v15-v1_v1_v2/200520_202800/0000/displacedJetMuon_ntupler_1.root\n",
      "20000\n",
      "CPU times: user 334 ms, sys: 14.5 ms, total: 348 ms\n",
      "Wall time: 1.63 s\n"
     ]
    }
   ],
   "source": [
    "%%time\n",
    "fpath_bkg =OrderedDict()\n",
    "tree_bkg = OrderedDict()\n",
    "tree_sig = OrderedDict()\n",
    "fpath_sig =OrderedDict()\n",
    "\n",
    "fpath_bkg['signal'] = '/mnt/hadoop/store/group/phys_exotica/delayedjets/displacedJetMuonNtuple/V1p17/MC_Fall18/v1/sixie/ggH_HToSSTobbbb_MH-125_TuneCP5_13TeV-powheg-pythia8/Run2_Run2_displacedJetMuonNtupler_V1p17_MC_Fall18_RunIIAutumn18DRPremix-rp_102X_upgrade2018_realistic_v15-v1_v1_v2/200520_202800/0000/displacedJetMuon_ntupler_1.root'\n",
    "\n",
    "\n",
    "    \n",
    "\n",
    "NEvents = {}\n",
    "\n",
    "for k,v in fpath_bkg.items():\n",
    "    print (k, v)\n",
    "    root_dir = uproot.open(v) \n",
    "\n",
    "    tree_bkg[k] = root_dir['ntuples']['llp']\n",
    "    NEvents[k] = root_dir['ntuples']['NEvents'][1]\n",
    "    a = tree_bkg[k][\"gLLP_csc\"].array()\n",
    "    print(len(a))"
   ]
  },
  {
   "cell_type": "markdown",
   "metadata": {},
   "source": [
    "# Load variables"
   ]
  },
  {
   "cell_type": "code",
   "execution_count": 4,
   "metadata": {
    "slideshow": {
     "slide_type": "notes"
    }
   },
   "outputs": [
    {
     "name": "stdout",
     "output_type": "stream",
     "text": [
      "CPU times: user 996 ms, sys: 14.9 ms, total: 1.01 s\n",
      "Wall time: 1.01 s\n"
     ]
    }
   ],
   "source": [
    "%%time\n",
    "\n",
    "JET_PT_CUT = 10\n",
    "MUON_PT_CUT = 20\n",
    "clusterIndex = {}\n",
    "cscRechitsX = {}\n",
    "cscRechitsY = {}\n",
    "cscRechitsZ = {}\n",
    "cscRechitsR = {}\n",
    "cscRechitClusterSize= {}\n",
    "cscRechitsX_all= {}\n",
    "cscRechitsY_all= {}\n",
    "cscRechitClusterNStation = {}\n",
    "cscRechitsStation = {}\n",
    "cscRechitsStation_all ={}\n",
    "cscRechitsPhi_all = {}\n",
    "cscRechitsEta_all = {}\n",
    "cscRechitsPhi = {}\n",
    "cscRechitsEta = {}\n",
    "eventNum = {}\n",
    "lumiSec = {}\n",
    "runNum = {}\n",
    "cluster_index = ''\n",
    "\n",
    "for k,T in tree_bkg.items():\n",
    "    ########### SELECTION: CLUSTERS ############\n",
    "    sel_rechits = T.array('cscRechitsClusterId') == 0\n",
    "\n",
    "\n",
    "#     sel_rechitcluster = np.abs(T.array('cscRechitCluster' + cluster_index + 'Eta')) < 2.0\n",
    "    \n",
    "#     me1112_veto = 0\n",
    "#     sel_rechitcluster = np.logical_and(sel_rechitcluster, T.array('cscRechitCluster' + cluster_index + 'NRechitChamberPlus11') <= me1112_veto)\n",
    "#     sel_rechitcluster = np.logical_and(sel_rechitcluster, T.array('cscRechitCluster' + cluster_index + 'NRechitChamberPlus12') <= me1112_veto)\n",
    "#     sel_rechitcluster = np.logical_and(sel_rechitcluster, T.array('cscRechitCluster' + cluster_index + 'NRechitChamberMinus11') <= me1112_veto)\n",
    "#     sel_rechitcluster = np.logical_and(sel_rechitcluster, T.array('cscRechitCluster' + cluster_index + 'NRechitChamberMinus12') <= me1112_veto)\n",
    "# #     sel_rechitcluster = np.logical_and(sel_rechitcluster, T.array('cscRechitCluster' + cluster_index + '_match_MB1Seg_0p4') <= me1112_veto)\n",
    "# #     sel_rechitcluster = np.logical_and(sel_rechitcluster, T.array('cscRechitCluster' + cluster_index + '_match_RE12_0p4') <= me1112_veto)\n",
    "# #     sel_rechitcluster = np.logical_and(sel_rechitcluster, T.array('cscRechitCluster' + cluster_index + '_match_RB1_0p4') <= me1112_veto)\n",
    "#     sel_rechitcluster = np.logical_and(sel_rechitcluster, T.array('cscRechitCluster' + cluster_index + 'TimeSpread') <= 20)\n",
    "#     sel_rechitcluster = np.logical_and(sel_rechitcluster, np.logical_and(T.array('cscRechitCluster' + cluster_index + 'TimeTotal') < 12.5, T.array('cscRechitCluster' + cluster_index + 'TimeTotal') > -5.0))\n",
    "#     sel_rechitcluster = np.logical_and( sel_rechitcluster, T.array('cscRechitCluster' + cluster_index + 'JetVetoPt') < JET_PT_CUT)\n",
    "#     sel_rechitcluster = np.logical_and( sel_rechitcluster, T.array('cscRechitCluster' + cluster_index + 'MuonVetoPt') < MUON_PT_CUT)\n",
    "#     sel_rechitcluster = np.logical_and(sel_rechitcluster, T.array('cscRechitCluster' + cluster_index + '_match_gLLP_csc'))\n",
    "\n",
    "\n",
    "#     root [8] llp->Scan(\"cscRechitClusterSize:cscRechitsClusterId:cscRechitsX\",\"cscRechitClusterSize>130\")\n",
    "    \n",
    "\n",
    "    \n",
    "#     clusterIndex[k] = np.where(np.any(sel_rechitcluster, axis=1))\n",
    "    sel_rechitcluster = T.array('cscRechitClusterSize')>500\n",
    "    \n",
    "    sel_ev = sel_rechitcluster.sum()>0\n",
    "# ########### SELECTION: EVENTS ############\n",
    "    cscRechitsX[k] = T.array(\"cscRechitsX\")[sel_rechits][sel_ev]\n",
    "    cscRechitsY[k] = T.array(\"cscRechitsY\")[sel_rechits][sel_ev]\n",
    "    cscRechitsZ[k] = T.array(\"cscRechitsZ\")[sel_rechits][sel_ev]\n",
    "    cscRechitsR[k] = (cscRechitsX[k]**2+cscRechitsY[k]**2)**0.5\n",
    "    cscRechitsStation[k] = T.array(\"cscRechitsStation\")[sel_rechits][sel_ev]\n",
    "    cscRechitsPhi[k] = T.array(\"cscRechitsPhi\")[sel_rechits][sel_ev]\n",
    "    cscRechitsEta[k] = T.array(\"cscRechitsEta\")[sel_rechits][sel_ev]\n",
    "\n",
    "    cscRechitsX_all[k] = T.array(\"cscRechitsX\")[sel_ev]\n",
    "    cscRechitsY_all[k] = T.array(\"cscRechitsY\")[sel_ev]\n",
    "\n",
    "    cscRechitsPhi_all[k] = T.array(\"cscRechitsPhi\")[sel_ev]\n",
    "    cscRechitsEta_all[k] = T.array(\"cscRechitsEta\")[sel_ev]\n",
    "    cscRechitClusterSize[k] = T.array(\"cscRechitClusterSize\")[sel_ev][:,0]\n",
    "    cscRechitClusterNStation[k] = T.array(\"cscRechitClusterNStation\")[sel_ev][:,0]\n",
    "\n",
    "    cscRechitsStation_all[k] = T.array(\"cscRechitsStation\")[sel_ev]\n",
    "\n",
    "    eventNum[k] = T.array(\"eventNum\")[sel_ev]\n",
    "    lumiSec[k] = T.array(\"lumiNum\")[sel_ev]\n",
    "    runNum[k] =  T.array(\"runNum\")[sel_ev]\n",
    "\n",
    "\n",
    "#     nCscSimhits[k] = T.array('nCscSimhits')[sel_ev]\n",
    "#     nCscRechits[k] = T.array('ncscRechits')[sel_ev]\n",
    "#     nCscWireDigis[k] = T.array('nCscWireDigis')[sel_ev]\n",
    "#     nCscStripDigis[k] = T.array('nCscStripDigis')[sel_ev]\n",
    "#     cscWireDigiChamber[k] = T.array('cscWireDigiChamber')[sel_ev]\n",
    "#     cscStripDigiChamber[k] = T.array('cscStripDigiChamber')[sel_ev]\n",
    "#     nCscWireDigis_maxChamber[k] = []\n",
    "#     nCscWireDigis_maxChamber2[k] = []\n",
    "#     nCscWireDigis_maxChamber3[k] = []\n",
    "#     nCscWireDigis_maxChamber4[k] = []\n",
    "\n",
    "\n",
    "#     nCscStripDigis_maxChamber[k] = []\n",
    "#     for i,ev in enumerate(cscWireDigiChamber[k]):\n",
    "# #         if len(ev) == 0: continue\n",
    "# #         if not i == 0:continue\n",
    "#         counts = list(np.bincount(ev[ev>0]))+list(np.bincount(-1*ev[ev<0]))\n",
    "#         counts.sort(reverse=True)\n",
    "#         nCscWireDigis_maxChamber[k].append(counts[0] if len(counts)>=1 else sum(counts))\n",
    "#         nCscWireDigis_maxChamber2[k].append(sum(counts[:2]) if len(counts)>=2 else sum(counts))\n",
    "#         nCscWireDigis_maxChamber3[k].append(sum(counts[:3]) if len(counts)>=3 else sum(counts))\n",
    "#         nCscWireDigis_maxChamber4[k].append(sum(counts[:4]) if len(counts)>=4 else sum(counts))\n",
    "\n",
    "\n",
    "# #         nCscWireDigis_maxChamber[k].append(counts[0]+counts[2])\n",
    "\n",
    "\n",
    "#     nCscWireDigis_maxChamber[k] = np.array(nCscWireDigis_maxChamber[k])\n",
    "#     nCscWireDigis_maxChamber2[k] = np.array(nCscWireDigis_maxChamber2[k])\n",
    "#     nCscWireDigis_maxChamber3[k] = np.array(nCscWireDigis_maxChamber3[k])\n",
    "#     nCscWireDigis_maxChamber4[k] = np.array(nCscWireDigis_maxChamber4[k])\n",
    "\n",
    "\n",
    "#     print(len(nCscRechitCluster_JetMuonVetoCluster0p4_Me1112Veto[k]),len(nCscSegCluster_JetMuonVetoCluster0p4_Me1112Veto[k]))"
   ]
  },
  {
   "cell_type": "code",
   "execution_count": 5,
   "metadata": {},
   "outputs": [
    {
     "name": "stdout",
     "output_type": "stream",
     "text": [
      "45076 46 1\n"
     ]
    }
   ],
   "source": [
    "i = 43\n",
    "\n",
    "print(eventNum[k][43],lumiSec[k][43],runNum[k][43])\n"
   ]
  },
  {
   "cell_type": "markdown",
   "metadata": {},
   "source": [
    "## x-y plot"
   ]
  },
  {
   "cell_type": "code",
   "execution_count": 5,
   "metadata": {},
   "outputs": [
    {
     "name": "stdout",
     "output_type": "stream",
     "text": [
      "537.0\n",
      "526 526 2\n",
      "\n",
      "here 0.23679999649524688\n"
     ]
    },
    {
     "name": "stderr",
     "output_type": "stream",
     "text": [
      "Warning in <TCanvas::Constructor>: Deleting canvas with same name: c\n",
      "Info in <TCanvas::Print>: png file /storage/user/christiw/gpu/christiw/llp/delayed_jet_analyzer/plots/MuonSystem_Analysis/rechit_distribution/Nrechit526evtNum43.png has been created\n",
      "Info in <TCanvas::SaveSource>: C++ Macro file: /storage/user/christiw/gpu/christiw/llp/delayed_jet_analyzer/plots/MuonSystem_Analysis/rechit_distribution/Nrechit526evtNum43.C has been generated\n",
      "Info in <TCanvas::Print>: pdf file /storage/user/christiw/gpu/christiw/llp/delayed_jet_analyzer/plots/MuonSystem_Analysis/rechit_distribution/Nrechit526evtNum43.pdf has been created\n"
     ]
    },
    {
     "data": {
      "image/png": "[encoded data removed]",
      "text/plain": [
       "<IPython.core.display.Image object>"
      ]
     },
     "metadata": {},
     "output_type": "display_data"
    }
   ],
   "source": [
    "import os\n",
    "import importlib\n",
    "importlib.reload(sys.modules['CMS_lumi'])\n",
    "# from histo_utilities import create_TH1D, create_TH2D, std_color_list, create_TGraph, make_ratio_plot\n",
    "# import CMS_lumi, tdrstyle\n",
    "\n",
    "\n",
    "\n",
    "# Plotting ncsc\n",
    "start_t = time.time()\n",
    "c = rt.TCanvas('c','c', 1000, 800)\n",
    "h = {}\n",
    "leg = rt.TLegend(0.60,0.75,0.97,0.93)\n",
    "# leg = rt.TLegend(0.75,0.80,0.90,0.90)\n",
    "leg.SetTextSize(0.022)\n",
    "leg.SetBorderSize(0)\n",
    "# leg.SetTextFont(42)\n",
    "leg.SetEntrySeparation(0.01)\n",
    "k = 'signal'\n",
    "etaphi = 0\n",
    "\n",
    "for evtNum in range(len(cscRechitClusterSize['signal'])):\n",
    "    if not evtNum==43:continue\n",
    "#     x_mean = np.mean(np.abs(cscRechitsX[k][evtNum]))\n",
    "#     y_mean = np.mean(np.abs(cscRechitsY[k][evtNum]))\n",
    "#     x_mean = -1*np.mean(cscRechitsX[k][evtNum])\n",
    "#     y_mean = np.mean(cscRechitsY[k][evtNum])\n",
    "#     spread = 400\n",
    "#     h[k] = create_TH2D( np.column_stack((-1*cscRechitsX_all[k][evtNum],cscRechitsY_all[k][evtNum])), axis_title=['Rechit X [cm]', 'Rechit Y [cm]', 'Number of Rechits'], \\\n",
    "#                        name=k, binning=[100,x_mean-spread,x_mean+spread,100,y_mean-spread,y_mean+spread])\n",
    "    \n",
    "    if etaphi:\n",
    "        x_mean = np.mean(cscRechitsEta[k][evtNum])\n",
    "        y_mean = np.mean(cscRechitsPhi[k][evtNum])\n",
    "        x_spread = 1.5\n",
    "        y_spread = 0.6\n",
    "    #     h[k] = create_TH2D( np.column_stack((np.abs(cscRechitsX[k][evtNum]),np.abs(cscRechitsY[k][evtNum]))), axis_title=['X [cm]', 'Y [cm]', 'Events'], \\\n",
    "    #                        name=k, binning=[50,x_mean-spread,x_mean+spread,50,y_mean-spread,y_mean+spread])\n",
    "        h[k] = create_TH2D( np.column_stack((cscRechitsEta_all[k][evtNum],cscRechitsPhi_all[k][evtNum])), axis_title=['Rechit #eta', 'Rechit #phi', 'Number of Rechits'], \\\n",
    "                           name=k, binning=[100,x_mean-x_spread/2,x_mean+x_spread,100,y_mean-y_spread/2,y_mean+y_spread])\n",
    "    #     h[k] = create_TH2D( np.column_stack((cscRechitsEta[k][evtNum],cscRechitsPhi[k][evtNum])), axis_title=['Rechit #eta', 'Rechit #phi', 'Number of Rechits'], \\\n",
    "    #                        name=k, binning=[100,x_mean-x_spread,x_mean+x_spread,100,y_mean-y_spread,y_mean+y_spread])\n",
    "    else:\n",
    "        x_mean = np.mean(np.abs(cscRechitsX[k][evtNum]))\n",
    "        y_mean = np.mean(np.abs(cscRechitsY[k][evtNum]))\n",
    "        x_mean = -1*np.mean(cscRechitsX[k][evtNum])\n",
    "        y_mean = np.mean(cscRechitsY[k][evtNum])\n",
    "        spread = 400\n",
    "        h[k] = create_TH2D( np.column_stack((-1*cscRechitsX_all[k][evtNum],cscRechitsY_all[k][evtNum])), axis_title=['Rechit X [cm]', 'Rechit Y [cm]', 'Number of Rechits'], \\\n",
    "                           name=k, binning=[100,x_mean-spread,x_mean+spread,100,y_mean-spread,y_mean+spread])\n",
    "#         h[k] = create_TH2D( np.column_stack((-1*cscRechitsX[k][evtNum],cscRechitsY[k][evtNum])), axis_title=['Rechit X [cm]', 'Rechit Y [cm]', 'Number of Rechits'], \\\n",
    "#                            name=k, binning=[100,x_mean-spread,x_mean+spread,100,y_mean-spread,y_mean+spread])\n",
    "\n",
    "\n",
    "    h[k].GetZaxis().SetTitleOffset(0.75)\n",
    "    print(h[k].Integral())\n",
    "    print(len(np.abs(cscRechitsX[k][evtNum])), cscRechitClusterSize['signal'][evtNum], cscRechitClusterNStation['signal'][evtNum])\n",
    "    h[k].Draw('colz')\n",
    "    \n",
    "    ## draw ellipse\n",
    "#     el1 = rt.TEllipse(x_mean, y_mean,x_spread/5,x_spread/4)\n",
    "    el1 = rt.TEllipse(x_mean, y_mean,x_spread/5,y_spread/3.5)\n",
    "\n",
    "\n",
    "    el1.SetFillColorAlpha(1001,0)\n",
    "    el1.SetLineWidth(2)\n",
    "    el1.SetLineColor(2)\n",
    "    el1.Draw('same')\n",
    "    \n",
    "    latex = rt.TLatex()\n",
    "    latex.SetTextSize(0.04)\n",
    "    latex.SetTextSize(0.055)\n",
    "    latex.SetTextFont(42)\n",
    "    latex.SetTextColor(2)\n",
    "#     latex.DrawLatex(x_mean-125,y_mean+125, \"CSC cluster (526 Rechits)\")\n",
    "    if etaphi:latex.DrawLatex(x_mean-0.2,y_mean-0.25, \"CSC cluster (526 Rechits)\")\n",
    "    else: latex.DrawLatex(x_mean-200,y_mean+125, \"CSC cluster (526 Rechits)\")\n",
    "\n",
    "#     latex.DrawLatex(x_mean-125,y_mean+125, \"N_{hits} = 526\")\n",
    "\n",
    "\n",
    "\n",
    "    c.SetRightMargin(0.2)\n",
    "    \n",
    "    CMS_lumi.cmsText     = \"CMS\"\n",
    "    CMS_lumi.writeExtraText = True\n",
    "    CMS_lumi.extraText   = \"Simulation\"\n",
    "    CMS_lumi.iPos=11\n",
    "    CMS_lumi.relPosX = 0.12\n",
    "    CMS_lumi.relPosY = 0.05\n",
    "\n",
    "    CMS_lumi.CMS_lumi(c, 0, 11)\n",
    "    \n",
    "    c.Draw()\n",
    "    if etaphi:\n",
    "        c.SaveAs('/storage/user/christiw/gpu/christiw/llp/delayed_jet_analyzer/plots/MuonSystem_Analysis/rechit_distribution/Nrechit'+str(cscRechitClusterSize['signal'][evtNum])+'evtNum'+str(evtNum)+'_etaphi.png')\n",
    "        c.SaveAs('/storage/user/christiw/gpu/christiw/llp/delayed_jet_analyzer/plots/MuonSystem_Analysis/rechit_distribution/Nrechit'+str(cscRechitClusterSize['signal'][evtNum])+'evtNum'+str(evtNum)+'_etaphi.C')\n",
    "        c.SaveAs('/storage/user/christiw/gpu/christiw/llp/delayed_jet_analyzer/plots/MuonSystem_Analysis/rechit_distribution/Nrechit'+str(cscRechitClusterSize['signal'][evtNum])+'evtNum'+str(evtNum)+'_etaphi.pdf')\n",
    "\n",
    "\n",
    "    else:\n",
    "        c.SaveAs('/storage/user/christiw/gpu/christiw/llp/delayed_jet_analyzer/plots/MuonSystem_Analysis/rechit_distribution/Nrechit'+str(cscRechitClusterSize['signal'][evtNum])+'evtNum'+str(evtNum)+'.png')\n",
    "        c.SaveAs('/storage/user/christiw/gpu/christiw/llp/delayed_jet_analyzer/plots/MuonSystem_Analysis/rechit_distribution/Nrechit'+str(cscRechitClusterSize['signal'][evtNum])+'evtNum'+str(evtNum)+'.C')\n",
    "        c.SaveAs('/storage/user/christiw/gpu/christiw/llp/delayed_jet_analyzer/plots/MuonSystem_Analysis/rechit_distribution/Nrechit'+str(cscRechitClusterSize['signal'][evtNum])+'evtNum'+str(evtNum)+'.pdf')"
   ]
  },
  {
   "cell_type": "markdown",
   "metadata": {},
   "source": [
    "# r-z plot"
   ]
  },
  {
   "cell_type": "code",
   "execution_count": 56,
   "metadata": {},
   "outputs": [
    {
     "name": "stdout",
     "output_type": "stream",
     "text": [
      "1208 1208\n",
      "0.0021080970764160156\n"
     ]
    },
    {
     "name": "stderr",
     "output_type": "stream",
     "text": [
      "Warning in <TCanvas::Constructor>: Deleting canvas with same name: c\n"
     ]
    },
    {
     "data": {
      "image/png": "[encoded data removed]",
      "text/plain": [
       "<IPython.core.display.Image object>"
      ]
     },
     "metadata": {},
     "output_type": "display_data"
    }
   ],
   "source": [
    "# Plotting ncsc\n",
    "start_t = time.time()\n",
    "c = rt.TCanvas('c','c', 800, 800)\n",
    "h = {}\n",
    "leg = rt.TLegend(0.60,0.75,0.97,0.93)\n",
    "# leg = rt.TLegend(0.75,0.80,0.90,0.90)\n",
    "leg.SetTextSize(0.022)\n",
    "leg.SetBorderSize(0)\n",
    "# leg.SetTextFont(42)\n",
    "leg.SetEntrySeparation(0.01)\n",
    "k = 'signal'\n",
    "evtNum = 3\n",
    "x_mean = np.mean(np.abs(cscRechitsZ[k][evtNum]))\n",
    "y_mean = np.mean(np.abs(cscRechitsR[k][evtNum]))\n",
    "spread = 100\n",
    "h[k] = create_TH2D( np.column_stack((np.abs(cscRechitsZ[k][evtNum]),np.abs(cscRechitsR[k][evtNum]))), axis_title=['Z [cm]', 'R [cm]', 'Events'], \\\n",
    "                   name=k, binning=[50,x_mean-spread,x_mean+spread,20,y_mean-spread,y_mean+spread])\n",
    "print(len(np.abs(cscRechitsX[k][evtNum])), cscRechitClusterSize['signal'][evtNum])\n",
    "h[k].Draw('colz')\n",
    "c.Draw()\n",
    "print(time.time()-start_t)"
   ]
  }
 ],
 "metadata": {
  "kernelspec": {
   "display_name": "Python 3",
   "language": "python",
   "name": "python3"
  },
  "language_info": {
   "codemirror_mode": {
    "name": "ipython",
    "version": 3
   },
   "file_extension": ".py",
   "mimetype": "text/x-python",
   "name": "python",
   "nbconvert_exporter": "python",
   "pygments_lexer": "ipython3",
   "version": "3.6.8"
  }
 },
 "nbformat": 4,
 "nbformat_minor": 4
}
