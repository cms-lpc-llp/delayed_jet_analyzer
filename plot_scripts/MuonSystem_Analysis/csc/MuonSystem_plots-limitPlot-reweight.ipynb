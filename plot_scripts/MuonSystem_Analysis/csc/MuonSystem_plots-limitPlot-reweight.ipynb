{
 "cells": [
  {
   "cell_type": "code",
   "execution_count": 4,
   "metadata": {},
   "outputs": [
    {
     "name": "stdout",
     "output_type": "stream",
     "text": [
      "3.6.8 (default, Aug  7 2019, 17:28:10) \n",
      "[GCC 4.8.5 20150623 (Red Hat 4.8.5-39)]\n"
     ]
    }
   ],
   "source": [
    "# reweight limit from 3 decay mode to compare with ATLAS limit\n",
    "\n",
    "import ROOT as rt\n",
    "# import root_numpy as rtnp\n",
    "import csv\n",
    "import re\n",
    "import sys\n",
    "import collections\n",
    "import os\n",
    "from collections import OrderedDict\n",
    "import uproot\n",
    "import pandas as pd\n",
    "\n",
    "import scipy\n",
    "import awkward\n",
    "import numpy as np\n",
    "import time\n",
    "import numba\n",
    "from numba import jit\n",
    "from matplotlib import pyplot as plt\n",
    "sys.path.append('/storage/af/user/christiw/gpu/christiw/llp/delayed_jet_analyzer/lib/')\n",
    "from histo_utilities import create_TH1D, create_TH2D, std_color_list, create_TGraph, make_ratio_plot\n",
    "\n",
    "import CMS_lumi, tdrstyle\n",
    "tdrstyle.setTDRStyle()\n",
    "# CMS_lumi.writeExtraText = 0\n",
    "\n",
    "wH = 1\n",
    "Z_MASS = 91.2\n",
    "\n",
    "\n",
    "# donotdelete = []\n",
    "print(sys.version)"
   ]
  },
  {
   "cell_type": "markdown",
   "metadata": {},
   "source": [
    "# Load ntuples"
   ]
  },
  {
   "cell_type": "code",
   "execution_count": 5,
   "metadata": {},
   "outputs": [],
   "source": [
    "import pickle\n",
    "\n",
    "with open('dddd.pickle', 'rb') as handle:\n",
    "     limit_4d= pickle.load(handle)\n",
    "with open('4Tau.pickle', 'rb') as handle:\n",
    "     limit_4Tau= pickle.load(handle)\n",
    "\n",
    "with open('bbbb.pickle', 'rb') as handle:\n",
    "     limit_4b= pickle.load(handle)\n",
    "\n"
   ]
  },
  {
   "cell_type": "code",
   "execution_count": 16,
   "metadata": {},
   "outputs": [
    {
     "data": {
      "text/plain": [
       "dict_keys([15, 40, 55])"
      ]
     },
     "execution_count": 16,
     "metadata": {},
     "output_type": "execute_result"
    }
   ],
   "source": []
  },
  {
   "cell_type": "code",
   "execution_count": 17,
   "metadata": {},
   "outputs": [],
   "source": [
    "# branching ratio ATLAS used for bb, cc, tautau, https://atlas.web.cern.ch/Atlas/GROUPS/PHYSICS/PAPERS/EXOT-2017-05/tabaux_02.png\n",
    "#mumu is ignored because we are not sensitive to that, but small anyways\n",
    "\n",
    "br = {\n",
    "7: [0,0.69,0.31],\n",
    "15: [0.79,0.14,0.07],\n",
    "40: [0.87,0.08,0.04],\n",
    "55: [0.87,0.08,0.04],\n",
    "\n",
    "}"
   ]
  },
  {
   "cell_type": "code",
   "execution_count": 18,
   "metadata": {},
   "outputs": [
    {
     "name": "stdout",
     "output_type": "stream",
     "text": [
      "31\n",
      "31\n",
      "31\n",
      "31\n",
      "31\n"
     ]
    }
   ],
   "source": [
    "# reweight\n",
    "limits = {}\n",
    "for k, v in limit_4d.items():\n",
    "\n",
    "#     if k == 55:continue\n",
    "    if k == 7:limits[k] = br[k][1] * limit_4d[k] + br[k][2] * limit_4Tau[k]\n",
    "    else: limits[k] = br[k][0]* limit_4b[k] + br[k][1] * limit_4d[k] + br[k][2] * limit_4Tau[k]\n",
    "    print(len(limits[k]))\n",
    "# ctaus = np.array([10, 20, 30, 40, 50, 60, 100, 200, 300, 500, 1000, 2000, 3000, 5000, 10000, 20000, 30000, 50000, 100000,int(2e5),int(3e5),int(5e5), \\\n",
    "#                         int(2e6),int(3e6),int(5e6),int(1e7)])\n",
    "ctaus = np.array([10, 20, 30, 40, 50, 60, 100, 125, 200, 300, 500, 600,700,800, 1000, 2000, 3000, 4000, 5000, 6000, 7000, 8000, 10000, 20000, 30000, 100000,int(2e5),int(3e5),\\\n",
    "                       int(3e6),int(5e6),int(1e7)]) #v13\n",
    "mass = np.array([ 7, 15, 40, 55])\n",
    "print(len(ctaus))"
   ]
  },
  {
   "cell_type": "code",
   "execution_count": 8,
   "metadata": {},
   "outputs": [],
   "source": [
    "\n",
    "\n",
    "dc_version = 'v13'\n",
    "\n",
    "methodA = False\n",
    "# unblind = 'unblindABC'\n",
    "unblind = 'unblind'\n",
    "hybridNew = 1\n",
    "\n",
    "bdt_name = 'cut_based_v4'\n",
    "version = '/V1p17/v2/v106/'\n",
    "mode = 'allProd_withggZH'\n",
    "\n",
    "\n",
    "nrechit = 130\n",
    "dphi = 'dPhiCluster0p75'\n",
    "\n"
   ]
  },
  {
   "cell_type": "markdown",
   "metadata": {},
   "source": [
    "# load atlas limit"
   ]
  },
  {
   "cell_type": "code",
   "execution_count": 11,
   "metadata": {},
   "outputs": [],
   "source": [
    "file_dir = '/storage/af/user/christiw/login-1/christiw/LLP/CMSSW_10_2_13/src/HiggsAnalysis/MuonSystemLimit/data/limits_others/'\n",
    "ms1_40 = file_dir + 'atlas_mh125_mx40_ms1.csv'\n",
    "ms2_40 = file_dir + 'atlas_mh125_mx40_ms2.csv'\n",
    "id55 = file_dir + 'atlas_mh125_mx55_id.csv'\n",
    "comb40 = file_dir + 'atlas_mh125_mx40_id_cr_ms2.csv'\n",
    "\n",
    "exo_19_021_bb55 = file_dir + 'exo-19-021_bb_55.csv'\n",
    "exo_19_021_bb40 = file_dir + 'exo-19-021_bb_40.csv'\n",
    "exo_19_021_dd55 = file_dir + 'exo-19-021_dd_55.csv'\n",
    "exo_19_021_dd40 = file_dir + 'exo-19-021_dd_40.csv'\n",
    "exo_19_021_dd15 = file_dir + 'exo-19-021_dd_15.csv'\n",
    "\n",
    "\n",
    "# took from paper draft v5\n",
    "exo_20_003_bb55 = file_dir + 'exo-20-003_bb_55.csv'\n",
    "exo_20_003_bb40 = file_dir + 'exo-20-003_bb_40.csv'\n",
    "exo_20_003_bb15 = file_dir + 'exo-20-003_bb_15.csv'\n",
    "exo_20_003_dd55 = file_dir + 'exo-20-003_dd_55.csv'\n",
    "exo_20_003_dd40 = file_dir + 'exo-20-003_dd_40.csv'\n",
    "exo_20_003_dd15 = file_dir + 'exo-20-003_dd_15.csv'\n",
    "\n",
    "\n",
    "ms_40 = file_dir + 'atlas_mh125_mx40_ms.csv'\n",
    "ms_15 = file_dir + 'atlas_mh125_mx15_ms.csv'\n",
    "ms_8 = file_dir + 'atlas_mh125_mx8_ms.csv'\n",
    "\n",
    "ms_2tag_55 = file_dir + 'atlas_2tag_55.csv'\n",
    "ms_2tag_35 = file_dir + 'atlas_2tag_35.csv'\n",
    "ms_2tag_15 = file_dir + 'atlas_2tag_15.csv'\n",
    "ms_2tag_5 = file_dir + 'atlas_2tag_5.csv'\n",
    "\n",
    "\n",
    "other_limits = {}\n",
    "\n",
    "other_limits['atlas_ms_40'] = np.genfromtxt(ms_40, delimiter=',')\n",
    "other_limits['atlas_ms_15'] = np.genfromtxt(ms_15, delimiter=',')\n",
    "other_limits['atlas_ms_8'] = np.genfromtxt(ms_8, delimiter=',')\n",
    "\n",
    "other_limits['ms_2tag_55'] = np.genfromtxt(ms_2tag_55, delimiter=',')\n",
    "other_limits['ms_2tag_35'] = np.genfromtxt(ms_2tag_35, delimiter=',')\n",
    "other_limits['ms_2tag_15'] = np.genfromtxt(ms_2tag_15, delimiter=',')\n",
    "other_limits['ms_2tag_5'] = np.genfromtxt(ms_2tag_5, delimiter=',')\n",
    "\n",
    "\n",
    "# 'ms1_40' = np.genfromtxt(ms1_40, delimiter=',')\n",
    "# 'ms2_40' = np.genfromtxt(ms2_40, delimiter=',')\n",
    "# 'id55' = np.genfromtxt(id55, delimiter=',')\n",
    "# 'comb40' = np.genfromtxt(comb40, delimiter=',')\n",
    "other_limits['exo_19_021_bb55'] = np.genfromtxt(exo_19_021_bb55, delimiter=',')\n",
    "other_limits['exo_19_021_bb40'] = np.genfromtxt(exo_19_021_bb40, delimiter=',')\n",
    "other_limits['exo_19_021_dd55'] = np.genfromtxt(exo_19_021_dd55, delimiter=',')\n",
    "other_limits['exo_19_021_dd40'] = np.genfromtxt(exo_19_021_dd40, delimiter=',')\n",
    "other_limits['exo_19_021_dd15'] = np.genfromtxt(exo_19_021_dd15, delimiter=',')\n",
    "\n",
    "# other_limits['exo_20_003_bb55'] = np.genfromtxt(exo_20_003_bb55, delimiter=',')\n",
    "# other_limits['exo_20_003_bb40'] = np.genfromtxt(exo_20_003_bb40, delimiter=',')\n",
    "other_limits['exo_20_003_bb15'] = np.genfromtxt(exo_20_003_bb15, delimiter=',')\n",
    "# other_limits['exo_20_003_dd55'] = np.genfromtxt(exo_20_003_dd55, delimiter=',')\n",
    "# other_limits['exo_20_003_dd40'] = np.genfromtxt(exo_20_003_dd40, delimiter=',')\n",
    "# other_limits['exo_20_003_dd15'] = np.genfromtxt(exo_20_003_dd15, delimiter=',')\n",
    "\n",
    "\n",
    "\n"
   ]
  },
  {
   "cell_type": "code",
   "execution_count": 12,
   "metadata": {},
   "outputs": [
    {
     "name": "stdout",
     "output_type": "stream",
     "text": [
      "[ 7 15 40 55]\n"
     ]
    }
   ],
   "source": [
    "print(mass)"
   ]
  },
  {
   "cell_type": "markdown",
   "metadata": {},
   "source": [
    "# comparison with ALTAS (all masses)"
   ]
  },
  {
   "cell_type": "code",
   "execution_count": 27,
   "metadata": {},
   "outputs": [
    {
     "name": "stdout",
     "output_type": "stream",
     "text": [
      "[1.00e-02 2.00e-02 3.00e-02 4.00e-02 5.00e-02 6.00e-02 1.00e-01 1.25e-01\n",
      " 2.00e-01 3.00e-01 5.00e-01 6.00e-01 7.00e-01 8.00e-01 1.00e+00 2.00e+00\n",
      " 3.00e+00 4.00e+00 5.00e+00 6.00e+00 7.00e+00 8.00e+00 1.00e+01 2.00e+01\n",
      " 3.00e+01 1.00e+02 2.00e+02 3.00e+02 3.00e+03 5.00e+03 1.00e+04]\n",
      "[1.18996903e+00 5.60413471e-02 1.66749237e-02 9.55479454e-03\n",
      " 6.42394994e-03 5.03540447e-03 3.02723580e-03 2.56426090e-03\n",
      " 2.46128625e-03 2.71323066e-03 2.93642626e-03 3.16042186e-03\n",
      " 3.46482419e-03 3.97522167e-03 8.15479250e-03 1.13163897e-02\n",
      " 1.46553365e-02 1.77849214e-02 2.10386473e-02 2.38717075e-02\n",
      " 2.74590667e-02 6.91921817e-02 1.01613656e-01 3.15263431e-01\n",
      " 6.41040541e-01 9.53582019e-01 9.56170477e+00 1.59834421e+01\n",
      " 3.21947185e+01]\n",
      "[2.53615692e+02 1.82428114e+00 2.28088495e-01 7.16388187e-02\n",
      " 3.39441112e-02 1.95723178e-02 6.72230356e-03 5.21277228e-03\n",
      " 3.22478744e-03 2.45702437e-03 2.03506582e-03 2.07969973e-03\n",
      " 2.08353901e-03 2.14278676e-03 3.37084951e-03 4.41497544e-03\n",
      " 5.48750627e-03 6.78341916e-03 9.91697108e-03 1.17134861e-02\n",
      " 2.39755666e-02 3.43095958e-02 1.15989763e-01 2.30060812e-01\n",
      " 3.38762113e-01 3.40384136e+00 5.61433584e+00 1.12276319e+01]\n",
      "[6.51316857e+03 2.80257391e+02 5.84124545e+01 1.24004408e+01\n",
      " 3.98046968e+00 2.75041607e-01 9.01711560e-02 2.07457346e-02\n",
      " 8.94855592e-03 4.33538080e-03 3.71883978e-03 3.15848228e-03\n",
      " 2.75519921e-03 2.42372849e-03 1.93383937e-03 1.88281477e-03\n",
      " 2.11672731e-03 2.70446852e-03 5.66827639e-03 8.00401171e-03\n",
      " 2.29145515e-02 4.53308761e-02 6.72295238e-02 6.88558625e-01\n",
      " 1.14655129e+00 2.25503452e+00]\n",
      "[8.84002991e+05 8.70787468e+05 8.70005427e+05 4.55623357e+00\n",
      " 4.93014317e-01 1.16581376e-01 2.73932970e-02 1.74658234e-02\n",
      " 1.18679894e-02 8.88265521e-03 5.71278973e-03 2.44907657e-03\n",
      " 1.90954472e-03 1.76214250e-03 1.81705208e-03 1.86663732e-03\n",
      " 1.94753580e-03 2.07407269e-03 2.24843192e-03 4.08720459e-03\n",
      " 5.75372786e-03 1.49974065e-02 3.04696519e-02 4.57250648e-02\n",
      " 4.36026452e-01 7.24440180e-01 1.45008885e+00]\n",
      "137 fb^{-1} (13 TeV)\n"
     ]
    },
    {
     "name": "stderr",
     "output_type": "stream",
     "text": [
      "Warning in <TCanvas::Constructor>: Deleting canvas with same name: c\n"
     ]
    },
    {
     "data": {
      "image/png": "[encoded data removed]",
      "text/plain": [
       "<IPython.core.display.Image object>"
      ]
     },
     "metadata": {},
     "output_type": "display_data"
    }
   ],
   "source": [
    "import os\n",
    "opac_1sig = 0.25\n",
    "opac_2sig = 0.1\n",
    "withATLAS = 1\n",
    "\n",
    "   \n",
    "\n",
    "leg = rt.TLegend(0.49,0.15,0.88,0.32)\n",
    "\n",
    "leg.SetTextSize(0.028)\n",
    "leg.SetBorderSize(0)\n",
    "leg.SetEntrySeparation(0.005)\n",
    "\n",
    "leg2 = rt.TLegend(0.2,0.15,0.45,0.32)\n",
    "leg2.SetTextSize(0.028)\n",
    "leg2.SetBorderSize(0)\n",
    "leg2.SetEntrySeparation(0.01)\n",
    "c = rt.TCanvas('c','c', 800, 800)\n",
    "c.SetRightMargin(0.04)\n",
    "\n",
    "\n",
    "rt.gStyle.SetOptFit(1011)\n",
    "ctaus_m = ctaus/1000\n",
    "print(ctaus_m)\n",
    "h = {}\n",
    "h_exp1sig = {}\n",
    "h_exp2sig = {}\n",
    "h_obs = {}\n",
    "h_others = {}\n",
    "upper = 1000000\n",
    "\n",
    "if withATLAS:\n",
    "    \n",
    "    h_others[7] = create_TGraph(other_limits['ms_2tag_5'][:,0][other_limits['ms_2tag_5'][:,1]<upper],other_limits['ms_2tag_5'][:,1][other_limits['ms_2tag_5'][:,1]<upper],  axis_title=['c#tau [m]', '95% CL Limit on BR'])\n",
    "    h_others[15] = create_TGraph(other_limits['ms_2tag_15'][:,0][other_limits['ms_2tag_15'][:,1]<upper],other_limits['ms_2tag_15'][:,1][other_limits['ms_2tag_15'][:,1]<upper],  axis_title=['c#tau [m]', '95% CL Limit on BR'])\n",
    "    h_others[40] = create_TGraph(other_limits['ms_2tag_35'][:,0][other_limits['ms_2tag_35'][:,1]<upper],other_limits['ms_2tag_35'][:,1][other_limits['ms_2tag_35'][:,1]<upper],  axis_title=['c#tau [m]', '95% CL Limit on BR'])\n",
    "    h_others[55] = create_TGraph(other_limits['ms_2tag_55'][:,0][other_limits['ms_2tag_55'][:,1]<upper],other_limits['ms_2tag_55'][:,1][other_limits['ms_2tag_55'][:,1]<upper],  axis_title=['c#tau [m]', '95% CL Limit on BR'])\n",
    "#         for k, v in h_others.items():\n",
    "#             leg.AddEntry(h_others[k], \"ATLAS MS (36 fb^{-1})\", 'L')\n",
    "\n",
    "\n",
    "for i, m in enumerate(mass):\n",
    "#     if m == 55:continue\n",
    "    cond = limits[m][:,5] < upper\n",
    "    if m == 7:\n",
    "        cond = np.logical_and(cond, np.logical_not(ctaus_m==10))\n",
    "        cond = np.logical_and(cond, np.logical_not(ctaus_m==0.1))\n",
    "    if m == 15:\n",
    "        cond = np.logical_and(cond, np.logical_not(ctaus_m==0.7))\n",
    "        cond = np.logical_and(cond, np.logical_not(ctaus_m==7))\n",
    "        cond = np.logical_and(cond, np.logical_not(ctaus_m==6))\n",
    "                \n",
    "    if m == 40:\n",
    "        cond = np.logical_and(cond, np.logical_not(ctaus_m==7))\n",
    "        cond = np.logical_and(cond, np.logical_not(ctaus_m==6))\n",
    "        cond = np.logical_and(cond, np.logical_not(ctaus_m==4))\n",
    "        cond = np.logical_and(cond, np.logical_not(ctaus_m==10))\n",
    "\n",
    "\n",
    "    h_obs[m] = create_TGraph(ctaus_m[cond], limits[m][:,5][cond],  axis_title=['c#tau [m]', '95% CL Limit on BR'])\n",
    "#     print(m)\n",
    "#     print(ctaus_m[cond])\n",
    "    print(limits[m][:,5][cond])\n",
    "    if m == 7:leg.AddEntry(h_obs[m], \"m_{S} = \"+str(m)+\" GeV (5 GeV for ATLAS)\", \"L\")\n",
    "    elif m == 40:leg.AddEntry(h_obs[m], \"m_{S} = \"+str(m)+\" GeV (35 GeV for ATLAS)\", \"L\")\n",
    "    else: leg.AddEntry(h_obs[m], \"m_{S} = \"+str(m)+\" GeV\", \"L\")\n",
    "    if m == 15:\n",
    "        leg2.AddEntry(h_obs[m], \"Observed Limit\", \"LP\")\n",
    "        leg2.AddEntry(h_others[m], \"ATLAS Limit\", \"L\")\n",
    "\n",
    "\n",
    "    if len(mass) == 3: \n",
    "        if not m == 55:h_others[m].SetLineColor(std_color_list[i])\n",
    "        h_obs[m].SetLineColor(std_color_list[i])\n",
    "#         h_obs[m].SetMarkerColor(std_color_list[i])\n",
    "\n",
    "\n",
    "    else: \n",
    "        if i == 0:\n",
    "            h_others[m].SetLineColor(std_color_list[3])\n",
    "            h_obs[m].SetLineColor(std_color_list[3])\n",
    "            h_obs[m].SetMarkerColor(std_color_list[3])\n",
    "        else: \n",
    "                \n",
    "            h_others[m].SetLineColor(std_color_list[i-1])\n",
    "            h_obs[m].SetLineColor(std_color_list[i-1])\n",
    "#             h_obs[m].SetMarkerColor(std_color_list[i-1])\n",
    "    h_obs[m].SetLineWidth(3)\n",
    "    if not m == 550:\n",
    "        h_others[m].SetLineStyle(2)\n",
    "        h_others[m].SetLineWidth(3)\n",
    "        h_others[m].GetXaxis().SetLimits(0.01,10000.0)\n",
    "#         h_others[m].GetYaxis().SetRangeUser(5e-4,100)\n",
    "        h_others[m].GetYaxis().SetRangeUser(5e-5,1.0)\n",
    "\n",
    "\n",
    "        h_others[m].GetXaxis().SetTitleOffset(1)\n",
    "        h_others[m].GetYaxis().SetTitleSize(0.05)\n",
    "        h_others[m].GetYaxis().SetTitleOffset(1.5)\n",
    "\n",
    "\n",
    "\n",
    "for i,m in enumerate(h_obs.keys()):\n",
    "    if not m == 550:\n",
    "        h_others[m].Draw('LA' if i == 0 else 'Lsame')\n",
    "    h_obs[m].Draw('LPsame')\n",
    "\n",
    "\n",
    "\n",
    "tdrstyle.setTDRStyle()\n",
    "CMS_lumi.cmsText     = \"CMS\"\n",
    "iPos = 0\n",
    "CMS_lumi.writeExtraText =0\n",
    "CMS_lumi.extraText   = \"Preliminary\"\n",
    "\n",
    "if( iPos==0 ): CMS_lumi.relPosX = 0.12\n",
    "# CMS_lumi.CMS_lumi(c, 4, 0)\n",
    "CMS_lumi.CMS_lumi(c, 4, iPos)\n",
    "\n",
    "leg.Draw()\n",
    "leg2.Draw()\n",
    "c.SetLogy()\n",
    "c.SetLogx()\n",
    "c.SetTicky(1)\n",
    "c.SetTickx(1)\n",
    "# output_dir = '/storage/user/christiw/gpu/christiw/llp/delayed_jet_analyzer/plots/MuonSystem_Analysis/limits/'+version+bdt_name+'/'+dc_version+'/'+unblind+'/'\n",
    "# if not os.path.isdir(output_dir):os.makedirs(output_dir)\n",
    "# name = output_dir+mode+'_HToSSTo_'+dphi+'_nRechit'+str(nrechit)+'_observed_withATLAS_reweight'\n",
    "# if hybridNew:name += '_hybridNew'\n",
    "# if CMS_lumi.writeExtraText: name += \"_pas\"\n",
    "\n",
    "\n",
    "\n",
    "# c.SaveAs(name+'.png')\n",
    "# c.SaveAs(name+'.C')\n",
    "# c.SaveAs(name+'.pdf')\n",
    "\n",
    "tdrstyle.setTDRStyle()\n",
    "c.Draw()\n"
   ]
  },
  {
   "cell_type": "code",
   "execution_count": null,
   "metadata": {},
   "outputs": [],
   "source": []
  }
 ],
 "metadata": {
  "kernelspec": {
   "display_name": "Python 3",
   "language": "python",
   "name": "python3"
  },
  "language_info": {
   "codemirror_mode": {
    "name": "ipython",
    "version": 3
   },
   "file_extension": ".py",
   "mimetype": "text/x-python",
   "name": "python",
   "nbconvert_exporter": "python",
   "pygments_lexer": "ipython3",
   "version": "3.6.8"
  }
 },
 "nbformat": 4,
 "nbformat_minor": 4
}
