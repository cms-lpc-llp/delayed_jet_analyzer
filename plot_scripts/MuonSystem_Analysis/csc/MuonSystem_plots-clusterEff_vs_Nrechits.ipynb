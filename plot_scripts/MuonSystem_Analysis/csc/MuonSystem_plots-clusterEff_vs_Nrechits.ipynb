{
 "cells": [
  {
   "cell_type": "code",
   "execution_count": 1,
   "metadata": {},
   "outputs": [
    {
     "name": "stdout",
     "output_type": "stream",
     "text": [
      "Welcome to JupyROOT 6.18/02\n",
      "3.6.8 (default, Aug  7 2019, 17:28:10) \n",
      "[GCC 4.8.5 20150623 (Red Hat 4.8.5-39)]\n"
     ]
    }
   ],
   "source": [
    "# plot cluster efficiency uncertainty vs. Nrechits scan\n",
    "# this plot is ultimately not used in the AN\n",
    "\n",
    "import ROOT as rt\n",
    "# import root_numpy as rtnp\n",
    "import csv\n",
    "import re\n",
    "import sys\n",
    "import collections\n",
    "import os\n",
    "\n",
    "from collections import OrderedDict\n",
    "import uproot\n",
    "import pandas as pd\n",
    "\n",
    "import scipy\n",
    "import awkward\n",
    "import numpy as np\n",
    "import time\n",
    "import numba\n",
    "from numba import jit\n",
    "from matplotlib import pyplot as plt\n",
    "sys.path.append('/storage/user/christiw/gpu/christiw/llp/delayed_jet_analyzer/lib/')\n",
    "from histo_utilities import create_TH1D, create_TH2D, std_color_list, create_TGraph, make_ratio_plot\n",
    "\n",
    "import CMS_lumi, tdrstyle\n",
    "tdrstyle.setTDRStyle()\n",
    "CMS_lumi.writeExtraText = 0\n",
    "\n",
    "wH = 1\n",
    "Z_MASS = 91.2\n",
    "\n",
    "\n",
    "# donotdelete = []\n",
    "print(sys.version)\n",
    "\n",
    "\n"
   ]
  },
  {
   "cell_type": "code",
   "execution_count": 14,
   "metadata": {},
   "outputs": [
    {
     "name": "stdout",
     "output_type": "stream",
     "text": [
      "[ 1.00244701  1.80853532  1.16387285  5.01543617  7.06521054 17.37735596\n",
      " 12.90242225]\n",
      "[ 1.22817506  1.49284744  1.93567219  2.74259971  3.09717627  5.81733038\n",
      " 14.56411531]\n"
     ]
    }
   ],
   "source": [
    "nRechits = [30, 40, 50, 60, 70, 130, 250]\n",
    "cluster_unc = np.array([1.00, 1.42, 0.89, 4.75, 6.16, 15.06, 10.47])\n",
    "cluster_stat_unc = np.array([1.23, 1.73, 2.29, 2.84, 3.37, 6.34, 16.24])\n",
    "\n",
    "id_unc = np.array([0.07, 1.12, 0.75, 1.61, 3.46, 8.67, 7.54])\n",
    "id_stat_unc = np.array([0.77, 1.00, 1.28, 1.67, 2.00, 3.83, 10.61])\n",
    "total_unc = (np.array(cluster_unc)**2+np.array(id_unc)**2)**0.5\n",
    "total_stat_unc = np.sqrt(((cluster_unc*cluster_stat_unc)**2+(id_unc*id_stat_unc)**2)/(cluster_unc**2+id_unc**2))\n",
    "\n",
    "print(total_unc)\n",
    "print(total_stat_unc)"
   ]
  },
  {
   "cell_type": "code",
   "execution_count": 39,
   "metadata": {},
   "outputs": [
    {
     "name": "stderr",
     "output_type": "stream",
     "text": [
      "Warning in <TCanvas::Constructor>: Deleting canvas with same name: c\n",
      "Warning in <TROOT::Append>: Replacing existing TH1: hm1 (Potential memory leak).\n",
      "Warning in <TROOT::Append>: Replacing existing TH1: hm1 (Potential memory leak).\n"
     ]
    },
    {
     "data": {
      "image/png": "[encoded data removed]",
      "text/plain": [
       "<IPython.core.display.Image object>"
      ]
     },
     "metadata": {},
     "output_type": "display_data"
    }
   ],
   "source": [
    "\n",
    "c = rt.TCanvas('c','c', 800, 800)\n",
    "leg = rt.TLegend(0.2,0.80,0.4,0.90)\n",
    "leg.SetTextSize(0.03)\n",
    "leg.SetBorderSize(0)\n",
    "leg.SetEntrySeparation(0.01)\n",
    "hm = {}\n",
    "hb = {}\n",
    "\n",
    "\n",
    "cluster_unc_hist = create_TH1D(np.array([1]), 'hm1', axis_title = ['N_{rechits}','Cluster Efficiency Uncertainty (%)'], binning=nRechits+[500])\n",
    "id_unc_hist = create_TH1D(np.array([1]), 'hm1', axis_title = ['N_{rechits}','Cluster ID Uncertainty (%)'], binning=nRechits+[500])\n",
    "total_unc_hist = create_TH1D(np.array([1]), 'hm1', axis_title = ['N_{rechits}','Total Uncertainty (%)'], binning=nRechits+[500])\n",
    "\n",
    "\n",
    "for i in range(len(cluster_unc)):\n",
    "    cluster_unc_hist.SetBinContent(i+1,cluster_unc[i])\n",
    "    cluster_unc_hist.SetBinError(i+1,cluster_stat_unc[i])\n",
    "    id_unc_hist.SetBinContent(i+1,id_unc[i])\n",
    "    id_unc_hist.SetBinError(i+1,id_stat_unc[i])\n",
    "    total_unc_hist.SetBinContent(i+1,total_unc[i])\n",
    "    total_unc_hist.SetBinError(i+1,total_stat_unc[i])\n",
    "\n",
    "cluster_unc_hist = rt.TGraphAsymmErrors(cluster_unc_hist) \n",
    "id_unc_hist = rt.TGraphAsymmErrors(id_unc_hist) \n",
    "total_unc_hist = rt.TGraphAsymmErrors(total_unc_hist) \n",
    "cluster_unc_hist.SetTitle(\";N_{rechits};Clustering Uncertainty (%)\");\n",
    "id_unc_hist.SetTitle(\";N_{rechits};Cluster ID Uncertainty (%)\");\n",
    "total_unc_hist.SetTitle(\";N_{rechits};Total Uncertainty (%)\");\n",
    "\n",
    "# set the lower end of y-uncertainty to 0, if it becomes negative\n",
    "for i in range(len(cluster_unc)):\n",
    "    if cluster_unc[i] < cluster_stat_unc[i]:cluster_unc_hist.SetPointEYlow(i,cluster_unc[i])\n",
    "    if id_unc[i] < id_stat_unc[i]:id_unc_hist.SetPointEYlow(i,id_unc[i])\n",
    "    if total_unc[i] < total_stat_unc[i]:total_unc_hist.SetPointEYlow(i,total_unc[i])\n",
    "\n",
    "\n",
    "# leg.Draw()\n",
    "cluster_unc_hist.Draw('AP')\n",
    "# id_unc_hist.Draw('AP')\n",
    "# total_unc_hist.Draw('AP')\n",
    "c.Draw()\n",
    "# c.SaveAs(dir_name+names[j]+\".png\")\n",
    "# c.SaveAs(dir_name+names[j]+\".C\")\n",
    "\n",
    "# if j == 1: hm['mc_signal'].SetMaximum(6*max(hm['dy'].GetMaximum(),hm['mc_signal'].GetMaximum() ))\n",
    "# else: hm['mc_signal'].SetMaximum(2*max(hm['dy'].GetMaximum(),hm['mc_signal'].GetMaximum() ))\n",
    "\n",
    "\n",
    "# c.SetLogy()\n",
    "# c.Draw()\n"
   ]
  },
  {
   "cell_type": "code",
   "execution_count": null,
   "metadata": {},
   "outputs": [],
   "source": []
  }
 ],
 "metadata": {
  "kernelspec": {
   "display_name": "Python 3",
   "language": "python",
   "name": "python3"
  },
  "language_info": {
   "codemirror_mode": {
    "name": "ipython",
    "version": 3
   },
   "file_extension": ".py",
   "mimetype": "text/x-python",
   "name": "python",
   "nbconvert_exporter": "python",
   "pygments_lexer": "ipython3",
   "version": "3.6.8"
  }
 },
 "nbformat": 4,
 "nbformat_minor": 4
}
