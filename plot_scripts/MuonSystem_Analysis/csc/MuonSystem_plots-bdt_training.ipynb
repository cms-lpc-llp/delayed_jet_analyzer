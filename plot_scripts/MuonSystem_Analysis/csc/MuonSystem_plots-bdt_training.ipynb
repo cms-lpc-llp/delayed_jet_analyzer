{
 "cells": [
  {
   "cell_type": "code",
   "execution_count": 1,
   "metadata": {},
   "outputs": [
    {
     "name": "stdout",
     "output_type": "stream",
     "text": [
      "Welcome to JupyROOT 6.18/02\n",
      "3.6.8 (default, Aug  7 2019, 17:28:10) \n",
      "[GCC 4.8.5 20150623 (Red Hat 4.8.5-39)]\n"
     ]
    }
   ],
   "source": [
    "import ROOT as rt\n",
    "# import root_numpy as rtnp\n",
    "import csv\n",
    "import re\n",
    "import sys\n",
    "import collections\n",
    "\n",
    "from collections import OrderedDict\n",
    "import uproot\n",
    "import awkward\n",
    "import numpy as np\n",
    "import time\n",
    "import numba\n",
    "from numba import jit\n",
    "from matplotlib import pyplot as plt\n",
    "sys.path.append('/storage/user/christiw/gpu/christiw/llp/delayed_jet_analyzer/lib/')\n",
    "from histo_utilities import create_TH1D, create_TH2D, std_color_list, create_TGraph, make_ratio_plot\n",
    "\n",
    "import CMS_lumi, tdrstyle\n",
    "tdrstyle.setTDRStyle()\n",
    "CMS_lumi.writeExtraText = 0\n",
    "\n",
    "wH = 1\n",
    "Z_MASS = 91.2\n",
    "\n",
    "\n",
    "# donotdelete = []\n",
    "print(sys.version)"
   ]
  },
  {
   "cell_type": "markdown",
   "metadata": {},
   "source": [
    "# Load ntuples"
   ]
  },
  {
   "cell_type": "code",
   "execution_count": 2,
   "metadata": {},
   "outputs": [
    {
     "name": "stdout",
     "output_type": "stream",
     "text": [
      "NEvents data 22763250.0 2683.0 2683\n",
      "NEvents MC_Summer16_ggH_15_100 2012922.2 0.05497186 2278\n",
      "NEvents MC_Summer16_ggH_15_1000 1978926.0 2.5251248 102866\n",
      "NEvents MC_Summer16_ggH_15_10000 2055922.8 0.9105207 38535\n",
      "NEvents MC_Summer16_ggH_15_100000 2024923.5 0.106949374 4458\n",
      "NEvents MC_Summer16_ggH_40_100 2023311.4 0.00048020287 20\n",
      "NEvents MC_Summer16_ggH_40_1000 2017929.9 0.96670353 40157\n",
      "NEvents MC_Summer16_ggH_40_10000 1966929.4 1.9751127 79972\n",
      "NEvents MC_Summer16_ggH_40_100000 2124407.2 0.2981844 13040\n",
      "NEvents MC_Summer16_ggH_55_100 1926930.6 2.5211079e-05 1\n",
      "NEvents MC_Summer16_ggH_55_1000 2029928.8 0.2524906 10551\n",
      "NEvents MC_Summer16_ggH_55_10000 1988157.2 1.4207183 58146\n",
      "NEvents MC_Summer16_ggH_55_100000 2048926.1 0.24896884 10501\n",
      "NEvents MC_Fall17_ggH_15_100 42587104.0 0.04622647 1884\n",
      "NEvents MC_Fall17_ggH_15_1000 42026944.0 2.3552191 94647\n",
      "NEvents MC_Fall17_ggH_15_10000 44233380.0 0.8574325 36244\n",
      "NEvents MC_Fall17_ggH_15_100000 41637880.0 0.10150087 4046\n",
      "NEvents MC_Fall17_ggH_40_100 41961976.0 0.0006025644 24\n",
      "NEvents MC_Fall17_ggH_40_1000 41553320.0 0.87807447 34828\n",
      "NEvents MC_Fall17_ggH_40_10000 42795236.0 1.8567511 75751\n",
      "NEvents MC_Fall17_ggH_40_100000 42880570.0 0.2838825 11596\n",
      "NEvents MC_Fall17_ggH_55_100 43055960.0 0.0 0\n",
      "NEvents MC_Fall17_ggH_55_1000 43719984.0 0.22312567 9278\n",
      "NEvents MC_Fall17_ggH_55_10000 42666910.0 1.3069298 53001\n",
      "NEvents MC_Fall17_ggH_55_100000 41618044.0 0.22695427 8978\n",
      "NEvents MC_Fall18_ggH_15_100 64181772.0 0.045535337 2793\n",
      "NEvents MC_Fall18_ggH_15_1000 64156588.0 2.3345084 143263\n",
      "NEvents MC_Fall18_ggH_15_10000 65295996.0 0.848449 52915\n",
      "NEvents MC_Fall18_ggH_15_100000 66830028.0 0.09902194 6335\n",
      "NEvents MC_Fall18_ggH_40_100 63435420.0 0.00043182087 26\n",
      "NEvents MC_Fall18_ggH_40_1000 63620090.0 0.8736227 53050\n",
      "NEvents MC_Fall18_ggH_40_10000 66499380.0 1.8202759 115306\n",
      "NEvents MC_Fall18_ggH_40_100000 67955080.0 0.2704505 17526\n",
      "NEvents MC_Fall18_ggH_55_100 63531660.0 0.0 0\n",
      "NEvents MC_Fall18_ggH_55_1000 63643610.0 0.2208026 13364\n",
      "NEvents MC_Fall18_ggH_55_10000 65321268.0 1.2661135 78600\n",
      "NEvents MC_Fall18_ggH_55_100000 65835390.0 0.21600324 13519\n",
      "1315242803.125\n",
      "25.62500023841858\n"
     ]
    }
   ],
   "source": [
    "fpath =OrderedDict()\n",
    "tree = OrderedDict()\n",
    "weight = {}\n",
    "weight_sum = {}\n",
    "\n",
    "\n",
    "start_t = time.time()\n",
    "data_year = 'full'\n",
    "pdgId = 13\n",
    "analyzer_version = \"/v1/vBDT4/\"\n",
    "data_version = '/v5/vBDT4/'\n",
    "ntupler_version ='V1p17'\n",
    "ctau = [100, 1000, 10000, 100000]\n",
    "years = ['Summer16', 'Fall17', 'Fall18']\n",
    "mass = [15, 40, 55]\n",
    "\n",
    "\n",
    "\n",
    "\n",
    "# data_path = '/mnt/hadoop/store/group/phys_exotica/delayedjets/displacedJetMuonAnalyzer/csc/V1p12/Data'+str(data_year)+'/vBDT/v2/normalized/'\n",
    "# mc_path = '/mnt/hadoop/store/group/phys_exotica/delayedjets/displacedJetMuonAnalyzer/csc/V1p12/MC_RunIIFall18/vBDT/v2/normalized/'\n",
    "\n",
    "\n",
    "data_path = '/mnt/hadoop/store/group/phys_exotica/delayedjets/displacedJetMuonAnalyzer/csc/V1p17/Data2018/'+data_version+'/normalized/'\n",
    "fpath['data'] = data_path + 'Run2_displacedJetMuonNtupler_'+ntupler_version+'_Data2016_Data2017_Data2018-HighMET_goodLumi.root'\n",
    "\n",
    "for y in years:\n",
    "    mc_path = '/mnt/hadoop/store/group/phys_exotica/delayedjets/displacedJetMuonAnalyzer/csc/'+ntupler_version+'/MC_'+y+'/'+analyzer_version+'/normalized/'\n",
    "    tune = 'TuneCP5'\n",
    "    if y == 'Summer16': tune = 'TuneCUETP8M1'\n",
    "    for m in mass:\n",
    "        for ct in ctau:\n",
    "            key = 'MC_'+y+'_ggH_'+str(m)+'_'+str(ct)                       \n",
    "            fpath[key] = mc_path+'ggH_HToSSTobbbb_MH-125_MS-'+str(m)+'_ctau-'+str(ct)+'_' + tune + '_13TeV-powheg-pythia8_1pb_weighted.root'\n",
    "\n",
    "\n",
    "\n",
    "NEvents = {}\n",
    "total_signal = 0\n",
    "NEvents_genweight = {}\n",
    "for k,v in fpath.items():\n",
    "#     print (k, v)\n",
    "#     tree[k] = rtnp.root2array(v)\n",
    "    root_dir = uproot.open(v) \n",
    "    if not root_dir: \n",
    "        print(k, \"zombie\")\n",
    "        continue\n",
    "    tree[k] = root_dir['MuonSystem']\n",
    "    NEvents[k] = root_dir['NEvents'][1]\n",
    "    weight[k] = tree[k][\"weight\"].array()\n",
    "    weight_sum[k] = np.sum(weight[k])\n",
    "    print(\"NEvents\",k,NEvents[k], weight_sum[k], len(weight[k]))\n",
    "    if not k == 'data': total_signal += NEvents[k]\n",
    "    \n",
    "print(total_signal)\n",
    "print(time.time()-start_t)"
   ]
  },
  {
   "cell_type": "markdown",
   "metadata": {},
   "source": [
    "# Helper Functions"
   ]
  },
  {
   "cell_type": "code",
   "execution_count": 3,
   "metadata": {},
   "outputs": [],
   "source": [
    "\n",
    "\n",
    "# Imports\n",
    "import matplotlib.pyplot as plt\n",
    "import xgboost as xgb\n",
    "from sklearn.model_selection import train_test_split\n",
    "from sklearn.metrics import accuracy_score, roc_curve, roc_auc_score\n",
    "import numpy as np\n",
    "import pandas as pd\n",
    "import math\n",
    "import pickle as pickle\n",
    "import ROOT as root\n",
    "import os\n",
    "import shlex\n",
    "import uproot\n",
    "import seaborn as sns\n",
    "\n",
    "# variables = [\n",
    "#             ['cscRechitClusterNStation', 'cscRechitClusterNStation', '$N_{station}$', 5, 0, 5],\n",
    "#             ['cscRechitClusterXSpread', 'cscRechitClusterXSpread', 'X spread [cm]', 50, 0, 150],\n",
    "#             ['cscRechitClusterYSpread', 'cscRechitClusterYSpread', 'Y spread [cm]', 50, 0, 150],\n",
    "#             ['cscRechitClusterXYSpread', 'cscRechitClusterXYSpread', 'XY spread [cm]', 50, 0, 150],\n",
    "#             ['cscRechitClusterPhi', 'cscRechitClusterPhi', 'cluster $\\phi$',25, 0, 3.2],\n",
    "#             ['cscRechitClusterEta', 'cscRechitClusterEta', 'cluster $\\eta$',  25, 0.5, 2.5],\n",
    "#             ['cscRechitClusterZ', 'cscRechitClusterZ', 'cluster Z [cm]', 30, 600, 1100],\n",
    "#             ]\n",
    "\n",
    "# variables_mc = [\n",
    "#             ['cscRechitClusterNStation', 'cscRechitClusterNStation', '$N_{station}$', 5, 0, 5],\n",
    "#             ['cscRechitClusterXSpread_phi0p7_r1p2', 'cscRechitClusterXSpread', 'X spread [cm]', 50, 0, 150],\n",
    "#             ['cscRechitClusterYSpread_phi0p7_r1p2', 'cscRechitClusterYSpread', 'Y spread [cm]', 50, 0, 150],\n",
    "#             ['cscRechitClusterXYSpread_phi0p7_r1p2', 'cscRechitClusterXYSpread', 'XY spread [cm]', 50, 0, 150],\n",
    "#             ['cscRechitClusterPhi', 'cscRechitClusterPhi', 'cluster $\\phi$',25, 0, 3.2],\n",
    "#             ['cscRechitClusterEta', 'cscRechitClusterEta', 'cluster $\\eta$',  25, 0.5, 2.5],\n",
    "#             ['cscRechitClusterZ', 'cscRechitClusterZ', 'cluster Z [cm]', 30, 600, 1100],\n",
    "#             ]\n",
    "\n",
    "\n",
    "# variables = [\n",
    "#             ['cscRechitClusterNStation', 'cscRechitClusterNStation', '$N_{station}$', 5, 0, 5],\n",
    "#             ['cscRechitClusterXSpread', 'cscRechitClusterXSpread', 'X spread [cm]', 50, 0, 150],\n",
    "#             ['cscRechitClusterYSpread', 'cscRechitClusterYSpread', 'Y spread [cm]', 50, 0, 150],\n",
    "#             ['cscRechitClusterXYSpread', 'cscRechitClusterXYSpread', 'XY spread [cm]', 50, 0, 150],\n",
    "#             ['cscRechitClusterPhi', 'cscRechitClusterPhi', 'cluster $\\phi$',25, 0, 3.2],\n",
    "#             ['cscRechitClusterEta', 'cscRechitClusterEta', 'cluster $\\eta$',  25, 0.5, 2.5],\n",
    "#             ['cscRechitClusterAvgStation5', 'cscRechitClusterAvgStation5', 'cluster station', 30, 1, 4],\n",
    "\n",
    "#             ]\n",
    "# variables_mc = [\n",
    "#             ['cscRechitClusterNStation5', 'cscRechitClusterNStation', '$N_{station}$', 5, 0, 5],\n",
    "#             ['cscRechitClusterXSpread_corr', 'cscRechitClusterXSpread', 'X spread [cm]', 50, 0, 150],\n",
    "#             ['cscRechitClusterYSpread_corr', 'cscRechitClusterYSpread', 'Y spread [cm]', 50, 0, 150],\n",
    "#             ['cscRechitClusterXYSpread_corr', 'cscRechitClusterXYSpread', 'XY spread [cm]', 50, 0, 150],\n",
    "#             ['cscRechitClusterPhi', 'cscRechitClusterPhi', 'cluster $\\phi$',25, 0, 3.2],\n",
    "#             ['cscRechitClusterEta', 'cscRechitClusterEta', 'cluster $\\eta$',  25, 0.5, 2.5],\n",
    "#             ['cscRechitClusterAvgStation5', 'cscRechitClusterAvgStation5', 'cluster station', 30, 1, 4],\n",
    "#             ]\n",
    "\n",
    "# variables = [\n",
    "#             ['cscRechitClusterNStation', 'cscRechitClusterNStation', '$N_{station}$', 5, 0, 5],\n",
    "#             ['cscRechitClusterPhi', 'cscRechitClusterPhi', 'cluster $\\phi$',25, 0, 3.2],\n",
    "#             ['cscRechitClusterEta', 'cscRechitClusterEta', 'cluster $\\eta$',  25, 0.5, 2.5],\n",
    "#             ['cscRechitClusterAvgStation5', 'cscRechitClusterAvgStation5', 'cluster station', 30, 1, 4],\n",
    "#             ]\n",
    "\n",
    "\n",
    "variables = [\n",
    "            ['cscRechitClusterNStation5', 'cscRechitClusterNStation5', '$N_{station}$', 5, 0, 5],\n",
    "            ['cscRechitClusterEta', 'cscRechitClusterEta', 'cluster $\\eta$',  25, 0.5, 2.5],\n",
    "            ['cscRechitClusterAvgStation5', 'cscRechitClusterAvgStation5', 'cluster station', 30, 1, 4],\n",
    "            ]\n",
    "\n",
    "variables = [\n",
    "            ['cscRechitClusterNStation10', 'cscRechitClusterNStation10', '$N_{station}$', 5, 0, 5],\n",
    "            ['cscRechitClusterEta', 'cscRechitClusterEta', 'cluster $\\eta$',  25, 0.5, 2.5],\n",
    "            ['cscRechitClusterAvgStation10', 'cscRechitClusterAvgStation10', 'average station', 30, 1, 4],\n",
    "            ]"
   ]
  },
  {
   "cell_type": "markdown",
   "metadata": {},
   "source": [
    "# correlation with n_rechits"
   ]
  },
  {
   "cell_type": "code",
   "execution_count": 4,
   "metadata": {},
   "outputs": [
    {
     "name": "stdout",
     "output_type": "stream",
     "text": [
      "cscRechitClusterNStation10 (0.011220801367215042, 0.5612681124927875)\n",
      "cscRechitClusterEta (-0.028847446134529345, 0.135216020446514)\n",
      "cscRechitClusterAvgStation10 (-0.0357320727277527, 0.06423186579501995)\n"
     ]
    }
   ],
   "source": [
    "# Plotting ncsc\n",
    "import scipy\n",
    "start_t = time.time()\n",
    "c = rt.TCanvas('c','c', 1000, 800)\n",
    "h = {}\n",
    "# leg = rt.TLegend(0.50,0.75,0.97,0.93)\n",
    "leg = rt.TLegend(0.58,0.70,0.94,0.85)\n",
    "leg.SetTextSize(0.022)\n",
    "# leg.SetTextFont(42)\n",
    "leg.SetEntrySeparation(0.01)\n",
    "T = tree['data']\n",
    "for i, var in enumerate(variables):\n",
    "#     evt_selection  = T.array('met') > 200\n",
    "    nCscRechitClusters = T.array('nCscRechitClusters')\n",
    "    cscRechits = T.array('cscRechitClusterSize')[nCscRechitClusters>0][:,0]\n",
    "    variable_check = np.abs(T.array(var[0])[nCscRechitClusters>0][:,0])\n",
    "    print(var[0],scipy.stats.pearsonr(cscRechits, variable_check))"
   ]
  },
  {
   "cell_type": "code",
   "execution_count": 5,
   "metadata": {},
   "outputs": [],
   "source": [
    "variables_veto = [\n",
    "            ['cscRechitClusterMuonVetoPt', 'cscRechitClusterMuonVetoPt', '$N_{station}$', 5, 0, 5],\n",
    "            ['cscRechitClusterMuonVetoE', 'cscRechitClusterMuonVetoE', '$\\eta$ spread', 50, 0, 0.3],\n",
    "            ['cscRechitClusterJetVetoPt', 'cscRechitClusterJetVetoPt', '$\\phi$ spread', 50, 0, 0.3],\n",
    "            ['cscRechitClusterJetVetoE', 'cscRechitClusterJetVetoE', '$\\eta-\\phi$ spread', 50, 0, 0.2],\n",
    "      \n",
    "            ]\n",
    "\n"
   ]
  },
  {
   "cell_type": "code",
   "execution_count": null,
   "metadata": {},
   "outputs": [],
   "source": []
  },
  {
   "cell_type": "markdown",
   "metadata": {},
   "source": [
    "## load root files to dataframes & weight"
   ]
  },
  {
   "cell_type": "code",
   "execution_count": 5,
   "metadata": {},
   "outputs": [
    {
     "name": "stdout",
     "output_type": "stream",
     "text": [
      "Summer16\n",
      "Fall17\n",
      "Fall18\n",
      "values in signal missing:  False\n",
      "values in bkg missing:  False\n",
      "Number of signal events: 1198936\n",
      "Number of background events: 2687\n",
      "Sum of weight for signal events: 2687.0\n",
      "Sum of weight for background events: 2687\n"
     ]
    }
   ],
   "source": [
    "lumi_year = {\n",
    "    'Summer16': 35.92,\n",
    "    'Fall17':41.53,\n",
    "    'Fall18':59.74,\n",
    "}\n",
    "\n",
    "# timespread_cut = 2.0\n",
    "\n",
    "\n",
    "weight_signal = []\n",
    "df_signal_list  = []\n",
    "nRechit_list = []\n",
    "veto_list = []\n",
    "# timespread_list = []\n",
    "\n",
    "for y in years:\n",
    "    print(y)\n",
    "    for m in mass:\n",
    "        for ct in ctau:\n",
    "            key = 'MC_'+y+'_ggH_'+str(m)+'_'+str(ct)                       \n",
    "            df_signal_temp = uproot.open(fpath[key])['MuonSystem'].pandas.df([row[0] for row in variables], flatten=True)\n",
    "            df_signal_list.append(df_signal_temp)\n",
    "            nRechit_list.append(uproot.open(fpath[key])['MuonSystem'].pandas.df(['cscRechitClusterSize'], flatten=True))\n",
    "#             veto_list.append(uproot.open(fpath[key])['MuonSystem'].pandas.df([row[0] for row in variables_veto], flatten=True))\n",
    "#             timespread_list.append(uproot.open(fpath[key])['MuonSystem'].pandas.df(['cscRechitClusterEta'], flatten=True))\n",
    "\n",
    "#             weight_signal = weight_signal + [lumi_year[y]/len(df_signal_temp)]*len(df_signal_temp) #v4\n",
    "            weight_signal = weight_signal + [lumi_year[y]]*len(df_signal_temp) #v5\n",
    "df_signal = pd.concat(df_signal_list)\n",
    "df_bkg = uproot.open(fpath['data'])['MuonSystem'].pandas.df([row[0] for row in variables], flatten=True)\n",
    "weight_bkg = np.ones((len(df_bkg,)))\n",
    "weight_signal = np.array(weight_signal)\n",
    "# df_signal_ts = pd.concat(timespread_list)\n",
    "# df_bkg_ts = uproot.open(fpath['data'])['MuonSystem'].pandas.df(['cscRechitClusterEta'], flatten=True)\n",
    "\n",
    "df_signal_ncsc = pd.concat(nRechit_list)\n",
    "df_bkg_ncsc = uproot.open(fpath['data'])['MuonSystem'].pandas.df(['cscRechitClusterSize'], flatten=True)\n",
    "nRechits = np.abs(np.concatenate([df_bkg_ncsc,df_signal_ncsc]))\n",
    "\n",
    "\n",
    "print(\"values in signal missing: \", df_signal.isnull().values.any())\n",
    "print(\"values in bkg missing: \", df_bkg.isnull().values.any())\n",
    "\n",
    "# weight_signal = weight_signal[np.abs(df_signal_ts.values[:,0])<=timespread_cut]\n",
    "# df_signal = df_signal.values[np.abs(df_signal_ts.values[:,0])<=timespread_cut]\n",
    "# df_bkg = df_bkg.values[np.abs(df_bkg_ts.values[:,0])<=timespread_cut]\n",
    "# weight_bkg = weight_bkg[np.abs(df_bkg_ts.values[:,0])<=timespread_cut]\n",
    "# df_signal_ncsc = df_signal_ncsc.values[np.abs(df_signal_ts.values[:,0])<=timespread_cut]\n",
    "# df_bkg_ncsc = df_bkg_ncsc.values[np.abs(df_bkg_ts.values[:,0])<=timespread_cut]\n",
    "\n",
    "x = np.abs(np.concatenate([df_bkg,df_signal]))\n",
    "y = np.concatenate([np.zeros(len(df_bkg)),np.ones(len(df_signal))])\n",
    "weight_signal = weight_signal/np.sum(weight_signal) * np.sum(weight_bkg)\n",
    "\n",
    "\n",
    "weight = np.hstack((weight_bkg, weight_signal))\n",
    "\n",
    "assert(len(x) == len(y) == len(weight))\n",
    "\n",
    "print(\"Number of signal events: \"+ str(len(df_signal)))\n",
    "print(\"Number of background events: \"+str(len(df_bkg)))\n",
    "print(\"Sum of weight for signal events: \"+ str(np.sum(weight_signal)))\n",
    "print(\"Sum of weight for background events: \"+str(len(df_bkg)))\n",
    "\n",
    "indices = np.arange(len(y))\n",
    "\n",
    "# df_nRechit_sig = pd.concat(nRechit_list)\n",
    "# df_nRechit_bkg = uproot.open(fpath['data'])['MuonSystem'].pandas.df('cscRechitClusterSize', flatten=True)\n",
    "# df_veto_sig = pd.concat(veto_list)"
   ]
  },
  {
   "cell_type": "code",
   "execution_count": 5,
   "metadata": {},
   "outputs": [
    {
     "name": "stdout",
     "output_type": "stream",
     "text": [
      "cscRechitClusterNStation10      3.000000\n",
      "cscRechitClusterEta             1.999894\n",
      "cscRechitClusterAvgStation10    4.000000\n",
      "dtype: float64 cscRechitClusterNStation10      1.000000\n",
      "cscRechitClusterEta            -1.999937\n",
      "cscRechitClusterAvgStation10   -4.000000\n",
      "dtype: float64\n"
     ]
    }
   ],
   "source": [
    "print(np.max(df_bkg), np.min(df_bkg))"
   ]
  },
  {
   "cell_type": "code",
   "execution_count": null,
   "metadata": {},
   "outputs": [],
   "source": []
  },
  {
   "cell_type": "markdown",
   "metadata": {},
   "source": [
    "# muon veto efficiency"
   ]
  },
  {
   "cell_type": "code",
   "execution_count": null,
   "metadata": {},
   "outputs": [],
   "source": [
    "df_muonVetoPt_sig\n",
    "eff_muonpt = []\n",
    "eff_muone = []\n",
    "eff_jetpt = []\n",
    "eff_jete = []\n",
    "muonpt = np.array(df_veto_sig['cscRechitClusterMuonVetoPt'])\n",
    "muone = np.array(df_veto_sig['cscRechitClusterMuonVetoE'])\n",
    "jetpt = np.array(df_veto_sig['cscRechitClusterJetVetoPt'])\n",
    "jete = np.array(df_veto_sig['cscRechitClusterJetVetoE'])\n",
    "cuts = np.arange(0,50,1)\n",
    "for cut in cuts:\n",
    "    eff_muonpt.append(np.count_nonzero(muonpt<cut)/len(muonpt))\n",
    "    eff_muone.append(np.count_nonzero(muone<cut)/len(muone))\n",
    "    eff_jetpt.append(np.count_nonzero(jetpt<cut)/len(jetpt))\n",
    "    eff_jete.append(np.count_nonzero(jete<cut)/len(jete))\n",
    "eff_muonpt = np.array(eff_muonpt)\n",
    "eff_muone = np.array(eff_muone)\n",
    "eff_jetpt = np.array(eff_jetpt)\n",
    "eff_jete = np.array(eff_jete)\n",
    "print(cuts[np.argmin(abs(eff_muonpt-0.9))])\n",
    "print(cuts[np.argmin(abs(eff_muone-0.9))])\n",
    "print(cuts[np.argmin(abs(eff_jetpt-0.9))])\n",
    "print(cuts[np.argmin(abs(eff_jete-0.9))])\n",
    "# print(eff_pt)\n",
    "# print(e[np.argmin(abs(eff_e-0.9))])"
   ]
  },
  {
   "cell_type": "code",
   "execution_count": null,
   "metadata": {},
   "outputs": [],
   "source": []
  },
  {
   "cell_type": "markdown",
   "metadata": {},
   "source": [
    "### plot input variables"
   ]
  },
  {
   "cell_type": "code",
   "execution_count": 19,
   "metadata": {},
   "outputs": [
    {
     "name": "stdout",
     "output_type": "stream",
     "text": [
      "0 0 0\n",
      "['cscRechitClusterNStation10', 'cscRechitClusterNStation10', '$N_{station}$', 5, 0, 5]\n",
      "1 0 1\n",
      "['cscRechitClusterEta', 'cscRechitClusterEta', 'cluster $\\\\eta$', 25, 0.5, 2.5]\n",
      "2 0 2\n",
      "['cscRechitClusterAvgStation10', 'cscRechitClusterAvgStation10', 'average station', 30, 1, 4]\n"
     ]
    },
    {
     "name": "stderr",
     "output_type": "stream",
     "text": [
      "/usr/local/lib/python3.6/site-packages/ipykernel_launcher.py:37: UserWarning: You have mixed positional and keyword arguments, some input may be discarded.\n"
     ]
    },
    {
     "data": {
      "image/png": "[encoded data removed]",
      "text/plain": [
       "<Figure size 720x360 with 6 Axes>"
      ]
     },
     "metadata": {
      "needs_background": "light"
     },
     "output_type": "display_data"
    }
   ],
   "source": [
    "\n",
    "def trim_axs(axs, N):\n",
    "    \"\"\"little helper to massage the axs list to have correct length...\"\"\"\n",
    "    axs = axs.flat\n",
    "    for ax in axs[N:]:\n",
    "        ax.remove()\n",
    "    return axs[:N]\n",
    "columns = 3\n",
    "fig1, axs = plt.subplots(int(len(variables)/columns)+1, columns, figsize=(10,5), constrained_layout=True)\n",
    "# fig1, axs = plt.subplots(int(len(variables)/columns)+1, columns, figsize=(8,8), constrained_layout=True)\n",
    "\n",
    "\n",
    "# for ax, case in zip(axs, cases):\n",
    "#     ax.set_title('markevery=%s' % str(case))\n",
    "trim_axs(axs, len(variables))\n",
    "\n",
    "r = 0\n",
    "c = 0\n",
    "for i, var in enumerate(variables):\n",
    "#     axs[i].hist(x[:,i][y==0])\n",
    "    print(i,r,c)\n",
    "    print(variables[i])\n",
    "    bkg = axs[r,c].hist(x[:,i][y==0], variables[i][3], (variables[i][4], variables[i][5]), density = True, histtype = 'step', label = 'Background', color = 'b')\n",
    "    sig = axs[r,c].hist(x[:,i][y==1], variables[i][3], (variables[i][4], variables[i][5]), density = True, histtype = 'step', label = 'Signal', color = 'r')\n",
    "#     axs[r,c].legend()\n",
    "    axs[r,c].set_xlabel(variables[i][2])\n",
    "    if c == columns-1:\n",
    "#         if r == 0:axs[r,c].legend(loc = 'upper right')\n",
    "        c = 0\n",
    "        r+=1\n",
    "        \n",
    "    else:c+=1\n",
    "#     if i == len(variables)-1:\n",
    "fig1.legend([bkg, sig],     # The line objects\n",
    "           labels=['Background (OOT control region)', 'Signal (sum of all models)'],   # The labels for each line\n",
    "           loc=\"upper center\",   # Position of legend\n",
    "           bbox_to_anchor=(0.529, 1.1),\n",
    "            borderaxespad=0.1,    # Small spacing around legend box\n",
    "           )\n",
    "#     h['OOT_data'] = create_TH1D(x[:,i][y==0], axis_title = [variables[i][2],'Events'], binning=[variables[i][3], variables[i][4], variables[i][5]])\n",
    "#     h['MC_signal'] = create_TH1D(x[:,i][y==1], axis_title = [variables[i][2],'Events'], binning=[variables[i][3], variables[i][4], variables[i][5]])\n",
    "\n",
    "# fig1.savefig(\"../../plots/MuonSystem_Analysis/\"+bdt_name+'/input.png', dpi=300)\n",
    "\n",
    "fig1.savefig(\"../../plots/MuonSystem_Analysis/cut_based_v4/input.png\", dpi=300, bbox_inches=\"tight\")\n",
    "\n"
   ]
  },
  {
   "cell_type": "markdown",
   "metadata": {},
   "source": [
    "# train"
   ]
  },
  {
   "cell_type": "code",
   "execution_count": 5,
   "metadata": {},
   "outputs": [],
   "source": [
    "# split data into train and test sets\n",
    "seed = 7\n",
    "test_size = 0.2\n",
    "sample_size = 1.0\n",
    "# x_train, x_test, y_train, y_test, indices_train, indices_test = train_test_split(x, y,indices,train_size = sample_size*(1-test_size), test_size=sample_size*test_size, random_state=seed)\n",
    "x_train, x_test, y_train, y_test, indices_train, indices_test, weight_train, weight_test\\\n",
    "    = train_test_split(x, y,indices, weight, train_size = sample_size*(1-test_size), test_size=sample_size*test_size, random_state=seed)"
   ]
  },
  {
   "cell_type": "code",
   "execution_count": 7,
   "metadata": {},
   "outputs": [
    {
     "data": {
      "text/plain": [
       "XGBClassifier(base_score=0.5, booster='gbtree', colsample_bylevel=1,\n",
       "              colsample_bynode=1, colsample_bytree=1, gamma=0,\n",
       "              learning_rate=0.1, max_delta_step=0, max_depth=4,\n",
       "              min_child_weight=1, missing=None, n_estimators=400, n_jobs=4,\n",
       "              nthread=None, objective='binary:logistic', random_state=0,\n",
       "              reg_alpha=0, reg_lambda=1.0, scale_pos_weight=1, seed=None,\n",
       "              silent=None, subsample=1, verbosity=1)"
      ]
     },
     "execution_count": 7,
     "metadata": {},
     "output_type": "execute_result"
    }
   ],
   "source": [
    "# fit model no training data\n",
    "model = xgb.XGBClassifier(max_depth=4, learning_rate=0.1, n_estimators=400, verbosity=1, n_jobs=4, reg_lambda=1.0)\n",
    "model.fit(x_train, y_train, sample_weight=weight_train)"
   ]
  },
  {
   "cell_type": "code",
   "execution_count": 8,
   "metadata": {},
   "outputs": [
    {
     "name": "stdout",
     "output_type": "stream",
     "text": [
      "Accuracy: 75.05%\n"
     ]
    }
   ],
   "source": [
    "# make predictions for test data\n",
    "y_pred = model.predict_proba(x_test)[:, 1]\n",
    "y_pred_train = model.predict_proba(x_train)[:, 1]\n",
    "\n",
    "\n",
    "predictions = [round(value) for value in y_pred]\n",
    "# evaluate predictions\n",
    "accuracy = accuracy_score(y_test, predictions)\n",
    "print(\"Accuracy: %.2f%%\" % (accuracy * 100.0))\n",
    "bdt_name = 'bdt_flatten_metfilter_me1112nohits_eta2p0_testsize0p2_noSpread_v4'\n",
    "# import pickle\n",
    "# pickle.dump(model, open(bdt_name+\".pickle\", \"wb\"))\n"
   ]
  },
  {
   "cell_type": "markdown",
   "metadata": {},
   "source": [
    "### cut based"
   ]
  },
  {
   "cell_type": "code",
   "execution_count": 115,
   "metadata": {},
   "outputs": [
    {
     "name": "stdout",
     "output_type": "stream",
     "text": [
      "Accuracy: 84.07%\n",
      "signal efficiency:  0.8412050351311496\n",
      "bkg efficiency:  0.37848902121324896\n"
     ]
    }
   ],
   "source": [
    "y_pred_cut = y*0.0\n",
    "\n",
    "# split Nstation ==1 and different avg station, original version, v2\n",
    "# cond2 = np.logical_and(x[:,2]==2, x[:,1] < 1.6)\n",
    "# cond3 = np.logical_and(x[:,2]==3, x[:,1] < 1.2)\n",
    "# cond4 = np.logical_and(x[:,2]==4, x[:,1] < 1.8)\n",
    "# cond1 = np.logical_and(x[:,0]==1, np.logical_or(np.logical_or(x[:,2]==1, cond2), np.logical_or(cond3, cond4)))\n",
    "# cond2 = np.logical_and(x[:, 0]==2, np.logical_or(x[:,1] < 1.9, x[:,2]>3))\n",
    "# cond3 = np.logical_and(x[:, 0]==3, x[:,1] < 1.9)\n",
    "# cond4 = x[:, 0]==4\n",
    "# cond = np.logical_or(np.logical_or(cond1, cond2), np.logical_or(cond3, cond4))\n",
    "\n",
    "\n",
    "# split Nstation ==1 and different avg station, original version, v3\n",
    "cond2 = np.logical_and(x[:,2]==2, x[:,1] < 1.7)\n",
    "cond3 = np.logical_and(x[:,2]==3, x[:,1] < 1.8)\n",
    "cond4 = np.logical_and(x[:,2]==4, x[:,1] < 1.9)\n",
    "cond1 = np.logical_and(x[:,0]==1, np.logical_or(np.logical_or(x[:,2]==1, cond2), np.logical_or(cond3, cond4)))\n",
    "cond2 = np.logical_and(x[:, 0] > 1, x[:,1] < 1.9)\n",
    "cond = np.logical_or(np.logical_or(cond1, cond2), np.logical_or(cond3, cond4))\n",
    "\n",
    "\n",
    "y_pred_cut[cond] = 1\n",
    "predictions = [round(value) for value in y_pred_cut]\n",
    "accuracy = accuracy_score(y, predictions)\n",
    "print(\"Accuracy: %.2f%%\" % (accuracy * 100.0))\n",
    "\n",
    "\n",
    "# calculate signal efficiency/background efficiency\n",
    "print(\"signal efficiency: \", np.count_nonzero(np.logical_and(cond, y))/np.count_nonzero(y))\n",
    "print(\"bkg efficiency: \", np.count_nonzero(np.logical_and(cond, y==False))/np.count_nonzero(y==False))\n",
    "\n"
   ]
  },
  {
   "cell_type": "markdown",
   "metadata": {},
   "source": [
    "# load bdt"
   ]
  },
  {
   "cell_type": "code",
   "execution_count": 6,
   "metadata": {},
   "outputs": [
    {
     "name": "stdout",
     "output_type": "stream",
     "text": [
      "Accuracy: 75.05%\n",
      "Accuracy: 75.13%\n"
     ]
    }
   ],
   "source": [
    "# make predictions for test data\n",
    "\n",
    "import pickle\n",
    "# model = pickle.load(open( 'bdt_flatten_noEvtSelection.pickle.dat', \"rb\" ))\n",
    "bdt_name = 'bdt_flatten_metfilter_me1112nohits_eta2p0_testsize0p2_noSpread_v3'\n",
    "\n",
    "\n",
    "model = pickle.load(open( bdt_name+'.pickle', \"rb\" ))\n",
    "# y_pred = model.predict_proba([1,2,3,4,4,5,6])[:, 1]\n",
    "y_pred = model.predict_proba(x_test)[:, 1]\n",
    "y_pred_train = model.predict_proba(x_train)[:, 1]\n",
    "\n",
    "predictions = [round(value) for value in y_pred]\n",
    "# evaluate predictions\n",
    "accuracy = accuracy_score(y_test, predictions)\n",
    "print(\"Accuracy: %.2f%%\" % (accuracy * 100.0))\n",
    "\n",
    "\n",
    "accuracy = accuracy_score(y_train, [round(value) for value in y_pred_train])\n",
    "\n",
    "\n",
    "print(\"Accuracy: %.2f%%\" % (accuracy * 100.0))\n"
   ]
  },
  {
   "cell_type": "markdown",
   "metadata": {},
   "source": [
    "# ROC curve"
   ]
  },
  {
   "cell_type": "code",
   "execution_count": 7,
   "metadata": {},
   "outputs": [
    {
     "name": "stdout",
     "output_type": "stream",
     "text": [
      "AUC: 0.8675456265239295\n"
     ]
    }
   ],
   "source": [
    "\n",
    "AUC = roc_auc_score(y_test, y_pred)\n",
    "print(\"AUC: \"+str(AUC))\n",
    "#get roc curve\n",
    "#roc = roc_curve(y_test, y_pred)\n",
    "fpr, tpr, thr = roc_curve(y_test, y_pred)\n",
    "# fpr, tpr, thr = roc_curve(y_train, y_pred_train)"
   ]
  },
  {
   "cell_type": "markdown",
   "metadata": {},
   "source": [
    "## significance"
   ]
  },
  {
   "cell_type": "code",
   "execution_count": 10,
   "metadata": {},
   "outputs": [
    {
     "name": "stdout",
     "output_type": "stream",
     "text": [
      "WP99_threshold: 0.099749036\n",
      "WP99_effSignal: 0.9901373267776791\n",
      "WP99_effBkg: 0.8703007518796992\n",
      "WP90_threshold: 0.4265732\n",
      "WP90_effSignal: 0.8161706138210874\n",
      "WP90_effBkg: 0.2518796992481203\n"
     ]
    }
   ],
   "source": [
    "\n",
    "significance = []\n",
    "effSignal = []\n",
    "effBkg = []\n",
    "thresholds = []\n",
    "\n",
    "ctr = 0\n",
    "for i in range(len(fpr)):\n",
    "    if fpr[i] > 1e-5 and tpr[i] > 1e-5:\n",
    "#         print(\"thr = \"+str(thr[i])+\", fpr = \"+str(fpr[i]) + \", tpr = \"+str(tpr[i]))\n",
    "        #print fpr[i], tpr[i] \n",
    "        #significance.append(math.sqrt(lumi)*4.8742592356*0.006431528796*tpr[i]/math.sqrt(fpr[i]*0.9935684712))\n",
    "#         significance.append(*tpr[i]/math.sqrt(fpr[i]*bkgEvents))\n",
    "        effSignal.append(tpr[i])\n",
    "        effBkg.append(fpr[i])\n",
    "        thresholds.append(thr[i])\n",
    "        #print significance[ctr], ' ' , fpr[ctr], ' ', tpr[ctr]\n",
    "        ctr = ctr + 1\n",
    "\n",
    "\n",
    "# max_significance = max(significance)\n",
    "# idx_max_significance = np.argmax(np.array(significance))\n",
    "# best_threshold = thresholds[idx_max_significance]\n",
    "# best_effSignal = effSignal[idx_max_significance]\n",
    "# best_effBkg = effBkg[idx_max_significance]\n",
    "\n",
    "# print(\"max_significance: \"+str(max_significance))\n",
    "# print(\"best_threshold: \"+str(best_threshold))\n",
    "# print(\"best_effSignal: \"+str(best_effSignal))\n",
    "# print(\"best_effBkg: \"+str(best_effBkg))\n",
    "\n",
    "idx_WP99 = 0\n",
    "minD0p9 = 999.0\n",
    "for idx in range(len(effSignal)):\n",
    "    if abs(effSignal[idx] - 0.99) < minD0p9:\n",
    "        idx_WP99 = idx\n",
    "        minD0p9 = abs(effSignal[idx] - 0.99)\n",
    "\n",
    "# WP90_significance = significance[idx_WP90]\n",
    "WP99_threshold = thresholds[idx_WP99]\n",
    "WP99_effSignal = effSignal[idx_WP99]\n",
    "WP99_effBkg = effBkg[idx_WP99]\n",
    "\n",
    "# print(\"WP90_significance: \"+str(WP90_significance))\n",
    "print(\"WP99_threshold: \"+str(WP99_threshold))\n",
    "print(\"WP99_effSignal: \"+str(WP99_effSignal))\n",
    "print(\"WP99_effBkg: \"+str(WP99_effBkg))\n",
    "\n",
    "idx_WP90 = 0\n",
    "minD0p8 = 999.0\n",
    "for idx in range(len(effSignal)):\n",
    "        if abs(effSignal[idx] - 0.8163) < minD0p8:\n",
    "                idx_WP90 = idx\n",
    "                minD0p8 = abs(effSignal[idx] - 0.8163)\n",
    "\n",
    "# WP80_significance = significance[idx_WP80]\n",
    "WP90_threshold = thresholds[idx_WP90]\n",
    "WP90_effSignal = effSignal[idx_WP90]\n",
    "WP90_effBkg = effBkg[idx_WP90]\n",
    "\n",
    "# print(\"WP80_significance: \"+str(WP80_significance))\n",
    "print(\"WP90_threshold: \"+str(WP90_threshold))\n",
    "print(\"WP90_effSignal: \"+str(WP90_effSignal))\n",
    "print(\"WP90_effBkg: \"+str(WP90_effBkg))\n"
   ]
  },
  {
   "cell_type": "markdown",
   "metadata": {},
   "source": [
    "# plot roc curve"
   ]
  },
  {
   "cell_type": "code",
   "execution_count": 61,
   "metadata": {},
   "outputs": [
    {
     "data": {
      "image/png": "[encoded data removed]",
      "text/plain": [
       "<Figure size 432x288 with 1 Axes>"
      ]
     },
     "metadata": {
      "needs_background": "light"
     },
     "output_type": "display_data"
    }
   ],
   "source": [
    "\n",
    "#plot roc curve\n",
    "f = plt.figure()\n",
    "ax = f.add_subplot(111)\n",
    "plt.subplots_adjust(top=0.9, bottom=0.15, left=0.15, right=0.95)\n",
    "lw = 2\n",
    "plt.plot(fpr, tpr, color='darkorange',\n",
    "         lw=lw, label='ROC curve')\n",
    "plt.plot([0, 1], [0, 1], color='navy', lw=lw, linestyle='--')\n",
    "plt.xlim([10E-4, 1.0])\n",
    "plt.ylim([0.0, 1.05])\n",
    "plt.ylabel('Signal Efficiency',horizontalalignment='right', y=1.0, fontsize=15)\n",
    "plt.xlabel('Background Efficiency',horizontalalignment='right', x=1.0, fontsize=15)\n",
    "plt.xticks(fontsize=13)\n",
    "plt.yticks(fontsize=13)\n",
    "plt.xscale('log')\n",
    "plt.axhline(y=0.9, color=\"black\", linestyle='--')\n",
    "plt.axhline(y=0.8, color=\"black\")\n",
    "plt.text(0.05,0.1,'WP99: bkg eff = %.4f'%WP99_effBkg, fontsize=12)\n",
    "plt.text(0.05,0.2,'WP90: bkg eff = %.4f'%WP90_effBkg, fontsize=12)\n",
    "#plt.text(0.5,0.3,'WP90: S/sqrt(B) = %.2f'%WP90_significance, fontsize=12)\n",
    "plt.text(0.05,0.3,'AUC = %.4f'%AUC, fontsize=12)\n",
    "\n",
    "plt.text(-0.03, 1.03, 'CMS', ha='left', va='bottom', transform=ax.transAxes, weight='bold', fontsize=17)\n",
    "plt.text(0.10, 1.03, 'Simulation Preliminary', ha='left', va='bottom', transform=ax.transAxes, style='italic', fontsize=16)\n",
    "plt.text(0.97, 1.03, '13 TeV', ha='right', va='bottom', transform=ax.transAxes, fontsize=16)\n",
    "\n",
    "# plt.legend(loc=\"lower right\")\n",
    "# plt.show()\n",
    "if not os.path.isdir(\"../../plots/MuonSystem_Analysis/\"+bdt_name):\n",
    "    os.makedirs(\"../../plots/MuonSystem_Analysis/\"+bdt_name)\n",
    "plt.savefig(\"../../plots/MuonSystem_Analysis/\"+bdt_name+'/roc.png', dpi=300)\n",
    "# plt.savefig(\"../../plots/MuonSystem_Analysis/\"+bdt_name+'/roc.C', dpi=300)\n",
    "\n",
    "\n"
   ]
  },
  {
   "cell_type": "markdown",
   "metadata": {},
   "source": [
    "# plot discrimination"
   ]
  },
  {
   "cell_type": "code",
   "execution_count": 12,
   "metadata": {},
   "outputs": [
    {
     "name": "stdout",
     "output_type": "stream",
     "text": [
      "0.017999679\n"
     ]
    },
    {
     "data": {
      "image/png": "[encoded data removed]",
      "text/plain": [
       "<Figure size 432x288 with 1 Axes>"
      ]
     },
     "metadata": {
      "needs_background": "light"
     },
     "output_type": "display_data"
    }
   ],
   "source": [
    "y_frame = pd.DataFrame({'truth':y_test, 'disc':y_pred})\n",
    "y_frame_train = pd.DataFrame({'truth':y_train, 'disc':y_pred_train})\n",
    "\n",
    "disc_bkg    = y_frame[y_frame['truth'] == 0]['disc'].values\n",
    "disc_bkg_train    = y_frame_train[y_frame_train['truth'] == 0]['disc'].values\n",
    "disc_signal = y_frame[y_frame['truth'] == 1]['disc'].values\n",
    "disc_signal_train = y_frame_train[y_frame_train['truth'] == 1]['disc'].values\n",
    "f = plt.figure()\n",
    "ax = f.add_subplot(111)\n",
    "plt.subplots_adjust(top=0.9, bottom=0.15, left=0.15, right=0.95)\n",
    "bn= 40\n",
    "plt.hist(disc_signal, density=True, bins=bn, alpha=1.0, histtype='step', lw=2, label='signal - test')\n",
    "plt.hist(disc_signal_train, density=True, bins=bn, alpha=1.0, histtype='step', lw=2, label='signal  - train')\n",
    "plt.hist(disc_bkg, density=True, bins=bn, alpha=1.0, histtype='step', lw=2, label='bkg - test')\n",
    "plt.hist(disc_bkg_train, density=True, bins=bn, alpha=1.0, histtype='step', lw=2, label='bkg - train')\n",
    "\n",
    "print(np.min(disc_signal_train))\n",
    "plt.yscale('log')\n",
    "plt.xlim([0.0, 1.0])\n",
    "plt.ylim([0.001, 1000.0])\n",
    "plt.legend(loc='best')\n",
    "plt.xlabel('BDT response',horizontalalignment='right', x=1.0, fontsize=15)\n",
    "plt.ylabel('Events',horizontalalignment='right', y=1.0, fontsize=14)\n",
    "plt.xticks(fontsize=13)\n",
    "plt.yticks(fontsize=13)\n",
    "plt.axvline(x=WP90_threshold, color='black', linestyle='--')\n",
    "# plt.axvline(x=WP99_threshold, color='black')\n",
    "plt.text(0.4,0.65,'WP90: disc > %.4f'%WP90_threshold, fontsize=12, horizontalalignment='left', verticalalignment='top', transform=plt.gca().transAxes)\n",
    "# plt.text(0.5,0.6,‘WP80: disc > %.4f’%WP80_threshold, fontsize=12, horizontalalignment=‘center’, verticalalignment=‘center’, transform=plt.gca().transAxes)\n",
    "plt.text(0.0, 1.01, 'CMS', ha='left', va='bottom', transform=ax.transAxes, weight='bold', fontsize=17)\n",
    "plt.text(0.12, 1.01, 'Simulation Preliminary', ha='left', va='bottom', transform=ax.transAxes, style='italic', fontsize=16)\n",
    "plt.text(1.0, 1.01, '13 TeV', ha='right', va='bottom', transform=ax.transAxes, fontsize=16)\n",
    "plt.savefig(\"../../plots/MuonSystem_Analysis/\"+bdt_name+'/discrimination.png', dpi=300)\n",
    "\n"
   ]
  },
  {
   "cell_type": "code",
   "execution_count": null,
   "metadata": {},
   "outputs": [],
   "source": [
    "import pickle\n",
    "# bdt_name = 'bdt_flatten_metfilter_me1112nohits_eta2p1_testsize0p2_abs_XYspread_v5'\n",
    "# model = pickle.load(open( bdt_name+'.pickle', \"rb\" ))\n",
    "\n",
    "\n",
    "#plot roc curve\n",
    "f = plt.figure()\n",
    "ax = f.add_subplot(111)\n",
    "plt.subplots_adjust(top=0.9, bottom=0.15, left=0.15, right=0.95)\n",
    "\n",
    "lw = 2\n",
    "colors = ['r', 'g', 'b', 'c']\n",
    "linestyle = ['solid', 'dotted', 'dashed']\n",
    "# for i, ct in enumerate([10000]):\n",
    "for i, ct in enumerate(ctau):\n",
    "\n",
    "\n",
    "    for j, m in enumerate(mass):\n",
    "        x = np.concatenate([df_bkg.values,df_signal[m][ct].values])\n",
    "        x = np.hstack((x[:, :5], np.abs(x[:, 5:]))) ## change the last two variables to positive\n",
    "        y = np.concatenate([np.zeros(len(df_bkg)),np.ones(len(df_signal[m][ct]))])\n",
    "        y_pred = model.predict_proba(x)[:, 1]\n",
    "\n",
    "        fpr, tpr, thr = roc_curve(y, y_pred)\n",
    "        plt.plot(fpr, tpr, color=colors[i],linestyle = linestyle[j], lw=2, label='ggH, $m_{x} =$ '+str(m)+' GeV, c$\\\\tau$ = ' +str(int(ct))+' mm')\n",
    "#         print('{0} \\t {1} \\t {2}'.format(ct, m, tpr[np.argmin(np.abs(fpr-0.01))]))\n",
    "        print('{0}'.format( tpr[np.argmin(np.abs(fpr-0.01))]))\n",
    "\n",
    "plt.plot([0, 1], [0, 1], color='navy', lw=lw, linestyle='--')\n",
    "plt.xlim([10E-4, 1.0])\n",
    "plt.ylim([0.0, 1.05])\n",
    "plt.ylabel('Signal Efficiency',horizontalalignment='right', y=1.0, fontsize=15)\n",
    "plt.xlabel('Background Efficiency',horizontalalignment='right', x=1.0, fontsize=15)\n",
    "plt.xticks(fontsize=13)\n",
    "plt.yticks(fontsize=13)\n",
    "plt.xscale('log')\n",
    "plt.axhline(y=0.9, color=\"black\", linestyle='--')\n",
    "plt.axhline(y=0.8, color=\"black\")\n",
    "# plt.text(0.05,0.1,'WP99: bkg eff = %.4f'%WP99_effBkg, fontsize=12)\n",
    "# plt.text(0.05,0.2,'WP90: bkg eff = %.4f'%WP90_effBkg, fontsize=12)\n",
    "# #plt.text(0.5,0.3,'WP90: S/sqrt(B) = %.2f'%WP90_significance, fontsize=12)\n",
    "# plt.text(0.05,0.3,'AUC = %.4f'%AUC, fontsize=12)\n",
    "# plt.title('Receiver operating characteristic example')\n",
    "plt.legend(loc=\"center right\", bbox_to_anchor=(1.2, 0.25, 0.5, 0.5))\n",
    "plt.text(0.0, 1.02, 'CMS', ha='left', va='bottom', transform=ax.transAxes, weight='bold', fontsize=17)\n",
    "plt.text(0.13, 1.02, 'Simulation Preliminary', ha='left', va='bottom', transform=ax.transAxes, style='italic', fontsize=16)\n",
    "plt.text(0.99, 1.02, '13 TeV', ha='right', va='bottom', transform=ax.transAxes, fontsize=16)\n",
    "\n",
    "# plt.savefig(\"../../plots/MuonSystem_Analysis/\"+bdt_name+\"/ROC_curve_allSig.png\", dpi=300,bbox_inches='tight')\n",
    "\n",
    "plt.show()\n",
    "\n",
    "\n"
   ]
  },
  {
   "cell_type": "code",
   "execution_count": 52,
   "metadata": {},
   "outputs": [
    {
     "data": {
      "text/plain": [
       "0.03223593964334705"
      ]
     },
     "execution_count": 52,
     "metadata": {},
     "output_type": "execute_result"
    }
   ],
   "source": [
    "94./2916"
   ]
  },
  {
   "cell_type": "markdown",
   "metadata": {},
   "source": [
    "# bdt efficiency"
   ]
  },
  {
   "cell_type": "code",
   "execution_count": 63,
   "metadata": {},
   "outputs": [
    {
     "name": "stdout",
     "output_type": "stream",
     "text": [
      "240325 2687\n",
      "532 532\n",
      "0.44360902255639095\n",
      "50 0.44360902255639095 0.6363636363636364 0.08373930663124332 0.4308617234468938 0.02216805455415437\n",
      "60 0.44360902255639095 0.4679245283018868 0.03065148979821948 0.41947565543071164 0.030200071305549085\n",
      "70 0.44360902255639095 0.47619047619047616 0.02643278599169621 0.37714285714285717 0.03663769506544393\n",
      "80 0.44360902255639095 0.4576271186440678 0.02451488350241617 0.3949579831932773 0.04481204207765529\n",
      "90 0.44360902255639095 0.45598194130925507 0.023663480187895658 0.38202247191011235 0.05150338735078006\n",
      "100 0.44360902255639095 0.44372294372294374 0.02311428846043094 0.44285714285714284 0.059369868966571517\n",
      "110 0.44360902255639095 0.44537815126050423 0.02278030134779577 0.42857142857142855 0.06613000712661081\n",
      "120 0.44360902255639095 0.44742268041237115 0.022577957751232825 0.40425531914893614 0.07158285722640818\n",
      "130 0.44360902255639095 0.44668008048289737 0.022300173966112745 0.4 0.0828078671210825\n",
      "140 0.44360902255639095 0.4400785854616896 0.022002385300218454 0.5217391304347826 0.10415861863104658\n",
      "150 0.44360902255639095 0.4383561643835616 0.02194995364083089 0.5714285714285714 0.10798984943120778\n",
      "160 0.44360902255639095 0.4368932038834951 0.02185643946717647 0.6470588235294118 0.1159040430757386\n",
      "170 0.44360902255639095 0.437984496124031 0.021841309150882813 0.625 0.12103072956898178\n",
      "180 0.44360902255639095 0.43907156673114117 0.021826098604842817 0.6 0.12649110640673517\n",
      "190 0.44360902255639095 0.4373795761078998 0.02177475702217825 0.6923076923076923 0.1280077375904375\n",
      "200 0.44360902255639095 0.43846153846153846 0.02175974661155315 0.6666666666666666 0.13608276348795434\n",
      "210 0.44360902255639095 0.43846153846153846 0.02175974661155315 0.6666666666666666 0.13608276348795434\n",
      "220 0.44360902255639095 0.43953934740882916 0.021744658023722 0.6363636363636364 0.14504073367590284\n",
      "230 0.44360902255639095 0.4386973180076628 0.021719298637296415 0.7 0.14491376746189438\n",
      "240 0.44360902255639095 0.4386973180076628 0.021719298637296415 0.7 0.14491376746189438\n",
      "250 0.44360902255639095 0.4397705544933078 0.021704270574564647 0.6666666666666666 0.15713484026367724\n",
      "260 0.44360902255639095 0.44 0.021664102412362562 0.7142857142857143 0.17074694419062766\n",
      "270 0.44360902255639095 0.44 0.021664102412362562 0.7142857142857143 0.17074694419062766\n",
      "280 0.44360902255639095 0.44106463878326996 0.021649059867637977 0.6666666666666666 0.19245008972987526\n",
      "290 0.44360902255639095 0.4412878787878788 0.021609169929526006 0.75 0.21650635094610965\n"
     ]
    }
   ],
   "source": [
    "import scipy\n",
    "import os\n",
    "\n",
    "# print(np.array(y_pred[y_test == 0]))\n",
    "# print(np.array(cscRechitClusterSize[indices_test][y_test == 0]).flatten())\n",
    "# print(scipy.stats.pearsonr(bdt_score[k], cscClusterSize[k]))\n",
    "# print(scipy.stats.pearsonr(bdt_score[k], jetMet_dPhiMin30[k]))\n",
    "\n",
    "# wp90 =  0.9598022\n",
    "# wp90 =  0.7802247\n",
    "wp90 = WP90_threshold\n",
    "# bdt_name = 'bdt_flatten_metfilter_me1112nohits_eta2p1_testsize0p2_abs_EtaPhi_v5'\n",
    "outDir = '/storage/user/christiw/login-1/christiw/LLP/CMSSW_10_2_13/src/HiggsAnalysis/MuonSystemLimit/data/bdt_eff/'\n",
    "if not os.path.isdir(outDir): print(\"OUTPUT DIR DOESN'T EXIST\")\n",
    "text_file = open(outDir+bdt_name+\".txt\", \"w\")\n",
    "# text_file.write('#n_rechit, eff_total, eff_low, sigma, eff_high, sigma \\n')\n",
    "\n",
    "y_frame = pd.DataFrame({'truth':y_test, 'disc':y_pred})\n",
    "y_frame_train = pd.DataFrame({'truth':y_train, 'disc':y_pred_train})\n",
    "\n",
    "disc_bkg    = y_frame[y_frame['truth'] == 0]['disc'].values\n",
    "\n",
    "print(len(indices_test), len(df_bkg_ncsc))\n",
    "ncsc = nRechits[indices_test][y_test==0]\n",
    "print(len(ncsc), len(disc_bkg))\n",
    "print(np.count_nonzero(disc_bkg>wp90)/len(disc_bkg))\n",
    "for n_rechit in np.arange(50,300,10):\n",
    "    cond1 = ncsc > n_rechit\n",
    "    cond1 = cond1[:,0]\n",
    "    cond2 =  disc_bkg > wp90\n",
    "    cond_gt = np.logical_and(cond1, cond2)\n",
    "    cond_lt = np.logical_and(np.logical_not(cond1), cond2)\n",
    "#     print(cond1.shape, cond2.shape)\n",
    "#     print(np.count_nonzero(cond1), np.count_nonzero(cond2), np.count_nonzero(cond_gt), np.count_nonzero(cond_lt))\n",
    "    eff_low = np.count_nonzero(cond_lt)/np.count_nonzero(np.logical_not(cond1))\n",
    "    eff_high = np.count_nonzero(cond_gt)/np.count_nonzero(cond1)\n",
    "    eff_total = np.count_nonzero(cond2)/len(cond2)\n",
    "    sig_eff_low = (eff_low*(1-eff_low)/np.count_nonzero(np.logical_not(cond1)))**0.5\n",
    "    sig_eff_high = (eff_high*(1-eff_high)/np.count_nonzero(cond1))**0.5\n",
    "    assert(np.count_nonzero(cond_lt)+np.count_nonzero(cond_gt) == np.count_nonzero(cond2))\n",
    "    print(n_rechit, eff_total,eff_low ,sig_eff_low , eff_high, sig_eff_high)\n",
    "    text_file.write('{0}, {1}, {2}, {3}, {4} \\n'.format(n_rechit, eff_low ,sig_eff_low , eff_high, sig_eff_high))\n",
    "\n",
    "    \n",
    "\n",
    "# for dphi in [0.0, 0.6, 1, 1.5, 2, 2.5]:\n",
    "#     cond1 = jetMet_dPhiMin30[k] >= dphi\n",
    "#     cond2 = bdt_score[k] > wp90\n",
    "#     cond_gt = np.logical_and(cond1, cond2)\n",
    "#     cond_lt = np.logical_and(np.logical_not(cond1), cond2)\n",
    "#     print(dphi, np.count_nonzero(cond_gt)/np.count_nonzero(cond1))\n",
    "\n",
    "    \n",
    "text_file.close()\n",
    "\n",
    "    \n",
    "    \n",
    "    "
   ]
  },
  {
   "cell_type": "code",
   "execution_count": 104,
   "metadata": {},
   "outputs": [
    {
     "name": "stdout",
     "output_type": "stream",
     "text": [
      "[0.0, 1.0, 2.0, 3.0]\n",
      "[1.0, 1.5, 2.0]\n"
     ]
    },
    {
     "name": "stderr",
     "output_type": "stream",
     "text": [
      "/usr/local/lib/python3.6/site-packages/ipykernel_launcher.py:44: UserWarning: You have mixed positional and keyword arguments, some input may be discarded.\n"
     ]
    },
    {
     "data": {
      "image/png": "[encoded data removed]",
      "text/plain": [
       "<Figure size 576x360 with 9 Axes>"
      ]
     },
     "metadata": {
      "needs_background": "light"
     },
     "output_type": "display_data"
    }
   ],
   "source": [
    "sig_flag = 0\n",
    "lab = ['Background', 'Signal']\n",
    "x_sig = x[y==sig_flag]\n",
    "y_pred_sig = model.predict_proba(x_sig)[:, 1]\n",
    "\n",
    "\n",
    "def trim_axs(axs, N):\n",
    "    \"\"\"little helper to massage the axs list to have correct length...\"\"\"\n",
    "    axs = axs.flat\n",
    "    for ax in axs[N:]:\n",
    "        ax.remove()\n",
    "    return axs[:N]\n",
    "columns = 3\n",
    "fig1, axs = plt.subplots(int(len(variables)/columns)+1, columns, figsize=(8,5), constrained_layout=True)\n",
    "# fig1, axs = plt.subplots(int(len(variables)/columns)+1, columns, figsize=(6,8), constrained_layout=True)\n",
    "\n",
    "\n",
    "# for ax, case in zip(axs, cases):\n",
    "#     ax.set_title('markevery=%s' % str(case))\n",
    "trim_axs(axs, len(variables))\n",
    "\n",
    "r = 0\n",
    "c = 0\n",
    "for i, var in enumerate(variables):\n",
    "    bkg = axs[r,c].hist(x_sig[:,i][y_pred_sig< WP90_threshold], variables[i][3], (variables[i][4], variables[i][5]), density = True, histtype = 'step', label = 'Background', color = 'b')\n",
    "    sig = axs[r,c].hist(x_sig[:,i][y_pred_sig>=WP90_threshold], variables[i][3], (variables[i][4], variables[i][5]), density = True, histtype = 'step', label = 'Signal', color = 'r')\n",
    "    axs[r,c].set_xlabel(variables[i][2])\n",
    "    if i == 5:\n",
    "        print(list(axs[r,c].get_xticks()))\n",
    "#         axs[r,c].set_xticks(list(axs[r,c].get_xticks()) + [1.5])\n",
    "        axs[r,c].set_xticks([1.0, 1.5, 2.0])\n",
    "        print(list(axs[r,c].get_xticks()))\n",
    "\n",
    "    if c == columns-1:\n",
    "        c = 0\n",
    "        r+=1\n",
    "        \n",
    "    else:c+=1\n",
    "#     if i == len(variables)-1:\n",
    "fig1.legend([bkg, sig],     # The line objects\n",
    "           labels=['Low BDT '+lab[sig_flag], 'High BDT '+lab[sig_flag]],   # The labels for each line\n",
    "           loc=\"upper right\",   # Position of legend\n",
    "           borderaxespad=0.1,    # Small spacing around legend box\n",
    "           bbox_to_anchor=(0.6, 0.55, 0.5, 0.5)\n",
    "           )\n",
    "#     h['OOT_data'] = create_TH1D(x[:,i][y==0], axis_title = [variables[i][2],'Events'], binning=[variables[i][3], variables[i][4], variables[i][5]])\n",
    "#     h['MC_signal'] = create_TH1D(x[:,i][y==1], axis_title = [variables[i][2],'Events'], binning=[variables[i][3], variables[i][4], variables[i][5]])\n",
    "# axs.tight_layout()\n",
    "\n",
    "\n",
    "fig1.savefig(\"../../plots/MuonSystem_Analysis/\"+bdt_name+'/high_low_bdt_'+lab[sig_flag]+'.png', dpi=300,bbox_inches='tight')\n",
    "\n",
    "\n"
   ]
  },
  {
   "cell_type": "markdown",
   "metadata": {},
   "source": [
    "# plot feature importances"
   ]
  },
  {
   "cell_type": "code",
   "execution_count": 64,
   "metadata": {},
   "outputs": [
    {
     "data": {
      "image/png": "[encoded data removed]",
      "text/plain": [
       "<Figure size 720x432 with 1 Axes>"
      ]
     },
     "metadata": {
      "needs_background": "light"
     },
     "output_type": "display_data"
    }
   ],
   "source": [
    "#plot feature importances\n",
    "\n",
    "model.get_booster().feature_names = [row[1] for row in variables]\n",
    "\n",
    "ax = xgb.plot_importance(model, max_num_features=len(variables), xlabel=\"F score (weight)\")\n",
    "fig = ax.figure\n",
    "fig.set_size_inches(10, 6)\n",
    "# plt.subplots_adjust(top=0.9, bottom=0.15, left=0.15, right=0.95)\n",
    "# plt.xlabel('BDT response',horizontalalignment='right', x=1.0, fontsize=15)\n",
    "# plt.ylabel('Events',horizontalalignment='right', y=1.0, fontsize=14)\n",
    "ax.title.set_size(17)\n",
    "\n",
    "ax.yaxis.label.set_size(17)\n",
    "ax.xaxis.label.set_size(17)\n",
    "plt.tick_params(axis='both', which='major', labelsize=15)\n",
    "\n",
    "\n",
    "# plt.draw()\n",
    "# os.makedirs(\"../../plots/MuonSystem_Analysis/\"+bdt_name)\n",
    "# plt.savefig(\"../../plots/MuonSystem_Analysis/\"+bdt_name+'/feature_importance.png', dpi=300)\n",
    "# \n",
    "ax.figure.tight_layout()\n",
    "ax.figure.savefig(\"../../plots/MuonSystem_Analysis/\"+bdt_name+'/feature_importance.png', dpi=300)"
   ]
  },
  {
   "cell_type": "markdown",
   "metadata": {},
   "source": [
    "# compare two ROC curves"
   ]
  },
  {
   "cell_type": "code",
   "execution_count": 37,
   "metadata": {},
   "outputs": [
    {
     "name": "stdout",
     "output_type": "stream",
     "text": [
      "AUC 0.8913845659719589 0.8924390984281254\n",
      "background 614\n",
      "signal 271645\n"
     ]
    },
    {
     "data": {
      "image/png": "[encoded data removed]",
      "text/plain": [
       "<Figure size 432x288 with 1 Axes>"
      ]
     },
     "metadata": {
      "needs_background": "light"
     },
     "output_type": "display_data"
    }
   ],
   "source": [
    "\n",
    "import pickle\n",
    "model = pickle.load(open( 'bdt_flatten_metfilter_me1112nohits_eta2p0_testsize0p2_noSpread_v1.pickle', \"rb\" ))\n",
    "model2 = pickle.load(open( 'bdt_flatten_metfilter_me1112nohits_eta2p0_testsize0p2_noSpread_v2.pickle', \"rb\" ))\n",
    "\n",
    "\n",
    "# y_pred = model.predict_proba(x_test)[:, 1]\n",
    "# x_test2 = np.hstack((x_test[:, :3], x_test[:, 4:]))\n",
    "# y_pred2 = model2.predict_proba(x_test2)[:, 1]\n",
    "\n",
    "y_pred = model.predict_proba(x_test)[:, 1]\n",
    "y_pred2 = model2.predict_proba(np.hstack((x_test[:, 0:1], x_test[:, 2:])))[:, 1] #get rid of phi\n",
    "print('AUC',roc_auc_score(y_test, y_pred), roc_auc_score(y_test, y_pred2))\n",
    "print('background', np.count_nonzero(y_test==0))\n",
    "print('signal', np.count_nonzero(y_test==1))\n",
    "\n",
    "\n",
    "\n",
    "fpr, tpr, thr = roc_curve(y_test, y_pred)\n",
    "fpr2, tpr2, thr2 = roc_curve(y_test, y_pred2)\n",
    "\n",
    "#plot roc curve\n",
    "f = plt.figure()\n",
    "ax = f.add_subplot(111)\n",
    "plt.subplots_adjust(top=0.9, bottom=0.15, left=0.15, right=0.95)\n",
    "lw = 2\n",
    "plt.plot(fpr, tpr, color='darkorange',\n",
    "         lw=lw, label='with phi')\n",
    "plt.plot(fpr2, tpr2, color='blue',\n",
    "         lw=lw, label='without phi')\n",
    "plt.plot([0, 1], [0, 1], color='navy', lw=lw, linestyle='--')\n",
    "plt.xlim([10E-4, 1.0])\n",
    "plt.ylim([0.0, 1.05])\n",
    "plt.ylabel('Signal Efficiency',horizontalalignment='right', y=1.0, fontsize=15)\n",
    "plt.xlabel('Background Efficiency',horizontalalignment='right', x=1.0, fontsize=15)\n",
    "plt.xticks(fontsize=13)\n",
    "plt.yticks(fontsize=13)\n",
    "plt.xscale('log')\n",
    "plt.axhline(y=0.9, color=\"black\", linestyle='--')\n",
    "plt.axhline(y=0.8, color=\"black\")\n",
    "# plt.text(0.05,0.1,'WP99: bkg eff = %.4f'%WP99_effBkg, fontsize=12)\n",
    "# plt.text(0.05,0.2,'WP90: bkg eff = %.4f'%WP90_effBkg, fontsize=12)\n",
    "#plt.text(0.5,0.3,'WP90: S/sqrt(B) = %.2f'%WP90_significance, fontsize=12)\n",
    "# plt.text(0.05,0.3,'AUC = %.4f'%AUC, fontsize=12)\n",
    "# plt.title('Receiver operating characteristic example')\n",
    "plt.legend(loc=\"center right\")\n",
    "plt.show()"
   ]
  },
  {
   "cell_type": "code",
   "execution_count": null,
   "metadata": {},
   "outputs": [],
   "source": []
  },
  {
   "cell_type": "markdown",
   "metadata": {},
   "source": [
    "# correlation with csc rechit size"
   ]
  },
  {
   "cell_type": "code",
   "execution_count": null,
   "metadata": {},
   "outputs": [],
   "source": [
    "f_heat, ax = plt.subplots(figsize=(8, 8))\n",
    "# ax = sns.kdeplot(np.array(ncsc_signal)[:,0], np.array(disc_signal_old), cmap=\"Reds\", shade=True, shade_lowest=False)\n",
    "print(cscRechitClusterSize[indices_test].shape)\n",
    "print(y_pred.shape)\n",
    "ax = sns.kdeplot(np.array(y_pred), np.array(cscRechitClusterSize[indices_test]),\n",
    "                 cmap=\"Blues\", shade=True, shade_lowest=False)\n",
    "# ax = sns.kdeplot(np.array(ncsc_bkg)[:,0], np.array(disc_bkg_normal),\n",
    "#                  cmap=\"Reds\", shade=False, shade_lowest=False)\n",
    "# ax = plt.scatter(np.array(ncsc_signal)[:,0], np.array(disc_signal_old), alpha=0.5)\n",
    "# ax = sns.kdeplot(np.array(ncsc_signal)[:,0], disc_signal_in,\n",
    "#                  cmap=\"Greens\", shade=True, shade_lowest=False)\n",
    "plt.ylim(-5, 200)\n",
    "plt.xlabel('BDT Discriminator')\n",
    "plt.ylabel('$N_{CSC}$')\n",
    "plt.title('Veto Training: Correlation Plot')\n",
    "\n",
    "# Add labels to the plot0.0011161413\n",
    "red = sns.color_palette(\"Reds\")[-2]\n",
    "blue = sns.color_palette(\"Blues\")[-2]\n",
    "# green = sns.color_palette(\"Greens\")[-2]\n",
    "# ax.text(2.5, 8.2, \"No Vetoes\", size=16, color=blue)\n",
    "# ax.text(3.8, 4.5, \"Trained on Vetoes\", size=16, color=red)\n",
    "# ax.text(2.0, 7, \"Trained on Vetoes: In-time\", size=16, color=green)"
   ]
  },
  {
   "cell_type": "markdown",
   "metadata": {},
   "source": [
    "# signal vs. background (cut based study)"
   ]
  },
  {
   "cell_type": "code",
   "execution_count": 109,
   "metadata": {},
   "outputs": [
    {
     "name": "stdout",
     "output_type": "stream",
     "text": [
      "['cscRechitClusterEta', 'cscRechitClusterEta', 'cluster $\\\\eta$', 25, 0.5, 2.5]\n",
      "0.126163007071083 0.0274460021218814\n",
      "[0.8 0.9 1.  1.1 1.2 1.3 1.4 1.5 1.6 1.7 1.8 1.9 2.  2.1]\n",
      "[0.         0.         0.         0.         0.3095788  0.4383699\n",
      " 0.5295083  0.6153589  0.71965599 0.77092324 0.82726554 0.93584757\n",
      " 1.         1.        ]\n",
      "1.8999999999999997\n"
     ]
    },
    {
     "name": "stderr",
     "output_type": "stream",
     "text": [
      "Warning in <TCanvas::Constructor>: Deleting canvas with same name: c\n",
      "Warning in <TROOT::Append>: Replacing existing TH1: h (Potential memory leak).\n"
     ]
    },
    {
     "data": {
      "image/png": "[encoded data removed]",
      "text/plain": [
       "<IPython.core.display.Image object>"
      ]
     },
     "metadata": {},
     "output_type": "display_data"
    }
   ],
   "source": [
    "# Plotting ncsc\n",
    "start_t = time.time()\n",
    "c = rt.TCanvas('c','c', 800, 800)\n",
    "h = {}\n",
    "leg = rt.TLegend(0.6,0.75,0.92,0.90)\n",
    "leg = rt.TLegend(0.2,0.80,0.5,0.90)\n",
    "leg.SetTextSize(0.022)\n",
    "# leg.SetTextFont(42)\n",
    "leg.SetEntrySeparation(0.01)\n",
    "\n",
    "\n",
    "sig_flag = 0\n",
    "lab = ['Background', 'Signal']\n",
    "\n",
    "for i, var in enumerate(variables):\n",
    "    if not i == 1:continue\n",
    "    print(var)\n",
    "    cond = np.logical_and(x[:,0] == 1, x[:,2] == 3)\n",
    "    h['bkg'] = create_TH1D(x[:,i][np.logical_and(cond, y==0)], axis_title = [var[1], 'Events'], binning = [var[3], var[4], var[5]])\n",
    "    h['sig'] = create_TH1D(x[:,i][np.logical_and(cond, y==1)], axis_title = [var[1], 'Events'], binning = [var[3], var[4], var[5]])\n",
    "    sig_list = x[:,i][np.logical_and(cond, y==1)]\n",
    "    h['bkg'].SetLineColor(std_color_list[0])\n",
    "    h['sig'].SetLineColor(std_color_list[1])\n",
    "    leg.AddEntry(h['bkg'], 'Background')\n",
    "    leg.AddEntry(h['sig'], 'Signal')\n",
    "\n",
    "#     h['sig'].SetMaximum(5000)\n",
    "    #     h[k].SetMinimum(1)\n",
    "    h['bkg'].DrawNormalized()\n",
    "    h['sig'].DrawNormalized('same')\n",
    "    print(h['bkg'].Integral()/np.count_nonzero(y==0), h['sig'].Integral()/np.count_nonzero(y==1))\n",
    "    eff = []\n",
    "    threshold = np.arange(0.8, 2.2, 0.1)\n",
    "    print(threshold)\n",
    "    for j in threshold:\n",
    "        cond = sig_list < j\n",
    "        eff.append(np.count_nonzero(cond)/len(cond)*1.0)\n",
    "    eff = np.array(eff)\n",
    "    print(eff)\n",
    "    idx = np.abs(eff - 0.9).argmin()\n",
    "    print(threshold[idx])\n",
    "#     print(k, threshold[idx], eff[idx])\n",
    "#     print(k, np.count_nonzero(dphi[k] >0.6)/len(dphi[k])*1.0)\n",
    "# c.SetRightMargin(0.2)\n",
    "\n",
    "leg.Draw()\n",
    "# if setlog: \n",
    "c.SetLogz()\n",
    "c.Draw()\n",
    "\n",
    "\n",
    "\n"
   ]
  },
  {
   "cell_type": "markdown",
   "metadata": {},
   "source": [
    "# low bdt vs. high bdt"
   ]
  },
  {
   "cell_type": "code",
   "execution_count": 85,
   "metadata": {},
   "outputs": [
    {
     "name": "stdout",
     "output_type": "stream",
     "text": [
      "['cscRechitClusterEta', 'cscRechitClusterEta', 'cluster $\\\\eta$', 25, 0.5, 2.5]\n",
      "12\n"
     ]
    },
    {
     "name": "stderr",
     "output_type": "stream",
     "text": [
      "Warning in <TCanvas::Constructor>: Deleting canvas with same name: c\n",
      "Warning in <TROOT::Append>: Replacing existing TH1: h (Potential memory leak).\n"
     ]
    },
    {
     "data": {
      "image/png": "[encoded data removed]",
      "text/plain": [
       "<IPython.core.display.Image object>"
      ]
     },
     "metadata": {},
     "output_type": "display_data"
    }
   ],
   "source": [
    "# Plotting ncsc\n",
    "start_t = time.time()\n",
    "c = rt.TCanvas('c','c', 800, 800)\n",
    "h = {}\n",
    "leg = rt.TLegend(0.6,0.75,0.92,0.90)\n",
    "leg = rt.TLegend(0.2,0.80,0.5,0.90)\n",
    "leg.SetTextSize(0.022)\n",
    "# leg.SetTextFont(42)\n",
    "leg.SetEntrySeparation(0.01)\n",
    "\n",
    "\n",
    "sig_flag = 0\n",
    "lab = ['Background', 'Signal']\n",
    "x_sig = x[y==sig_flag]\n",
    "y_pred_sig = model.predict_proba(x_sig)[:, 1]\n",
    "\n",
    "# h[k] = create_TH2D(np.column_stack((np.array(y_pred[y_test == 0]), np.array(cscRechitClusterSize[indices_test][y_test == 0]))),\\\n",
    "#                    axis_title = ['BDT score','N_{rechits}','Events'], binning=[50,0,1,50,0,600])\n",
    "\n",
    "# h[k] = h[k].ProfileX()\n",
    "for i, var in enumerate(variables):\n",
    "    if not i == 1:continue\n",
    "    print(var)\n",
    "    cond = np.logical_and(x_sig[:,0] ==1, x_sig[:,2] ==2)\n",
    "    h['bkg'] = create_TH1D(x_sig[:,i][np.logical_and(cond, y_pred_sig< WP90_threshold)], axis_title = [var[1], 'Events'], binning = [var[3], var[4], var[5]])\n",
    "    h['sig'] = create_TH1D(x_sig[:,i][np.logical_and(cond, y_pred_sig>= WP90_threshold)], axis_title = [var[1], 'Events'], binning = [var[3], var[4], var[5]])\n",
    "    print(np.count_nonzero(x_sig[:,i]<1))\n",
    "\n",
    "    h['bkg'].SetLineColor(std_color_list[0])\n",
    "    h['sig'].SetLineColor(std_color_list[1])\n",
    "    leg.AddEntry(h['bkg'], 'low BDT '+lab[sig_flag])\n",
    "    leg.AddEntry(h['sig'], 'high BDT '+lab[sig_flag])\n",
    "\n",
    "#     h['bkg'].SetMaximum(50000)\n",
    "    #     h[k].SetMinimum(1)\n",
    "    h['bkg'].DrawNormalized()\n",
    "    h['sig'].DrawNormalized('same')\n",
    "# c.SetRightMargin(0.2)\n",
    "\n",
    "leg.Draw()\n",
    "# if setlog: \n",
    "c.SetLogz()\n",
    "c.Draw()\n",
    "\n",
    "\n"
   ]
  },
  {
   "cell_type": "markdown",
   "metadata": {},
   "source": [
    "# low bdt vs. high bdt 2d"
   ]
  },
  {
   "cell_type": "code",
   "execution_count": 34,
   "metadata": {},
   "outputs": [
    {
     "name": "stdout",
     "output_type": "stream",
     "text": [
      "3\n"
     ]
    },
    {
     "name": "stderr",
     "output_type": "stream",
     "text": [
      "Warning in <TCanvas::Constructor>: Deleting canvas with same name: c\n"
     ]
    },
    {
     "data": {
      "image/png": "[encoded data removed]",
      "text/plain": [
       "<IPython.core.display.Image object>"
      ]
     },
     "metadata": {},
     "output_type": "display_data"
    }
   ],
   "source": [
    "# Plotting ncsc\n",
    "start_t = time.time()\n",
    "c = rt.TCanvas('c','c', 1000, 800)\n",
    "h = {}\n",
    "leg = rt.TLegend(0.6,0.75,0.92,0.90)\n",
    "# leg = rt.TLegend(0.2,0.70,0.5,0.85)\n",
    "leg.SetTextSize(0.022)\n",
    "# leg.SetTextFont(42)\n",
    "leg.SetEntrySeparation(0.01)\n",
    "\n",
    "\n",
    "sig_flag = 0\n",
    "lab = ['Background', 'Signal']\n",
    "x_sig = x[y==sig_flag]\n",
    "y_pred_sig = model.predict_proba(x_sig)[:, 1]\n",
    "\n",
    "# h[k] = create_TH2D(np.column_stack((np.array(y_pred[y_test == 0]), np.array(cscRechitClusterSize[indices_test][y_test == 0]))),\\\n",
    "#                    axis_title = ['BDT score','N_{rechits}','Events'], binning=[50,0,1,50,0,600])\n",
    "\n",
    "# h[k] = h[k].ProfileX()\n",
    "i, j = 0,2\n",
    "# i, j = 1,0\n",
    "i, j = 1,2\n",
    "cond = y_pred_sig >= WP90_threshold\n",
    "cond = y_pred_sig< WP90_threshold\n",
    "\n",
    "# cond = np.logical_and(cond, x_sig[:,1]<1.6) #eta\n",
    "# cond = np.logical_and(cond ,x_sig[:,1]>1.1)\n",
    "cond = np.logical_and(cond,x_sig[:,0]==4)#nstation\n",
    "# cond = np.logical_and(cond,x_sig[:,1]<1.2)\n",
    "# cond = np.logical_and(cond,x_sig[:,2]<1.2)\n",
    "\n",
    "\n",
    "\n",
    "print(np.count_nonzero(cond))\n",
    "\n",
    "\n",
    "h['sig'] = create_TH2D(np.column_stack((x_sig[:,i][cond], x_sig[:,j][cond])), axis_title = [variables[i][1], variables[j][1], 'Events'], \\\n",
    "                       binning = [64, 0.5, 2.5, int(variables[j][3]/3), variables[j][4], 4.5])\n",
    "\n",
    "\n",
    "\n",
    "h['sig'].Draw('colz')\n",
    "c.SetRightMargin(0.2)\n",
    "\n",
    "c.SetLogz()\n",
    "c.Draw()\n",
    "\n",
    "\n",
    "\n"
   ]
  },
  {
   "cell_type": "code",
   "execution_count": 62,
   "metadata": {},
   "outputs": [],
   "source": [
    "import root_numpy as rtnp"
   ]
  },
  {
   "cell_type": "code",
   "execution_count": 76,
   "metadata": {},
   "outputs": [
    {
     "name": "stderr",
     "output_type": "stream",
     "text": [
      "Warning in <TCanvas::Constructor>: Deleting canvas with same name: c\n"
     ]
    },
    {
     "data": {
      "image/png": "[encoded data removed]",
      "text/plain": [
       "<IPython.core.display.Image object>"
      ]
     },
     "metadata": {},
     "output_type": "display_data"
    }
   ],
   "source": [
    "# Plotting ncsc\n",
    "start_t = time.time()\n",
    "c = rt.TCanvas('c','c', 1000, 800)\n",
    "h = {}\n",
    "leg = rt.TLegend(0.6,0.75,0.92,0.90)\n",
    "# leg = rt.TLegend(0.2,0.70,0.5,0.85)\n",
    "leg.SetTextSize(0.022)\n",
    "# leg.SetTextFont(42)\n",
    "leg.SetEntrySeparation(0.01)\n",
    "\n",
    "sig_flag = 0\n",
    "lab = ['Background', 'Signal']\n",
    "x_sig = x[y==sig_flag]\n",
    "y_pred_sig = model.predict_proba(x_sig)[:, 1]\n",
    "\n",
    "i, j, k = 0,1,2\n",
    "# i, j = 1,0\n",
    "# i, j = 1,2\n",
    "cond = y_pred_sig>= WP90_threshold\n",
    "# cond = y_pred_sig< WP90_threshold\n",
    "\n",
    "    \n",
    "\n",
    "h = rt.TH3F('k', 'k1',variables[i][3], variables[i][4], variables[i][5], variables[j][3], variables[j][4], variables[j][5],\\\n",
    "                       variables[k][3], variables[k][4], variables[k][5])\n",
    "rtnp.fill_hist(h, np.column_stack((x_sig[:,i][cond], x_sig[:,j][cond], x_sig[:,k][cond])))\n",
    "\n",
    "#                    axis_title = [variables[i][1], variables[j][1], variables[k][1], 'Events'], \\\n",
    "#                        binning = [variables[i][3], variables[i][4], variables[i][5], variables[j][3], variables[j][4], variables[j][5],\\\n",
    "#                        variables[k][3], variables[k][4], variables[k][5]],)\n",
    "\n",
    "h.SetXTitle('N_{station}')\n",
    "h.SetYTitle('#eta')\n",
    "h.SetZTitle('Avg Station')\n",
    "\n",
    "h.Draw('BOX2Z')\n",
    "c.SetRightMargin(0.2)\n",
    "c.SetLogz()\n",
    "\n",
    "\n",
    "%jsroot off\n",
    "c.Draw()\n",
    "\n",
    "\n",
    "\n",
    "\n"
   ]
  },
  {
   "cell_type": "code",
   "execution_count": null,
   "metadata": {},
   "outputs": [],
   "source": [
    "import scipy\n",
    "# print(np.array(y_pred[y_test == 0]))\n",
    "# print(np.array(cscRechitClusterSize[indices_test][y_test == 0]).flatten())\n",
    "print(scipy.stats.pearsonr(np.array(y_pred[y_test == 0]), np.array(cscRechitClusterSize[indices_test][y_test == 0]).flatten()))\n",
    "\n",
    "# wp90 =  0.9598022\n",
    "wp90 =  0.7802\n",
    "# WP90_effBkg: 0.06531049250535331\n",
    "for n_rechit in np.arange(50,300,10):\n",
    "    cond1 = cscRechitClusterSize[indices_test][y_test == 0]> n_rechit\n",
    "    cond2 = y_pred[y_test == 0] > wp90\n",
    "    cond = np.logical_and(cond1[:,0], cond2)\n",
    "#     print(np.count_nonzero(cond1))\n",
    "#     print(\"n_rechits\", str(n_rechit), np.count_nonzero(cond)/np.count_nonzero(cond1))\n",
    "#     print( str(n_rechit), np.count_nonzero(cond1), np.count_nonzero(cond)/np.count_nonzero(cond1))\n",
    "    print( str(n_rechit), np.count_nonzero(cond)/np.count_nonzero(cond1))\n",
    "\n",
    "    cond1 = cscRechitClusterSize[indices_test][y_test == 0] < n_rechit\n",
    "    cond2 = y_pred[y_test == 0] > wp90\n",
    "    cond = np.logical_and(cond1[:,0], cond2)\n",
    "    print(\"n_rechits\", str(n_rechit), np.count_nonzero(cond)/np.count_nonzero(cond1[:,0]))\n"
   ]
  },
  {
   "cell_type": "markdown",
   "metadata": {},
   "source": [
    "# Correlation with delta phi"
   ]
  },
  {
   "cell_type": "code",
   "execution_count": null,
   "metadata": {},
   "outputs": [],
   "source": [
    "import math\n",
    "def deltaPhi( phi1,  phi2):\n",
    "    dphi = phi1-phi2\n",
    "    while (dphi > math.pi):\n",
    "        dphi -= 2*math.pi\n",
    "    while (dphi <= -math.pi):\n",
    "        dphi += 2*math.pi\n",
    "    return dphi\n",
    "def deltaR(eta1, phi1, eta2, phi2):\n",
    "    dphi = deltaPhi(phi1,phi2)\n",
    "    deta = eta1 - eta2\n",
    "    return (dphi*dphi + deta*deta)**0.5"
   ]
  },
  {
   "cell_type": "code",
   "execution_count": null,
   "metadata": {},
   "outputs": [],
   "source": [
    "%%time\n",
    "\n",
    "gLLP_beta = {}\n",
    "jetPt = {}\n",
    "jetPhi = {}\n",
    "metPhi = {}\n",
    "\n",
    "jetMet_dPhi = {}\n",
    "jetMet_dPhiMin = {}\n",
    "jetMet_dPhiMin4 = {}\n",
    "jetMet_dPhiMin4_50 = {}\n",
    "\n",
    "cscClusterSize = {}\n",
    "cscRechitClusterXSpread = {}\n",
    "cscRechitClusterYSpread = {}\n",
    "cscRechitClusterNStation = {}\n",
    "cscRechitClusterEtaPhiSpread = {}\n",
    "cscRechitClusterPhiSpread = {}\n",
    "cscRechitClusterEtaSpread = {}\n",
    "cscRechitClusterX = {}\n",
    "cscRechitClusterY = {}\n",
    "cscRechitClusterZ = {}\n",
    "cscRechitClusterPhi = {}\n",
    "cscClusterJetVetoPt = {}\n",
    "cscRechitClusterEta = {}\n",
    "\n",
    "cscRechitClusterMaxStationRatio = {}\n",
    "cscRechitClusterNStation = {}\n",
    "cscRechitClusterNChamber = {}\n",
    "cscRechitClusterMet_dPhi = {}\n",
    "jetMet_dPhiMin30 = {}\n",
    "dphiMet_cluster = {}\n",
    "bdt_score = {}\n",
    "# make predictions for test data\n",
    "\n",
    "import pickle\n",
    "model = pickle.load(open( 'bdt_flatten_metfilter_me1112nohits_eta2p1_testsize0p2_abs_EtaPhi_v2.pickle', \"rb\" ))\n",
    "y_pred = model.predict_proba([1,2,3,4,4,5,6])[:, 1]\n",
    "\n",
    "k = 'data'\n",
    "\n",
    "T = tree_bkg['data']\n",
    " \n",
    "##### bdt variables ####\n",
    "sel_ev = T.array('nCscRechitClusters') > 0\n",
    "cscRechitClusterPhi[k] = T.array('cscRechitClusterPhi')[sel_ev][:,0].flatten()\n",
    "cscRechitClusterXSpread[k] = T.array('cscRechitClusterXSpread')[sel_ev][:,0].flatten()\n",
    "cscRechitClusterYSpread[k] = T.array('cscRechitClusterYSpread')[sel_ev][:,0].flatten()\n",
    "cscRechitClusterEtaSpread[k] = T.array('cscRechitClusterEtaSpread')[sel_ev][:,0].flatten()\n",
    "cscRechitClusterPhiSpread[k] = T.array('cscRechitClusterPhiSpread')[sel_ev][:,0].flatten()\n",
    "cscRechitClusterNStation[k] = T.array('cscRechitClusterNStation')[sel_ev][:,0].flatten()\n",
    "cscRechitClusterEtaPhiSpread[k] = T.array('cscRechitClusterEtaPhiSpread')[sel_ev][:,0].flatten()\n",
    "cscRechitClusterX[k] = T.array('cscRechitClusterX')[sel_ev][:,0].flatten()\n",
    "cscRechitClusterY[k] = T.array('cscRechitClusterY')[sel_ev][:,0].flatten()\n",
    "cscRechitClusterZ[k] = T.array('cscRechitClusterZ')[sel_ev][:,0].flatten()\n",
    "cscRechitClusterEta[k] = T.array('cscRechitClusterEta')[sel_ev][:,0].flatten()\n",
    "cscRechitClusterPhi[k] = T.array('cscRechitClusterPhi')[sel_ev][:,0].flatten()\n",
    "\n",
    "# if bdt_name == 'bdt_flatten_metfilter_me1112nohits_eta2p1_testsize0p2_abs':\n",
    "\n",
    "#     bdt_var = {'cscRechitClusterXSpread': cscRechitClusterXSpread[k],\n",
    "#      'cscRechitClusterYSpread': cscRechitClusterYSpread[k],\n",
    "#      'cscRechitClusterNStation':cscRechitClusterNStation[k],\n",
    "#      'cscRechitClusterEtaPhiSpread':cscRechitClusterEtaPhiSpread[k],\n",
    "#      'cscRechitClusterX':cscRechitClusterX[k],\n",
    "#      'cscRechitClusterY':cscRechitClusterY[k],\n",
    "#      'cscRechitClusterZ':cscRechitClusterZ[k],\n",
    "#     }\n",
    "# elif bdt_name == 'bdt_flatten_metfilter_me1112nohits_eta2p1_testsize0p2_abs_EtaPhi':\n",
    "   \n",
    "# else:\n",
    "#     print('BDT NAME NOT FOUND')\n",
    "bdt_var = {'cscRechitClusterNStation': cscRechitClusterNStation[k],\n",
    "'cscRechitClusterEtaSpread': cscRechitClusterEtaSpread[k],\n",
    "'cscRechitClusterPhiSpread':cscRechitClusterPhiSpread[k],\n",
    "'cscRechitClusterEtaPhiSpread':cscRechitClusterEtaPhiSpread[k],\n",
    "'cscRechitClusterPhi':cscRechitClusterPhi[k],\n",
    "'cscRechitClusterEta':np.abs(cscRechitClusterEta[k]),\n",
    "'cscRechitClusterZ':np.abs(cscRechitClusterZ[k]),\n",
    "}\n",
    "\n",
    "dataset = pd.DataFrame(bdt_var)\n",
    "bdt_score[k] = model.predict_proba(dataset.values)[:, 1]\n",
    "\n",
    "# dphiMet_cluster[k] = np.abs(T.array('cscRechitClusterMet_dPhi'))[sel_ev][:,0].flatten()[bdt_sel]\n",
    "metPhi[k] = T.array('metPhi')[sel_ev]\n",
    "jetPhi[k] = T.array('jetPhi')[sel_ev]\n",
    "jetPt[k] = T.array('jetPt')[sel_ev]\n",
    "# jetMet_dPhiMin30[k] = []\n",
    "# for ev in range(len(jetPhi[k])):\n",
    "#     dphi_min_temp = 999\n",
    "#     for i in range(len(jetPhi[k][ev])):\n",
    "#         if jetPt[k][ev][i] < 30: continue\n",
    "#         dphi_temp = abs(deltaPhi(metPhi[k][ev],jetPhi[k][ev][i]))\n",
    "#         if dphi_min_temp > dphi_temp: dphi_min_temp = dphi_temp\n",
    "#     jetMet_dPhiMin30[k].append(dphi_min_temp)\n",
    "# jetMet_dPhiMin30[k] = np.array(jetMet_dPhiMin30[k])\n",
    "\n",
    "\n",
    "cscClusterSize[k] =  T.array('cscRechitClusterSize')[sel_ev][:,0].flatten()\n",
    "print(len(cscClusterSize[k]), len(bdt_score[k]))"
   ]
  },
  {
   "cell_type": "code",
   "execution_count": null,
   "metadata": {},
   "outputs": [],
   "source": [
    "# Plotting ncsc\n",
    "start_t = time.time()\n",
    "c = rt.TCanvas('c','c', 1000, 800)\n",
    "h = {}\n",
    "# leg = rt.TLegend(0.50,0.75,0.97,0.93)\n",
    "leg = rt.TLegend(0.58,0.70,0.94,0.85)\n",
    "leg.SetTextSize(0.022)\n",
    "# leg.SetTextFont(42)\n",
    "leg.SetEntrySeparation(0.01)\n",
    "print(bdt_score[k])\n",
    "# print(cscClusterSize[k].flatten())\n",
    "# h[k] = create_TH2D(np.column_stack((bdt_score[k], cscClusterSize[k])), axis_title = ['BDT score','N_{rechits}','Events'], binning=[50,0,1,50,0,600])\n",
    "h[k] = create_TH2D(np.column_stack((bdt_score[k], jetMet_dPhiMin30[k])), axis_title = ['BDT score','#Delta#phi(jet, met)','Events'], binning=[50,0,1,50,0,3.2])\n",
    "\n",
    "# h[k] = h[k].ProfileX()\n",
    "h[k].GetXaxis().SetLabelSize(0.04)\n",
    "\n",
    "h[k].SetLineColor(std_color_list[0])\n",
    "h[k].Draw('colz')\n",
    "c.SetRightMargin(0.2)\n",
    "\n",
    "\n",
    "# if setlog: \n",
    "c.SetLogz()\n",
    "c.Draw()\n",
    "print(time.time()-start_t)\n"
   ]
  },
  {
   "cell_type": "code",
   "execution_count": null,
   "metadata": {},
   "outputs": [],
   "source": [
    "import scipy\n",
    "# print(np.array(y_pred[y_test == 0]))\n",
    "# print(np.array(cscRechitClusterSize[indices_test][y_test == 0]).flatten())\n",
    "k = 'data'\n",
    "print(scipy.stats.pearsonr(bdt_score[k], cscClusterSize[k]))\n",
    "# print(scipy.stats.pearsonr(bdt_score[k], jetMet_dPhiMin30[k]))\n",
    "\n",
    "# wp90 =  0.9598022\n",
    "wp90 =  0.7802247\n",
    "outDir = '/storage/user/christiw/login-1/christiw/LLP/CMSSW_10_2_13/src/HiggsAnalysis/MuonSystemLimit/data/bdt_eff/'\n",
    "fileName = 'bdt_flatten_metfilter_me1112nohits_eta2p1_testsize0p2_abs_EtaPhi_v2'\n",
    "text_file = open(outDir+fileName+\".txt\", \"w\")\n",
    "print(np.count_nonzero(bdt_score[k]>wp90)/len(bdt_score[k]))\n",
    "for n_rechit in np.arange(50,300,10):\n",
    "    cond1 = cscClusterSize[k]> n_rechit\n",
    "    cond2 =  bdt_score[k] > wp90\n",
    "    cond_gt = np.logical_and(cond1, cond2)\n",
    "    cond_lt = np.logical_and(np.logical_not(cond1), cond2)\n",
    "    print(n_rechit, np.count_nonzero(cond_lt)/np.count_nonzero(np.logical_not(cond1)), np.count_nonzero(cond_gt)/np.count_nonzero(cond1))\n",
    "    \n",
    "    text_file.write('{0}, {1}, {2} \\n'.format(n_rechit,  np.count_nonzero(cond_lt)/np.count_nonzero(np.logical_not(cond1)), np.count_nonzero(cond_gt)/np.count_nonzero(cond1)))\n",
    "\n",
    "    \n",
    "\n",
    "# for dphi in [0.0, 0.6, 1, 1.5, 2, 2.5]:\n",
    "#     cond1 = jetMet_dPhiMin30[k] >= dphi\n",
    "#     cond2 = bdt_score[k] > wp90\n",
    "#     cond_gt = np.logical_and(cond1, cond2)\n",
    "#     cond_lt = np.logical_and(np.logical_not(cond1), cond2)\n",
    "# #     print(np.count_nonzero(cond1))\n",
    "# #     print(\"n_rechits\", str(n_rechit), np.count_nonzero(cond)/np.count_nonzero(cond1))\n",
    "# #     print( str(n_rechit), np.count_nonzero(cond1), np.count_nonzero(cond)/np.count_nonzero(cond1))\n",
    "# #     print( str(dphi), np.count_nonzero(cond)/np.count_nonzero(cond1))\n",
    "# #     print(len(cond1), np.count_nonzero(np.logical_not(cond1)), np.count_nonzero(cond1))\n",
    "# #     print(dphi, np.count_nonzero(cond_lt)/np.count_nonzero(np.logical_not(cond1)), np.count_nonzero(cond_gt)/np.count_nonzero(cond1))\n",
    "#     print(dphi, np.count_nonzero(cond_gt)/np.count_nonzero(cond1))\n",
    "\n",
    "# #     cond1 = jetMet_dPhiMin30[k] < dphi\n",
    "# #     cond2 = bdt_score[k] > wp90\n",
    "# #     cond = np.logical_and(cond1[:,0], cond2)\n",
    "# #     print(\"n_rechits\", str(n_rechit), np.count_nonzero(cond)/np.count_nonzero(cond1[:,0]))\n",
    "\n",
    "    \n",
    "text_file.close()\n",
    "\n",
    "    "
   ]
  }
 ],
 "metadata": {
  "kernelspec": {
   "display_name": "Python 2",
   "language": "python",
   "name": "python2"
  },
  "language_info": {
   "codemirror_mode": {
    "name": "ipython",
    "version": 3
   },
   "file_extension": ".py",
   "mimetype": "text/x-python",
   "name": "python",
   "nbconvert_exporter": "python",
   "pygments_lexer": "ipython3",
   "version": "3.6.8"
  }
 },
 "nbformat": 4,
 "nbformat_minor": 4
}
