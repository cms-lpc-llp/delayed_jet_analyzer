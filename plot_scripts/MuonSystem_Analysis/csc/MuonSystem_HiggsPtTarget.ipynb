{
 "cells": [
  {
   "cell_type": "code",
   "execution_count": 1,
   "metadata": {},
   "outputs": [
    {
     "name": "stdout",
     "output_type": "stream",
     "text": [
      "Welcome to JupyROOT 6.18/02\n",
      "3.6.8 (default, Aug  7 2019, 17:28:10) \n",
      "[GCC 4.8.5 20150623 (Red Hat 4.8.5-39)]\n"
     ]
    }
   ],
   "source": [
    "# get higgs pT target histogram\n",
    "import ROOT as rt\n",
    "# import root_numpy as rtnp\n",
    "import csv\n",
    "import re\n",
    "import sys\n",
    "import collections\n",
    "\n",
    "from collections import OrderedDict\n",
    "import uproot\n",
    "import pandas as pd\n",
    "\n",
    "import scipy\n",
    "import awkward\n",
    "import numpy as np\n",
    "import time\n",
    "import numba\n",
    "from numba import jit\n",
    "from matplotlib import pyplot as plt\n",
    "sys.path.append('/storage/af/user/christiw/gpu/christiw/llp/delayed_jet_analyzer/lib/')\n",
    "from histo_utilities import create_TH1D, create_TH2D, std_color_list, create_TGraph, make_ratio_plot\n",
    "import CMS_lumi, tdrstyle\n",
    "tdrstyle.setTDRStyle()\n",
    "CMS_lumi.writeExtraText = 0\n",
    "print(sys.version)"
   ]
  },
  {
   "cell_type": "code",
   "execution_count": 2,
   "metadata": {},
   "outputs": [
    {
     "name": "stdout",
     "output_type": "stream",
     "text": [
      "0 40000\n",
      "100 4040000\n",
      "200 8040000\n",
      "300 12040000\n"
     ]
    }
   ],
   "source": [
    "branches = ['LHEWeight_nnlops-11-1', 'Generator_weight', 'GenPart_pdgId', 'GenPart_pt', 'GenPart_status', 'LHEScaleWeight', 'nJet']\n",
    "\n",
    "files = uproot.iterate('/storage/user/christiw/login-1/christiw/LLP/GluGluHToBB_M-125_13TeV_powheg_MINLO_NNLOPS_pythia8/nano_mc_2018_*.root',\"Events\", branches)\n",
    "# create TH1D\n",
    "weight = []\n",
    "higgsPt = []\n",
    "nJet  = []\n",
    "weight_unc = {}\n",
    "\n",
    "for i in range(9): weight_unc[i] = []\n",
    "for i,tree in enumerate(files):\n",
    "    nJet += list(tree[b'nJet'])\n",
    "    gParticlePt = tree[b'GenPart_pt']\n",
    "    gParticleId = tree[b'GenPart_pdgId']\n",
    "    gParticleStatus = tree[b'GenPart_status']\n",
    "    higgs_sel = np.logical_and(gParticleId == 25, gParticleStatus == 62)\n",
    "    assert(np.count_nonzero(higgs_sel.sum() == 1)== len(higgs_sel)) #make sure one higgs per event\n",
    "    higgsPt += (list(gParticlePt[higgs_sel].flatten()))\n",
    "    weight += (list(tree[b'LHEWeight_nnlops-11-1'].flatten()* tree[b'Generator_weight'].flatten()))\n",
    "    for j in range(9):\n",
    "        weight_unc[j] += list(tree[b'LHEWeight_nnlops-11-1'].flatten()* tree[b'Generator_weight'].flatten() * tree[b'LHEScaleWeight'][:,j].flatten())\n",
    "    if i%100 == 0:print(i, len(weight))"
   ]
  },
  {
   "cell_type": "code",
   "execution_count": 3,
   "metadata": {},
   "outputs": [],
   "source": [
    "# load source file\n",
    "source_file = rt.TFile.Open('/storage/af/user/christiw/login-1/christiw/LLP/CMSSW_9_4_4/src/llp_analyzer/data/HiggsPtWeights/ggH_HiggsPtSource.root', 'READ')\n",
    "source = source_file.Get(\"higgsPt\")\n",
    "source.Scale(1./source.Integral())\n",
    "\n",
    "target_file = rt.TFile.Open('/storage/af/user/christiw/login-1/christiw/LLP/CMSSW_9_4_4/src/llp_analyzer/data/HiggsPtWeights/ggH_HiggsPtTarget_NNLOPS.root', 'READ')\n",
    "# target_file = rt.TFile.Open('/storage/user/christiw/login-1/christiw/LLP/CMSSW_9_4_4/src/llp_analyzer/data/HiggsPtWeights/ggH_HiggsPtTarget_NNLOPS_Sys5.root', 'READ')\n",
    "\n",
    "\n",
    "target = target_file.Get(\"higgsPt\")\n",
    "target.Scale(1./target.Integral())\n",
    "# weight = target.Clone()\n",
    "# weight.Divide(source)\n",
    "\n",
    "\n"
   ]
  },
  {
   "cell_type": "code",
   "execution_count": 4,
   "metadata": {},
   "outputs": [
    {
     "name": "stdout",
     "output_type": "stream",
     "text": [
      "0.15660327672958374\n",
      "0.15391558405800268\n",
      "5.0 0.9828375706581027\n",
      "15.0 0.8296247208029212\n",
      "25.0 0.9201116573041194\n",
      "35.0 1.0124781917157422\n",
      "45.0 1.1018942137318206\n",
      "55.0 1.1775672710441918\n",
      "65.0 1.2307445988922074\n",
      "75.0 1.2855484100314545\n",
      "85.0 1.3020131074203707\n",
      "95.0 1.3173490706067181\n",
      "105.0 1.314200511265848\n",
      "115.0 1.3149820522732312\n",
      "125.0 1.2838187178039842\n",
      "135.0 1.272809934518673\n",
      "145.0 1.253332983623394\n",
      "155.0 1.229418219962922\n",
      "165.0 1.2020713379874686\n",
      "175.0 1.175248141519182\n",
      "185.0 1.1581264385098986\n",
      "195.0 1.1230103654433488\n",
      "205.0 1.10263368296045\n",
      "215.0 1.0890459660586123\n",
      "225.0 1.062000885082362\n",
      "235.0 1.0728921679450731\n",
      "245.0 1.0506678335659951\n",
      "255.0 0.9957300797749644\n",
      "265.0 1.0025609281015313\n",
      "275.0 0.9894760587340659\n",
      "285.0 0.9671746659137644\n",
      "295.0 0.960588569248073\n",
      "305.0 0.9467875337495261\n",
      "315.0 0.9070348157042001\n",
      "325.0 0.9087561287995014\n",
      "335.0 0.8596017912481068\n",
      "345.0 0.8465981322757509\n",
      "355.0 0.8737448604412018\n",
      "365.0 0.878063604160044\n",
      "375.0 0.841940403634866\n",
      "385.0 0.8809197582001632\n",
      "395.0 0.8548676549874015\n",
      "405.0 0.8743834555406435\n",
      "415.0 0.8310263644128816\n",
      "425.0 0.8177873237900981\n",
      "435.0 0.8324570066081447\n",
      "445.0 0.8148424255631619\n",
      "455.0 0.7730653538570833\n",
      "465.0 0.7756290482976128\n",
      "475.0 0.7402647372038214\n",
      "485.0 0.7494754235252029\n",
      "495.0 0.7588995236702533\n",
      "505.0 0.6802110980920801\n",
      "515.0 0.738809426201264\n",
      "525.0 0.6681381623248204\n",
      "535.0 0.740216822375315\n",
      "545.0 0.7683707225620451\n",
      "555.0 0.677213524539469\n",
      "565.0 0.7306411726977612\n",
      "575.0 0.7564465920302769\n",
      "585.0 0.8253846384912836\n",
      "595.0 0.7065328618364032\n",
      "612.5 0.6723481134942225\n",
      "637.5 0.6143336871971304\n",
      "662.5 0.638311714554141\n",
      "687.5 0.7100395717411977\n",
      "725.0 0.571737998157621\n",
      "775.0 0.6146245712372355\n",
      "900.0 0.5207527786975114\n"
     ]
    },
    {
     "name": "stderr",
     "output_type": "stream",
     "text": [
      "Warning in <TCanvas::Constructor>: Deleting canvas with same name: c\n"
     ]
    },
    {
     "data": {
      "image/png": "[encoded data removed]",
      "text/plain": [
       "<IPython.core.display.Image object>"
      ]
     },
     "metadata": {},
     "output_type": "display_data"
    }
   ],
   "source": [
    "import importlib\n",
    "importlib.reload(sys.modules['histo_utilities'])\n",
    "from histo_utilities import create_TH1D, create_TH2D, std_color_list, create_TGraph, make_ratio_plot\n",
    "\n",
    "\n",
    "c = rt.TCanvas('c','c', 800, 800)\n",
    "# rt.gStyle.SetOptFit(1000000)\n",
    "rt.gStyle.SetOptStat(0)\n",
    "\n",
    "\n",
    "bins = list(range(0, 600,10))\n",
    "bins += list(range(600, 700, 25))\n",
    "bins += list(range(700, 800, 50))\n",
    "bins += [800]\n",
    "bins += [1000, 1600]\n",
    "# target = create_TH1D( higgsPt, axis_title=['higgs pT [GeV]', 'Events'], name='higgsPt', binning=bins, weights = weight)\n",
    "# source = create_TH1D( higgsPt, axis_title=['higgs pT [GeV]', 'Events'], name='higgsPt', binning=bins, weights = weight_unc[3])\n",
    "\n",
    "print(source.GetBinContent(1))\n",
    "print(target.GetBinContent(1))\n",
    "for i in range(target.GetXaxis().GetNbins()):\n",
    "    if source.GetBinContent(i)>0:\n",
    "        print(target.GetBinCenter(i), target.GetBinContent(i)/source.GetBinContent(i))\n",
    "# histPt.SetMaximum(10E3)\n",
    "# histPt.SetMinimum(0.1)\n",
    "target.GetXaxis().SetLabelSize(0.04)\n",
    "target.SetLineWidth(2)\n",
    "source.SetLineWidth(2)\n",
    "target.SetLineColor(1)\n",
    "source.SetLineColor(2)\n",
    "\n",
    "\n",
    "target.DrawNormalized('same')\n",
    "source.DrawNormalized('same')\n",
    "\n",
    "c = make_ratio_plot([source, target], fit = False, logy=True, in_tags = [\"source\",\"target\"], ratio_bounds = [0,3], draw_opt = ['E1','E2'])\n",
    "\n",
    "\n",
    "\n",
    "c.SetLogy()\n",
    "c.SetRightMargin(0)\n",
    "c.Draw()\n",
    "# print(time.time()-start_t)"
   ]
  },
  {
   "cell_type": "code",
   "execution_count": 47,
   "metadata": {},
   "outputs": [
    {
     "name": "stdout",
     "output_type": "stream",
     "text": [
      "1300.0\n"
     ]
    },
    {
     "data": {
      "image/png": "[encoded data removed]",
      "text/plain": [
       "<IPython.core.display.Image object>"
      ]
     },
     "metadata": {},
     "output_type": "display_data"
    }
   ],
   "source": [
    "# plot relative uncertainty\n",
    "c = rt.TCanvas('c','c', 800, 800)\n",
    "\n",
    "weight_hist = target.Clone()\n",
    "weight_hist.Divide(source)\n",
    "relative_unc = []\n",
    "bin_center = []\n",
    "for i in range(weight_hist.GetXaxis().GetNbins()+1):\n",
    "    if weight_hist.GetBinContent(i) == 0: relative_unc.append(0.0)\n",
    "    else: relative_unc.append(weight_hist.GetBinError(i)/weight_hist.GetBinContent(i))\n",
    "    bin_center.append(weight_hist.GetBinCenter(i))\n",
    "unc = create_TGraph(bin_center, relative_unc,  axis_title=['higgs pT [GeV]', 'relative uncertainty'])\n",
    "unc.SetMarkerSize(6)\n",
    "unc.SetMarkerStyle(6)\n",
    "\n",
    "print(bin_center[-1])\n",
    "unc.Draw('ap')\n",
    "c.Draw()"
   ]
  },
  {
   "cell_type": "code",
   "execution_count": 44,
   "metadata": {},
   "outputs": [
    {
     "data": {
      "text/plain": [
       "True"
      ]
     },
     "execution_count": 44,
     "metadata": {},
     "output_type": "execute_result"
    },
    {
     "name": "stderr",
     "output_type": "stream",
     "text": [
      "Warning in <TFile::Append>: Replacing existing TH1: higgsPt (Potential memory leak).\n"
     ]
    }
   ],
   "source": [
    "source_file = rt.TFile.Open('/storage/user/christiw/login-1/christiw/LLP/CMSSW_9_4_4/src/llp_analyzer/data/HiggsPtWeights/ggH_HiggsPtSource_200_1600.root', 'READ')\n",
    "source = source_file.Get(\"higgsPt\")\n",
    "\n",
    "target = create_TH1D( higgsPt, axis_title=['higgs pT [GeV]', 'Events'], name='higgsPt', binning=[200,0,1600], weights = weight_unc[1]/np.sum(weight_unc[1]))\n",
    "\n",
    "weight = target.Clone()\n",
    "weight.Divide(source)\n",
    "\n"
   ]
  },
  {
   "cell_type": "code",
   "execution_count": 8,
   "metadata": {},
   "outputs": [
    {
     "name": "stdout",
     "output_type": "stream",
     "text": [
      "88 720.0 458.8411755520877\n",
      "94 768.0 0.0\n",
      "100 816.0 551.0861673349023\n",
      "106 864.0 0.0\n",
      "112 912.0 0.0\n",
      "118 960.0 0.0\n",
      "124 1008.0 0.0\n",
      "130 1332.0 0.0\n"
     ]
    }
   ],
   "source": [
    "relative_unc = []\n",
    "bin_center = []\n",
    "for i in range(1, weight.GetXaxis().GetNbins()+1):\n",
    "    if i <=75:\n",
    "        if weight.GetBinContent(i) == 0: relative_unc.append(0.0)\n",
    "        else: relative_unc.append(weight.GetBinError(i)/weight.GetBinContent(i))\n",
    "        bin_center.append(weight.GetBinCenter(i))\n",
    "    elif i <=87: #700\n",
    "        if (i-76)%3 == 0:\n",
    "            nominator = target.GetBinContent(i) + target.GetBinContent(i+1) + target.GetBinContent(i+2)\n",
    "            denominator = source.GetBinContent(i) + source.GetBinContent(i+1) + source.GetBinContent(i+2)\n",
    "            if nominator == 0 or denominator == 0: \n",
    "                relative_unc.append(0)\n",
    "            else:\n",
    "                nom_err = (target.GetBinError(i)**2 + target.GetBinError(i+1)**2 + target.GetBinError(i+2)**2)**0.5/nominator # relative error\n",
    "                denom_err = (source.GetBinError(i)**2 + source.GetBinError(i+1)**2 + source.GetBinError(i+2)**2)**0.5/denominator # relative error\n",
    "                relative_unc.append((denom_err**2+nom_err**2)**0.5)\n",
    "            bin_center.append(source.GetBinCenter(i+1)) \n",
    "        else: continue\n",
    "    elif i <=129:#1000\n",
    "        if (i-88)%6 == 0:\n",
    "            nominator = 0\n",
    "            denominator = 0\n",
    "            nom_err = 0\n",
    "            denom_err = 0\n",
    "            for j in range(6):\n",
    "                nominator += target.GetBinContent(i+j)\n",
    "                denominator += source.GetBinContent(i+j)\n",
    "#                 nom_err = target.GetBinError(i+j)**2\n",
    "#                 denom_err = source.GetBinError(i+j)**2\n",
    "            if nominator == 0 or denominator == 0: \n",
    "                relative_unc.append(0.0)\n",
    "            else:\n",
    "#                 nom_err = nom_err**0.5/nominator\n",
    "#                 denom_err = denom_err**0.5/denominator\n",
    "                nom_err = nominator**0.5/nominator\n",
    "                denom_err = denominator**0.5/denominator\n",
    "                relative_unc.append((denom_err**2+nom_err**2)**0.5)\n",
    "            bin_center.append(source.GetBinCenter(i+2)+source.GetBinWidth(1)/2)\n",
    "            print(i, bin_center[-1], relative_unc[-1])\n",
    "        else: continue\n",
    "\n",
    "    elif (i-130)%75 == 0 and i <200:\n",
    "        nominator = 0\n",
    "        denominator = 0\n",
    "        nom_err = 0\n",
    "        denom_err = 0\n",
    "        for j in range(75):\n",
    "            nominator += target.GetBinContent(i+j)\n",
    "            denominator += source.GetBinContent(i+j)\n",
    "            nom_err = target.GetBinError(i+j)**2\n",
    "            denom_err = source.GetBinError(i+j)**2\n",
    "        if nominator == 0 or denominator == 0: \n",
    "            relative_unc.append(0.0)\n",
    "        else:\n",
    "            nom_err = nom_err**0.5/nominator\n",
    "            denom_err = denom_err**0.5/denominator\n",
    "            relative_unc.append((denom_err**2+nom_err**2)**0.5)\n",
    "        bin_center.append(source.GetBinCenter(i+37))\n",
    "        print(i, bin_center[-1], relative_unc[-1])\n",
    "    else: continue\n",
    "\n",
    "        "
   ]
  },
  {
   "cell_type": "code",
   "execution_count": 9,
   "metadata": {},
   "outputs": [
    {
     "name": "stdout",
     "output_type": "stream",
     "text": [
      "1008.0\n",
      "0.0\n"
     ]
    },
    {
     "data": {
      "image/png": "[encoded data removed]",
      "text/plain": [
       "<IPython.core.display.Image object>"
      ]
     },
     "metadata": {},
     "output_type": "display_data"
    }
   ],
   "source": [
    "c = rt.TCanvas('c','c', 800, 800)\n",
    "\n",
    "unc = create_TGraph(bin_center, relative_unc,  axis_title=['higgs pT [GeV]', 'relative uncertainty'])\n",
    "unc.SetMarkerSize(6)\n",
    "unc.SetMarkerStyle(6)\n",
    "\n",
    "\n",
    "unc.Draw('ap')\n",
    "c.Draw()\n",
    "print(bin_center[-2])\n",
    "print(relative_unc[-2])"
   ]
  },
  {
   "cell_type": "markdown",
   "metadata": {},
   "source": [
    "# output target historgram"
   ]
  },
  {
   "cell_type": "code",
   "execution_count": 17,
   "metadata": {},
   "outputs": [
    {
     "name": "stdout",
     "output_type": "stream",
     "text": [
      "[0, 10, 20, 30, 40, 50, 60, 70, 80, 90, 100, 110, 120, 130, 140, 150, 160, 170, 180, 190, 200, 210, 220, 230, 240, 250, 260, 270, 280, 290, 300, 310, 320, 330, 340, 350, 360, 370, 380, 390, 400, 410, 420, 430, 440, 450, 460, 470, 480, 490, 500, 510, 520, 530, 540, 550, 560, 570, 580, 590, 600, 625, 650, 675, 700, 750, 800, 1000, 1600]\n"
     ]
    }
   ],
   "source": [
    "from array import array\n",
    "def Normalize(hist):\n",
    "    norm = 0.0\n",
    "    for b in range(hist.GetXaxis().GetNbins()+2):\n",
    "        norm += hist.GetBinContent(b)\n",
    "    for b in range(hist.GetXaxis().GetNbins()+2):\n",
    "        hist.SetBinContent(b, hist.GetBinContent(b)/norm)\n",
    "        hist.SetBinError(b, hist.GetBinError(b)/norm)\n",
    "\n",
    "outputDir = '/storage/user/christiw/login-1/christiw/LLP/CMSSW_9_4_4/src/llp_analyzer/data/HiggsPtWeights/'\n",
    "bins = [200, 0, 1600]\n",
    "\n",
    "bins = list(range(0, 600,10))\n",
    "bins += list(range(600, 700, 25))\n",
    "bins += list(range(700, 800, 50))\n",
    "bins += [800]\n",
    "bins += [1000, 1600]\n",
    "\n",
    "print(bins)"
   ]
  },
  {
   "cell_type": "code",
   "execution_count": 19,
   "metadata": {},
   "outputs": [],
   "source": [
    "outputFileName = outputDir + 'ggH_HiggsPtTarget_NNLOPS.root'\n",
    "outFile = rt.TFile(outputFileName, 'RECREATE')\n",
    "\n",
    "histPt = create_TH1D( higgsPt, axis_title=['higgsPt', 'Events'], name='higgsPt', binning=bins, weights = weight/np.sum(weight))\n",
    "\n",
    "outFile.WriteTObject(histPt, 'higgsPt', \"WriteDelete\");\n",
    "outFile.Close();"
   ]
  },
  {
   "cell_type": "code",
   "execution_count": 27,
   "metadata": {},
   "outputs": [
    {
     "ename": "NameError",
     "evalue": "name 'outputDir' is not defined",
     "output_type": "error",
     "traceback": [
      "\u001b[0;31m---------------------------------------------------------------------------\u001b[0m",
      "\u001b[0;31mNameError\u001b[0m                                 Traceback (most recent call last)",
      "\u001b[0;32m<ipython-input-27-e70b9af5689c>\u001b[0m in \u001b[0;36m<module>\u001b[0;34m\u001b[0m\n\u001b[1;32m      1\u001b[0m \u001b[0;32mfor\u001b[0m \u001b[0mi\u001b[0m \u001b[0;32min\u001b[0m \u001b[0mrange\u001b[0m\u001b[0;34m(\u001b[0m\u001b[0;36m9\u001b[0m\u001b[0;34m)\u001b[0m\u001b[0;34m:\u001b[0m\u001b[0;34m\u001b[0m\u001b[0;34m\u001b[0m\u001b[0m\n\u001b[0;32m----> 2\u001b[0;31m     \u001b[0moutputFileName\u001b[0m \u001b[0;34m=\u001b[0m \u001b[0moutputDir\u001b[0m \u001b[0;34m+\u001b[0m \u001b[0;34m'ggH_HiggsPtTarget_NNLOPS_Sys'\u001b[0m\u001b[0;34m+\u001b[0m\u001b[0mstr\u001b[0m\u001b[0;34m(\u001b[0m\u001b[0mi\u001b[0m\u001b[0;34m)\u001b[0m\u001b[0;34m+\u001b[0m\u001b[0;34m'.root'\u001b[0m\u001b[0;34m\u001b[0m\u001b[0;34m\u001b[0m\u001b[0m\n\u001b[0m\u001b[1;32m      3\u001b[0m     \u001b[0moutFile\u001b[0m \u001b[0;34m=\u001b[0m \u001b[0mrt\u001b[0m\u001b[0;34m.\u001b[0m\u001b[0mTFile\u001b[0m\u001b[0;34m(\u001b[0m\u001b[0moutputFileName\u001b[0m\u001b[0;34m,\u001b[0m \u001b[0;34m'RECREATE'\u001b[0m\u001b[0;34m)\u001b[0m\u001b[0;34m\u001b[0m\u001b[0;34m\u001b[0m\u001b[0m\n\u001b[1;32m      4\u001b[0m \u001b[0;34m\u001b[0m\u001b[0m\n\u001b[1;32m      5\u001b[0m     \u001b[0mhistPt\u001b[0m \u001b[0;34m=\u001b[0m \u001b[0mcreate_TH1D\u001b[0m\u001b[0;34m(\u001b[0m \u001b[0mhiggsPt\u001b[0m\u001b[0;34m,\u001b[0m \u001b[0maxis_title\u001b[0m\u001b[0;34m=\u001b[0m\u001b[0;34m[\u001b[0m\u001b[0;34m'higgsPt'\u001b[0m\u001b[0;34m,\u001b[0m \u001b[0;34m'Events'\u001b[0m\u001b[0;34m]\u001b[0m\u001b[0;34m,\u001b[0m \u001b[0mname\u001b[0m\u001b[0;34m=\u001b[0m\u001b[0;34m'higgsPt'\u001b[0m\u001b[0;34m,\u001b[0m \u001b[0mbinning\u001b[0m\u001b[0;34m=\u001b[0m\u001b[0mbins\u001b[0m\u001b[0;34m,\u001b[0m \u001b[0mweights\u001b[0m \u001b[0;34m=\u001b[0m \u001b[0mweight_unc\u001b[0m\u001b[0;34m[\u001b[0m\u001b[0mi\u001b[0m\u001b[0;34m]\u001b[0m\u001b[0;34m/\u001b[0m\u001b[0mnp\u001b[0m\u001b[0;34m.\u001b[0m\u001b[0msum\u001b[0m\u001b[0;34m(\u001b[0m\u001b[0mweight\u001b[0m\u001b[0;34m)\u001b[0m\u001b[0;34m)\u001b[0m\u001b[0;34m\u001b[0m\u001b[0;34m\u001b[0m\u001b[0m\n",
      "\u001b[0;31mNameError\u001b[0m: name 'outputDir' is not defined"
     ]
    }
   ],
   "source": [
    "for i in range(9):\n",
    "    outputFileName = outputDir + 'ggH_HiggsPtTarget_NNLOPS_Sys'+str(i)+'.root'\n",
    "    outFile = rt.TFile(outputFileName, 'RECREATE')\n",
    "    histPt = create_TH1D( higgsPt, axis_title=['higgsPt', 'Events'], name='higgsPt', binning=bins, weights = weight_unc[i]/np.sum(weight))\n",
    "    outFile.WriteTObject(histPt, 'higgsPt', \"WriteDelete\");\n",
    "    outFile.Close();\n",
    "    print(i)"
   ]
  },
  {
   "cell_type": "code",
   "execution_count": 35,
   "metadata": {},
   "outputs": [],
   "source": [
    "import ROOT as rt\n",
    "import importlib\n",
    "importlib.reload(sys.modules['histo_utilities'])\n",
    "from histo_utilities import create_TH1D, create_TH2D, std_color_list, create_TGraph, make_ratio_plot, make_ratio_pEff\n",
    "import sys\n",
    "\n",
    "inputDir = '/storage/user/christiw/login-1/christiw/LLP/CMSSW_9_4_4/src/llp_analyzer/data/HiggsPtWeights/'\n",
    "higgsPt = []\n",
    "inputFileName = {}\n",
    "f = {}\n",
    "\n",
    "for i in range(9):\n",
    "    inputFileName[i] = inputDir + 'ggH_HiggsPtTarget_NNLOPS_Sys'+str(i)+'.root'\n",
    "    f[i] = rt.TFile(inputFileName[i],'READ')\n",
    "    temp = f[i].Get(\"higgsPt\")\n",
    "    higgsPt.append(f[i].Get(\"higgsPt\"))\n"
   ]
  },
  {
   "cell_type": "code",
   "execution_count": 36,
   "metadata": {},
   "outputs": [
    {
     "name": "stdout",
     "output_type": "stream",
     "text": [
      "0.0775848665285141\n",
      "0.22843598398556894\n",
      "0.2522355443026724\n",
      "0.06817280500506728\n",
      "0.1539109114235\n",
      "0.17614002559181943\n",
      "0.06183967082933995\n",
      "0.1325224558905097\n",
      "0.15388532646851702\n"
     ]
    },
    {
     "name": "stderr",
     "output_type": "stream",
     "text": [
      "Warning in <TCanvas::Constructor>: Deleting canvas with same name: c_out_ratio\n",
      "Info in <TCanvas::Print>: png file /storage/user/christiw/gpu/christiw/llp/delayed_jet_analyzer/plots/MuonSystem_Analysis/uncertainties/higgsPtReweightSys.png has been created\n",
      "Info in <TCanvas::SaveSource>: C++ Macro file: /storage/user/christiw/gpu/christiw/llp/delayed_jet_analyzer/plots/MuonSystem_Analysis/uncertainties/higgsPtReweightSys.C has been generated\n"
     ]
    },
    {
     "data": {
      "image/png": "[encoded data removed]",
      "text/plain": [
       "<IPython.core.display.Image object>"
      ]
     },
     "metadata": {},
     "output_type": "display_data"
    }
   ],
   "source": [
    "c = rt.TCanvas('c','c', 800, 800)\n",
    "\n",
    "leg = rt.TLegend(0.60,0.5,0.90,0.89)\n",
    "\n",
    "leg.SetTextSize(0.2)\n",
    "leg.SetBorderSize(0)\n",
    "leg.SetEntrySeparation(0.01)\n",
    "\n",
    "for i in range(9):\n",
    "    print(higgsPt[i].GetBinContent(1))\n",
    "    higgsPt[i].SetLineColor(std_color_list[i])\n",
    "    higgsPt[i].Scale(1./higgsPt[i].Integral())\n",
    "    higgsPt[i].GetXaxis().SetTitle('higgs p_{T} [GeV]')\n",
    "\n",
    "\n",
    "#     higgsPt[i].SetMaximum(1)\n",
    "#     higgsPt[i].SetMinimum(0.0000001)\n",
    "#     higgsPt[i].Draw('hist same')\n",
    "\n",
    "higgsPt[0], higgsPt[4] = higgsPt[4], higgsPt[0] \n",
    "tags = ['nominal', '#mu_{R}, #mu_{F}=(0.5,0.5)','#mu_{R}, #mu_{F} =(0.5,1.0)','#mu_{R}, #mu_{F} =(0.5,2.0)','#mu_{R}, #mu_{F} =(1.0,0.5)',\\\n",
    "        '#mu_{R}, #mu_{F} =(1.0,2.0)','#mu_{R}, #mu_{F} =(2.0,0.5)','#mu_{R}, #mu_{F} =(2.0,1.0)','#mu_{R}, #mu_{F} =(2.0,2.0)',]\n",
    "\n",
    "\n",
    "c = make_ratio_plot(higgsPt, fit = False, logy=True, in_tags =tags , ratio_bounds = [0.5,1.5],draw_opt = ['E1']*9) \n",
    "\n",
    "\n",
    "c.SetLogy()\n",
    "c.Draw()\n",
    "c.SaveAs('/storage/user/christiw/gpu/christiw/llp/delayed_jet_analyzer/plots/MuonSystem_Analysis/uncertainties/higgsPtReweightSys.png')\n",
    "c.SaveAs('/storage/user/christiw/gpu/christiw/llp/delayed_jet_analyzer/plots/MuonSystem_Analysis/uncertainties/higgsPtReweightSys.C')"
   ]
  },
  {
   "cell_type": "code",
   "execution_count": 26,
   "metadata": {},
   "outputs": [
    {
     "data": {
      "text/plain": [
       "['0', '1', '2', '3', '4', '5', '6', '7', '8']"
      ]
     },
     "execution_count": 26,
     "metadata": {},
     "output_type": "execute_result"
    }
   ],
   "source": [
    "[str(i) for i in list(range(9))]"
   ]
  },
  {
   "cell_type": "code",
   "execution_count": null,
   "metadata": {},
   "outputs": [],
   "source": []
  }
 ],
 "metadata": {
  "kernelspec": {
   "display_name": "Python 3",
   "language": "python",
   "name": "python3"
  },
  "language_info": {
   "codemirror_mode": {
    "name": "ipython",
    "version": 3
   },
   "file_extension": ".py",
   "mimetype": "text/x-python",
   "name": "python",
   "nbconvert_exporter": "python",
   "pygments_lexer": "ipython3",
   "version": "3.6.8"
  }
 },
 "nbformat": 4,
 "nbformat_minor": 4
}
