{
 "cells": [
  {
   "cell_type": "code",
   "execution_count": 2,
   "metadata": {},
   "outputs": [
    {
     "name": "stdout",
     "output_type": "stream",
     "text": [
      "Welcome to JupyROOT 6.22/02\n",
      "3.6.8 (default, Apr  2 2020, 13:34:55) \n",
      "[GCC 4.8.5 20150623 (Red Hat 4.8.5-39)]\n"
     ]
    }
   ],
   "source": [
    "# compare the data/mc for cluster shape/position, variables used for BDT training\n",
    "# to make sure the bdt is not just learning about the difference between data/mc\n",
    "# compare the affect of different cluster size used in DBSCAN\n",
    "import ROOT as rt\n",
    "# import root_numpy as rtnp\n",
    "import csv\n",
    "import re\n",
    "import sys\n",
    "import collections\n",
    "from collections import OrderedDict\n",
    "import uproot\n",
    "import awkward\n",
    "import numpy as np\n",
    "import time\n",
    "import numba\n",
    "from numba import jit\n",
    "from matplotlib import pyplot as plt\n",
    "sys.path.append('/storage/user/christiw/gpu/christiw/llp/delayed_jet_analyzer/lib/')\n",
    "from histo_utilities import create_TH1D, create_TH2D, std_color_list, make_ratio_plot\n",
    "import os\n",
    "import CMS_lumi, tdrstyle\n",
    "a=tdrstyle.setTDRStyle()\n",
    "CMS_lumi.writeExtraText = 0\n",
    "import root_numpy\n",
    "wH = 1\n",
    "Z_MASS = 91.2\n",
    "\n",
    "# donotdelete = []\n",
    "print(sys.version)"
   ]
  },
  {
   "cell_type": "code",
   "execution_count": 16,
   "metadata": {},
   "outputs": [
    {
     "name": "stdout",
     "output_type": "stream",
     "text": [
      "/storage/user/christiw/gpu/christiw/llp/delayed_jet_analyzer/plots/MuonSystem_Analysis/cluster_eff_year2017_norm50_V1p17v14_tag_probe/\n"
     ]
    }
   ],
   "source": [
    "fpath =OrderedDict()\n",
    "rechit_cut =OrderedDict()\n",
    "path = {}\n",
    "scan_nrechits = 1\n",
    "rechit_size = 130\n",
    "if scan_nrechits:\n",
    "    rechit_cut['v18'] = 30\n",
    "    rechit_cut['v15'] = 40\n",
    "    rechit_cut['v14'] = 50\n",
    "    rechit_cut['v16'] = 60\n",
    "    rechit_cut['v17'] = 70\n",
    "    rechit_cut['v24'] = 130\n",
    "    rechit_cut['v28'] = 250\n",
    "\n",
    "\n",
    "else:\n",
    "    if rechit_size == 50:\n",
    "        rechit_cut['v20'] = 0.1\n",
    "        rechit_cut['v14'] = 0.2\n",
    "        rechit_cut['v22'] = 0.3\n",
    "        rechit_cut['v23'] = 0.4\n",
    "    elif rechit_size == 130:\n",
    "        rechit_cut['v25'] = 0.1\n",
    "        rechit_cut['v24'] = 0.2\n",
    "        rechit_cut['v26'] = 0.3\n",
    "        rechit_cut['v27'] = 0.4\n",
    "    else:\n",
    "        print(\"ERROR\")\n",
    "\n",
    "for k, v in rechit_cut.items():\n",
    "    path[k] = '/storage/user/christiw/gpu/christiw/llp/delayed_jet_analyzer/plots/MuonSystem_Analysis/cluster_eff_year2017_norm50_V1p17'+k+'_tag_probe/'\n",
    "    file_name = 'efficiency_Zmass120_800_muon50_norm50'\n",
    "    fpath[str(v)] = path[k] + file_name + '.root'\n",
    "if not scan_nrechits and rechit_size == 130: output_path = path['v24']\n",
    "else: output_path = path['v14']\n",
    "\n",
    "print(output_path)\n",
    "\n",
    "\n",
    "suffix = \"_Nrechits130\"\n",
    "suffix = \"\"\n",
    "\n"
   ]
  },
  {
   "cell_type": "code",
   "execution_count": 18,
   "metadata": {},
   "outputs": [
    {
     "name": "stdout",
     "output_type": "stream",
     "text": [
      "30 /storage/user/christiw/gpu/christiw/llp/delayed_jet_analyzer/plots/MuonSystem_Analysis/cluster_eff_year2017_norm50_V1p17v18_tag_probe/efficiency_Zmass120_800_muon50_norm50.root\n",
      "40 /storage/user/christiw/gpu/christiw/llp/delayed_jet_analyzer/plots/MuonSystem_Analysis/cluster_eff_year2017_norm50_V1p17v15_tag_probe/efficiency_Zmass120_800_muon50_norm50.root\n",
      "50 /storage/user/christiw/gpu/christiw/llp/delayed_jet_analyzer/plots/MuonSystem_Analysis/cluster_eff_year2017_norm50_V1p17v14_tag_probe/efficiency_Zmass120_800_muon50_norm50.root\n",
      "60 /storage/user/christiw/gpu/christiw/llp/delayed_jet_analyzer/plots/MuonSystem_Analysis/cluster_eff_year2017_norm50_V1p17v16_tag_probe/efficiency_Zmass120_800_muon50_norm50.root\n",
      "70 /storage/user/christiw/gpu/christiw/llp/delayed_jet_analyzer/plots/MuonSystem_Analysis/cluster_eff_year2017_norm50_V1p17v17_tag_probe/efficiency_Zmass120_800_muon50_norm50.root\n",
      "130 /storage/user/christiw/gpu/christiw/llp/delayed_jet_analyzer/plots/MuonSystem_Analysis/cluster_eff_year2017_norm50_V1p17v24_tag_probe/efficiency_Zmass120_800_muon50_norm50.root\n",
      "250 /storage/user/christiw/gpu/christiw/llp/delayed_jet_analyzer/plots/MuonSystem_Analysis/cluster_eff_year2017_norm50_V1p17v28_tag_probe/efficiency_Zmass120_800_muon50_norm50.root\n"
     ]
    },
    {
     "name": "stderr",
     "output_type": "stream",
     "text": [
      "Warning in <TEfficiency::GetEfficiencyErrorLow>: frequentist confidence intervals for weights are only supported by the normal approximation\n",
      "Info in <TEfficiency::GetEfficiencyErrorLow>: setting statistic option to kFNormal\n",
      "Warning in <TEfficiency::GetEfficiencyErrorLow>: frequentist confidence intervals for weights are only supported by the normal approximation\n",
      "Info in <TEfficiency::GetEfficiencyErrorLow>: setting statistic option to kFNormal\n",
      "Warning in <TEfficiency::GetEfficiencyErrorLow>: frequentist confidence intervals for weights are only supported by the normal approximation\n",
      "Info in <TEfficiency::GetEfficiencyErrorLow>: setting statistic option to kFNormal\n",
      "Warning in <TEfficiency::GetEfficiencyErrorLow>: frequentist confidence intervals for weights are only supported by the normal approximation\n",
      "Info in <TEfficiency::GetEfficiencyErrorLow>: setting statistic option to kFNormal\n",
      "Warning in <TEfficiency::GetEfficiencyErrorLow>: frequentist confidence intervals for weights are only supported by the normal approximation\n",
      "Info in <TEfficiency::GetEfficiencyErrorLow>: setting statistic option to kFNormal\n",
      "Warning in <TEfficiency::GetEfficiencyErrorLow>: frequentist confidence intervals for weights are only supported by the normal approximation\n",
      "Info in <TEfficiency::GetEfficiencyErrorLow>: setting statistic option to kFNormal\n"
     ]
    }
   ],
   "source": [
    "data_eff = {}\n",
    "mc_eff = {}\n",
    "sf_eff = {}\n",
    "for k,v in fpath.items():\n",
    "    print (k, v)\n",
    "    f = rt.TFile(v)\n",
    "    data_eff[k] = f.Get(\"data_muonEta\"+suffix)\n",
    "#     mc_eff[k] = f.Get(\"dy_120_800_muonEta\"+suffix)\n",
    "#     print(root_numpy.hist2array(data_eff[k]))\n",
    "\n",
    "\n",
    "#     sf_eff[k] = data_eff[k].GetCopyPassedHisto()\n",
    "#     sf_eff[k].Divide(data_eff[k].GetCopyTotalHisto())\n",
    "    \n",
    "    data_eff_temp = f.Get(\"data_muonEta\"+suffix)\n",
    "    mc_eff_temp = f.Get(\"dy_120_800_muonEta\"+suffix)\n",
    "    data_eff[k] = data_eff_temp.GetCopyPassedHisto()\n",
    "    mc_eff[k] = mc_eff_temp.GetCopyPassedHisto()\n",
    "    for i in range(data_eff[k].GetXaxis().GetNbins()+1):\n",
    "        data_eff[k].SetBinContent(i+1,data_eff_temp.GetEfficiency(i+1))\n",
    "        mc_eff[k].SetBinContent(i+1,mc_eff_temp.GetEfficiency(i+1))\n",
    "        data_eff[k].SetBinError(i+1,max(data_eff_temp.GetEfficiencyErrorLow(i+1), data_eff_temp.GetEfficiencyErrorUp(i+1)))\n",
    "        mc_eff[k].SetBinError(i+1,max(mc_eff_temp.GetEfficiencyErrorLow(i+1), mc_eff_temp.GetEfficiencyErrorUp(i+1)))\n",
    "#     print(data_eff[k].GetBinContent(1), data_eff[k].GetBinError(1))\n",
    "#     print(mc_eff[k].GetBinContent(1), mc_eff[k].GetBinError(1))\n",
    "    sf_eff[k] = data_eff[k]\n",
    "    sf_eff[k].Divide(mc_eff[k])\n",
    "    sf_eff[k].GetYaxis().SetTitle(\"Scale Factor\")\n",
    "#     print(sf_eff[k].GetBinContent(1), sf_eff[k].GetBinError(1))\n",
    "    \n",
    "\n",
    "\n",
    "\n",
    "#     for i in range(data_eff[k].GetXaxis().GetNbins()+1):\n",
    "# #         if data_eff[k].GetBinContent(i+1) == 0:  sf_eff[k].SetBinError(i+1, data_eff[k].GetBinError(i+1)/mc_eff[k].GetBinContent(i+1))\n",
    "# #         print(sf_eff[k].GetBinError(i+1), sf_eff[k].GetBinContent(i+1), data_eff[k].GetBinError(i+1), mc_eff[k].GetBinContent(i+1))\n",
    "# #     denom = mc_eff[k].GetCopyPassedHisto()\n",
    "# #     denom.Divide(mc_eff[k].GetCopyTotalHisto())\n",
    "# #     sf_eff[k].Divide(denom)\n",
    "# #     sf_eff[k].GetYaxis().SetTitle(\"Scale Factor\")\n",
    "# #     for i in range(sf_eff[k].GetNbinsX()):\n",
    "# #         if denom.GetBinContent(i+1) == 0:sf_eff[k].SetBinError(i+1, 0.0)\n",
    "# #         else:sf_eff[k].SetBinError(i+1, denom.GetBinError(i+1)/denom.GetBinContent(i+1)*sf_eff[k].GetBinContent(i+1))\n",
    "# #     print(root_numpy.hist2array(sf_eff[k]))\n"
   ]
  },
  {
   "cell_type": "code",
   "execution_count": 20,
   "metadata": {},
   "outputs": [
    {
     "name": "stdout",
     "output_type": "stream",
     "text": [
      "/storage/user/christiw/gpu/christiw/llp/delayed_jet_analyzer/plots/MuonSystem_Analysis/cluster_eff_year2017_norm50_V1p17v14_tag_probe/efficiency_clusterSizeCompare_sf_eff_efficiency_Zmass120_800_muon50_norm50.png\n"
     ]
    },
    {
     "name": "stderr",
     "output_type": "stream",
     "text": [
      "Info in <TCanvas::Print>: png file /storage/user/christiw/gpu/christiw/llp/delayed_jet_analyzer/plots/MuonSystem_Analysis/cluster_eff_year2017_norm50_V1p17v14_tag_probe/efficiency_clusterSizeCompare_sf_eff_efficiency_Zmass120_800_muon50_norm50_scanNrechits.png has been created\n",
      "Info in <TCanvas::SaveSource>: C++ Macro file: /storage/user/christiw/gpu/christiw/llp/delayed_jet_analyzer/plots/MuonSystem_Analysis/cluster_eff_year2017_norm50_V1p17v14_tag_probe/efficiency_clusterSizeCompare_sf_eff_efficiency_Zmass120_800_muon50_norm50_scanNrechits.C has been generated\n"
     ]
    },
    {
     "data": {
      "image/png": "[encoded data removed]",
      "text/plain": [
       "<IPython.core.display.Image object>"
      ]
     },
     "metadata": {},
     "output_type": "display_data"
    }
   ],
   "source": [
    "# plots\n",
    "import root_numpy\n",
    "import importlib\n",
    "importlib.reload(sys.modules['histo_utilities'])\n",
    "from histo_utilities import create_TH1D, create_TH2D, std_color_list, create_TGraph, make_ratio_plot, make_ratio_pEff\n",
    "\n",
    "c = rt.TCanvas('c','c', 800, 600)\n",
    "leg = rt.TLegend(0.2,0.80,0.4,0.90)\n",
    "leg.SetTextSize(0.03)\n",
    "leg.SetBorderSize(0)\n",
    "leg.SetEntrySeparation(0.01)\n",
    "\n",
    "var = [mc_eff, data_eff, sf_eff]\n",
    "names = ['mc_eff', 'data_eff', 'sf_eff']\n",
    "\n",
    "\n",
    "for j in range(len(var)):\n",
    "    if not j == 2:continue\n",
    "    for i, k in enumerate(var[j].keys()):\n",
    "        var[j][k].SetLineWidth(2)\n",
    "        var[j][k].SetLineColor(std_color_list[i])\n",
    "#         print(k, var[j][k].GetEfficiency(1))\n",
    "    if scan_nrechits:\n",
    "        var[j]['30'].SetLineColor(std_color_list[0])\n",
    "        var[j]['40'].SetLineColor(std_color_list[2])\n",
    "        var[j]['50'].SetLineColor(std_color_list[1])\n",
    "        var[j]['60'].SetLineColor(std_color_list[3])\n",
    "        var[j]['70'].SetLineColor(std_color_list[4])\n",
    "#         c = make_ratio_plot([var[j]['50'], var[j]['30'], var[j]['40'],  var[j]['60'], var[j]['70'], var[j]['130']], fit = False, logy=False, \\\n",
    "#         in_tags = [\"cluster size 50 (nominal)\", \"cluster size 30\", \"cluster size 40\", \"cluster size 60\", \"cluster size 70\", \"cluster size 130\"], ratio_bounds = [0.5,2.0], draw_opt = ['E2','E1','E1','E1','E1', 'E1']) \n",
    "        c = make_ratio_plot([var[j]['50'], var[j]['30'], var[j]['40'],  var[j]['60'], var[j]['70'], var[j]['130'], var[j]['250']], fit = False, logy=False, \\\n",
    "        in_tags = [\"cluster size 50 (nominal)\", \"cluster size 30\", \"cluster size 40\", \"cluster size 60\", \"cluster size 70\",  \"cluster size 130\", \"cluster size 250\"], ratio_bounds = [0.0,2.0], draw_opt = ['E2', 'E1','E1','E1','E1','E1', 'E1']) \n",
    "    else:\n",
    "        c = make_ratio_plot([var[j]['0.2'], var[j]['0.1'], var[j]['0.3'],  var[j]['0.4']], fit = False, logy=False, \\\n",
    "        in_tags = [\"#Delta R = 0.2 (nominal)\", \"#Delta R = 0.1\" , \"#Delta R = 0.3\", \"#Delta R = 0.4\"], ratio_bounds = [0.5,2.0], draw_opt = ['E2','E1','E1','E1']) \n",
    "       \n",
    "    c.Draw()\n",
    "    print(output_path+\"efficiency_clusterSizeCompare_\"+names[j] + '_' + file_name + suffix+'.png')\n",
    "    if scan_nrechits:\n",
    "        c.SaveAs(output_path+\"efficiency_clusterSizeCompare_\"+names[j] + '_' + file_name + suffix+'_scanNrechits.png')\n",
    "        c.SaveAs(output_path+\"efficiency_clusterSizeCompare_\"+names[j] + '_' + file_name + suffix+'_scanNrechits.C')\n",
    "    else:\n",
    "        c.SaveAs(output_path+\"efficiency_clusterSizeCompare_\"+names[j] + '_' + file_name + suffix+'_scanDeltaR.png')\n",
    "        c.SaveAs(output_path+\"efficiency_clusterSizeCompare_\"+names[j] + '_' + file_name + suffix+'_scanDeltaR.C')\n"
   ]
  },
  {
   "cell_type": "code",
   "execution_count": null,
   "metadata": {},
   "outputs": [],
   "source": []
  },
  {
   "cell_type": "code",
   "execution_count": null,
   "metadata": {},
   "outputs": [],
   "source": []
  }
 ],
 "metadata": {
  "kernelspec": {
   "display_name": "Python 3",
   "language": "python",
   "name": "python3"
  },
  "language_info": {
   "codemirror_mode": {
    "name": "ipython",
    "version": 3
   },
   "file_extension": ".py",
   "mimetype": "text/x-python",
   "name": "python",
   "nbconvert_exporter": "python",
   "pygments_lexer": "ipython3",
   "version": "3.6.8"
  }
 },
 "nbformat": 4,
 "nbformat_minor": 4
}
