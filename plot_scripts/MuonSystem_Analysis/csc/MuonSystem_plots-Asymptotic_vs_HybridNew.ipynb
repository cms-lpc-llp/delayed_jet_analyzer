{
 "cells": [
  {
   "cell_type": "code",
   "execution_count": 1,
   "metadata": {},
   "outputs": [
    {
     "name": "stdout",
     "output_type": "stream",
     "text": [
      "Welcome to JupyROOT 6.22/02\n",
      "3.6.8 (default, Apr  2 2020, 13:34:55) \n",
      "[GCC 4.8.5 20150623 (Red Hat 4.8.5-39)]\n"
     ]
    }
   ],
   "source": [
    "import ROOT as rt\n",
    "# import root_numpy as rtnp\n",
    "import csv\n",
    "import re\n",
    "import sys\n",
    "import collections\n",
    "import os\n",
    "from collections import OrderedDict\n",
    "import uproot\n",
    "import pandas as pd\n",
    "\n",
    "import scipy\n",
    "import awkward\n",
    "import numpy as np\n",
    "import time\n",
    "import numba\n",
    "from numba import jit\n",
    "from matplotlib import pyplot as plt\n",
    "sys.path.append('/storage/user/christiw/gpu/christiw/llp/delayed_jet_analyzer/lib/')\n",
    "from histo_utilities import create_TH1D, create_TH2D, std_color_list, create_TGraph, make_ratio_plot\n",
    "\n",
    "import CMS_lumi, tdrstyle\n",
    "tdrstyle.setTDRStyle()\n",
    "# CMS_lumi.writeExtraText = 0\n",
    "\n",
    "wH = 1\n",
    "Z_MASS = 91.2\n",
    "\n",
    "\n",
    "# donotdelete = []\n",
    "print(sys.version)"
   ]
  },
  {
   "cell_type": "markdown",
   "metadata": {},
   "source": [
    "# Load ntuples"
   ]
  },
  {
   "cell_type": "code",
   "execution_count": 22,
   "metadata": {},
   "outputs": [
    {
     "name": "stdout",
     "output_type": "stream",
     "text": [
      "[    30     40     50     60     80    100    200    300    500   1000\n",
      "   2000   3000   5000  10000  20000  30000  50000 100000]\n",
      "[]\n"
     ]
    }
   ],
   "source": [
    "limitTrees =OrderedDict()\n",
    "dataCards = OrderedDict()\n",
    "\n",
    "limitTrees_obs =OrderedDict()\n",
    "dataCards_obs = OrderedDict()\n",
    "limitTrees_hybridNew = OrderedDict()\n",
    "version = '/V1p17/v1/v75/'\n",
    "version = '/V1p17/v2/v100/'\n",
    "version = '/V1p17/v2/v106/'\n",
    "\n",
    "\n",
    "\n",
    "dc_version = 'v9'\n",
    "nrechit = 130\n",
    "dphi = 'dPhiCluster0p75'\n",
    "\n",
    "mode = 'allProd_withggZH'\n",
    "# decay = '4Tau'\n",
    "# decay = 'dddd'\n",
    "decay = 'bbbb'\n",
    "\n",
    "\n",
    "\n",
    "methodA = False\n",
    "# unblind = 'unblindABC'\n",
    "unblind = 'unblind'\n",
    "\n",
    "bdt_name = 'cut_based_v4'\n",
    "limitDir = '/storage/user/christiw/login-1/christiw/LLP/CMSSW_10_2_13/src/HiggsAnalysis/MuonSystemLimit/combine/limitTrees/'+version+'/'+bdt_name+'/'+dc_version+'/methodB/'\n",
    "dataCardDir = '/storage/user/christiw/login-1/christiw/LLP/CMSSW_10_2_13/src/HiggsAnalysis/MuonSystemLimit/combine/datacards/'+version+'/'+bdt_name+'/'+dc_version+'/methodB/'\n",
    "hybridNewDir = '/storage/user/christiw/login-1/christiw/LLP/CMSSW_10_2_13/src/HiggsAnalysis/MuonSystemLimit/combine/hybridNew/'+version+'/'+bdt_name+'/'+dc_version+'/methodB/'+unblind+'/'\n",
    "\n",
    "\n",
    "# if methodA:\n",
    "#     limitDir+='methodA/'\n",
    "#     dataCardDir+='methodA/'\n",
    "#     hybridNewDir+='methodA/'\n",
    "# else:\n",
    "#     limitDir+='methodB/'\n",
    "#     dataCardDir+='methodB/'\n",
    "#     hybridNewDir+='methodB/'\n",
    "lumi = 137000\n",
    "\n",
    "ctaus = np.array([30, 40, 50, 60, 80, 100, 200, 300, 500, 1000, 2000, 3000, 5000, 10000, 20000, 30000, 50000, 100000])\n",
    "\n",
    "\n",
    "\n",
    "if decay == 'bbbb': mass = np.array([ 15, 40, 55])\n",
    "else:mass = np.array([ 7, 15, 40, 55])\n",
    "\n",
    "### limit branch: 2.5, 16.0, 50.0, 84.0, 97.5, obs\n",
    "expected = ['0.250', '0.160','0.500','0.840','0.975']\n",
    "for m in mass:\n",
    "    limitTrees[m] = {}\n",
    "    dataCards[m] = {}\n",
    "    limitTrees_hybridNew[m] = {}\n",
    "    for ct in ctaus:\n",
    "        name = mode+'_HToSSTo'+decay\n",
    "        dataCards[m][ct] = dataCardDir + '/'+unblind+'/'+name+'_mh125_mx'+str(m)+'_ctau'+str(ct)+'mm_nRechit'+ str(nrechit)+ dphi+'.txt'\n",
    "        if unblind=='unblind':limitTrees[m][ct] = limitDir + '/'+unblind+'/obs/higgsCombine.'+name+'_mh125_mx'+str(m)+'_ctau'+str(ct)+'mm_nRechit'+ str(nrechit)+ dphi+'.AsymptoticLimits.mH120.root'\n",
    "        else:limitTrees[m][ct] = limitDir + '/'+unblind+'/higgsCombine.'+name+'_mh125_mx'+str(m)+'_ctau'+str(ct)+'mm_nRechit'+ str(nrechit)+ dphi+'.AsymptoticLimits.mH120.root'\n",
    "        \n",
    "        limitTrees_hybridNew[m][ct] = []\n",
    "        for i in range(6):\n",
    "            if i==5:limitTrees_hybridNew[m][ct].append(hybridNewDir +'/higgsCombine.'+name+'_mh125_mx'+str(m)+'_ctau'+str(ct)+'mm_nRechit'+ str(nrechit)+ dphi+'.HybridNew.mH120.root')\n",
    "            else:limitTrees_hybridNew[m][ct].append(hybridNewDir +'/higgsCombine.'+name+'_mh125_mx'+str(m)+'_ctau'+str(ct)+'mm_nRechit'+ str(nrechit)+ dphi+'.HybridNew.mH120.quant'+expected[i]+'.root')\n",
    "norms = []\n",
    "limits = {}\n",
    "limits_hybridNew = {}\n",
    "for i,m in enumerate(limitTrees.keys()):\n",
    "    limits[m] = np.ones((len(ctaus), 6))*1000000\n",
    "    limits_hybridNew[m] = np.ones((len(ctaus), 6))*1000000\n",
    "\n",
    "    for j, k in enumerate(limitTrees[m].keys()):\n",
    "        if not os.path.isfile(dataCards[m][k]):continue\n",
    "        line = open(dataCards[m][k], \"r\").readline()\n",
    "        signal_norm = float(line.split(\" \")[3])\n",
    "        if signal_norm == 0:continue\n",
    "        for n in range(6):\n",
    "            if n == 0 or  n == 4:continue\n",
    "            T = uproot.open(limitTrees_hybridNew[m][k][n])['limit']\n",
    "            limits_hybridNew[m][j][n] = np.array(T.array('limit'))/signal_norm\n",
    "        if len(uproot.open(limitTrees[m][k]).keys()) == 2:\n",
    "            T = uproot.open(limitTrees[m][k])['limit']\n",
    "            limits[m][j] = np.array(T.array('limit'))/signal_norm\n",
    "    limits[m] = np.array(limits[m])\n",
    "\n",
    "print(ctaus)\n",
    "print(norms)\n",
    "\n"
   ]
  },
  {
   "cell_type": "code",
   "execution_count": 11,
   "metadata": {},
   "outputs": [
    {
     "data": {
      "text/plain": [
       "array([0.01306645, 0.00714226, 0.00494064, 0.00388454, 0.00288757,\n",
       "       0.00243289, 0.00178334, 0.00171194, 0.00186353, 0.00264426,\n",
       "       0.00449151, 0.00651126, 0.01069384, 0.02175175, 0.04485891,\n",
       "       0.06727011, 0.10867112, 0.18938493])"
      ]
     },
     "execution_count": 11,
     "metadata": {},
     "output_type": "execute_result"
    }
   ],
   "source": [
    "limits[7][:,2]"
   ]
  },
  {
   "cell_type": "code",
   "execution_count": 10,
   "metadata": {},
   "outputs": [
    {
     "name": "stdout",
     "output_type": "stream",
     "text": [
      "[0.99957332 1.02564052 1.00199093 1.03785603 1.00933779 0.97464939\n",
      " 1.06861603 1.04880879 1.05404223 1.07153017 1.06251124 1.09385122\n",
      " 1.12580551 1.09284848 1.14049919 1.12907125 1.10658129 1.1390946 ]\n",
      "[1.03767563e+00 1.09665220e+00 1.05996759e+00 1.03697282e+00\n",
      " 1.07097507e+00 1.01983177e+00 1.04234359e+00 9.91552957e-01\n",
      " 1.03259805e+00 1.04297410e+00 1.06527762e+00 1.06374721e+00\n",
      " 1.06014856e+00 1.04348767e+00 1.02145107e+00 1.03798940e+00\n",
      " 1.03705195e+00 2.20317554e-08]\n",
      "[1.         1.         1.         1.         1.         1.\n",
      " 1.03854229 1.00969407 1.01208811 1.01793843 0.84921669 1.02228123\n",
      " 1.03520294 1.02270059 0.98370733 1.05170659 1.06435335 1.03780018]\n"
     ]
    }
   ],
   "source": [
    "i=5\n",
    "for m in mass:\n",
    "    print(limits_hybridNew[m][:,i]/limits[m][:,i])"
   ]
  },
  {
   "cell_type": "markdown",
   "metadata": {},
   "source": [
    "# Observed Limit"
   ]
  },
  {
   "cell_type": "code",
   "execution_count": 27,
   "metadata": {},
   "outputs": [
    {
     "name": "stdout",
     "output_type": "stream",
     "text": [
      "[3.e-02 4.e-02 5.e-02 6.e-02 8.e-02 1.e-01 2.e-01 3.e-01 5.e-01 1.e+00\n",
      " 2.e+00 3.e+00 5.e+00 1.e+01 2.e+01 3.e+01 5.e+01 1.e+02]\n",
      "15 [  0.1   1.   10.  100. ]\n",
      "[0.97464939 1.07153017 1.09284848 1.1390946 ]\n",
      "40 [  0.1   1.   10.  100. ]\n",
      "[1.01983177 1.0429741  1.04348767 1.02477383]\n",
      "55 [  0.1   1.   10.  100. ]\n",
      "[1.         1.01793843 1.02270059 1.03780018]\n",
      "137 fb^{-1} (13 TeV)\n"
     ]
    },
    {
     "name": "stderr",
     "output_type": "stream",
     "text": [
      "Warning in <TCanvas::Constructor>: Deleting canvas with same name: c\n"
     ]
    },
    {
     "data": {
      "image/png": "[encoded data removed]",
      "text/plain": [
       "<IPython.core.display.Image object>"
      ]
     },
     "metadata": {},
     "output_type": "display_data"
    }
   ],
   "source": [
    "import os\n",
    "opac_1sig = 0.25\n",
    "opac_2sig = 0.1\n",
    "\n",
    "for band in [0,1,2]:# 0 is no band, 1 is with 1sig only, 2 is with both 1sig and 2sig band\n",
    "    if not band == 1:continue\n",
    "    if band ==2: \n",
    "        leg = rt.TLegend(0.3,0.75,0.9,0.92)\n",
    "        leg2 = rt.TLegend(0.1,0.75,0.3,0.90)\n",
    "    elif band ==1: \n",
    "        leg = rt.TLegend(0.50,0.75,0.95,0.92)\n",
    "        leg2 = rt.TLegend(0.18,0.77,0.40,0.90)\n",
    "    else:\n",
    "        leg = rt.TLegend(0.6,0.7,0.9,0.92)\n",
    "        leg2 = rt.TLegend(0.2,0.7,0.45,0.92)\n",
    "    \n",
    "    \n",
    "    leg.SetTextSize(0.025)\n",
    "    leg.SetBorderSize(0)\n",
    "    leg.SetEntrySeparation(0.01)\n",
    "    \n",
    "    leg2.SetTextSize(0.025)\n",
    "    leg2.SetBorderSize(0)\n",
    "    leg2.SetEntrySeparation(0.01)\n",
    "    c = rt.TCanvas('c','c', 800, 800)\n",
    "    c.SetRightMargin(0.04)\n",
    "\n",
    "\n",
    "    rt.gStyle.SetOptFit(1011)\n",
    "    ctaus_m = ctaus/1000\n",
    "    print(ctaus_m)\n",
    "    \n",
    "    h_obs_hn = {}\n",
    "    h_obs_as = {}\n",
    "    h_exp_as = {}\n",
    "    for i, m in enumerate(mass):\n",
    "        cond = limits_hybridNew[m][:,2] < 1\n",
    "    #     if m == 15: cond = np.logical_and(cond, ctaus_m<100)\n",
    "        print_cond = np.logical_or(np.logical_or(np.logical_or(ctaus_m==0.1, ctaus_m==1), ctaus_m == 10),ctaus_m == 100)\n",
    "        print(m, ctaus_m[print_cond])\n",
    "        index = 5\n",
    "        print(limits_hybridNew[m][:,index][print_cond]/limits[m][:,index][print_cond])\n",
    "        h_obs_hn[m] = create_TGraph(ctaus_m[cond], limits_hybridNew[m][:,index][cond],  axis_title=['c#tau [m]', '95% CL Limit on BR'])\n",
    "        h_obs_as[m] = create_TGraph(ctaus_m[cond], limits[m][:,index][cond],  axis_title=['c#tau [m]', '95% CL Limit on BR'])\n",
    "#         h_exp_as[m] = create_TGraph(ctaus_m[cond], limits[m][:,5][cond],  axis_title=['c#tau [m]', '95% CL Limit on BR'])\n",
    "\n",
    "\n",
    "        leg.AddEntry(h_obs_as[m], \"Asymptotic Limits m_{x} = \"+str(m)+\" GeV\", \"L\")\n",
    "        leg.AddEntry(h_obs_hn[m], \"Hybrid New m_{x} = \"+str(m)+\" GeV\", \"L\")\n",
    "\n",
    "#         if m == 15:\n",
    "#             leg2.AddEntry(h_obs[m], \"Observed Limit\", \"LP\")\n",
    "#             leg2.AddEntry(h[m], \"Medium Expected Limit\", \"L\")\n",
    "\n",
    "        if len(mass) == 3: \n",
    "            h_obs_as[m].SetLineColor(std_color_list[i])\n",
    "            h_obs_as[m].SetMarkerColor(std_color_list[i])\n",
    "            h_obs_hn[m].SetLineColor(std_color_list[i])\n",
    "            h_obs_hn[m].SetMarkerColor(std_color_list[i])\n",
    "        else: \n",
    "            if i == 0:\n",
    "                h_obs_as[m].SetLineColor(std_color_list[3])\n",
    "                h_obs_as[m].SetMarkerColor(std_color_list[3])\n",
    "                h_obs_hn[m].SetLineColor(std_color_list[3])\n",
    "                h_obs_hn[m].SetMarkerColor(std_color_list[3])\n",
    "            else: \n",
    "                h_obs_as[m].SetLineColor(std_color_list[i-1])\n",
    "                h_obs_as[m].SetMarkerColor(std_color_list[i-1])\n",
    "                h_obs_hn[m].SetLineColor(std_color_list[i-1])\n",
    "                h_obs_hn[m].SetMarkerColor(std_color_list[i-1])\n",
    "        h_obs_hn[m].SetLineWidth(3)\n",
    "        h_obs_hn[m].SetMarkerStyle(20)\n",
    "        h_obs_hn[m].SetMarkerSize(1)\n",
    "\n",
    "        h_obs_as[m].SetLineStyle(2)\n",
    "        h_obs_as[m].SetLineWidth(3)\n",
    "        h_obs_as[m].GetXaxis().SetLimits(0.01,1000.0)\n",
    "        h_obs_as[m].GetYaxis().SetRangeUser(1e-4,100)\n",
    "        h_obs_as[m].GetXaxis().SetTitleOffset(1)\n",
    "        h_obs_as[m].GetYaxis().SetTitleSize(0.05)\n",
    "        h_obs_as[m].GetYaxis().SetTitleOffset(1.5)\n",
    "        \n",
    "        \n",
    "\n",
    "    for i,m in enumerate(h_obs_as.keys()):\n",
    "        h_obs_as[m].Draw('LA' if i == 0 else 'Lsame')\n",
    "        h_obs_hn[m].Draw('Lsame')\n",
    "      \n",
    "\n",
    " \n",
    "\n",
    "    tdrstyle.setTDRStyle()\n",
    "    CMS_lumi.cmsText     = \"CMS\"\n",
    "    iPos = 0\n",
    "    CMS_lumi.writeExtraText = True\n",
    "    CMS_lumi.extraText   = \"Preliminary\"\n",
    "\n",
    "    if( iPos==0 ): CMS_lumi.relPosX = 0.12\n",
    "    # CMS_lumi.CMS_lumi(c, 4, 0)\n",
    "    CMS_lumi.CMS_lumi(c, 4, iPos)\n",
    "\n",
    "    leg.Draw()\n",
    "    leg2.Draw()\n",
    "    c.SetLogy()\n",
    "    c.SetLogx()\n",
    "    c.SetTicky(1)\n",
    "    c.SetTickx(1)\n",
    "#     output_dir = '/storage/user/christiw/gpu/christiw/llp/delayed_jet_analyzer/plots/MuonSystem_Analysis/limits/'+version+bdt_name+'/'+dc_version+'/'+unblind+'/'\n",
    "#     if not os.path.isdir(output_dir):os.makedirs(output_dir)\n",
    "#     name = output_dir+mode+'_HToSSTo'+decay+'_'+dphi+'_nRechit'+str(nrechit)\n",
    "#     if hybridNew:name += '_hybridNew'\n",
    "#     if band==2: name += '_with2sig'\n",
    "#     elif band>0: name += '_with1sig'\n",
    "\n",
    "\n",
    "\n",
    "        \n",
    "#     c.SaveAs(name+'.png')\n",
    "#     c.SaveAs(name+'.C')\n",
    "#     c.SaveAs(name+'.pdf')\n",
    "\n",
    "    tdrstyle.setTDRStyle()\n",
    "    c.Draw()\n",
    "    # print(time.time()-start_t)"
   ]
  },
  {
   "cell_type": "code",
   "execution_count": null,
   "metadata": {},
   "outputs": [],
   "source": []
  },
  {
   "cell_type": "code",
   "execution_count": null,
   "metadata": {},
   "outputs": [],
   "source": []
  }
 ],
 "metadata": {
  "kernelspec": {
   "display_name": "Python 3",
   "language": "python",
   "name": "python3"
  },
  "language_info": {
   "codemirror_mode": {
    "name": "ipython",
    "version": 3
   },
   "file_extension": ".py",
   "mimetype": "text/x-python",
   "name": "python",
   "nbconvert_exporter": "python",
   "pygments_lexer": "ipython3",
   "version": "3.6.8"
  }
 },
 "nbformat": 4,
 "nbformat_minor": 4
}
