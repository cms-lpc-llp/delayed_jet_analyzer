{
 "cells": [
  {
   "cell_type": "code",
   "execution_count": 67,
   "metadata": {},
   "outputs": [
    {
     "name": "stdout",
     "output_type": "stream",
     "text": [
      "3.6.8 (default, Aug  7 2019, 17:28:10) \n",
      "[GCC 4.8.5 20150623 (Red Hat 4.8.5-39)]\n"
     ]
    }
   ],
   "source": [
    "import ROOT as rt\n",
    "# import root_numpy as rtnp\n",
    "import csv\n",
    "import re\n",
    "import sys\n",
    "import collections\n",
    "\n",
    "from collections import OrderedDict\n",
    "import uproot\n",
    "import awkward\n",
    "import numpy as np\n",
    "import time\n",
    "import numba\n",
    "from numba import jit\n",
    "from matplotlib import pyplot as plt\n",
    "sys.path.append('/storage/af/user/christiw/gpu/christiw/llp/delayed_jet_analyzer/lib/')\n",
    "from histo_utilities import create_TH1D, create_TH2D, std_color_list, create_TGraph\n",
    "\n",
    "import CMS_lumi, tdrstyle\n",
    "tdrstyle.setTDRStyle()\n",
    "CMS_lumi.writeExtraText = 0\n",
    "\n",
    "Z_MASS = 91.2\n",
    "\n",
    "\n",
    "# donotdelete = []\n",
    "print(sys.version)"
   ]
  },
  {
   "cell_type": "markdown",
   "metadata": {},
   "source": [
    "# Load ntuples"
   ]
  },
  {
   "cell_type": "code",
   "execution_count": 108,
   "metadata": {},
   "outputs": [
    {
     "name": "stdout",
     "output_type": "stream",
     "text": [
      "qcd\n",
      "signal\n"
     ]
    }
   ],
   "source": [
    "fpath =OrderedDict()\n",
    "tree = OrderedDict()\n",
    "NEvents = {}\n",
    "\n",
    "\n",
    "\n",
    "path = '/storage/cms/store/group/phys_exotica/delayedjets/displacedJetMuonAnalyzer/csc/V1p17/MC_Fall18/v1/v117/normalized/' #segment\n",
    "path = '/storage/cms/store/group/phys_exotica/delayedjets/displacedJetMuonAnalyzer/csc/V1p17/MC_Fall18/v1/v116/normalized/' #hit\n",
    "\n",
    "fpath['qcd'] = path +'QCD_HT1000to1500_TuneCP5_13TeV-madgraphMLM-pythia8_137000pb_weighted.root'\n",
    "\n",
    "# fpath['qcd'] = path +'QCD_HT700to1000_TuneCP5_13TeV-madgraphMLM-pythia8_137000pb_weighted.root'\n",
    "\n",
    "fpath['signal'] = path + 'ggH_HToSSTobbbb_MH-125_MS-15_ctau-1000_TuneCP5_13TeV-powheg-pythia8_137000pb_weighted.root'\n",
    "\n",
    "\n",
    "\n",
    "for k,v in fpath.items():\n",
    "    print(k)\n",
    "    root_dir = uproot.open(v) \n",
    "\n",
    "    tree[k] = root_dir['MuonSystem']\n",
    "    NEvents[k] = root_dir['NEvents'][1]\n",
    "    a = tree[k][\"weight\"].array()\n"
   ]
  },
  {
   "cell_type": "markdown",
   "metadata": {},
   "source": [
    "# load variables"
   ]
  },
  {
   "cell_type": "code",
   "execution_count": 109,
   "metadata": {
    "slideshow": {
     "slide_type": "notes"
    }
   },
   "outputs": [
    {
     "name": "stdout",
     "output_type": "stream",
     "text": [
      "qcd\n",
      "signal\n"
     ]
    }
   ],
   "source": [
    "start_t = time.time()\n",
    "nCsc = {}\n",
    "weight = {}\n",
    "for k,T in tree.items():\n",
    "    \n",
    "    print(k)\n",
    "    \n",
    "    if '117' in path:\n",
    "        sel_cluster = np.logical_and(T.array('cscSegClusterJetVetoPt')<10, T.array('cscSegClusterMuonVetoPt')<20)\n",
    "        sel_cluster = np.logical_and(sel_cluster, T.array('cscSegClusterTimeTotal')<12.5)\n",
    "        sel_cluster = np.logical_and(sel_cluster, T.array('cscSegClusterTimeTotal')>-5)\n",
    "        sel_ev = sel_cluster.sum()>0\n",
    "    else:\n",
    "        sel_cluster = np.logical_and(T.array('cscRechitCluster3JetVetoPt')<10, T.array('cscRechitCluster3MuonVetoPt')<20)\n",
    "        sel_cluster = np.logical_and(sel_cluster, T.array('cscRechitCluster3TimeTotal')<12.5)\n",
    "        sel_cluster = np.logical_and(sel_cluster, T.array('cscRechitCluster3TimeTotal')>-5)\n",
    "\n",
    "\n",
    "\n",
    "        sel_ev = sel_cluster.sum()>0\n",
    "\n",
    "    ##### clusters #####\n",
    "    if '117' in path: nCsc[k] = T.array('cscSegClusterSize')[sel_cluster][sel_ev][:,0]\n",
    "    else: nCsc[k] = T.array('cscRechitCluster3Size')[sel_cluster][sel_ev][:,0]\n",
    "\n",
    "    weight[k] = T.array('weight') [sel_ev]\n",
    "\n"
   ]
  },
  {
   "cell_type": "markdown",
   "metadata": {},
   "source": [
    "# 1D histogram"
   ]
  },
  {
   "cell_type": "code",
   "execution_count": 115,
   "metadata": {},
   "outputs": [
    {
     "name": "stdout",
     "output_type": "stream",
     "text": [
      "qcd 0.0029845585 0.00014272273\n",
      "signal 0.50984 0.0067891167\n",
      "0.018943071365356445\n"
     ]
    },
    {
     "name": "stderr",
     "output_type": "stream",
     "text": [
      "Warning in <TCanvas::Constructor>: Deleting canvas with same name: c\n"
     ]
    },
    {
     "data": {
      "image/png": "[encoded data removed]",
      "text/plain": [
       "<IPython.core.display.Image object>"
      ]
     },
     "metadata": {},
     "output_type": "display_data"
    }
   ],
   "source": [
    "import importlib\n",
    "importlib.reload(sys.modules['histo_utilities'])\n",
    "from histo_utilities import create_TH1D, create_TH2D, std_color_list, create_TGraph, make_ratio_plot\n",
    "\n",
    "\n",
    "\n",
    "start_t = time.time()\n",
    "c = rt.TCanvas('c','c', 800, 800)\n",
    "h = {}\n",
    "# leg = rt.TLegend(0.50,0.75,0.97,0.93)\n",
    "leg = rt.TLegend(0.60,0.80,0.88,0.90)\n",
    "leg.SetTextSize(0.032)\n",
    "leg.SetBorderSize(0)\n",
    "# leg.SetTextFont(42)\n",
    "leg.SetEntrySeparation(0.01)\n",
    "maximum = 0\n",
    "for i,k in enumerate(weight.keys()):\n",
    "\n",
    "    if '117' in path:h[k] = create_TH1D( nCsc[k], axis_title=['N_{segments}', 'Events'], name=k, binning=[30,0,100],weights = weight[k])\n",
    "    else:h[k] = create_TH1D( nCsc[k], axis_title=['N_{hits}', 'Events'], name=k, binning=[30,0,3000],weights = weight[k])\n",
    "        \n",
    "#     h[k] = create_TH1D( nCsc[k], axis_title=['nCsc', 'Events'], name=k, binning=[30,0,300],weights = weight[k])\n",
    "    if '117' in path:print(k, np.sum(weight[k][nCsc[k]>=10])/np.sum(weight[k]), np.sum(weight[k][nCsc[k]>=10])/NEvents[k])\n",
    "    else:print(k, np.sum(weight[k][nCsc[k]>=250])/np.sum(weight[k]), np.sum(weight[k][nCsc[k]>=250])/NEvents[k])\n",
    "    h[k].SetLineColor(i+1)\n",
    "    leg.AddEntry(h[k], k)\n",
    "#     leg.AddEntry(h[k+'it'], legend[k]+\" in time\")\n",
    "\n",
    "    h[k].SetMinimum(0.1)\n",
    "\n",
    "\n",
    "    h[k].DrawNormalized('same hist')\n",
    "\n",
    "\n",
    "\n",
    "leg.Draw()\n",
    "\n",
    "\n",
    "# if setlog: \n",
    "c.SetLogy()\n",
    "c.Draw()\n",
    "print(time.time()-start_t)"
   ]
  },
  {
   "cell_type": "code",
   "execution_count": null,
   "metadata": {},
   "outputs": [],
   "source": [
    "qcd 0.034883738 0.0016681536\n",
    "signal 0.737159 0.009816135"
   ]
  },
  {
   "cell_type": "code",
   "execution_count": null,
   "metadata": {},
   "outputs": [],
   "source": [
    "segment>10\n",
    "qcd 1.0 0.016092107\n",
    "signal 1.0 0.00682793"
   ]
  }
 ],
 "metadata": {
  "kernelspec": {
   "display_name": "Python 3",
   "language": "python",
   "name": "python3"
  },
  "language_info": {
   "codemirror_mode": {
    "name": "ipython",
    "version": 3
   },
   "file_extension": ".py",
   "mimetype": "text/x-python",
   "name": "python",
   "nbconvert_exporter": "python",
   "pygments_lexer": "ipython3",
   "version": "3.6.8"
  }
 },
 "nbformat": 4,
 "nbformat_minor": 4
}
