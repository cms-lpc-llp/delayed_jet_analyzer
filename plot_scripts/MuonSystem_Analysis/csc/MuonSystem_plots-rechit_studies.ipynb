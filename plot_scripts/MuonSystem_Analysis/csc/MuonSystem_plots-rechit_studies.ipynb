{
 "cells": [
  {
   "cell_type": "code",
   "execution_count": 3,
   "metadata": {},
   "outputs": [
    {
     "name": "stdout",
     "output_type": "stream",
     "text": [
      "3.6.8 (default, Aug  7 2019, 17:28:10) \n",
      "[GCC 4.8.5 20150623 (Red Hat 4.8.5-39)]\n"
     ]
    }
   ],
   "source": [
    "import ROOT as rt\n",
    "# import root_numpy as rtnp\n",
    "import csv\n",
    "import re\n",
    "import sys\n",
    "import collections\n",
    "\n",
    "from collections import OrderedDict\n",
    "import uproot\n",
    "import awkward\n",
    "import numpy as np\n",
    "import time\n",
    "import numba\n",
    "from numba import jit\n",
    "from matplotlib import pyplot as plt\n",
    "sys.path.append('/storage/user/christiw/gpu/christiw/llp/delayed_jet_analyzer/lib/')\n",
    "\n",
    "from histo_utilities import create_TH1D, create_TH2D, std_color_list, create_TGraph\n",
    "\n",
    "import CMS_lumi, tdrstyle\n",
    "tdrstyle.setTDRStyle()\n",
    "CMS_lumi.writeExtraText = 0\n",
    "\n",
    "Z_MASS = 91.2\n",
    "\n",
    "\n",
    "# donotdelete = []\n",
    "print(sys.version)"
   ]
  },
  {
   "cell_type": "markdown",
   "metadata": {},
   "source": [
    "# Load ntuples"
   ]
  },
  {
   "cell_type": "code",
   "execution_count": 4,
   "metadata": {},
   "outputs": [
    {
     "name": "stdout",
     "output_type": "stream",
     "text": [
      "bbbb10m /storage/user/christiw/login-1/christiw/LLP/CMSSW_10_2_16/src/cms_lpc_llp/llp_ntupler/ntuples/displacedJetMuon_ntupler_RunIIFall18_v9.root\n",
      "101986\n",
      "CPU times: user 969 ms, sys: 231 ms, total: 1.2 s\n",
      "Wall time: 7.69 s\n"
     ]
    }
   ],
   "source": [
    "%%time\n",
    "\n",
    "fpath_bkg =OrderedDict()\n",
    "tree_bkg = OrderedDict()\n",
    "tree_sig = OrderedDict()\n",
    "fpath_sig =OrderedDict()\n",
    "year = 2018\n",
    "cat = 2\n",
    "if year == 2016:\n",
    "    path = '/storage/user/christiw/login-1/christiw/LLP/CMSSW_8_0_21/src/cms_lpc_llp/llp_ntupler/ntuples/'\n",
    "    file_name = 'displacedJetMuon_ntupler_RunIISummer16'\n",
    "elif year == 2017:\n",
    "    path = '/storage/user/christiw/login-1/christiw/LLP/CMSSW_9_4_7/src/cms_lpc_llp/llp_ntupler/ntuples/'\n",
    "    file_name = 'displacedJetMuon_ntupler_RunIIFall17'\n",
    "else:\n",
    "    path = '/storage/user/christiw/login-1/christiw/LLP/CMSSW_10_2_16/src/cms_lpc_llp/llp_ntupler/ntuples/'\n",
    "    file_name = 'displacedJetMuon_ntupler_RunIIFall18'\n",
    "fpath_bkg['bbbb10m'] = path + file_name+ '_v9.root'\n",
    "\n",
    "\n",
    "\n",
    "# fpath_bkg['bbbb0.1m'] = sig_path + 'WH_HToSSTobbbb_WToLNu_MH-125_MS-40_ctauS-100_TuneCUETP8M1_13TeV-powheg-pythia8_1pb_weighted.root'\n",
    "\n",
    "if year == 2016:lumi = 35.92*1000 #in pb-1\n",
    "elif year == 2017:lumi = 41.53 * 1000\n",
    "else: lumi = 59.74 * 1000\n",
    "    \n",
    "\n",
    "NEvents = {}\n",
    "\n",
    "\n",
    "for k,v in fpath_bkg.items():\n",
    "    print (k, v)\n",
    "#     tree[k] = rtnp.root2array(v)\n",
    "    root_dir = uproot.open(v) \n",
    "\n",
    "    tree_bkg[k] = root_dir['ntuples']['llp']\n",
    "    NEvents[k] = root_dir['ntuples']['NEvents'][1]\n",
    "#     tree[k] = root_dir['ntuples']\n",
    "    a = tree_bkg[k][\"gLLP_csc\"].array()\n",
    "    print(len(a))"
   ]
  },
  {
   "cell_type": "code",
   "execution_count": 3,
   "metadata": {},
   "outputs": [],
   "source": [
    "# tree = '/mnt/hadoop/store/group/phys_exotica/delayedjets/displacedJetMuonAnalyzer/csc/V1p7/MC_Summer16/v11/v8/signals/wH/normalized/WH_HToSSTobbbb_WToLNu_MH-125_MS-55_ctauS-10000_TuneCUETP8M1_13TeV-powheg-pythia8_1pb_weighted.root'\n",
    "# tree=uproot.open(tree)['MuonSystem']\n",
    "# arrays = tree.array('weight')*137000\n",
    "# print(arrays.sum())\n"
   ]
  },
  {
   "cell_type": "markdown",
   "metadata": {},
   "source": [
    "# legend"
   ]
  },
  {
   "cell_type": "code",
   "execution_count": null,
   "metadata": {},
   "outputs": [],
   "source": [
    "pdgId = 13\n",
    "\n",
    "trigger_names_file = '/nfshome/christiw/llp/delayed_jet_analyzer/data/trigger_names_llp_v1.dat'\n",
    "trigger_names = []\n",
    "with open(trigger_names_file) as f:\n",
    "    reader = csv.reader(f, delimiter=\" \")\n",
    "    for line in reader:\n",
    "        trigger_names.append(line[2])\n",
    "\n",
    "trigger_paths = [177,362,87,135] #PFMET120\n",
    "\n",
    "\n",
    "# 177 HLT_Mu17_TrkIsoVVL_Mu8_TrkIsoVVL_DZ\n",
    "# 362 HLT_Ele23_Ele12_CaloIdL_TrackIdL_IsoVL_DZ\n",
    "# 310 HLT_PFMET120_PFMHT120_IDTight\n",
    "# 87 HLT_Ele32_WPTight_Gsf\n",
    "# 135 HLT_IsoMu24\n",
    "# 310 PFMET\n",
    "# xsec = {}\n",
    "# xsec['bbbb10m'] = (5.328E-01 + 8.4E-01) *0.324\n",
    "# xsec['bbbb1m'] = (5.328E-01 + 8.4E-01) *0.324\n",
    "# xsec['bbbb0.1m'] = (5.328E-01 + 8.4E-01) *0.324\n",
    "\n",
    "\n",
    "# xsec['WJetsToLNu'] = 61526.7\n",
    "\n",
    "\n",
    "legend = {}\n",
    "legend['bbbb10m'] = 'signal c#tau = 10 m'\n",
    "legend['bbbb1m'] = 'signal c#tau = 1 m'\n",
    "legend['bbbb0.1m'] = 'signal c#tau = 0.1 m'\n",
    "\n",
    "legend['DYJetsToLL'] = 'DYJetsToLL'\n",
    "legend['WJetsToLNu'] = 'WJetsToLNu'"
   ]
  },
  {
   "cell_type": "markdown",
   "metadata": {},
   "source": [
    "# Helper Functions"
   ]
  },
  {
   "cell_type": "code",
   "execution_count": null,
   "metadata": {},
   "outputs": [],
   "source": [
    "import math\n",
    "def deltaPhi( phi1,  phi2):\n",
    "    dphi = phi1-phi2\n",
    "    while (dphi > math.pi):\n",
    "        dphi -= 2*math.pi\n",
    "    while (dphi <= -math.pi):\n",
    "        dphi += 2*math.pi\n",
    "    return dphi\n",
    "def deltaR(eta1, phi1, eta2, phi2):\n",
    "    dphi = deltaPhi(phi1,phi2)\n",
    "    deta = eta1 - eta2\n",
    "    return (dphi*dphi + deta*deta)**0.5"
   ]
  },
  {
   "cell_type": "markdown",
   "metadata": {},
   "source": [
    "# Load variables"
   ]
  },
  {
   "cell_type": "code",
   "execution_count": 7,
   "metadata": {
    "slideshow": {
     "slide_type": "notes"
    }
   },
   "outputs": [
    {
     "name": "stdout",
     "output_type": "stream",
     "text": [
      "12241\n",
      "rechits\n",
      "oot-2 0\n",
      "oot-1 0\n",
      "signal 5927\n",
      "oot1 822\n",
      "oot2 0\n",
      "oot3 0\n",
      "segments\n",
      "oot-2 0\n",
      "oot-1 0\n",
      "signal 2955\n",
      "oot1 369\n",
      "oot2 0\n",
      "oot3 0\n"
     ]
    },
    {
     "ename": "KeyError",
     "evalue": "not found: b'nCscSimhits'\n in file: /storage/user/christiw/login-1/christiw/LLP/CMSSW_10_2_16/src/cms_lpc_llp/llp_ntupler/ntuples/displacedJetMuon_ntupler_RunIIFall18_v9.root",
     "output_type": "error",
     "traceback": [
      "\u001b[0;31m---------------------------------------------------------------------------\u001b[0m",
      "\u001b[0;31mKeyError\u001b[0m                                  Traceback (most recent call last)",
      "\u001b[0;32m/usr/local/lib/python3.6/site-packages/uproot/tree.py\u001b[0m in \u001b[0;36mget\u001b[0;34m(self, name, recursive, filtername, filtertitle, aliases)\u001b[0m\n\u001b[1;32m    384\u001b[0m         \u001b[0;32mtry\u001b[0m\u001b[0;34m:\u001b[0m\u001b[0;34m\u001b[0m\u001b[0;34m\u001b[0m\u001b[0m\n\u001b[0;32m--> 385\u001b[0;31m             \u001b[0;32mreturn\u001b[0m \u001b[0mself\u001b[0m\u001b[0;34m.\u001b[0m\u001b[0m_branchlookup\u001b[0m\u001b[0;34m[\u001b[0m\u001b[0mname\u001b[0m\u001b[0;34m]\u001b[0m\u001b[0;34m\u001b[0m\u001b[0;34m\u001b[0m\u001b[0m\n\u001b[0m\u001b[1;32m    386\u001b[0m         \u001b[0;32mexcept\u001b[0m \u001b[0mKeyError\u001b[0m\u001b[0;34m:\u001b[0m\u001b[0;34m\u001b[0m\u001b[0;34m\u001b[0m\u001b[0m\n",
      "\u001b[0;31mKeyError\u001b[0m: b'nCscSimhits'",
      "\nDuring handling of the above exception, another exception occurred:\n",
      "\u001b[0;31mKeyError\u001b[0m                                  Traceback (most recent call last)",
      "\u001b[0;32m<timed exec>\u001b[0m in \u001b[0;36m<module>\u001b[0;34m\u001b[0m\n",
      "\u001b[0;32m/usr/local/lib/python3.6/site-packages/uproot/tree.py\u001b[0m in \u001b[0;36marray\u001b[0;34m(self, branch, interpretation, entrystart, entrystop, flatten, awkwardlib, cache, basketcache, keycache, executor, blocking)\u001b[0m\n\u001b[1;32m    497\u001b[0m \u001b[0;34m\u001b[0m\u001b[0m\n\u001b[1;32m    498\u001b[0m     \u001b[0;32mdef\u001b[0m \u001b[0marray\u001b[0m\u001b[0;34m(\u001b[0m\u001b[0mself\u001b[0m\u001b[0;34m,\u001b[0m \u001b[0mbranch\u001b[0m\u001b[0;34m,\u001b[0m \u001b[0minterpretation\u001b[0m\u001b[0;34m=\u001b[0m\u001b[0;32mNone\u001b[0m\u001b[0;34m,\u001b[0m \u001b[0mentrystart\u001b[0m\u001b[0;34m=\u001b[0m\u001b[0;32mNone\u001b[0m\u001b[0;34m,\u001b[0m \u001b[0mentrystop\u001b[0m\u001b[0;34m=\u001b[0m\u001b[0;32mNone\u001b[0m\u001b[0;34m,\u001b[0m \u001b[0mflatten\u001b[0m\u001b[0;34m=\u001b[0m\u001b[0;32mFalse\u001b[0m\u001b[0;34m,\u001b[0m \u001b[0mawkwardlib\u001b[0m\u001b[0;34m=\u001b[0m\u001b[0;32mNone\u001b[0m\u001b[0;34m,\u001b[0m \u001b[0mcache\u001b[0m\u001b[0;34m=\u001b[0m\u001b[0;32mNone\u001b[0m\u001b[0;34m,\u001b[0m \u001b[0mbasketcache\u001b[0m\u001b[0;34m=\u001b[0m\u001b[0;32mNone\u001b[0m\u001b[0;34m,\u001b[0m \u001b[0mkeycache\u001b[0m\u001b[0;34m=\u001b[0m\u001b[0;32mNone\u001b[0m\u001b[0;34m,\u001b[0m \u001b[0mexecutor\u001b[0m\u001b[0;34m=\u001b[0m\u001b[0;32mNone\u001b[0m\u001b[0;34m,\u001b[0m \u001b[0mblocking\u001b[0m\u001b[0;34m=\u001b[0m\u001b[0;32mTrue\u001b[0m\u001b[0;34m)\u001b[0m\u001b[0;34m:\u001b[0m\u001b[0;34m\u001b[0m\u001b[0;34m\u001b[0m\u001b[0m\n\u001b[0;32m--> 499\u001b[0;31m         \u001b[0;32mreturn\u001b[0m \u001b[0mself\u001b[0m\u001b[0;34m.\u001b[0m\u001b[0mget\u001b[0m\u001b[0;34m(\u001b[0m\u001b[0mbranch\u001b[0m\u001b[0;34m)\u001b[0m\u001b[0;34m.\u001b[0m\u001b[0marray\u001b[0m\u001b[0;34m(\u001b[0m\u001b[0minterpretation\u001b[0m\u001b[0;34m=\u001b[0m\u001b[0minterpretation\u001b[0m\u001b[0;34m,\u001b[0m \u001b[0mentrystart\u001b[0m\u001b[0;34m=\u001b[0m\u001b[0mentrystart\u001b[0m\u001b[0;34m,\u001b[0m \u001b[0mentrystop\u001b[0m\u001b[0;34m=\u001b[0m\u001b[0mentrystop\u001b[0m\u001b[0;34m,\u001b[0m \u001b[0mflatten\u001b[0m\u001b[0;34m=\u001b[0m\u001b[0mflatten\u001b[0m\u001b[0;34m,\u001b[0m \u001b[0mawkwardlib\u001b[0m\u001b[0;34m=\u001b[0m\u001b[0mawkwardlib\u001b[0m\u001b[0;34m,\u001b[0m \u001b[0mcache\u001b[0m\u001b[0;34m=\u001b[0m\u001b[0mcache\u001b[0m\u001b[0;34m,\u001b[0m \u001b[0mbasketcache\u001b[0m\u001b[0;34m=\u001b[0m\u001b[0mbasketcache\u001b[0m\u001b[0;34m,\u001b[0m \u001b[0mkeycache\u001b[0m\u001b[0;34m=\u001b[0m\u001b[0mkeycache\u001b[0m\u001b[0;34m,\u001b[0m \u001b[0mexecutor\u001b[0m\u001b[0;34m=\u001b[0m\u001b[0mexecutor\u001b[0m\u001b[0;34m,\u001b[0m \u001b[0mblocking\u001b[0m\u001b[0;34m=\u001b[0m\u001b[0mblocking\u001b[0m\u001b[0;34m)\u001b[0m\u001b[0;34m\u001b[0m\u001b[0;34m\u001b[0m\u001b[0m\n\u001b[0m\u001b[1;32m    500\u001b[0m \u001b[0;34m\u001b[0m\u001b[0m\n\u001b[1;32m    501\u001b[0m     \u001b[0;32mdef\u001b[0m \u001b[0marrays\u001b[0m\u001b[0;34m(\u001b[0m\u001b[0mself\u001b[0m\u001b[0;34m,\u001b[0m \u001b[0mbranches\u001b[0m\u001b[0;34m=\u001b[0m\u001b[0;32mNone\u001b[0m\u001b[0;34m,\u001b[0m \u001b[0moutputtype\u001b[0m\u001b[0;34m=\u001b[0m\u001b[0mdict\u001b[0m\u001b[0;34m,\u001b[0m \u001b[0mnamedecode\u001b[0m\u001b[0;34m=\u001b[0m\u001b[0;32mNone\u001b[0m\u001b[0;34m,\u001b[0m \u001b[0mentrystart\u001b[0m\u001b[0;34m=\u001b[0m\u001b[0;32mNone\u001b[0m\u001b[0;34m,\u001b[0m \u001b[0mentrystop\u001b[0m\u001b[0;34m=\u001b[0m\u001b[0;32mNone\u001b[0m\u001b[0;34m,\u001b[0m \u001b[0mflatten\u001b[0m\u001b[0;34m=\u001b[0m\u001b[0;32mFalse\u001b[0m\u001b[0;34m,\u001b[0m \u001b[0mflatname\u001b[0m\u001b[0;34m=\u001b[0m\u001b[0;32mNone\u001b[0m\u001b[0;34m,\u001b[0m \u001b[0mawkwardlib\u001b[0m\u001b[0;34m=\u001b[0m\u001b[0;32mNone\u001b[0m\u001b[0;34m,\u001b[0m \u001b[0mcache\u001b[0m\u001b[0;34m=\u001b[0m\u001b[0;32mNone\u001b[0m\u001b[0;34m,\u001b[0m \u001b[0mbasketcache\u001b[0m\u001b[0;34m=\u001b[0m\u001b[0;32mNone\u001b[0m\u001b[0;34m,\u001b[0m \u001b[0mkeycache\u001b[0m\u001b[0;34m=\u001b[0m\u001b[0;32mNone\u001b[0m\u001b[0;34m,\u001b[0m \u001b[0mexecutor\u001b[0m\u001b[0;34m=\u001b[0m\u001b[0;32mNone\u001b[0m\u001b[0;34m,\u001b[0m \u001b[0mblocking\u001b[0m\u001b[0;34m=\u001b[0m\u001b[0;32mTrue\u001b[0m\u001b[0;34m)\u001b[0m\u001b[0;34m:\u001b[0m\u001b[0;34m\u001b[0m\u001b[0;34m\u001b[0m\u001b[0m\n",
      "\u001b[0;32m/usr/local/lib/python3.6/site-packages/uproot/tree.py\u001b[0m in \u001b[0;36mget\u001b[0;34m(self, name, recursive, filtername, filtertitle, aliases)\u001b[0m\n\u001b[1;32m    389\u001b[0m                     \u001b[0mself\u001b[0m\u001b[0;34m.\u001b[0m\u001b[0m_branchlookup\u001b[0m\u001b[0;34m[\u001b[0m\u001b[0mname\u001b[0m\u001b[0;34m]\u001b[0m \u001b[0;34m=\u001b[0m \u001b[0mb\u001b[0m\u001b[0;34m\u001b[0m\u001b[0;34m\u001b[0m\u001b[0m\n\u001b[1;32m    390\u001b[0m                     \u001b[0;32mreturn\u001b[0m \u001b[0mb\u001b[0m\u001b[0;34m\u001b[0m\u001b[0;34m\u001b[0m\u001b[0m\n\u001b[0;32m--> 391\u001b[0;31m             \u001b[0;32mraise\u001b[0m \u001b[0muproot\u001b[0m\u001b[0;34m.\u001b[0m\u001b[0mrootio\u001b[0m\u001b[0;34m.\u001b[0m\u001b[0m_KeyError\u001b[0m\u001b[0;34m(\u001b[0m\u001b[0;34m\"not found: {0}\\n in file: {1}\"\u001b[0m\u001b[0;34m.\u001b[0m\u001b[0mformat\u001b[0m\u001b[0;34m(\u001b[0m\u001b[0mrepr\u001b[0m\u001b[0;34m(\u001b[0m\u001b[0mname\u001b[0m\u001b[0;34m)\u001b[0m\u001b[0;34m,\u001b[0m \u001b[0mself\u001b[0m\u001b[0;34m.\u001b[0m\u001b[0m_context\u001b[0m\u001b[0;34m.\u001b[0m\u001b[0msourcepath\u001b[0m\u001b[0;34m)\u001b[0m\u001b[0;34m)\u001b[0m\u001b[0;34m\u001b[0m\u001b[0;34m\u001b[0m\u001b[0m\n\u001b[0m\u001b[1;32m    392\u001b[0m \u001b[0;34m\u001b[0m\u001b[0m\n\u001b[1;32m    393\u001b[0m     \u001b[0;32mdef\u001b[0m \u001b[0m__contains__\u001b[0m\u001b[0;34m(\u001b[0m\u001b[0mself\u001b[0m\u001b[0;34m,\u001b[0m \u001b[0mname\u001b[0m\u001b[0;34m)\u001b[0m\u001b[0;34m:\u001b[0m\u001b[0;34m\u001b[0m\u001b[0;34m\u001b[0m\u001b[0m\n",
      "\u001b[0;31mKeyError\u001b[0m: not found: b'nCscSimhits'\n in file: /storage/user/christiw/login-1/christiw/LLP/CMSSW_10_2_16/src/cms_lpc_llp/llp_ntupler/ntuples/displacedJetMuon_ntupler_RunIIFall18_v9.root"
     ]
    }
   ],
   "source": [
    "%%time\n",
    "\n",
    "JET_PT_CUT = 10\n",
    "MUON_PT_CUT = 20\n",
    "gLLP_csc = {}\n",
    "\n",
    "cscSegClusterSize = {}\n",
    "cscSegClusterTime = {}\n",
    "\n",
    "cscRechitClusterSize = {}\n",
    "cscRechitClusterTime = {}\n",
    "\n",
    "nCscRechitCluster_JetMuonVetoCluster0p4_Me1112Veto = {}\n",
    "nCscSegCluster_JetMuonVetoCluster0p4_Me1112Veto = {}\n",
    "nCscRechits = {}\n",
    "nCscWireDigis = {}\n",
    "nCscStripDigis = {}\n",
    "selections_segcluster = {}\n",
    "selections_rechitcluster = {}\n",
    "cscStripDigiChamber = {}\n",
    "cscWireDigiChamber = {}\n",
    "nCscWireDigis_maxChamber = {}\n",
    "nCscWireDigis_maxChamber2 = {}\n",
    "nCscWireDigis_maxChamber3 = {}\n",
    "nCscWireDigis_maxChamber4 = {}\n",
    "nCscStripDigis_maxChamber = {}\n",
    "\n",
    "nCscSimhits = {}\n",
    "nDTRechits = {}\n",
    "nCscRechitCluster_JetMuonVetoCluster0p4_Me1112Veto = {}\n",
    "\n",
    "\n",
    "\n",
    "keys = ['sig','bkg']\n",
    "T = tree_bkg['bbbb10m']\n",
    "for k in keys:\n",
    "    ########### SELECTION: CLUSTERS ############\n",
    "\n",
    "    sel_segcluster = T.array('cscSegClusterMaxStationRatio') > 0.1\n",
    "    sel_segcluster = np.logical_and( sel_segcluster, T.array('cscSegClusterJetVetoPt') < JET_PT_CUT)\n",
    "    sel_segcluster = np.logical_and( sel_segcluster, T.array('cscSegClusterMuonVetoPt') < MUON_PT_CUT)\n",
    "#     sel_segcluster = np.logical_and( sel_segcluster, T.array('cscSegClusterMe11Ratio') < 0.001)\n",
    "#     sel_segcluster = np.logical_and( sel_segcluster, T.array('cscSegClusterMe12Ratio') < 0.001)\n",
    "    sel_segcluster = np.logical_and(sel_segcluster, np.abs(T.array('cscSegClusterMaxChamber')) > 12)\n",
    "    sel_segcluster = np.logical_and( sel_segcluster, T.array('cscSegClusterTime') < 22)\n",
    "    sel_segcluster = np.logical_and( sel_segcluster, T.array('cscSegClusterTime') > -12.5)\n",
    "\n",
    "    selections_segcluster['oot-2'] = np.logical_and(sel_segcluster, T.array('cscSegClusterTime') < -28)\n",
    "    selections_segcluster['oot-2'] = np.logical_and(selections_segcluster['oot-2'], T.array('cscSegClusterTime') > -62.5)\n",
    "    \n",
    "    selections_segcluster['oot-1'] = np.logical_and(sel_segcluster, T.array('cscSegClusterTime') < -12.5)\n",
    "    selections_segcluster['oot-1'] = np.logical_and(selections_segcluster['oot-1'], T.array('cscSegClusterTime') > -37.5)\n",
    "    \n",
    "    selections_segcluster['signal'] = np.logical_and( sel_segcluster, T.array('cscSegClusterTime') < 22)\n",
    "    selections_segcluster['signal'] = np.logical_and( selections_segcluster['signal'], T.array('cscSegClusterTime') > -12.5)\n",
    "    \n",
    "    selections_segcluster['oot1'] = np.logical_and( sel_segcluster, T.array('cscSegClusterTime') < 47)\n",
    "    selections_segcluster['oot1'] = np.logical_and( selections_segcluster['oot1'], T.array('cscSegClusterTime') > 12.5)\n",
    "\n",
    "    selections_segcluster['oot2'] = np.logical_and(sel_segcluster, T.array('cscSegClusterTime') < 72)\n",
    "    selections_segcluster['oot2'] = np.logical_and(selections_segcluster['oot2'], T.array('cscSegClusterTime') > 37.5)\n",
    "    \n",
    "    selections_segcluster['oot3'] = np.logical_and(sel_segcluster, T.array('cscSegClusterTime') < 97)\n",
    "    selections_segcluster['oot3'] = np.logical_and(selections_segcluster['oot3'], T.array('cscSegClusterTime') > 62.5)\n",
    "    \n",
    "    sel_rechitcluster = T.array('cscRechitClusterMaxStationRatio') > 0.1\n",
    "    sel_rechitcluster = np.logical_and( sel_rechitcluster, T.array('cscRechitClusterJetVetoPt') < JET_PT_CUT)\n",
    "    sel_rechitcluster = np.logical_and( sel_rechitcluster, T.array('cscRechitClusterMuonVetoPt') < MUON_PT_CUT)\n",
    "#     sel_rechitcluster = np.logical_and( sel_rechitcluster, T.array('cscRechitClusterMe11Ratio') < 0.01)\n",
    "#     sel_rechitcluster = np.logical_and( sel_rechitcluster, T.array('cscRechitClusterMe12Ratio') < 0.01)\n",
    "    sel_rechitcluster = np.logical_and(sel_rechitcluster, np.abs(T.array('cscRechitClusterMaxChamber')) > 12)\n",
    "    sel_rechitcluster = np.logical_and( sel_rechitcluster, T.array('cscRechitClusterTime') < 22)\n",
    "    sel_rechitcluster = np.logical_and( sel_rechitcluster, T.array('cscRechitClusterTime') > -12.5)\n",
    "    \n",
    "    selections_rechitcluster['oot-2'] = np.logical_and(sel_rechitcluster, T.array('cscRechitClusterTime') < -28)\n",
    "    selections_rechitcluster['oot-2'] = np.logical_and(selections_rechitcluster['oot-2'], T.array('cscRechitClusterTime') > -62.5)\n",
    "    \n",
    "    selections_rechitcluster['oot-1'] = np.logical_and(sel_rechitcluster, T.array('cscRechitClusterTime') < -12.5)\n",
    "    selections_rechitcluster['oot-1'] = np.logical_and(selections_rechitcluster['oot-1'], T.array('cscRechitClusterTime') > -37.5)\n",
    "    \n",
    "    selections_rechitcluster['signal'] = np.logical_and( sel_rechitcluster, T.array('cscRechitClusterTime') < 22)\n",
    "    selections_rechitcluster['signal'] = np.logical_and( selections_rechitcluster['signal'], T.array('cscRechitClusterTime') > -12.5)\n",
    "    \n",
    "    selections_rechitcluster['oot1'] = np.logical_and( sel_rechitcluster, T.array('cscRechitClusterTime') < 47)\n",
    "    selections_rechitcluster['oot1'] = np.logical_and( selections_rechitcluster['oot1'], T.array('cscRechitClusterTime') > 12.5)\n",
    "\n",
    "    selections_rechitcluster['oot2'] = np.logical_and(sel_rechitcluster, T.array('cscRechitClusterTime') < 72)\n",
    "    selections_rechitcluster['oot2'] = np.logical_and(selections_rechitcluster['oot2'], T.array('cscRechitClusterTime') > 37.5)\n",
    "    \n",
    "    selections_rechitcluster['oot3'] = np.logical_and(sel_rechitcluster, T.array('cscRechitClusterTime') < 97)\n",
    "    selections_rechitcluster['oot3'] = np.logical_and(selections_rechitcluster['oot3'], T.array('cscRechitClusterTime') > 62.5)\n",
    "\n",
    "    \n",
    "    \n",
    "    \n",
    "    \n",
    "########### SELECTION: EVENTS ############\n",
    "    hlt = T['HLTDecision'].array()\n",
    "    # select only triggered events\n",
    "    sel_ev= np.ones(hlt[:,0].shape, dtype=bool)\n",
    "#     sel_ev= np.zeros(hlt[:,0].shape)\n",
    "#     for tr in trigger_paths:\n",
    "#         sel_ev  = np.logical_or(sel_ev,hlt[:,tr])\n",
    "#     print(np.count_nonzero(sel_ev))\n",
    "    if k == 'sig':\n",
    "        sel_ev = np.logical_and(sel_ev, np.sum(T.array('gLLP_csc'),axis = 1) >= 1)\n",
    "        print(np.count_nonzero(sel_ev))\n",
    "        print(\"rechits\")\n",
    "        for kk, v in selections_rechitcluster.items():\n",
    "            print(kk, np.count_nonzero(np.logical_and(sel_ev, (v.sum()) >= 1)))\n",
    "        print(\"segments\")\n",
    "        for kk, v in selections_segcluster.items():\n",
    "            print(kk, np.count_nonzero(np.logical_and(sel_ev, (v.sum()) >= 1)))\n",
    "    else:\n",
    "        sel_ev = np.logical_and(sel_ev, np.sum(T.array('gLLP_csc'),axis = 1) == 0)\n",
    "        decay_distance0 = np.sqrt(T.array('gLLP_decay_vertex_x')[:,0]**2 + T.array('gLLP_decay_vertex_y')[:,0]**2 + T.array('gLLP_decay_vertex_z')[:,0]**2)\n",
    "        decay_distance1 = np.sqrt(T.array('gLLP_decay_vertex_x')[:,1]**2 + T.array('gLLP_decay_vertex_y')[:,1]**2 + T.array('gLLP_decay_vertex_z')[:,1]**2)\n",
    "        cond1 = np.logical_and(decay_distance0 < 200, decay_distance1 < 200)\n",
    "        cond2 = np.logical_and(np.abs(T.array('gLLP_decay_vertex_z')[:,0]) > 1200, np.abs(T.array('gLLP_decay_vertex_z')[:,1]) > 1200)\n",
    "        sel_ev = np.logical_and(sel_ev, np.logical_or(cond1, cond2))\n",
    "\n",
    "\n",
    "    sel_segev = np.logical_and(sel_ev, (sel_segcluster.sum()) >= 1)\n",
    "    sel_rechitev = np.logical_and(sel_ev, (sel_rechitcluster.sum()) >= 1)\n",
    "\n",
    "\n",
    "    \n",
    "    cscSegClusterSize[k] = T.array('cscSegClusterSize')[sel_segcluster][sel_ev]\n",
    "    cscSegClusterTime[k] = T.array('cscSegClusterTime')[sel_segcluster][sel_ev]\n",
    "    \n",
    "    cscRechitClusterSize[k] = T.array('cscRechitClusterSize')[sel_rechitcluster][sel_ev]\n",
    "    cscRechitClusterTime[k] = T.array('cscRechitClusterTime')[sel_rechitcluster][sel_ev]\n",
    "    \n",
    "    nCscRechitCluster_JetMuonVetoCluster0p4_Me1112Veto[k] = cscRechitClusterSize[k].sum()\n",
    "    nCscSegCluster_JetMuonVetoCluster0p4_Me1112Veto[k] = cscSegClusterSize[k].sum()\n",
    "\n",
    "    nCscSimhits[k] = T.array('nCscSimhits')[sel_ev]\n",
    "    nCscRechits[k] = T.array('ncscRechits')[sel_ev]\n",
    "    nCscWireDigis[k] = T.array('nCscWireDigis')[sel_ev]\n",
    "    nCscStripDigis[k] = T.array('nCscStripDigis')[sel_ev]\n",
    "    cscWireDigiChamber[k] = T.array('cscWireDigiChamber')[sel_ev]\n",
    "    cscStripDigiChamber[k] = T.array('cscStripDigiChamber')[sel_ev]\n",
    "    nCscWireDigis_maxChamber[k] = []\n",
    "    nCscWireDigis_maxChamber2[k] = []\n",
    "    nCscWireDigis_maxChamber3[k] = []\n",
    "    nCscWireDigis_maxChamber4[k] = []\n",
    "\n",
    "\n",
    "    nCscStripDigis_maxChamber[k] = []\n",
    "    for i,ev in enumerate(cscWireDigiChamber[k]):\n",
    "#         if len(ev) == 0: continue\n",
    "#         if not i == 0:continue\n",
    "        counts = list(np.bincount(ev[ev>0]))+list(np.bincount(-1*ev[ev<0]))\n",
    "        counts.sort(reverse=True)\n",
    "        nCscWireDigis_maxChamber[k].append(counts[0] if len(counts)>=1 else sum(counts))\n",
    "        nCscWireDigis_maxChamber2[k].append(sum(counts[:2]) if len(counts)>=2 else sum(counts))\n",
    "        nCscWireDigis_maxChamber3[k].append(sum(counts[:3]) if len(counts)>=3 else sum(counts))\n",
    "        nCscWireDigis_maxChamber4[k].append(sum(counts[:4]) if len(counts)>=4 else sum(counts))\n",
    "\n",
    "\n",
    "#         nCscWireDigis_maxChamber[k].append(counts[0]+counts[2])\n",
    "\n",
    "\n",
    "    nCscWireDigis_maxChamber[k] = np.array(nCscWireDigis_maxChamber[k])\n",
    "    nCscWireDigis_maxChamber2[k] = np.array(nCscWireDigis_maxChamber2[k])\n",
    "    nCscWireDigis_maxChamber3[k] = np.array(nCscWireDigis_maxChamber3[k])\n",
    "    nCscWireDigis_maxChamber4[k] = np.array(nCscWireDigis_maxChamber4[k])\n",
    "\n",
    "\n",
    "    print(len(nCscRechitCluster_JetMuonVetoCluster0p4_Me1112Veto[k]),len(nCscSegCluster_JetMuonVetoCluster0p4_Me1112Veto[k]))"
   ]
  },
  {
   "cell_type": "markdown",
   "metadata": {},
   "source": [
    "## nWireDigi scultping"
   ]
  },
  {
   "cell_type": "code",
   "execution_count": null,
   "metadata": {},
   "outputs": [],
   "source": [
    "# Plotting ncsc\n",
    "start_t = time.time()\n",
    "c = rt.TCanvas('c','c', 800, 800)\n",
    "h = {}\n",
    "leg = rt.TLegend(0.60,0.75,0.97,0.93)\n",
    "# leg = rt.TLegend(0.75,0.80,0.90,0.90)\n",
    "leg.SetTextSize(0.022)\n",
    "leg.SetBorderSize(0)\n",
    "# leg.SetTextFont(42)\n",
    "leg.SetEntrySeparation(0.01)\n",
    "maximum = 0\n",
    "k = 'bkg'\n",
    "bins = [100,0,150]\n",
    "wiredigi_cut = [0,60,100,117]\n",
    "for i, cut in enumerate(wiredigi_cut):\n",
    "    print()\n",
    "    v = nCscRechitCluster_JetMuonVetoCluster0p4_Me1112Veto[k][nCscWireDigis[k]> cut].flatten()\n",
    "    v = v[v != 0]\n",
    "    h[str(cut)] = create_TH1D( v, axis_title=['Number of Rechits', 'Events'], name=k, binning=[50,0,500])\n",
    "\n",
    "\n",
    "    h[str(cut)].SetLineColor(std_color_list[i])\n",
    "\n",
    "\n",
    "    leg.AddEntry(h[str(cut)], \"nWire digi cut = \"+str(cut))\n",
    "#     h[k].SetMinimum(0.1)\n",
    "#     maximum = max(maximum, h[k].GetMaximum() )\n",
    "#     h[k].SetMaximum(maximum * 20)\n",
    "#     h[k].GetXaxis().SetLabelSize(0.04)\n",
    "    h[str(cut)].DrawNormalized('same hist')\n",
    "    #     h['seg'].DrawNormalized('same hist')\n",
    "\n",
    "\n",
    "\n",
    "\n",
    "#     h[k].GetXaxis()\n",
    "\n",
    "\n",
    "leg.Draw()\n",
    "\n",
    "\n",
    "# if setlog: \n",
    "c.SetLogy()\n",
    "c.Draw()\n",
    "print(time.time()-start_t)"
   ]
  },
  {
   "cell_type": "markdown",
   "metadata": {},
   "source": [
    "# background turn on"
   ]
  },
  {
   "cell_type": "code",
   "execution_count": 31,
   "metadata": {},
   "outputs": [
    {
     "name": "stdout",
     "output_type": "stream",
     "text": [
      "[ 0 22  3 ...  0  0  0]\n",
      "CPU times: user 12.9 s, sys: 0 ns, total: 12.9 s\n",
      "Wall time: 12.9 s\n"
     ]
    }
   ],
   "source": [
    "%%time \n",
    "\n",
    "k = 'bkg'\n",
    "wire = []\n",
    "strip = []\n",
    "eff = []\n",
    "\n",
    "denom = len(nCscWireDigis[k])\n",
    "threshold = np.array(range(500))\n",
    "print(nCscWireDigis[k])\n",
    "for th_wire in threshold:\n",
    "    for th_strip in threshold:\n",
    "        nominator = np.logical_and(nCscWireDigis[k]>th_wire, nCscStripDigis[k]>th_strip)\n",
    "        temp = 1.0*np.count_nonzero(nominator)/denom\n",
    "        if temp == 0: continue\n",
    "        eff.append(1.0/temp)\n",
    "        wire.append(th_wire)\n",
    "        strip.append(th_strip)"
   ]
  },
  {
   "cell_type": "code",
   "execution_count": 33,
   "metadata": {},
   "outputs": [
    {
     "name": "stderr",
     "output_type": "stream",
     "text": [
      "Warning in <TCanvas::Constructor>: Deleting canvas with same name: c\n"
     ]
    },
    {
     "data": {
      "image/png": "[encoded data removed]",
      "text/plain": [
       "<IPython.core.display.Image object>"
      ]
     },
     "metadata": {},
     "output_type": "display_data"
    }
   ],
   "source": [
    "c = rt.TCanvas('c','c', 800, 600)\n",
    "h = {}\n",
    "leg = rt.TLegend(0.7,0.70,0.9,0.9)\n",
    "leg.SetTextSize(0.03)\n",
    "\n",
    "h[k] = create_TH2D(np.column_stack((wire,strip)), axis_title = ['number of wires digis','number of strip digis','Background rejection'], binning=[500,0,500,500,0,500],weights = eff)\n",
    "\n",
    "h[k].Draw('colz')\n",
    "c.SetLogz()\n",
    "c.SetRightMargin(0.2)\n",
    "\n",
    "\n",
    "c.Draw()\n",
    "\n",
    "# pEff1.GetPaintedGraph().GetYaxis().SetRangeUser(-0.01,1)\n",
    "\n",
    "# c.SaveAs(\"../../plots/trigger_efficiency/zh_trigger362_elept.pdf\")"
   ]
  },
  {
   "cell_type": "markdown",
   "metadata": {},
   "source": [
    "# bkg rejection vs. nrechits"
   ]
  },
  {
   "cell_type": "code",
   "execution_count": 24,
   "metadata": {},
   "outputs": [
    {
     "name": "stdout",
     "output_type": "stream",
     "text": [
      "CPU times: user 196 ms, sys: 0 ns, total: 196 ms\n",
      "Wall time: 197 ms\n"
     ]
    },
    {
     "name": "stderr",
     "output_type": "stream",
     "text": [
      "Warning in <TCanvas::Constructor>: Deleting canvas with same name: c\n"
     ]
    },
    {
     "data": {
      "image/png": "[encoded data removed]",
      "text/plain": [
       "<IPython.core.display.Image object>"
      ]
     },
     "metadata": {},
     "output_type": "display_data"
    }
   ],
   "source": [
    "%%time \n",
    "\n",
    "c = rt.TCanvas('c','c', 800, 600)\n",
    "h = {}\n",
    "leg = rt.TLegend(0.4,0.20,0.9,0.4)\n",
    "leg.SetTextSize(0.03)\n",
    "\n",
    "leg.SetBorderSize(0)\n",
    "# leg.SetTextFont(42)\n",
    "leg.SetEntrySeparation(0.01)\n",
    "k = 'sig'\n",
    "xaxis_title = 'Number strip digis'\n",
    "bins = [100,0,1000]\n",
    "wire = []\n",
    "strip = []\n",
    "eff = []\n",
    "# threshold = [60,80, 100,117]\n",
    "# bkg_rej = [100, 285, 600, 1000]\n",
    "\n",
    "\n",
    "threshold = np.array(range(5000))\n",
    "threshold_final = []\n",
    "bkg_rej = []\n",
    "xaxis = nCscRechitCluster_JetMuonVetoCluster0p4_Me1112Veto['bkg']\n",
    "\n",
    "\n",
    "for th in threshold:\n",
    "    if np.count_nonzero(xaxis>th) == 0: continue\n",
    "    temp = 1.0*len(xaxis)/np.count_nonzero(xaxis>=th)\n",
    "    threshold_final.append(th)\n",
    "    bkg_rej.append(temp)\n",
    "#     print(th,temp)\n",
    "    \n",
    "gr = create_TGraph(threshold_final,bkg_rej,axis_title = [\"N_{rechits}\",'background rejection'])\n",
    "gr.SetLineWidth(2)\n",
    "gr.Draw()\n",
    "c.SetLogy()\n",
    "leg.Draw()\n",
    "c.Draw()\n",
    "\n",
    "\n",
    "    "
   ]
  },
  {
   "cell_type": "markdown",
   "metadata": {},
   "source": [
    "# signal efficiency turn on "
   ]
  },
  {
   "cell_type": "code",
   "execution_count": 58,
   "metadata": {},
   "outputs": [
    {
     "name": "stdout",
     "output_type": "stream",
     "text": [
      "[3.3778836509528585, 10.64901185770751, 100.52985074626865, 684.9661016949152]\n",
      "dict_keys(['60'])\n",
      "dict_keys(['60', '80'])\n",
      "dict_keys(['60', '80', '111'])\n",
      "dict_keys(['60', '80', '111', '140'])\n",
      "CPU times: user 13 ms, sys: 991 µs, total: 14 ms\n",
      "Wall time: 12.6 ms\n"
     ]
    },
    {
     "name": "stderr",
     "output_type": "stream",
     "text": [
      "Warning in <TCanvas::Constructor>: Deleting canvas with same name: c\n",
      "Warning in <TROOT::Append>: Replacing existing TH1: sig (Potential memory leak).\n",
      "Warning in <TROOT::Append>: Replacing existing TH1: sig (Potential memory leak).\n",
      "Warning in <TROOT::Append>: Replacing existing TH1: sig (Potential memory leak).\n",
      "Warning in <TROOT::Append>: Replacing existing TH1: sig (Potential memory leak).\n",
      "Warning in <TROOT::Append>: Replacing existing TH1: sig (Potential memory leak).\n",
      "Warning in <TROOT::Append>: Replacing existing TH1: sig (Potential memory leak).\n",
      "Warning in <TROOT::Append>: Replacing existing TH1: sig (Potential memory leak).\n",
      "Warning in <TROOT::Append>: Replacing existing TH1: sig (Potential memory leak).\n"
     ]
    },
    {
     "data": {
      "image/png": "[encoded data removed]",
      "text/plain": [
       "<IPython.core.display.Image object>"
      ]
     },
     "metadata": {},
     "output_type": "display_data"
    }
   ],
   "source": [
    "%%time \n",
    "\n",
    "c = rt.TCanvas('c','c', 800, 600)\n",
    "h = {}\n",
    "leg = rt.TLegend(0.4,0.20,0.9,0.4)\n",
    "leg.SetTextSize(0.03)\n",
    "\n",
    "leg.SetBorderSize(0)\n",
    "# leg.SetTextFont(42)\n",
    "leg.SetEntrySeparation(0.01)\n",
    "k = 'sig'\n",
    "xaxis_title = 'Number strip digis'\n",
    "bins = [100,0,1000]\n",
    "wire = []\n",
    "strip = []\n",
    "eff = []\n",
    "# threshold = [60,80, 100,117]\n",
    "# bkg_rej = [100, 285, 600, 1000]\n",
    "\n",
    "\n",
    "threshold = [100,231,330]\n",
    "# var = nCscRechits\n",
    "# name = 'nCscRechits'\n",
    "# xaxis = nCscRechitCluster_JetMuonVetoCluster0p4_Me1112Veto[k]\n",
    "\n",
    "threshold = [60,80,111,140]\n",
    "var = nCscWireDigis_maxChamber #var to cut on\n",
    "name = 'nCscWireDigis'\n",
    "\n",
    "\n",
    "# threshold = [60,179,211]\n",
    "# var = nCscWireDigis_maxChamber2 #var to cut on\n",
    "# name = 'nCscWireDigis'\n",
    "# xaxis = nCscRechitCluster_JetMuonVetoCluster0p4_Me1112Veto[k]\n",
    "\n",
    "\n",
    "bkg_rej = []\n",
    "\n",
    "\n",
    "for th in threshold:\n",
    "    temp = 1.0*len(var['bkg'])/np.count_nonzero(var['bkg']>th)\n",
    "    bkg_rej.append(temp)\n",
    "print(bkg_rej)\n",
    "pEff1 = {}\n",
    "for i,th_wire in enumerate(threshold):\n",
    "    hm = create_TH1D( xaxis[var[k]>th_wire].flatten(), axis_title=['Number of Rechits', 'Signal Efficiency'], name=k, binning=[100,0,2000])\n",
    "    hb = create_TH1D( xaxis.flatten(), axis_title=['Number of Rechits', 'Signal Efficiency'], name=k, binning=[100,0,2000])\n",
    "    pEff1[str(th_wire)] = rt.TEfficiency(hm,hb)\n",
    "    pEff1[str(th_wire)].SetLineColor(std_color_list[i])\n",
    "    pEff1[str(th_wire)].SetLineWidth(2)\n",
    "    pEff1[str(th_wire)].Draw('' if i == 0 else 'same')\n",
    "    leg.AddEntry(pEff1[str(th_wire)], name+' cut = '+str(th_wire)+\", bkg rejection = \"+str(round(bkg_rej[i],2)))\n",
    "    print(pEff1.keys())\n",
    "leg.Draw()\n",
    "c.Draw()\n",
    "\n",
    "\n",
    "    "
   ]
  },
  {
   "cell_type": "code",
   "execution_count": 24,
   "metadata": {},
   "outputs": [
    {
     "name": "stdout",
     "output_type": "stream",
     "text": [
      "[  0  43  27 ...  74  10 396]\n",
      "CPU times: user 6.41 s, sys: 0 ns, total: 6.41 s\n",
      "Wall time: 6.39 s\n"
     ]
    }
   ],
   "source": [
    "%%time \n",
    "\n",
    "k = 'sig'\n",
    "xaxis_title = 'Number strip digis'\n",
    "bins = [100,0,1000]\n",
    "wire = []\n",
    "strip = []\n",
    "eff = []\n",
    "\n",
    "signal_cut = nCscRechitCluster_JetMuonVetoCluster0p4_Me1112Veto[k]>1000\n",
    "denom = np.count_nonzero(signal_cut)\n",
    "threshold = np.array(range(500))\n",
    "print(nCscWireDigis[k])\n",
    "for th_wire in threshold:\n",
    "    for th_strip in threshold:\n",
    "        nominator = np.logical_and(nCscWireDigis[k]>th_wire, nCscStripDigis[k]>th_strip)\n",
    "        nominator = np.logical_and(nominator, signal_cut)\n",
    "        temp = 1.0*np.count_nonzero(nominator)/denom\n",
    "        eff.append(temp)\n",
    "        wire.append(th_wire)\n",
    "        strip.append(th_strip)"
   ]
  },
  {
   "cell_type": "code",
   "execution_count": 26,
   "metadata": {},
   "outputs": [
    {
     "name": "stderr",
     "output_type": "stream",
     "text": [
      "Warning in <TCanvas::Constructor>: Deleting canvas with same name: c\n"
     ]
    },
    {
     "data": {
      "image/png": "[encoded data removed]",
      "text/plain": [
       "<IPython.core.display.Image object>"
      ]
     },
     "metadata": {},
     "output_type": "display_data"
    }
   ],
   "source": [
    "\n",
    "c = rt.TCanvas('c','c', 800, 600)\n",
    "h = {}\n",
    "leg = rt.TLegend(0.7,0.70,0.9,0.9)\n",
    "leg.SetTextSize(0.03)\n",
    "\n",
    "h[k] = create_TH2D(np.column_stack((wire,strip)), axis_title = ['number of wires digis','number of strip digis','Signal Efficiency'], binning=[500,0,500,500,0,500],weights = eff)\n",
    "\n",
    "h[k].Draw('colz')\n",
    "c.SetRightMargin(0.2)\n",
    "\n",
    "\n",
    "c.Draw()\n",
    "\n",
    "# pEff1.GetPaintedGraph().GetYaxis().SetRangeUser(-0.01,1)\n",
    "\n",
    "# c.SaveAs(\"../../plots/trigger_efficiency/zh_trigger362_elept.pdf\")"
   ]
  },
  {
   "cell_type": "markdown",
   "metadata": {},
   "source": [
    "# signal efficiency turn on "
   ]
  },
  {
   "cell_type": "code",
   "execution_count": 4,
   "metadata": {},
   "outputs": [
    {
     "data": {
      "image/png": "[encoded data removed]",
      "text/plain": [
       "<IPython.core.display.Image object>"
      ]
     },
     "metadata": {},
     "output_type": "display_data"
    }
   ],
   "source": [
    "c = rt.TCanvas('c','c', 800, 600)\n",
    "h = {}\n",
    "leg = rt.TLegend(0.7,0.70,0.9,0.9);\n",
    "leg.SetTextSize(0.03)\n",
    "\n",
    "k = 'sig'\n",
    "xaxis = nCscWireDigis[k]\n",
    "xaxis_title = 'Number strip digis'\n",
    "bins = [100,0,1000]\n",
    "\n",
    "signal_cut = nCscRechitCluster_JetMuonVetoCluster0p4_Me1112Veto[k]>1000\n",
    "denom = np.count_nonzero(signal_cut)\n",
    "threshold = np.array(range(1000))\n",
    "eff = []\n",
    "for th in threshold:\n",
    "    temp = np.count_nonzero(np.logical_and(xaxis>th, signal_cut))/denom\n",
    "    eff.append(temp)\n",
    "    \n",
    "gr = create_TGraph(threshold,eff,axis_title = [xaxis_title,'signal efficiency'])\n",
    "gr.SetLineWidth(2)\n",
    "gr.Draw()\n",
    "\n",
    "c.Draw()\n",
    "# pEff1.GetPaintedGraph().GetYaxis().SetRangeUser(-0.01,1)\n",
    "\n",
    "# c.SaveAs(\"../../plots/trigger_efficiency/zh_trigger362_elept.pdf\")"
   ]
  },
  {
   "cell_type": "markdown",
   "metadata": {},
   "source": [
    "# 1D histogram"
   ]
  },
  {
   "cell_type": "code",
   "execution_count": 6,
   "metadata": {},
   "outputs": [
    {
     "name": "stdout",
     "output_type": "stream",
     "text": [
      "sig 0.4% signal efficiency 34 1340.0\n",
      "12241\n",
      "bkg 1 bkg rejection 1 60.0\n",
      "40413\n"
     ]
    },
    {
     "data": {
      "image/png": "[encoded data removed]",
      "text/plain": [
       "<IPython.core.display.Image object>"
      ]
     },
     "metadata": {},
     "output_type": "display_data"
    }
   ],
   "source": [
    "# Plotting ncsc\n",
    "start_t = time.time()\n",
    "c = rt.TCanvas('c','c', 800, 800)\n",
    "h = {}\n",
    "# leg = rt.TLegend(0.50,0.75,0.97,0.93)\n",
    "leg = rt.TLegend(0.75,0.80,0.90,0.90)\n",
    "leg.SetTextSize(0.022)\n",
    "leg.SetBorderSize(0)\n",
    "# leg.SetTextFont(42)\n",
    "leg.SetEntrySeparation(0.01)\n",
    "maximum = 0\n",
    "\n",
    "for i, k in enumerate(keys):\n",
    "    bins = [100,-100,150]\n",
    "#     h[k] = create_TH1D( cscRechitClusterTime[k].flatten(), axis_title=['rechit cluster time [ns]', 'Events'], name=k, binning=bins)\n",
    "#     if k == 'sig': continue\n",
    "#     h[k] = create_TH1D( nCscRechitCluster_JetMuonVetoCluster0p4_Me1112Veto[k].flatten(), axis_title=['Number of Rechits', 'Events'], name=k, binning=[100,0,2000])\n",
    "#     h[k] = create_TH1D( nCscSegCluster_JetMuonVetoCluster0p4_Me1112Veto[k].flatten(), axis_title=['Number of Segments', 'Events'], name=k, binning=[80,0,80])\n",
    "    h[k] = create_TH1D( nCscRechits[k], axis_title=['Number of Rechits', 'Events'], name=k, binning=[100,0,4000])\n",
    "#     h[k] = create_TH1D( nCscWireDigis[k], axis_title=['Number of Wire Digis', 'Events'], name=k, binning=[200,0,1000])\n",
    "#     h[k] = create_TH1D( nCscStripDigis[k], axis_title=['Number of Strip Digis', 'Events'], name=k, binning=[100,0,1500])\n",
    "\n",
    "#     h[k] = create_TH1D( nCscWireDigis_maxChamber[k], axis_title=['Number of Wire Digis', 'Events'], name=k, binning=[100,0,600])\n",
    "#     print(nCscWireDigis_maxChamber[k][:10])\n",
    "\n",
    "    bkg_eff = 0.2\n",
    "    if k == 'bkg':\n",
    "        eff = 0\n",
    "        for j in range(h[k].GetNbinsX()):\n",
    "            eff += h[k].GetBinContent(j+1)\n",
    "            if 1.0*eff/h[k].Integral() > bkg_eff:\n",
    "                print(k,str(int(1/(1-bkg_eff)))+\" bkg rejection\",j, h[k].GetBinCenter(j+1))\n",
    "                break\n",
    "    else:\n",
    "        eff = 0\n",
    "        for j in range(h[k].GetNbinsX(),0,-1):\n",
    "            eff += h[k].GetBinContent(j)\n",
    "            if 1.0*eff/142059 > 0.004:\n",
    "                print(k,\"0.4% signal efficiency\",j, h[k].GetBinCenter(j))\n",
    "                break\n",
    "    print(len(nCscRechitCluster_JetMuonVetoCluster0p4_Me1112Veto[k].flatten()))\n",
    "#     h[k] = create_TH1D( cscSegClusterTime[k].flatten(), axis_title=['rechit cluster time [ns]', 'Events'], name=k, binning=bins)\n",
    "    h[k].SetLineColor(std_color_list[i])\n",
    "\n",
    "\n",
    "    leg.AddEntry(h[k], k)\n",
    "    h[k].SetMinimum(0.1)\n",
    "    maximum = max(maximum, h[k].GetMaximum() )\n",
    "    h[k].SetMaximum(maximum * 20)\n",
    "    h[k].GetXaxis().SetLabelSize(0.04)\n",
    "    h[k].DrawNormalized('same hist')\n",
    "#     h['seg'].DrawNormalized('same hist')\n",
    "\n",
    "\n",
    "\n",
    "\n",
    "#     h[k].GetXaxis()\n",
    "\n",
    "\n",
    "leg.Draw()\n",
    "\n",
    "\n",
    "# if setlog: \n",
    "c.SetLogy()\n",
    "c.Draw()\n",
    "# print(time.time()-start_t)"
   ]
  },
  {
   "cell_type": "markdown",
   "metadata": {},
   "source": [
    "# compare different bunch crossing"
   ]
  },
  {
   "cell_type": "code",
   "execution_count": null,
   "metadata": {},
   "outputs": [],
   "source": [
    "# Plotting ncsc\n",
    "start_t = time.time()\n",
    "c = rt.TCanvas('c','c', 800, 800)\n",
    "h = {}\n",
    "# leg = rt.TLegend(0.50,0.75,0.97,0.93)\n",
    "leg = rt.TLegend(0.75,0.80,0.90,0.90)\n",
    "leg.SetTextSize(0.022)\n",
    "leg.SetBorderSize(0)\n",
    "# leg.SetTextFont(42)\n",
    "leg.SetEntrySeparation(0.01)\n",
    "maximum = 0\n",
    "i = 0\n",
    "for k, v in selections_rechitcluster.items():\n",
    "    if k == 'signal' or k == 'oot1': continue\n",
    "    sel_ev = np.sum(T.array('gLLP_csc'),axis = 1) == 0\n",
    "    decay_distance0 = np.sqrt(T.array('gLLP_decay_vertex_x')[:,0]**2 + T.array('gLLP_decay_vertex_y')[:,0]**2 + T.array('gLLP_decay_vertex_z')[:,0]**2)\n",
    "    decay_distance1 = np.sqrt(T.array('gLLP_decay_vertex_x')[:,1]**2 + T.array('gLLP_decay_vertex_y')[:,1]**2 + T.array('gLLP_decay_vertex_z')[:,1]**2)\n",
    "    cond1 = np.logical_and(decay_distance0 < 100, decay_distance1 < 100)\n",
    "    cond2 = np.logical_and(np.abs(T.array('gLLP_decay_vertex_z')[:,0]) > 1200, np.abs(T.array('gLLP_decay_vertex_z')[:,1]) > 1200)\n",
    "    sel_ev = np.logical_and(sel_ev, np.logical_or(cond1, cond2))\n",
    "    sel_ev = np.logical_and(sel_ev, (v.sum()) >= 1)\n",
    "#     cscRechitClusterSize[k] = T.array('cscSegClusterSize')[v][sel_ev]\n",
    "\n",
    "\n",
    "    cscRechitClusterSize[k] = T.array('cscRechitClusterSize')[v][sel_ev]\n",
    "    bins = [100,-100,150]\n",
    "#     print(cscRechitClusterTime[k].flatten())\n",
    "#     h[k] = create_TH1D( cscRechitClusterTime[k].flatten(), axis_title=['rechit cluster time [ns]', 'Events'], name=k, binning=bins)\n",
    "    bins = [50,0,500]\n",
    "    if k == 'sig': continue\n",
    "    h[k] = create_TH1D( cscRechitClusterSize[k].sum(), axis_title=['nCsc rechits', 'Events'], name=k, binning=bins)\n",
    "#     h[k] = create_TH1D( nCscSegCluster_JetMuonVetoCluster0p4_Me1112Veto[k].flatten(), axis_title=['nCsc rechits', 'Events'], name=k, binning=bins)\n",
    "\n",
    "\n",
    "\n",
    "#     h[k] = create_TH1D( cscSegClusterTime[k].flatten(), axis_title=['rechit cluster time [ns]', 'Events'], name=k, binning=bins)\n",
    "    h[k].SetLineColor(std_color_list[i])\n",
    "\n",
    "\n",
    "    leg.AddEntry(h[k], k)\n",
    "    h[k].SetMinimum(0.1)\n",
    "    maximum = max(maximum, h[k].GetMaximum() )\n",
    "    h[k].SetMaximum(maximum * 2)\n",
    "    h[k].GetXaxis().SetLabelSize(0.04)\n",
    "    h[k].DrawNormalized('same hist')\n",
    "#     h['seg'].DrawNormalized('same hist')\n",
    "\n",
    "    i += 1\n",
    "\n",
    "\n",
    "#     h[k].GetXaxis()\n",
    "\n",
    "\n",
    "leg.Draw()\n",
    "\n",
    "\n",
    "# if setlog: \n",
    "c.SetLogy()\n",
    "c.Draw()\n",
    "print(time.time()-start_t)"
   ]
  },
  {
   "cell_type": "markdown",
   "metadata": {},
   "source": [
    "# ROC Curve"
   ]
  },
  {
   "cell_type": "code",
   "execution_count": 23,
   "metadata": {},
   "outputs": [
    {
     "name": "stdout",
     "output_type": "stream",
     "text": [
      "dict_keys(['sig', 'bkg'])\n",
      "(237,) (237,)\n",
      "sig max 254.1698113207547\n",
      "124\n",
      "dict_keys(['sig', 'bkg'])\n",
      "(300,) (300,)\n",
      "sig max2 159.10629921259843\n",
      "187\n",
      "dict_keys(['sig', 'bkg'])\n",
      "(300,) (300,)\n",
      "sig max3 188.84579439252337\n",
      "229\n",
      "dict_keys(['sig', 'bkg'])\n",
      "(300,) (300,)\n",
      "sig max4 171.2415254237288\n",
      "257\n"
     ]
    },
    {
     "name": "stderr",
     "output_type": "stream",
     "text": [
      "Warning in <TCanvas::Constructor>: Deleting canvas with same name: c\n"
     ]
    },
    {
     "data": {
      "image/png": "[encoded data removed]",
      "text/plain": [
       "<IPython.core.display.Image object>"
      ]
     },
     "metadata": {},
     "output_type": "display_data"
    }
   ],
   "source": [
    "#ROC curve\n",
    "c = rt.TCanvas('c','c', 850, 800)\n",
    "leg = rt.TLegend(0.5,0.80,0.85,0.90)\n",
    "# leg = rt.TLegend(0.3,0.80,0.55,0.90)\n",
    "\n",
    "\n",
    "leg.SetTextSize(0.022)\n",
    "leg.SetBorderSize(0)\n",
    "\n",
    "leg.SetEntrySeparation(0.01)\n",
    "gr = {}\n",
    "\n",
    "var = [nCscRechitCluster_JetMuonVetoCluster0p4_Me1112Veto, nCscSegCluster_JetMuonVetoCluster0p4_Me1112Veto,]\n",
    "name =['RecHits', 'Segments', ]\n",
    "label = ['RecHits', 'Segments',]\n",
    "\n",
    "var = [nCscWireDigis_maxChamber, nCscWireDigis_maxChamber2,nCscWireDigis_maxChamber3,nCscWireDigis_maxChamber4]\n",
    "name =['max', 'max2', 'max3','max4']\n",
    "label =['max', 'max2', 'max3','max4']\n",
    "\n",
    "\n",
    "qcd_key = 'DYJetsToLL'\n",
    "\n",
    "for i in range(len(var)):\n",
    "    thre = np.array(range(300))\n",
    "\n",
    "    print(var[i].keys())\n",
    "    eff = {}\n",
    "    for k in var[i].keys():\n",
    "        eff[k] = []\n",
    "        for th in thre:\n",
    "            eff[k].append(1.0*np.count_nonzero(var[i][k].flatten()>th)/len(var[i][k].flatten()))\n",
    "#             eff[k].append(1.0*np.count_nonzero(var[i][k].flatten()>th)/len(var[i][k].flatten()))\n",
    "\n",
    "\n",
    "        eff[k] = np.array(eff[k])\n",
    "    #Plotting ROC curve\n",
    "    eff['sig'] = eff['sig'][np.logical_not(eff['bkg'] <= 0)]\n",
    "    eff['bkg'] = eff['bkg'][np.logical_not(eff['bkg'] <= 0)]\n",
    "    print(eff['bkg'].shape, eff['sig'].shape)\n",
    "    #         gr[name[i]+sig_k] = create_TGraph(eff[sig_k],eff[qcd_key],axis_title = ['#epsilon_{sig}','background efficiency'])\n",
    "\n",
    "\n",
    "    gr[name[i]] = create_TGraph(np.reciprocal(eff['bkg']),eff['sig'],axis_title = ['background rejection','#epsilon_{sig}'])\n",
    "    gr[name[i]].SetLineColor(std_color_list[i])\n",
    "    gr[name[i]].SetLineWidth(2)\n",
    "    gr[name[i]].GetYaxis().SetTitleOffset(1.5)\n",
    "\n",
    "\n",
    "    leg.AddEntry(gr[name[i]],label[i])\n",
    "\n",
    "    gr[name[i]].Draw('ac' if i==0 else 'c')\n",
    "    gr[name[i]].GetHistogram().GetXaxis().SetRangeUser(1000,10000)\n",
    "    gr[name[i]].SetMinimum(0.0)\n",
    "    gr[name[i]].SetMaximum(0.6)\n",
    "    c.Update()\n",
    "\n",
    "    c.SetLeftMargin(0.2)\n",
    "    leg.Draw()\n",
    "    value = 0.3 #target signal efficiency\n",
    "    ind = np.abs(eff['sig']-value).argmin()\n",
    "#     ind = 110\n",
    "    print('sig',name[i],1.0/eff['bkg'][ind])\n",
    "#         print(name[i],eff[sig_k][ind])\n",
    "    print(thre[ind])\n",
    "\n",
    "c.SetLogx()\n",
    "c.Draw()\n",
    "# c.SaveAs('../plots/timing_studies/compare_timing_definition_ROC.png')"
   ]
  },
  {
   "cell_type": "markdown",
   "metadata": {},
   "source": [
    "# 2D plots per event"
   ]
  },
  {
   "cell_type": "code",
   "execution_count": null,
   "metadata": {},
   "outputs": [],
   "source": [
    "# Plotting ncsc\n",
    "start_t = time.time()\n",
    "c = rt.TCanvas('c','c', 1000, 800)\n",
    "h = {}\n",
    "# leg = rt.TLegend(0.50,0.75,0.97,0.93)\n",
    "leg = rt.TLegend(0.58,0.70,0.94,0.85)\n",
    "leg.SetTextSize(0.022)\n",
    "# leg.SetTextFont(42)\n",
    "leg.SetEntrySeparation(0.01)\n",
    "\n",
    "i = 0\n",
    "k = 'bbbb10m'\n",
    "cond = gLLP_csc[k]\n",
    "# cond = cscDetLayer_nCscSimHits[k]*0+cond\n",
    "# cond = cond.flatten()\n",
    "# h[k] = create_TH2D(np.column_stack((nCscWireDigis[k][cond],nCscRecHits[k][cond])), axis_title = ['nWireDigis','nCscRecHits','Events'], binning=[100,0,800,200,0,3000])\n",
    "# h[k] = create_TH2D(np.column_stack((nCscStripDigis[k][cond],nCscRecHits[k][cond])), axis_title = ['nStripDigis','nCscRecHits','Events'], binning=[100,0,5000,200,0,3000])\n",
    "\n",
    "# h[k] = create_TH2D(np.column_stack((nCscWireDigis[k][cond],nCscSimHits[k][cond])), axis_title = ['nWireDigis','nCscSimHits','Events'], binning=[100,0,800,250,0,3000])\n",
    "h[k] = create_TH2D(np.column_stack((nCscSimHits[k][cond >= 1],nCscStripDigis[k][cond >= 1])), axis_title = ['nCscSimHits','nStripDigis','Events'], binning=[100,0,5000,200,0,3000])\n",
    "\n",
    "# h[k] = create_TH2D(np.column_stack((nCscSimHits[k][cond],nCscRecHits[k][cond])), axis_title = ['nCscSimHits','nCscRecHits','Events'], binning=[150,0,2000,150,0,2000])\n",
    "# h[k] = create_TH2D(np.column_stack((cscDetLayer_nCscSimHits[k].flatten()[cond==0 ], cscDetLayer_nCscRecHits[k].flatten()[cond ==0 ])), axis_title = ['nCscSimHits','nCscRecHits','Events'], binning=[150,0,1000,150,0,600])\n",
    "\n",
    "# h[k] = create_TH2D(np.column_stack((cscDetLayer_nCscSimHits[k].flatten()[cond >= 1 ], cscDetLayer_nWireDigis[k].flatten()[cond >= 1 ])), axis_title = ['nCscSimHits','nCscWireDigis','Events'], binning=[150,0,1000,100,0,100])\n",
    "# h[k] = create_TH2D(np.column_stack((cscDetLayer_nCscSimHits[k].flatten()[cond >= 1 ], cscDetLayer_nStripDigis[k].flatten()[cond >= 1 ])), axis_title = ['nCscSimHits','nCscStripDigis','Events'], binning=[150,0,1000,100,0,100])\n",
    "\n",
    "\n",
    "\n",
    "# h[k] = create_TH2D(np.column_stack((nCscRecHits[k][cond],nCscSimHits[k][cond])), axis_title = ['nCscRecHits','nCscSimHits','Events'], binning=[150,0,2000,150,0,2000])\n",
    "\n",
    "\n",
    "\n",
    "# h[k] = create_TH2D(np.column_stack((nCscStripDigis[k][cond],nCscWireDigis[k][cond])), axis_title = ['nStripDigis','nWireDigis','Events'], binning=[150,0,5000,150,0,800])\n",
    "h[k] = h[k].ProfileX()\n",
    "\n",
    "\n",
    "# r = h[k].Fit('pol1', 'LRSQ+', '', 100,400)\n",
    "# print(r.Get())\n",
    "# print(r.Prob())\n",
    "# h[k].GetFunction(\"pol1\").SetLineColor(std_color_list[2])\n",
    "# h[k].GetFunction(\"pol1\").SetLineWidth(2)\n",
    "\n",
    "h[k].GetXaxis().SetLabelSize(0.04)\n",
    "h[k].GetYaxis().SetTitle('Avg nStripDigi')\n",
    "\n",
    "\n",
    "\n",
    "\n",
    "h[k].SetLineColor(std_color_list[i])\n",
    "# leg.AddEntry(h[k], k)\n",
    "#     h[k].SetMaximum(10E5)\n",
    "#     h[k].SetMinimum(1)\n",
    "h[k].Draw('colz')\n",
    "c.SetRightMargin(0.2)\n",
    "\n",
    "\n",
    "\n",
    "# if setlog: \n",
    "c.SetLogz()\n",
    "c.Draw()\n",
    "print(time.time()-start_t)"
   ]
  },
  {
   "cell_type": "markdown",
   "metadata": {},
   "source": [
    "# 2D plots per layer"
   ]
  },
  {
   "cell_type": "code",
   "execution_count": null,
   "metadata": {},
   "outputs": [],
   "source": [
    "# Plotting ncsc\n",
    "start_t = time.time()\n",
    "c = rt.TCanvas('c','c', 1000, 800)\n",
    "h = {}\n",
    "# leg = rt.TLegend(0.50,0.75,0.97,0.93)\n",
    "leg = rt.TLegend(0.58,0.70,0.94,0.85)\n",
    "leg.SetTextSize(0.022)\n",
    "# leg.SetTextFont(42)\n",
    "leg.SetEntrySeparation(0.01)\n",
    "\n",
    "i = 0\n",
    "k = 'bbbb10m'\n",
    "\n",
    "\n",
    "cond = gLLP_csc[k]\n",
    "cond = cscDetLayer_nCscRecHits[k]*0+cond\n",
    "cond = cond.flatten()\n",
    "cond = (cond == 1)\n",
    "# print(len(cond),np.count_nonzero(cond))\n",
    "# print(len(cscDetLayer_nWireDigis[k].flatten()))\n",
    "# h[k] = create_TH2D(np.column_stack((cscDetLayer_nWireDigis[k].flatten()[cond],cscDetLayer_nCscRecHits[k].flatten()[cond])), axis_title = ['nWireDigis','nCscRecHits','Events'], binning=[100,0,100,100,0,500])\n",
    "\n",
    "# h[k] = create_TH2D(np.column_stack((cscDetLayer_nStripDigis[k].flatten()[cond],cscDetLayer_nCscRecHits[k].flatten()[cond])), axis_title = ['nStripDigis','nCscRecHits','Events'], binning=[50,0,100,50,0,100])\n",
    "\n",
    "\n",
    "# h[k] = create_TH2D(np.column_stack((cscDetLayer_nWireDigis[k].flatten()[cond],cscDetLayer_nCscSimHits[k].flatten()[cond])), axis_title = ['nWireDigis','nCscSimHits','Events'], binning=[100,0,100,250,0,1000])\n",
    "# h[k] = create_TH2D(np.column_stack((nCscStripDigis[k][cond],nCscSimHits[k][cond])), axis_title = ['nStripDigis','nCscSimHits','Events'], binning=[100,0,5000,200,0,3000])\n",
    "\n",
    "h[k] = create_TH2D(np.column_stack((cscDetLayer_nCscRecHits[k].flatten()[cond],cscDetLayer_nCscSimHits[k].flatten()[cond])), axis_title = ['nCscRecHits','nCscSimHits','Events'], binning=[150,0,200,150,0,800])\n",
    "\n",
    "print(np.unique(cscDetLayer_nStripDigis[k].flatten()[cond]))\n",
    "print(np.unique(cscDetLayer_nWireDigis[k].flatten()[cond]))\n",
    "\n",
    "\n",
    "# h[k] = create_TH2D(np.column_stack((nCscStripDigis[k][cond],nCscWireDigis[k][cond])), axis_title = ['nStripDigis','nWireDigis','Events'], binning=[150,0,5000,150,0,800])\n",
    "\n",
    "h[k].GetXaxis().SetLabelSize(0.04)\n",
    "\n",
    "\n",
    "\n",
    "\n",
    "h[k].SetLineColor(std_color_list[i])\n",
    "# leg.AddEntry(h[k], k)\n",
    "#     h[k].SetMaximum(10E5)\n",
    "#     h[k].SetMinimum(1)\n",
    "h[k].Draw('colz')\n",
    "c.SetRightMargin(0.2)\n",
    "\n",
    "\n",
    "\n",
    "# if setlog: \n",
    "c.SetLogz()\n",
    "c.Draw()\n",
    "print(time.time()-start_t)"
   ]
  },
  {
   "cell_type": "markdown",
   "metadata": {},
   "source": [
    "# SimHit distribution per Layer"
   ]
  },
  {
   "cell_type": "code",
   "execution_count": null,
   "metadata": {},
   "outputs": [],
   "source": [
    "%%time\n",
    "c = rt.TCanvas('c','c', 1000, 800)\n",
    "h = {}\n",
    "# leg = rt.TLegend(0.50,0.75,0.97,0.93)\n",
    "leg = rt.TLegend(0.58,0.70,0.94,0.85)\n",
    "leg.SetTextSize(0.022)\n",
    "# leg.SetTextFont(42)\n",
    "leg.SetEntrySeparation(0.01)\n",
    "\n",
    "ev = 88785\n",
    "detid = 604058214\n",
    "ev = 134356  \n",
    "detid = 604058858\n",
    "#   22 12 403 647 1\n",
    "\n",
    "#   26 20 177 125 1\n",
    "#   17 0 64 70 1\n",
    "\n",
    "ev_cond = eventNum[k] == ev\n",
    "cond = cscSimHitsDetId[k][ev_cond] == detid+1\n",
    "print(len(cscSimHitsX[k][ev_cond][cscSimHitsDetId[k][ev_cond] == detid+1][0]))\n",
    "print(len(cscSimHitsX[k][ev_cond][cscSimHitsDetId[k][ev_cond] == detid+2][0]))\n",
    "print(len(cscSimHitsX[k][ev_cond][cscSimHitsDetId[k][ev_cond] == detid+3][0]))\n",
    "print(len(cscSimHitsX[k][ev_cond][cscSimHitsDetId[k][ev_cond] == detid-1][0]))\n",
    "print(len(cscSimHitsX[k][ev_cond][cscSimHitsDetId[k][ev_cond] == detid-2][0]))\n",
    "print(len(cscSimHitsX[k][ev_cond][cscSimHitsDetId[k][ev_cond] == detid-3][0]))\n",
    "\n",
    "\n",
    "\n",
    "meanx = np.mean(cscSimHitsX[k][ev_cond][cond][0])\n",
    "meany = np.mean(cscSimHitsY[k][ev_cond][cond][0])\n",
    "meanz = np.mean(cscSimHitsZ[k][ev_cond][cond][0])\n",
    "\n",
    "print(cscSimHitsX[k][ev_cond][cond][0])\n",
    "print(cscSimHitsY[k][ev_cond][cond][0])\n",
    "# print(cscSimHitsParticleType[k][ev_cond][cond][0])\n",
    "# print(cscSimHitsX[k][ev_cond][cond][0][0]-meanx,cscSimHitsY[k][ev_cond][cond][0][0]-meany)\n",
    "xmax = int(np.max(cscSimHitsX[k][ev_cond][cond][0])-meanx) * 1.5 +1\n",
    "xmin = int(np.min(cscSimHitsX[k][ev_cond][cond][0])-meanx) * 1.5 -1\n",
    "ymax = int(np.max(cscSimHitsY[k][ev_cond][cond][0])-meany) * 1.5 +1\n",
    "ymin = int(np.min(cscSimHitsY[k][ev_cond][cond][0])-meany) * 1.5 -1\n",
    "# xmax,xmin,ymax,ymin = 30,-30,20,-20\n",
    "\n",
    "xnbin = (xmax-xmin)/0.05\n",
    "ynbin = (ymax-ymin)/0.3\n",
    "bins = [int(xnbin),xmin,xmax,int(ynbin),ymin,ymax]\n",
    "print(bins)\n",
    "print(meanx,meany,meanz)\n",
    "print(gLLP_decay_vertex_x[k][ev_cond]-meanx, gLLP_decay_vertex_y[k][ev_cond]-meany, gLLP_decay_vertex_z[k][ev_cond]-meanz)\n",
    "h[k] = create_TH2D(np.column_stack((cscSimHitsX[k][ev_cond][cond][0]-meanx,cscSimHitsY[k][ev_cond][cond][0]-meany)), axis_title = ['X[cm]','Y[cm]','Events'], binning=bins)\n",
    "\n",
    "h[k].SetMinimum(.1)\n",
    "h[k].SetMaximum(10)\n",
    "\n",
    "\n",
    "h[k].Draw('colz')\n",
    "c.SetLogz()\n",
    "c.SetRightMargin(0.2)\n",
    "c.Draw()\n",
    "\n",
    "ll = []\n",
    "for i in range(1,h[k].GetNbinsX() + 1):\n",
    "    for j in range(1,h[k].GetNbinsY() + 1):\n",
    "        temp = h[k].GetBinContent(i,j)\n",
    "        if temp > 0:\n",
    "            ll.append(temp)\n",
    "print(sum(ll),len(ll),ll)\n",
    "histo = create_TH1D( ll, axis_title=['nSimHits', 'Events'], name=k, binning=[int(max(ll)),0,int(max(ll))])"
   ]
  },
  {
   "cell_type": "code",
   "execution_count": null,
   "metadata": {},
   "outputs": [],
   "source": [
    "%%time\n",
    "c = rt.TCanvas('c','c', 1000, 800)\n",
    "h = {}\n",
    "# leg = rt.TLegend(0.50,0.75,0.97,0.93)\n",
    "leg = rt.TLegend(0.58,0.70,0.94,0.85)\n",
    "leg.SetTextSize(0.022)\n",
    "# leg.SetTextFont(42)\n",
    "leg.SetEntrySeparation(0.01)\n",
    "\n",
    "# ev = 17344  \n",
    "# detid = 604021398\n",
    "\n",
    "ev_cond = eventNum[k] == ev\n",
    "\n",
    "cond = cscRecHitsDetId[k][ev_cond] == detid\n",
    "\n",
    "\n",
    "# meanx = np.mean(cscRecHitsX[k][ev_cond][cond][0])\n",
    "# meany = np.mean(cscRecHitsY[k][ev_cond][cond][0])\n",
    "# meanz = np.mean(cscRecHitsZ[k][ev_cond][cond][0])\n",
    "\n",
    "\n",
    "# print(cscSimHitsParticleType[k][ev_cond][cond][0])\n",
    "# print(cscSimHitsX[k][ev_cond][cond][0][0]-meanx,cscSimHitsY[k][ev_cond][cond][0][0]-meany)\n",
    "# xmax = int(np.max(cscRecHitsX[k][ev_cond][cond][0])-meanx) * 1.1\n",
    "# xmin = int(np.min(cscRecHitsX[k][ev_cond][cond][0])-meanx) * 1.1\n",
    "# ymax = int(np.max(cscRecHitsY[k][ev_cond][cond][0])-meany) * 1.5 +1\n",
    "# ymin = int(np.min(cscRecHitsY[k][ev_cond][cond][0])-meany) * 1.5 -1\n",
    "# xmax,xmin,ymax,ymin = 40,-40,40,-40\n",
    "\n",
    "# xnbin = (xmax-xmin)\n",
    "# ynbin = (ymax-ymin)\n",
    "# bins = [int(xnbin),xmin,xmax,int(ynbin),ymin,ymax]\n",
    "print(bins)\n",
    "print(meanx,meany,meanz)\n",
    "print(gLLP_decay_vertex_x[k][ev_cond]-meanx, gLLP_decay_vertex_y[k][ev_cond]-meany, gLLP_decay_vertex_z[k][ev_cond]-meanz)\n",
    "h[k] = create_TH2D(np.column_stack((cscRecHitsX[k][ev_cond][cond][0]-meanx,cscRecHitsY[k][ev_cond][cond][0]-meany)), axis_title = ['X[cm]','Y[cm]','Events'], binning=bins)\n",
    "print(cscRecHitsX[k][ev_cond][cond][0]-meanx)\n",
    "h[k].SetMinimum(.1)\n",
    "h[k].SetMaximum(10)\n",
    "\n",
    "\n",
    "h[k].Draw('colz')\n",
    "c.SetLogz()\n",
    "c.SetRightMargin(0.2)\n",
    "# rt.enableJSVis()\n",
    "c.Draw()\n",
    "\n",
    "ll = []\n",
    "for i in range(1,h[k].GetNbinsX() + 1):\n",
    "    for j in range(1,h[k].GetNbinsY() + 1):\n",
    "        temp = h[k].GetBinContent(i,j)\n",
    "        if temp > 0:\n",
    "            ll.append(temp)\n",
    "print(sum(ll),len(ll),ll)\n",
    "histo = create_TH1D( ll, axis_title=['nSimHits', 'Events'], name=k, binning=[int(max(ll)),0,int(max(ll))])"
   ]
  },
  {
   "cell_type": "markdown",
   "metadata": {},
   "source": [
    "# Occupancy plot"
   ]
  },
  {
   "cell_type": "code",
   "execution_count": null,
   "metadata": {},
   "outputs": [],
   "source": [
    "%%time\n",
    "c = rt.TCanvas('c','c', 1000, 800)\n",
    "h = {}\n",
    "# leg = rt.TLegend(0.50,0.75,0.97,0.93)\n",
    "leg = rt.TLegend(0.58,0.70,0.94,0.85)\n",
    "leg.SetTextSize(0.022)\n",
    "# leg.SetTextFont(42)\n",
    "leg.SetEntrySeparation(0.01)\n",
    "\n",
    "\n",
    "\n",
    "\n",
    "histo.DrawNormalized('')\n",
    "c.SetLogy()\n",
    "c.SetRightMargin(0.2)\n",
    "# rt.enableJSVis()\n",
    "c.Draw()\n",
    "\n"
   ]
  },
  {
   "cell_type": "code",
   "execution_count": null,
   "metadata": {},
   "outputs": [],
   "source": []
  },
  {
   "cell_type": "code",
   "execution_count": null,
   "metadata": {},
   "outputs": [],
   "source": []
  },
  {
   "cell_type": "markdown",
   "metadata": {
    "heading_collapsed": true
   },
   "source": [
    "# Occupancy per event"
   ]
  },
  {
   "cell_type": "code",
   "execution_count": null,
   "metadata": {},
   "outputs": [],
   "source": [
    "avg_occupancy = []\n",
    "max_occupancy = []\n",
    "for i in range(len(eventNum[k])):\n",
    "    if len(cscDetLayer_nCscSimHits[k][i]) == 0: continue\n",
    "    max_index = np.argmax(cscDetLayer_nCscSimHits[k][i])\n",
    "\n",
    "#     if cscDetLayer_nCscSimHits[k][i][max_index]>750 and gLLP_csc[k][i] == 1:\n",
    "#         print(ev,cscDetLayer[k][i][max_index],cscDetLayer_nCscSimHits[k][i][max_index], nCscSimHits[k][i], gLLP_csc[k][i])\n",
    "\n",
    "    cond = cscSimHitsDetId[k][ev_cond] == detid\n",
    "    meanx = np.mean(cscSimHitsX[k][ev_cond][cond][0])\n",
    "    meany = np.mean(cscSimHitsY[k][ev_cond][cond][0])\n",
    "    meanz = np.mean(cscSimHitsZ[k][ev_cond][cond][0])\n",
    "\n",
    "    xmax = int(np.max(cscSimHitsX[k][ev_cond][cond][0])-meanx) * 1.1\n",
    "    xmin = int(np.min(cscSimHitsX[k][ev_cond][cond][0])-meanx) * 1.1\n",
    "    ymax = int(np.max(cscSimHitsY[k][ev_cond][cond][0])-meany) * 1.5 +1\n",
    "    ymin = int(np.min(cscSimHitsY[k][ev_cond][cond][0])-meany) * 1.5 -1\n",
    "    # xmax,xmin,ymax,ymin = 20,-20,20,-20\n",
    "\n",
    "    xnbin = (xmax-xmin)/0.05\n",
    "    ynbin = (ymax-ymin)/0.3\n",
    "    bins = [int(xnbin),xmin,xmax,int(ynbin),ymin,ymax]\n",
    "#     print(bins)\n",
    "#     print(meanx,meany,meanz)\n",
    "#     print(gLLP_decay_vertex_x[k][ev_cond]-meanx, gLLP_decay_vertex_y[k][ev_cond]-meany, gLLP_decay_vertex_z[k][ev_cond]-meanz)\n",
    "    h[k] = create_TH2D(np.column_stack((cscSimHitsX[k][ev_cond][cond][0]-meanx,cscSimHitsY[k][ev_cond][cond][0]-meany)), axis_title = ['X[cm]','Y[cm]','Events'], binning=bins)\n",
    "    # print(cscSimHitsY[k][ev_cond][cond][0])\n",
    "\n",
    "\n",
    "    ll = []\n",
    "    for i in range(1,h[k].GetNbinsX() + 1):\n",
    "        for j in range(1,h[k].GetNbinsY() + 1):\n",
    "            temp = h[k].GetBinContent(i,j)\n",
    "            if temp > 0:\n",
    "                ll.append(temp)\n",
    "    print(sum(ll),ll)\n",
    "    histo = create_TH1D( ll, axis_title=['nSimHits', 'Events'], name=k, binning=[int(max(ll)),0,int(max(ll))])"
   ]
  },
  {
   "cell_type": "code",
   "execution_count": null,
   "metadata": {
    "hidden": true
   },
   "outputs": [],
   "source": []
  },
  {
   "cell_type": "code",
   "execution_count": null,
   "metadata": {
    "hidden": true
   },
   "outputs": [],
   "source": []
  },
  {
   "cell_type": "markdown",
   "metadata": {},
   "source": [
    "# significance"
   ]
  },
  {
   "cell_type": "code",
   "execution_count": null,
   "metadata": {},
   "outputs": [],
   "source": []
  },
  {
   "cell_type": "code",
   "execution_count": null,
   "metadata": {},
   "outputs": [],
   "source": [
    "\n"
   ]
  },
  {
   "cell_type": "code",
   "execution_count": null,
   "metadata": {
    "hidden": true
   },
   "outputs": [],
   "source": []
  },
  {
   "cell_type": "code",
   "execution_count": null,
   "metadata": {
    "hidden": true
   },
   "outputs": [],
   "source": []
  },
  {
   "cell_type": "code",
   "execution_count": null,
   "metadata": {
    "hidden": true
   },
   "outputs": [],
   "source": []
  },
  {
   "cell_type": "code",
   "execution_count": null,
   "metadata": {},
   "outputs": [],
   "source": []
  },
  {
   "cell_type": "code",
   "execution_count": null,
   "metadata": {
    "hidden": true
   },
   "outputs": [],
   "source": []
  },
  {
   "cell_type": "code",
   "execution_count": null,
   "metadata": {},
   "outputs": [],
   "source": []
  },
  {
   "cell_type": "code",
   "execution_count": null,
   "metadata": {},
   "outputs": [],
   "source": []
  },
  {
   "cell_type": "code",
   "execution_count": null,
   "metadata": {},
   "outputs": [],
   "source": []
  },
  {
   "cell_type": "code",
   "execution_count": null,
   "metadata": {},
   "outputs": [],
   "source": []
  },
  {
   "cell_type": "code",
   "execution_count": null,
   "metadata": {},
   "outputs": [],
   "source": []
  },
  {
   "cell_type": "code",
   "execution_count": null,
   "metadata": {},
   "outputs": [],
   "source": [
    "\n"
   ]
  },
  {
   "cell_type": "code",
   "execution_count": null,
   "metadata": {},
   "outputs": [],
   "source": []
  },
  {
   "cell_type": "code",
   "execution_count": null,
   "metadata": {},
   "outputs": [],
   "source": []
  },
  {
   "cell_type": "code",
   "execution_count": null,
   "metadata": {},
   "outputs": [],
   "source": []
  },
  {
   "cell_type": "code",
   "execution_count": null,
   "metadata": {},
   "outputs": [],
   "source": []
  },
  {
   "cell_type": "code",
   "execution_count": null,
   "metadata": {},
   "outputs": [],
   "source": []
  },
  {
   "cell_type": "code",
   "execution_count": null,
   "metadata": {},
   "outputs": [],
   "source": []
  },
  {
   "cell_type": "code",
   "execution_count": null,
   "metadata": {},
   "outputs": [],
   "source": []
  },
  {
   "cell_type": "code",
   "execution_count": null,
   "metadata": {},
   "outputs": [],
   "source": []
  },
  {
   "cell_type": "code",
   "execution_count": null,
   "metadata": {},
   "outputs": [],
   "source": []
  },
  {
   "cell_type": "code",
   "execution_count": null,
   "metadata": {},
   "outputs": [],
   "source": []
  },
  {
   "cell_type": "code",
   "execution_count": null,
   "metadata": {},
   "outputs": [],
   "source": []
  }
 ],
 "metadata": {
  "kernelspec": {
   "display_name": "Python 3",
   "language": "python",
   "name": "python3"
  },
  "language_info": {
   "codemirror_mode": {
    "name": "ipython",
    "version": 3
   },
   "file_extension": ".py",
   "mimetype": "text/x-python",
   "name": "python",
   "nbconvert_exporter": "python",
   "pygments_lexer": "ipython3",
   "version": "3.6.8"
  }
 },
 "nbformat": 4,
 "nbformat_minor": 4
}
