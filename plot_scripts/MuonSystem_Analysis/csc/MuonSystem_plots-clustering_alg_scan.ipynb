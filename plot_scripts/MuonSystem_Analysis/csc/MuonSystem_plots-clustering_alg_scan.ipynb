{
 "cells": [
  {
   "cell_type": "code",
   "execution_count": 1,
   "metadata": {},
   "outputs": [
    {
     "name": "stdout",
     "output_type": "stream",
     "text": [
      "Welcome to JupyROOT 6.18/02\n",
      "3.6.8 (default, Aug  7 2019, 17:28:10) \n",
      "[GCC 4.8.5 20150623 (Red Hat 4.8.5-39)]\n"
     ]
    }
   ],
   "source": [
    "# study how changing deltaR and nRechits parameter of the algorithm changes the signal efficiency\n",
    "\n",
    "import ROOT as rt\n",
    "# import root_numpy as rtnp\n",
    "import csv\n",
    "import re\n",
    "import sys\n",
    "import collections\n",
    "\n",
    "from collections import OrderedDict\n",
    "import uproot\n",
    "import pandas as pd\n",
    "\n",
    "import scipy\n",
    "import awkward\n",
    "import numpy as np\n",
    "import time\n",
    "import numba\n",
    "from numba import jit\n",
    "from matplotlib import pyplot as plt\n",
    "sys.path.append('/storage/user/christiw/gpu/christiw/llp/delayed_jet_analyzer/lib/')\n",
    "from histo_utilities import create_TH1D, create_TH2D, std_color_list, create_TGraph, make_ratio_plot\n",
    "\n",
    "import CMS_lumi, tdrstyle\n",
    "tdrstyle.setTDRStyle()\n",
    "CMS_lumi.writeExtraText = 0\n",
    "\n",
    "wH = 1\n",
    "Z_MASS = 91.2\n",
    "\n",
    "\n",
    "# donotdelete = []\n",
    "print(sys.version)"
   ]
  },
  {
   "cell_type": "markdown",
   "metadata": {},
   "source": [
    "# Load ntuples"
   ]
  },
  {
   "cell_type": "code",
   "execution_count": 2,
   "metadata": {},
   "outputs": [
    {
     "name": "stdout",
     "output_type": "stream",
     "text": [
      "MC_Summer16_0p1 /mnt/hadoop/store/group/phys_exotica/delayedjets/displacedJetMuonAnalyzer/csc/V1p17//MC_Summer16//v1/v46//normalized/ggH_HToSSTobbbb_MH-125.root\n",
      "NEvents 24199240.0\n",
      "15228\n",
      "MC_Fall17_0p1 /mnt/hadoop/store/group/phys_exotica/delayedjets/displacedJetMuonAnalyzer/csc/V1p17//MC_Fall17//v1/v46//normalized/ggH_HToSSTobbbb_MH-125.root\n",
      "NEvents 510598660.0\n",
      "14148\n",
      "MC_Fall18_0p1 /mnt/hadoop/store/group/phys_exotica/delayedjets/displacedJetMuonAnalyzer/csc/V1p17//MC_Fall18//v1/v46//normalized/ggH_HToSSTobbbb_MH-125.root\n",
      "NEvents 780197800.0\n",
      "20759\n",
      "MC_Summer16_0p2 /mnt/hadoop/store/group/phys_exotica/delayedjets/displacedJetMuonAnalyzer/csc/V1p17//MC_Summer16//v1/v43//normalized/ggH_HToSSTobbbb_MH-125.root\n",
      "NEvents 24199240.0\n",
      "1387516\n",
      "MC_Fall17_0p2 /mnt/hadoop/store/group/phys_exotica/delayedjets/displacedJetMuonAnalyzer/csc/V1p17//MC_Fall17//v1/v43//normalized/ggH_HToSSTobbbb_MH-125.root\n",
      "NEvents 510598660.0\n",
      "1373725\n",
      "MC_Fall18_0p2 /mnt/hadoop/store/group/phys_exotica/delayedjets/displacedJetMuonAnalyzer/csc/V1p17//MC_Fall18//v1/v43//normalized/ggH_HToSSTobbbb_MH-125.root\n",
      "NEvents 780197800.0\n",
      "2105367\n",
      "MC_Summer16_0p3 /mnt/hadoop/store/group/phys_exotica/delayedjets/displacedJetMuonAnalyzer/csc/V1p17//MC_Summer16//v1/v47//normalized/ggH_HToSSTobbbb_MH-125.root\n",
      "NEvents 24199240.0\n",
      "27258\n",
      "MC_Fall17_0p3 /mnt/hadoop/store/group/phys_exotica/delayedjets/displacedJetMuonAnalyzer/csc/V1p17//MC_Fall17//v1/v47//normalized/ggH_HToSSTobbbb_MH-125.root\n",
      "NEvents 510598660.0\n",
      "30382\n",
      "MC_Fall18_0p3 /mnt/hadoop/store/group/phys_exotica/delayedjets/displacedJetMuonAnalyzer/csc/V1p17//MC_Fall18//v1/v47//normalized/ggH_HToSSTobbbb_MH-125.root\n",
      "NEvents 780197800.0\n",
      "45801\n",
      "MC_Summer16_1 /mnt/hadoop/store/group/phys_exotica/delayedjets/displacedJetMuonAnalyzer/csc/V1p17//MC_Summer16//v1/v45//normalized/ggH_HToSSTobbbb_MH-125.root\n",
      "NEvents 24199240.0\n",
      "39742\n",
      "MC_Fall17_1 /mnt/hadoop/store/group/phys_exotica/delayedjets/displacedJetMuonAnalyzer/csc/V1p17//MC_Fall17//v1/v45//normalized/ggH_HToSSTobbbb_MH-125.root\n",
      "NEvents 510598660.0\n",
      "60140\n",
      "MC_Fall18_1 /mnt/hadoop/store/group/phys_exotica/delayedjets/displacedJetMuonAnalyzer/csc/V1p17//MC_Fall18//v1/v45//normalized/ggH_HToSSTobbbb_MH-125.root\n",
      "NEvents 780197800.0\n",
      "89089\n"
     ]
    }
   ],
   "source": [
    "fpath =OrderedDict()\n",
    "tree = OrderedDict()\n",
    "\n",
    "lumi = {'MC_Summer16':35.9*1000,\n",
    "        'MC_Fall17': 41.5*1000, \n",
    "        'MC_Fall18':  59.7*1000 ,\n",
    "       \n",
    "       }\n",
    "\n",
    "years = ['MC_Summer16', 'MC_Fall17', 'MC_Fall18']\n",
    "scan_points = False\n",
    "masses = ['15','40','55']\n",
    "ctaus = ['100','1000','10000','100000']\n",
    "ctaus = ['100000']\n",
    "ntupler_version = 'V1p17/'\n",
    "\n",
    "comparison = ['0p2','0p3']\n",
    "analyzer_version = [\"/v1/v38/\", \"/v1/v40/\"]\n",
    "\n",
    "comparison = ['0p2','0p1']\n",
    "analyzer_version = [\"/v1/v38/\", \"/v1/v39/\"]\n",
    "scan_deltaR = True\n",
    "data = False\n",
    "#0 is signal only, 1 is data, 2 is both\n",
    "if scan_deltaR:\n",
    "#     comparison = ['0p1','0p2', '0p3']\n",
    "#     analyzer_version = [\"/v1/v39/\", \"/v1/v38/\", \"/v1/v40/\"]\n",
    "    if data == 0:\n",
    "        comparison = ['0p1','0p2', '0p3','1']\n",
    "        analyzer_version = [\"/v1/v46/\", \"/v1/v43/\", \"/v1/v47/\",\"/v1/v45/\"]\n",
    "    elif data == 1:\n",
    "        comparison = ['0p1','0p2', '0p3']\n",
    "        analyzer_version = [\"/v5/v46/\", \"/v5/v48/\",\"/v5/v47/\"]\n",
    "    else:\n",
    "        print(\"ERROR\")\n",
    "        \n",
    "        \n",
    "        \n",
    "else:\n",
    "    comparison = ['50','30']\n",
    "    analyzer_version = [\"/v1/v38/\", \"/v1/v41/\"]\n",
    "\n",
    "if data:\n",
    "    for i in range(len(comparison)):\n",
    "        data_path = '/mnt/hadoop/store/group/phys_exotica/delayedjets/displacedJetMuonAnalyzer/csc/'+ntupler_version+'/Data2018/'+analyzer_version[i]+'/normalized/'\n",
    "        fpath[comparison[i]] = data_path + 'Run2_displacedJetMuonNtupler_V1p17_Data2016_Data2017_Data2018-HighMET_goodLumi.root' \n",
    "else:\n",
    "    for i in range(len(comparison)):\n",
    "        for y in years:\n",
    "            mc_path = '/mnt/hadoop/store/group/phys_exotica/delayedjets/displacedJetMuonAnalyzer/csc/'+ntupler_version+'/'+y+'/'+analyzer_version[i]+'/normalized/'\n",
    "            if scan_points:\n",
    "                for m in masses:\n",
    "                    for ct in ctaus:\n",
    "                        if '16' in y:fpath[y+'_mx'+m+'ctau'+ct+'_'+comparison[i]] = mc_path + 'ggH_HToSSTobbbb_MH-125_MS-'+m+'_ctau-'+ct+'_TuneCUETP8M1_13TeV-powheg-pythia8_1pb_weighted.root'\n",
    "                        else: fpath[y+'_mx'+m+'ctau'+ct+'_'+comparison[i]] = mc_path + 'ggH_HToSSTobbbb_MH-125_MS-'+m+'_ctau-'+ct+'_TuneCP5_13TeV-powheg-pythia8_1pb_weighted.root'\n",
    "            else:\n",
    "                fpath[y+'_'+comparison[i]] = mc_path + 'ggH_HToSSTobbbb_MH-125.root'\n",
    "\n",
    "\n",
    "NEvents = {}\n",
    "for k,v in fpath.items():\n",
    "    print (k, v)\n",
    "   \n",
    "    root_dir = uproot.open(v) \n",
    "\n",
    "    tree[k] = root_dir['MuonSystem']\n",
    "    NEvents[k] = root_dir['NEvents'][1]\n",
    "    a = tree[k][\"weight\"].array()\n",
    "    print(\"NEvents\",NEvents[k])\n",
    "    print(len(a))\n",
    "\n"
   ]
  },
  {
   "cell_type": "markdown",
   "metadata": {},
   "source": [
    "# Number of clusters with 30/50"
   ]
  },
  {
   "cell_type": "code",
   "execution_count": 4,
   "metadata": {},
   "outputs": [
    {
     "name": "stdout",
     "output_type": "stream",
     "text": [
      "improvement: 1.0343919\n",
      "CPU times: user 2min 27s, sys: 15.4 s, total: 2min 43s\n",
      "Wall time: 2min 40s\n"
     ]
    }
   ],
   "source": [
    "%%time\n",
    "weight_denom = {}\n",
    "nCsc = {}\n",
    "deltaR = {}\n",
    "EtaSpread = {}\n",
    "PhiSpread = {}\n",
    "if scan_points:\n",
    "    for m in masses:\n",
    "        for ct in ctaus:\n",
    "            for i in comparison:\n",
    "                weight_denom['mx'+m+'ctau'+ct+'_'+i] = []\n",
    "                nCsc['mx'+m+'ctau'+ct+'_'+i] = []\n",
    "                deltaR['mx'+m+'ctau'+ct+'_'+i] = []\n",
    "else:\n",
    "    for i in comparison:\n",
    "        weight_denom[i] = []\n",
    "        nCsc[i] = []\n",
    "        deltaR[i] = []\n",
    "        EtaSpread[i] = []\n",
    "        PhiSpread[i] = []\n",
    "\n",
    "for k,T in tree.items():\n",
    "    if not data:\n",
    "        split_list = k.split(\"_\")\n",
    "        year = split_list[0]+\"_\"+split_list[1]\n",
    "        clusterSize = split_list[-1]\n",
    "    else:\n",
    "        clusterSize = k\n",
    "    if scan_points:\n",
    "        mct = split_list[2]\n",
    "    sel_jet = np.logical_and(T.array('jetPt') > 50, np.abs(T.array('jetEta')) < 2.4 )\n",
    "    ########### SELECTION: EVENTS ############\n",
    "#     sel_ev   = T.array('METTrigger')\n",
    "    HLTDecision = T.array('HLTDecision')\n",
    "    sel_ev = np.logical_or(T.array('HLTDecision')[:,310], T.array('HLTDecision')[:,467])\n",
    "    if not '16' in k: sel_ev = sel_ev|HLTDecision[:,703] | HLTDecision[:,717] | HLTDecision[:,710] | HLTDecision[:,709]\n",
    "    \n",
    "\n",
    "    sel_ev = np.logical_and(sel_ev ,T.array('met') > 200)\n",
    "    sel_ev  = np.logical_and(sel_ev, T.array('category') == 0)\n",
    "    sel_ev = np.logical_and(sel_ev ,T.array('nLeptons') == 0)\n",
    "    sel_ev = np.logical_and(sel_ev , T.array('Flag2_all'))\n",
    "    sel_ev = np.logical_and(sel_ev , sel_jet.sum()>=1)\n",
    "    if not data: sel_ev = np.logical_and(sel_ev ,np.sum(T.array('gLLP_csc'),axis = 1) >= 1)\n",
    "\n",
    "    cluster_index = '3'\n",
    "    ########### SELECTION: CLUSTERS ############\n",
    "\n",
    "    \n",
    "    if data:\n",
    "#         sel_rechitcluster = np.logical_and(T.array('cscRechitCluster' + cluster_index + 'TimeTotal') < 12.5, \\\n",
    "#                                        T.array('cscRechitCluster' + cluster_index + 'TimeTotal') > -5.0)\n",
    "        sel_rechitcluster = T.array('cscRechitCluster' + cluster_index + 'TimeTotal') < -12.5\n",
    "\n",
    "    else:\n",
    "        sel_rechitcluster = T.array('cscRechitCluster'+cluster_index+'_match_gLLP_csc')\n",
    "        \n",
    "    sel_ev = np.logical_and(sel_ev,sel_rechitcluster.sum()==1)\n",
    "\n",
    "\n",
    "\n",
    "#     r_denom[clusterSize] += list(np.abs(T.array('cscRechitCluster' + cluster_index + '_match_gLLP_decay_r'))[sel_rechitcluster][sel_ev].flatten())\n",
    "#     z_denom[clusterSize] += list(np.abs(T.array('cscRechitCluster' + cluster_index + '_match_gLLP_decay_z'))[sel_rechitcluster][sel_ev].flatten())\n",
    "    if scan_points:weight_denom[mct+'_'+clusterSize] += list((T.array('higgsPtWeight')*T.array('weight')*T.array('pileupWeight'))[sel_ev]*lumi[year])\n",
    "    else:\n",
    "        if data: weight_denom[clusterSize] += [1]* np.count_nonzero(sel_ev)\n",
    "        else: weight_denom[clusterSize] += list((T.array('higgsPtWeight')*T.array('weight')*T.array('pileupWeight'))[sel_ev]*lumi[year])\n",
    "        nCsc[clusterSize] += list(T.array('cscRechitCluster'+cluster_index+'Size')[sel_rechitcluster][sel_ev][:,0])\n",
    "        deltaR[clusterSize] += list(T.array('cscRechitCluster'+cluster_index+'DeltaRSpread')[sel_rechitcluster][sel_ev][:,0])\n",
    "        EtaSpread[clusterSize] += list(T.array('cscRechitCluster'+cluster_index+'EtaSpread')[sel_rechitcluster][sel_ev][:,0])\n",
    "        PhiSpread[clusterSize] += list(T.array('cscRechitCluster'+cluster_index+'PhiSpread')[sel_rechitcluster][sel_ev][:,0])\n",
    "\n",
    "\n",
    "\n",
    "\n",
    "\n",
    "        \n",
    "if scan_points:\n",
    "    for m in masses:\n",
    "        for ct in ctaus:\n",
    "            k = 'mx'+m+'ctau'+ct\n",
    "            print(k, 'improvement: ', np.sum(weight_denom[k+'_'+comparison[1]])/np.sum(weight_denom[k+'_'+comparison[0]]))\n",
    "else:\n",
    "    print('improvement:', np.sum(weight_denom[comparison[1]])/np.sum(weight_denom[comparison[0]]))\n",
    "    \n",
    "    "
   ]
  },
  {
   "cell_type": "code",
   "execution_count": 22,
   "metadata": {},
   "outputs": [
    {
     "data": {
      "text/plain": [
       "array([  0,  10,  20,  30,  40,  50,  60,  70,  80,  90, 100, 110, 120])"
      ]
     },
     "execution_count": 22,
     "metadata": {},
     "output_type": "execute_result"
    }
   ],
   "source": [
    "np.arange(50,130,10)\n"
   ]
  },
  {
   "cell_type": "markdown",
   "metadata": {},
   "source": [
    "# Plots"
   ]
  },
  {
   "cell_type": "code",
   "execution_count": 5,
   "metadata": {},
   "outputs": [
    {
     "name": "stdout",
     "output_type": "stream",
     "text": [
      "0p1 0.2 0.9544446\n",
      "0p2 0.2 0.9248365\n",
      "0p3 0.2 0.89389133\n"
     ]
    },
    {
     "name": "stderr",
     "output_type": "stream",
     "text": [
      "Warning in <TROOT::Append>: Replacing existing TH1: h (Potential memory leak).\n",
      "Warning in <TROOT::Append>: Replacing existing TH1: h (Potential memory leak).\n"
     ]
    },
    {
     "data": {
      "image/png": "[encoded data removed]",
      "text/plain": [
       "<IPython.core.display.Image object>"
      ]
     },
     "metadata": {},
     "output_type": "display_data"
    }
   ],
   "source": [
    "\n",
    "leg = rt.TLegend(0.55,0.75,0.90,0.90)\n",
    "\n",
    "leg.SetTextSize(0.03)\n",
    "leg.SetBorderSize(0)\n",
    "leg.SetEntrySeparation(0.01)\n",
    "c = rt.TCanvas('c','c', 800, 800)\n",
    "rt.gStyle.SetOptFit(1011)\n",
    "h = {}\n",
    "\n",
    "var = [nCsc, deltaR, EtaSpread, PhiSpread]\n",
    "name = ['nCsc', 'deltaR', 'EtaSpread', 'PhiSpread']\n",
    "xaxis = ['N_{rechits}', '#Delta R spread', '#eta spread', '#phi spread']\n",
    "bins = [[50,0,3000], [50,0,0.6], [50,0,0.5], [50,0,0.5]]\n",
    "j = 1\n",
    "for i,k in enumerate(nCsc.keys()):\n",
    "    if i == len(nCsc.keys())-1:continue\n",
    "    h[k] = create_TH1D(var[j][k],  axis_title=[xaxis[j], 'Events'], binning = bins[j],weights = weight_denom[k])\n",
    "    \n",
    "    print(k, 0.2, np.sum(np.array(weight_denom[k])[np.array(deltaR[k])<0.2])/np.sum(np.array(weight_denom[k])))\n",
    "\n",
    "#     print(weight_denom[k])\n",
    "#     print(k, 130, np.sum(np.array(weight_denom[k])[np.array(nCsc[k])>=130]))\n",
    "#     print(k, 115, np.sum(np.array(weight_denom[k])[np.array(nCsc[k])>=115])/np.sum(np.array(weight_denom[k])[np.array(nCsc[k])>=130]))\n",
    "\n",
    "\n",
    "#     for nrechit in np.arange(110,130,1):\n",
    "#         if np.sum(np.array(weight_denom[k])[np.array(nCsc[k])>=nrechit])>np.sum(np.array(weight_denom['0p2'])[np.array(nCsc['0p2'])>=130]):\n",
    "#             print(nrechit, np.sum(np.array(weight_denom[k])[np.array(nCsc[k])>=nrechit]))\n",
    "\n",
    "\n",
    "#     if scan_deltaR:print(k, np.sum(np.array(weight_denom[k])[np.array(nCsc[k])>=130])/np.sum(np.array(weight_denom['0p2'])[np.array(nCsc['0p2'])>=130]), \\\n",
    "#           np.sum(np.array(weight_denom[k]))/np.sum(np.array(weight_denom['0p2'])))\n",
    "#     else:print(k, np.sum(np.array(weight_denom[k])[np.array(nCsc[k])>=130])/np.sum(np.array(weight_denom['50'])[np.array(nCsc['50'])>=130]), \\\n",
    "#           np.sum(np.array(weight_denom[k]))/np.sum(np.array(weight_denom['50'])))\n",
    "    h[k].SetLineColor(std_color_list[i])\n",
    "#     h[k].SetMaximum(1000000)\n",
    "    h[k].Draw('same hist')\n",
    "#     leg.AddEntry(h[k],'Rechit threshold = ' +k)\n",
    "    if scan_deltaR:\n",
    "        leg.AddEntry(h[k],'#Delta R = ' +k.replace(\"p\", \".\"))\n",
    "    else:\n",
    "        leg.AddEntry(h[k],'N_{rechits} threshold = ' +k.replace(\"p\", \".\"))\n",
    "\n",
    "\n",
    "c.SetRightMargin(0.03)\n",
    "# c.SetLogx()\n",
    "c.SetLogy()\n",
    "leg.Draw()\n",
    "c.Draw()\n",
    "leg.Draw()\n",
    "# if scan_deltaR:\n",
    "#     c.SaveAs('/storage/user/christiw/gpu/christiw/llp/delayed_jet_analyzer/plots/MuonSystem_Analysis/signal_efficiencies/clustering_scanDeltaR'+name[j]+'.png')\n",
    "#     c.SaveAs('/storage/user/christiw/gpu/christiw/llp/delayed_jet_analyzer/plots/MuonSystem_Analysis/signal_efficiencies/clustering_scanDeltaR'+name[j]+'.png')\n",
    "# else:\n",
    "#     c.SaveAs('/storage/user/christiw/gpu/christiw/llp/delayed_jet_analyzer/plots/MuonSystem_Analysis/signal_efficiencies/clustering_scanNrechits'+name[j]+'.png')\n",
    "#     c.SaveAs('/storage/user/christiw/gpu/christiw/llp/delayed_jet_analyzer/plots/MuonSystem_Analysis/signal_efficiencies/clustering_scanNrechits'+name[j]+'.png')\n",
    "\n"
   ]
  },
  {
   "cell_type": "code",
   "execution_count": null,
   "metadata": {},
   "outputs": [],
   "source": []
  }
 ],
 "metadata": {
  "kernelspec": {
   "display_name": "Python 3",
   "language": "python",
   "name": "python3"
  },
  "language_info": {
   "codemirror_mode": {
    "name": "ipython",
    "version": 3
   },
   "file_extension": ".py",
   "mimetype": "text/x-python",
   "name": "python",
   "nbconvert_exporter": "python",
   "pygments_lexer": "ipython3",
   "version": "3.6.8"
  }
 },
 "nbformat": 4,
 "nbformat_minor": 4
}
