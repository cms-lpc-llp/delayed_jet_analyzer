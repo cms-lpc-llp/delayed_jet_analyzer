{
 "cells": [
  {
   "cell_type": "code",
   "execution_count": 1,
   "metadata": {},
   "outputs": [
    {
     "name": "stdout",
     "output_type": "stream",
     "text": [
      "Welcome to JupyROOT 6.18/02\n",
      "3.6.8 (default, Aug  7 2019, 17:28:10) \n",
      "[GCC 4.8.5 20150623 (Red Hat 4.8.5-39)]\n"
     ]
    }
   ],
   "source": [
    "\n",
    "import ROOT as rt\n",
    "import csv\n",
    "import re\n",
    "import sys\n",
    "import collections\n",
    "import os\n",
    "\n",
    "from collections import OrderedDict\n",
    "import uproot\n",
    "import pandas as pd\n",
    "import math\n",
    "import scipy\n",
    "import awkward\n",
    "import numpy as np\n",
    "import time\n",
    "import numba\n",
    "from numba import jit\n",
    "from matplotlib import pyplot as plt\n",
    "sys.path.append('/storage/af/user/christiw/gpu/christiw/llp/delayed_jet_analyzer/lib/')\n",
    "sys.path.append('/storage/af/user/christiw/login-1/christiw/LLP/CMSSW_9_4_4/src/llp_analyzer/python/')\n",
    "from helper import make_datacard_2sig, make_datacard_2tag, weight_calc\n",
    "from histo_utilities import create_TH1D, create_TH2D, std_color_list, create_TGraph, make_ratio_plot\n",
    "from helper_functions import deltaR, deltaPhi\n",
    "\n",
    "import CMS_lumi, tdrstyle\n",
    "tdrstyle.setTDRStyle()\n",
    "CMS_lumi.writeExtraText = 0\n",
    "\n",
    "\n",
    "print(sys.version)"
   ]
  },
  {
   "cell_type": "markdown",
   "metadata": {},
   "source": [
    "# Load ntuples"
   ]
  },
  {
   "cell_type": "code",
   "execution_count": 2,
   "metadata": {},
   "outputs": [
    {
     "name": "stdout",
     "output_type": "stream",
     "text": [
      "/storage/af/group/phys_exotica/delayedjets/displacedJetMuonAnalyzer/Run3/V1p19/Data2022/v5/normalized/DisplacedJet-EXOCSCCluster_Run2022EFG-PromptReco-v1_goodLumi.root\n",
      "Events:  15508012.0\n",
      "/storage/af/group/phys_exotica/delayedjets/displacedJetMuonAnalyzer/Run3/V1p19/MC_Summer22EE/v1/sixie/v5/normalized/ggH_HToSSTobbbb_MH-125_MS-15_CTau1000_13p6TeV_1pb_weighted.root\n",
      "Events:  42882668.0\n"
     ]
    }
   ],
   "source": [
    "fpath =OrderedDict()\n",
    "tree = OrderedDict()\n",
    "\n",
    "start_t = time.time()\n",
    "data_year = 2022\n",
    "\n",
    "\n",
    "version = 'v5' # CA 0.4\n",
    "# version = 'v6' # CA 0.6\n",
    "data_path = '/storage/af/group/phys_exotica/delayedjets/displacedJetMuonAnalyzer/Run3/V1p19/Data2022/{}/normalized/'.format(version)\n",
    "signal_path = '/storage/af/group/phys_exotica/delayedjets/displacedJetMuonAnalyzer/Run3/V1p19/MC_Summer22EE/v1/sixie/{}/normalized/'.format(version)\n",
    "lumi = 23.02*1000\n",
    "\n",
    "fpath['data'] = data_path + 'DisplacedJet-EXOCSCCluster_Run2022EFG-PromptReco-v1_goodLumi.root'\n",
    "fpath['signal'] = signal_path + 'ggH_HToSSTobbbb_MH-125_MS-15_CTau1000_13p6TeV_1pb_weighted.root'\n",
    "\n",
    "NEvents = {}\n",
    "for k,v in fpath.items():\n",
    "    root_dir = uproot.open(v)\n",
    "    tree[k] = root_dir['MuonSystem']\n",
    "    NEvents[k] = root_dir['NEvents'][1]\n",
    "    print(v)\n",
    "    print(\"Events: \", NEvents[k])\n",
    "    \n",
    "for k, T in tree.items():\n",
    "    branch_names = T.keys()"
   ]
  },
  {
   "cell_type": "code",
   "execution_count": 3,
   "metadata": {},
   "outputs": [],
   "source": [
    "def L1_trg(cscClusterR, cscClusterZ, cscClusterSize):  \n",
    "    first_in_ME11 = np.logical_and(np.logical_and(np.logical_and(cscClusterR>100, cscClusterR<275), np.abs(cscClusterZ)>580), np.abs(cscClusterZ)<632) \n",
    "    first_in_ME12 = np.logical_and(np.logical_and(np.logical_and(cscClusterR>275, cscClusterR<465), np.abs(cscClusterZ)>668), np.abs(cscClusterZ)<724)\n",
    "    first_in_ME13 = np.logical_and(np.logical_and(np.logical_and(cscClusterR>505, cscClusterR<700), np.abs(cscClusterZ)>668), np.abs(cscClusterZ)<724)\n",
    "    first_in_ME21 = np.logical_and(np.logical_and(np.logical_and(cscClusterR>139, cscClusterR<345), np.abs(cscClusterZ)>789), np.abs(cscClusterZ)<850)\n",
    "    first_in_ME22 = np.logical_and(np.logical_and(np.logical_and(cscClusterR>357, cscClusterR<700), np.abs(cscClusterZ)>791), np.abs(cscClusterZ)<850)\n",
    "    first_in_ME31 = np.logical_and(np.logical_and(np.logical_and(cscClusterR>160, cscClusterR<345), np.abs(cscClusterZ)>915), np.abs(cscClusterZ)<970)\n",
    "    first_in_ME32 = np.logical_and(np.logical_and(np.logical_and(cscClusterR>357, cscClusterR<700), np.abs(cscClusterZ)>911), np.abs(cscClusterZ)<970)\n",
    "    first_in_ME41 = np.logical_and(np.logical_and(np.logical_and(cscClusterR>178, cscClusterR<345), np.abs(cscClusterZ)>1002), np.abs(cscClusterZ)<1063)\n",
    "    first_in_ME42 = np.logical_and(np.logical_and(np.logical_and(cscClusterR>357, cscClusterR<700), np.abs(cscClusterZ)>1002), np.abs(cscClusterZ)<1063)\n",
    "    \n",
    "    first_in_plateau_ME11 = np.logical_and(first_in_ME11, cscClusterSize>=500)\n",
    "    first_in_plateau_ME21 = np.logical_and(first_in_ME21, cscClusterSize>=500)\n",
    "    first_in_plateau_ME31 = np.logical_and(first_in_ME31, cscClusterSize>=500)\n",
    "    first_in_plateau_ME41 = np.logical_and(first_in_ME41, cscClusterSize>=500)\n",
    "\n",
    "    first_in_plateau_ME12 = np.logical_and(first_in_ME12, cscClusterSize>=200)\n",
    "    first_in_plateau_ME13 = np.logical_and(first_in_ME13, cscClusterSize>=200)\n",
    "    first_in_plateau_ME22 = np.logical_and(first_in_ME22, cscClusterSize>=200)\n",
    "    first_in_plateau_ME32 = np.logical_and(first_in_ME32, cscClusterSize>=200)\n",
    "    first_in_plateau_ME42 = np.logical_and(first_in_ME42, cscClusterSize>=200)\n",
    "    \n",
    "    first_in_plateau = first_in_plateau_ME11 | first_in_plateau_ME12 | first_in_plateau_ME13 | first_in_plateau_ME21 | first_in_plateau_ME22 | \\\n",
    "    first_in_plateau_ME31 | first_in_plateau_ME32 | first_in_plateau_ME41 | first_in_plateau_ME42\n",
    "    return first_in_plateau"
   ]
  },
  {
   "cell_type": "code",
   "execution_count": null,
   "metadata": {},
   "outputs": [],
   "source": []
  },
  {
   "cell_type": "markdown",
   "metadata": {},
   "source": [
    "# Selections"
   ]
  },
  {
   "cell_type": "code",
   "execution_count": 6,
   "metadata": {},
   "outputs": [],
   "source": [
    "sel_ev = {}\n",
    "weight = {}\n",
    "met = {}\n",
    "nCscClusters = {}\n",
    "nDtClusters = {}\n",
    "\n",
    "#DT\n",
    "\n",
    "dtClusterMuonVetoPt = {}\n",
    "dtClusterJetVetoPt = {}\n",
    "dtClusterPhi = {}\n",
    "dtClusterEta = {}\n",
    "dtClusterSize = {}\n",
    "dtClusterTime = {}\n",
    "dtClusterNStation = {}\n",
    "dtClusterMaxStation = {}\n",
    "dtClusterNHitStation1 = {}\n",
    "dtCluster_match_MB1hits_0p5 = {}\n",
    "dtCluster_match_MB1hits_0p4 = {}\n",
    "#CSC\n",
    "\n",
    "cscClusterMuonVetoPt = {}\n",
    "cscClusterJetVetoPt = {}\n",
    "cscClusterPhi = {}\n",
    "cscClusterEta = {}\n",
    "cscClusterSize = {}\n",
    "cscClusterTimeWeighted = {}\n",
    "cscClusterTimeSpreadWeighted = {}\n",
    "cscClusterTime = {}\n",
    "cscClusterTimeSpread = {}\n",
    "cscClusterNStation = {}\n",
    "cscClusterMaxChamber = {}\n",
    "cscClusterAvgStation = {}\n",
    "cscClusterMaxStation = {}\n",
    "cscClusterMe11Ratio = {}\n",
    "cscClusterMe12Ratio  = {}\n",
    "dEta = {}\n",
    "dPhi = {}\n",
    "dR = {}\n",
    "runNum = {}\n",
    "metFilters = {}\n",
    "\n",
    "\n",
    "for k, T in tree.items():\n",
    "    \n",
    "    ########### SELECTION: CLUSTERS ############\n",
    "\n",
    "    #CSC\n",
    "    sel_trgCluster = L1_trg((T.array('cscRechitClusterX')**2+T.array('cscRechitClusterY')**2)**0.5, T.array('cscRechitClusterZ'), T.array('cscRechitClusterSize'))\n",
    "    sel_csccluster = sel_trgCluster\n",
    "    sel_csccluster = np.logical_and(sel_csccluster, T.array('cscRechitClusterTimeWeighted')<12.5)\n",
    "    sel_csccluster = np.logical_and(sel_csccluster, T.array('cscRechitClusterTimeWeighted')>-5)\n",
    "    sel_csccluster = np.logical_and(sel_csccluster, T.array('cscRechitClusterTimeSpreadWeightedAll')<20)\n",
    "    sel_csccluster = np.logical_and(sel_csccluster, T.array('cscRechitClusterJetVetoPt')<10)\n",
    "\n",
    "\n",
    "\n",
    "\n",
    "\n",
    "    sel_dtcluster = np.abs(T.array('dtRechitClusterSize')) > 50\n",
    "    sel_dtcluster = np.logical_and(sel_dtcluster, T.array('dtRechitCluster_match_RPCBx_dPhi0p5')==0)\n",
    "\n",
    "    sel_dtcluster = np.logical_and(sel_dtcluster, T.array('dtRechitCluster_match_RPChits_dPhi0p5')>0)\n",
    "\n",
    "    sel_dtcluster = np.logical_and(sel_dtcluster, T.array('dtRechitClusterJetVetoPt')<10)\n",
    "    sel_dtcluster = np.logical_and(sel_dtcluster, T.array('dtRechitClusterNHitStation1')==0)\n",
    "\n",
    "\n",
    "\n",
    "    if not 'data' in k:\n",
    "        sel_csccluster = np.logical_and(sel_csccluster, T.array('cscRechitCluster_match_gLLP'))\n",
    "        sel_dtcluster = np.logical_and(sel_dtcluster, T.array('dtRechitCluster_match_gLLP'))\n",
    "    \n",
    "\n",
    "    ########### SELECTION: EVENTS ############\n",
    "    hlt = T['HLTDecision'].array()    \n",
    "    #HLT_CaloMET60_DTCluster50 = hlt[:,562]\n",
    "    #HLT_CaloMET60_DTClusterNoMB1S50 = hlt[:,563]\n",
    "    #HLT_L1MET_DTCluster50 = hlt[:,564]\n",
    "    #HLT_L1MET_DTClusterNoMB1S50 = hlt[:,565]\n",
    "    HLT_CscCluster_Loose = hlt[:,566]\n",
    "#     HLT_CscCluster_Medium = hlt[:,567]\n",
    "#     HLT_CscCluster_Tight = hlt[:,568]\n",
    "    HLT_L1CSCShower_DTCluster50 = hlt[:,569]\n",
    "    HLT_L1CSCShower_DTCluster75 = hlt[:,570]\n",
    "\n",
    "#     sel_ev[k] = np.logical_or(HLT_L1CSCShower_DTCluster50, HLTDecision[:,188])\n",
    "\n",
    "    sel_ev[k] = HLT_L1CSCShower_DTCluster50\n",
    "\n",
    "    sel_ev[k] = np.logical_and(sel_ev[k], sel_csccluster.sum()>0)\n",
    "    sel_ev[k] = np.logical_and(sel_ev[k], sel_dtcluster.sum()>0)\n",
    "#     sel_ev[k] = np.logical_and(sel_csccluster.sum()>0, sel_dtcluster.sum()>0)\n",
    "\n",
    "    if 'data' in k:\n",
    "        sel_ev[k] = np.logical_and(sel_ev[k], T.array('runNum')>=360019)\n",
    "    \n",
    "    met[k] = T.array(\"met\")[sel_ev[k]]\n",
    "\n",
    "#     metFilters[k] = T.array(\"metFilters\")[sel_ev[k]]\n",
    "\n",
    "    runNum[k] = T.array('runNum')[sel_ev[k]]\n",
    "    nCscClusters[k] = sel_csccluster.sum()[sel_ev[k]]\n",
    "    nDtClusters[k] = sel_dtcluster.sum()[sel_ev[k]]\n",
    "    weight[k] = T.array('weight')[sel_ev[k]] * lumi\n",
    "    if 'data' in k:weight[k] = T.array('weight')[sel_ev[k]]*0.0 + 1\n",
    "########### BRANCHES ############\n",
    "\n",
    "    #DT\n",
    "    dtClusterMuonVetoPt[k] = T.array('dtRechitClusterMuonVetoPt')[sel_dtcluster][sel_ev[k]][:,:]\n",
    "    dtClusterJetVetoPt[k] = T.array('dtRechitClusterJetVetoPt')[sel_dtcluster][sel_ev[k]][:,:]\n",
    "    dtClusterPhi[k] = T.array('dtRechitClusterPhi')[sel_dtcluster][sel_ev[k]][:,:]\n",
    "    dtClusterEta[k] = T.array('dtRechitClusterEta')[sel_dtcluster][sel_ev[k]][:,:]\n",
    "    dtClusterSize[k] =  T.array('dtRechitClusterSize')[sel_dtcluster][sel_ev[k]][:,:]\n",
    "    dtClusterTime[k] =  T.array('dtRechitCluster_match_RPCBx_dPhi0p5')[sel_dtcluster][sel_ev[k]][:,:]\n",
    "    dtClusterNStation[k] =  T.array('dtRechitClusterNStation10')[sel_dtcluster][sel_ev[k]][:,:]\n",
    "    dtClusterMaxStation[k] = T.array('dtRechitClusterMaxStation')[sel_dtcluster][sel_ev[k]][:,:]\n",
    "    dtClusterNHitStation1[k] = T.array('dtRechitClusterNHitStation1')[sel_dtcluster][sel_ev[k]][:,:]\n",
    "    dtCluster_match_MB1hits_0p5[k] = T.array('dtRechitCluster_match_MB1hits_0p5')[sel_dtcluster][sel_ev[k]][:,:]\n",
    "    dtCluster_match_MB1hits_0p4[k] = T.array('dtRechitCluster_match_MB1hits_0p4')[sel_dtcluster][sel_ev[k]][:,:]\n",
    "\n",
    "    #CSC\n",
    "    cscClusterMuonVetoPt[k] = T.array('cscRechitClusterMuonVetoPt')[sel_csccluster][sel_ev[k]][:,:]\n",
    "    cscClusterJetVetoPt[k] = T.array('cscRechitClusterJetVetoPt')[sel_csccluster][sel_ev[k]][:,:]\n",
    "    cscClusterPhi[k] = T.array('cscRechitClusterPhi')[sel_csccluster][sel_ev[k]][:,:]\n",
    "    cscClusterEta[k] = T.array('cscRechitClusterEta')[sel_csccluster][sel_ev[k]][:,:]\n",
    "    cscClusterSize[k] =  T.array('cscRechitClusterSize')[sel_csccluster][sel_ev[k]][:,:]\n",
    "    cscClusterTimeWeighted[k] =  T.array('cscRechitClusterTimeWeighted')[sel_csccluster][sel_ev[k]][:,:]\n",
    "    cscClusterTimeSpreadWeighted[k] =  T.array('cscRechitClusterTimeSpreadWeightedAll')[sel_csccluster][sel_ev[k]][:,:]\n",
    "    cscClusterTime[k] =  T.array('cscRechitClusterTime')[sel_csccluster][sel_ev[k]][:,:]\n",
    "    cscClusterTimeSpread[k] =  T.array('cscRechitClusterTimeSpread')[sel_csccluster][sel_ev[k]][:,:]\n",
    "    cscClusterNStation[k] =  T.array('cscRechitClusterNStation10')[sel_csccluster][sel_ev[k]][:,:]\n",
    "    cscClusterMaxChamber[k] =  T.array('cscRechitClusterMaxChamber')[sel_csccluster][sel_ev[k]][:,:]\n",
    "    cscClusterAvgStation[k] =  T.array('cscRechitClusterAvgStation10')[sel_csccluster][sel_ev[k]][:,:]\n",
    "    cscClusterMaxStation[k] =  T.array('cscRechitClusterMaxStation')[sel_csccluster][sel_ev[k]][:,:]\n",
    "    cscClusterMe11Ratio[k] =  ((T.array('cscRechitClusterNRechitChamberPlus11') + T.array('cscRechitClusterNRechitChamberMinus11'))/T.array('cscRechitClusterSize'))[sel_csccluster][sel_ev[k]][:,:]\n",
    "    cscClusterMe12Ratio[k] =  ((T.array('cscRechitClusterNRechitChamberPlus12') + T.array('cscRechitClusterNRechitChamberMinus12'))/T.array('cscRechitClusterSize'))[sel_csccluster][sel_ev[k]][:,:]\n",
    "\n",
    "\n",
    "\n",
    "    \n",
    "    dEta[k] = cscClusterEta[k][:,0]-dtClusterEta[k][:,0]\n",
    "    dPhi[k] = deltaPhi(cscClusterPhi[k][:,0], dtClusterPhi[k][:,0])\n",
    "    dR[k] = deltaR(cscClusterEta[k][:,0],cscClusterPhi[k][:,0], dtClusterEta[k][:,0], dtClusterPhi[k][:,0])\n",
    "    \n"
   ]
  },
  {
   "cell_type": "markdown",
   "metadata": {},
   "source": [
    "# event level"
   ]
  },
  {
   "cell_type": "code",
   "execution_count": 21,
   "metadata": {},
   "outputs": [
    {
     "name": "stdout",
     "output_type": "stream",
     "text": [
      "data 197.0 0.3448276\n",
      "signal 633.6937605142593 0.894084\n"
     ]
    },
    {
     "name": "stderr",
     "output_type": "stream",
     "text": [
      "Warning in <TCanvas::Constructor>: Deleting canvas with same name: c\n",
      "Warning in <TROOT::Append>: Replacing existing TH1: h (Potential memory leak).\n"
     ]
    },
    {
     "data": {
      "image/png": "[encoded data removed]",
      "text/plain": [
       "<IPython.core.display.Image object>"
      ]
     },
     "metadata": {},
     "output_type": "display_data"
    }
   ],
   "source": [
    "var = [dEta, dPhi, dR, nCscClusters, nDtClusters, met, runNum]\n",
    "xaxis = ['dEta', 'dPhi', 'dR', 'nCscCluster', 'nDtCluster', 'met', 'runNum']\n",
    "\n",
    "bins = [ [32,-5,5], [32,0,3.2], [32,0,5], [5,0,5],[5,0,5],[30,0,300], [2741,360019, 362760]]\n",
    "\n",
    "\n",
    "for index in range(len(var)):\n",
    "    if not index == 1:continue\n",
    "    c = rt.TCanvas('c','c', 800, 800)\n",
    "    leg = rt.TLegend(0.6,0.7,0.80,0.92)\n",
    "\n",
    "    leg.SetTextSize(0.03)\n",
    "    leg.SetBorderSize(0)\n",
    "    leg.SetEntrySeparation(0.01)\n",
    "    h = {}\n",
    "\n",
    "    for i, k in enumerate(weight.keys()):\n",
    "#         if not k == 'data':continue\n",
    "        h[k] = create_TH1D(var[index][k], axis_title = [xaxis[index], 'fraction of events'], binning = bins[index],weights = weight[k])\n",
    "        print(k, h[k].Integral(), np.sum(weight[k][np.abs(var[index][k])>1.5])/np.sum(weight[k]))\n",
    "        if k == 'data':leg.AddEntry(h[k],k)\n",
    "        else: leg.AddEntry(h[k],k )\n",
    "        h[k].SetLineColor(std_color_list[i])\n",
    "        if 'signal' in k:h[k].Scale(0.01)\n",
    "        if h[k].Integral()>0:h[k].Scale(1./h[k].Integral())\n",
    "#         if index == 0: h[k].SetMaximum(0.2)\n",
    "#         elif index ==1 or index == 2:h[k].SetMaximum(0.4)\n",
    "#         else: h[k].SetMaximum(1.3)\n",
    "        h[k].SetMinimum(1e-3)\n",
    "\n",
    "        h[k].SetMaximum(4e-1)\n",
    "\n",
    "        h[k].Draw('hist same')\n",
    "    leg.Draw()\n",
    "    c.SetLogy()\n",
    "    c.SetRightMargin(0.04)\n",
    "\n",
    "    c.Draw()\n",
    "\n",
    "\n",
    "\n",
    "\n"
   ]
  },
  {
   "cell_type": "markdown",
   "metadata": {},
   "source": [
    "# Csc cluster"
   ]
  },
  {
   "cell_type": "code",
   "execution_count": 14,
   "metadata": {},
   "outputs": [
    {
     "name": "stdout",
     "output_type": "stream",
     "text": [
      "data 305.0 0.0\n",
      "signal 866.0 0.0\n"
     ]
    },
    {
     "name": "stderr",
     "output_type": "stream",
     "text": [
      "Warning in <TCanvas::Constructor>: Deleting canvas with same name: c\n",
      "Warning in <TROOT::Append>: Replacing existing TH1: h (Potential memory leak).\n"
     ]
    },
    {
     "data": {
      "image/png": "[encoded data removed]",
      "text/plain": [
       "<IPython.core.display.Image object>"
      ]
     },
     "metadata": {},
     "output_type": "display_data"
    }
   ],
   "source": [
    "\n",
    "var = [cscClusterMuonVetoPt, cscClusterJetVetoPt, cscClusterPhi, cscClusterEta, cscClusterSize, cscClusterNStation, \\\n",
    "       cscClusterMaxChamber, cscClusterAvgStation, cscClusterMaxStation, cscClusterMe11Ratio, cscClusterMe12Ratio]\n",
    "name = ['cscClusterMuonVetoPt', 'cscClusterJetVetoPt', 'cscClusterPhi', 'cscClusterEta', 'cscClusterSize', 'cscClusterNStation', \\\n",
    "       'cscClusterMaxChamber', 'cscClusterAvgStation', 'cscClusterMaxStation', 'cscClusterMe11Ratio','cscClusterMe12Ratio']\n",
    "xaxis = ['cscClusterMuonVetoPt', 'cscClusterJetVetoPt', 'cscClusterPhi', 'cscClusterEta', 'cscClusterSize', 'cscClusterNStation', \\\n",
    "       'cscClusterMaxChamber', 'cscClusterAvgStation', 'cscClusterMaxStation', 'cscClusterMe11Ratio','cscClusterMe12Ratio']\n",
    "\n",
    "bins = [[50,0,50],[50,0,50],[50,0,3.2],[50,0.8,2.5],[50,0,2000],[5,0,5],[50,0,50],[50,0,5],[50,0,5], [50,0,1],[50,0,1]]\n",
    "\n",
    "\n",
    "for index in range(len(var)):\n",
    "    if not index == 4:continue\n",
    "    c = rt.TCanvas('c','c', 800, 800)\n",
    "    leg = rt.TLegend(0.7,0.7,0.90,0.92)\n",
    "\n",
    "#     leg = rt.TLegend(0.5,0.56,0.75,0.92)\n",
    "\n",
    "    leg.SetTextSize(0.03)\n",
    "    leg.SetBorderSize(0)\n",
    "    leg.SetEntrySeparation(0.01)\n",
    "    h = {}\n",
    "\n",
    "    for i, k in enumerate(weight.keys()):\n",
    "\n",
    "        cond = np.abs(cscClusterSize[k][:,0])>1000\n",
    "        cond = np.abs(cscClusterEta[k][:,0])>1.6\n",
    "\n",
    "        cond = np.abs(cscClusterEta[k][:,0])<1.2\n",
    "        cond = np.abs(dPhi[k])>-0.5\n",
    "        cond = np.logical_and(cond, dtClusterSize[k][:,0]<100)\n",
    "#         cond = np.logical_and(np.abs(cscClusterEta[k][:,0])<1.6, np.abs(cscClusterEta[k][:,0])>1.2)\n",
    "        #0.9 1.2\n",
    "        #1.2 1.6\n",
    "#         cond = np.logical_and(cond, np.abs(dPhi[k])>1.5)\n",
    "#         cond = np.logical_and(cond, np.abs(cscClusterSize[k][:,0])>300)\n",
    "        h[k] = create_TH1D(np.abs(var[index][k][:,0][cond]), axis_title = [xaxis[index], 'Fraction of events'], binning = bins[index])\n",
    "\n",
    "        print(k, h[k].Integral(), np.sum(weight[k][np.abs(var[index][k][:,0])==0])/np.sum(weight[k]))\n",
    "\n",
    "        leg.AddEntry(h[k],k)\n",
    "\n",
    "        h[k].SetLineColor(std_color_list[i])\n",
    "        if h[k].Integral()>0:h[k].Scale(1./h[k].Integral())\n",
    "        h[k].SetMaximum(1)\n",
    "        h[k].Draw('hist same')\n",
    "        \n",
    "    leg.Draw()\n",
    "    c.SetLogy()\n",
    "    c.SetRightMargin(0.04)\n",
    "\n",
    "\n",
    "    c.Draw()\n"
   ]
  },
  {
   "cell_type": "markdown",
   "metadata": {},
   "source": [
    "# DT Cluster"
   ]
  },
  {
   "cell_type": "code",
   "execution_count": 20,
   "metadata": {},
   "outputs": [
    {
     "name": "stdout",
     "output_type": "stream",
     "text": [
      "data\n",
      "data 93.0\n",
      "data 0.23152709\n",
      "signal\n",
      "signal 263.38463258743286\n",
      "signal 0.57490456\n"
     ]
    },
    {
     "name": "stderr",
     "output_type": "stream",
     "text": [
      "Warning in <TCanvas::Constructor>: Deleting canvas with same name: c\n",
      "Warning in <TROOT::Append>: Replacing existing TH1: h (Potential memory leak).\n"
     ]
    },
    {
     "data": {
      "image/png": "[encoded data removed]",
      "text/plain": [
       "<IPython.core.display.Image object>"
      ]
     },
     "metadata": {},
     "output_type": "display_data"
    }
   ],
   "source": [
    "var = [dtClusterJetVetoPt, dtClusterMuonVetoPt, dtClusterPhi, dtClusterEta, dtClusterSize,\\\n",
    "        dtClusterTime, dtClusterNStation, dtClusterMaxStation, dtClusterNHitStation1]\n",
    "name = ['dtClusterJetVetoPt', 'dtClusterMuonVetoPt', 'dtClusterPhi', 'dtClusterEta', 'dtClusterSize', \\\n",
    "               'dtClusterTime',  'dtClusterNStation', 'dtClusterMaxStation', 'dtClusterNHitStation1']\n",
    "\n",
    "xaxis = ['jet veto p_{T} [GeV]', 'muon veto p_{T} [GeV]', 'DT cluster #phi', 'DT cluster #eta', 'DT cluster size', \\\n",
    "         'dt cluster BX', 'DT cluster N_{stations}', 'DT cluster max station', 'DT cluster Nhits MB1']\n",
    "\n",
    "bins = [ [50,0,100],[10,0,100], [25,0,3.2], [50,0,1.1], [50,0,500], [20,-10,10],[5,0,5],[5,0,5],[50,0,50]]\n",
    "\n",
    "\n",
    "for index in range(len(var)):\n",
    "    if not index == 4:continue\n",
    "    c = rt.TCanvas('c','c', 800, 800)\n",
    "    leg = rt.TLegend(0.5,0.7,0.75,0.92)\n",
    "    leg.SetTextSize(0.03)\n",
    "    leg.SetBorderSize(0)\n",
    "    leg.SetEntrySeparation(0.01)\n",
    "    h = {}\n",
    "    for i, k in enumerate(weight.keys()):\n",
    "        print(k)\n",
    "#         if k == 'data':sel_dtcluster =  dtClusterSize[k]<80\n",
    "#         else: sel_dtcluster = dtClusterSize[k]>=50\n",
    "#         sel_dtcluster = np.logical_and(sel_dtcluster, dtClusterTime[k] == 0)\n",
    "#         sel_dtcluster = np.logical_and(sel_dtcluster, dtClusterJetVetoPt[k] < 10)\n",
    "#         sel_dtcluster = np.logical_and(sel_dtcluster, dtClusterMuonVetoPt[k] < 10)\n",
    "\n",
    "        cond = np.abs(dPhi[k])>0.5\n",
    "        cond = np.logical_and(cond, cscClusterSize[k][:,0]<300)\n",
    "        if 'data' in k:\n",
    "            h[k] = create_TH1D(np.abs(var[index][k][:,0][cond]), axis_title = [xaxis[index], 'Fraction of events'], binning = bins[index])\n",
    "        else: h[k] = create_TH1D(np.abs(var[index][k][:,0][cond]), axis_title = [xaxis[index], 'Fraction of events'], binning = bins[index],weights=weight[k][cond])\n",
    "        print(k, h[k].Integral())\n",
    "        print(k, np.sum(weight[k][np.abs(var[index][k][:,0])>100])/np.sum(weight[k]))\n",
    "\n",
    "\n",
    "        if h[k].Integral()>0:h[k].Scale(1./h[k].Integral())\n",
    "        h[k].SetMaximum(100)\n",
    "        h[k].SetMinimum(0.001)\n",
    "        h[k].SetLineColor(std_color_list[i])\n",
    "        h[k].Draw('hist same')\n",
    "\n",
    "        if k == 'data':leg.AddEntry(h[k],k)\n",
    "        else: leg.AddEntry(h[k],k)\n",
    "    leg.Draw()\n",
    "\n",
    "    c.SetLogy()\n",
    "    c.Draw()\n",
    "#     plot_path = '/storage/af/user/christiw/gpu/christiw/llp/delayed_jet_analyzer/plots/MuonSystem_Analysis/double_tag/selection_plots'+v2+'/'\n",
    "#     if not os.path.exists(plot_path):os.makedirs(plot_path)\n",
    "#     c.SaveAs(plot_path+'dtdt_'+name[index]+\".png\")\n",
    "#     c.SaveAs(plot_path+'dtdt_'+name[index]+\".pdf\")\n",
    "#     c.SaveAs(plot_path+'dtdt_'+name[index]+\".C\")\n"
   ]
  },
  {
   "cell_type": "markdown",
   "metadata": {},
   "source": [
    "# 2d plots"
   ]
  },
  {
   "cell_type": "code",
   "execution_count": 9,
   "metadata": {},
   "outputs": [
    {
     "name": "stderr",
     "output_type": "stream",
     "text": [
      "Warning in <TCanvas::Constructor>: Deleting canvas with same name: c\n",
      "Warning in <TROOT::Append>: Replacing existing TH1: h (Potential memory leak).\n",
      "Warning in <TROOT::Append>: Replacing existing TH1: h (Potential memory leak).\n"
     ]
    },
    {
     "data": {
      "image/png": "[encoded data removed]",
      "text/plain": [
       "<IPython.core.display.Image object>"
      ]
     },
     "metadata": {},
     "output_type": "display_data"
    }
   ],
   "source": [
    "c = rt.TCanvas('c','c', 800, 800)\n",
    "leg = rt.TLegend(0.7,0.7,0.90,0.92)\n",
    "leg.SetTextSize(0.03)\n",
    "leg.SetBorderSize(0)\n",
    "leg.SetEntrySeparation(0.01)\n",
    "h = {}\n",
    "\n",
    "k = 'data'\n",
    "# k='signal'\n",
    "h[k] = create_TH2D(np.column_stack((np.abs(cscClusterEta[k][:,0]), np.abs(cscClusterPhi[k][:,0]))), axis_title = ['cscCluster eta', 'cscCluster phi', 'Fraction of events'], binning = [20,0.8,2.4,20,0,3.2])\n",
    "# h[k] = create_TH2D(np.column_stack((np.abs(dtClusterEta[k][:,0]), np.abs(dtClusterPhi[k][:,0]))), axis_title = ['dtCluster eta', 'dtCluster phi', 'Fraction of events'], binning = [20,0,1.2,20,0,3.2])\n",
    "h[k] = create_TH2D(np.column_stack((np.abs(cscClusterMaxStation[k][:,0]), np.abs(dtClusterMaxStation[k][:,0]))), \\\n",
    "                   axis_title = ['cscCluster max station', 'dtCluster max station', 'Fraction of events'], binning = [5,0,5,5,0,5])\n",
    "\n",
    "# h[k] = create_TH2D(np.column_stack((np.abs(cscClusterNStation[k][:,0]), np.abs(dtClusterNStation[k][:,0]))), \\\n",
    "#                    axis_title = ['cscCluster Nstation', 'dtCluster Nstation', 'Fraction of events'], binning = [5,0,5,5,0,5])\n",
    "\n",
    "\n",
    "# h[k] = create_TH2D(np.column_stack((np.abs(cscClusterPhi[k][:,0]), np.abs(dtClusterPhi[k][:,0]))), \\\n",
    "#                    axis_title = ['cscCluster phi', 'dtCluster phi', 'Fraction of events'], binning = [20,0,3.2,20,0,3.2])\n",
    "\n",
    "# h[k] = create_TH2D(np.column_stack((np.abs(cscClusterEta[k][:,0]), np.abs(dtClusterEta[k][:,0]))), \\\n",
    "#                    axis_title = ['cscCluster eta', 'dtCluster eta', 'Fraction of events'], binning = [50,0,2.5,50,0,1])\n",
    "h[k] = create_TH2D(np.column_stack((np.abs(dR[k]), np.abs(dPhi[k]))), \\\n",
    "                   axis_title = ['deltaR','deltaPhi', 'Fraction of events'], binning = [50,0,4,50,0,3.2])\n",
    "\n",
    "\n",
    "\n",
    "# print(k, np.sum(weight[k][np.abs(var[index][k][:,0])==0])/np.sum(weight[k]))\n",
    "leg.AddEntry(h[k],k)\n",
    "\n",
    "# h[k].SetLineColor(std_color_list[i])\n",
    "if h[k].Integral()>0:h[k].Scale(1./h[k].Integral())\n",
    "# h[k].SetMaximum(2)\n",
    "h[k].Draw('colz')\n",
    "\n",
    "# leg.Draw()\n",
    "c.SetLogz()\n",
    "c.SetRightMargin(0.15)\n",
    "\n",
    "\n",
    "c.Draw()"
   ]
  },
  {
   "cell_type": "code",
   "execution_count": 23,
   "metadata": {},
   "outputs": [
    {
     "name": "stderr",
     "output_type": "stream",
     "text": [
      "/usr/local/lib/python3.6/site-packages/ipykernel_launcher.py:22: FutureWarning: Using a non-tuple sequence for multidimensional indexing is deprecated; use `arr[tuple(seq)]` instead of `arr[seq]`. In the future this will be interpreted as an array index, `arr[np.array(seq)]`, which will result either in an error or a different result.\n",
      "Warning in <TCanvas::Constructor>: Deleting canvas with same name: c\n"
     ]
    },
    {
     "data": {
      "image/png": "[encoded data removed]",
      "text/plain": [
       "<IPython.core.display.Image object>"
      ]
     },
     "metadata": {},
     "output_type": "display_data"
    }
   ],
   "source": [
    "# ROC curve\n",
    "bkg_eff = {}\n",
    "sig_eff = {}\n",
    "variables = [dPhi, cscClusterSize, dtClusterSize]\n",
    "\n",
    "names = ['dPhi', 'cscClusterSize', 'dtClusterSize']\n",
    "\n",
    "for i, var in enumerate(variables):\n",
    "    bkg_eff[names[i]] = []\n",
    "    sig_eff[names[i]] = []\n",
    "    if i == 0:threshold = np.arange(0,3.2,0.01)\n",
    "    else: threshold = np.arange(0,1000,1)\n",
    "    for th in threshold:\n",
    "        denom = np.abs(dPhi['data']) > 0.5\n",
    "        if i == 0:cond = np.abs(var['data']) > th\n",
    "        else:cond = np.abs(var['data'][:,0]) > th\n",
    "        bkg_eff[names[i]].append(np.sum(weight['data'][np.logical_and(denom,cond)])/np.sum(weight['data'][denom]))\n",
    "        \n",
    "        denom = np.abs(dPhi['signal']) > 0.5\n",
    "        if i == 0:cond = np.abs(var['signal']) > th\n",
    "        else:cond = np.abs(var['signal'][:,0]) > th\n",
    "        sig_eff[names[i]].append(np.sum(weight['signal'][[np.logical_and(denom,cond)]])/np.sum(weight['signal'][denom]))\n",
    "\n",
    "    sig_eff[names[i]] = np.array(sig_eff[names[i]])\n",
    "    bkg_eff[names[i]] = np.array(bkg_eff[names[i]])\n",
    "    sig_eff[names[i]] = sig_eff[names[i]][bkg_eff[names[i]]>0]\n",
    "    bkg_eff[names[i]] = bkg_eff[names[i]][bkg_eff[names[i]]>0]\n",
    "\n",
    "\n",
    "c = rt.TCanvas('c','c', 800, 800)\n",
    "leg = rt.TLegend(0.7,0.7,0.90,0.92)\n",
    "\n",
    "#     leg = rt.TLegend(0.5,0.56,0.75,0.92)\n",
    "\n",
    "leg.SetTextSize(0.03)\n",
    "leg.SetBorderSize(0)\n",
    "leg.SetEntrySeparation(0.01)\n",
    "graph = {}\n",
    "for i, v in enumerate(names):\n",
    "    graph[v] = create_TGraph(sig_eff[v], 1/bkg_eff[v], axis_title= ['signal efficiency', 'bkg rejection'])\n",
    "    graph[v].SetLineWidth(2)\n",
    "    graph[v].SetLineColor(std_color_list[i])\n",
    "    leg.AddEntry(graph[v], v)\n",
    "    graph[v].SetMaximum(50)\n",
    "    graph[v].Draw('ac' if i == 0 else 'c same')\n",
    "leg.Draw()\n",
    "c.Draw()\n",
    "\n"
   ]
  },
  {
   "cell_type": "markdown",
   "metadata": {},
   "source": [
    "# find the set of thresholds with best s/sqrt(b)"
   ]
  },
  {
   "cell_type": "code",
   "execution_count": 26,
   "metadata": {},
   "outputs": [
    {
     "name": "stdout",
     "output_type": "stream",
     "text": [
      "196.93436 0.992993985987972 (2.7500000000000018, 340, 120)\n"
     ]
    }
   ],
   "source": [
    "\n",
    "variables = [dPhi, cscClusterSize, dtClusterSize]\n",
    "\n",
    "names = ['dPhi', 'cscClusterSize', 'dtClusterSize']\n",
    "threshold_nhits = np.arange(0,1000,10)\n",
    "threshold_dphi = np.arange(0.5,3.2,0.05)\n",
    "max_signalyield = 0.0\n",
    "max_soverb = 0.0\n",
    "max_bkgyield = 999\n",
    "max_th = (0,0,0)\n",
    "for th_i in threshold_dphi:\n",
    "    for th_j in threshold_nhits:\n",
    "        for th_k in threshold_nhits:\n",
    "            cond = np.abs(dPhi['data'])>0.5\n",
    "            bkg_estimate = np.count_nonzero(np.abs(dPhi['data'][cond]) > th_i) \\\n",
    "            * np.count_nonzero(np.abs(cscClusterSize['data'][:,0][cond]) > th_j) \\\n",
    "            * np.count_nonzero(np.abs(dtClusterSize['data'][:,0][cond]) > th_k)/len(dPhi['data'][cond])**3 * 254\n",
    "            sig_cond =  np.logical_and(np.abs(dPhi['signal']) > th_i, np.abs(cscClusterSize['signal'][:,0]) > th_j)\n",
    "            sig_cond = np.logical_and(sig_cond, np.abs(dtClusterSize['signal'][:,0]) > th_k)\n",
    "            signal_yield = np.sum(weight['signal'][sig_cond])\n",
    "#             print(th_i, th_j, th_k, bkg_estimate)\n",
    "            if bkg_estimate<1 and signal_yield>max_signalyield:\n",
    "\n",
    "#             if bkg_estimate<1 and signal_yield > 100:\n",
    "#                 print(signal_yield, bkg_estimate, th_i, th_j, th_k)\n",
    "\n",
    "#             if bkg_estimate>0 and max_soverb<signal_yield/bkg_estimate**0.5:\n",
    "                max_soverb = signal_yield/bkg_estimate**0.5\n",
    "                max_signalyield = signal_yield\n",
    "                max_bkgyield = bkg_estimate\n",
    "                max_th = (th_i, th_j, th_k)\n",
    "print(max_signalyield, max_bkgyield, max_th)\n"
   ]
  },
  {
   "cell_type": "code",
   "execution_count": 24,
   "metadata": {},
   "outputs": [
    {
     "data": {
      "text/plain": [
       "254"
      ]
     },
     "execution_count": 24,
     "metadata": {},
     "output_type": "execute_result"
    }
   ],
   "source": [
    "np.count_nonzero(np.abs(dPhi['data'])>0.5)"
   ]
  },
  {
   "cell_type": "code",
   "execution_count": null,
   "metadata": {},
   "outputs": [],
   "source": []
  }
 ],
 "metadata": {
  "kernelspec": {
   "display_name": "Python 3",
   "language": "python",
   "name": "python3"
  },
  "language_info": {
   "codemirror_mode": {
    "name": "ipython",
    "version": 3
   },
   "file_extension": ".py",
   "mimetype": "text/x-python",
   "name": "python",
   "nbconvert_exporter": "python",
   "pygments_lexer": "ipython3",
   "version": "3.6.8"
  }
 },
 "nbformat": 4,
 "nbformat_minor": 4
}
