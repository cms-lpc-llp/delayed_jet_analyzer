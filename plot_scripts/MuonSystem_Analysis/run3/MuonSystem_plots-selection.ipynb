{
 "cells": [
  {
   "cell_type": "code",
   "execution_count": 1,
   "metadata": {},
   "outputs": [
    {
     "name": "stdout",
     "output_type": "stream",
     "text": [
      "Welcome to JupyROOT 6.18/02\n",
      "3.6.8 (default, Aug  7 2019, 17:28:10) \n",
      "[GCC 4.8.5 20150623 (Red Hat 4.8.5-39)]\n"
     ]
    }
   ],
   "source": [
    "\n",
    "import ROOT as rt\n",
    "import csv\n",
    "import re\n",
    "import sys\n",
    "import collections\n",
    "import os\n",
    "\n",
    "from collections import OrderedDict\n",
    "import uproot\n",
    "import pandas as pd\n",
    "import math\n",
    "import scipy\n",
    "import awkward\n",
    "import numpy as np\n",
    "import time\n",
    "import numba\n",
    "from numba import jit\n",
    "from matplotlib import pyplot as plt\n",
    "sys.path.append('/storage/af/user/christiw/gpu/christiw/llp/delayed_jet_analyzer/lib/')\n",
    "sys.path.append('/storage/af/user/christiw/login-1/christiw/LLP/CMSSW_9_4_4/src/llp_analyzer/python/')\n",
    "from helper import make_datacard_2sig, make_datacard_2tag, weight_calc\n",
    "from histo_utilities import create_TH1D, create_TH2D, std_color_list, create_TGraph, make_ratio_plot\n",
    "from helper_functions import deltaR, deltaPhi\n",
    "\n",
    "import CMS_lumi, tdrstyle\n",
    "tdrstyle.setTDRStyle()\n",
    "CMS_lumi.writeExtraText = 0\n",
    "\n",
    "\n",
    "print(sys.version)"
   ]
  },
  {
   "cell_type": "markdown",
   "metadata": {},
   "source": [
    "# Load ntuples"
   ]
  },
  {
   "cell_type": "code",
   "execution_count": 4,
   "metadata": {},
   "outputs": [
    {
     "name": "stdout",
     "output_type": "stream",
     "text": [
      "data\n",
      "signal\n"
     ]
    }
   ],
   "source": [
    "fpath =OrderedDict()\n",
    "tree = OrderedDict()\n",
    "mass = [15, 40, 55]\n",
    "\n",
    "\n",
    "data_path = '/storage/af/group/phys_exotica/delayedjets/displacedJetMuonAnalyzer/Run3/V1p19/Data2022/v3/normalized/'#fixed timeweighted\n",
    "\n",
    "\n",
    "fpath['data'] = data_path + 'DisplacedJet-EXOCSCCluster_Run2022EFG-PromptReco-v1_goodLumi.root'\n",
    "# mc_path = {}\n",
    "\n",
    "\n",
    "fpath['signal'] = '/storage/cms/store/user/christiw/displacedJetMuonAnalyzer/Run3/V1p19/MC_Summer22EE/v1/sixie/v3/normalized/ggH_HToSSTobbbb_MH-125_MS-15_CTau1000_13p6TeV_1pb_weighted.root'\n",
    "lumi = 23.02*1000\n",
    "NEvents = {}\n",
    "for k,v in fpath.items():\n",
    "    root_dir = uproot.open(v) \n",
    "    if not root_dir: \n",
    "        print(k, \"zombie\")\n",
    "        continue\n",
    "    tree[k] = root_dir['MuonSystem']\n",
    "#     NEvents[k] = root_dir['NEvents'][1]\n",
    "    NEvents[k] = root_dir['NEvents']._fEntries\n",
    "    print(k)\n",
    "#     if not 'data' in k: \n",
    "#         print(k, root_dir['NEvents']._fEntries)\n",
    "\n",
    "\n",
    "root_dir = uproot.open('/storage/af/user/christiw/login-1/christiw/LLP/CMSSW_9_4_4/src/llp_analyzer/data/HiggsPtWeights/ZHToggZH_HiggsPtReweight.root') \n",
    "h_reweight = root_dir['higgsPthiggsEta']"
   ]
  },
  {
   "cell_type": "markdown",
   "metadata": {},
   "source": [
    "# Selections"
   ]
  },
  {
   "cell_type": "code",
   "execution_count": 27,
   "metadata": {},
   "outputs": [],
   "source": [
    "\n",
    "jetPt_cut = 50\n",
    "\n",
    "weight = {}\n",
    "nhits1 = {}\n",
    "nhits2 = {}\n",
    "sel_ev = {}\n",
    "cond = {}\n",
    "cscClusterTime = {}\n",
    "cluster_index = ''\n",
    "dtRechitClusterMuonVetoPt = {}\n",
    "dtRechitClusterAvgStation = {}\n",
    "dtRechitClusterMaxStation = {}\n",
    "dtRechitCluster_match_RPCBx_dPhi0p5 = {}\n",
    "cscRechitClusterMuonVetoPt = {}\n",
    "cscRechitClusterAvgStation = {}\n",
    "cscRechitClusterTimeWeighted = {}\n",
    "cscRechitClusterEta = {}\n",
    "cscRechitClusterMe11Ratio = {}\n",
    "nCluster = {}\n",
    "nTrgCluster = {}\n",
    "met = {}\n",
    "# 0: 2 CSC; 1: 2DT; 2: csc+dt\n",
    "category = 2\n",
    "\n",
    "\n",
    "for k in list(tree.keys()):\n",
    "#     if not 'ggH' in k:continue\n",
    "#     if  not 'data' in k:continue\n",
    "########### SELECTION: CLUSTERS ############\n",
    "    if 'data' in k: T = tree['data']\n",
    "    else: T = tree[k]\n",
    "    sel_csccluster = T.array('cscRechitClusterSize') >= 0\n",
    "\n",
    "    sel_trgCluster = np.logical_and( T.array('cscRechitClusterSize') >= 100, np.logical_and(T.array('cscRechitClusterNStation10')>=2, np.abs(T.array('cscRechitClusterEta'))<1.9))\n",
    "    sel_trgCluster =np.logical_or(sel_trgCluster, np.logical_and( T.array('cscRechitClusterSize') >= 200, np.logical_and(T.array('cscRechitClusterNStation10')==1, np.abs(T.array('cscRechitClusterEta'))<1.9)))\n",
    "    sel_trgCluster =np.logical_or(sel_trgCluster, np.logical_and( T.array('cscRechitClusterSize') >= 500, np.abs(T.array('cscRechitClusterEta'))>=1.9))\n",
    "#     sel_trgCluster = np.logical_and( T.array('cscRechitClusterSize') >= 100, np.logical_and(T.array('cscRechitClusterNStation')>=2, np.abs(T.array('cscRechitClusterEta'))<1.9))\n",
    "#     sel_trgCluster =np.logical_or(sel_trgCluster, np.logical_and( T.array('cscRechitClusterSize') >= 200, np.logical_and(T.array('cscRechitClusterNStation')==1, np.abs(T.array('cscRechitClusterEta'))<1.9)))\n",
    "#     sel_trgCluster =np.logical_or(sel_trgCluster, np.logical_and( T.array('cscRechitClusterSize') >= 500, np.abs(T.array('cscRechitClusterEta'))>=1.9))\n",
    "    \n",
    "    sel_dtcluster = np.abs(T.array('dtRechitClusterSize')) > 50\n",
    "#     sel_dtcluster = np.logical_and(sel_dtcluster,np.abs(T.array('dtRechitCluster_match_RPChits_dPhi0p5')) > 0)\n",
    "#     sel_dtcluster = np.logical_and(sel_dtcluster,np.abs(T.array('dtRechitCluster_match_RPCBx_dPhi0p5')) == 0)\n",
    "#     sel_dtcluster = np.logical_and(sel_dtcluster,np.abs(T.array('dtRechitClusterMuonVetoPt')) < 10)\n",
    "\n",
    "\n",
    "\n",
    "\n",
    "########### SELECTION: JETS ############\n",
    "    \n",
    "    sel_jet = np.logical_and(T.array('jetPt') > 30, np.abs(T.array('jetEta')) < 2.4 )\n",
    "    sel_jet = np.logical_and(T.array('jetTightPassId'), sel_jet)\n",
    "\n",
    "\n",
    "#     564  HLT_L1MET_DTCluster50\n",
    "# 565  HLT_L1MET_DTClusterNoMB1S50\n",
    "# 566  HLT_CscCluster_Loose\n",
    "# 567  HLT_CscCluster_Medium\n",
    "# 568  HLT_CscCluster_Tight\n",
    "# 569  HLT_L1CSCShower_DTCluster50\n",
    "# 570  HLT_L1CSCShower_DTCluster75\n",
    "    \n",
    "########### SELECTION: EVENTS ############\n",
    "\n",
    "#     sel_ev[k] = np.logical_or(T.array('HLTDecision')[:,566], T.array('HLTDecision')[:,569])\n",
    "    sel_ev[k] = T.array('HLTDecision')[:,569]\n",
    "#     sel_ev[k] = T.array('HLTDecision')[:,566]\n",
    "\n",
    "\n",
    "    if k == 'data': sel_ev[k] = np.logical_and(sel_ev[k], T.array('runNum')>=360019)\n",
    "#     else: sel_ev[k] = np.logical_and(sel_ev[k], T.array('')\n",
    "########### BRANCHES ############\n",
    "                            \n",
    "    \n",
    "    sel_ev[k]  = np.logical_and(sel_ev[k],sel_csccluster.sum()== 1)\n",
    "    sel_ev[k]  = np.logical_and(sel_ev[k],sel_dtcluster.sum()>= 1)\n",
    "#             cond[k] = deltaR(T.array('cscRechitCluster' + cluster_index + 'Eta')[sel_csccluster][sel_ev[k]][:,0], T.array('cscRechitCluster' + cluster_index + 'Phi')[sel_csccluster][sel_ev[k]][:,0],\\\n",
    "#                             T.array('dtRechitCluster' + cluster_index + 'Eta')[sel_dtcluster][sel_ev[k]][:,0], T.array('dtRechitCluster' + cluster_index + 'Phi')[sel_dtcluster][sel_ev[k]][:,0])<2.5\n",
    "    nhits1[k] =  T.array('dtRechitClusterSize')[sel_dtcluster][sel_ev[k]]\n",
    "    nCluster[k] = sel_trgCluster.count()[sel_ev[k]]\n",
    "    nTrgCluster[k] = sel_trgCluster.sum()[sel_ev[k]]\n",
    "    nhits2[k] =  T.array('cscRechitClusterSize')[sel_csccluster][sel_ev[k]]\n",
    "    \n",
    "\n",
    "    dtRechitClusterMuonVetoPt[k] = T.array('dtRechitClusterMuonVetoPt')[sel_dtcluster][sel_ev[k]]\n",
    "    dtRechitClusterAvgStation[k] = T.array('dtRechitClusterAvgStation10')[sel_dtcluster][sel_ev[k]]\n",
    "    dtRechitClusterMaxStation[k] = T.array('dtRechitClusterMaxStation')[sel_dtcluster][sel_ev[k]]\n",
    "    dtRechitCluster_match_RPCBx_dPhi0p5[k] = T.array('dtRechitCluster_match_RPCBx_dPhi0p5')[sel_dtcluster][sel_ev[k]]\n",
    "\n",
    "    cscRechitClusterMuonVetoPt[k] = T.array('cscRechitCluster' + cluster_index + 'MuonVetoPt')[sel_csccluster][sel_ev[k]]\n",
    "\n",
    "#     cscRechitClusterJetVetoPt[k] = T.array('cscRechitCluster' + cluster_index + 'JetVetoPt')[sel_csccluster][sel_ev[k]]\n",
    "\n",
    "    cscRechitClusterAvgStation[k] = T.array('cscRechitCluster' + cluster_index + 'AvgStation10')[sel_csccluster][sel_ev[k]]\n",
    "    cscRechitClusterTimeWeighted[k] =  T.array('cscRechitCluster' + cluster_index + 'TimeWeighted')[sel_csccluster][sel_ev[k]]\n",
    "    cscRechitClusterEta[k] = T.array('cscRechitCluster' + cluster_index + 'Eta')[sel_csccluster][sel_ev[k]]\n",
    "#     cscRechitClusterMe11Ratio[k] =  T.array('cscRechitCluster' + cluster_index + 'Me11Ratio')[sel_csccluster][sel_ev[k]]\n",
    "\n",
    "\n",
    "    met[k] = T.array('met')[sel_ev[k]]\n",
    "    weight[k] = T.array('weight')[sel_ev[k]]\n",
    "    if k == 'signal': weight[k] *= lumi"
   ]
  },
  {
   "cell_type": "code",
   "execution_count": null,
   "metadata": {},
   "outputs": [],
   "source": []
  },
  {
   "cell_type": "code",
   "execution_count": 31,
   "metadata": {},
   "outputs": [
    {
     "name": "stdout",
     "output_type": "stream",
     "text": [
      "data 0.6075644150136096\n",
      "data 308871.0\n",
      "signal 0.6908319498247556\n",
      "signal 5421.0\n"
     ]
    },
    {
     "name": "stderr",
     "output_type": "stream",
     "text": [
      "Warning in <TCanvas::Constructor>: Deleting canvas with same name: c\n",
      "Warning in <TROOT::Append>: Replacing existing TH1: h (Potential memory leak).\n",
      "Warning in <TROOT::Append>: Replacing existing TH1: h (Potential memory leak).\n",
      "Warning in <TROOT::Append>: Replacing existing TH1: h (Potential memory leak).\n"
     ]
    },
    {
     "data": {
      "image/png": "[encoded data removed]",
      "text/plain": [
       "<IPython.core.display.Image object>"
      ]
     },
     "metadata": {},
     "output_type": "display_data"
    }
   ],
   "source": [
    "c = rt.TCanvas('c','c', 800, 800)\n",
    "leg = rt.TLegend(0.7,0.7,0.9,0.92)\n",
    "\n",
    "\n",
    "leg.SetTextSize(0.03)\n",
    "leg.SetBorderSize(0)\n",
    "leg.SetEntrySeparation(0.01)\n",
    "h = {}\n",
    "\n",
    "for i, k in enumerate(weight.keys()):\n",
    "#     h[k] = create_TH1D(cscRechitClusterEta[k].count(), axis_title = ['number of CSC clusters', 'Fraction of events'], weights = weight[k], binning = [5,0,5])\n",
    "#     h[k] = create_TH1D(np.abs(cscRechitClusterEta[k][cscRechitClusterEta[k].count()==1]), axis_title = ['cluster #eta', 'Fraction of events'],  binning = [50,0.7,3])\n",
    "\n",
    "    h[k] = create_TH1D(cscRechitClusterTimeWeighted[k], axis_title = ['cluster time [ns]', 'Fraction of events'],  binning = [50,-100,100])\n",
    "    \n",
    "#     h[k] = create_TH1D(cscRechitClusterTimeWeighted[k][cscRechitClusterTimeWeighted[k].count()==1], axis_title = ['cluster time [ns]', 'Fraction of events'],  binning = [50,-100,100])\n",
    "\n",
    "#     h[k] = create_TH1D(nTrgCluster[k], axis_title = ['N_{cluster}', 'Fraction of events'],  binning = [10,0,10])\n",
    "\n",
    "#     h[k] = create_TH1D(nCluster[k], axis_title = ['N_{cluster}', 'Fraction of events'],  binning = [10,0,10])\n",
    "\n",
    "    h[k] = create_TH1D(dtRechitCluster_match_RPCBx_dPhi0p5[k].count(), axis_title = ['N_{cluster}', 'Fraction of events'],  binning = [10,0,10])\n",
    "\n",
    "    \n",
    "#     h[k] = create_TH1D(np.abs(cscRechitClusterAvgStation[k][:,0]), axis_title = ['cluster average station', 'Fraction of events'], weights = weight[k], binning = [50,0,5])\n",
    "\n",
    "#     h[k] = create_TH1D(np.abs(cscRechitClusterMuonVetoPt[k][:,0]), axis_title = ['cscRechitClusterMuonVetoPt', 'Fraction of events'], weights = weight[k], binning = [50,0,100])\n",
    "\n",
    "#     h[k] = create_TH1D(met[k], axis_title = ['MET [GeV]', 'Fraction of events'], weights = weight[k], binning = [50,0,500])\n",
    "\n",
    "#     h[k] = create_TH1D(dtRechitCluster_match_RPCBx_dPhi0p5[k][:,0], axis_title = ['cluster BX', 'Fraction of events'],  binning = [10,-5,5])\n",
    "#     h[k] = create_TH1D(dtRechitClusterMuonVetoPt[k][:,0], axis_title = ['cluster BX', 'Fraction of events'],  weights = weight[k],binning = [50,0,500])\n",
    "\n",
    "\n",
    "    print(k, np.count_nonzero(met[k]>30)/len(met[k]))\n",
    "    \n",
    "    print(k, h[k].Integral())\n",
    "\n",
    "\n",
    "    h[k].Scale(1./h[k].Integral())\n",
    "\n",
    "    h[k].SetMaximum(1.5)\n",
    "    h[k].SetMinimum(1e-5)\n",
    "    h[k].SetLineColor(std_color_list[i])\n",
    "    if k == 'data':leg.AddEntry(h[k],k)\n",
    "    else: leg.AddEntry(h[k], k)\n",
    "    h[k].Draw('hist same')\n",
    "# leg.Draw()\n",
    "c.SetRightMargin(0.04)\n",
    "\n",
    "\n",
    "\n",
    "c.SetLogy()\n",
    "c.Draw()\n"
   ]
  },
  {
   "cell_type": "code",
   "execution_count": null,
   "metadata": {},
   "outputs": [],
   "source": []
  },
  {
   "cell_type": "code",
   "execution_count": null,
   "metadata": {},
   "outputs": [],
   "source": []
  },
  {
   "cell_type": "code",
   "execution_count": null,
   "metadata": {},
   "outputs": [],
   "source": []
  }
 ],
 "metadata": {
  "kernelspec": {
   "display_name": "Python 3",
   "language": "python",
   "name": "python3"
  },
  "language_info": {
   "codemirror_mode": {
    "name": "ipython",
    "version": 3
   },
   "file_extension": ".py",
   "mimetype": "text/x-python",
   "name": "python",
   "nbconvert_exporter": "python",
   "pygments_lexer": "ipython3",
   "version": "3.6.8"
  }
 },
 "nbformat": 4,
 "nbformat_minor": 4
}
