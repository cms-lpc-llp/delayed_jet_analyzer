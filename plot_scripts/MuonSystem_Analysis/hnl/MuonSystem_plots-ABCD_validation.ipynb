{
 "cells": [
  {
   "cell_type": "code",
   "execution_count": 8,
   "metadata": {},
   "outputs": [
    {
     "name": "stdout",
     "output_type": "stream",
     "text": [
      "3.6.8 (default, Aug  7 2019, 17:28:10) \n",
      "[GCC 4.8.5 20150623 (Red Hat 4.8.5-39)]\n"
     ]
    }
   ],
   "source": [
    "import ROOT as rt\n",
    "# import root_numpy as rtnp\n",
    "import csv\n",
    "import re\n",
    "import sys\n",
    "import collections\n",
    "\n",
    "from collections import OrderedDict\n",
    "import uproot\n",
    "import pandas as pd\n",
    "from root_numpy import array2tree\n",
    "\n",
    "\n",
    "import scipy\n",
    "import awkward\n",
    "import numpy as np\n",
    "import time\n",
    "import numba\n",
    "from numba import jit\n",
    "from matplotlib import pyplot as plt\n",
    "sys.path.append('/storage/af/user/christiw/gpu/christiw/llp/delayed_jet_analyzer/lib/')\n",
    "from histo_utilities import create_TH1D, create_TH2D, std_color_list, create_TGraph, make_ratio_plot\n",
    "from helper_functions import deltaPhi\n",
    "import numpy as np\n",
    "from scipy.stats import norm\n",
    "import math\n",
    "import CMS_lumi, tdrstyle\n",
    "a= tdrstyle.setTDRStyle()\n",
    "CMS_lumi.writeExtraText = 0\n",
    "\n",
    "wH = 1\n",
    "Z_MASS = 91.2\n",
    "\n",
    "\n",
    "\n",
    "# donotdelete = []\n",
    "print(sys.version)"
   ]
  },
  {
   "cell_type": "markdown",
   "metadata": {},
   "source": [
    "# Load ntuples"
   ]
  },
  {
   "cell_type": "code",
   "execution_count": 9,
   "metadata": {},
   "outputs": [
    {
     "name": "stdout",
     "output_type": "stream",
     "text": [
      "data \t 0.0\n",
      "wjets \t nan\n",
      "HNL_electronType_mHNL10p0_pl10000 \t 995.9101\n",
      "HNL_electronType_mHNL10p0_pl1000 \t 99.71724\n",
      "HNL_electronType_mHNL10p0_pl100 \t 10.025823\n",
      "HNL_electronType_mHNL1p0_pl1000 \t nan\n",
      "HNL_electronType_mHNL1p0_pl100 \t nan\n",
      "HNL_electronType_mHNL1p0_pl10 \t nan\n",
      "HNL_electronType_mHNL2p0_pl1000 \t 99.71041\n",
      "HNL_electronType_mHNL2p0_pl100 \t 9.959987\n",
      "HNL_electronType_mHNL2p0_pl10 \t 1.0163016\n",
      "HNL_electronType_mHNL4p0_pl1000 \t 99.74496\n",
      "HNL_electronType_mHNL4p0_pl100 \t 9.999355\n",
      "HNL_electronType_mHNL4p0_pl10 \t 1.0537044\n",
      "HNL_electronType_mHNL7p0_pl10000 \t 996.96484\n",
      "HNL_electronType_mHNL7p0_pl1000 \t 99.30015\n",
      "HNL_electronType_mHNL7p0_pl100 \t 10.014029\n"
     ]
    }
   ],
   "source": [
    "fpath =OrderedDict()\n",
    "tree = OrderedDict()\n",
    "\n",
    "data_year = 'full'\n",
    "lumi = {'MC_Summer16':35.9*1000,\n",
    "        'MC_Fall17': 41.5*1000, \n",
    "        'MC_Fall18':  59.7*1000 ,\n",
    "       \n",
    "       }\n",
    "\n",
    "\n",
    "path = '/storage/af/group/phys_exotica/delayedjets/HNL/skim/'\n",
    "\n",
    "\n",
    "\n",
    "# fpath['data'] = path+ 'EGamma_2018A.root'\n",
    "fpath['data'] = '/storage/af/group/phys_exotica/delayedjets/HNL/displacedJetMuonAnalyzer/V1p17/Data2018/v5/v2/normalized/2018B.root'\n",
    "\n",
    "fpath['wjets'] = path+ 'WJetsToLNu_1pb_weighted.root'\n",
    "sample = ['HNL_electronType_mHNL10p0_pl10000',\n",
    "    'HNL_electronType_mHNL10p0_pl1000',\n",
    "    'HNL_electronType_mHNL10p0_pl100',\n",
    "    'HNL_electronType_mHNL1p0_pl1000',\n",
    "    'HNL_electronType_mHNL1p0_pl100',\n",
    "    'HNL_electronType_mHNL1p0_pl10',\n",
    "    'HNL_electronType_mHNL2p0_pl1000',\n",
    "    'HNL_electronType_mHNL2p0_pl100',\n",
    "    'HNL_electronType_mHNL2p0_pl10',\n",
    "    'HNL_electronType_mHNL4p0_pl1000',\n",
    "    'HNL_electronType_mHNL4p0_pl100',\n",
    "    'HNL_electronType_mHNL4p0_pl10',\n",
    "    'HNL_electronType_mHNL7p0_pl10000',\n",
    "    'HNL_electronType_mHNL7p0_pl1000',\n",
    "    'HNL_electronType_mHNL7p0_pl100',\n",
    "        ]\n",
    "\n",
    "for s in sample:\n",
    "    fpath[s] = path + s + '_1pb_weighted.root'\n",
    "NEvents = {}\n",
    "Total = {}\n",
    "accep = {}\n",
    "accep_met = {}\n",
    "for k,v in fpath.items():\n",
    "#     print (k, v)\n",
    "    root_dir = uproot.open(v) \n",
    "#     if not b'MuonSystem;1' in root_dir.keys():print(\"ERROR\")\n",
    "#     else:\n",
    "    tree[k] = root_dir['MuonSystem']\n",
    "    NEvents[k] = root_dir['NEvents'][1]\n",
    "    a = tree[k][\"weight\"].array()\n",
    "    \n",
    "#     print(\"NEvents\",NEvents[k],np.sum(a),len(a), a[0]*137000,)\n",
    "    print(k,'\\t', np.mean(tree[k][\"gLLP_ctau\"].array()[:,0]))\n"
   ]
  },
  {
   "cell_type": "markdown",
   "metadata": {},
   "source": [
    "# ndt with different hit vetoing"
   ]
  },
  {
   "cell_type": "code",
   "execution_count": 10,
   "metadata": {},
   "outputs": [
    {
     "name": "stdout",
     "output_type": "stream",
     "text": [
      "oot 8677\n",
      "signal 37622\n",
      "inverted_mb1 36533\n"
     ]
    }
   ],
   "source": [
    "\n",
    "sel_ev = {}\n",
    "metPhi = {}\n",
    "dphiMetXYCorr_cluster = {}\n",
    "evtNum = {}\n",
    "dtRechitCluster_match_RPCBx_dPhi0p5_mode = {}\n",
    "dtRechitClusterPhi = {}\n",
    "dtRechitClusterNStation10 = {}\n",
    "dtRechitClusterEta = {}\n",
    "dtRechitClusterPhi = {}\n",
    "dtRechitClusterAvgStation10 = {}\n",
    "dtRechitClusterMaxStation = {}\n",
    "dphiMet_cluster = {}\n",
    "dtRechitCluster_match_RPCBx_dR0p4_mode = {}\n",
    "dtClusterSize = {}\n",
    "dtRechitCluster_match_gParticle_Pt = {}\n",
    "dtRechitCluster_match_gParticle_Id = {}\n",
    "dtRechitClusterMuonVetoPt = {}\n",
    "dtRechitCluster_match_MB1hits_0p5 = {}\n",
    "dphiLep_cluster = {}\n",
    "keys = ['inverted_mb1', 'inverted_jet_id','oot','signal']\n",
    "keys = ['oot', 'signal','inverted_mb1']\n",
    "for k in keys:\n",
    "    T = tree['data']\n",
    "\n",
    "        \n",
    "########### SELECTION: CLUSTERS ############\n",
    "\n",
    "    sel_rechitcluster = np.logical_and( T.array('dtRechitClusterMuonVetoPt') < 10, T.array('dtRechitClusterJetVetoPt') < 20)\n",
    "\n",
    "    sel_rechitcluster = np.logical_and(sel_rechitcluster, T.array('dtRechitCluster_match_RPChits_dPhi0p5') > 0)\n",
    "    sel_rechitcluster = np.logical_and(sel_rechitcluster, T.array('dtRechitCluster_match_MB1hits_cosmics_minus') <= 8)\n",
    "    sel_rechitcluster = np.logical_and(sel_rechitcluster, T.array('dtRechitCluster_match_MB1hits_cosmics_plus') <= 8)\n",
    "    \n",
    "#     sel_rechitcluster = np.logical_and(sel_rechitcluster, T.array('dtRechitCluster_match_MB1hits_0p5') <= 1)\n",
    "\n",
    "\n",
    "    if 'inverted_mb1' in k:\n",
    "        sel_rechitcluster = np.logical_and(sel_rechitcluster, T.array('dtRechitCluster_match_MB1hits_0p5') > 1)\n",
    "#     else:\n",
    "#         sel_rechitcluster = np.logical_and(sel_rechitcluster, T.array('dtRechitCluster_match_MB1hits_0p5') <= 1)\n",
    "\n",
    "    if 'oot' in k:\n",
    "        sel_rechitcluster = np.logical_and(sel_rechitcluster, T.array('dtRechitCluster_match_RPCBx_dPhi0p5')<0) \n",
    "########### = SELECTION: LEPTON ############\n",
    "    \n",
    "    sel_ele = np.logical_and(T.array('lepPt') > 35, np.abs(T.array('lepEta'))<2.4)\n",
    "    sel_ele = np.logical_and(sel_ele, np.abs(T.array('lepPdgId')) == 11)\n",
    "    sel_ele = np.logical_and(sel_ele, np.abs(T.array('lepPassId')) == 1)\n",
    "########### SELECTION: EVENTS ############\n",
    "    # select only triggered events\n",
    "    sel_ev[k] = T.array('SingleEleTrigger')\n",
    "    sel_ev[k] = np.logical_and(sel_ev[k] ,sel_ele.sum()==1)\n",
    "    sel_ev[k] = np.logical_and(sel_ev[k] ,T.array('metEENoise')>=30)\n",
    "    \n",
    "    sel_ev[k]  = np.logical_and(sel_ev[k],sel_rechitcluster.sum() >= 1)\n",
    "    \n",
    "#     sel_ev[k] = np.logical_and(sel_ev[k],T.array('nDtStations25')<3)\n",
    "#     sel_ev[k] = np.logical_and(sel_ev[k],T.array('nDtWheels25')<3)\n",
    "#     sel_ev[k] = np.logical_and(sel_ev[k],np.abs(T.array('jetMet_dPhiMin'))>0.6)\n",
    "#     if 'HNL' in k: sel_ev[k] = np.logical_and(sel_ev[k] ,T.array('gLLP_dt')[:,0])\n",
    "\n",
    "    \n",
    "\n",
    "########### BRANCHES ############\n",
    "    print(k,np.count_nonzero(sel_ev[k]))\n",
    "   ##### event variables ##### \n",
    "\n",
    "        \n",
    "    dtRechitClusterPhi[k] = T.array('dtRechitClusterPhi')[sel_rechitcluster][sel_ev[k]][:,0].flatten()\n",
    "    dtRechitClusterNStation10[k] = T.array('dtRechitClusterNStation10')[sel_rechitcluster][sel_ev[k]][:,0].flatten()\n",
    "    dtRechitClusterEta[k] = T.array('dtRechitClusterEta')[sel_rechitcluster][sel_ev[k]][:,0].flatten()\n",
    "    dtRechitClusterPhi[k] = T.array('dtRechitClusterPhi')[sel_rechitcluster][sel_ev[k]][:,0].flatten()\n",
    "    dtRechitClusterAvgStation10[k] = T.array('dtRechitClusterAvgStation10')[sel_rechitcluster][sel_ev[k]][:,0].flatten()\n",
    "    dtRechitClusterMaxStation[k] = T.array('dtRechitClusterMaxStation')[sel_rechitcluster][sel_ev[k]][:,0].flatten()\n",
    "    dphiMet_cluster[k] = T.array('dtRechitClusterMetEENoise_dPhi')[sel_rechitcluster][sel_ev[k]][:,0].flatten()\n",
    "    dtClusterSize[k] =  T.array('dtRechitClusterSize')[sel_rechitcluster][sel_ev[k]][:,0].flatten()\n",
    "    dtRechitCluster_match_RPCBx_dPhi0p5_mode[k] =  T.array('dtRechitCluster_match_RPCBx_dPhi0p5')[sel_rechitcluster][sel_ev[k]][:,0].flatten()\n",
    "    metPhi[k]  = T.array('metPhiEENoise')[sel_ev[k]]\n",
    "    evtNum[k] = T.array('evtNum')[sel_ev[k]]\n",
    "    \n",
    "    dphiLep_cluster[k] = deltaPhi(T.array('lepPhi')[sel_ele][sel_ev[k]][:,0], dtRechitClusterPhi[k])\n",
    "\n",
    "\n",
    "    \n",
    "#     dtRechitCluster_match_gParticle_Id[k] = T.array('dtRechitCluster_match_gParticle_Id')[sel_rechitcluster][sel_ev[k]][:,0].flatten()\n",
    "#     dtRechitCluster_match_gParticle_Pt[k] = T.array('dtRechitCluster_match_gParticle_Pt')[sel_rechitcluster][sel_ev[k]][:,0].flatten()\n",
    "\n",
    "\n",
    "#     dtRechitClusterMuonVetoPt[k] = T.array('dtRechitClusterMuonVetoPt')[sel_rechitcluster][sel_ev[k]][:,0].flatten()\n",
    "\n",
    "    dtRechitCluster_match_MB1hits_0p5[k] = T.array('dtRechitCluster_match_MB1hits_0p5')[sel_rechitcluster][sel_ev[k]][:,0].flatten()\n",
    "\n",
    "\n",
    "\n"
   ]
  },
  {
   "cell_type": "markdown",
   "metadata": {},
   "source": [
    "# 2D distribution of dphi and Nrechits"
   ]
  },
  {
   "cell_type": "code",
   "execution_count": 120,
   "metadata": {},
   "outputs": [
    {
     "name": "stdout",
     "output_type": "stream",
     "text": [
      "0.002155780792236328\n"
     ]
    },
    {
     "name": "stderr",
     "output_type": "stream",
     "text": [
      "Warning in <TCanvas::Constructor>: Deleting canvas with same name: c\n",
      "Warning in <TROOT::Append>: Replacing existing TH1: h (Potential memory leak).\n"
     ]
    },
    {
     "data": {
      "image/png": "[encoded data removed]",
      "text/plain": [
       "<IPython.core.display.Image object>"
      ]
     },
     "metadata": {},
     "output_type": "display_data"
    }
   ],
   "source": [
    "# Plotting ndt\n",
    "start_t = time.time()\n",
    "c = rt.TCanvas('c','c', 1000, 800)\n",
    "\n",
    "for k in dphiMet_cluster.keys():\n",
    "    if not 'oot' in k:continue\n",
    "\n",
    "    h = create_TH2D(np.column_stack(( dtClusterSize[k], np.abs(dphiMet_cluster[k]))),\n",
    "                   axis_title = ['N_{rechits}','#Delta#phi (cluster,met)','Events'], binning=[25,50,200,25,0,3.2])\n",
    "    h.Draw('colz')\n",
    "    c.SetRightMargin(0.2)\n",
    "    c.SetLogz()\n",
    "    c.Draw()\n",
    "print(time.time()-start_t)"
   ]
  },
  {
   "cell_type": "markdown",
   "metadata": {},
   "source": [
    "# ABCD (Scan Nrechits)"
   ]
  },
  {
   "cell_type": "code",
   "execution_count": 5,
   "metadata": {},
   "outputs": [
    {
     "name": "stdout",
     "output_type": "stream",
     "text": [
      "[ 60  70  80  90 100 110 120 130 140 150 160 170 180 190 200 210]\n",
      "60 \t 107 \t 72 \t 53 \t 33 \t 35.66 \t 7.32 \t 0.29\n",
      "70 \t 149 \t 30 \t 69 \t 17 \t 13.89 \t 3.24 \t 0.55\n",
      "80 \t 165 \t 14 \t 81 \t 5 \t 6.87 \t 2.06 \t 0.67\n",
      "90 \t 174 \t 5 \t 84 \t 2 \t 2.41 \t 1.13 \t 0.34\n",
      "100 \t 179 \t 0 \t 86 \t 0 \t 0.0 \t 0.0 \t 0.0\n",
      "110 \t 179 \t 0 \t 86 \t 0 \t 0.0 \t 0.0 \t 0.0\n",
      "120 \t 179 \t 0 \t 86 \t 0 \t 0.0 \t 0.0 \t 0.0\n",
      "130 \t 179 \t 0 \t 86 \t 0 \t 0.0 \t 0.0 \t 0.0\n",
      "140 \t 179 \t 0 \t 86 \t 0 \t 0.0 \t 0.0 \t 0.0\n",
      "150 \t 179 \t 0 \t 86 \t 0 \t 0.0 \t 0.0 \t 0.0\n",
      "160 \t 179 \t 0 \t 86 \t 0 \t 0.0 \t 0.0 \t 0.0\n",
      "170 \t 179 \t 0 \t 86 \t 0 \t 0.0 \t 0.0 \t 0.0\n",
      "180 \t 179 \t 0 \t 86 \t 0 \t 0.0 \t 0.0 \t 0.0\n",
      "190 \t 179 \t 0 \t 86 \t 0 \t 0.0 \t 0.0 \t 0.0\n",
      "200 \t 179 \t 0 \t 86 \t 0 \t 0.0 \t 0.0 \t 0.0\n",
      "210 \t 179 \t 0 \t 86 \t 0 \t 0.0 \t 0.0 \t 0.0\n"
     ]
    }
   ],
   "source": [
    "a = {}\n",
    "b = {}\n",
    "c = {}\n",
    "d = {}\n",
    "cuts = np.arange(50,106,1)\n",
    "cuts = np.arange(60,220,10)\n",
    "# cuts =[100]\n",
    "# cuts = np.arange(90,150,1)\n",
    "n_ev = 5000\n",
    "\n",
    "##### A|B\n",
    "##### C|D(SR)\n",
    "# cuts = [90,95,100,104,105]\n",
    "print(cuts)\n",
    "bkg_dphiJet = []\n",
    "sig_dphiJet = []\n",
    "bkg_dphiCluster = []\n",
    "sig_dphiCluster = []\n",
    "# cuts = np.arange(130,150,5)\n",
    "for N_RECHIT_CUT in cuts:\n",
    "    for k in keys:\n",
    "#         if not 'mb1' in k : continue\n",
    "        if not 'oot' in k:continue\n",
    "        cond = dtRechitClusterMaxStation[k] > 0\n",
    "        if not 'inverted_mb1' in k:cond = np.logical_and(cond, dtRechitCluster_match_MB1hits_0p5[k]<=1)\n",
    "        if 'signal' in k: \n",
    "#             cond = np.logical_and(cond, dtClusterSize[k]<100)\n",
    "            cond = np.logical_and(cond, np.abs(dphiLep_cluster[k])<2)\n",
    "            cond = np.logical_and(cond, dtRechitCluster_match_RPCBx_dPhi0p5_mode[k]== 0)\n",
    "\n",
    "    \n",
    "\n",
    "#         cond = np.logical_and(cond, np.abs(dphiLep_cluster[k])>=1)\n",
    "#         cond = np.logical_and(cond, dtRechitCluster_match_RPCBx_dPhi0p5_mode[k]>=0)\n",
    "\n",
    "        var = np.abs(dphiMet_cluster[k][cond])\n",
    "        DPHI_CUT = 1.0\n",
    "        a[k] = np.count_nonzero(np.logical_and(dtClusterSize[k][cond]<N_RECHIT_CUT, var>=DPHI_CUT))\n",
    "        b[k] = np.count_nonzero(np.logical_and(dtClusterSize[k][cond]>=N_RECHIT_CUT, var>=DPHI_CUT))\n",
    "        c[k] = np.count_nonzero(np.logical_and(dtClusterSize[k][cond]<N_RECHIT_CUT, var<DPHI_CUT))\n",
    "        d[k] = np.count_nonzero(np.logical_and(dtClusterSize[k][cond]>=N_RECHIT_CUT, var<DPHI_CUT))\n",
    "        \n",
    "        \n",
    "#         print(N_RECHIT_CUT, a[k],b[k],c[k],d[k])\n",
    "#         print(evtNum[k][cond][np.logical_and(dtClusterSize[k][cond]>=N_RECHIT_CUT, var>=DPHI_CUT)])\n",
    "#         print(dtClusterSize[k][cond][np.logical_and(dtClusterSize[k][cond]>=N_RECHIT_CUT, var>=DPHI_CUT)])\n",
    "#         print(var[np.logical_and(dtClusterSize[k][cond]>=N_RECHIT_CUT, var>=DPHI_CUT)])\n",
    "        pred = c[k]*b[k]/a[k]\n",
    "        if a[k]==0 or b[k] == 0 or c[k] == 0:\n",
    "            print(N_RECHIT_CUT, '\\t',a[k],'\\t',b[k],'\\t',c[k],'\\t',d[k],'\\t', round(pred, 2), '\\t',\\\n",
    "              0.0, '\\t', 0.0)\n",
    "        else:\n",
    "            unc_pred = (1./c[k] + 1./b[k] + 1./a[k])**0.5*(pred)\n",
    "            if math.isnan(unc_pred): z_value = float(\"nan\")\n",
    "            else:\n",
    "                mu = np.random.normal(pred, unc_pred, n_ev)\n",
    "                p_value = 0.0\n",
    "                for i in mu:\n",
    "                    if i < 0:continue\n",
    "                    n = np.random.poisson(i, n_ev)\n",
    "                    p_value += np.count_nonzero(n>=d[k])\n",
    "\n",
    "                p_value = p_value/n_ev**2\n",
    "                z_value = abs(norm.ppf(p_value))\n",
    "            print(N_RECHIT_CUT, '\\t',a[k],'\\t',b[k],'\\t',c[k],'\\t',d[k],'\\t', round(pred, 2), '\\t',\\\n",
    "                  round( (1./c[k] + 1./b[k] + 1./a[k])**0.5*(pred), 2), '\\t', round(z_value,2))\n",
    "\n"
   ]
  },
  {
   "cell_type": "markdown",
   "metadata": {},
   "source": [
    "# ABCD (Scan dPhi)"
   ]
  },
  {
   "cell_type": "code",
   "execution_count": 7,
   "metadata": {},
   "outputs": [
    {
     "name": "stdout",
     "output_type": "stream",
     "text": [
      "[0.4 0.5 0.6 0.7 0.8 0.9 1.  1.1 1.2 1.3 1.4 1.5 1.6 1.7 1.8 1.9 2. ]\n",
      "0.4 \t 211 \t 18 \t 35 \t 1 \t 2.99 \t 0.89 \t 1.45\n",
      "0.5 \t 203 \t 17 \t 43 \t 2 \t 3.6 \t 1.06 \t 0.97\n",
      "0.6 \t 197 \t 17 \t 49 \t 2 \t 4.23 \t 1.23 \t 1.21\n",
      "0.7 \t 189 \t 16 \t 57 \t 3 \t 4.83 \t 1.41 \t 0.86\n",
      "0.8 \t 182 \t 15 \t 64 \t 4 \t 5.27 \t 1.56 \t 0.58\n",
      "0.9 \t 172 \t 14 \t 74 \t 5 \t 6.02 \t 1.81 \t 0.42\n",
      "1.0 \t 165 \t 14 \t 81 \t 5 \t 6.87 \t 2.06 \t 0.64\n",
      "1.1 \t 161 \t 13 \t 85 \t 6 \t 6.86 \t 2.11 \t 0.33\n",
      "1.2 \t 152 \t 12 \t 94 \t 7 \t 7.42 \t 2.35 \t 0.16\n",
      "1.3 \t 146 \t 12 \t 100 \t 7 \t 8.22 \t 2.6 \t 0.36\n",
      "1.4 \t 141 \t 12 \t 105 \t 7 \t 8.94 \t 2.83 \t 0.53\n",
      "1.5 \t 131 \t 11 \t 115 \t 8 \t 9.66 \t 3.16 \t 0.44\n",
      "1.6 \t 123 \t 11 \t 123 \t 8 \t 11.0 \t 3.6 \t 0.69\n",
      "1.7 \t 110 \t 11 \t 136 \t 8 \t 13.6 \t 4.46 \t 1.08\n",
      "1.8 \t 97 \t 11 \t 149 \t 8 \t 16.9 \t 5.55 \t 1.41\n",
      "1.9 \t 87 \t 10 \t 159 \t 9 \t 18.28 \t 6.27 \t 1.32\n",
      "2.0 \t 81 \t 10 \t 165 \t 9 \t 20.37 \t 7.01 \t 1.51\n"
     ]
    }
   ],
   "source": [
    "a = {}\n",
    "b = {}\n",
    "c = {}\n",
    "d = {}\n",
    "cuts = np.arange(0.4, 2.1, 0.1)\n",
    "\n",
    "print(cuts)\n",
    "N_RECHIT_CUT = 80\n",
    "\n",
    "n_ev = 5000\n",
    "\n",
    "##### A|B\n",
    "##### C|D(SR)\n",
    "\n",
    "# cuts = np.arange(130,150,5)\n",
    "for DPHI_CUT in cuts:\n",
    "    for k in keys:\n",
    "        if not 'oot' in k:continue\n",
    "        cond = dtRechitClusterMaxStation[k] > 0\n",
    "        cond = np.logical_and(cond, dtRechitCluster_match_MB1hits_0p5[k]<=1)\n",
    "        if 'signal' in k: \n",
    "#             cond = np.logical_and(cond, dtClusterSize[k]<100)\n",
    "            cond = np.logical_and(cond, np.abs(dphiLep_cluster[k])<2)\n",
    "#         cond = np.logical_and(cond, np.abs(dphiLep_cluster[k])>=1)\n",
    "\n",
    "        var = np.abs(dphiMet_cluster[k][cond])\n",
    "\n",
    "        a[k] = np.count_nonzero(np.logical_and(dtClusterSize[k][cond]<N_RECHIT_CUT, var>=DPHI_CUT))\n",
    "        b[k] = np.count_nonzero(np.logical_and(dtClusterSize[k][cond]>=N_RECHIT_CUT, var>=DPHI_CUT))\n",
    "        c[k] = np.count_nonzero(np.logical_and(dtClusterSize[k][cond]<N_RECHIT_CUT, var<DPHI_CUT))\n",
    "        d[k] = np.count_nonzero(np.logical_and(dtClusterSize[k][cond]>=N_RECHIT_CUT, var<DPHI_CUT))\n",
    "#         print(a[k],b[k],c[k],d[k])\n",
    "        pred = c[k]*b[k]/a[k]\n",
    "        if a[k]==0 or b[k] == 0 or c[k] == 0:\n",
    "            print(round(DPHI_CUT,1), '\\t',a[k],'\\t',b[k],'\\t',c[k],'\\t',d[k],'\\t', round(pred, 2), '\\t',\\\n",
    "              0.0, '\\t', 0.0)\n",
    "        else:\n",
    "            unc_pred = (1./c[k] + 1./b[k] + 1./a[k])**0.5*(pred)\n",
    "            if math.isnan(unc_pred): z_value = float(\"nan\")\n",
    "            else:\n",
    "                mu = np.random.normal(pred, unc_pred, n_ev)\n",
    "                p_value = 0.0\n",
    "                for i in mu:\n",
    "                    if i < 0:continue\n",
    "                    n = np.random.poisson(i, n_ev)\n",
    "                    p_value += np.count_nonzero(n>=d[k])\n",
    "\n",
    "                p_value = p_value/n_ev**2\n",
    "                z_value = abs(norm.ppf(p_value))\n",
    "            print(round(DPHI_CUT,1), '\\t',a[k],'\\t',b[k],'\\t',c[k],'\\t',d[k],'\\t', round(pred, 2), '\\t',\\\n",
    "                  round( (1./c[k] + 1./b[k] + 1./a[k])**0.5*(pred), 2), '\\t', round(z_value,2))"
   ]
  },
  {
   "cell_type": "markdown",
   "metadata": {},
   "source": [
    "## Distribution for variables in different Nrechit bins"
   ]
  },
  {
   "cell_type": "code",
   "execution_count": 143,
   "metadata": {},
   "outputs": [
    {
     "name": "stdout",
     "output_type": "stream",
     "text": [
      "15\n",
      " FCN=6.46866e-30 FROM MIGRAD    STATUS=CONVERGED      28 CALLS          29 TOTAL\n",
      "                     EDM=2.52669e-21    STRATEGY= 1      ERROR MATRIX ACCURATE \n",
      "  EXT PARAMETER                                   STEP         FIRST   \n",
      "  NO.   NAME      VALUE            ERROR          SIZE      DERIVATIVE \n",
      "   1  Constant     5.42175e+00   2.77273e+00   0.00000e+00   3.81489e-10\n",
      "   2  Slope       -5.54518e-02   4.56767e-02  -0.00000e+00   2.34973e-08\n"
     ]
    },
    {
     "name": "stderr",
     "output_type": "stream",
     "text": [
      "Warning in <TCanvas::Constructor>: Deleting canvas with same name: c\n"
     ]
    },
    {
     "data": {
      "image/png": "[encoded data removed]",
      "text/plain": [
       "<IPython.core.display.Image object>"
      ]
     },
     "metadata": {},
     "output_type": "display_data"
    }
   ],
   "source": [
    "import importlib\n",
    "importlib.reload(sys.modules['histo_utilities'])\n",
    "from histo_utilities import create_TH1D, create_TH2D, std_color_list, create_TGraph, make_ratio_plot\n",
    "\n",
    "\n",
    "# Plotting ndt\n",
    "start_t = time.time()\n",
    "\n",
    "\n",
    "br = 1\n",
    "k = 'signal'\n",
    "time_cut = 0\n",
    "name = 'N_{rechits}'\n",
    "# cuts = [50, 60,80, 2000]\n",
    "cuts = [50,2000]\n",
    "# cuts = [50,2000]\n",
    "\n",
    "var = [dtRechitClusterPhi, metPhi, dphiMet_cluster, dtClusterSize, dtRechitClusterMaxStation]\n",
    "varName = ['dtRechitClusterPhi', 'metPhi', 'dphiMet_cluster', 'dtClusterSize','dtRechitClusterMaxStation']\n",
    "xaxis = ['cluster #phi', 'MET #phi', '#Delta #phi(cluster,met)', 'N_{rechits}','max station']\n",
    "bins = [[15,-3.2,3.2], [15,-3.2,3.2], [15,0,3.2],[12,50,200],[5,0,5]]\n",
    "cat = [dtRechitClusterMaxStation[k]>=0, dtRechitClusterMaxStation[k]>=2, dtRechitClusterMaxStation[k]==2, dtRechitClusterMaxStation[k]>2]\n",
    "cat_name = ['all', 'mb234', 'mb2','mb34']\n",
    "for j,v in enumerate(var):\n",
    "    if not j ==3:continue\n",
    "    for l in range(len(cat)):\n",
    "        if not l == 0:continue\n",
    "        leg = rt.TLegend(0.6,0.77,0.90,0.92)\n",
    "\n",
    "        leg.SetTextSize(0.03)\n",
    "        leg.SetBorderSize(0)\n",
    "        leg.SetEntrySeparation(0.01)\n",
    "        c = rt.TCanvas('c','c', 800, 800)\n",
    "\n",
    "        h = {}\n",
    "        rt.gStyle.SetOptFit(1011)\n",
    "        maxb = 0\n",
    "        for i,cut in enumerate(cuts):\n",
    "            \n",
    "            metcut = 200\n",
    "            if i == 0:\n",
    "                previous_cut = cut\n",
    "\n",
    "                continue\n",
    "                cond = dtClusterSize[k] <= cut\n",
    "        #         cond = angle[k]<=cut\n",
    "            else:\n",
    "                cond = np.logical_and(dtClusterSize[k] < cut, dtClusterSize[k] >= previous_cut)\n",
    "            cond = np.logical_and(cond, cat[l])\n",
    "            if 'signal' in k: \n",
    "                cond = np.logical_and(cond, np.abs(dphiLep_cluster[k])<2)\n",
    "#                 cond = np.logical_and(cond, dtRechitCluster_match_RPCBx_dPhi0p5_mode[k]== 0)\n",
    "\n",
    "            if 'oot' in k:\n",
    "                cond = np.logical_and(cond, np.abs(dphiLep_cluster[k])>=1)\n",
    "\n",
    "# #                 cond = np.logical_and(cond, dtClusterSize[k]<=100)\n",
    "            if not 'inverted_mb1' in k:cond = np.logical_and(cond, dtRechitCluster_match_MB1hits_0p5[k]<=1)\n",
    "            cond = np.logical_and(cond, np.abs(dphiMet_cluster[k])<1)\n",
    "\n",
    "\n",
    "\n",
    "\n",
    "            h[str(i)] = create_TH1D( np.abs(v[k][cond]), axis_title=[xaxis[j], 'Events'], name=k, binning=bins[j])\n",
    "            print(np.count_nonzero(cond))\n",
    "            leg.AddEntry(h[str(i)], name+\" [%(first)d,%(second)d)\"%{\"first\":previous_cut,\"second\":cut})\n",
    "\n",
    "            previous_cut = cut\n",
    "\n",
    "            \n",
    "            \n",
    "            h[str(i)].Fit('expo', \"\",\"\",50,200)\n",
    "    #         h[str(i)].SetMinimum(100)\n",
    "\n",
    "#             if h[str(i)].Integral()>0:h[str(i)].Scale(1/h[str(i)].Integral())\n",
    "#             h[str(i)].SetMaximum(5)\n",
    "#             h[str(i)].SetMinimum(0.001)\n",
    "            h[str(i)].GetXaxis().SetLabelSize(0.04)\n",
    "            h[str(i)].SetLineColor(std_color_list[i-1])\n",
    "            h[str(i)].Draw('same E1')\n",
    "\n",
    "\n",
    "        c.SetRightMargin(0)\n",
    "        c.SetLogy()\n",
    "#         leg.Draw()\n",
    "#         if time_cut:\n",
    "#             c.SaveAs('/storage/af/user/christiw/gpu/christiw/llp/delayed_jet_analyzer/plots/MuonSystem_Analysis/dt/'+k+'_intime/'+varName[j]+'_'+cat_name[l]+'.png')\n",
    "#             c.SaveAs('/storage/af/user/christiw/gpu/christiw/llp/delayed_jet_analyzer/plots/MuonSystem_Analysis/dt/'+k+'_intime/'+varName[j]+'_'+cat_name[l]+'.C')\n",
    "#             c.SaveAs('/storage/af/user/christiw/gpu/christiw/llp/delayed_jet_analyzer/plots/MuonSystem_Analysis/dt/'+k+'_intime/'+varName[j]+'_'+cat_name[l]+'.pdf')\n",
    "#         else:\n",
    "#             c.SaveAs('/storage/af/user/christiw/gpu/christiw/llp/delayed_jet_analyzer/plots/MuonSystem_Analysis/dt/'+k+'/'+varName[j]+'_'+cat_name[l]+'.png')\n",
    "#             c.SaveAs('/storage/af/user/christiw/gpu/christiw/llp/delayed_jet_analyzer/plots/MuonSystem_Analysis/dt/'+k+'/'+varName[j]+'_'+cat_name[l]+'.C')\n",
    "#             c.SaveAs('/storage/af/user/christiw/gpu/christiw/llp/delayed_jet_analyzer/plots/MuonSystem_Analysis/dt/'+k+'/'+varName[j]+'_'+cat_name[l]+'.pdf')\n",
    "        c.Draw()\n",
    "# print(time.time()-start_t)"
   ]
  },
  {
   "cell_type": "code",
   "execution_count": 133,
   "metadata": {},
   "outputs": [
    {
     "data": {
      "text/plain": [
       "0.15306122448979592"
      ]
     },
     "execution_count": 133,
     "metadata": {},
     "output_type": "execute_result"
    }
   ],
   "source": [
    "15./98"
   ]
  },
  {
   "cell_type": "code",
   "execution_count": 134,
   "metadata": {},
   "outputs": [
    {
     "data": {
      "text/plain": [
       "0.3184713375796178"
      ]
     },
     "execution_count": 134,
     "metadata": {},
     "output_type": "execute_result"
    }
   ],
   "source": [
    "1/3.14"
   ]
  },
  {
   "cell_type": "markdown",
   "metadata": {},
   "source": [
    "# time distribution"
   ]
  },
  {
   "cell_type": "code",
   "execution_count": 242,
   "metadata": {},
   "outputs": [
    {
     "name": "stdout",
     "output_type": "stream",
     "text": [
      "353\n",
      "353\n"
     ]
    },
    {
     "name": "stderr",
     "output_type": "stream",
     "text": [
      "Warning in <TCanvas::Constructor>: Deleting canvas with same name: c\n",
      "Warning in <TROOT::Append>: Replacing existing TH1: h (Potential memory leak).\n"
     ]
    },
    {
     "data": {
      "image/png": "[encoded data removed]",
      "text/plain": [
       "<IPython.core.display.Image object>"
      ]
     },
     "metadata": {},
     "output_type": "display_data"
    }
   ],
   "source": [
    "import importlib\n",
    "importlib.reload(sys.modules['histo_utilities'])\n",
    "from histo_utilities import create_TH1D, create_TH2D, std_color_list, create_TGraph, make_ratio_plot\n",
    "\n",
    "k = 'signal'\n",
    "\n",
    "name = '\\Delta \\Phi (jet,met)'\n",
    "name = 'N_{rechits}'\n",
    "\n",
    "\n",
    "\n",
    "\n",
    "\n",
    "leg = rt.TLegend(0.6,0.77,0.90,0.92)\n",
    "\n",
    "leg.SetTextSize(0.03)\n",
    "leg.SetBorderSize(0)\n",
    "leg.SetEntrySeparation(0.01)\n",
    "c = rt.TCanvas('c','c', 800, 800)\n",
    "\n",
    "rt.gStyle.SetOptFit(1011)\n",
    "k = 'signal'\n",
    "cond = dtRechitClusterMaxStation[k]>=0\n",
    "print(len(cond))\n",
    "# cond = dtRechitClusterMaxStation[k] == 4\n",
    "print(len(dtRechitCluster_match_RPCBx_dPhi0p5_mode[k]))\n",
    "h = create_TH1D( np.concatenate(dtRechitCluster_match_RPCBx_dPhi0p5_mode[k]).ravel()[cond], axis_title=['time', 'Events'], name='h', binning=[10,-5,5])\n",
    "#     h.SetMinimum(0)\n",
    "#     h.SetMaximum(600)\n",
    "h.Scale(1./h.Integral())\n",
    "h.SetMaximum(1.0)\n",
    "h.Draw('  e1')\n",
    "\n",
    "\n",
    "c.SetRightMargin(0.02)\n",
    "# c.SaveAs('/storage/af/user/christiw/gpu/christiw/llp/delayed_jet_analyzer/plots/MuonSystem_Analysis/dt/mb1_inverted_vr/'+varName[i]+'_'+str(data_year)+'.png')\n",
    "# c.SaveAs('/storage/af/user/christiw/gpu/christiw/llp/delayed_jet_analyzer/plots/MuonSystem_Analysis/dt/mb1_inverted_vr/'+varName[i]+'_'+str(data_year)+'.C')\n",
    "\n",
    "c.Draw()\n"
   ]
  },
  {
   "cell_type": "code",
   "execution_count": 53,
   "metadata": {},
   "outputs": [
    {
     "data": {
      "text/plain": [
       "array([array([0.], dtype=float32), array([0.], dtype=float32),\n",
       "       array([2.], dtype=float32), ..., array([0.], dtype=float32),\n",
       "       array([0.], dtype=float32), array([], dtype=float64)], dtype=object)"
      ]
     },
     "execution_count": 53,
     "metadata": {},
     "output_type": "execute_result"
    }
   ],
   "source": [
    "dtRechitCluster_match_RPCBx_dPhi0p5_mode[k]"
   ]
  },
  {
   "cell_type": "markdown",
   "metadata": {},
   "source": [
    "# distribution"
   ]
  },
  {
   "cell_type": "code",
   "execution_count": 262,
   "metadata": {},
   "outputs": [
    {
     "name": "stdout",
     "output_type": "stream",
     "text": [
      "dict_keys(['oot', 'signal', 'inverted_mb1'])\n",
      "24\n"
     ]
    },
    {
     "name": "stderr",
     "output_type": "stream",
     "text": [
      "Warning in <TCanvas::Constructor>: Deleting canvas with same name: c\n"
     ]
    },
    {
     "data": {
      "image/png": "[encoded data removed]",
      "text/plain": [
       "<IPython.core.display.Image object>"
      ]
     },
     "metadata": {},
     "output_type": "display_data"
    }
   ],
   "source": [
    "import importlib\n",
    "importlib.reload(sys.modules['histo_utilities'])\n",
    "from histo_utilities import create_TH1D, create_TH2D, std_color_list, create_TGraph, make_ratio_plot\n",
    "\n",
    "k = 'oot'\n",
    "name = '\\Delta \\Phi (jet,met)'\n",
    "name = 'N_{rechits}'\n",
    "\n",
    "var = [dtRechitClusterPhi, metPhi, dphiMet_cluster, dtRechitClusterNStation10, dtRechitClusterEta, dtRechitClusterAvgStation10]\n",
    "varName = ['dtRechitClusterPhi', 'metPhi', 'dphiMet_cluster','nstation', 'clusterEta', 'clusterAvgStation']\n",
    "xaxis = ['cluster #phi', 'MET #phi', '#Delta #phi(cluster,met)', 'n_{station}', 'cluster #eta', 'cluster avg station']\n",
    "bins = [[20,-3.2,3.2], [20,-3.2,3.2], [10,0,3.2],[5,0,5], [50,-2,2], [50,0,5]]\n",
    "for i, v in enumerate(var):\n",
    "    if not i == 4:continue\n",
    "    leg = rt.TLegend(0.7,0.79,0.90,0.92)\n",
    "\n",
    "    leg.SetTextSize(0.03)\n",
    "    leg.SetBorderSize(0)\n",
    "    leg.SetEntrySeparation(0.01)\n",
    "    c = rt.TCanvas('c','c', 800, 800)\n",
    "    rt.gStyle.SetOptFit(1011)\n",
    "    print(dtRechitClusterAvgStation10.keys())\n",
    "\n",
    "    h = {}\n",
    "    for j, k in enumerate(['inverted_mb1']):\n",
    "        print(len(v[k]))\n",
    "        cond = dtRechitClusterMaxStation[k] >= 0\n",
    "        if i == 2:\n",
    "            h[k] = create_TH1D( np.abs(v[k][cond]), axis_title=[xaxis[i], 'Events'], name='h', binning=bins[i])\n",
    "        else:\n",
    "            h[k] = create_TH1D( v[k][cond], axis_title=[xaxis[i], 'Events'], name='h', binning=bins[i])\n",
    "        h[k].SetLineColor(std_color_list[j])\n",
    "        h[k].Scale(1./h[k].Integral())\n",
    "        h[k].SetMaximum(1)\n",
    "        if k == 'signal':leg.AddEntry(h[k],'intime')\n",
    "        else:leg.AddEntry(h[k],k)\n",
    "        h[k].Draw('same hist')\n",
    "\n",
    "#     leg.Draw()\n",
    "    c.SetRightMargin(0)\n",
    "    c.SetLogy()\n",
    "#     if len(jetpt)>0:\n",
    "#         c.SaveAs('/storage/user/christiw/gpu/christiw/llp/delayed_jet_analyzer/plots/MuonSystem_Analysis/punchThrough/'+varName[i]+'_jetpt.png')\n",
    "#         c.SaveAs('/storage/user/christiw/gpu/christiw/llp/delayed_jet_analyzer/plots/MuonSystem_Analysis/punchThrough/'+varName[i]+'_jetpt.C')\n",
    "#     else:\n",
    "#         c.SaveAs('/storage/user/christiw/gpu/christiw/llp/delayed_jet_analyzer/plots/MuonSystem_Analysis/punchThrough/'+varName[i]+'.png')\n",
    "#         c.SaveAs('/storage/user/christiw/gpu/christiw/llp/delayed_jet_analyzer/plots/MuonSystem_Analysis/punchThrough/'+varName[i]+'.C')        \n",
    "    c.Draw()\n",
    "\n"
   ]
  }
 ],
 "metadata": {
  "kernelspec": {
   "display_name": "Python 3",
   "language": "python",
   "name": "python3"
  },
  "language_info": {
   "codemirror_mode": {
    "name": "ipython",
    "version": 3
   },
   "file_extension": ".py",
   "mimetype": "text/x-python",
   "name": "python",
   "nbconvert_exporter": "python",
   "pygments_lexer": "ipython3",
   "version": "3.6.8"
  }
 },
 "nbformat": 4,
 "nbformat_minor": 4
}
