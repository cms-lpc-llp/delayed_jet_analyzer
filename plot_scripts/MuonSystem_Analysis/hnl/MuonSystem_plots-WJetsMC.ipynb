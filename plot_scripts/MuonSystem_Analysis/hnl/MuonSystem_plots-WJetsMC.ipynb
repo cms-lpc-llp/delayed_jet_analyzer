{
 "cells": [
  {
   "cell_type": "code",
   "execution_count": 68,
   "metadata": {},
   "outputs": [
    {
     "name": "stdout",
     "output_type": "stream",
     "text": [
      "3.6.8 (default, Aug  7 2019, 17:28:10) \n",
      "[GCC 4.8.5 20150623 (Red Hat 4.8.5-39)]\n"
     ]
    }
   ],
   "source": [
    "### script to check the normalization between WJets MC and data\n",
    "\n",
    "import ROOT as rt\n",
    "# import root_numpy as rtnp\n",
    "import csv\n",
    "import re\n",
    "import sys\n",
    "import collections\n",
    "\n",
    "from collections import OrderedDict\n",
    "import uproot\n",
    "import pandas as pd\n",
    "import os\n",
    "import scipy\n",
    "import awkward\n",
    "import numpy as np\n",
    "import time\n",
    "import numba\n",
    "from numba import jit\n",
    "from matplotlib import pyplot as plt\n",
    "sys.path.append(os.getenv('HOME')+'/gpu/christiw/llp/delayed_jet_analyzer/lib/')\n",
    "from histo_utilities import create_TH1D, create_TH2D, std_color_list, create_TGraph, make_ratio_plot\n",
    "\n",
    "import CMS_lumi, tdrstyle\n",
    "a = tdrstyle.setTDRStyle()\n",
    "CMS_lumi.writeExtraText = 0\n",
    "\n",
    "wH = 1\n",
    "Z_MASS = 91.2\n",
    "\n",
    "\n",
    "# donotdelete = []\n",
    "print(sys.version)"
   ]
  },
  {
   "cell_type": "markdown",
   "metadata": {},
   "source": [
    "# Load ntuples"
   ]
  },
  {
   "cell_type": "code",
   "execution_count": 69,
   "metadata": {},
   "outputs": [
    {
     "name": "stdout",
     "output_type": "stream",
     "text": [
      "data /storage/af/group/phys_exotica/delayedjets/HNL/displacedJetMuonAnalyzer/V1p17/Data2018/v5/v1/normalized/Run2_displacedJetMuonNtupler_V1p17_Data2018_17Sept2018_AOD_Run2018A-17Sep2018_merged_goodLumi.root\n",
      "NEvents 22403660.0 21576102.0\n",
      "WJetsToLNu /storage/af/group/phys_exotica/delayedjets/HNL/displacedJetMuonAnalyzer/V1p17/MC_Fall18/v1/v1/normalized/WJetsToLNu_TuneCP5_13TeV-madgraphMLM-pythia8_137000pb_weighted.root\n",
      "NEvents 36333430.0 7671851000.0\n"
     ]
    }
   ],
   "source": [
    "fpath_bkg =OrderedDict()\n",
    "tree_bkg = OrderedDict()\n",
    "tree_sig = OrderedDict()\n",
    "fpath_sig =OrderedDict()\n",
    "\n",
    "\n",
    "start_t = time.time()\n",
    "\n",
    "# with ncluster>0 selection\n",
    "path = '/storage/af/group/phys_exotica/delayedjets/HNL/skim/'\n",
    "fpath_bkg['data'] = path+ 'EGamma_2018A.root'\n",
    "fpath_bkg['WJetsToLNu'] = path  + 'WJetsToLNu_1pb_weighted.root'\n",
    "\n",
    "# no selection at all, only event-level variables stored\n",
    "path = '/storage/af/group/phys_exotica/delayedjets/HNL/displacedJetMuonAnalyzer/V1p17/'\n",
    "fpath_bkg['data'] = path+ 'Data2018/v5/v1/normalized/Run2_displacedJetMuonNtupler_V1p17_Data2018_17Sept2018_AOD_Run2018A-17Sep2018_merged_goodLumi.root'\n",
    "fpath_bkg['WJetsToLNu'] = path  + 'MC_Fall18/v1/v1/normalized/WJetsToLNu_TuneCP5_13TeV-madgraphMLM-pythia8_137000pb_weighted.root'\n",
    "\n",
    "\n",
    "NEvents = {}\n",
    "Total = {}\n",
    "accep = {}\n",
    "acc_met = {}\n",
    "for k,v in fpath_bkg.items():\n",
    "    print (k, v)\n",
    "    root_dir = uproot.open(v) \n",
    "    tree_bkg[k] = root_dir['MuonSystem']\n",
    "    NEvents[k] = root_dir['NEvents'][1]\n",
    "    a = tree_bkg[k][\"weight\"].array()\n",
    "    print(\"NEvents\",NEvents[k],np.sum(a))\n"
   ]
  },
  {
   "cell_type": "markdown",
   "metadata": {},
   "source": [
    "### load Wpt weights"
   ]
  },
  {
   "cell_type": "code",
   "execution_count": 70,
   "metadata": {},
   "outputs": [],
   "source": [
    "path = os.getenv('HOME')+'/login-1/christiw/LLP/CMSSW_9_4_4/src/llp_analyzer/data/WPtWeights/'\n",
    "target = uproot.open(path + 'wp-13tev-cms.root')['s_qt']\n",
    "source = uproot.open(path + 'WPT.root')['Wpt']\n",
    "  \n"
   ]
  },
  {
   "cell_type": "markdown",
   "metadata": {},
   "source": [
    "### load branches"
   ]
  },
  {
   "cell_type": "code",
   "execution_count": 122,
   "metadata": {},
   "outputs": [
    {
     "name": "stdout",
     "output_type": "stream",
     "text": [
      "data \t 2467984.0\n",
      "WJetsToLNu \t 1925223.8315912408\n",
      "WJetsToLNu \t 2020422.812174888\n"
     ]
    }
   ],
   "source": [
    "\n",
    "sel_ev = {}\n",
    "weight = {}\n",
    "weight_evt = {}\n",
    "gWPt = {}\n",
    "gWPtWeight = {}\n",
    "met = {}\n",
    "nCscRechitClusters3 = {}\n",
    "nDtRechitClusters = {}\n",
    "lepPt = {}\n",
    "lepEta = {}\n",
    "lepPhi = {}\n",
    "weight_clusterEffCsc = {}\n",
    "weight_clusterEffDt = {}\n",
    "for k,T in tree_bkg.items():\n",
    "    \n",
    "########### SELECTION: LEPTON ############\n",
    "    \n",
    "    sel_ele = np.logical_and(T.array('lepPt') > 35, np.abs(T.array('lepEta'))<2.4)\n",
    "    sel_ele = np.logical_and(sel_ele, np.abs(T.array('lepPdgId')) == 11)\n",
    "    sel_ele = np.logical_and(sel_ele, np.abs(T.array('lepPassId')) == 1)\n",
    "########### SELECTION: EVENTS ############\n",
    "    # select only triggered events\n",
    "    sel_ev[k] = T.array('SingleEleTrigger')\n",
    "    sel_ev[k] = np.logical_and(sel_ev[k] ,sel_ele.sum()>=1)\n",
    "    sel_ev[k] = np.logical_and(sel_ev[k] ,T.array('metEENoise')>=30)\n",
    "    \n",
    "    sel_ev[k] = np.logical_and(sel_ev[k],T.array('Flag2_all'))\n",
    "#     sel_ev[k] = np.logical_and(sel_ev[k],T.array('nCscRechitClusters3')>0)\n",
    "\n",
    "\n",
    "#     sel_ev[k] = np.logical_and(sel_ev[k],T.array('nDtStations25')<3)\n",
    "#     sel_ev[k] = np.logical_and(sel_ev[k],T.array('nDtWheels25')<3)\n",
    "#     sel_ev[k]  = np.logical_and(sel_ev[k],sel_rechitcluster.sum() >= 1)\n",
    "#     sel_ev[k] = np.logical_and(sel_ev[k],np.abs(T.array('jetMet_dPhiMin'))>0.6)\n",
    "#     sel_ev[k] = np.sum(T.array('gLLP_dt'),axis = 1) >= 1\n",
    "    \n",
    "########### BRANCHES ############\n",
    "\n",
    "   ##### event variables ##### \n",
    "    \n",
    "    gWPt[k] = T.array('gWPt')\n",
    "    if 'data' in k:\n",
    "        weight[k] = T.array('weight')[sel_ev[k]]*0.0 + 1\n",
    "        weight_clusterEffCsc[k] = T.array('weight')[sel_ev[k]]*0.0 + 1\n",
    "        weight_clusterEffDt[k] = T.array('weight')[sel_ev[k]]*0.0 + 1\n",
    "    else:\n",
    "        weight[k] = (T.array('weight')*T.array('pileupWeight'))[sel_ev[k]]\n",
    "        # correction of mismodelling of cluster efficiency, numbers are taken from ratio of events with 1 cluster/0 cluster bin\n",
    "        weight_clusterEffDt[k] = 4.6**(T.array('nDtRechitClusters'))[sel_ev[k]]\n",
    "        weight_clusterEffCsc[k] = 1.24**(T.array('nCscRechitClusters3'))[sel_ev[k]]\n",
    "\n",
    "    gWPtWeight[k] = target.values[np.argmax(target.edges>gWPt[k][:,None],axis=1)-1]/11178549.542718 # integral\n",
    "    gWPtWeight[k] /= source.values[np.argmax(source.edges>gWPt[k][:,None],axis=1)-1]\n",
    "    gWPtWeight[k] = gWPtWeight[k][sel_ev[k]]\n",
    "    if 'data' in k: print(k, '\\t', np.sum(weight[k]))\n",
    "    else:\n",
    "        print(k, '\\t', np.sum(weight[k])/137000*939)\n",
    "        print(k, '\\t', np.sum(weight[k]*gWPtWeight[k])/137000*939)\n",
    "    met[k] = T.array('metEENoise')[sel_ev[k]]\n",
    "    nCscRechitClusters3[k] = T.array('nCscRechitClusters3')[sel_ev[k]]\n",
    "    nDtRechitClusters[k] = T.array('nDtRechitClusters')[sel_ev[k]]\n",
    "    lepPt[k] = T.array('lepPt')[sel_ele][sel_ev[k]][:,0]\n",
    "    lepEta[k] = T.array('lepEta')[sel_ele][sel_ev[k]][:,0]\n",
    "    lepPhi[k] = T.array('lepPhi')[sel_ele][sel_ev[k]][:,0]\n"
   ]
  },
  {
   "cell_type": "markdown",
   "metadata": {},
   "source": [
    "# plot gWPt"
   ]
  },
  {
   "cell_type": "code",
   "execution_count": 49,
   "metadata": {},
   "outputs": [
    {
     "name": "stdout",
     "output_type": "stream",
     "text": [
      "[   0.    5.   10.   15.   20.   25.   30.   35.   40.   45.   50.   60.\n",
      "   70.   80.   90.  100.  125.  150.  200.  300.  800. 1500.]\n",
      "11178549.542717662\n"
     ]
    },
    {
     "name": "stderr",
     "output_type": "stream",
     "text": [
      "Warning in <TCanvas::Constructor>: Deleting canvas with same name: c\n"
     ]
    },
    {
     "data": {
      "image/png": "[encoded data removed]",
      "text/plain": [
       "<IPython.core.display.Image object>"
      ]
     },
     "metadata": {},
     "output_type": "display_data"
    }
   ],
   "source": [
    "# Check WPT reweighting is done correctly\n",
    "\n",
    "\n",
    "import importlib\n",
    "importlib.reload(sys.modules['histo_utilities'])\n",
    "from histo_utilities import create_TH1D, create_TH2D, std_color_list, create_TGraph, make_ratio_plot\n",
    "\n",
    "\n",
    "c = rt.TCanvas('c','c', 800, 800)\n",
    "rt.gStyle.SetOptStat(0)\n",
    "path = os.getenv('HOME')+'/login-1/christiw/LLP/CMSSW_9_4_4/src/llp_analyzer/data/WPtWeights/'\n",
    "target_file = rt.TFile.Open(path + 'wp-13tev-cms.root', 'READ')\n",
    "target_hist = target_file.Get('s_qt')\n",
    "\n",
    "source_file = rt.TFile.Open(path + 'WPT.root', 'READ')\n",
    "source_hist = source_file.Get('Wpt')\n",
    "print(source.edges)\n",
    "# source_mc = create_TH1D( gWPt['WJetsToLNu'][sel_ev['WJetsToLNu']], axis_title=['W pT [GeV]', 'Events'], name='gwpt', binning=source.edges, \\\n",
    "#                         weights = weight['WJetsToLNu']/np.sum(weight['WJetsToLNu']))\n",
    "\n",
    "source_mc = create_TH1D( gWPt['WJetsToLNu'], axis_title=['W pT [GeV]', 'Events'], name='gwpt', binning=source.edges, weights = tree_bkg['WJetsToLNu'].array('weight'))\n",
    "\n",
    "\n",
    "target_hist.SetLineColor(1)\n",
    "source_hist.SetLineColor(2)\n",
    "target_hist.SetLineWidth(2)\n",
    "source_hist.SetLineWidth(2)\n",
    "\n",
    "source_mc.SetLineColor(3)\n",
    "# source_hist.SetLineColor(2)\n",
    "source_mc.SetLineWidth(2)\n",
    "# source_hist.SetLineWidth(2)\n",
    "\n",
    "\n",
    "\n",
    "print(target_hist.Integral())\n",
    "target_hist.Scale(1./target_hist.Integral())\n",
    "\n",
    "source_mc.Scale(1./source_mc.Integral())\n",
    "\n",
    "target_hist.Draw('hist')\n",
    "source_hist.Draw('hist same')\n",
    "source_mc.Draw('hist same')\n",
    "# c = make_ratio_plot([source, target], fit = False, logy=True, in_tags = [\"source\",\"target\"], ratio_bounds = [0,3], draw_opt = ['E1','E2'])\n",
    "\n",
    "\n",
    "\n",
    "c.SetLogy()\n",
    "c.SetRightMargin(0)\n",
    "c.Draw()\n",
    "# print(time.time()-start_t)"
   ]
  },
  {
   "cell_type": "markdown",
   "metadata": {},
   "source": [
    "# Data/MC comparison"
   ]
  },
  {
   "cell_type": "code",
   "execution_count": 132,
   "metadata": {},
   "outputs": [
    {
     "name": "stdout",
     "output_type": "stream",
     "text": [
      "data 0.0\n",
      "data 0.0\n",
      "data 0.0\n",
      "data 0.0\n",
      "data 0.0\n",
      "WJetsToLNu 0.0\n",
      "WJetsToLNu 0.0\n",
      "WJetsToLNu 0.0\n",
      "WJetsToLNu 0.0\n",
      "WJetsToLNu 0.0\n",
      "data 0.0\n",
      "data 0.0\n",
      "data 0.0\n",
      "data 868324.0\n",
      "data 936391.0\n",
      "WJetsToLNu 0.0\n",
      "WJetsToLNu 0.0\n",
      "WJetsToLNu 0.0\n",
      "WJetsToLNu 832361.3917627189\n",
      "WJetsToLNu 756310.2950603792\n",
      "data 0.0\n",
      "data 56921.0\n",
      "data 55936.0\n",
      "data 56916.0\n",
      "data 57198.0\n",
      "WJetsToLNu 0.0\n",
      "WJetsToLNu 30901.481096644722\n",
      "WJetsToLNu 34158.20743199015\n",
      "WJetsToLNu 37339.153678590614\n",
      "WJetsToLNu 39171.8447711111\n",
      "data 0.0\n",
      "data 0.0\n",
      "data 22982.0\n",
      "data 56894.0\n",
      "data 60010.0\n",
      "WJetsToLNu 0.0\n",
      "WJetsToLNu 0.0\n",
      "WJetsToLNu 18843.27949504202\n",
      "WJetsToLNu 45941.490940088006\n",
      "WJetsToLNu 47679.79401460485\n",
      "data 2377839.0\n",
      "data 88173.0\n",
      "data 1930.0\n",
      "data 41.0\n",
      "data 1.0\n",
      "WJetsToLNu 1960602.8878833917\n",
      "WJetsToLNu 58712.00247407415\n",
      "WJetsToLNu 1096.6024260375848\n",
      "WJetsToLNu 11.319389279784145\n",
      "WJetsToLNu 0.0\n",
      "data 2453060.0\n",
      "data 14836.0\n",
      "data 88.0\n",
      "data 0.0\n",
      "data 0.0\n",
      "WJetsToLNu 2017780.7767082262\n",
      "WJetsToLNu 12135.309097427107\n",
      "WJetsToLNu 83.04858643076611\n",
      "WJetsToLNu 0.0\n",
      "WJetsToLNu 0.0\n"
     ]
    },
    {
     "name": "stderr",
     "output_type": "stream",
     "text": [
      "Warning in <TFile::Append>: Replacing existing TH1: h (Potential memory leak).\n",
      "Warning in <TCanvas::Constructor>: Deleting canvas with same name: c_out_ratio\n",
      "Info in <TCanvas::Print>: png file /storage/af/user/christiw/gpu/christiw/llp/delayed_jet_analyzer/plots/MuonSystem_Analysis/HNL/WJetsToLNu_data_comparison/met.png has been created\n",
      "Info in <TCanvas::Print>: pdf file /storage/af/user/christiw/gpu/christiw/llp/delayed_jet_analyzer/plots/MuonSystem_Analysis/HNL/WJetsToLNu_data_comparison/met.pdf has been created\n",
      "Info in <TCanvas::SaveSource>: C++ Macro file: /storage/af/user/christiw/gpu/christiw/llp/delayed_jet_analyzer/plots/MuonSystem_Analysis/HNL/WJetsToLNu_data_comparison/met.C has been generated\n",
      "Warning in <TFile::Append>: Replacing existing TH1: h (Potential memory leak).\n",
      "Warning in <TCanvas::Constructor>: Deleting canvas with same name: c_out_ratio\n",
      "Info in <TCanvas::Print>: png file /storage/af/user/christiw/gpu/christiw/llp/delayed_jet_analyzer/plots/MuonSystem_Analysis/HNL/WJetsToLNu_data_comparison/lepPt.png has been created\n",
      "Info in <TCanvas::Print>: pdf file /storage/af/user/christiw/gpu/christiw/llp/delayed_jet_analyzer/plots/MuonSystem_Analysis/HNL/WJetsToLNu_data_comparison/lepPt.pdf has been created\n",
      "Info in <TCanvas::SaveSource>: C++ Macro file: /storage/af/user/christiw/gpu/christiw/llp/delayed_jet_analyzer/plots/MuonSystem_Analysis/HNL/WJetsToLNu_data_comparison/lepPt.C has been generated\n",
      "Warning in <TFile::Append>: Replacing existing TH1: h (Potential memory leak).\n",
      "Warning in <TCanvas::Constructor>: Deleting canvas with same name: c_out_ratio\n",
      "Info in <TCanvas::Print>: png file /storage/af/user/christiw/gpu/christiw/llp/delayed_jet_analyzer/plots/MuonSystem_Analysis/HNL/WJetsToLNu_data_comparison/lepEta.png has been created\n",
      "Info in <TCanvas::Print>: pdf file /storage/af/user/christiw/gpu/christiw/llp/delayed_jet_analyzer/plots/MuonSystem_Analysis/HNL/WJetsToLNu_data_comparison/lepEta.pdf has been created\n",
      "Info in <TCanvas::SaveSource>: C++ Macro file: /storage/af/user/christiw/gpu/christiw/llp/delayed_jet_analyzer/plots/MuonSystem_Analysis/HNL/WJetsToLNu_data_comparison/lepEta.C has been generated\n",
      "Warning in <TFile::Append>: Replacing existing TH1: h (Potential memory leak).\n",
      "Warning in <TCanvas::Constructor>: Deleting canvas with same name: c_out_ratio\n",
      "Info in <TCanvas::Print>: png file /storage/af/user/christiw/gpu/christiw/llp/delayed_jet_analyzer/plots/MuonSystem_Analysis/HNL/WJetsToLNu_data_comparison/lepPhi.png has been created\n",
      "Info in <TCanvas::Print>: pdf file /storage/af/user/christiw/gpu/christiw/llp/delayed_jet_analyzer/plots/MuonSystem_Analysis/HNL/WJetsToLNu_data_comparison/lepPhi.pdf has been created\n",
      "Info in <TCanvas::SaveSource>: C++ Macro file: /storage/af/user/christiw/gpu/christiw/llp/delayed_jet_analyzer/plots/MuonSystem_Analysis/HNL/WJetsToLNu_data_comparison/lepPhi.C has been generated\n",
      "Warning in <TFile::Append>: Replacing existing TH1: h (Potential memory leak).\n",
      "Warning in <TFile::Append>: Replacing existing TH1: h (Potential memory leak).\n",
      "Warning in <TCanvas::Constructor>: Deleting canvas with same name: c_out_ratio\n",
      "Info in <TCanvas::Print>: png file /storage/af/user/christiw/gpu/christiw/llp/delayed_jet_analyzer/plots/MuonSystem_Analysis/HNL/WJetsToLNu_data_comparison/nCscClusters.png has been created\n",
      "Info in <TCanvas::Print>: pdf file /storage/af/user/christiw/gpu/christiw/llp/delayed_jet_analyzer/plots/MuonSystem_Analysis/HNL/WJetsToLNu_data_comparison/nCscClusters.pdf has been created\n",
      "Info in <TCanvas::SaveSource>: C++ Macro file: /storage/af/user/christiw/gpu/christiw/llp/delayed_jet_analyzer/plots/MuonSystem_Analysis/HNL/WJetsToLNu_data_comparison/nCscClusters.C has been generated\n",
      "Warning in <TFile::Append>: Replacing existing TH1: h (Potential memory leak).\n",
      "Warning in <TFile::Append>: Replacing existing TH1: h (Potential memory leak).\n",
      "Warning in <TCanvas::Constructor>: Deleting canvas with same name: c_out_ratio\n",
      "Info in <TCanvas::Print>: png file /storage/af/user/christiw/gpu/christiw/llp/delayed_jet_analyzer/plots/MuonSystem_Analysis/HNL/WJetsToLNu_data_comparison/nDtClusters.png has been created\n",
      "Info in <TCanvas::Print>: pdf file /storage/af/user/christiw/gpu/christiw/llp/delayed_jet_analyzer/plots/MuonSystem_Analysis/HNL/WJetsToLNu_data_comparison/nDtClusters.pdf has been created\n",
      "Info in <TCanvas::SaveSource>: C++ Macro file: /storage/af/user/christiw/gpu/christiw/llp/delayed_jet_analyzer/plots/MuonSystem_Analysis/HNL/WJetsToLNu_data_comparison/nDtClusters.C has been generated\n"
     ]
    },
    {
     "data": {
      "image/png": "[encoded data removed]",
      "text/plain": [
       "<IPython.core.display.Image object>"
      ]
     },
     "metadata": {},
     "output_type": "display_data"
    }
   ],
   "source": [
    "# plot data/mc comparison with only single electron selection\n",
    "\n",
    "import importlib\n",
    "importlib.reload(sys.modules['histo_utilities'])\n",
    "from histo_utilities import create_TH1D, create_TH2D, std_color_list, create_TGraph, make_ratio_plot\n",
    "\n",
    "var = [met, lepPt, lepEta, lepPhi, nCscRechitClusters3, nDtRechitClusters]\n",
    "varName = ['met', 'lepPt', 'lepEta', 'lepPhi', 'nCscClusters','nDtClusters']\n",
    "xaxis = ['met[GeV]', 'lep p_{T} [GeV]', 'lep #eta [GeV]', 'lep #phi', 'N_{csc clusters}','N_{dt clusters}']\n",
    "bins = [[50,0,300],[50,0,500],[50,-2.5,2.5],[50,-3.5,3.5],[5,0,5],[5,0,5]]\n",
    "logy_option = [1,1,0,0,1,1]\n",
    "drawShape = False\n",
    "for i, v in enumerate(var):\n",
    "#     if not i == 4:continue\n",
    "    leg = rt.TLegend(0.6,0.5,0.90,0.92)\n",
    "    leg.SetTextSize(0.03)\n",
    "    leg.SetBorderSize(0)\n",
    "    leg.SetEntrySeparation(0.01)\n",
    "    c = rt.TCanvas('c','c', 800, 800)\n",
    "    rt.gStyle.SetOptFit(1011)\n",
    "    h = {}\n",
    "    \n",
    "    for j, k in enumerate(tree_bkg.keys()):\n",
    "#         if not 'wjets' in k:continue\n",
    "#         h[k] = create_TH1D( v[k], axis_title=[xaxis[i], 'Events'], name='h', binning=bins[i],weights=weight[k])\n",
    "        if k == 'WJetsToLNu':\n",
    "            h[k] = create_TH1D( v[k], axis_title=[xaxis[i], 'Events'], name='h', binning=bins[i],weights=weight[k]*gWPtWeight[k])\n",
    "            if i == 5:h[k] = create_TH1D( v[k], axis_title=[xaxis[i], 'Events'], name='h', binning=bins[i],weights=weight[k]*gWPtWeight[k]*weight_clusterEffDt[k])\n",
    "            elif i == 4:h[k] = create_TH1D( v[k], axis_title=[xaxis[i], 'Events'], name='h', binning=bins[i],weights=weight[k]*gWPtWeight[k])\n",
    "        else: h[k] = create_TH1D( v[k], axis_title=[xaxis[i], 'Events'], name='h', binning=bins[i])\n",
    "        \n",
    "        \n",
    "        \n",
    "        h[k].SetLineColor(std_color_list[j])\n",
    "        if drawShape and h[k].Integral()>0: h[k].Scale(1./h[k].Integral())\n",
    "        else: \n",
    "            if not 'data' in k:h[k].Scale(939/137000)\n",
    "        for binx in range(5):\n",
    "            print(k,h[k].GetBinContent(binx+1))\n",
    "        leg.AddEntry(h[k],k)\n",
    "        h[k].Draw('same hist')\n",
    "    \n",
    "    leg.Draw()\n",
    "    c.SetRightMargin(0)\n",
    "    c.SetLogy()\n",
    "    c = make_ratio_plot([h['WJetsToLNu'],h['data']], fit = False, logy=logy_option[i], in_tags = [\"MC\",\"Data\"], ratio_bounds = [0,5], draw_opt = ['E2','E1']) \n",
    "    outputDir = os.getenv('HOME')+'/gpu/christiw/llp/delayed_jet_analyzer/plots/MuonSystem_Analysis/HNL/WJetsToLNu_data_comparison/'\n",
    "    \n",
    "    c.SaveAs(outputDir+varName[i]+'.png')\n",
    "    c.SaveAs(outputDir+varName[i]+'.pdf')\n",
    "    c.SaveAs(outputDir+varName[i]+'.C')        \n",
    "    c.Draw()\n",
    "\n"
   ]
  },
  {
   "cell_type": "markdown",
   "metadata": {},
   "source": [
    "# Data/MC plots with ncluster>0 selection"
   ]
  },
  {
   "cell_type": "code",
   "execution_count": 135,
   "metadata": {},
   "outputs": [
    {
     "name": "stderr",
     "output_type": "stream",
     "text": [
      "Warning in <TFile::Append>: Replacing existing TH1: h (Potential memory leak).\n",
      "Warning in <TCanvas::Constructor>: Deleting canvas with same name: c_out_ratio\n",
      "Info in <TCanvas::Print>: png file /storage/af/user/christiw/gpu/christiw/llp/delayed_jet_analyzer/plots/MuonSystem_Analysis/HNL/WJetsToLNu_data_comparison/met_nDtClustergt0_corr.png has been created\n",
      "Info in <TCanvas::Print>: pdf file /storage/af/user/christiw/gpu/christiw/llp/delayed_jet_analyzer/plots/MuonSystem_Analysis/HNL/WJetsToLNu_data_comparison/met_nDtClustergt0_corr.pdf has been created\n",
      "Info in <TCanvas::SaveSource>: C++ Macro file: /storage/af/user/christiw/gpu/christiw/llp/delayed_jet_analyzer/plots/MuonSystem_Analysis/HNL/WJetsToLNu_data_comparison/met_nDtClustergt0_corr.C has been generated\n"
     ]
    },
    {
     "data": {
      "image/png": "[encoded data removed]",
      "text/plain": [
       "<IPython.core.display.Image object>"
      ]
     },
     "metadata": {},
     "output_type": "display_data"
    }
   ],
   "source": [
    "# data/mc comparison with ncluster>0 selection\n",
    "\n",
    "import importlib\n",
    "importlib.reload(sys.modules['histo_utilities'])\n",
    "from histo_utilities import create_TH1D, create_TH2D, std_color_list, create_TGraph, make_ratio_plot\n",
    "\n",
    "var = [met, lepPt, lepEta, lepPhi, nCscRechitClusters3, nDtRechitClusters]\n",
    "varName = ['met', 'lepPt', 'lepEta', 'lepPhi', 'nCscClusters','nDtClusters']\n",
    "xaxis = ['met[GeV]', 'lep p_{T} [GeV]', 'lep #eta [GeV]', 'lep #phi', 'N_{csc clusters}','N_{dt clusters}']\n",
    "bins = [[50,0,300],[50,0,500],[50,-2.5,2.5],[50,-3.5,3.5],[5,0,5],[5,0,5]]\n",
    "logy_option = [1,1,0,0,1,1]\n",
    "drawShape = False\n",
    "for i, v in enumerate(var):\n",
    "    if not i == 0:continue\n",
    "    leg = rt.TLegend(0.6,0.5,0.90,0.92)\n",
    "    leg.SetTextSize(0.03)\n",
    "    leg.SetBorderSize(0)\n",
    "    leg.SetEntrySeparation(0.01)\n",
    "    c = rt.TCanvas('c','c', 800, 800)\n",
    "    rt.gStyle.SetOptFit(1011)\n",
    "    h = {}\n",
    "    \n",
    "    for j, k in enumerate(tree_bkg.keys()):\n",
    "#         if not 'wjets' in k:continue\n",
    "#         h[k] = create_TH1D( v[k], axis_title=[xaxis[i], 'Events'], name='h', binning=bins[i],weights=weight[k])\n",
    "        if k == 'WJetsToLNu':\n",
    "            h[k] = create_TH1D( v[k][nDtRechitClusters[k]>0], axis_title=[xaxis[i], 'Events'], name='h', binning=bins[i],weights=(weight[k]*gWPtWeight[k]*weight_clusterEffDt[k])[nDtRechitClusters[k]>0])\n",
    "#             h[k] = create_TH1D( v[k], axis_title=[xaxis[i], 'Events'], name='h', binning=bins[i],weights=weight[k])\n",
    "        else: h[k] = create_TH1D( v[k][nDtRechitClusters[k]>0], axis_title=[xaxis[i], 'Events'], name='h', binning=bins[i])\n",
    "#         print(k, '\\t', np.sum(weight_evt[k][met[k]>200])/np.sum(weight_evt[k]))\n",
    "        h[k].SetLineColor(std_color_list[j])\n",
    "        if drawShape and h[k].Integral()>0: h[k].Scale(1./h[k].Integral())\n",
    "        else: \n",
    "            if not 'data' in k:h[k].Scale(939/137000)\n",
    "        leg.AddEntry(h[k],k)\n",
    "        h[k].Draw('same hist')\n",
    "    \n",
    "    leg.Draw()\n",
    "    c.SetRightMargin(0)\n",
    "    c.SetLogy()\n",
    "    c = make_ratio_plot([h['WJetsToLNu'],h['data']], fit = False, logy=logy_option[i], in_tags = [\"MC\",\"Data\"], ratio_bounds = [0,5], draw_opt = ['E2','E1']) \n",
    "    outputDir = os.getenv('HOME')+'/gpu/christiw/llp/delayed_jet_analyzer/plots/MuonSystem_Analysis/HNL/WJetsToLNu_data_comparison/'\n",
    "    \n",
    "    c.SaveAs(outputDir+varName[i]+'_nDtClustergt0_corr.png')\n",
    "    c.SaveAs(outputDir+varName[i]+'_nDtClustergt0_corr.pdf')\n",
    "    c.SaveAs(outputDir+varName[i]+'_nDtClustergt0_corr.C')        \n",
    "    c.Draw()\n",
    "\n"
   ]
  },
  {
   "cell_type": "code",
   "execution_count": null,
   "metadata": {},
   "outputs": [],
   "source": []
  },
  {
   "cell_type": "code",
   "execution_count": null,
   "metadata": {},
   "outputs": [],
   "source": []
  }
 ],
 "metadata": {
  "kernelspec": {
   "display_name": "Python 3",
   "language": "python",
   "name": "python3"
  },
  "language_info": {
   "codemirror_mode": {
    "name": "ipython",
    "version": 3
   },
   "file_extension": ".py",
   "mimetype": "text/x-python",
   "name": "python",
   "nbconvert_exporter": "python",
   "pygments_lexer": "ipython3",
   "version": "3.6.8"
  }
 },
 "nbformat": 4,
 "nbformat_minor": 4
}
