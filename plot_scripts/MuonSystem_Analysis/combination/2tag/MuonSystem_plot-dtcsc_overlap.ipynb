{
 "cells": [
  {
   "cell_type": "code",
   "execution_count": 125,
   "metadata": {},
   "outputs": [
    {
     "name": "stdout",
     "output_type": "stream",
     "text": [
      "3.6.8 (default, Aug  7 2019, 17:28:10) \n",
      "[GCC 4.8.5 20150623 (Red Hat 4.8.5-39)]\n"
     ]
    }
   ],
   "source": [
    "import ROOT as rt\n",
    "# import root_numpy as rtnp\n",
    "import csv\n",
    "import re\n",
    "import sys\n",
    "import collections\n",
    "\n",
    "from collections import OrderedDict\n",
    "import uproot\n",
    "import pandas as pd\n",
    "\n",
    "import scipy\n",
    "import awkward\n",
    "import numpy as np\n",
    "import time\n",
    "import numba\n",
    "from numba import jit\n",
    "from matplotlib import pyplot as plt\n",
    "sys.path.append('/storage/af/user/christiw/gpu/christiw/llp/delayed_jet_analyzer/lib/')\n",
    "from histo_utilities import create_TH1D, create_TH2D, std_color_list, create_TGraph, make_ratio_plot\n",
    "from helper_functions import deltaR\n",
    "import CMS_lumi, tdrstyle\n",
    "a = tdrstyle.setTDRStyle()\n",
    "CMS_lumi.writeExtraText = 0\n",
    "\n",
    "print(sys.version)"
   ]
  },
  {
   "cell_type": "markdown",
   "metadata": {},
   "source": [
    "# Load ntuples"
   ]
  },
  {
   "cell_type": "code",
   "execution_count": 2,
   "metadata": {},
   "outputs": [
    {
     "name": "stdout",
     "output_type": "stream",
     "text": [
      "m7ctau100 /storage/af/group/phys_exotica/delayedjets/displacedJetMuonAnalyzer/csc/V1p17//MC_all//v1/v165//normalized/ggH_HToSSTodddd_MH-125_MS-7_ctau-100_137000pb_weighted.root\n",
      "m15ctau100 /storage/af/group/phys_exotica/delayedjets/displacedJetMuonAnalyzer/csc/V1p17//MC_all//v1/v165//normalized/ggH_HToSSTodddd_MH-125_MS-15_ctau-100_137000pb_weighted.root\n",
      "m40ctau100 /storage/af/group/phys_exotica/delayedjets/displacedJetMuonAnalyzer/csc/V1p17//MC_all//v1/v165//normalized/ggH_HToSSTodddd_MH-125_MS-40_ctau-100_137000pb_weighted.root\n",
      "m55ctau100 /storage/af/group/phys_exotica/delayedjets/displacedJetMuonAnalyzer/csc/V1p17//MC_all//v1/v165//normalized/ggH_HToSSTodddd_MH-125_MS-55_ctau-100_137000pb_weighted.root\n",
      "m7ctau1000 /storage/af/group/phys_exotica/delayedjets/displacedJetMuonAnalyzer/csc/V1p17//MC_all//v1/v165//normalized/ggH_HToSSTodddd_MH-125_MS-7_ctau-1000_137000pb_weighted.root\n",
      "m15ctau1000 /storage/af/group/phys_exotica/delayedjets/displacedJetMuonAnalyzer/csc/V1p17//MC_all//v1/v165//normalized/ggH_HToSSTodddd_MH-125_MS-15_ctau-1000_137000pb_weighted.root\n",
      "m40ctau1000 /storage/af/group/phys_exotica/delayedjets/displacedJetMuonAnalyzer/csc/V1p17//MC_all//v1/v165//normalized/ggH_HToSSTodddd_MH-125_MS-40_ctau-1000_137000pb_weighted.root\n",
      "m55ctau1000 /storage/af/group/phys_exotica/delayedjets/displacedJetMuonAnalyzer/csc/V1p17//MC_all//v1/v165//normalized/ggH_HToSSTodddd_MH-125_MS-55_ctau-1000_137000pb_weighted.root\n",
      "m7ctau10000 /storage/af/group/phys_exotica/delayedjets/displacedJetMuonAnalyzer/csc/V1p17//MC_all//v1/v165//normalized/ggH_HToSSTodddd_MH-125_MS-7_ctau-10000_137000pb_weighted.root\n",
      "m15ctau10000 /storage/af/group/phys_exotica/delayedjets/displacedJetMuonAnalyzer/csc/V1p17//MC_all//v1/v165//normalized/ggH_HToSSTodddd_MH-125_MS-15_ctau-10000_137000pb_weighted.root\n",
      "m40ctau10000 /storage/af/group/phys_exotica/delayedjets/displacedJetMuonAnalyzer/csc/V1p17//MC_all//v1/v165//normalized/ggH_HToSSTodddd_MH-125_MS-40_ctau-10000_137000pb_weighted.root\n",
      "m55ctau10000 /storage/af/group/phys_exotica/delayedjets/displacedJetMuonAnalyzer/csc/V1p17//MC_all//v1/v165//normalized/ggH_HToSSTodddd_MH-125_MS-55_ctau-10000_137000pb_weighted.root\n",
      "m7ctau100000 /storage/af/group/phys_exotica/delayedjets/displacedJetMuonAnalyzer/csc/V1p17//MC_all//v1/v165//normalized/ggH_HToSSTodddd_MH-125_MS-7_ctau-100000_137000pb_weighted.root\n",
      "m15ctau100000 /storage/af/group/phys_exotica/delayedjets/displacedJetMuonAnalyzer/csc/V1p17//MC_all//v1/v165//normalized/ggH_HToSSTodddd_MH-125_MS-15_ctau-100000_137000pb_weighted.root\n",
      "m40ctau100000 /storage/af/group/phys_exotica/delayedjets/displacedJetMuonAnalyzer/csc/V1p17//MC_all//v1/v165//normalized/ggH_HToSSTodddd_MH-125_MS-40_ctau-100000_137000pb_weighted.root\n",
      "m55ctau100000 /storage/af/group/phys_exotica/delayedjets/displacedJetMuonAnalyzer/csc/V1p17//MC_all//v1/v165//normalized/ggH_HToSSTodddd_MH-125_MS-55_ctau-100000_137000pb_weighted.root\n"
     ]
    }
   ],
   "source": [
    "fpath =OrderedDict()\n",
    "tree = OrderedDict()\n",
    "\n",
    "\n",
    "start_t = time.time()\n",
    "\n",
    "\n",
    "\n",
    "isData = 0\n",
    "\n",
    "ntupler_version = 'V1p17/'\n",
    "analyzer_version = \"/v1/v165/\" #new acceptance definition\n",
    "\n",
    "\n",
    "\n",
    "decay = 'dddd'\n",
    "mass = [ '7', '15', '40','55']\n",
    "ctaus  = ['100','1000','10000','100000']\n",
    "for ct in ctaus:\n",
    "    for m in mass:\n",
    "        mc_path = '/storage/af/group/phys_exotica/delayedjets/displacedJetMuonAnalyzer/csc/'+ntupler_version+'/MC_all/'+analyzer_version+'/normalized/'\n",
    "        fpath['m'+m+'ctau'+ct] = mc_path + 'ggH_HToSSTo'+decay+'_MH-125_MS-'+str(m)+'_ctau-'+ct+'_137000pb_weighted.root'\n",
    "\n",
    "for k,v in fpath.items():\n",
    "    print (k, v)\n",
    "    root_dir = uproot.open(v) \n",
    "    tree[k] = root_dir['MuonSystem']\n",
    "   \n",
    "\n"
   ]
  },
  {
   "cell_type": "markdown",
   "metadata": {},
   "source": [
    "# one tag"
   ]
  },
  {
   "cell_type": "code",
   "execution_count": 111,
   "metadata": {},
   "outputs": [
    {
     "name": "stdout",
     "output_type": "stream",
     "text": [
      "m7ctau1000 6686 1650 0.1503030303030303\n",
      "m15ctau1000 6781 2225 0.15685393258426966\n",
      "m40ctau1000 4323 1797 0.11018363939899833\n",
      "m55ctau1000 2523 1134 0.03880070546737213\n"
     ]
    }
   ],
   "source": [
    "gLLP_eta ={}\n",
    "gLLP_decay_vertex_r = {}\n",
    "gLLP_decay_vertex_z = {}\n",
    "gLLP_match_cscRechits = {}\n",
    "gLLP_match_dtRechits = {}\n",
    "cscRechitClusterNStation10 = {}\n",
    "cscRechitClusterEta = {}\n",
    "cscRechitClusterAvgStation10= {}\n",
    "sel_ev = {}\n",
    "bdt_sel ={}\n",
    "cluster_index = ''\n",
    "\n",
    "for k, T in tree.items():\n",
    "    if not k[-4:]=='1000':continue\n",
    "    sel_llp = np.logical_or(T.array('gLLP_dt'), T.array('gLLP_csc'))\n",
    "    one_tag =np.sum(sel_llp, axis = 1)==1\n",
    "    sel_llp = sel_llp[one_tag]\n",
    "    gLLP_eta[k] = T.array('gLLP_eta')[one_tag][sel_llp]\n",
    "    gLLP_decay_vertex_r[k] = T.array('gLLP_decay_vertex_r')[one_tag][sel_llp]\n",
    "    gLLP_decay_vertex_z[k] = T.array('gLLP_decay_vertex_z')[one_tag][sel_llp]\n",
    "    gLLP_match_cscRechits[k] = T.array('gLLP_match_cscRechits')[one_tag][sel_llp]\n",
    "    gLLP_match_dtRechits[k] = T.array('gLLP_match_dtRechits')[one_tag][sel_llp]\n",
    "\n",
    "    \n",
    "    sel_rechitcluster = np.abs(T.array('cscRechitCluster' + cluster_index + 'Eta')) < 2.0\n",
    "    me1112_veto = 0\n",
    "    sel_rechitcluster = np.logical_and(sel_rechitcluster, T.array('cscRechitCluster' + cluster_index + 'NRechitChamberPlus11') <= me1112_veto)\n",
    "    sel_rechitcluster = np.logical_and(sel_rechitcluster, T.array('cscRechitCluster' + cluster_index + 'NRechitChamberPlus12') <= me1112_veto)\n",
    "    sel_rechitcluster = np.logical_and(sel_rechitcluster, T.array('cscRechitCluster' + cluster_index + 'NRechitChamberMinus11') <= me1112_veto)\n",
    "    sel_rechitcluster = np.logical_and(sel_rechitcluster, T.array('cscRechitCluster' + cluster_index + 'NRechitChamberMinus12') <= me1112_veto)\n",
    "    \n",
    "    sel_rechitcluster = np.logical_and(sel_rechitcluster, T.array('cscRechitCluster' + cluster_index + '_match_MB1Seg_0p4') <= me1112_veto)\n",
    "    sel_rechitcluster = np.logical_and(sel_rechitcluster, T.array('cscRechitCluster' + cluster_index + '_match_RE12_0p4') <= me1112_veto)\n",
    "    sel_rechitcluster = np.logical_and(sel_rechitcluster, T.array('cscRechitCluster' + cluster_index + '_match_RB1_0p4') <= me1112_veto)\n",
    "    sel_rechitcluster = np.logical_and(sel_rechitcluster, T.array('cscRechitCluster' + cluster_index + 'TimeSpread') <= 20)\n",
    "    sel_rechitcluster = np.logical_and(sel_rechitcluster, np.logical_and(T.array('cscRechitCluster' + cluster_index + 'TimeTotal') < 12.5, T.array('cscRechitCluster' + cluster_index + 'TimeTotal') > -5.0))\n",
    "    sel_rechitcluster = np.logical_and( sel_rechitcluster, T.array('cscRechitCluster' + cluster_index + 'JetVetoPt') < 10)\n",
    "    sel_rechitcluster = np.logical_and( sel_rechitcluster, T.array('cscRechitCluster' + cluster_index + 'MuonVetoPt') < 20)\n",
    "    cscRechitClusterNStation10[k] = T.array('cscRechitCluster' + cluster_index + 'NStation10')\n",
    "    cscRechitClusterEta[k] = T.array('cscRechitCluster' + cluster_index + 'Eta')\n",
    "    cscRechitClusterAvgStation10[k] = T.array('cscRechitCluster' + cluster_index + 'AvgStation10')\n",
    "    \n",
    "    cond2 = np.logical_and(np.abs(cscRechitClusterAvgStation10[k])==2, np.abs(cscRechitClusterEta[k]) < 1.6)\n",
    "    cond3 = np.logical_and(np.abs(cscRechitClusterAvgStation10[k])==3, np.abs(cscRechitClusterEta[k]) < 1.6)\n",
    "    cond4 = np.logical_and(np.abs(cscRechitClusterAvgStation10[k])==4, np.abs(cscRechitClusterEta[k]) < 1.8)\n",
    "    cond1 = np.logical_and(cscRechitClusterNStation10[k]==1, np.logical_or(np.logical_or(np.abs(cscRechitClusterAvgStation10[k])==1, cond2), np.logical_or(cond3, cond4)))\n",
    "    cond2 = np.logical_and(cscRechitClusterNStation10[k] > 1, np.abs(cscRechitClusterEta[k]) < 1.9)\n",
    "    bdt_sel = np.logical_or(np.logical_or(cond1, cond2), np.logical_or(cond3, cond4))\n",
    "    \n",
    "    sel_rechitcluster =np.logical_and(sel_rechitcluster, bdt_sel)\n",
    "    sel_ev[k] = np.logical_and(np.sum(np.logical_or(T.array('gLLP_dt'), T.array('gLLP_csc')), axis = 1)==1, sel_rechitcluster.sum()>=1)\n",
    "    \n",
    "\n",
    "    \n",
    "    sel_ev[k] = sel_ev[k][np.sum(np.logical_or(T.array('gLLP_dt'), T.array('gLLP_csc')), axis = 1)==1]\n",
    "                \n",
    "    # LLP decayed in overlap region\n",
    "    eta_overlap = np.logical_and(np.abs(gLLP_eta[k]).flatten()<1.3, np.abs(gLLP_eta[k]).flatten()>0.7)\n",
    "    # LLP created \"cluster\" in overlap region\n",
    "    match_hits = np.logical_and(np.abs(gLLP_match_cscRechits[k]).flatten()>20, gLLP_match_dtRechits[k]>20)\n",
    "    \n",
    "    print(k, np.count_nonzero(eta_overlap), np.count_nonzero(match_hits), np.count_nonzero(np.logical_and(sel_ev[k], match_hits))/np.count_nonzero(match_hits))\n"
   ]
  },
  {
   "cell_type": "markdown",
   "metadata": {},
   "source": [
    "# two tag"
   ]
  },
  {
   "cell_type": "code",
   "execution_count": 202,
   "metadata": {},
   "outputs": [
    {
     "name": "stdout",
     "output_type": "stream",
     "text": [
      "m7ctau1000 1472 216 7\n",
      "m7ctau1000 0.20833333333333334 0.023148148148148147\n",
      "m15ctau1000 2608 499 26\n",
      "m15ctau1000 0.2565130260521042 0.04008016032064128\n",
      "m40ctau1000 2578 649 86\n",
      "m40ctau1000 0.2440119760479042 0.03293413173652695\n",
      "m55ctau1000 956 207 62\n",
      "m55ctau1000 0.017632241813602016 0.007556675062972292\n"
     ]
    }
   ],
   "source": [
    "gLLP_eta ={}\n",
    "gLLP_phi = {}\n",
    "dR = {}\n",
    "gLLP_decay_vertex_r = {}\n",
    "gLLP_decay_vertex_z = {}\n",
    "gLLP_match_cscRechits = {}\n",
    "gLLP_match_dtRechits = {}\n",
    "cscRechitClusterNStation10 = {}\n",
    "cscRechitClusterEta = {}\n",
    "cscRechitClusterAvgStation10= {}\n",
    "sel_ev = {}\n",
    "bdt_sel ={}\n",
    "cluster_index = ''\n",
    "\n",
    "for k, T in tree.items():\n",
    "    if not k[-4:]=='1000':continue\n",
    "    sel_llp = np.logical_or(T.array('gLLP_dt'), T.array('gLLP_csc'))\n",
    "#     sel_llp =  T.array('gLLP_csc')\n",
    "    two_tag =np.sum(sel_llp, axis = 1)==2\n",
    "    gLLP_eta[k] = T.array('gLLP_eta')[two_tag]\n",
    "    gLLP_phi[k] = T.array('gLLP_phi')[two_tag]\n",
    "    gLLP_decay_vertex_r[k] = T.array('gLLP_decay_vertex_r')[two_tag]\n",
    "    gLLP_decay_vertex_z[k] = T.array('gLLP_decay_vertex_z')[two_tag]\n",
    "    gLLP_match_cscRechits[k] = T.array('gLLP_match_cscRechits')[two_tag]\n",
    "    gLLP_match_dtRechits[k] = T.array('gLLP_match_dtRechits')[two_tag]\n",
    "    dR[k] = deltaR(gLLP_eta[k][:,0], gLLP_phi[k][:,0], gLLP_eta[k][:,1], gLLP_phi[k][:,1])\n",
    "    \n",
    "    ################################ cluster level selections #######################\n",
    "    sel_csccluster = T.array('cscRechitCluster' + cluster_index + 'TimeSpreadWeightedAll')<20\n",
    "    sel_csccluster = np.logical_and(sel_csccluster, np.abs(T.array('cscRechitCluster' + cluster_index + 'MetEENoise_dPhi'))<1.2)\n",
    "    sel_csccluster = np.logical_and(sel_csccluster, T.array('cscRechitCluster' + cluster_index + 'JetVetoPt')<30)\n",
    "    sel_csccluster = np.logical_and(sel_csccluster, T.array('cscRechitCluster' + cluster_index + 'Me11Ratio')<1)\n",
    "    sel_csccluster = np.logical_and(sel_csccluster, np.logical_not(np.logical_and(T.array('cscRechitClusterMuonVetoPt') >= 30, T.array('cscRechitClusterMuonVetoGlobal'))))\n",
    "\n",
    "    sel_csccluster = np.logical_and(sel_csccluster, np.logical_and(T.array('cscRechitCluster' + cluster_index + 'TimeWeighted')+0.66 < 12.5, \\\n",
    "                                                                         T.array('cscRechitCluster' + cluster_index + 'TimeWeighted')+0.66 > -5))\n",
    " \n",
    "\n",
    "    sel_loosecsccluster = T.array('cscRechitCluster' + cluster_index + 'TimeSpreadWeightedAll')<20\n",
    "    sel_loosecsccluster = np.logical_and(sel_loosecsccluster, np.abs(T.array('cscRechitCluster' + cluster_index + 'MetEENoise_dPhi'))<1.2)\n",
    "    sel_loosecsccluster = np.logical_and(sel_loosecsccluster, T.array('cscRechitCluster' + cluster_index + 'JetVetoPt')<30)\n",
    "    sel_loosecsccluster = np.logical_and(sel_loosecsccluster, T.array('cscRechitCluster' + cluster_index + 'Me11Ratio')<1)\n",
    "    sel_loosecsccluster = np.logical_and(sel_loosecsccluster, np.logical_not(np.logical_and(T.array('cscRechitClusterMuonVetoPt') >= 30, T.array('cscRechitClusterMuonVetoGlobal'))))\n",
    "\n",
    "    sel_loosecsccluster = np.logical_and(sel_loosecsccluster, np.logical_and(T.array('cscRechitCluster' + cluster_index + 'TimeWeighted')+0.66 < 12.5, \\\n",
    "                                                                         T.array('cscRechitCluster' + cluster_index + 'TimeWeighted')+0.66 > -5))\n",
    " \n",
    "    sel_loosecsccluster = T.array('cscRechitCluster' + cluster_index + 'TimeSpreadWeightedAll')<20\n",
    "    sel_loosecsccluster = np.logical_and(sel_loosecsccluster, np.abs(T.array('cscRechitCluster' + cluster_index + 'MetEENoise_dPhi'))<1.2)\n",
    "#     sel_loosecsccluster = np.logical_and(sel_loosecsccluster, T.array('cscRechitCluster' + cluster_index + 'JetVetoPt')<30)\n",
    "#     sel_loosecsccluster = np.logical_and(sel_loosecsccluster, T.array('cscRechitCluster' + cluster_index + 'Me11Ratio')<1)\n",
    "#     sel_loosecsccluster = np.logical_and(sel_loosecsccluster, np.logical_not(np.logical_and(T.array('cscRechitClusterMuonVetoPt') >= 30, T.array('cscRechitClusterMuonVetoGlobal'))))\n",
    "\n",
    "    sel_loosecsccluster = np.logical_and(sel_loosecsccluster, np.logical_and(T.array('cscRechitCluster' + cluster_index + 'TimeWeighted')+0.66 < 12.5, \\\n",
    "                                                                         T.array('cscRechitCluster' + cluster_index + 'TimeWeighted')+0.66 > -5))\n",
    "\n",
    "    sel_ev[k]  = np.logical_and((sel_csccluster.sum()>=1)[two_tag], dR[k]>0.4)\n",
    "    sel_ev[k]  = np.logical_and(sel_ev[k], (sel_loosecsccluster.sum()>=2)[two_tag])\n",
    "#     sel_ev[k] = sel_ev[k][np.sum(np.logical_or(T.array('gLLP_dt'), T.array('gLLP_csc')), axis = 1)==1]\n",
    "                \n",
    "    # LLP decayed in overlap region\n",
    "    eta_overlap = np.logical_and(np.abs(gLLP_eta[k])<1.3, np.abs(gLLP_eta[k])>0.7)\n",
    "    # LLP created \"cluster\" in overlap region\n",
    "    match_hits = np.logical_and(np.abs(gLLP_match_cscRechits[k])>30, gLLP_match_dtRechits[k]>20)\n",
    "    both = np.logical_and(eta_overlap, match_hits)\n",
    "#     print(k, np.count_nonzero(np.sum(both,axis=1)==0), np.count_nonzero(np.sum(both,axis=1)==1), np.count_nonzero(np.sum(both,axis=1)==2))\n",
    "\n",
    "    print(k, np.count_nonzero(np.logical_and(dR[k]>0.4,np.sum(both,axis=1)==0)),np.count_nonzero(np.logical_and(dR[k]>0.4,np.sum(both,axis=1)==1)),\\\n",
    "          np.count_nonzero(np.logical_and(dR[k]>0.4,np.sum(both,axis=1)==2)))\n",
    "          \n",
    "        \n",
    "    print(k, np.count_nonzero(np.logical_and(sel_ev[k],np.sum(both,axis=1)==1))/np.count_nonzero(np.sum(both,axis=1)==1),\n",
    "          np.count_nonzero(np.logical_and(sel_ev[k],np.sum(both,axis=1)==2))/np.count_nonzero(np.sum(both,axis=1)==1))\n",
    "#     print(gLLP_eta[k][np.sum(both,axis=1)==2])"
   ]
  },
  {
   "cell_type": "code",
   "execution_count": 183,
   "metadata": {},
   "outputs": [
    {
     "name": "stdout",
     "output_type": "stream",
     "text": [
      "m7ctau1000 0.782246879334258\n",
      "m15ctau1000 0.866948257655755\n",
      "m40ctau1000 0.8943850267379679\n",
      "m55ctau1000 0.749034749034749\n"
     ]
    }
   ],
   "source": [
    "gLLP_eta ={}\n",
    "gLLP_phi = {}\n",
    "dR = {}\n",
    "gLLP_decay_vertex_r = {}\n",
    "gLLP_decay_vertex_z = {}\n",
    "gLLP_match_cscRechits = {}\n",
    "gLLP_match_dtRechits = {}\n",
    "cscRechitClusterNStation10 = {}\n",
    "cscRechitClusterEta = {}\n",
    "cscRechitClusterAvgStation10= {}\n",
    "sel_ev = {}\n",
    "bdt_sel ={}\n",
    "cluster_index = ''\n",
    "\n",
    "for k, T in tree.items():\n",
    "    if not k[-4:]=='1000':continue\n",
    "    sel_llp = np.logical_and(np.abs(T.array('gLLP_decay_vertex_z'))<700, np.abs(T.array('gLLP_decay_vertex_z'))>550)\n",
    "    sel_llp = np.logical_and(sel_llp, T.array('gLLP_decay_vertex_r')<400)\n",
    "    sel_llp = np.logical_and(sel_llp, T.array('gLLP_decay_vertex_r')>300)\n",
    "\n",
    "#     sel_llp = np.logical_and(sel_llp, T.array('gLLP_decay_vertex_r')<600)\n",
    "#     sel_llp = np.logical_and(sel_llp, T.array('gLLP_decay_vertex_r')>450)\n",
    "    ################################ cluster level selections #######################\n",
    "    sel_csccluster = T.array('cscRechitCluster' + cluster_index + 'TimeSpreadWeightedAll')<20\n",
    "    sel_csccluster = np.logical_and(sel_csccluster, np.abs(T.array('cscRechitCluster' + cluster_index + 'MetEENoise_dPhi'))<1.2)\n",
    "    sel_csccluster = np.logical_and(sel_csccluster, T.array('cscRechitCluster' + cluster_index + 'JetVetoPt')<30)\n",
    "    sel_csccluster = np.logical_and(sel_csccluster, T.array('cscRechitCluster' + cluster_index + 'Me11Ratio')<1)\n",
    "    sel_csccluster = np.logical_and(sel_csccluster, np.logical_not(np.logical_and(T.array('cscRechitClusterMuonVetoPt') >= 30, T.array('cscRechitClusterMuonVetoGlobal'))))\n",
    "\n",
    "    sel_csccluster = np.logical_and(sel_csccluster, np.logical_and(T.array('cscRechitCluster' + cluster_index + 'TimeWeighted')+0.66 < 12.5, \\\n",
    "                                                                         T.array('cscRechitCluster' + cluster_index + 'TimeWeighted')+0.66 > -5))\n",
    " \n",
    "\n",
    "\n",
    "# #     sel_ev[k] = sel_ev[k][np.sum(np.logical_or(T.array('gLLP_dt'), T.array('gLLP_csc')), axis = 1)==1]\n",
    "                \n",
    "#     # LLP decayed in overlap region\n",
    "#     eta_overlap = np.logical_and(np.abs(gLLP_eta[k])<1.3, np.abs(gLLP_eta[k])>0.7)\n",
    "#     # LLP created \"cluster\" in overlap region\n",
    "#     match_hits = np.logical_and(np.abs(gLLP_match_cscRechits[k])>30, gLLP_match_dtRechits[k]>20)\n",
    "#     both = np.logical_and(eta_overlap, match_hits)\n",
    "# #     print(k, np.count_nonzero(np.sum(both,axis=1)==0), np.count_nonzero(np.sum(both,axis=1)==1), np.count_nonzero(np.sum(both,axis=1)==2))\n",
    "\n",
    "#     print(k, np.count_nonzero(np.logical_and(dR[k]>0.4,np.sum(both,axis=1)==0)),np.count_nonzero(np.logical_and(dR[k]>0.4,np.sum(both,axis=1)==1)),\\\n",
    "#           np.count_nonzero(np.logical_and(dR[k]>0.4,np.sum(both,axis=1)==2)))\n",
    "          \n",
    "    print(k, np.count_nonzero(np.logical_and(np.sum(sel_llp, axis=1)==1, sel_csccluster.sum()>=1))/np.count_nonzero(np.sum(sel_llp, axis=1)==1))"
   ]
  },
  {
   "cell_type": "code",
   "execution_count": 167,
   "metadata": {},
   "outputs": [
    {
     "data": {
      "text/plain": [
       "0.5555555555555556"
      ]
     },
     "execution_count": 167,
     "metadata": {},
     "output_type": "execute_result"
    }
   ],
   "source": [
    "m7ctau1000 0.6680988184747583\n",
    "m15ctau1000 0.8007380073800738\n",
    "m40ctau1000 0.8449197860962567\n",
    "m55ctau1000 0.5622568093385214"
   ]
  },
  {
   "cell_type": "markdown",
   "metadata": {},
   "source": [
    "# different mass points"
   ]
  },
  {
   "cell_type": "code",
   "execution_count": 180,
   "metadata": {},
   "outputs": [
    {
     "data": {
      "text/plain": [
       "0.8461538461538461"
      ]
     },
     "execution_count": 180,
     "metadata": {},
     "output_type": "execute_result"
    }
   ],
   "source": [
    "66/78"
   ]
  },
  {
   "cell_type": "code",
   "execution_count": 51,
   "metadata": {},
   "outputs": [
    {
     "name": "stdout",
     "output_type": "stream",
     "text": [
      "m7ctau100 0.3847695390781563\n",
      "m15ctau100 0.5238623751387348\n",
      "m40ctau100 0.7884615384615384\n",
      "m55ctau100 0.6923076923076923\n",
      "m7ctau1000 0.2105892910559378\n",
      "m15ctau1000 0.2875682052794573\n",
      "m40ctau1000 0.37404580152671757\n",
      "m55ctau1000 0.40626238604835513\n",
      "m7ctau10000 0.15461493239271018\n",
      "m15ctau10000 0.19550063371356147\n",
      "m40ctau10000 0.26096997690531176\n",
      "m55ctau10000 0.3065654782915637\n",
      "m7ctau100000 0.16990291262135923\n",
      "m15ctau100000 0.16953316953316952\n",
      "m40ctau100000 0.25925925925925924\n",
      "m55ctau100000 0.24672708962739173\n"
     ]
    },
    {
     "name": "stderr",
     "output_type": "stream",
     "text": [
      "Warning in <TCanvas::Constructor>: Deleting canvas with same name: c\n",
      "Warning in <TROOT::Append>: Replacing existing TH1: h (Potential memory leak).\n",
      "Warning in <TROOT::Append>: Replacing existing TH1: h (Potential memory leak).\n",
      "Warning in <TROOT::Append>: Replacing existing TH1: h (Potential memory leak).\n",
      "Warning in <TROOT::Append>: Replacing existing TH1: h (Potential memory leak).\n",
      "Warning in <TROOT::Append>: Replacing existing TH1: h (Potential memory leak).\n",
      "Warning in <TROOT::Append>: Replacing existing TH1: h (Potential memory leak).\n",
      "Warning in <TROOT::Append>: Replacing existing TH1: h (Potential memory leak).\n",
      "Warning in <TROOT::Append>: Replacing existing TH1: h (Potential memory leak).\n",
      "Warning in <TROOT::Append>: Replacing existing TH1: h (Potential memory leak).\n",
      "Warning in <TROOT::Append>: Replacing existing TH1: h (Potential memory leak).\n",
      "Warning in <TROOT::Append>: Replacing existing TH1: h (Potential memory leak).\n",
      "Warning in <TROOT::Append>: Replacing existing TH1: h (Potential memory leak).\n",
      "Warning in <TROOT::Append>: Replacing existing TH1: h (Potential memory leak).\n",
      "Warning in <TROOT::Append>: Replacing existing TH1: h (Potential memory leak).\n",
      "Warning in <TROOT::Append>: Replacing existing TH1: h (Potential memory leak).\n"
     ]
    },
    {
     "data": {
      "image/png": "[encoded data removed]",
      "text/plain": [
       "<IPython.core.display.Image object>"
      ]
     },
     "metadata": {},
     "output_type": "display_data"
    }
   ],
   "source": [
    "\n",
    "\n",
    "# var = [gLLP_eta, gLLP_decay_vertex_r, gLLP_decay_vertex_z, gLLP_match_cscRechits, gLLP_match_dtRechits]\n",
    "# name = ['gLLP_eta', 'gLLP_decay_vertex_r', 'gLLP_decay_vertex_z', 'gLLP_match_cscRechits', 'gLLP_match_dtRechits', 'cscRechitClusterMe11Ratio',\\\n",
    "#        'deltaRCluster', 'deltaEta', 'cscRechitClusterEta', 'cscRechitClusterPhi', 'cscRechitClusterAvgStation', 'clusterDphi']\n",
    "\n",
    "# xaxis = ['cluster time [ns]', 'max cluster time spread [ns]', 'max jet veto p_{T} [GeV]','max muon veto p_{T} [GeV]', 'max #Delta#phi(met, cluster)', 'max N_{ME11 hits}/N_{rechits}',\\\n",
    "#         '#Delta R(cluster1, cluster2)', '#Delta#eta(cluster1, cluster2)', 'cluster #eta', 'cluster #phi', 'cluster average station', '#Delta#phi(cluster1, cluster2)']\n",
    "\n",
    "# # bins = [ [100,-100,120], [50,0,100], [50,0,500],[50,0,200], [32,0,3.2], [25,0,1.1],[25,0.8,2.5],[30,0,3.2],[35,1,4], [40,0,3.2], [40,0,8], [40,0,5]]\n",
    "\n",
    "# bins = [ [100,-100,120], [50,0,100], [50,0,500],[50,0,200], [32,0,3.2], [22,0,1.1],[40,0,8], [40,0,5], [25,0.8,2.5],[25,0,3.2],[20,1,4], [25,0,3.2]]\n",
    "\n",
    "# setlogy = [1,1,1,1,1,1,1,1,1,1,1,1]\n",
    "\n",
    "c = rt.TCanvas('c','c', 800, 800)\n",
    "leg = rt.TLegend(0.6,0.7,0.80,0.92)\n",
    "\n",
    "#     leg = rt.TLegend(0.5,0.56,0.75,0.92)\n",
    "\n",
    "leg.SetTextSize(0.03)\n",
    "leg.SetBorderSize(0)\n",
    "leg.SetEntrySeparation(0.01)\n",
    "h = {}\n",
    "\n",
    "for i, k in enumerate(tree.keys()):\n",
    "    \n",
    "\n",
    "\n",
    "    h[k] = create_TH1D(np.abs(gLLP_eta[k]).flatten(), axis_title = ['LLP #eta', 'Fraction of events'], binning = [25,0,3])\n",
    "#         if index == 0: h[k] = create_TH1D(np.hstack((var[index][k][sel_csccluster][cond][:,0], var[index][k][sel_csccluster][cond][:,1])), axis_title = [xaxis[index], 'Fraction of events'], binning = bins[index])\n",
    "#         elif index == 8 or index == 9 or index == 10:h[k] = create_TH1D(np.abs(np.hstack((var[index][k][sel_csccluster][cond][:,0], var[index][k][sel_csccluster][cond][:,1]))), axis_title = [xaxis[index], 'Fraction of events'], binning = bins[index])\n",
    "#         elif index == 6 or index == 7 or index == 11:h[k] = create_TH1D(np.abs(var[index][k][cond]), axis_title = [xaxis[index], 'Fraction of events'], binning = bins[index])\n",
    "#         else: h[k] = create_TH1D(var[index][k][sel_csccluster][cond].max(), axis_title = [xaxis[index], 'Fraction of events'], binning = bins[index])\n",
    "\n",
    "#         if k == 'data':leg.AddEntry(h[k],k+'(N_{rechits}<100)')\n",
    "#         elif 'Pi' in k:leg.AddEntry(h[k],k)\n",
    "#         else: leg.AddEntry(h[k],'m_{S} = ' + k[k.find('m')+1:k.find('ctau')] + ' GeV, c#tau = 1 m')\n",
    "    h[k].SetLineColor(std_color_list[i])\n",
    "    if h[k].Integral()>0:h[k].Scale(1./h[k].Integral())\n",
    "#     print(k, np.count_nonzero(np.logical_and(np.abs(gLLP_eta[k]).flatten()<1.2, np.abs(gLLP_eta[k]).flatten()>0.9))/len(gLLP_eta[k].flatten()))\n",
    "    eta_overlap = np.logical_and(np.abs(gLLP_eta[k]).flatten()<1.3, np.abs(gLLP_eta[k]).flatten()>0.7)\n",
    "#     print(k, np.count_nonzero(eta_overlap)/len(gLLP_eta[k].flatten()))\n",
    "#     print(k, np.count_nonzero(np.logical_and(np.abs(gLLP_match_cscRechits[k]).flatten()>10, gLLP_match_dtRechits[k]>10))/np.count_nonzero(eta_overlap))\n",
    "    print(k, np.count_nonzero(np.logical_and(np.abs(gLLP_match_cscRechits[k]).flatten()>30, gLLP_match_dtRechits[k]>30))/np.count_nonzero(eta_overlap))\n",
    "\n",
    "    \n",
    "    if not k[-4:] == '1000':continue\n",
    "    leg.AddEntry(h[k],k)\n",
    "    h[k].Draw('same hist')\n",
    "\n",
    "leg.Draw()\n",
    "c.SetRightMargin(0.04)\n",
    "c.SetLogy()\n",
    "\n",
    "c.Draw()\n",
    "#     plot_path = '/storage/af/user/christiw/gpu/christiw/llp/delayed_jet_analyzer/plots/MuonSystem_Analysis/double_tag/selection_plots'\n",
    "#     c.SaveAs(plot_path+v2+'/csccsc_'+name[index]+\".png\")\n",
    "#     c.SaveAs(plot_path+v2+'/csccsc_'+name[index]+\".pdf\")\n",
    "#     c.SaveAs(plot_path+v2+'/csccsc_'+name[index]+\".C\")\n",
    "\n",
    "\n"
   ]
  },
  {
   "cell_type": "code",
   "execution_count": 56,
   "metadata": {},
   "outputs": [
    {
     "name": "stderr",
     "output_type": "stream",
     "text": [
      "Warning in <TCanvas::Constructor>: Deleting canvas with same name: c\n"
     ]
    },
    {
     "data": {
      "image/png": "[encoded data removed]",
      "text/plain": [
       "<IPython.core.display.Image object>"
      ]
     },
     "metadata": {},
     "output_type": "display_data"
    }
   ],
   "source": [
    "\n",
    "\n",
    "# var = [gLLP_eta, gLLP_decay_vertex_r, gLLP_decay_vertex_z, gLLP_match_cscRechits, gLLP_match_dtRechits]\n",
    "# name = ['gLLP_eta', 'gLLP_decay_vertex_r', 'gLLP_decay_vertex_z', 'gLLP_match_cscRechits', 'gLLP_match_dtRechits', 'cscRechitClusterMe11Ratio',\\\n",
    "#        'deltaRCluster', 'deltaEta', 'cscRechitClusterEta', 'cscRechitClusterPhi', 'cscRechitClusterAvgStation', 'clusterDphi']\n",
    "\n",
    "# xaxis = ['cluster time [ns]', 'max cluster time spread [ns]', 'max jet veto p_{T} [GeV]','max muon veto p_{T} [GeV]', 'max #Delta#phi(met, cluster)', 'max N_{ME11 hits}/N_{rechits}',\\\n",
    "#         '#Delta R(cluster1, cluster2)', '#Delta#eta(cluster1, cluster2)', 'cluster #eta', 'cluster #phi', 'cluster average station', '#Delta#phi(cluster1, cluster2)']\n",
    "\n",
    "# # bins = [ [100,-100,120], [50,0,100], [50,0,500],[50,0,200], [32,0,3.2], [25,0,1.1],[25,0.8,2.5],[30,0,3.2],[35,1,4], [40,0,3.2], [40,0,8], [40,0,5]]\n",
    "\n",
    "# bins = [ [100,-100,120], [50,0,100], [50,0,500],[50,0,200], [32,0,3.2], [22,0,1.1],[40,0,8], [40,0,5], [25,0.8,2.5],[25,0,3.2],[20,1,4], [25,0,3.2]]\n",
    "\n",
    "# setlogy = [1,1,1,1,1,1,1,1,1,1,1,1]\n",
    "\n",
    "c = rt.TCanvas('c','c', 1000, 800)\n",
    "leg = rt.TLegend(0.6,0.7,0.80,0.92)\n",
    "\n",
    "#     leg = rt.TLegend(0.5,0.56,0.75,0.92)\n",
    "\n",
    "leg.SetTextSize(0.03)\n",
    "leg.SetBorderSize(0)\n",
    "leg.SetEntrySeparation(0.01)\n",
    "h = {}\n",
    "\n",
    "for i, k in enumerate(tree.keys()):\n",
    "    if not k == 'm40ctau1000':continue\n",
    "\n",
    "    eta_overlap = np.logical_and(np.abs(gLLP_eta[k]).flatten()<1.3, np.abs(gLLP_eta[k]).flatten()>0.7)\n",
    "    h[k] = create_TH2D(np.column_stack((gLLP_match_cscRechits[k], gLLP_match_dtRechits[k])), axis_title = ['csc hits','dt hits', 'Fraction of events'], binning = [25,0,300, 25, 0,300])\n",
    "\n",
    "\n",
    "    h[k].Draw('colz')\n",
    "\n",
    "leg.Draw()\n",
    "c.SetRightMargin(0.2)\n",
    "c.SetLogz()\n",
    "\n",
    "c.Draw()\n",
    "#     plot_path = '/storage/af/user/christiw/gpu/christiw/llp/delayed_jet_analyzer/plots/MuonSystem_Analysis/double_tag/selection_plots'\n",
    "#     c.SaveAs(plot_path+v2+'/csccsc_'+name[index]+\".png\")\n",
    "#     c.SaveAs(plot_path+v2+'/csccsc_'+name[index]+\".pdf\")\n",
    "#     c.SaveAs(plot_path+v2+'/csccsc_'+name[index]+\".C\")\n",
    "\n",
    "\n"
   ]
  },
  {
   "cell_type": "code",
   "execution_count": null,
   "metadata": {},
   "outputs": [],
   "source": [
    "    print(k, np.count_nonzero(np.logical_and(np.abs(gLLP_match_cscRechits[k]).flatten()>50, gLLP_match_cscRechits[k]>50))/len(gLLP_eta[k].flatten()))\n"
   ]
  },
  {
   "cell_type": "code",
   "execution_count": 41,
   "metadata": {},
   "outputs": [
    {
     "name": "stdout",
     "output_type": "stream",
     "text": [
      "1.3524753\n",
      "0.7649529\n"
     ]
    },
    {
     "data": {
      "image/png": "[encoded data removed]",
      "text/plain": [
       "<Figure size 432x288 with 1 Axes>"
      ]
     },
     "metadata": {
      "needs_background": "light"
     },
     "output_type": "display_data"
    }
   ],
   "source": [
    "plt.hist(np.abs(gLLP_eta[k])[np.logical_and(np.abs(gLLP_match_cscRechits[k]).flatten()>50, gLLP_match_dtRechits[k]>50)])\n",
    "print(np.max(np.abs(gLLP_eta[k])[np.logical_and(np.abs(gLLP_match_cscRechits[k]).flatten()>50, gLLP_match_dtRechits[k]>50)]))\n",
    "print(np.min(np.abs(gLLP_eta[k])[np.logical_and(np.abs(gLLP_match_cscRechits[k]).flatten()>50, gLLP_match_dtRechits[k]>50)]))\n",
    "plt.show()"
   ]
  },
  {
   "cell_type": "markdown",
   "metadata": {},
   "source": [
    "# different detector same mass"
   ]
  },
  {
   "cell_type": "code",
   "execution_count": 13,
   "metadata": {},
   "outputs": [
    {
     "name": "stdout",
     "output_type": "stream",
     "text": [
      "[   100   1000  10000 100000] [0.01759002 0.18113007 0.04129853 0.00455914]\n",
      "[   100   1000  10000 100000] [0.0967126  0.15541549 0.02911568 0.00320182]\n",
      "[   100   1000  10000 100000] [4.87779500e-03 3.16206664e-02 1.10711157e-03 1.10603705e-05]\n",
      "[   100   1000  10000 100000] [0.00138001 0.16794348 0.07747072 0.00964735]\n",
      "[   100   1000  10000 100000] [0.03778148 0.19084354 0.05851958 0.00698627]\n",
      "[   100   1000  10000 100000] [1.2379832e-03 3.6634870e-02 4.3987529e-03 5.6837234e-05]\n",
      "[   100   1000  10000 100000] [1.9385270e-05 3.8945861e-02 1.2929241e-01 2.3429826e-02]\n",
      "[   100   1000  10000 100000] [0.00571751 0.14890444 0.1436274  0.02297585]\n",
      "[   100   1000  10000 100000] [0.00010771 0.01191257 0.02160922 0.00054888]\n",
      "[   100   1000  10000 100000] [1.2488442e-06 1.0095874e-02 1.0753845e-01 2.9417366e-02]\n",
      "[   100   1000  10000 100000] [0.00214932 0.10795941 0.19298339 0.03991914]\n",
      "[   100   1000  10000 100000] [4.3224929e-05 9.5031103e-03 2.9889448e-02 1.5888559e-03]\n"
     ]
    },
    {
     "name": "stderr",
     "output_type": "stream",
     "text": [
      "Warning in <TCanvas::Constructor>: Deleting canvas with same name: c\n",
      "Info in <TCanvas::Print>: png file /storage/af/user/christiw/gpu/christiw/llp/delayed_jet_analyzer/plots/MuonSystem_Analysis/dt/acceptance/mass7_2tagtotal.png has been created\n",
      "Info in <TCanvas::SaveSource>: C++ Macro file: /storage/af/user/christiw/gpu/christiw/llp/delayed_jet_analyzer/plots/MuonSystem_Analysis/dt/acceptance/mass7_2tagtotal.C has been generated\n",
      "Info in <TCanvas::Print>: pdf file /storage/af/user/christiw/gpu/christiw/llp/delayed_jet_analyzer/plots/MuonSystem_Analysis/dt/acceptance/mass7_2tagtotal.pdf has been created\n",
      "Warning in <TCanvas::Constructor>: Deleting canvas with same name: c\n",
      "Info in <TCanvas::Print>: png file /storage/af/user/christiw/gpu/christiw/llp/delayed_jet_analyzer/plots/MuonSystem_Analysis/dt/acceptance/mass15_2tagtotal.png has been created\n",
      "Info in <TCanvas::SaveSource>: C++ Macro file: /storage/af/user/christiw/gpu/christiw/llp/delayed_jet_analyzer/plots/MuonSystem_Analysis/dt/acceptance/mass15_2tagtotal.C has been generated\n",
      "Info in <TCanvas::Print>: pdf file /storage/af/user/christiw/gpu/christiw/llp/delayed_jet_analyzer/plots/MuonSystem_Analysis/dt/acceptance/mass15_2tagtotal.pdf has been created\n",
      "Warning in <TCanvas::Constructor>: Deleting canvas with same name: c\n",
      "Info in <TCanvas::Print>: png file /storage/af/user/christiw/gpu/christiw/llp/delayed_jet_analyzer/plots/MuonSystem_Analysis/dt/acceptance/mass40_2tagtotal.png has been created\n",
      "Info in <TCanvas::SaveSource>: C++ Macro file: /storage/af/user/christiw/gpu/christiw/llp/delayed_jet_analyzer/plots/MuonSystem_Analysis/dt/acceptance/mass40_2tagtotal.C has been generated\n",
      "Info in <TCanvas::Print>: pdf file /storage/af/user/christiw/gpu/christiw/llp/delayed_jet_analyzer/plots/MuonSystem_Analysis/dt/acceptance/mass40_2tagtotal.pdf has been created\n",
      "Warning in <TCanvas::Constructor>: Deleting canvas with same name: c\n",
      "Info in <TCanvas::Print>: png file /storage/af/user/christiw/gpu/christiw/llp/delayed_jet_analyzer/plots/MuonSystem_Analysis/dt/acceptance/mass55_2tagtotal.png has been created\n",
      "Info in <TCanvas::SaveSource>: C++ Macro file: /storage/af/user/christiw/gpu/christiw/llp/delayed_jet_analyzer/plots/MuonSystem_Analysis/dt/acceptance/mass55_2tagtotal.C has been generated\n",
      "Info in <TCanvas::Print>: pdf file /storage/af/user/christiw/gpu/christiw/llp/delayed_jet_analyzer/plots/MuonSystem_Analysis/dt/acceptance/mass55_2tagtotal.pdf has been created\n"
     ]
    },
    {
     "data": {
      "image/png": "[encoded data removed]",
      "text/plain": [
       "<IPython.core.display.Image object>"
      ]
     },
     "metadata": {},
     "output_type": "display_data"
    }
   ],
   "source": [
    "import os\n",
    "\n",
    "\n",
    "met = False\n",
    "total = True\n",
    "\n",
    "if total:\n",
    "    names = ['1 tag DT', '1 tag CSC', '2 tag ']\n",
    "    if met:variables = [accep_met_dt1,accep_met_csc1, accep_met_2tag]\n",
    "    else: variables = [acceptance_dt1, acceptance_csc1, acceptance_2tag]\n",
    "\n",
    "\n",
    "\n",
    "else:\n",
    "    names = ['1 tag DT', '1 tag CSC', '2 tag DT', '2 tag CSC', '1 tag DT + 1 tag CSC']\n",
    "    if met:variables = [accep_met_dt1,accep_met_csc1, accep_met_dt2, accep_met_csc2, accep_met_cross]\n",
    "    else: variables = [acceptance_dt1, acceptance_csc1, acceptance_dt2, acceptance_csc2, acceptance_cross]\n",
    "    \n",
    "    \n",
    "\n",
    "for j, m in enumerate(mass):\n",
    "    \n",
    "#     if not j == 1:continue\n",
    "    c = rt.TCanvas('c','c', 800, 800)\n",
    "    c.SetRightMargin(0.04)\n",
    "    rt.gStyle.SetOptFit(1011)\n",
    "    leg = rt.TLegend(0.6,0.2,0.9,0.35)\n",
    "    leg.SetTextSize(0.025)\n",
    "    leg.SetBorderSize(0)\n",
    "    leg.SetEntrySeparation(0.01)\n",
    "    h = {}\n",
    "    for i, var in enumerate(variables):\n",
    "\n",
    "\n",
    "        y = np.array([var['m'+m+'ctau100'], var['m'+m+'ctau1000'], var['m'+m+'ctau10000'], var['m'+m+'ctau100000']])\n",
    "        x = np.array([int(a) for a in ctaus])\n",
    "        \n",
    "        cond = y>0.0\n",
    "        print(x, y)\n",
    "        h[m+str(i)] = create_TGraph(x[cond]/1000.0, y[cond],  axis_title=['c#tau [m]', 'acceptance'])\n",
    "\n",
    "\n",
    "        h[m+str(i)].SetLineColor(std_color_list[i])\n",
    "        h[m+str(i)].SetLineWidth(3)\n",
    "        h[m+str(i)].GetXaxis().SetTitleOffset(1)\n",
    "        h[m+str(i)].GetYaxis().SetTitleSize(0.05)\n",
    "        h[m+str(i)].GetYaxis().SetTitleOffset(1.5)\n",
    "        h[m+str(i)].GetXaxis().SetLimits(0.1,100.0)\n",
    "        if met:h[m+str(i)].GetYaxis().SetRangeUser(1e-8,0.01)\n",
    "        else: h[m+str(i)].GetYaxis().SetRangeUser(1e-7,1)\n",
    "        leg.AddEntry(h[m+str(i)], names[i], \"L\")\n",
    "\n",
    "\n",
    "    for i,k in enumerate(h.keys()):\n",
    "        h[k].Draw('CA' if i == 0 else 'Csame')\n",
    "\n",
    "    leg.Draw()\n",
    "    c.SetLogy()\n",
    "    c.SetLogx()\n",
    "    c.SetTicky(1)\n",
    "    c.SetTickx(1)\n",
    "    \n",
    "    if met: output_dir = '/storage/af/user/christiw/gpu/christiw/llp/delayed_jet_analyzer/plots/MuonSystem_Analysis/dt/acceptance_met/'\n",
    "    else: output_dir = '/storage/af/user/christiw/gpu/christiw/llp/delayed_jet_analyzer/plots/MuonSystem_Analysis/dt/acceptance/'\n",
    "    if not os.path.isdir(output_dir):os.makedirs(output_dir)\n",
    "    name = output_dir+'mass'+m\n",
    "\n",
    "    if total:\n",
    "        c.SaveAs(name+'_2tagtotal.png')\n",
    "        c.SaveAs(name+'_2tagtotal.C')\n",
    "        c.SaveAs(name+'_2tagtotal.pdf')\n",
    "    else:\n",
    "        c.SaveAs(name+'.png')\n",
    "        c.SaveAs(name+'.C')\n",
    "        c.SaveAs(name+'.pdf')\n",
    "\n",
    "    c.Draw()\n",
    "\n",
    "\n",
    "\n"
   ]
  },
  {
   "cell_type": "code",
   "execution_count": 6,
   "metadata": {},
   "outputs": [
    {
     "name": "stdout",
     "output_type": "stream",
     "text": [
      "[   100   1000  10000 100000] [0.00051871 0.00245022 0.0008714  0.00010995]\n",
      "[   100   1000  10000 100000] [6.1465416e-04 1.6119396e-03 5.4284831e-04 6.6587017e-05]\n",
      "[   100   1000  10000 100000] [2.8408962e-05 4.3636872e-04 2.3566145e-05 4.5320724e-07]\n",
      "[   100   1000  10000 100000] [2.7982485e-06 2.0721632e-04 1.0815684e-05 2.7317640e-07]\n",
      "[   100   1000  10000 100000] [2.4624309e-05 8.4504209e-05 3.6569836e-06 1.8003082e-07]\n",
      "[   100   1000  10000 100000] [9.8640521e-07 1.4464819e-04 9.0934773e-06 0.0000000e+00]\n"
     ]
    },
    {
     "name": "stderr",
     "output_type": "stream",
     "text": [
      "Warning in <TCanvas::Constructor>: Deleting canvas with same name: c\n"
     ]
    },
    {
     "data": {
      "image/png": "[encoded data removed]",
      "text/plain": [
       "<IPython.core.display.Image object>"
      ]
     },
     "metadata": {},
     "output_type": "display_data"
    }
   ],
   "source": [
    "import os\n",
    "\n",
    "\n",
    "met = 1\n",
    "\n",
    "\n",
    "names = ['1 tag DT', '1 tag CSC', '2 tag total', '2 tag DT', '2 tag CSC', '1 tag DT + 1 tag CSC']\n",
    "if met:variables = [accep_met_dt1,accep_met_csc1, accep_met_2tag, accep_met_dt2, accep_met_csc2, accep_met_cross]\n",
    "else: variables = [acceptance_dt1, acceptance_csc1, acceptance_2tag, acceptance_dt2, acceptance_csc2, acceptance_cross]\n",
    "    \n",
    "    \n",
    "\n",
    "for j, m in enumerate(mass):\n",
    "    \n",
    "    if not m == '15':continue\n",
    "    c = rt.TCanvas('c','c', 800, 800)\n",
    "    c.SetRightMargin(0.04)\n",
    "    rt.gStyle.SetOptFit(1011)\n",
    "    leg = rt.TLegend(0.6,0.2,0.9,0.35)\n",
    "    leg.SetTextSize(0.025)\n",
    "    leg.SetBorderSize(0)\n",
    "    leg.SetEntrySeparation(0.01)\n",
    "    h = {}\n",
    "    for i, var in enumerate(variables):\n",
    "\n",
    "\n",
    "        y = np.array([var['m'+m+'ctau100'], var['m'+m+'ctau1000'], var['m'+m+'ctau10000'], var['m'+m+'ctau100000']])\n",
    "        x = np.array([int(a) for a in ctaus])\n",
    "        \n",
    "        cond = y>0.0\n",
    "        print(x, y)\n",
    "        h[m+str(i)] = create_TGraph(x[cond]/1000.0, y[cond],  axis_title=['c#tau [m]', 'acceptance'])\n",
    "\n",
    "\n",
    "        h[m+str(i)].SetLineColor(std_color_list[i])\n",
    "        h[m+str(i)].SetLineWidth(3)\n",
    "        h[m+str(i)].GetXaxis().SetTitleOffset(1)\n",
    "        h[m+str(i)].GetYaxis().SetTitleSize(0.05)\n",
    "        h[m+str(i)].GetYaxis().SetTitleOffset(1.5)\n",
    "        h[m+str(i)].GetXaxis().SetLimits(0.1,100.0)\n",
    "        if met:h[m+str(i)].GetYaxis().SetRangeUser(1e-8,0.01)\n",
    "        else: h[m+str(i)].GetYaxis().SetRangeUser(1e-7,1)\n",
    "        leg.AddEntry(h[m+str(i)], names[i], \"L\")\n",
    "\n",
    "\n",
    "    for i,k in enumerate(h.keys()):\n",
    "        h[k].Draw('CA' if i == 0 else 'Csame')\n",
    "\n",
    "    leg.Draw()\n",
    "    c.SetLogy()\n",
    "    c.SetLogx()\n",
    "    c.SetTicky(1)\n",
    "    c.SetTickx(1)\n",
    "    \n",
    "#     if met: output_dir = '/storage/af/user/christiw/gpu/christiw/llp/delayed_jet_analyzer/plots/MuonSystem_Analysis/dt/acceptance_met/'\n",
    "#     else: output_dir = '/storage/af/user/christiw/gpu/christiw/llp/delayed_jet_analyzer/plots/MuonSystem_Analysis/dt/acceptance/'\n",
    "#     if not os.path.isdir(output_dir):os.makedirs(output_dir)\n",
    "#     name = output_dir+'mass'+m\n",
    "\n",
    "#     if total:\n",
    "#         c.SaveAs(name+'_all.png')\n",
    "#         c.SaveAs(name+'_all.C')\n",
    "#         c.SaveAs(name+'_all.pdf')\n",
    "#     else:\n",
    "#         c.SaveAs(name+'.png')\n",
    "#         c.SaveAs(name+'.C')\n",
    "#         c.SaveAs(name+'.pdf')\n",
    "\n",
    "    c.Draw()\n",
    "\n",
    "\n",
    "\n",
    "\n"
   ]
  },
  {
   "cell_type": "markdown",
   "metadata": {},
   "source": [
    "# hepdata plot for EXO-20-015"
   ]
  },
  {
   "cell_type": "code",
   "execution_count": 4,
   "metadata": {},
   "outputs": [
    {
     "name": "stdout",
     "output_type": "stream",
     "text": [
      "[       5       10       15       20       30       40       50       60\n",
      "      100      125      150      200      300      500      600      700\n",
      "      800      900     1000     2000     3000     4000     5000     6000\n",
      "     7000     8000    10000    20000    30000    50000   100000   200000\n",
      "   300000   500000  1000000  2000000  3000000  5000000  6000000 10000000]\n",
      "[       5       10       15       20       30       40       50       60\n",
      "      100      125      150      200      300      500      600      700\n",
      "      800      900     1000     2000     3000     4000     5000     6000\n",
      "     7000     8000    10000    20000    30000    50000   100000   200000\n",
      "   300000   500000  1000000  2000000  3000000  5000000  6000000 10000000]\n",
      "[       5       10       15       20       30       40       50       60\n",
      "      100      125      150      200      300      500      600      700\n",
      "      800      900     1000     2000     3000     4000     5000     6000\n",
      "     7000     8000    10000    20000    30000    50000   100000   200000\n",
      "   300000   500000  1000000  2000000  3000000  5000000  6000000 10000000]\n",
      "[       5       10       15       20       30       40       50       60\n",
      "      100      125      150      200      300      500      600      700\n",
      "      800      900     1000     2000     3000     4000     5000     6000\n",
      "     7000     8000    10000    20000    30000    50000   100000   200000\n",
      "   300000   500000  1000000  2000000  3000000  5000000  6000000 10000000]\n",
      "\n"
     ]
    },
    {
     "data": {
      "image/png": "[encoded data removed]",
      "text/plain": [
       "<IPython.core.display.Image object>"
      ]
     },
     "metadata": {},
     "output_type": "display_data"
    }
   ],
   "source": [
    "import numpy.ma as ma\n",
    "import ROOT as rt\n",
    "import os\n",
    "import importlib\n",
    "import math\n",
    "sys.path.append('/storage/af/user/christiw/login-1/christiw/LLP/CMSSW_9_4_4/src/llp_analyzer/python/')\n",
    "\n",
    "from helper import  weight_calc\n",
    "\n",
    "importlib.reload(sys.modules['CMS_lumi'])\n",
    "\n",
    "\n",
    "OLD_CTAU= [100,1000,10000,100000]\n",
    "\n",
    "\n",
    "\n",
    "leg = rt.TLegend(0.6,0.2,0.9,0.35)\n",
    "leg.SetTextSize(0.025)\n",
    "leg.SetBorderSize(0)\n",
    "leg.SetEntrySeparation(0.01)\n",
    "c = rt.TCanvas('c','c', 800, 800)\n",
    "c.SetRightMargin(0.04)\n",
    "rt.gStyle.SetOptFit(1011)\n",
    "h = {}\n",
    "\n",
    "ctaus = ['5','10','15','20','30','40', '50','60', '100', '125','150','200','300','500','600','700','800','900','1000', '2000','3000','4000', '5000', '6000','7000','8000','10000', '20000','30000','50000',\\\n",
    "         '100000', '200000', '300000', '500000', '1000000', '2000000', '3000000', '5000000', '6000000', '10000000'] #mm\n",
    "acceptance = {}\n",
    "\n",
    "for i, m in enumerate(mass):\n",
    "    acceptance[m] = []\n",
    "    #ctau reweighting\n",
    "    for ct in ctaus:\n",
    "        accep_temp = 0\n",
    "        ctf = int(ct)\n",
    "        ct_list = 10**int(math.log10(ctf))\n",
    "        if ctf < OLD_CTAU[0]: ct_list = [OLD_CTAU[0]]\n",
    "        elif ctf>OLD_CTAU[-1]: ct_list = [OLD_CTAU[-1]]\n",
    "        elif ct_list == int(ct): ct_list = [int(ct)]\n",
    "        else:ct_list = [ct_list,ct_list*10]\n",
    "   \n",
    "        \n",
    "        for j, ct0 in enumerate(ct_list):\n",
    "            k = 'm'+str(m)+'ctau'+str(ct0)\n",
    "            T = tree[k]\n",
    "            if np.count_nonzero(sel_ev_csc1[k])==0:continue\n",
    "            gLLP_ctau = T.array('gLLP_ctau')[sel_ev_csc1[k]]\n",
    "            weight_ctau = weight_calc(gLLP_ctau, int(ct)/10, int(ct0)/10) # convert everything to cm\n",
    "            gLLP_ctau = np.sum(T.array('gLLP_ctau'), axis = 1)[sel_ev_csc1[k]]\n",
    "            if len(ct_list) == 1:weight_cond = gLLP_ctau >= 0\n",
    "            else:\n",
    "                if j == 0 : weight_cond = gLLP_ctau<int(ct_list[0]/2)\n",
    "                else: weight_cond = gLLP_ctau>=int(ct_list[0]/2)\n",
    "            weight = (T.array('weight')*T.array('higgsPtWeight'))[sel_ev_csc1[k]]\n",
    "            w = (weight*weight_ctau)[weight_cond]\n",
    "            accep_temp += np.sum(w)\n",
    "        acceptance[m].append(accep_temp/6664892.0)\n",
    "#         print(ct, m, acceptance[m][-1])\n",
    "    \n",
    "    #######################\n",
    "    \n",
    "#     y = np.array([acceptance_csc1['m'+m+'ctau100'], acceptance_csc1['m'+m+'ctau1000'], acceptance_csc1['m'+m+'ctau10000'], acceptance_csc1['m'+m+'ctau100000']])\n",
    "    x = np.array([int(a) for a in ctaus])\n",
    "    y = np.array(acceptance[m])\n",
    "    cond = y>0.0\n",
    "    print(x)\n",
    "    h[m] = create_TGraph(x[cond]/1000.0, y[cond],  axis_title=['c#tau [m]', 'Acceptance'])\n",
    "\n",
    "\n",
    "    if i == 0:h[m].SetLineColor(std_color_list[3])\n",
    "    else:h[m].SetLineColor(std_color_list[i-1])\n",
    "\n",
    "    h[m].SetLineWidth(3)\n",
    "    h[m].GetXaxis().SetTitleOffset(1)\n",
    "    h[m].GetYaxis().SetTitleSize(0.05)\n",
    "    h[m].GetYaxis().SetTitleOffset(1.5)\n",
    "    h[m].GetXaxis().SetLimits(0.01,10000.0)\n",
    "    h[m].GetYaxis().SetRangeUser(1e-4,5)\n",
    "    leg.AddEntry(h[m], \"m_{S} = \"+str(m)+\" GeV\", \"L\")\n",
    "\n",
    "    \n",
    "    ###### save to text file for hepdata ######\n",
    "    outputDir = '/storage/af/user/christiw/login-1/christiw/LLP/CMSSW_9_4_4/src/llp_analyzer/data/SupplementaryMaterials/'\n",
    "    if not os.path.isdir(outputDir):os.makedirs(outputDir)\n",
    "    outputFileName = outputDir + 'acceptance_m'+str(m)\n",
    "    outputFileName += '.txt'\n",
    "    np.savetxt(outputFileName, np.column_stack((x[cond]/1000.0, y[cond])), delimiter=\"\\t\")\n",
    "\n",
    "\n",
    "for i,m in enumerate(h.keys()):\n",
    "    h[m].Draw('CA' if i == 0 else 'Csame')\n",
    "#     h[m].Draw('LA' if i == 0 else 'Lsame')\n",
    "\n",
    "CMS_lumi.cmsText     = \"CMS\"\n",
    "CMS_lumi.iPos=11\n",
    "CMS_lumi.relPosX = 0.1\n",
    "CMS_lumi.relPosY = 0.05        \n",
    "CMS_lumi.writeExtraText = 1\n",
    "CMS_lumi.extraText   = \"Simulation Supplementary\"\n",
    "CMS_lumi.CMS_lumi(c, 0, 11)\n",
    "\n",
    "leg.Draw()\n",
    "\n",
    "\n",
    "c.SetLogy()\n",
    "c.SetLogx()\n",
    "c.SetTicky(1)\n",
    "c.SetTickx(1)\n",
    "# output_dir = '/storage/af/user/christiw/gpu/christiw/llp/delayed_jet_analyzer/plots/MuonSystem_Analysis/csc/acceptance/'\n",
    "# if not os.path.isdir(output_dir):os.makedirs(output_dir)\n",
    "    \n",
    "# name = output_dir+names[j]\n",
    "# print(name)\n",
    "\n",
    "\n",
    "#     c.SaveAs(name+'.png')\n",
    "#     c.SaveAs(name+'.C')\n",
    "#     c.SaveAs(name+'.pdf')\n",
    "c.Draw()\n",
    "\n",
    "\n",
    "\n"
   ]
  },
  {
   "cell_type": "code",
   "execution_count": 14,
   "metadata": {},
   "outputs": [
    {
     "name": "stdout",
     "output_type": "stream",
     "text": [
      "\n"
     ]
    },
    {
     "name": "stderr",
     "output_type": "stream",
     "text": [
      "Warning in <TCanvas::Constructor>: Deleting canvas with same name: c\n",
      "Info in <TCanvas::Print>: png file /storage/af/user/christiw/gpu/christiw/llp/delayed_jet_analyzer/plots/MuonSystem_Analysis/acceptance/csc_acceptance.png has been created\n",
      "Info in <TCanvas::SaveSource>: C++ Macro file: /storage/af/user/christiw/gpu/christiw/llp/delayed_jet_analyzer/plots/MuonSystem_Analysis/acceptance/csc_acceptance.C has been generated\n",
      "Info in <TCanvas::Print>: pdf file /storage/af/user/christiw/gpu/christiw/llp/delayed_jet_analyzer/plots/MuonSystem_Analysis/acceptance/csc_acceptance.pdf has been created\n"
     ]
    },
    {
     "data": {
      "image/png": "[encoded data removed]",
      "text/plain": [
       "<IPython.core.display.Image object>"
      ]
     },
     "metadata": {},
     "output_type": "display_data"
    }
   ],
   "source": [
    "importlib.reload(sys.modules['CMS_lumi'])\n",
    "\n",
    "\n",
    "leg = rt.TLegend(0.55,0.18,0.84,0.35)\n",
    "# leg = rt.TLegend(0.7,0.75,0.84,0.9)\n",
    "leg.SetTextSize(0.035)\n",
    "leg.SetBorderSize(0)\n",
    "leg.SetEntrySeparation(0.01)\n",
    "\n",
    "c = rt.TCanvas('c','c', 800, 800)\n",
    "c.SetRightMargin(0.04)\n",
    "rt.gStyle.SetOptFit(1011)\n",
    "for i,m in enumerate(h.keys()):\n",
    "    if i == 0:h[m].SetLineColor(std_color_list[3])\n",
    "    else:h[m].SetLineColor(std_color_list[i-1])\n",
    "#     h[m].GetXaxis().SetLimits(0.01,10000.0)\n",
    "    h[m].GetYaxis().SetRangeUser(1e-5,1)\n",
    "    leg.AddEntry(h[m], \"m_{S} = \"+str(m)+\" GeV\", \"L\")\n",
    "\n",
    "    h[m].Draw('CA' if i == 0 else 'Csame')\n",
    "#     h[m].Draw('LA' if i == 0 else 'Lsame')\n",
    "\n",
    "\n",
    "CMS_lumi.cmsText     = \"CMS\"\n",
    "CMS_lumi.iPos=11\n",
    "CMS_lumi.relPosX = 0.05\n",
    "CMS_lumi.relPosY = 0.041      \n",
    "CMS_lumi.writeExtraText = 1\n",
    "CMS_lumi.extraText   = \"Simulation Supplementary\"\n",
    "CMS_lumi.CMS_lumi(c, 0, 10)\n",
    "\n",
    "leg.Draw()\n",
    "\n",
    "\n",
    "c.SetLogy()\n",
    "c.SetLogx()\n",
    "c.SetTicky(1)\n",
    "c.SetTickx(1)\n",
    "output_dir = '/storage/af/user/christiw/gpu/christiw/llp/delayed_jet_analyzer/plots/MuonSystem_Analysis/acceptance/'\n",
    "if not os.path.isdir(output_dir):os.makedirs(output_dir)\n",
    "    \n",
    "# name = output_dir+names[j]\n",
    "# print(name)\n",
    "\n",
    "\n",
    "c.SaveAs(output_dir+'csc_acceptance.png')\n",
    "c.SaveAs(output_dir+'csc_acceptance.C')\n",
    "c.SaveAs(output_dir+'csc_acceptance.pdf')\n",
    "c.Draw()\n",
    "\n",
    "\n",
    "\n"
   ]
  },
  {
   "cell_type": "code",
   "execution_count": null,
   "metadata": {},
   "outputs": [],
   "source": []
  }
 ],
 "metadata": {
  "kernelspec": {
   "display_name": "Python 3",
   "language": "python",
   "name": "python3"
  },
  "language_info": {
   "codemirror_mode": {
    "name": "ipython",
    "version": 3
   },
   "file_extension": ".py",
   "mimetype": "text/x-python",
   "name": "python",
   "nbconvert_exporter": "python",
   "pygments_lexer": "ipython3",
   "version": "3.6.8"
  }
 },
 "nbformat": 4,
 "nbformat_minor": 4
}
