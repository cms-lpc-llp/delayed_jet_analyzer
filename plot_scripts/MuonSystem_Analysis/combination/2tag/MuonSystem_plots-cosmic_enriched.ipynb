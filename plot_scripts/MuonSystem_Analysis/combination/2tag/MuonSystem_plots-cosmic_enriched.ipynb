{
 "cells": [
  {
   "cell_type": "code",
   "execution_count": 153,
   "metadata": {},
   "outputs": [
    {
     "name": "stdout",
     "output_type": "stream",
     "text": [
      "3.6.8 (default, Aug  7 2019, 17:28:10) \n",
      "[GCC 4.8.5 20150623 (Red Hat 4.8.5-39)]\n"
     ]
    }
   ],
   "source": [
    "# select for a cosmic muon enriched region and choose the optimal chi2reduced selection for cosmic muon veto\n",
    "\n",
    "import ROOT as rt\n",
    "import csv\n",
    "import re\n",
    "import sys\n",
    "import collections\n",
    "\n",
    "from collections import OrderedDict\n",
    "import uproot\n",
    "import pandas as pd\n",
    "from root_numpy import array2tree\n",
    "\n",
    "\n",
    "import scipy\n",
    "import awkward\n",
    "import numpy as np\n",
    "import time\n",
    "import numba\n",
    "from numba import jit\n",
    "from matplotlib import pyplot as plt\n",
    "sys.path.append('/storage/af/user/christiw/gpu/christiw/llp/delayed_jet_analyzer/lib/')\n",
    "sys.path.append('/storage/af/user/christiw/gpu/christiw/llp/delayed_jet_analyzer/lib/')\n",
    "from histo_utilities import create_TH1D, create_TH2D, std_color_list, create_TGraph, make_ratio_plot\n",
    "from helper_functions import deltaR, deltaPhi\n",
    "import numpy as np\n",
    "from scipy.stats import norm\n",
    "import math\n",
    "import CMS_lumi, tdrstyle\n",
    "a= tdrstyle.setTDRStyle()\n",
    "CMS_lumi.writeExtraText = 0\n",
    "\n",
    "\n",
    "print(sys.version)"
   ]
  },
  {
   "cell_type": "markdown",
   "metadata": {},
   "source": [
    "# Load ntuples"
   ]
  },
  {
   "cell_type": "code",
   "execution_count": 154,
   "metadata": {},
   "outputs": [
    {
     "name": "stdout",
     "output_type": "stream",
     "text": [
      "data /storage/af/group/phys_exotica/delayedjets/displacedJetMuonAnalyzer/csc/V1p17/Data2018//v5/v164/normalized/Run2_displacedJetMuonNtupler_V1p17_Data2016_Data2017_Data2018-HighMET_goodLumi.root\n",
      "NEvents 22763250.0\n"
     ]
    }
   ],
   "source": [
    "fpath =OrderedDict()\n",
    "tree = OrderedDict()\n",
    "\n",
    "\n",
    "start_t = time.time()\n",
    "data_year = 'full'\n",
    "\n",
    "v1 = 'V1p17'\n",
    "\n",
    "\n",
    "v2 = '/v5/v135'\n",
    "v2 = '/v5/v140'\n",
    "# v2 = '/v5/v137'\n",
    "\n",
    "\n",
    "v2 = '/v5/v164'\n",
    "\n",
    "\n",
    "if data_year == 2016:\n",
    "    data_path = '/storage/af/group/phys_exotica/delayedjets/displacedJetMuonAnalyzer/csc/'+v1+'/Data2016/'+v2+'/normalized/'\n",
    "    fpath['data'] = data_path + 'Run2_displacedJetMuonNtupler_'+v1+'_Data2016_Run2016-HighMET-07Aug17_goodLumi.root'\n",
    "elif data_year == 2017:\n",
    "    data_path = '/storage/af/group/phys_exotica/delayedjets/displacedJetMuonAnalyzer/csc/'+v1+'/Data2017/'+v2+'/normalized/'\n",
    "    fpath['data'] = data_path + 'Run2_displacedJetMuonNtupler_'+v1+'_Data2017_Run2017-HighMET-17Nov2017_goodLumi.root'\n",
    "elif data_year == 2018:\n",
    "    data_path = '/storage/af/group/phys_exotica/delayedjets/displacedJetMuonAnalyzer/csc/'+v1+'/Data2018/'+v2+'/normalized/'\n",
    "    fpath['data'] = data_path + 'Run2_displacedJetMuonNtupler_'+v1+'_Data2018_17Sept2018_Run2018-HighMET-17Sep2018_goodLumi.root'\n",
    "else: #2016, 2017, 2018AB\n",
    "    data_path = '/storage/af/group/phys_exotica/delayedjets/displacedJetMuonAnalyzer/csc/'+v1+'/Data2018/'+v2+'/normalized/'\n",
    "    fpath['data'] = data_path + 'Run2_displacedJetMuonNtupler_'+v1+'_Data2016_Data2017_Data2018-HighMET_goodLumi.root'\n",
    "\n",
    "\n",
    "# decay = 'bbbb'\n",
    "# mass = [  '15', '40','55']\n",
    "# ctaus  = ['100', '1000','10000', '100000']\n",
    "# for ct in ctaus:\n",
    "#     for m in mass:\n",
    "#         v2 = '/v1/v145'\n",
    "#         mc_path = '/storage/af/group/phys_exotica/delayedjets/displacedJetMuonAnalyzer/csc/'+v1+'/MC_all'+v2+'/normalized/'\n",
    "#         fpath['m'+m+'ctau'+ct] = mc_path + 'ggH_HToSSTo'+decay+'_MH-125_MS-'+str(m)+'_ctau-'+ct+'_137000pb_weighted.root'\n",
    "        \n",
    "NEvents = {}\n",
    "for k,v in fpath.items():\n",
    "    print (k, v)\n",
    "    root_dir = uproot.open(v) \n",
    "\n",
    "    tree[k] = root_dir['MuonSystem']\n",
    "    NEvents[k] = root_dir['NEvents'][1]\n",
    "    a = tree[k][\"weight\"].array()\n",
    "    print(\"NEvents\",NEvents[k])"
   ]
  },
  {
   "cell_type": "markdown",
   "metadata": {},
   "source": [
    "# load variables"
   ]
  },
  {
   "cell_type": "code",
   "execution_count": 160,
   "metadata": {},
   "outputs": [],
   "source": [
    "\n",
    "JET_PT_CUT = 10.0\n",
    "MUON_PT_CUT = 20.0\n",
    "N_RECHIT_CUT = 90\n",
    "jetPt_cut = 50\n",
    "tightid = False\n",
    "ring_cut = 50\n",
    "\n",
    "cut_based = True\n",
    "cut_based_version = 'v4'\n",
    "\n",
    "intime = True\n",
    "DPHI_CUT = 1\n",
    "\n",
    "\n",
    "gLLP_csc = {}\n",
    "\n",
    "nCscClusters = {}\n",
    "selections_cluster = {}\n",
    "sel_cluster = {}\n",
    "met = {}\n",
    "metPhi = {}\n",
    "\n",
    "jetMet_dPhiMin = {}\n",
    "dphiMet_cluster = {}\n",
    "nRechits_sr = {}\n",
    "jetMet_dPhiMin30_sr = {}\n",
    "cscClusterTimeSpread = {}\n",
    "bdt_score = {}\n",
    "nCscChambers = {}\n",
    "a = {}\n",
    "b = {}\n",
    "c = {}\n",
    "d = {}\n",
    "sel_ev = {}\n",
    "cluster_index = ''\n",
    "nRings = {}\n",
    "\n",
    "cscRechitClusterMuonVetoPt = {}\n",
    "cscRechitClusterJetVetoPt = {}\n",
    "\n",
    "cscRechitClusterTime = {}\n",
    "cscRechitClusterPhi = {}\n",
    "cscRechitClusterEta = {}\n",
    "cscClusterSize = {}\n",
    "cscRechitClusterNStation = {}\n",
    "cscRechitClusterMaxStation = {}\n",
    "cscRechitClusterDPhiMet = {}\n",
    "cscRechitClusterMe11Ratio = {}\n",
    "cscRechitClusterMe12Ratio = {}\n",
    "cscRechitClusterMe11 = {}\n",
    "cscRechitClusterMe12 = {}\n",
    "cscRechitClusterDphi = {}\n",
    "\n",
    "deltaRCluster = {}\n",
    "nDtSectors = {}\n",
    "metPhi = {}\n",
    "nCscClusters = {}\n",
    "nDtClusters = {}\n",
    "evtNum = {}\n",
    "runNum = {}\n",
    "lumiNum = {}\n",
    "dtRechitClusterDphi = {}\n",
    "nDtWheels25 = {}\n",
    "nDTRechitsNoiseSec7 = {}\n",
    "nDTRechitsNoiseSec8 = {}\n",
    "nDTRechitsNoiseSec9 = {}\n",
    "nDTRechitsNoiseSec10 = {}\n",
    "nDtStations25 = {}\n",
    "\n",
    "cosmicTwoLegCluster1NStation = {}\n",
    "cosmicTwoLegCluster2NStation = {}\n",
    "\n",
    "cosmicTwoLegClusterChi2Reduced = {}\n",
    "\n",
    "\n",
    "dtRechitClusterDPhiMet = {}\n",
    "dtRechitClusterNSegmentStation1 = {}\n",
    "dtRechitClusterNSegmentStation2 = {}\n",
    "dtRechitClusterNSegmentStation3 = {}\n",
    "dtRechitClusterNSegmentStation4 = {}\n",
    "dtRechitClusterNSegStation1 = {}\n",
    "dtRechitClusterNSegStation2 = {}\n",
    "dtRechitClusterNSegStation3 = {}\n",
    "dtRechitClusterNSegStation4 = {}\n",
    "\n",
    "dtRechitClusterNOppositeSegStation1 = {}\n",
    "dtRechitClusterNOppositeSegStation2 = {}\n",
    "dtRechitClusterNOppositeSegStation3 = {}\n",
    "dtRechitClusterNOppositeSegStation4 = {}\n",
    "\n",
    "dtRechitClusterMuonVetoPt = {}\n",
    "dtRechitClusterJetVetoPt = {}\n",
    "dtRechitClusterPhi = {}\n",
    "dtRechitClusterEta = {}\n",
    "dtClusterSize = {}\n",
    "dtRechitClusterTime = {}\n",
    "dtRechitClusterNStation = {}\n",
    "dtRechitClusterDPhiMet = {}\n",
    "dtRechitClusterMaxStation = {}\n",
    "dtRechitClusterMaxStationRatio = {}\n",
    "dtRechitClusterDphi = {}\n",
    "dtRechitClusterMaxDPhi ={}\n",
    "nCosmic = {}\n",
    "cosmicTwoLegClusterChi2Reduced = {}\n",
    "cosmicTwoLegCluster2NStation = {}\n",
    "cosmicTwoLegCluster1NStation = {}\n",
    "cosmicTwoLegCluster2Index = {}\n",
    "cosmicTwoLegCluster1Index = {}\n",
    "dtSegNStation = {}\n",
    "nMe11 = {}\n",
    "nDtRings = {}\n",
    "nCscRings = {}\n",
    "dtSegPhi = {}\n",
    "dtRechitCluster_match_RPChits_dPhi0p5={}\n",
    "\n",
    "category =2\n",
    "\n",
    "#2csc, 2dt, 1csc+1dt\n",
    "for k, T in tree.items():\n",
    "        \n",
    "########### SELECTION: CLUSTERS ############\n",
    "      \n",
    "    sel_csccluster = np.logical_and(T.array('cscRechitCluster' + cluster_index + 'TimeWeighted') < 12.5, \\\n",
    "                                                                         T.array('cscRechitCluster' + cluster_index + 'TimeWeighted') > -5)\n",
    "    sel_csccluster = np.logical_and(sel_csccluster, T.array('cscRechitCluster' + cluster_index + 'TimeSpreadWeightedAll')<20)\n",
    "    sel_csccluster = np.logical_and(sel_csccluster, np.abs(T.array('cscRechitCluster' + cluster_index + 'MetEENoise_dPhi'))<1.2)\n",
    "    sel_csccluster = np.logical_and(sel_csccluster, T.array('cscRechitCluster' + cluster_index + 'JetVetoPt')<30)\n",
    "    sel_csccluster = np.logical_and(sel_csccluster, T.array('cscRechitCluster' + cluster_index + 'Me11Ratio')<1.2)\n",
    "    sel_csccluster = np.logical_and(sel_csccluster, np.logical_not(np.logical_and(T.array('cscRechitClusterMuonVetoPt') >= 30, T.array('cscRechitClusterMuonVetoGlobal'))))\n",
    "\n",
    "\n",
    "    sel_dtcluster = np.abs(T.array('dtRechitClusterJetVetoPt')) < 50\n",
    "    sel_dtcluster = np.logical_and(sel_dtcluster, np.logical_not(np.logical_and(T.array('dtRechitClusterMaxStation')==1, T.array('dtRechitClusterMaxStationRatio')>=0.9)))\n",
    "#     if k == 'data': sel_dtcluster = np.logical_and(sel_dtcluster, np.abs(T.array('dtRechitClusterMetEENoise_dPhi')) >= 1)\n",
    "    sel_dtcluster = np.logical_and(sel_dtcluster, np.abs(T.array('dtRechitClusterMetEENoise_dPhi')) < 1)        \n",
    "    sel_dtcluster = np.logical_and(sel_dtcluster, np.logical_not(np.logical_and(T.array('dtRechitClusterMuonVetoPt') >= 10, T.array('dtRechitClusterMuonVetoLooseId'))))\n",
    "    \n",
    "    \n",
    "    cut = 5\n",
    "    station = (T.array('dtRechitClusterNSegmentStation1')>cut).astype(int)+(T.array('dtRechitClusterNSegmentStation2')>cut).astype(int)\\\n",
    "+(T.array('dtRechitClusterNSegmentStation3')>cut).astype(int)+(T.array('dtRechitClusterNSegmentStation4')>cut).astype(int)\n",
    "\n",
    "    max_station = np.maximum(np.maximum(np.maximum(T.array('dtRechitClusterNSegmentStation1'), T.array('dtRechitClusterNSegmentStation2')), T.array('dtRechitClusterNSegmentStation3')), T.array('dtRechitClusterNSegmentStation4'))\n",
    "    min_station = np.minimum(np.minimum(np.minimum(T.array('dtRechitClusterNSegmentStation1'), T.array('dtRechitClusterNSegmentStation2')), T.array('dtRechitClusterNSegmentStation3')), T.array('dtRechitClusterNSegmentStation4'))\n",
    "\n",
    "    sel_dtcluster = np.logical_and(sel_dtcluster, np.logical_or(station<4, min_station/max_station<0.4)) #remove if both clusters are 4 stations\n",
    "#     if addNoiseFlag and not 'data' in k: \n",
    "#         sel_dtcluster = np.logical_and(sel_dtcluster, (T.array('dtRechitClusterSize')+T.array('dtRechitClusterNoiseHit')) >= 50)\n",
    "#     else: sel_dtcluster = np.logical_and(sel_dtcluster, T.array('dtRechitClusterSize') >= 50)\n",
    "\n",
    "        \n",
    "        \n",
    "\n",
    "########### SELECTION: JETS ############\n",
    "    \n",
    "    sel_jet = np.logical_and(T.array('jetPt') > 30, np.abs(T.array('jetEta')) < 2.4 )\n",
    "    sel_jet = np.logical_and(sel_jet, np.logical_not(T.array('jetTightPassId')))\n",
    "\n",
    "########### SELECTION: COSMIC MUONS ############\n",
    "#     sel_cosmic = T.array('cosmicTwoLegCluster1NStation')+ T.array('cosmicTwoLegCluster2NStation')>=4\n",
    "#     sel_cosmic = np.logical_and(sel_cosmic, T.array('cosmicTwoLegClusterChi2Reduced')<2500)\n",
    "#     sel_cosmic = np.logical_and(sel_cosmic, T.array('cosmicTwoLegCluster1NStation')>=2)\n",
    "#     sel_cosmic = np.logical_and(sel_cosmic, T.array('cosmicTwoLegCluster1NStation')>=2)\n",
    "    \n",
    "            \n",
    "########### SELECTION: SPIKE IN DT ############\n",
    "    \n",
    "    spike = np.logical_and( T.array('nDTRechitsSector')[:,0,0,7]>50,  T.array('nDTRechitsSector')[:,0,0,7]+T.array('nDTRechitsSector')[:,0,0,8]+T.array('nDTRechitsSector')[:,0,0,9]>120)\n",
    "    spike = np.logical_and(spike, T.array('nDTRechitsSector')[:,0,0,8]>25)\n",
    "    spike = np.logical_and(spike, T.array('nDTRechitsSector')[:,0,0,9]>10)\n",
    "\n",
    "########### SELECTION: EVENTS ############\n",
    "    hlt = T['HLTDecision'].array()\n",
    "    # select only triggered events\n",
    "    sel_ev[k] = T.array('METNoMuTrigger')\n",
    "\n",
    "\n",
    "    sel_ev[k] = np.logical_and(sel_ev[k], (T.array('nDtRings')+T.array('nCscRings'))<10)\n",
    "    sel_ev[k] = np.logical_and(sel_ev[k] ,T.array('metEENoise') > 200)\n",
    "    sel_ev[k] = np.logical_and(sel_ev[k] , sel_jet.sum()>=1)\n",
    "    sel_ev[k] = np.logical_and(sel_ev[k],T.array('Flag2_all'))\n",
    "    sel_ev[k] = np.logical_and(sel_ev[k],np.logical_not(spike))\n",
    "\n",
    "    if category == 0:\n",
    "        sel_ev[k]  = np.logical_and(sel_ev[k],sel_csccluster.sum() == 2)\n",
    "        sel_ev[k]  = np.logical_and(sel_ev[k],sel_dtcluster.sum() == 0)\n",
    "    elif category == 1:\n",
    "        sel_ev[k]  = np.logical_and(sel_ev[k],sel_dtcluster.sum() == 2)\n",
    "        sel_ev[k]  = np.logical_and(sel_ev[k],sel_csccluster.sum() == 0)\n",
    "    else:\n",
    "        sel_ev[k]  = np.logical_and(sel_ev[k],sel_csccluster.sum() == 1)\n",
    "        sel_ev[k]  = np.logical_and(sel_ev[k],sel_dtcluster.sum() == 1)\n",
    "\n",
    "    \n",
    "########### BRANCHES ############\n",
    "\n",
    "    \n",
    "   \n",
    "    if category == 0:\n",
    "#         cluster1 = T.array('evtNum')[sel_ev[k]]%2\n",
    "#         cluster1 = np.column_stack((cluster1,np.logical_not(cluster1)))\n",
    "#         cluster1 = np.argwhere(cluster1)[:,1]\n",
    "#         cluster2 = 1-cluster1\n",
    "        cscRechitClusterMuonVetoPt[k] = T.array('cscRechitCluster' + cluster_index + 'MuonVetoPt')[sel_csccluster][sel_ev[k]]\n",
    "        cscRechitClusterJetVetoPt[k] = T.array('cscRechitCluster' + cluster_index + 'JetVetoPt')[sel_csccluster][sel_ev[k]]\n",
    "        cscRechitClusterPhi[k] = T.array('cscRechitCluster' + cluster_index + 'Phi')[sel_csccluster][sel_ev[k]]\n",
    "        cscRechitClusterEta[k] = T.array('cscRechitCluster' + cluster_index + 'Eta')[sel_csccluster][sel_ev[k]]\n",
    "        cscClusterSize[k] =  T.array('cscRechitCluster' + cluster_index + 'Size')[sel_csccluster][sel_ev[k]]\n",
    "        cscRechitClusterTime[k] =  T.array('cscRechitCluster' + cluster_index + 'TimeTotal')[sel_csccluster][sel_ev[k]]\n",
    "        cscRechitClusterNStation[k] =  T.array('cscRechitCluster' + cluster_index + 'NStation10')[sel_csccluster][sel_ev[k]]  \n",
    "        cscRechitClusterMe11Ratio[k] =  T.array('cscRechitCluster' + cluster_index + 'Me11Ratio')[sel_csccluster][sel_ev[k]]  \n",
    "        cscRechitClusterMe12Ratio[k] =  T.array('cscRechitCluster' + cluster_index + 'Me12Ratio')[sel_csccluster][sel_ev[k]]  \n",
    "\n",
    "        \n",
    "        cscRechitClusterMe11[k] = (T.array('cscRechitCluster' + cluster_index + 'NRechitChamberPlus11') + T.array('cscRechitCluster' + cluster_index + 'NRechitChamberMinus11'))[sel_csccluster][sel_ev[k]]  \n",
    "\n",
    "        nCscClusters[k] = sel_csccluster.sum()[sel_ev[k]]\n",
    "        cscRechitClusterDphi[k] =  deltaPhi(T.array('cscRechitClusterPhi')[sel_csccluster][sel_ev[k]][:,0], T.array('cscRechitClusterPhi')[sel_csccluster][sel_ev[k]][:,1])\n",
    "\n",
    "    elif category == 1:\n",
    "\n",
    "        dtRechitClusterDphi[k] =  deltaPhi(T.array('dtRechitClusterPhi')[sel_dtcluster][sel_ev[k]][:,0], T.array('dtRechitClusterPhi')[sel_dtcluster][sel_ev[k]][:,1])\n",
    "\n",
    "        dtRechitClusterNSegmentStation1[k]=  T.array('dtRechitClusterNSegmentStation1')[sel_dtcluster][sel_ev[k]]\n",
    "        dtRechitClusterNSegmentStation2[k]=  T.array('dtRechitClusterNSegmentStation2')[sel_dtcluster][sel_ev[k]]\n",
    "        dtRechitClusterNSegmentStation3[k]=  T.array('dtRechitClusterNSegmentStation3')[sel_dtcluster][sel_ev[k]]\n",
    "        dtRechitClusterNSegmentStation4[k]=  T.array('dtRechitClusterNSegmentStation4')[sel_dtcluster][sel_ev[k]]\n",
    "        dtRechitClusterNOppositeSegStation1[k]=  T.array('dtRechitClusterNOppositeSegStation1')[sel_dtcluster][sel_ev[k]]\n",
    "        dtRechitClusterNOppositeSegStation2[k]=  T.array('dtRechitClusterNOppositeSegStation2')[sel_dtcluster][sel_ev[k]]\n",
    "        dtRechitClusterNOppositeSegStation3[k]=  T.array('dtRechitClusterNOppositeSegStation3')[sel_dtcluster][sel_ev[k]]\n",
    "        dtRechitClusterNOppositeSegStation4[k]=  T.array('dtRechitClusterNOppositeSegStation4')[sel_dtcluster][sel_ev[k]]\n",
    "        dtRechitClusterNSegStation1[k]=  T.array('dtRechitClusterNSegStation1')[sel_dtcluster][sel_ev[k]]\n",
    "        dtRechitClusterNSegStation2[k]=  T.array('dtRechitClusterNSegStation2')[sel_dtcluster][sel_ev[k]]\n",
    "        dtRechitClusterNSegStation3[k]=  T.array('dtRechitClusterNSegStation3')[sel_dtcluster][sel_ev[k]]\n",
    "        dtRechitClusterNSegStation4[k]=  T.array('dtRechitClusterNSegStation4')[sel_dtcluster][sel_ev[k]]\n",
    "        dtRechitClusterMuonVetoPt[k] = T.array('dtRechitClusterMuonVetoPt')[sel_dtcluster][sel_ev[k]]\n",
    "        dtRechitClusterJetVetoPt[k] = T.array('dtRechitClusterJetVetoPt')[sel_dtcluster][sel_ev[k]]\n",
    "        dtRechitClusterPhi[k] = T.array('dtRechitClusterPhi')[sel_dtcluster][sel_ev[k]]\n",
    "        dtRechitClusterEta[k] = T.array('dtRechitClusterEta')[sel_dtcluster][sel_ev[k]]\n",
    "        dtClusterSize[k] =  T.array('dtRechitClusterSize')[sel_dtcluster][sel_ev[k]]\n",
    "        dtRechitClusterTime[k] =  T.array('dtRechitCluster_match_RPCBx_dPhi0p5')[sel_dtcluster][sel_ev[k]]\n",
    "        dtRechitClusterTime[k] =  T.array('dtRechitCluster_match_RPCBx_dPhi0p5')[sel_dtcluster][sel_ev[k]]\n",
    "        dtRechitClusterNStation[k] =  T.array('dtRechitClusterNStation10')[sel_dtcluster][sel_ev[k]]\n",
    "        dtRechitClusterDPhiMet[k] =  T.array('dtRechitClusterMetEENoise_dPhi')[sel_dtcluster][sel_ev[k]]\n",
    "        dtRechitClusterMaxStation[k] =  T.array('dtRechitClusterMaxStation')[sel_dtcluster][sel_ev[k]]\n",
    "        dtRechitClusterMaxStationRatio[k] =  T.array('dtRechitClusterMaxStationRatio')[sel_dtcluster][sel_ev[k]]\n",
    "\n",
    "        dtRechitClusterDphi[k] =  deltaPhi(T.array('dtRechitClusterPhi')[sel_dtcluster][sel_ev[k]][:,0], T.array('dtRechitClusterPhi')[sel_dtcluster][sel_ev[k]][:,1])\n",
    "\n",
    "        dtRechitClusterMaxDPhi[k] = T.array('dtRechitClusterMaxDPhi')[sel_dtcluster][sel_ev[k]]\n",
    "        \n",
    "        dtRechitCluster_match_RPChits_dPhi0p5[k] = T.array('dtRechitCluster_match_RPChits_dPhi0p5')[sel_dtcluster][sel_ev[k]]\n",
    "        \n",
    "        dtSegPhi[k] = T.array('dtSegPhi')[sel_ev[k]]\n",
    "    else:\n",
    "        dtRechitClusterNSegmentStation1[k]=  T.array('dtRechitClusterNSegmentStation1')[sel_dtcluster][sel_ev[k]][:,0]\n",
    "        dtRechitClusterNSegmentStation2[k]=  T.array('dtRechitClusterNSegmentStation2')[sel_dtcluster][sel_ev[k]][:,0]\n",
    "        dtRechitClusterNSegmentStation3[k]=  T.array('dtRechitClusterNSegmentStation3')[sel_dtcluster][sel_ev[k]][:,0]\n",
    "        dtRechitClusterNSegmentStation4[k]=  T.array('dtRechitClusterNSegmentStation4')[sel_dtcluster][sel_ev[k]][:,0]\n",
    "        dtRechitClusterNOppositeSegStation1[k]=  T.array('dtRechitClusterNOppositeSegStation1')[sel_dtcluster][sel_ev[k]][:,0]\n",
    "        dtRechitClusterNOppositeSegStation2[k]=  T.array('dtRechitClusterNOppositeSegStation2')[sel_dtcluster][sel_ev[k]][:,0]\n",
    "        dtRechitClusterNOppositeSegStation3[k]=  T.array('dtRechitClusterNOppositeSegStation3')[sel_dtcluster][sel_ev[k]][:,0]\n",
    "        dtRechitClusterNOppositeSegStation4[k]=  T.array('dtRechitClusterNOppositeSegStation4')[sel_dtcluster][sel_ev[k]][:,0]\n",
    "        dtRechitClusterMuonVetoPt[k] = T.array('dtRechitClusterMuonVetoPt')[sel_dtcluster][sel_ev[k]][:,0]\n",
    "        dtRechitClusterJetVetoPt[k] = T.array('dtRechitClusterJetVetoPt')[sel_dtcluster][sel_ev[k]][:,0]\n",
    "        dtRechitClusterPhi[k] = T.array('dtRechitClusterPhi')[sel_dtcluster][sel_ev[k]][:,0]\n",
    "        dtRechitClusterEta[k] = T.array('dtRechitClusterEta')[sel_dtcluster][sel_ev[k]][:,0]\n",
    "        dtClusterSize[k] =  T.array('dtRechitClusterSize')[sel_dtcluster][sel_ev[k]][:,0]\n",
    "        dtRechitClusterTime[k] =  T.array('dtRechitCluster_match_RPCBx_dPhi0p5')[sel_dtcluster][sel_ev[k]][:,0]\n",
    "        dtRechitClusterNStation[k] =  T.array('dtRechitClusterNStation10')[sel_dtcluster][sel_ev[k]][:,0]\n",
    "        dtRechitClusterMaxStation[k] =  T.array('dtRechitClusterMaxStation')[sel_dtcluster][sel_ev[k]][:,0]\n",
    "        dtRechitClusterMaxStationRatio[k] =  T.array('dtRechitClusterMaxStationRatio')[sel_dtcluster][sel_ev[k]][:,0]\n",
    "        dtRechitCluster_match_RPChits_dPhi0p5[k] = T.array('dtRechitCluster_match_RPChits_dPhi0p5')[sel_dtcluster][sel_ev[k]][:,0]\n",
    "\n",
    "        cscRechitClusterMuonVetoPt[k] = T.array('cscRechitCluster' + cluster_index + 'MuonVetoPt')[sel_csccluster][sel_ev[k]][:,0]\n",
    "        cscRechitClusterJetVetoPt[k] = T.array('cscRechitCluster' + cluster_index + 'JetVetoPt')[sel_csccluster][sel_ev[k]][:,0]\n",
    "        cscRechitClusterPhi[k] = T.array('cscRechitCluster' + cluster_index + 'Phi')[sel_csccluster][sel_ev[k]][:,0]\n",
    "        cscRechitClusterEta[k] = T.array('cscRechitCluster' + cluster_index + 'Eta')[sel_csccluster][sel_ev[k]][:,0]\n",
    "        cscClusterSize[k] =  T.array('cscRechitCluster' + cluster_index + 'Size')[sel_csccluster][sel_ev[k]][:,0]\n",
    "        cscRechitClusterTime[k] =  T.array('cscRechitCluster' + cluster_index + 'TimeTotal')[sel_csccluster][sel_ev[k]][:,0]\n",
    "        cscRechitClusterNStation[k] =  T.array('cscRechitCluster' + cluster_index + 'NStation10')[sel_csccluster][sel_ev[k]][:,0]\n",
    "        cscRechitClusterMaxStation[k] =  T.array('cscRechitCluster' + cluster_index + 'MaxStation')[sel_csccluster][sel_ev[k]][:,0]\n",
    "\n",
    "        cscRechitClusterMe11Ratio[k] =  T.array('cscRechitCluster' + cluster_index + 'Me11Ratio')[sel_csccluster][sel_ev[k]][:,0]\n",
    "        cscRechitClusterMe12Ratio[k] =  T.array('cscRechitCluster' + cluster_index + 'Me12Ratio')[sel_csccluster][sel_ev[k]][:,0] \n",
    "        cscRechitClusterMe11[k] = (T.array('cscRechitCluster' + cluster_index + 'NRechitChamberPlus11') + T.array('cscRechitCluster' + cluster_index + 'NRechitChamberMinus11'))[sel_csccluster][sel_ev[k]][:,0] \n",
    "        cscRechitClusterMe12[k] = (T.array('cscRechitCluster' + cluster_index + 'NRechitChamberPlus12') + T.array('cscRechitCluster' + cluster_index + 'NRechitChamberMinus12'))[sel_csccluster][sel_ev[k]][:,0] \n",
    "\n",
    "        \n",
    "        deltaRCluster[k] = deltaR(dtRechitClusterEta[k], dtRechitClusterPhi[k],cscRechitClusterEta[k], cscRechitClusterPhi[k])\n",
    "        \n",
    "        \n",
    "        cscRechitClusterDPhiMet[k] = np.abs(T.array('cscRechitCluster' + cluster_index + 'MetEENoise_dPhi'))[sel_csccluster][sel_ev[k]][:,0]\n",
    "        dtRechitClusterDPhiMet[k] = np.abs(T.array('dtRechitClusterMetEENoise_dPhi'))[sel_dtcluster][sel_ev[k]][:,0]\n",
    "        \n",
    "        \n",
    "    nDtRings[k] = T.array('nDtRings')[sel_ev[k]]\n",
    "    nCscRings[k] = T.array('nCscRings')[sel_ev[k]]\n",
    "        \n",
    "#     cosmicTwoLegCluster1NStation[k] = T.array('cosmicTwoLegCluster1NStation')[sel_ev[k]]\n",
    "#     cosmicTwoLegCluster2NStation[k] = T.array('cosmicTwoLegCluster2NStation')[sel_ev[k]]\n",
    "\n",
    "#     cosmicTwoLegClusterChi2Reduced[k] = T.array('cosmicTwoLegClusterChi2Reduced')[sel_ev[k]]\n",
    "    metPhi[k] = T.array('metPhiEENoise')[sel_ev[k]]\n",
    "\n",
    "#     dtSegR = ((T.array('dtSegX')**2+T.array('dtSegY')**2)**0.5)[sel_ev[k]]\n",
    "#     dtSegNStation[k] = np.zeros((np.count_nonzero(sel_ev[k])))\n",
    "#     dtSegNStation[k] = ((dtSegR<500).sum()>1).astype(int)\n",
    "#     dtSegNStation[k] += ((np.logical_and(dtSegR>=500, dtSegR<600)).sum()>1).astype(int)\n",
    "#     dtSegNStation[k] += ((np.logical_and(dtSegR>=600, dtSegR<700)).sum()>1).astype(int)\n",
    "#     dtSegNStation[k] += ((dtSegR>=700).sum()>1).astype(int)\n",
    "\n",
    "    \n",
    "\n",
    "    evtNum[k] = T.array('evtNum')[sel_ev[k]]\n",
    "    runNum[k] = T.array('runNum')[sel_ev[k]]\n",
    "    lumiNum[k] = T.array('lumiSec')[sel_ev[k]]"
   ]
  },
  {
   "cell_type": "code",
   "execution_count": 156,
   "metadata": {},
   "outputs": [
    {
     "data": {
      "text/plain": [
       "<JaggedArray [[5]] at 0x7f75ee590be0>"
      ]
     },
     "execution_count": 156,
     "metadata": {},
     "output_type": "execute_result"
    }
   ],
   "source": [
    "T.array('dtRechitCluster_match_RPChits_dPhi0p5')[sel_dtcluster][sel_ev[k]]"
   ]
  },
  {
   "cell_type": "code",
   "execution_count": 172,
   "metadata": {},
   "outputs": [
    {
     "data": {
      "text/plain": [
       "array([0.], dtype=float32)"
      ]
     },
     "execution_count": 172,
     "metadata": {},
     "output_type": "execute_result"
    }
   ],
   "source": [
    "cscRechitClusterJetVetoPt[k]"
   ]
  },
  {
   "cell_type": "markdown",
   "metadata": {},
   "source": [
    "# plot number of hits"
   ]
  },
  {
   "cell_type": "code",
   "execution_count": 158,
   "metadata": {},
   "outputs": [
    {
     "ename": "KeyError",
     "evalue": "'data'",
     "output_type": "error",
     "traceback": [
      "\u001b[0;31m---------------------------------------------------------------------------\u001b[0m",
      "\u001b[0;31mKeyError\u001b[0m                                  Traceback (most recent call last)",
      "\u001b[0;32m<ipython-input-158-2868a9e1e10f>\u001b[0m in \u001b[0;36m<module>\u001b[0;34m\u001b[0m\n\u001b[1;32m      7\u001b[0m     \u001b[0;34m+\u001b[0m\u001b[0;34m(\u001b[0m\u001b[0mdtRechitClusterNSegmentStation3\u001b[0m\u001b[0;34m[\u001b[0m\u001b[0mk\u001b[0m\u001b[0;34m]\u001b[0m\u001b[0;34m>\u001b[0m\u001b[0;36m1\u001b[0m\u001b[0;34m)\u001b[0m\u001b[0;34m.\u001b[0m\u001b[0mastype\u001b[0m\u001b[0;34m(\u001b[0m\u001b[0mint\u001b[0m\u001b[0;34m)\u001b[0m\u001b[0;34m+\u001b[0m\u001b[0;34m(\u001b[0m\u001b[0mdtRechitClusterNSegmentStation4\u001b[0m\u001b[0;34m[\u001b[0m\u001b[0mk\u001b[0m\u001b[0;34m]\u001b[0m\u001b[0;34m>\u001b[0m\u001b[0;36m1\u001b[0m\u001b[0;34m)\u001b[0m\u001b[0;34m.\u001b[0m\u001b[0mastype\u001b[0m\u001b[0;34m(\u001b[0m\u001b[0mint\u001b[0m\u001b[0;34m)\u001b[0m\u001b[0;34m\u001b[0m\u001b[0;34m\u001b[0m\u001b[0m\n\u001b[1;32m      8\u001b[0m     \u001b[0mnstationseg\u001b[0m \u001b[0;34m=\u001b[0m \u001b[0;34m(\u001b[0m\u001b[0mdtRechitClusterNSegStation1\u001b[0m\u001b[0;34m[\u001b[0m\u001b[0mk\u001b[0m\u001b[0;34m]\u001b[0m\u001b[0;34m>\u001b[0m\u001b[0mseg_cut\u001b[0m\u001b[0;34m)\u001b[0m\u001b[0;34m.\u001b[0m\u001b[0mastype\u001b[0m\u001b[0;34m(\u001b[0m\u001b[0mint\u001b[0m\u001b[0;34m)\u001b[0m\u001b[0;34m+\u001b[0m\u001b[0;34m(\u001b[0m\u001b[0mdtRechitClusterNSegStation2\u001b[0m\u001b[0;34m[\u001b[0m\u001b[0mk\u001b[0m\u001b[0;34m]\u001b[0m\u001b[0;34m>\u001b[0m\u001b[0mseg_cut\u001b[0m\u001b[0;34m)\u001b[0m\u001b[0;34m.\u001b[0m\u001b[0mastype\u001b[0m\u001b[0;34m(\u001b[0m\u001b[0mint\u001b[0m\u001b[0;34m)\u001b[0m\u001b[0;31m\\\u001b[0m\u001b[0;34m\u001b[0m\u001b[0;34m\u001b[0m\u001b[0m\n\u001b[0;32m----> 9\u001b[0;31m     \u001b[0;34m+\u001b[0m\u001b[0;34m(\u001b[0m\u001b[0mdtRechitClusterNSegStation3\u001b[0m\u001b[0;34m[\u001b[0m\u001b[0mk\u001b[0m\u001b[0;34m]\u001b[0m\u001b[0;34m>\u001b[0m\u001b[0mseg_cut\u001b[0m\u001b[0;34m)\u001b[0m\u001b[0;34m.\u001b[0m\u001b[0mastype\u001b[0m\u001b[0;34m(\u001b[0m\u001b[0mint\u001b[0m\u001b[0;34m)\u001b[0m\u001b[0;34m+\u001b[0m\u001b[0;34m(\u001b[0m\u001b[0mdtRechitClusterNSegStation4\u001b[0m\u001b[0;34m[\u001b[0m\u001b[0mk\u001b[0m\u001b[0;34m]\u001b[0m\u001b[0;34m>\u001b[0m\u001b[0mseg_cut\u001b[0m\u001b[0;34m)\u001b[0m\u001b[0;34m.\u001b[0m\u001b[0mastype\u001b[0m\u001b[0;34m(\u001b[0m\u001b[0mint\u001b[0m\u001b[0;34m)\u001b[0m\u001b[0;34m\u001b[0m\u001b[0;34m\u001b[0m\u001b[0m\n\u001b[0m\u001b[1;32m     10\u001b[0m     \u001b[0mcond\u001b[0m\u001b[0;34m=\u001b[0m \u001b[0mnp\u001b[0m\u001b[0;34m.\u001b[0m\u001b[0mabs\u001b[0m\u001b[0;34m(\u001b[0m\u001b[0mdtRechitClusterDphi\u001b[0m\u001b[0;34m[\u001b[0m\u001b[0mk\u001b[0m\u001b[0;34m]\u001b[0m\u001b[0;34m)\u001b[0m\u001b[0;34m<\u001b[0m\u001b[0;36m2\u001b[0m\u001b[0;34m\u001b[0m\u001b[0;34m\u001b[0m\u001b[0m\n\u001b[1;32m     11\u001b[0m     \u001b[0mprint\u001b[0m\u001b[0;34m(\u001b[0m\u001b[0mnp\u001b[0m\u001b[0;34m.\u001b[0m\u001b[0mcount_nonzero\u001b[0m\u001b[0;34m(\u001b[0m\u001b[0mcond\u001b[0m\u001b[0;34m)\u001b[0m\u001b[0;34m,\u001b[0m \u001b[0mlen\u001b[0m\u001b[0;34m(\u001b[0m\u001b[0mcond\u001b[0m\u001b[0;34m)\u001b[0m\u001b[0;34m)\u001b[0m\u001b[0;34m\u001b[0m\u001b[0;34m\u001b[0m\u001b[0m\n",
      "\u001b[0;31mKeyError\u001b[0m: 'data'"
     ]
    }
   ],
   "source": [
    "c  = rt.TCanvas()\n",
    "for k in runNum.keys():\n",
    "#     if not k == 'data':continue\n",
    "    seg_cut = 0\n",
    "    rechit_cut = 0\n",
    "    nstation = (dtRechitClusterNSegmentStation1[k]>1).astype(int)+(dtRechitClusterNSegmentStation2[k]>1).astype(int)\\\n",
    "    +(dtRechitClusterNSegmentStation3[k]>1).astype(int)+(dtRechitClusterNSegmentStation4[k]>1).astype(int)\n",
    "    nstationseg = (dtRechitClusterNSegStation1[k]>seg_cut).astype(int)+(dtRechitClusterNSegStation2[k]>seg_cut).astype(int)\\\n",
    "    +(dtRechitClusterNSegStation3[k]>seg_cut).astype(int)+(dtRechitClusterNSegStation4[k]>seg_cut).astype(int)\n",
    "    cond= np.abs(dtRechitClusterDphi[k])<2\n",
    "    print(np.count_nonzero(cond), len(cond))\n",
    "    tmp= np.abs(dtRechitClusterDphi[k])<2\n",
    "#     cond = np.logical_and(cond, dtRechitClusterMaxDPhi[k][:,0]<2)\n",
    "#     cond = np.logical_and(cond, dtRechitClusterMaxDPhi[k][:,1]<2)\n",
    "    sel_muon1 = np.logical_and(dtRechitClusterNOppositeSegStation1[k][:,0]>0, dtRechitClusterNOppositeSegStation2[k][:,0]>0)\n",
    "    sel_muon1 = np.logical_and(sel_muon1, dtRechitClusterNOppositeSegStation3[k][:,0]>0)\n",
    "    sel_muon1 = np.logical_and(sel_muon1, dtRechitClusterNOppositeSegStation4[k][:,0]>0)\n",
    "#     sel_muon1 = np.logical_and(sel_muon1, dtRechitClusterNOppositeSegStation1[k][:,0]+dtRechitClusterNOppositeSegStation2[k][:,0]\\\n",
    "#                            +dtRechitClusterNOppositeSegStation3[k][:,0]+dtRechitClusterNOppositeSegStation4[k][:,0]>=6)\n",
    "    sel_muon2 = np.logical_and(dtRechitClusterNOppositeSegStation1[k][:,1]>0, dtRechitClusterNOppositeSegStation2[k][:,1]>0)\n",
    "    sel_muon2 = np.logical_and(sel_muon2, dtRechitClusterNOppositeSegStation3[k][:,1]>0)\n",
    "    sel_muon2 = np.logical_and(sel_muon2, dtRechitClusterNOppositeSegStation4[k][:,1]>0)\n",
    "#     sel_muon2 = np.logical_and(sel_muon2, dtRechitClusterNOppositeSegStation1[k][:,1]+dtRechitClusterNOppositeSegStation2[k][:,1]\\\n",
    "#                            +dtRechitClusterNOppositeSegStation3[k][:,1]+dtRechitClusterNOppositeSegStation4[k][:,1]>=6)\n",
    "    cond = np.logical_and(cond, np.logical_not(np.logical_and(nstation[:,0]>=3, sel_muon1)))\n",
    "    cond = np.logical_and(cond,  np.logical_not(np.logical_and(nstation[:,1]>=3, sel_muon2)))\n",
    "\n",
    "    print((dtRechitClusterNOppositeSegStation1[k]+dtRechitClusterNOppositeSegStation2[k]\\\n",
    "                           +dtRechitClusterNOppositeSegStation3[k]+dtRechitClusterNOppositeSegStation4[k]).flatten())\n",
    "#     plt.hist( (dtRechitClusterNOppositeSegStation1[k][:,1]+dtRechitClusterNOppositeSegStation2[k][:,1]\\\n",
    "#                            +dtRechitClusterNOppositeSegStation3[k][:,1]+dtRechitClusterNOppositeSegStation4[k][:,1]), bins = 50, range = (0,50),density=1,histtype='step')\n",
    "    h = create_TH1D(\n",
    "                    \n",
    "                    bins = 50, range = (0,50),density=1,histtype='step')\n",
    "\n",
    "    \n",
    "c.Draw()\n"
   ]
  },
  {
   "cell_type": "code",
   "execution_count": 75,
   "metadata": {},
   "outputs": [
    {
     "name": "stdout",
     "output_type": "stream",
     "text": [
      "[ True  True  True  True  True] [ True  True  True  True  True]\n"
     ]
    },
    {
     "name": "stderr",
     "output_type": "stream",
     "text": [
      "Warning in <TCanvas::Constructor>: Deleting canvas with same name: c\n",
      "Info in <TCanvas::Print>: png file /storage/af/user/christiw/gpu/christiw/llp/delayed_jet_analyzer/plots/MuonSystem_Analysis/double_tag/cosmic_muon/ndtsegments_dphigt2.png has been created\n",
      "Info in <TCanvas::SaveSource>: C++ Macro file: /storage/af/user/christiw/gpu/christiw/llp/delayed_jet_analyzer/plots/MuonSystem_Analysis/double_tag/cosmic_muon/ndtsegments_dphigt2.C has been generated\n",
      "Info in <TCanvas::Print>: pdf file /storage/af/user/christiw/gpu/christiw/llp/delayed_jet_analyzer/plots/MuonSystem_Analysis/double_tag/cosmic_muon/ndtsegments_dphigt2.pdf has been created\n"
     ]
    },
    {
     "data": {
      "image/png": "[encoded data removed]",
      "text/plain": [
       "<IPython.core.display.Image object>"
      ]
     },
     "metadata": {},
     "output_type": "display_data"
    }
   ],
   "source": [
    "c = rt.TCanvas('c','c', 800, 800)\n",
    "leg = rt.TLegend(0.6,0.7,0.80,0.92)\n",
    "\n",
    "\n",
    "leg.SetTextSize(0.03)\n",
    "leg.SetBorderSize(0)\n",
    "leg.SetEntrySeparation(0.01)\n",
    "h = {}\n",
    "\n",
    "sel_muon2 = np.logical_and(dtRechitClusterNOppositeSegStation1[k][:,1]>0, dtRechitClusterNOppositeSegStation2[k][:,1]>0)\n",
    "sel_muon2 = np.logical_and(sel_muon2, dtRechitClusterNOppositeSegStation3[k][:,1]>0)\n",
    "sel_muon2 = np.logical_and(sel_muon2, dtRechitClusterNOppositeSegStation4[k][:,1]>0)\n",
    "\n",
    "sel_muon1 = np.logical_and(dtRechitClusterNOppositeSegStation1[k][:,0]>0, dtRechitClusterNOppositeSegStation2[k][:,0]>0)\n",
    "sel_muon1 = np.logical_and(sel_muon1, dtRechitClusterNOppositeSegStation3[k][:,0]>0)\n",
    "sel_muon1 = np.logical_and(sel_muon1, dtRechitClusterNOppositeSegStation4[k][:,0]>0)\n",
    "print(sel_muon1, sel_muon2)\n",
    "\n",
    "\n",
    "h[k] = create_TH1D((dtRechitClusterNOppositeSegStation1[k]+dtRechitClusterNOppositeSegStation2[k]\\\n",
    "                           +dtRechitClusterNOppositeSegStation3[k]+dtRechitClusterNOppositeSegStation4[k]).flatten(),\\\n",
    "                   axis_title = ['N_{dt segments}', 'Fraction of events'], binning = [60,0,60])\n",
    "\n",
    "h[k].Draw('')\n",
    "leg.Draw()\n",
    "c.SetRightMargin(0.04)\n",
    "plot_path = '/storage/af/user/christiw/gpu/christiw/llp/delayed_jet_analyzer/plots/MuonSystem_Analysis/double_tag/cosmic_muon/'\n",
    "c.Draw()\n",
    "c.SaveAs(plot_path + 'ndtsegments_dphigt2.png')\n",
    "c.SaveAs(plot_path + 'ndtsegments_dphigt2.C')\n",
    "c.SaveAs(plot_path + 'ndtsegments_dphigt2.pdf')"
   ]
  },
  {
   "cell_type": "code",
   "execution_count": 147,
   "metadata": {},
   "outputs": [
    {
     "data": {
      "text/plain": [
       "array([171280648,  67076232, 408846841,  68479309, 463937698],\n",
       "      dtype=uint32)"
      ]
     },
     "execution_count": 147,
     "metadata": {},
     "output_type": "execute_result"
    }
   ],
   "source": [
    "evtNum[k]"
   ]
  },
  {
   "cell_type": "markdown",
   "metadata": {},
   "source": [
    "# plot dPhi of segment and cluster"
   ]
  },
  {
   "cell_type": "code",
   "execution_count": 152,
   "metadata": {},
   "outputs": [
    {
     "name": "stdout",
     "output_type": "stream",
     "text": [
      "[[2.6018643 -2.984148] [-2.9928336 1.9893378] [0.8238364 -1.0778214] [1.1020359 1.8430666] [-2.628633 2.6952457]]\n",
      "[[3 2] [3 1] [3 4] [3 2] [2 2]]\n",
      "[[92 81] [120 92] [125 121] [97 67] [134 67]]\n",
      "[-0.6971731  1.301014   1.9016578 -0.7410307  0.9593067]\n",
      "[171280648  67076232 408846841  68479309 463937698]\n",
      "67076232\n"
     ]
    },
    {
     "name": "stderr",
     "output_type": "stream",
     "text": [
      "Warning in <TCanvas::Constructor>: Deleting canvas with same name: c\n",
      "Info in <TCanvas::Print>: png file /storage/af/user/christiw/gpu/christiw/llp/delayed_jet_analyzer/plots/MuonSystem_Analysis/double_tag/cosmic_muon/dPhi_seg_cluster_evt67076232_dphiCluster1p3.png has been created\n",
      "Info in <TCanvas::Print>: pdf file /storage/af/user/christiw/gpu/christiw/llp/delayed_jet_analyzer/plots/MuonSystem_Analysis/double_tag/cosmic_muon/dPhi_seg_cluster_evt67076232_dphiCluster1p3.pdf has been created\n",
      "Info in <TCanvas::SaveSource>: C++ Macro file: /storage/af/user/christiw/gpu/christiw/llp/delayed_jet_analyzer/plots/MuonSystem_Analysis/double_tag/cosmic_muon/dPhi_seg_cluster_evt67076232_dphiCluster1p3.C has been generated\n"
     ]
    },
    {
     "data": {
      "image/png": "[encoded data removed]",
      "text/plain": [
       "<IPython.core.display.Image object>"
      ]
     },
     "metadata": {},
     "output_type": "display_data"
    }
   ],
   "source": [
    "\n",
    "dphi = deltaPhi(dtRechitClusterPhi[k][:,0],dtRechitClusterPhi[k][:,1])\n",
    "print(dtRechitClusterPhi[k])\n",
    "print(dtRechitClusterNStation[k])\n",
    "print(dtClusterSize[k])\n",
    "print(dphi)\n",
    "print(evtNum[k])\n",
    "for i in range(len(dtRechitClusterPhi[k])):\n",
    "    if not i == 1:continue\n",
    "    c = rt.TCanvas('c','c', 800, 800)\n",
    "\n",
    "    h = {}\n",
    "    deltaPhiSeg0 = []\n",
    "    deltaPhiSeg1 = []\n",
    "    deltaPhiSeg0 += list(deltaPhi(dtSegPhi[k][i], dtRechitClusterPhi[k][i,0]))\n",
    "\n",
    "    deltaPhiSeg1 += list(deltaPhi(dtSegPhi[k][i], dtRechitClusterPhi[k][i,1]))\n",
    "\n",
    "    print(evtNum[k][i])\n",
    "    \n",
    "    deltaPhiSeg0 = np.abs(np.array(deltaPhiSeg0))\n",
    "    deltaPhiSeg1 = np.abs(np.array(deltaPhiSeg1))\n",
    "    # cond = np.logical_and(deltaPhiSeg0>0.4,deltaPhiSeg1>0.4)\n",
    "    cond = np.logical_and(deltaPhiSeg0>=0.0,deltaPhiSeg1>=0.0)\n",
    "\n",
    "\n",
    "    h[k] = create_TH1D(np.abs(list(deltaPhiSeg0[cond])+list(deltaPhiSeg1[cond])),axis_title = ['#Delta#phi', 'Fraction of events'], binning = [60,0,4])\n",
    "    # h[k] = create_TH1D((dtRechitClusterNOppositeSegStation1[k]).flatten(),\\\n",
    "    #                    axis_title = ['N_{dt segments}', 'Fraction of events'], binning = [60,0,60])\n",
    "\n",
    "    h[k].Draw('')\n",
    "    # leg.Draw()\n",
    "    # c.SetRightMargin(0.04)\n",
    "    c.Draw()\n",
    "    plot_path = '/storage/af/user/christiw/gpu/christiw/llp/delayed_jet_analyzer/plots/MuonSystem_Analysis/double_tag/cosmic_muon/'\n",
    "    c.SaveAs(plot_path + 'dPhi_seg_cluster_evt'+str(evtNum[k][i])+'_dphiCluster'+str(round(abs(dphi[i]),2)).replace('.','p')+'.png')\n",
    "\n",
    "    c.SaveAs(plot_path + 'dPhi_seg_cluster_evt'+str(evtNum[k][i])+'_dphiCluster'+str(round(abs(dphi[i]),2)).replace('.','p')+'.pdf')\n",
    "\n",
    "    c.SaveAs(plot_path + 'dPhi_seg_cluster_evt'+str(evtNum[k][i])+'_dphiCluster'+str(round(abs(dphi[i]),2)).replace('.','p')+'.C')\n"
   ]
  },
  {
   "cell_type": "code",
   "execution_count": 261,
   "metadata": {},
   "outputs": [
    {
     "name": "stdout",
     "output_type": "stream",
     "text": [
      "228964571 [4 4] [2 3] [0.8405797 0.5125   ] [207  80] [0.316239 0.316239] [0 2] [0 1] [1 1] [1 4]\n"
     ]
    }
   ],
   "source": [
    "# print evtNum for event display\n",
    "k = 'data'\n",
    "cond= np.abs(dtRechitClusterDphi[k])<2\n",
    "cond = np.logical_and(cond, evtNum[k] == 228964571)\n",
    "nstation = (dtRechitClusterNSegmentStation1[k]>1).astype(int)+(dtRechitClusterNSegmentStation2[k]>1).astype(int)\\\n",
    "    +(dtRechitClusterNSegmentStation3[k]>1).astype(int)+(dtRechitClusterNSegmentStation4[k]>1).astype(int)\n",
    "for i in range(len(evtNum[k][cond])):\n",
    "#     print(str(runNum[k][i])+':'+str(lumiNum[k][i])+':'+str(evtNum[k][i]), nstation[i])\n",
    "#     print(str(runNum[k][i])+':'+str(lumiNum[k][i])+':'+str(evtNum[k][i]))\n",
    "    print(evtNum[k][cond][i], nstation[cond][i], dtRechitClusterNStation[k][cond][i], dtRechitClusterMaxStationRatio[k][cond][i], dtClusterSize[k][cond][i], dtRechitClusterMaxDPhi[k][cond][i],\\\n",
    "         dtRechitClusterNOppositeSegStation1[k][cond][i], dtRechitClusterNOppositeSegStation2[k][cond][i], dtRechitClusterNOppositeSegStation3[k][cond][i], dtRechitClusterNOppositeSegStation4[k][cond][i])\n",
    "    "
   ]
  },
  {
   "cell_type": "code",
   "execution_count": null,
   "metadata": {},
   "outputs": [],
   "source": [
    "171280648 [4 2] [3 2] [0.6086956  0.56790125] [92 81] [2.590912  1.8937392] [3 4] [4 3] [20  2] [3 2]\n",
    "67076232 [4 1] [3 1] [0.7583333  0.98913044] [120  92] [2.7384048 2.2934895] [16  8] [7 7] [4 3] [21 23]\n",
    "408846841 [4 4] [3 4] [0.48       0.38842976] [125 121] [2.5581636 1.9016578] [2 1] [22  1] [7 3] [11  6]\n",
    "68479309 [4 3] [3 2] [0.52577317 0.76119405] [97 67] [2.7001202 2.8420343] [1 1] [1 3] [3 3] [1 1]\n",
    "476483009 [3 4] [3 4] [0.85795456 0.37209302] [176 129] [2.8683367 2.801993 ] [33 33] [9 9] [10  8] [6 6]\n",
    "463937698 [4 2] [2 2] [0.52238804 0.6865672 ] [134  67] [2.7655973 2.5582814] [4 5] [36 36] [10 10] [2 2]"
   ]
  },
  {
   "cell_type": "code",
   "execution_count": 215,
   "metadata": {},
   "outputs": [
    {
     "ename": "SyntaxError",
     "evalue": "invalid syntax (<ipython-input-215-c29779244560>, line 1)",
     "output_type": "error",
     "traceback": [
      "\u001b[0;36m  File \u001b[0;32m\"<ipython-input-215-c29779244560>\"\u001b[0;36m, line \u001b[0;32m1\u001b[0m\n\u001b[0;31m    CSC-CSC inverted dPhi:\u001b[0m\n\u001b[0m                   ^\u001b[0m\n\u001b[0;31mSyntaxError\u001b[0m\u001b[0;31m:\u001b[0m invalid syntax\n"
     ]
    }
   ],
   "source": [
    "CSC-CSC inverted dPhi:\n",
    "    320804:650:983620368\n",
    "CSC-DT inverted dPhi:\n",
    "    302388:350:413723949\n",
    "321988:86:89523852"
   ]
  },
  {
   "cell_type": "markdown",
   "metadata": {},
   "source": [
    "# plots"
   ]
  },
  {
   "cell_type": "code",
   "execution_count": 104,
   "metadata": {},
   "outputs": [
    {
     "name": "stdout",
     "output_type": "stream",
     "text": [
      "data 30.0\n",
      "m7ctau1000 26.0\n",
      "m15ctau1000 47.0\n",
      "m40ctau1000 41.0\n",
      "m55ctau1000 4.0\n"
     ]
    },
    {
     "name": "stderr",
     "output_type": "stream",
     "text": [
      "Warning in <TCanvas::Constructor>: Deleting canvas with same name: c\n",
      "Warning in <TROOT::Append>: Replacing existing TH1: h (Potential memory leak).\n",
      "Warning in <TROOT::Append>: Replacing existing TH1: h (Potential memory leak).\n",
      "Warning in <TROOT::Append>: Replacing existing TH1: h (Potential memory leak).\n",
      "Warning in <TROOT::Append>: Replacing existing TH1: h (Potential memory leak).\n"
     ]
    },
    {
     "data": {
      "image/png": "[encoded data removed]",
      "text/plain": [
       "<IPython.core.display.Image object>"
      ]
     },
     "metadata": {},
     "output_type": "display_data"
    }
   ],
   "source": [
    "assert(category == 1)\n",
    "\n",
    "\n",
    "var = [cosmicTwoLegCluster1NStation, cosmicTwoLegCluster2NStation, cosmicTwoLegClusterChi2Reduced]\n",
    "name = ['cosmicTwoLegCluster1NStation', 'cosmicTwoLegCluster2NStation', 'cosmicTwoLegClusterChi2Reduced']\n",
    "\n",
    "xaxis = ['cosmicTwoLegCluster1NStation', 'cosmicTwoLegCluster2NStation', '#chi^{2} [m^{2}]']\n",
    "\n",
    "\n",
    "\n",
    "bins = [ [20,0,1]]*4\n",
    "\n",
    "\n",
    "for index in range(len(var)):\n",
    "    if not index == 2:continue\n",
    "    c = rt.TCanvas('c','c', 800, 800)\n",
    "    leg = rt.TLegend(0.5,0.7,0.75,0.92)\n",
    "    leg.SetTextSize(0.03)\n",
    "    leg.SetBorderSize(0)\n",
    "    leg.SetEntrySeparation(0.01)\n",
    "    h = {}\n",
    "\n",
    "    for i, k in enumerate(var[index].keys()):\n",
    "#         if not k == 'data':continue\n",
    "        cond = dtSegNStation[k] == 4\n",
    "        sel_cosmic = np.logical_and(cosmicTwoLegCluster2NStation[k]>=2,cosmicTwoLegCluster1NStation[k]>=2)\n",
    "#         sel_cosmic = np.logical_and(sel_cosmic, cosmicTwoLegClusterChi2Reduced[k]<2500)\n",
    "        cond = np.logical_and(cond, sel_cosmic.sum()>=1)\n",
    "\n",
    "#         h[k] = create_TH1D(np.abs(var[index][k][cond]).min()/10000, axis_title = [xaxis[index], 'Fraction of events'], binning = bins[index])\n",
    "\n",
    "#         h[k] = create_TH1D(var[index][k][cond].max()/10000, axis_title = [xaxis[index], 'Fraction of events'], binning = bins[index])\n",
    "#         h[k] = create_TH1D(sel_cosmic.sum()[cond], axis_title = ['Number of comics', 'Fraction of events'], binning = [10,0,10])\n",
    "\n",
    "\n",
    "#         print(k, np.count_nonzero(var[index][k][cond].max()<0.15)/np.count_nonzero(cond))\n",
    "        if k == 'data':leg.AddEntry(h[k],k)\n",
    "        else: leg.AddEntry(h[k],'m_{S} = ' + k[k.find('m')+1:k.find('ctau')] + ' GeV, c#tau = 1 m')\n",
    "\n",
    "        print(k,h[k].Integral())\n",
    "\n",
    "\n",
    "        h[k].SetLineColor(std_color_list[i])\n",
    "        if h[k].Integral()>0:h[k].Scale(1./h[k].Integral())\n",
    "\n",
    "\n",
    "        if index == 4:h[k].SetMaximum(5)\n",
    "        else: h[k].SetMaximum(1.5)\n",
    "        h[k].SetMinimum(0.002)\n",
    "        h[k].Draw('hist same')\n",
    "    leg.Draw()\n",
    "    c.SetRightMargin(0.05)\n",
    "\n",
    "\n",
    "    # if setlog: \n",
    "    c.SetLogy()\n",
    "    c.Draw()\n",
    "    plot_path = '/storage/af/user/christiw/gpu/christiw/llp/delayed_jet_analyzer/plots/MuonSystem_Analysis/double_tag/selection_plots'\n",
    "#     c.SaveAs(plot_path+v2+'/'+name[index]+\".png\")\n",
    "#     c.SaveAs(plot_path+v2+'/'+name[index]+\".pdf\")\n",
    "#     c.SaveAs(plot_path+v2+'/'+name[index]+\".C\")\n",
    "\n",
    "\n",
    "\n",
    "\n"
   ]
  },
  {
   "cell_type": "code",
   "execution_count": 60,
   "metadata": {},
   "outputs": [
    {
     "data": {
      "text/plain": [
       "array([5.87972510e+03, 3.81996680e+03, 1.52017090e+03, 1.45161836e+04,\n",
       "       1.32595283e+04,           -inf, 1.74131943e+02, 3.51116028e+02,\n",
       "       2.40681046e+02, 9.13655664e+03, 4.68797577e+02, 7.22154053e+02,\n",
       "       9.88765076e+02, 2.88525781e+04, 1.98423499e+03,           -inf,\n",
       "       1.17404180e+04, 6.43932471e+03, 7.60830469e+03, 1.75385681e+02,\n",
       "       1.01940889e+04, 4.84755371e+03, 5.28886377e+03, 6.25209595e+02,\n",
       "       4.37599316e+03, 4.37619843e+02, 4.01679736e+03, 2.21901367e+02,\n",
       "       1.09848230e+03, 8.03158750e+04, 2.73346826e+03, 3.07036499e+03,\n",
       "       9.18064514e+02,           -inf, 6.61548779e+03, 9.26797852e+02,\n",
       "       4.42592871e+03, 5.29763367e+02, 1.04253883e+01,           -inf,\n",
       "       1.62128967e+03,           -inf, 3.13895813e+02, 3.07739105e+02,\n",
       "       9.45043262e+03, 2.38224121e+03, 1.07671234e+05, 3.44390820e+03,\n",
       "       5.12728455e+02, 2.46400122e+03, 6.95778359e+04, 1.74298376e+03,\n",
       "       2.55152393e+03, 2.05362036e+03, 3.17409393e+02, 1.07151147e+03,\n",
       "       1.70187659e+03, 1.41747168e+03, 5.07457471e+03, 6.45703857e+03,\n",
       "       1.51143867e+04, 5.68081726e+02, 1.75508594e+04, 2.63879043e+04,\n",
       "       6.84699609e+04, 4.97964219e+04, 3.02445239e+03, 1.37530205e+04,\n",
       "       2.13152759e+03, 3.02665527e+04,           -inf, 2.28393750e+04,\n",
       "       9.91310959e+01, 3.48352695e+04,           -inf, 9.89454529e+02,\n",
       "                 -inf, 5.69858350e+03, 2.42810352e+04,           -inf,\n",
       "       9.98564355e+03, 4.64668359e+03, 1.06656628e+03, 7.84098755e+02,\n",
       "       3.51879053e+03, 1.97497696e+02, 2.66245923e+03,           -inf,\n",
       "       2.37642109e+04, 2.17817520e+02,           -inf, 7.74912061e+03,\n",
       "       6.16671814e+02, 2.34595125e+05, 6.32920459e+03,           -inf,\n",
       "       2.04379473e+04, 4.51513789e+04, 2.36825996e+04, 1.17259546e+03,\n",
       "       6.05978271e+03, 6.57477783e+02,           -inf, 2.55009922e+04,\n",
       "       6.12853125e+03,           -inf, 1.45433789e+03, 2.41623611e+02,\n",
       "       1.06645789e+03,           -inf,           -inf,           -inf,\n",
       "       3.00142207e+04, 1.93998262e+04, 2.19333954e+02, 6.10870508e+03,\n",
       "       2.68040664e+04,           -inf,           -inf,           -inf,\n",
       "       7.41728699e+02], dtype=float32)"
      ]
     },
     "execution_count": 60,
     "metadata": {},
     "output_type": "execute_result"
    }
   ],
   "source": [
    "var[index][k][cond].max()"
   ]
  },
  {
   "cell_type": "code",
   "execution_count": null,
   "metadata": {},
   "outputs": [],
   "source": []
  }
 ],
 "metadata": {
  "kernelspec": {
   "display_name": "Python 3",
   "language": "python",
   "name": "python3"
  },
  "language_info": {
   "codemirror_mode": {
    "name": "ipython",
    "version": 3
   },
   "file_extension": ".py",
   "mimetype": "text/x-python",
   "name": "python",
   "nbconvert_exporter": "python",
   "pygments_lexer": "ipython3",
   "version": "3.6.8"
  }
 },
 "nbformat": 4,
 "nbformat_minor": 4
}
